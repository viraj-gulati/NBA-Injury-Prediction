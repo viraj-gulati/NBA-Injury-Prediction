{
 "cells": [
  {
   "attachments": {},
   "cell_type": "markdown",
   "metadata": {},
   "source": [
    "## Data Collection and Cleaning"
   ]
  },
  {
   "attachments": {},
   "cell_type": "markdown",
   "metadata": {},
   "source": [
    "First we get a collection of the last years worth of player injuries "
   ]
  },
  {
   "cell_type": "code",
   "execution_count": 198,
   "metadata": {},
   "outputs": [
    {
     "name": "stderr",
     "output_type": "stream",
     "text": [
      "/var/folders/7z/7q00pypj1_sf2clps66cxc9r0000gn/T/ipykernel_2964/2765107248.py:32: FutureWarning: Passing literal html to 'read_html' is deprecated and will be removed in a future version. To read from a literal string, wrap it in a 'StringIO' object.\n",
      "  df = pd.read_html(str(table))[0]\n",
      "/var/folders/7z/7q00pypj1_sf2clps66cxc9r0000gn/T/ipykernel_2964/2765107248.py:32: FutureWarning: Passing literal html to 'read_html' is deprecated and will be removed in a future version. To read from a literal string, wrap it in a 'StringIO' object.\n",
      "  df = pd.read_html(str(table))[0]\n",
      "/var/folders/7z/7q00pypj1_sf2clps66cxc9r0000gn/T/ipykernel_2964/2765107248.py:32: FutureWarning: Passing literal html to 'read_html' is deprecated and will be removed in a future version. To read from a literal string, wrap it in a 'StringIO' object.\n",
      "  df = pd.read_html(str(table))[0]\n",
      "/var/folders/7z/7q00pypj1_sf2clps66cxc9r0000gn/T/ipykernel_2964/2765107248.py:32: FutureWarning: Passing literal html to 'read_html' is deprecated and will be removed in a future version. To read from a literal string, wrap it in a 'StringIO' object.\n",
      "  df = pd.read_html(str(table))[0]\n",
      "/var/folders/7z/7q00pypj1_sf2clps66cxc9r0000gn/T/ipykernel_2964/2765107248.py:32: FutureWarning: Passing literal html to 'read_html' is deprecated and will be removed in a future version. To read from a literal string, wrap it in a 'StringIO' object.\n",
      "  df = pd.read_html(str(table))[0]\n",
      "/var/folders/7z/7q00pypj1_sf2clps66cxc9r0000gn/T/ipykernel_2964/2765107248.py:32: FutureWarning: Passing literal html to 'read_html' is deprecated and will be removed in a future version. To read from a literal string, wrap it in a 'StringIO' object.\n",
      "  df = pd.read_html(str(table))[0]\n",
      "/var/folders/7z/7q00pypj1_sf2clps66cxc9r0000gn/T/ipykernel_2964/2765107248.py:32: FutureWarning: Passing literal html to 'read_html' is deprecated and will be removed in a future version. To read from a literal string, wrap it in a 'StringIO' object.\n",
      "  df = pd.read_html(str(table))[0]\n",
      "/var/folders/7z/7q00pypj1_sf2clps66cxc9r0000gn/T/ipykernel_2964/2765107248.py:32: FutureWarning: Passing literal html to 'read_html' is deprecated and will be removed in a future version. To read from a literal string, wrap it in a 'StringIO' object.\n",
      "  df = pd.read_html(str(table))[0]\n",
      "/var/folders/7z/7q00pypj1_sf2clps66cxc9r0000gn/T/ipykernel_2964/2765107248.py:32: FutureWarning: Passing literal html to 'read_html' is deprecated and will be removed in a future version. To read from a literal string, wrap it in a 'StringIO' object.\n",
      "  df = pd.read_html(str(table))[0]\n",
      "/var/folders/7z/7q00pypj1_sf2clps66cxc9r0000gn/T/ipykernel_2964/2765107248.py:32: FutureWarning: Passing literal html to 'read_html' is deprecated and will be removed in a future version. To read from a literal string, wrap it in a 'StringIO' object.\n",
      "  df = pd.read_html(str(table))[0]\n",
      "/var/folders/7z/7q00pypj1_sf2clps66cxc9r0000gn/T/ipykernel_2964/2765107248.py:32: FutureWarning: Passing literal html to 'read_html' is deprecated and will be removed in a future version. To read from a literal string, wrap it in a 'StringIO' object.\n",
      "  df = pd.read_html(str(table))[0]\n",
      "/var/folders/7z/7q00pypj1_sf2clps66cxc9r0000gn/T/ipykernel_2964/2765107248.py:32: FutureWarning: Passing literal html to 'read_html' is deprecated and will be removed in a future version. To read from a literal string, wrap it in a 'StringIO' object.\n",
      "  df = pd.read_html(str(table))[0]\n",
      "/var/folders/7z/7q00pypj1_sf2clps66cxc9r0000gn/T/ipykernel_2964/2765107248.py:32: FutureWarning: Passing literal html to 'read_html' is deprecated and will be removed in a future version. To read from a literal string, wrap it in a 'StringIO' object.\n",
      "  df = pd.read_html(str(table))[0]\n",
      "/var/folders/7z/7q00pypj1_sf2clps66cxc9r0000gn/T/ipykernel_2964/2765107248.py:32: FutureWarning: Passing literal html to 'read_html' is deprecated and will be removed in a future version. To read from a literal string, wrap it in a 'StringIO' object.\n",
      "  df = pd.read_html(str(table))[0]\n",
      "/var/folders/7z/7q00pypj1_sf2clps66cxc9r0000gn/T/ipykernel_2964/2765107248.py:32: FutureWarning: Passing literal html to 'read_html' is deprecated and will be removed in a future version. To read from a literal string, wrap it in a 'StringIO' object.\n",
      "  df = pd.read_html(str(table))[0]\n",
      "/var/folders/7z/7q00pypj1_sf2clps66cxc9r0000gn/T/ipykernel_2964/2765107248.py:32: FutureWarning: Passing literal html to 'read_html' is deprecated and will be removed in a future version. To read from a literal string, wrap it in a 'StringIO' object.\n",
      "  df = pd.read_html(str(table))[0]\n",
      "/var/folders/7z/7q00pypj1_sf2clps66cxc9r0000gn/T/ipykernel_2964/2765107248.py:32: FutureWarning: Passing literal html to 'read_html' is deprecated and will be removed in a future version. To read from a literal string, wrap it in a 'StringIO' object.\n",
      "  df = pd.read_html(str(table))[0]\n",
      "/var/folders/7z/7q00pypj1_sf2clps66cxc9r0000gn/T/ipykernel_2964/2765107248.py:32: FutureWarning: Passing literal html to 'read_html' is deprecated and will be removed in a future version. To read from a literal string, wrap it in a 'StringIO' object.\n",
      "  df = pd.read_html(str(table))[0]\n",
      "/var/folders/7z/7q00pypj1_sf2clps66cxc9r0000gn/T/ipykernel_2964/2765107248.py:32: FutureWarning: Passing literal html to 'read_html' is deprecated and will be removed in a future version. To read from a literal string, wrap it in a 'StringIO' object.\n",
      "  df = pd.read_html(str(table))[0]\n",
      "/var/folders/7z/7q00pypj1_sf2clps66cxc9r0000gn/T/ipykernel_2964/2765107248.py:32: FutureWarning: Passing literal html to 'read_html' is deprecated and will be removed in a future version. To read from a literal string, wrap it in a 'StringIO' object.\n",
      "  df = pd.read_html(str(table))[0]\n",
      "/var/folders/7z/7q00pypj1_sf2clps66cxc9r0000gn/T/ipykernel_2964/2765107248.py:32: FutureWarning: Passing literal html to 'read_html' is deprecated and will be removed in a future version. To read from a literal string, wrap it in a 'StringIO' object.\n",
      "  df = pd.read_html(str(table))[0]\n",
      "/var/folders/7z/7q00pypj1_sf2clps66cxc9r0000gn/T/ipykernel_2964/2765107248.py:32: FutureWarning: Passing literal html to 'read_html' is deprecated and will be removed in a future version. To read from a literal string, wrap it in a 'StringIO' object.\n",
      "  df = pd.read_html(str(table))[0]\n",
      "/var/folders/7z/7q00pypj1_sf2clps66cxc9r0000gn/T/ipykernel_2964/2765107248.py:32: FutureWarning: Passing literal html to 'read_html' is deprecated and will be removed in a future version. To read from a literal string, wrap it in a 'StringIO' object.\n",
      "  df = pd.read_html(str(table))[0]\n",
      "/var/folders/7z/7q00pypj1_sf2clps66cxc9r0000gn/T/ipykernel_2964/2765107248.py:32: FutureWarning: Passing literal html to 'read_html' is deprecated and will be removed in a future version. To read from a literal string, wrap it in a 'StringIO' object.\n",
      "  df = pd.read_html(str(table))[0]\n",
      "/var/folders/7z/7q00pypj1_sf2clps66cxc9r0000gn/T/ipykernel_2964/2765107248.py:32: FutureWarning: Passing literal html to 'read_html' is deprecated and will be removed in a future version. To read from a literal string, wrap it in a 'StringIO' object.\n",
      "  df = pd.read_html(str(table))[0]\n",
      "/var/folders/7z/7q00pypj1_sf2clps66cxc9r0000gn/T/ipykernel_2964/2765107248.py:32: FutureWarning: Passing literal html to 'read_html' is deprecated and will be removed in a future version. To read from a literal string, wrap it in a 'StringIO' object.\n",
      "  df = pd.read_html(str(table))[0]\n",
      "/var/folders/7z/7q00pypj1_sf2clps66cxc9r0000gn/T/ipykernel_2964/2765107248.py:32: FutureWarning: Passing literal html to 'read_html' is deprecated and will be removed in a future version. To read from a literal string, wrap it in a 'StringIO' object.\n",
      "  df = pd.read_html(str(table))[0]\n",
      "/var/folders/7z/7q00pypj1_sf2clps66cxc9r0000gn/T/ipykernel_2964/2765107248.py:32: FutureWarning: Passing literal html to 'read_html' is deprecated and will be removed in a future version. To read from a literal string, wrap it in a 'StringIO' object.\n",
      "  df = pd.read_html(str(table))[0]\n",
      "/var/folders/7z/7q00pypj1_sf2clps66cxc9r0000gn/T/ipykernel_2964/2765107248.py:32: FutureWarning: Passing literal html to 'read_html' is deprecated and will be removed in a future version. To read from a literal string, wrap it in a 'StringIO' object.\n",
      "  df = pd.read_html(str(table))[0]\n",
      "/var/folders/7z/7q00pypj1_sf2clps66cxc9r0000gn/T/ipykernel_2964/2765107248.py:32: FutureWarning: Passing literal html to 'read_html' is deprecated and will be removed in a future version. To read from a literal string, wrap it in a 'StringIO' object.\n",
      "  df = pd.read_html(str(table))[0]\n",
      "/var/folders/7z/7q00pypj1_sf2clps66cxc9r0000gn/T/ipykernel_2964/2765107248.py:32: FutureWarning: Passing literal html to 'read_html' is deprecated and will be removed in a future version. To read from a literal string, wrap it in a 'StringIO' object.\n",
      "  df = pd.read_html(str(table))[0]\n",
      "/var/folders/7z/7q00pypj1_sf2clps66cxc9r0000gn/T/ipykernel_2964/2765107248.py:32: FutureWarning: Passing literal html to 'read_html' is deprecated and will be removed in a future version. To read from a literal string, wrap it in a 'StringIO' object.\n",
      "  df = pd.read_html(str(table))[0]\n",
      "/var/folders/7z/7q00pypj1_sf2clps66cxc9r0000gn/T/ipykernel_2964/2765107248.py:32: FutureWarning: Passing literal html to 'read_html' is deprecated and will be removed in a future version. To read from a literal string, wrap it in a 'StringIO' object.\n",
      "  df = pd.read_html(str(table))[0]\n",
      "/var/folders/7z/7q00pypj1_sf2clps66cxc9r0000gn/T/ipykernel_2964/2765107248.py:32: FutureWarning: Passing literal html to 'read_html' is deprecated and will be removed in a future version. To read from a literal string, wrap it in a 'StringIO' object.\n",
      "  df = pd.read_html(str(table))[0]\n",
      "/var/folders/7z/7q00pypj1_sf2clps66cxc9r0000gn/T/ipykernel_2964/2765107248.py:32: FutureWarning: Passing literal html to 'read_html' is deprecated and will be removed in a future version. To read from a literal string, wrap it in a 'StringIO' object.\n",
      "  df = pd.read_html(str(table))[0]\n",
      "/var/folders/7z/7q00pypj1_sf2clps66cxc9r0000gn/T/ipykernel_2964/2765107248.py:32: FutureWarning: Passing literal html to 'read_html' is deprecated and will be removed in a future version. To read from a literal string, wrap it in a 'StringIO' object.\n",
      "  df = pd.read_html(str(table))[0]\n",
      "/var/folders/7z/7q00pypj1_sf2clps66cxc9r0000gn/T/ipykernel_2964/2765107248.py:32: FutureWarning: Passing literal html to 'read_html' is deprecated and will be removed in a future version. To read from a literal string, wrap it in a 'StringIO' object.\n",
      "  df = pd.read_html(str(table))[0]\n",
      "/var/folders/7z/7q00pypj1_sf2clps66cxc9r0000gn/T/ipykernel_2964/2765107248.py:32: FutureWarning: Passing literal html to 'read_html' is deprecated and will be removed in a future version. To read from a literal string, wrap it in a 'StringIO' object.\n",
      "  df = pd.read_html(str(table))[0]\n",
      "/var/folders/7z/7q00pypj1_sf2clps66cxc9r0000gn/T/ipykernel_2964/2765107248.py:32: FutureWarning: Passing literal html to 'read_html' is deprecated and will be removed in a future version. To read from a literal string, wrap it in a 'StringIO' object.\n",
      "  df = pd.read_html(str(table))[0]\n",
      "/var/folders/7z/7q00pypj1_sf2clps66cxc9r0000gn/T/ipykernel_2964/2765107248.py:32: FutureWarning: Passing literal html to 'read_html' is deprecated and will be removed in a future version. To read from a literal string, wrap it in a 'StringIO' object.\n",
      "  df = pd.read_html(str(table))[0]\n",
      "/var/folders/7z/7q00pypj1_sf2clps66cxc9r0000gn/T/ipykernel_2964/2765107248.py:32: FutureWarning: Passing literal html to 'read_html' is deprecated and will be removed in a future version. To read from a literal string, wrap it in a 'StringIO' object.\n",
      "  df = pd.read_html(str(table))[0]\n",
      "/var/folders/7z/7q00pypj1_sf2clps66cxc9r0000gn/T/ipykernel_2964/2765107248.py:32: FutureWarning: Passing literal html to 'read_html' is deprecated and will be removed in a future version. To read from a literal string, wrap it in a 'StringIO' object.\n",
      "  df = pd.read_html(str(table))[0]\n",
      "/var/folders/7z/7q00pypj1_sf2clps66cxc9r0000gn/T/ipykernel_2964/2765107248.py:32: FutureWarning: Passing literal html to 'read_html' is deprecated and will be removed in a future version. To read from a literal string, wrap it in a 'StringIO' object.\n",
      "  df = pd.read_html(str(table))[0]\n",
      "/var/folders/7z/7q00pypj1_sf2clps66cxc9r0000gn/T/ipykernel_2964/2765107248.py:32: FutureWarning: Passing literal html to 'read_html' is deprecated and will be removed in a future version. To read from a literal string, wrap it in a 'StringIO' object.\n",
      "  df = pd.read_html(str(table))[0]\n",
      "/var/folders/7z/7q00pypj1_sf2clps66cxc9r0000gn/T/ipykernel_2964/2765107248.py:32: FutureWarning: Passing literal html to 'read_html' is deprecated and will be removed in a future version. To read from a literal string, wrap it in a 'StringIO' object.\n",
      "  df = pd.read_html(str(table))[0]\n",
      "/var/folders/7z/7q00pypj1_sf2clps66cxc9r0000gn/T/ipykernel_2964/2765107248.py:32: FutureWarning: Passing literal html to 'read_html' is deprecated and will be removed in a future version. To read from a literal string, wrap it in a 'StringIO' object.\n",
      "  df = pd.read_html(str(table))[0]\n",
      "/var/folders/7z/7q00pypj1_sf2clps66cxc9r0000gn/T/ipykernel_2964/2765107248.py:32: FutureWarning: Passing literal html to 'read_html' is deprecated and will be removed in a future version. To read from a literal string, wrap it in a 'StringIO' object.\n",
      "  df = pd.read_html(str(table))[0]\n",
      "/var/folders/7z/7q00pypj1_sf2clps66cxc9r0000gn/T/ipykernel_2964/2765107248.py:32: FutureWarning: Passing literal html to 'read_html' is deprecated and will be removed in a future version. To read from a literal string, wrap it in a 'StringIO' object.\n",
      "  df = pd.read_html(str(table))[0]\n",
      "/var/folders/7z/7q00pypj1_sf2clps66cxc9r0000gn/T/ipykernel_2964/2765107248.py:32: FutureWarning: Passing literal html to 'read_html' is deprecated and will be removed in a future version. To read from a literal string, wrap it in a 'StringIO' object.\n",
      "  df = pd.read_html(str(table))[0]\n",
      "/var/folders/7z/7q00pypj1_sf2clps66cxc9r0000gn/T/ipykernel_2964/2765107248.py:32: FutureWarning: Passing literal html to 'read_html' is deprecated and will be removed in a future version. To read from a literal string, wrap it in a 'StringIO' object.\n",
      "  df = pd.read_html(str(table))[0]\n",
      "/var/folders/7z/7q00pypj1_sf2clps66cxc9r0000gn/T/ipykernel_2964/2765107248.py:32: FutureWarning: Passing literal html to 'read_html' is deprecated and will be removed in a future version. To read from a literal string, wrap it in a 'StringIO' object.\n",
      "  df = pd.read_html(str(table))[0]\n",
      "/var/folders/7z/7q00pypj1_sf2clps66cxc9r0000gn/T/ipykernel_2964/2765107248.py:32: FutureWarning: Passing literal html to 'read_html' is deprecated and will be removed in a future version. To read from a literal string, wrap it in a 'StringIO' object.\n",
      "  df = pd.read_html(str(table))[0]\n",
      "/var/folders/7z/7q00pypj1_sf2clps66cxc9r0000gn/T/ipykernel_2964/2765107248.py:32: FutureWarning: Passing literal html to 'read_html' is deprecated and will be removed in a future version. To read from a literal string, wrap it in a 'StringIO' object.\n",
      "  df = pd.read_html(str(table))[0]\n",
      "/var/folders/7z/7q00pypj1_sf2clps66cxc9r0000gn/T/ipykernel_2964/2765107248.py:32: FutureWarning: Passing literal html to 'read_html' is deprecated and will be removed in a future version. To read from a literal string, wrap it in a 'StringIO' object.\n",
      "  df = pd.read_html(str(table))[0]\n",
      "/var/folders/7z/7q00pypj1_sf2clps66cxc9r0000gn/T/ipykernel_2964/2765107248.py:32: FutureWarning: Passing literal html to 'read_html' is deprecated and will be removed in a future version. To read from a literal string, wrap it in a 'StringIO' object.\n",
      "  df = pd.read_html(str(table))[0]\n",
      "/var/folders/7z/7q00pypj1_sf2clps66cxc9r0000gn/T/ipykernel_2964/2765107248.py:32: FutureWarning: Passing literal html to 'read_html' is deprecated and will be removed in a future version. To read from a literal string, wrap it in a 'StringIO' object.\n",
      "  df = pd.read_html(str(table))[0]\n",
      "/var/folders/7z/7q00pypj1_sf2clps66cxc9r0000gn/T/ipykernel_2964/2765107248.py:32: FutureWarning: Passing literal html to 'read_html' is deprecated and will be removed in a future version. To read from a literal string, wrap it in a 'StringIO' object.\n",
      "  df = pd.read_html(str(table))[0]\n",
      "/var/folders/7z/7q00pypj1_sf2clps66cxc9r0000gn/T/ipykernel_2964/2765107248.py:32: FutureWarning: Passing literal html to 'read_html' is deprecated and will be removed in a future version. To read from a literal string, wrap it in a 'StringIO' object.\n",
      "  df = pd.read_html(str(table))[0]\n",
      "/var/folders/7z/7q00pypj1_sf2clps66cxc9r0000gn/T/ipykernel_2964/2765107248.py:32: FutureWarning: Passing literal html to 'read_html' is deprecated and will be removed in a future version. To read from a literal string, wrap it in a 'StringIO' object.\n",
      "  df = pd.read_html(str(table))[0]\n",
      "/var/folders/7z/7q00pypj1_sf2clps66cxc9r0000gn/T/ipykernel_2964/2765107248.py:32: FutureWarning: Passing literal html to 'read_html' is deprecated and will be removed in a future version. To read from a literal string, wrap it in a 'StringIO' object.\n",
      "  df = pd.read_html(str(table))[0]\n",
      "/var/folders/7z/7q00pypj1_sf2clps66cxc9r0000gn/T/ipykernel_2964/2765107248.py:32: FutureWarning: Passing literal html to 'read_html' is deprecated and will be removed in a future version. To read from a literal string, wrap it in a 'StringIO' object.\n",
      "  df = pd.read_html(str(table))[0]\n",
      "/var/folders/7z/7q00pypj1_sf2clps66cxc9r0000gn/T/ipykernel_2964/2765107248.py:32: FutureWarning: Passing literal html to 'read_html' is deprecated and will be removed in a future version. To read from a literal string, wrap it in a 'StringIO' object.\n",
      "  df = pd.read_html(str(table))[0]\n",
      "/var/folders/7z/7q00pypj1_sf2clps66cxc9r0000gn/T/ipykernel_2964/2765107248.py:32: FutureWarning: Passing literal html to 'read_html' is deprecated and will be removed in a future version. To read from a literal string, wrap it in a 'StringIO' object.\n",
      "  df = pd.read_html(str(table))[0]\n",
      "/var/folders/7z/7q00pypj1_sf2clps66cxc9r0000gn/T/ipykernel_2964/2765107248.py:32: FutureWarning: Passing literal html to 'read_html' is deprecated and will be removed in a future version. To read from a literal string, wrap it in a 'StringIO' object.\n",
      "  df = pd.read_html(str(table))[0]\n",
      "/var/folders/7z/7q00pypj1_sf2clps66cxc9r0000gn/T/ipykernel_2964/2765107248.py:32: FutureWarning: Passing literal html to 'read_html' is deprecated and will be removed in a future version. To read from a literal string, wrap it in a 'StringIO' object.\n",
      "  df = pd.read_html(str(table))[0]\n",
      "/var/folders/7z/7q00pypj1_sf2clps66cxc9r0000gn/T/ipykernel_2964/2765107248.py:32: FutureWarning: Passing literal html to 'read_html' is deprecated and will be removed in a future version. To read from a literal string, wrap it in a 'StringIO' object.\n",
      "  df = pd.read_html(str(table))[0]\n",
      "/var/folders/7z/7q00pypj1_sf2clps66cxc9r0000gn/T/ipykernel_2964/2765107248.py:32: FutureWarning: Passing literal html to 'read_html' is deprecated and will be removed in a future version. To read from a literal string, wrap it in a 'StringIO' object.\n",
      "  df = pd.read_html(str(table))[0]\n",
      "/var/folders/7z/7q00pypj1_sf2clps66cxc9r0000gn/T/ipykernel_2964/2765107248.py:32: FutureWarning: Passing literal html to 'read_html' is deprecated and will be removed in a future version. To read from a literal string, wrap it in a 'StringIO' object.\n",
      "  df = pd.read_html(str(table))[0]\n",
      "/var/folders/7z/7q00pypj1_sf2clps66cxc9r0000gn/T/ipykernel_2964/2765107248.py:32: FutureWarning: Passing literal html to 'read_html' is deprecated and will be removed in a future version. To read from a literal string, wrap it in a 'StringIO' object.\n",
      "  df = pd.read_html(str(table))[0]\n",
      "/var/folders/7z/7q00pypj1_sf2clps66cxc9r0000gn/T/ipykernel_2964/2765107248.py:32: FutureWarning: Passing literal html to 'read_html' is deprecated and will be removed in a future version. To read from a literal string, wrap it in a 'StringIO' object.\n",
      "  df = pd.read_html(str(table))[0]\n",
      "/var/folders/7z/7q00pypj1_sf2clps66cxc9r0000gn/T/ipykernel_2964/2765107248.py:32: FutureWarning: Passing literal html to 'read_html' is deprecated and will be removed in a future version. To read from a literal string, wrap it in a 'StringIO' object.\n",
      "  df = pd.read_html(str(table))[0]\n",
      "/var/folders/7z/7q00pypj1_sf2clps66cxc9r0000gn/T/ipykernel_2964/2765107248.py:32: FutureWarning: Passing literal html to 'read_html' is deprecated and will be removed in a future version. To read from a literal string, wrap it in a 'StringIO' object.\n",
      "  df = pd.read_html(str(table))[0]\n",
      "/var/folders/7z/7q00pypj1_sf2clps66cxc9r0000gn/T/ipykernel_2964/2765107248.py:32: FutureWarning: Passing literal html to 'read_html' is deprecated and will be removed in a future version. To read from a literal string, wrap it in a 'StringIO' object.\n",
      "  df = pd.read_html(str(table))[0]\n",
      "/var/folders/7z/7q00pypj1_sf2clps66cxc9r0000gn/T/ipykernel_2964/2765107248.py:32: FutureWarning: Passing literal html to 'read_html' is deprecated and will be removed in a future version. To read from a literal string, wrap it in a 'StringIO' object.\n",
      "  df = pd.read_html(str(table))[0]\n",
      "/var/folders/7z/7q00pypj1_sf2clps66cxc9r0000gn/T/ipykernel_2964/2765107248.py:32: FutureWarning: Passing literal html to 'read_html' is deprecated and will be removed in a future version. To read from a literal string, wrap it in a 'StringIO' object.\n",
      "  df = pd.read_html(str(table))[0]\n",
      "/var/folders/7z/7q00pypj1_sf2clps66cxc9r0000gn/T/ipykernel_2964/2765107248.py:32: FutureWarning: Passing literal html to 'read_html' is deprecated and will be removed in a future version. To read from a literal string, wrap it in a 'StringIO' object.\n",
      "  df = pd.read_html(str(table))[0]\n",
      "/var/folders/7z/7q00pypj1_sf2clps66cxc9r0000gn/T/ipykernel_2964/2765107248.py:32: FutureWarning: Passing literal html to 'read_html' is deprecated and will be removed in a future version. To read from a literal string, wrap it in a 'StringIO' object.\n",
      "  df = pd.read_html(str(table))[0]\n",
      "/var/folders/7z/7q00pypj1_sf2clps66cxc9r0000gn/T/ipykernel_2964/2765107248.py:32: FutureWarning: Passing literal html to 'read_html' is deprecated and will be removed in a future version. To read from a literal string, wrap it in a 'StringIO' object.\n",
      "  df = pd.read_html(str(table))[0]\n",
      "/var/folders/7z/7q00pypj1_sf2clps66cxc9r0000gn/T/ipykernel_2964/2765107248.py:32: FutureWarning: Passing literal html to 'read_html' is deprecated and will be removed in a future version. To read from a literal string, wrap it in a 'StringIO' object.\n",
      "  df = pd.read_html(str(table))[0]\n",
      "/var/folders/7z/7q00pypj1_sf2clps66cxc9r0000gn/T/ipykernel_2964/2765107248.py:32: FutureWarning: Passing literal html to 'read_html' is deprecated and will be removed in a future version. To read from a literal string, wrap it in a 'StringIO' object.\n",
      "  df = pd.read_html(str(table))[0]\n",
      "/var/folders/7z/7q00pypj1_sf2clps66cxc9r0000gn/T/ipykernel_2964/2765107248.py:32: FutureWarning: Passing literal html to 'read_html' is deprecated and will be removed in a future version. To read from a literal string, wrap it in a 'StringIO' object.\n",
      "  df = pd.read_html(str(table))[0]\n",
      "/var/folders/7z/7q00pypj1_sf2clps66cxc9r0000gn/T/ipykernel_2964/2765107248.py:32: FutureWarning: Passing literal html to 'read_html' is deprecated and will be removed in a future version. To read from a literal string, wrap it in a 'StringIO' object.\n",
      "  df = pd.read_html(str(table))[0]\n",
      "/var/folders/7z/7q00pypj1_sf2clps66cxc9r0000gn/T/ipykernel_2964/2765107248.py:32: FutureWarning: Passing literal html to 'read_html' is deprecated and will be removed in a future version. To read from a literal string, wrap it in a 'StringIO' object.\n",
      "  df = pd.read_html(str(table))[0]\n",
      "/var/folders/7z/7q00pypj1_sf2clps66cxc9r0000gn/T/ipykernel_2964/2765107248.py:32: FutureWarning: Passing literal html to 'read_html' is deprecated and will be removed in a future version. To read from a literal string, wrap it in a 'StringIO' object.\n",
      "  df = pd.read_html(str(table))[0]\n",
      "/var/folders/7z/7q00pypj1_sf2clps66cxc9r0000gn/T/ipykernel_2964/2765107248.py:32: FutureWarning: Passing literal html to 'read_html' is deprecated and will be removed in a future version. To read from a literal string, wrap it in a 'StringIO' object.\n",
      "  df = pd.read_html(str(table))[0]\n",
      "/var/folders/7z/7q00pypj1_sf2clps66cxc9r0000gn/T/ipykernel_2964/2765107248.py:32: FutureWarning: Passing literal html to 'read_html' is deprecated and will be removed in a future version. To read from a literal string, wrap it in a 'StringIO' object.\n",
      "  df = pd.read_html(str(table))[0]\n",
      "/var/folders/7z/7q00pypj1_sf2clps66cxc9r0000gn/T/ipykernel_2964/2765107248.py:32: FutureWarning: Passing literal html to 'read_html' is deprecated and will be removed in a future version. To read from a literal string, wrap it in a 'StringIO' object.\n",
      "  df = pd.read_html(str(table))[0]\n",
      "/var/folders/7z/7q00pypj1_sf2clps66cxc9r0000gn/T/ipykernel_2964/2765107248.py:32: FutureWarning: Passing literal html to 'read_html' is deprecated and will be removed in a future version. To read from a literal string, wrap it in a 'StringIO' object.\n",
      "  df = pd.read_html(str(table))[0]\n",
      "/var/folders/7z/7q00pypj1_sf2clps66cxc9r0000gn/T/ipykernel_2964/2765107248.py:32: FutureWarning: Passing literal html to 'read_html' is deprecated and will be removed in a future version. To read from a literal string, wrap it in a 'StringIO' object.\n",
      "  df = pd.read_html(str(table))[0]\n",
      "/var/folders/7z/7q00pypj1_sf2clps66cxc9r0000gn/T/ipykernel_2964/2765107248.py:32: FutureWarning: Passing literal html to 'read_html' is deprecated and will be removed in a future version. To read from a literal string, wrap it in a 'StringIO' object.\n",
      "  df = pd.read_html(str(table))[0]\n",
      "/var/folders/7z/7q00pypj1_sf2clps66cxc9r0000gn/T/ipykernel_2964/2765107248.py:32: FutureWarning: Passing literal html to 'read_html' is deprecated and will be removed in a future version. To read from a literal string, wrap it in a 'StringIO' object.\n",
      "  df = pd.read_html(str(table))[0]\n",
      "/var/folders/7z/7q00pypj1_sf2clps66cxc9r0000gn/T/ipykernel_2964/2765107248.py:32: FutureWarning: Passing literal html to 'read_html' is deprecated and will be removed in a future version. To read from a literal string, wrap it in a 'StringIO' object.\n",
      "  df = pd.read_html(str(table))[0]\n",
      "/var/folders/7z/7q00pypj1_sf2clps66cxc9r0000gn/T/ipykernel_2964/2765107248.py:32: FutureWarning: Passing literal html to 'read_html' is deprecated and will be removed in a future version. To read from a literal string, wrap it in a 'StringIO' object.\n",
      "  df = pd.read_html(str(table))[0]\n",
      "/var/folders/7z/7q00pypj1_sf2clps66cxc9r0000gn/T/ipykernel_2964/2765107248.py:32: FutureWarning: Passing literal html to 'read_html' is deprecated and will be removed in a future version. To read from a literal string, wrap it in a 'StringIO' object.\n",
      "  df = pd.read_html(str(table))[0]\n",
      "/var/folders/7z/7q00pypj1_sf2clps66cxc9r0000gn/T/ipykernel_2964/2765107248.py:32: FutureWarning: Passing literal html to 'read_html' is deprecated and will be removed in a future version. To read from a literal string, wrap it in a 'StringIO' object.\n",
      "  df = pd.read_html(str(table))[0]\n",
      "/var/folders/7z/7q00pypj1_sf2clps66cxc9r0000gn/T/ipykernel_2964/2765107248.py:32: FutureWarning: Passing literal html to 'read_html' is deprecated and will be removed in a future version. To read from a literal string, wrap it in a 'StringIO' object.\n",
      "  df = pd.read_html(str(table))[0]\n",
      "/var/folders/7z/7q00pypj1_sf2clps66cxc9r0000gn/T/ipykernel_2964/2765107248.py:32: FutureWarning: Passing literal html to 'read_html' is deprecated and will be removed in a future version. To read from a literal string, wrap it in a 'StringIO' object.\n",
      "  df = pd.read_html(str(table))[0]\n",
      "/var/folders/7z/7q00pypj1_sf2clps66cxc9r0000gn/T/ipykernel_2964/2765107248.py:32: FutureWarning: Passing literal html to 'read_html' is deprecated and will be removed in a future version. To read from a literal string, wrap it in a 'StringIO' object.\n",
      "  df = pd.read_html(str(table))[0]\n",
      "/var/folders/7z/7q00pypj1_sf2clps66cxc9r0000gn/T/ipykernel_2964/2765107248.py:32: FutureWarning: Passing literal html to 'read_html' is deprecated and will be removed in a future version. To read from a literal string, wrap it in a 'StringIO' object.\n",
      "  df = pd.read_html(str(table))[0]\n",
      "/var/folders/7z/7q00pypj1_sf2clps66cxc9r0000gn/T/ipykernel_2964/2765107248.py:32: FutureWarning: Passing literal html to 'read_html' is deprecated and will be removed in a future version. To read from a literal string, wrap it in a 'StringIO' object.\n",
      "  df = pd.read_html(str(table))[0]\n",
      "/var/folders/7z/7q00pypj1_sf2clps66cxc9r0000gn/T/ipykernel_2964/2765107248.py:32: FutureWarning: Passing literal html to 'read_html' is deprecated and will be removed in a future version. To read from a literal string, wrap it in a 'StringIO' object.\n",
      "  df = pd.read_html(str(table))[0]\n",
      "/var/folders/7z/7q00pypj1_sf2clps66cxc9r0000gn/T/ipykernel_2964/2765107248.py:32: FutureWarning: Passing literal html to 'read_html' is deprecated and will be removed in a future version. To read from a literal string, wrap it in a 'StringIO' object.\n",
      "  df = pd.read_html(str(table))[0]\n",
      "/var/folders/7z/7q00pypj1_sf2clps66cxc9r0000gn/T/ipykernel_2964/2765107248.py:32: FutureWarning: Passing literal html to 'read_html' is deprecated and will be removed in a future version. To read from a literal string, wrap it in a 'StringIO' object.\n",
      "  df = pd.read_html(str(table))[0]\n",
      "/var/folders/7z/7q00pypj1_sf2clps66cxc9r0000gn/T/ipykernel_2964/2765107248.py:32: FutureWarning: Passing literal html to 'read_html' is deprecated and will be removed in a future version. To read from a literal string, wrap it in a 'StringIO' object.\n",
      "  df = pd.read_html(str(table))[0]\n",
      "/var/folders/7z/7q00pypj1_sf2clps66cxc9r0000gn/T/ipykernel_2964/2765107248.py:32: FutureWarning: Passing literal html to 'read_html' is deprecated and will be removed in a future version. To read from a literal string, wrap it in a 'StringIO' object.\n",
      "  df = pd.read_html(str(table))[0]\n",
      "/var/folders/7z/7q00pypj1_sf2clps66cxc9r0000gn/T/ipykernel_2964/2765107248.py:32: FutureWarning: Passing literal html to 'read_html' is deprecated and will be removed in a future version. To read from a literal string, wrap it in a 'StringIO' object.\n",
      "  df = pd.read_html(str(table))[0]\n",
      "/var/folders/7z/7q00pypj1_sf2clps66cxc9r0000gn/T/ipykernel_2964/2765107248.py:32: FutureWarning: Passing literal html to 'read_html' is deprecated and will be removed in a future version. To read from a literal string, wrap it in a 'StringIO' object.\n",
      "  df = pd.read_html(str(table))[0]\n",
      "/var/folders/7z/7q00pypj1_sf2clps66cxc9r0000gn/T/ipykernel_2964/2765107248.py:32: FutureWarning: Passing literal html to 'read_html' is deprecated and will be removed in a future version. To read from a literal string, wrap it in a 'StringIO' object.\n",
      "  df = pd.read_html(str(table))[0]\n",
      "/var/folders/7z/7q00pypj1_sf2clps66cxc9r0000gn/T/ipykernel_2964/2765107248.py:32: FutureWarning: Passing literal html to 'read_html' is deprecated and will be removed in a future version. To read from a literal string, wrap it in a 'StringIO' object.\n",
      "  df = pd.read_html(str(table))[0]\n",
      "/var/folders/7z/7q00pypj1_sf2clps66cxc9r0000gn/T/ipykernel_2964/2765107248.py:32: FutureWarning: Passing literal html to 'read_html' is deprecated and will be removed in a future version. To read from a literal string, wrap it in a 'StringIO' object.\n",
      "  df = pd.read_html(str(table))[0]\n",
      "/var/folders/7z/7q00pypj1_sf2clps66cxc9r0000gn/T/ipykernel_2964/2765107248.py:32: FutureWarning: Passing literal html to 'read_html' is deprecated and will be removed in a future version. To read from a literal string, wrap it in a 'StringIO' object.\n",
      "  df = pd.read_html(str(table))[0]\n",
      "/var/folders/7z/7q00pypj1_sf2clps66cxc9r0000gn/T/ipykernel_2964/2765107248.py:32: FutureWarning: Passing literal html to 'read_html' is deprecated and will be removed in a future version. To read from a literal string, wrap it in a 'StringIO' object.\n",
      "  df = pd.read_html(str(table))[0]\n",
      "/var/folders/7z/7q00pypj1_sf2clps66cxc9r0000gn/T/ipykernel_2964/2765107248.py:32: FutureWarning: Passing literal html to 'read_html' is deprecated and will be removed in a future version. To read from a literal string, wrap it in a 'StringIO' object.\n",
      "  df = pd.read_html(str(table))[0]\n",
      "/var/folders/7z/7q00pypj1_sf2clps66cxc9r0000gn/T/ipykernel_2964/2765107248.py:32: FutureWarning: Passing literal html to 'read_html' is deprecated and will be removed in a future version. To read from a literal string, wrap it in a 'StringIO' object.\n",
      "  df = pd.read_html(str(table))[0]\n",
      "/var/folders/7z/7q00pypj1_sf2clps66cxc9r0000gn/T/ipykernel_2964/2765107248.py:32: FutureWarning: Passing literal html to 'read_html' is deprecated and will be removed in a future version. To read from a literal string, wrap it in a 'StringIO' object.\n",
      "  df = pd.read_html(str(table))[0]\n",
      "/var/folders/7z/7q00pypj1_sf2clps66cxc9r0000gn/T/ipykernel_2964/2765107248.py:32: FutureWarning: Passing literal html to 'read_html' is deprecated and will be removed in a future version. To read from a literal string, wrap it in a 'StringIO' object.\n",
      "  df = pd.read_html(str(table))[0]\n",
      "/var/folders/7z/7q00pypj1_sf2clps66cxc9r0000gn/T/ipykernel_2964/2765107248.py:32: FutureWarning: Passing literal html to 'read_html' is deprecated and will be removed in a future version. To read from a literal string, wrap it in a 'StringIO' object.\n",
      "  df = pd.read_html(str(table))[0]\n",
      "/var/folders/7z/7q00pypj1_sf2clps66cxc9r0000gn/T/ipykernel_2964/2765107248.py:32: FutureWarning: Passing literal html to 'read_html' is deprecated and will be removed in a future version. To read from a literal string, wrap it in a 'StringIO' object.\n",
      "  df = pd.read_html(str(table))[0]\n",
      "/var/folders/7z/7q00pypj1_sf2clps66cxc9r0000gn/T/ipykernel_2964/2765107248.py:32: FutureWarning: Passing literal html to 'read_html' is deprecated and will be removed in a future version. To read from a literal string, wrap it in a 'StringIO' object.\n",
      "  df = pd.read_html(str(table))[0]\n",
      "/var/folders/7z/7q00pypj1_sf2clps66cxc9r0000gn/T/ipykernel_2964/2765107248.py:32: FutureWarning: Passing literal html to 'read_html' is deprecated and will be removed in a future version. To read from a literal string, wrap it in a 'StringIO' object.\n",
      "  df = pd.read_html(str(table))[0]\n",
      "/var/folders/7z/7q00pypj1_sf2clps66cxc9r0000gn/T/ipykernel_2964/2765107248.py:32: FutureWarning: Passing literal html to 'read_html' is deprecated and will be removed in a future version. To read from a literal string, wrap it in a 'StringIO' object.\n",
      "  df = pd.read_html(str(table))[0]\n",
      "/var/folders/7z/7q00pypj1_sf2clps66cxc9r0000gn/T/ipykernel_2964/2765107248.py:32: FutureWarning: Passing literal html to 'read_html' is deprecated and will be removed in a future version. To read from a literal string, wrap it in a 'StringIO' object.\n",
      "  df = pd.read_html(str(table))[0]\n",
      "/var/folders/7z/7q00pypj1_sf2clps66cxc9r0000gn/T/ipykernel_2964/2765107248.py:32: FutureWarning: Passing literal html to 'read_html' is deprecated and will be removed in a future version. To read from a literal string, wrap it in a 'StringIO' object.\n",
      "  df = pd.read_html(str(table))[0]\n",
      "/var/folders/7z/7q00pypj1_sf2clps66cxc9r0000gn/T/ipykernel_2964/2765107248.py:32: FutureWarning: Passing literal html to 'read_html' is deprecated and will be removed in a future version. To read from a literal string, wrap it in a 'StringIO' object.\n",
      "  df = pd.read_html(str(table))[0]\n",
      "/var/folders/7z/7q00pypj1_sf2clps66cxc9r0000gn/T/ipykernel_2964/2765107248.py:32: FutureWarning: Passing literal html to 'read_html' is deprecated and will be removed in a future version. To read from a literal string, wrap it in a 'StringIO' object.\n",
      "  df = pd.read_html(str(table))[0]\n",
      "/var/folders/7z/7q00pypj1_sf2clps66cxc9r0000gn/T/ipykernel_2964/2765107248.py:32: FutureWarning: Passing literal html to 'read_html' is deprecated and will be removed in a future version. To read from a literal string, wrap it in a 'StringIO' object.\n",
      "  df = pd.read_html(str(table))[0]\n",
      "/var/folders/7z/7q00pypj1_sf2clps66cxc9r0000gn/T/ipykernel_2964/2765107248.py:32: FutureWarning: Passing literal html to 'read_html' is deprecated and will be removed in a future version. To read from a literal string, wrap it in a 'StringIO' object.\n",
      "  df = pd.read_html(str(table))[0]\n",
      "/var/folders/7z/7q00pypj1_sf2clps66cxc9r0000gn/T/ipykernel_2964/2765107248.py:32: FutureWarning: Passing literal html to 'read_html' is deprecated and will be removed in a future version. To read from a literal string, wrap it in a 'StringIO' object.\n",
      "  df = pd.read_html(str(table))[0]\n",
      "/var/folders/7z/7q00pypj1_sf2clps66cxc9r0000gn/T/ipykernel_2964/2765107248.py:32: FutureWarning: Passing literal html to 'read_html' is deprecated and will be removed in a future version. To read from a literal string, wrap it in a 'StringIO' object.\n",
      "  df = pd.read_html(str(table))[0]\n",
      "/var/folders/7z/7q00pypj1_sf2clps66cxc9r0000gn/T/ipykernel_2964/2765107248.py:32: FutureWarning: Passing literal html to 'read_html' is deprecated and will be removed in a future version. To read from a literal string, wrap it in a 'StringIO' object.\n",
      "  df = pd.read_html(str(table))[0]\n",
      "/var/folders/7z/7q00pypj1_sf2clps66cxc9r0000gn/T/ipykernel_2964/2765107248.py:32: FutureWarning: Passing literal html to 'read_html' is deprecated and will be removed in a future version. To read from a literal string, wrap it in a 'StringIO' object.\n",
      "  df = pd.read_html(str(table))[0]\n",
      "/var/folders/7z/7q00pypj1_sf2clps66cxc9r0000gn/T/ipykernel_2964/2765107248.py:32: FutureWarning: Passing literal html to 'read_html' is deprecated and will be removed in a future version. To read from a literal string, wrap it in a 'StringIO' object.\n",
      "  df = pd.read_html(str(table))[0]\n",
      "/var/folders/7z/7q00pypj1_sf2clps66cxc9r0000gn/T/ipykernel_2964/2765107248.py:32: FutureWarning: Passing literal html to 'read_html' is deprecated and will be removed in a future version. To read from a literal string, wrap it in a 'StringIO' object.\n",
      "  df = pd.read_html(str(table))[0]\n",
      "/var/folders/7z/7q00pypj1_sf2clps66cxc9r0000gn/T/ipykernel_2964/2765107248.py:32: FutureWarning: Passing literal html to 'read_html' is deprecated and will be removed in a future version. To read from a literal string, wrap it in a 'StringIO' object.\n",
      "  df = pd.read_html(str(table))[0]\n",
      "/var/folders/7z/7q00pypj1_sf2clps66cxc9r0000gn/T/ipykernel_2964/2765107248.py:32: FutureWarning: Passing literal html to 'read_html' is deprecated and will be removed in a future version. To read from a literal string, wrap it in a 'StringIO' object.\n",
      "  df = pd.read_html(str(table))[0]\n",
      "/var/folders/7z/7q00pypj1_sf2clps66cxc9r0000gn/T/ipykernel_2964/2765107248.py:32: FutureWarning: Passing literal html to 'read_html' is deprecated and will be removed in a future version. To read from a literal string, wrap it in a 'StringIO' object.\n",
      "  df = pd.read_html(str(table))[0]\n",
      "/var/folders/7z/7q00pypj1_sf2clps66cxc9r0000gn/T/ipykernel_2964/2765107248.py:32: FutureWarning: Passing literal html to 'read_html' is deprecated and will be removed in a future version. To read from a literal string, wrap it in a 'StringIO' object.\n",
      "  df = pd.read_html(str(table))[0]\n",
      "/var/folders/7z/7q00pypj1_sf2clps66cxc9r0000gn/T/ipykernel_2964/2765107248.py:32: FutureWarning: Passing literal html to 'read_html' is deprecated and will be removed in a future version. To read from a literal string, wrap it in a 'StringIO' object.\n",
      "  df = pd.read_html(str(table))[0]\n",
      "/var/folders/7z/7q00pypj1_sf2clps66cxc9r0000gn/T/ipykernel_2964/2765107248.py:32: FutureWarning: Passing literal html to 'read_html' is deprecated and will be removed in a future version. To read from a literal string, wrap it in a 'StringIO' object.\n",
      "  df = pd.read_html(str(table))[0]\n",
      "/var/folders/7z/7q00pypj1_sf2clps66cxc9r0000gn/T/ipykernel_2964/2765107248.py:32: FutureWarning: Passing literal html to 'read_html' is deprecated and will be removed in a future version. To read from a literal string, wrap it in a 'StringIO' object.\n",
      "  df = pd.read_html(str(table))[0]\n",
      "/var/folders/7z/7q00pypj1_sf2clps66cxc9r0000gn/T/ipykernel_2964/2765107248.py:32: FutureWarning: Passing literal html to 'read_html' is deprecated and will be removed in a future version. To read from a literal string, wrap it in a 'StringIO' object.\n",
      "  df = pd.read_html(str(table))[0]\n",
      "/var/folders/7z/7q00pypj1_sf2clps66cxc9r0000gn/T/ipykernel_2964/2765107248.py:32: FutureWarning: Passing literal html to 'read_html' is deprecated and will be removed in a future version. To read from a literal string, wrap it in a 'StringIO' object.\n",
      "  df = pd.read_html(str(table))[0]\n",
      "/var/folders/7z/7q00pypj1_sf2clps66cxc9r0000gn/T/ipykernel_2964/2765107248.py:32: FutureWarning: Passing literal html to 'read_html' is deprecated and will be removed in a future version. To read from a literal string, wrap it in a 'StringIO' object.\n",
      "  df = pd.read_html(str(table))[0]\n",
      "/var/folders/7z/7q00pypj1_sf2clps66cxc9r0000gn/T/ipykernel_2964/2765107248.py:32: FutureWarning: Passing literal html to 'read_html' is deprecated and will be removed in a future version. To read from a literal string, wrap it in a 'StringIO' object.\n",
      "  df = pd.read_html(str(table))[0]\n",
      "/var/folders/7z/7q00pypj1_sf2clps66cxc9r0000gn/T/ipykernel_2964/2765107248.py:32: FutureWarning: Passing literal html to 'read_html' is deprecated and will be removed in a future version. To read from a literal string, wrap it in a 'StringIO' object.\n",
      "  df = pd.read_html(str(table))[0]\n",
      "/var/folders/7z/7q00pypj1_sf2clps66cxc9r0000gn/T/ipykernel_2964/2765107248.py:32: FutureWarning: Passing literal html to 'read_html' is deprecated and will be removed in a future version. To read from a literal string, wrap it in a 'StringIO' object.\n",
      "  df = pd.read_html(str(table))[0]\n",
      "/var/folders/7z/7q00pypj1_sf2clps66cxc9r0000gn/T/ipykernel_2964/2765107248.py:32: FutureWarning: Passing literal html to 'read_html' is deprecated and will be removed in a future version. To read from a literal string, wrap it in a 'StringIO' object.\n",
      "  df = pd.read_html(str(table))[0]\n",
      "/var/folders/7z/7q00pypj1_sf2clps66cxc9r0000gn/T/ipykernel_2964/2765107248.py:32: FutureWarning: Passing literal html to 'read_html' is deprecated and will be removed in a future version. To read from a literal string, wrap it in a 'StringIO' object.\n",
      "  df = pd.read_html(str(table))[0]\n",
      "/var/folders/7z/7q00pypj1_sf2clps66cxc9r0000gn/T/ipykernel_2964/2765107248.py:32: FutureWarning: Passing literal html to 'read_html' is deprecated and will be removed in a future version. To read from a literal string, wrap it in a 'StringIO' object.\n",
      "  df = pd.read_html(str(table))[0]\n",
      "/var/folders/7z/7q00pypj1_sf2clps66cxc9r0000gn/T/ipykernel_2964/2765107248.py:32: FutureWarning: Passing literal html to 'read_html' is deprecated and will be removed in a future version. To read from a literal string, wrap it in a 'StringIO' object.\n",
      "  df = pd.read_html(str(table))[0]\n",
      "/var/folders/7z/7q00pypj1_sf2clps66cxc9r0000gn/T/ipykernel_2964/2765107248.py:32: FutureWarning: Passing literal html to 'read_html' is deprecated and will be removed in a future version. To read from a literal string, wrap it in a 'StringIO' object.\n",
      "  df = pd.read_html(str(table))[0]\n",
      "/var/folders/7z/7q00pypj1_sf2clps66cxc9r0000gn/T/ipykernel_2964/2765107248.py:32: FutureWarning: Passing literal html to 'read_html' is deprecated and will be removed in a future version. To read from a literal string, wrap it in a 'StringIO' object.\n",
      "  df = pd.read_html(str(table))[0]\n",
      "/var/folders/7z/7q00pypj1_sf2clps66cxc9r0000gn/T/ipykernel_2964/2765107248.py:32: FutureWarning: Passing literal html to 'read_html' is deprecated and will be removed in a future version. To read from a literal string, wrap it in a 'StringIO' object.\n",
      "  df = pd.read_html(str(table))[0]\n",
      "/var/folders/7z/7q00pypj1_sf2clps66cxc9r0000gn/T/ipykernel_2964/2765107248.py:32: FutureWarning: Passing literal html to 'read_html' is deprecated and will be removed in a future version. To read from a literal string, wrap it in a 'StringIO' object.\n",
      "  df = pd.read_html(str(table))[0]\n",
      "/var/folders/7z/7q00pypj1_sf2clps66cxc9r0000gn/T/ipykernel_2964/2765107248.py:32: FutureWarning: Passing literal html to 'read_html' is deprecated and will be removed in a future version. To read from a literal string, wrap it in a 'StringIO' object.\n",
      "  df = pd.read_html(str(table))[0]\n",
      "/var/folders/7z/7q00pypj1_sf2clps66cxc9r0000gn/T/ipykernel_2964/2765107248.py:32: FutureWarning: Passing literal html to 'read_html' is deprecated and will be removed in a future version. To read from a literal string, wrap it in a 'StringIO' object.\n",
      "  df = pd.read_html(str(table))[0]\n",
      "/var/folders/7z/7q00pypj1_sf2clps66cxc9r0000gn/T/ipykernel_2964/2765107248.py:32: FutureWarning: Passing literal html to 'read_html' is deprecated and will be removed in a future version. To read from a literal string, wrap it in a 'StringIO' object.\n",
      "  df = pd.read_html(str(table))[0]\n",
      "/var/folders/7z/7q00pypj1_sf2clps66cxc9r0000gn/T/ipykernel_2964/2765107248.py:32: FutureWarning: Passing literal html to 'read_html' is deprecated and will be removed in a future version. To read from a literal string, wrap it in a 'StringIO' object.\n",
      "  df = pd.read_html(str(table))[0]\n",
      "/var/folders/7z/7q00pypj1_sf2clps66cxc9r0000gn/T/ipykernel_2964/2765107248.py:32: FutureWarning: Passing literal html to 'read_html' is deprecated and will be removed in a future version. To read from a literal string, wrap it in a 'StringIO' object.\n",
      "  df = pd.read_html(str(table))[0]\n",
      "/var/folders/7z/7q00pypj1_sf2clps66cxc9r0000gn/T/ipykernel_2964/2765107248.py:32: FutureWarning: Passing literal html to 'read_html' is deprecated and will be removed in a future version. To read from a literal string, wrap it in a 'StringIO' object.\n",
      "  df = pd.read_html(str(table))[0]\n",
      "/var/folders/7z/7q00pypj1_sf2clps66cxc9r0000gn/T/ipykernel_2964/2765107248.py:32: FutureWarning: Passing literal html to 'read_html' is deprecated and will be removed in a future version. To read from a literal string, wrap it in a 'StringIO' object.\n",
      "  df = pd.read_html(str(table))[0]\n",
      "/var/folders/7z/7q00pypj1_sf2clps66cxc9r0000gn/T/ipykernel_2964/2765107248.py:32: FutureWarning: Passing literal html to 'read_html' is deprecated and will be removed in a future version. To read from a literal string, wrap it in a 'StringIO' object.\n",
      "  df = pd.read_html(str(table))[0]\n",
      "/var/folders/7z/7q00pypj1_sf2clps66cxc9r0000gn/T/ipykernel_2964/2765107248.py:32: FutureWarning: Passing literal html to 'read_html' is deprecated and will be removed in a future version. To read from a literal string, wrap it in a 'StringIO' object.\n",
      "  df = pd.read_html(str(table))[0]\n",
      "/var/folders/7z/7q00pypj1_sf2clps66cxc9r0000gn/T/ipykernel_2964/2765107248.py:32: FutureWarning: Passing literal html to 'read_html' is deprecated and will be removed in a future version. To read from a literal string, wrap it in a 'StringIO' object.\n",
      "  df = pd.read_html(str(table))[0]\n",
      "/var/folders/7z/7q00pypj1_sf2clps66cxc9r0000gn/T/ipykernel_2964/2765107248.py:32: FutureWarning: Passing literal html to 'read_html' is deprecated and will be removed in a future version. To read from a literal string, wrap it in a 'StringIO' object.\n",
      "  df = pd.read_html(str(table))[0]\n",
      "/var/folders/7z/7q00pypj1_sf2clps66cxc9r0000gn/T/ipykernel_2964/2765107248.py:32: FutureWarning: Passing literal html to 'read_html' is deprecated and will be removed in a future version. To read from a literal string, wrap it in a 'StringIO' object.\n",
      "  df = pd.read_html(str(table))[0]\n",
      "/var/folders/7z/7q00pypj1_sf2clps66cxc9r0000gn/T/ipykernel_2964/2765107248.py:32: FutureWarning: Passing literal html to 'read_html' is deprecated and will be removed in a future version. To read from a literal string, wrap it in a 'StringIO' object.\n",
      "  df = pd.read_html(str(table))[0]\n",
      "/var/folders/7z/7q00pypj1_sf2clps66cxc9r0000gn/T/ipykernel_2964/2765107248.py:32: FutureWarning: Passing literal html to 'read_html' is deprecated and will be removed in a future version. To read from a literal string, wrap it in a 'StringIO' object.\n",
      "  df = pd.read_html(str(table))[0]\n",
      "/var/folders/7z/7q00pypj1_sf2clps66cxc9r0000gn/T/ipykernel_2964/2765107248.py:32: FutureWarning: Passing literal html to 'read_html' is deprecated and will be removed in a future version. To read from a literal string, wrap it in a 'StringIO' object.\n",
      "  df = pd.read_html(str(table))[0]\n",
      "/var/folders/7z/7q00pypj1_sf2clps66cxc9r0000gn/T/ipykernel_2964/2765107248.py:32: FutureWarning: Passing literal html to 'read_html' is deprecated and will be removed in a future version. To read from a literal string, wrap it in a 'StringIO' object.\n",
      "  df = pd.read_html(str(table))[0]\n",
      "/var/folders/7z/7q00pypj1_sf2clps66cxc9r0000gn/T/ipykernel_2964/2765107248.py:32: FutureWarning: Passing literal html to 'read_html' is deprecated and will be removed in a future version. To read from a literal string, wrap it in a 'StringIO' object.\n",
      "  df = pd.read_html(str(table))[0]\n",
      "/var/folders/7z/7q00pypj1_sf2clps66cxc9r0000gn/T/ipykernel_2964/2765107248.py:32: FutureWarning: Passing literal html to 'read_html' is deprecated and will be removed in a future version. To read from a literal string, wrap it in a 'StringIO' object.\n",
      "  df = pd.read_html(str(table))[0]\n",
      "/var/folders/7z/7q00pypj1_sf2clps66cxc9r0000gn/T/ipykernel_2964/2765107248.py:32: FutureWarning: Passing literal html to 'read_html' is deprecated and will be removed in a future version. To read from a literal string, wrap it in a 'StringIO' object.\n",
      "  df = pd.read_html(str(table))[0]\n",
      "/var/folders/7z/7q00pypj1_sf2clps66cxc9r0000gn/T/ipykernel_2964/2765107248.py:32: FutureWarning: Passing literal html to 'read_html' is deprecated and will be removed in a future version. To read from a literal string, wrap it in a 'StringIO' object.\n",
      "  df = pd.read_html(str(table))[0]\n",
      "/var/folders/7z/7q00pypj1_sf2clps66cxc9r0000gn/T/ipykernel_2964/2765107248.py:32: FutureWarning: Passing literal html to 'read_html' is deprecated and will be removed in a future version. To read from a literal string, wrap it in a 'StringIO' object.\n",
      "  df = pd.read_html(str(table))[0]\n",
      "/var/folders/7z/7q00pypj1_sf2clps66cxc9r0000gn/T/ipykernel_2964/2765107248.py:32: FutureWarning: Passing literal html to 'read_html' is deprecated and will be removed in a future version. To read from a literal string, wrap it in a 'StringIO' object.\n",
      "  df = pd.read_html(str(table))[0]\n",
      "/var/folders/7z/7q00pypj1_sf2clps66cxc9r0000gn/T/ipykernel_2964/2765107248.py:32: FutureWarning: Passing literal html to 'read_html' is deprecated and will be removed in a future version. To read from a literal string, wrap it in a 'StringIO' object.\n",
      "  df = pd.read_html(str(table))[0]\n",
      "/var/folders/7z/7q00pypj1_sf2clps66cxc9r0000gn/T/ipykernel_2964/2765107248.py:32: FutureWarning: Passing literal html to 'read_html' is deprecated and will be removed in a future version. To read from a literal string, wrap it in a 'StringIO' object.\n",
      "  df = pd.read_html(str(table))[0]\n",
      "/var/folders/7z/7q00pypj1_sf2clps66cxc9r0000gn/T/ipykernel_2964/2765107248.py:32: FutureWarning: Passing literal html to 'read_html' is deprecated and will be removed in a future version. To read from a literal string, wrap it in a 'StringIO' object.\n",
      "  df = pd.read_html(str(table))[0]\n",
      "/var/folders/7z/7q00pypj1_sf2clps66cxc9r0000gn/T/ipykernel_2964/2765107248.py:32: FutureWarning: Passing literal html to 'read_html' is deprecated and will be removed in a future version. To read from a literal string, wrap it in a 'StringIO' object.\n",
      "  df = pd.read_html(str(table))[0]\n",
      "/var/folders/7z/7q00pypj1_sf2clps66cxc9r0000gn/T/ipykernel_2964/2765107248.py:32: FutureWarning: Passing literal html to 'read_html' is deprecated and will be removed in a future version. To read from a literal string, wrap it in a 'StringIO' object.\n",
      "  df = pd.read_html(str(table))[0]\n",
      "/var/folders/7z/7q00pypj1_sf2clps66cxc9r0000gn/T/ipykernel_2964/2765107248.py:32: FutureWarning: Passing literal html to 'read_html' is deprecated and will be removed in a future version. To read from a literal string, wrap it in a 'StringIO' object.\n",
      "  df = pd.read_html(str(table))[0]\n",
      "/var/folders/7z/7q00pypj1_sf2clps66cxc9r0000gn/T/ipykernel_2964/2765107248.py:32: FutureWarning: Passing literal html to 'read_html' is deprecated and will be removed in a future version. To read from a literal string, wrap it in a 'StringIO' object.\n",
      "  df = pd.read_html(str(table))[0]\n",
      "/var/folders/7z/7q00pypj1_sf2clps66cxc9r0000gn/T/ipykernel_2964/2765107248.py:32: FutureWarning: Passing literal html to 'read_html' is deprecated and will be removed in a future version. To read from a literal string, wrap it in a 'StringIO' object.\n",
      "  df = pd.read_html(str(table))[0]\n",
      "/var/folders/7z/7q00pypj1_sf2clps66cxc9r0000gn/T/ipykernel_2964/2765107248.py:32: FutureWarning: Passing literal html to 'read_html' is deprecated and will be removed in a future version. To read from a literal string, wrap it in a 'StringIO' object.\n",
      "  df = pd.read_html(str(table))[0]\n",
      "/var/folders/7z/7q00pypj1_sf2clps66cxc9r0000gn/T/ipykernel_2964/2765107248.py:32: FutureWarning: Passing literal html to 'read_html' is deprecated and will be removed in a future version. To read from a literal string, wrap it in a 'StringIO' object.\n",
      "  df = pd.read_html(str(table))[0]\n",
      "/var/folders/7z/7q00pypj1_sf2clps66cxc9r0000gn/T/ipykernel_2964/2765107248.py:32: FutureWarning: Passing literal html to 'read_html' is deprecated and will be removed in a future version. To read from a literal string, wrap it in a 'StringIO' object.\n",
      "  df = pd.read_html(str(table))[0]\n",
      "/var/folders/7z/7q00pypj1_sf2clps66cxc9r0000gn/T/ipykernel_2964/2765107248.py:32: FutureWarning: Passing literal html to 'read_html' is deprecated and will be removed in a future version. To read from a literal string, wrap it in a 'StringIO' object.\n",
      "  df = pd.read_html(str(table))[0]\n",
      "/var/folders/7z/7q00pypj1_sf2clps66cxc9r0000gn/T/ipykernel_2964/2765107248.py:32: FutureWarning: Passing literal html to 'read_html' is deprecated and will be removed in a future version. To read from a literal string, wrap it in a 'StringIO' object.\n",
      "  df = pd.read_html(str(table))[0]\n",
      "/var/folders/7z/7q00pypj1_sf2clps66cxc9r0000gn/T/ipykernel_2964/2765107248.py:32: FutureWarning: Passing literal html to 'read_html' is deprecated and will be removed in a future version. To read from a literal string, wrap it in a 'StringIO' object.\n",
      "  df = pd.read_html(str(table))[0]\n",
      "/var/folders/7z/7q00pypj1_sf2clps66cxc9r0000gn/T/ipykernel_2964/2765107248.py:32: FutureWarning: Passing literal html to 'read_html' is deprecated and will be removed in a future version. To read from a literal string, wrap it in a 'StringIO' object.\n",
      "  df = pd.read_html(str(table))[0]\n",
      "/var/folders/7z/7q00pypj1_sf2clps66cxc9r0000gn/T/ipykernel_2964/2765107248.py:32: FutureWarning: Passing literal html to 'read_html' is deprecated and will be removed in a future version. To read from a literal string, wrap it in a 'StringIO' object.\n",
      "  df = pd.read_html(str(table))[0]\n",
      "/var/folders/7z/7q00pypj1_sf2clps66cxc9r0000gn/T/ipykernel_2964/2765107248.py:32: FutureWarning: Passing literal html to 'read_html' is deprecated and will be removed in a future version. To read from a literal string, wrap it in a 'StringIO' object.\n",
      "  df = pd.read_html(str(table))[0]\n",
      "/var/folders/7z/7q00pypj1_sf2clps66cxc9r0000gn/T/ipykernel_2964/2765107248.py:32: FutureWarning: Passing literal html to 'read_html' is deprecated and will be removed in a future version. To read from a literal string, wrap it in a 'StringIO' object.\n",
      "  df = pd.read_html(str(table))[0]\n",
      "/var/folders/7z/7q00pypj1_sf2clps66cxc9r0000gn/T/ipykernel_2964/2765107248.py:32: FutureWarning: Passing literal html to 'read_html' is deprecated and will be removed in a future version. To read from a literal string, wrap it in a 'StringIO' object.\n",
      "  df = pd.read_html(str(table))[0]\n",
      "/var/folders/7z/7q00pypj1_sf2clps66cxc9r0000gn/T/ipykernel_2964/2765107248.py:32: FutureWarning: Passing literal html to 'read_html' is deprecated and will be removed in a future version. To read from a literal string, wrap it in a 'StringIO' object.\n",
      "  df = pd.read_html(str(table))[0]\n",
      "/var/folders/7z/7q00pypj1_sf2clps66cxc9r0000gn/T/ipykernel_2964/2765107248.py:32: FutureWarning: Passing literal html to 'read_html' is deprecated and will be removed in a future version. To read from a literal string, wrap it in a 'StringIO' object.\n",
      "  df = pd.read_html(str(table))[0]\n",
      "/var/folders/7z/7q00pypj1_sf2clps66cxc9r0000gn/T/ipykernel_2964/2765107248.py:32: FutureWarning: Passing literal html to 'read_html' is deprecated and will be removed in a future version. To read from a literal string, wrap it in a 'StringIO' object.\n",
      "  df = pd.read_html(str(table))[0]\n",
      "/var/folders/7z/7q00pypj1_sf2clps66cxc9r0000gn/T/ipykernel_2964/2765107248.py:32: FutureWarning: Passing literal html to 'read_html' is deprecated and will be removed in a future version. To read from a literal string, wrap it in a 'StringIO' object.\n",
      "  df = pd.read_html(str(table))[0]\n",
      "/var/folders/7z/7q00pypj1_sf2clps66cxc9r0000gn/T/ipykernel_2964/2765107248.py:32: FutureWarning: Passing literal html to 'read_html' is deprecated and will be removed in a future version. To read from a literal string, wrap it in a 'StringIO' object.\n",
      "  df = pd.read_html(str(table))[0]\n",
      "/var/folders/7z/7q00pypj1_sf2clps66cxc9r0000gn/T/ipykernel_2964/2765107248.py:32: FutureWarning: Passing literal html to 'read_html' is deprecated and will be removed in a future version. To read from a literal string, wrap it in a 'StringIO' object.\n",
      "  df = pd.read_html(str(table))[0]\n",
      "/var/folders/7z/7q00pypj1_sf2clps66cxc9r0000gn/T/ipykernel_2964/2765107248.py:32: FutureWarning: Passing literal html to 'read_html' is deprecated and will be removed in a future version. To read from a literal string, wrap it in a 'StringIO' object.\n",
      "  df = pd.read_html(str(table))[0]\n",
      "/var/folders/7z/7q00pypj1_sf2clps66cxc9r0000gn/T/ipykernel_2964/2765107248.py:32: FutureWarning: Passing literal html to 'read_html' is deprecated and will be removed in a future version. To read from a literal string, wrap it in a 'StringIO' object.\n",
      "  df = pd.read_html(str(table))[0]\n",
      "/var/folders/7z/7q00pypj1_sf2clps66cxc9r0000gn/T/ipykernel_2964/2765107248.py:32: FutureWarning: Passing literal html to 'read_html' is deprecated and will be removed in a future version. To read from a literal string, wrap it in a 'StringIO' object.\n",
      "  df = pd.read_html(str(table))[0]\n",
      "/var/folders/7z/7q00pypj1_sf2clps66cxc9r0000gn/T/ipykernel_2964/2765107248.py:32: FutureWarning: Passing literal html to 'read_html' is deprecated and will be removed in a future version. To read from a literal string, wrap it in a 'StringIO' object.\n",
      "  df = pd.read_html(str(table))[0]\n",
      "/var/folders/7z/7q00pypj1_sf2clps66cxc9r0000gn/T/ipykernel_2964/2765107248.py:32: FutureWarning: Passing literal html to 'read_html' is deprecated and will be removed in a future version. To read from a literal string, wrap it in a 'StringIO' object.\n",
      "  df = pd.read_html(str(table))[0]\n",
      "/var/folders/7z/7q00pypj1_sf2clps66cxc9r0000gn/T/ipykernel_2964/2765107248.py:32: FutureWarning: Passing literal html to 'read_html' is deprecated and will be removed in a future version. To read from a literal string, wrap it in a 'StringIO' object.\n",
      "  df = pd.read_html(str(table))[0]\n",
      "/var/folders/7z/7q00pypj1_sf2clps66cxc9r0000gn/T/ipykernel_2964/2765107248.py:32: FutureWarning: Passing literal html to 'read_html' is deprecated and will be removed in a future version. To read from a literal string, wrap it in a 'StringIO' object.\n",
      "  df = pd.read_html(str(table))[0]\n",
      "/var/folders/7z/7q00pypj1_sf2clps66cxc9r0000gn/T/ipykernel_2964/2765107248.py:32: FutureWarning: Passing literal html to 'read_html' is deprecated and will be removed in a future version. To read from a literal string, wrap it in a 'StringIO' object.\n",
      "  df = pd.read_html(str(table))[0]\n",
      "/var/folders/7z/7q00pypj1_sf2clps66cxc9r0000gn/T/ipykernel_2964/2765107248.py:32: FutureWarning: Passing literal html to 'read_html' is deprecated and will be removed in a future version. To read from a literal string, wrap it in a 'StringIO' object.\n",
      "  df = pd.read_html(str(table))[0]\n",
      "/var/folders/7z/7q00pypj1_sf2clps66cxc9r0000gn/T/ipykernel_2964/2765107248.py:32: FutureWarning: Passing literal html to 'read_html' is deprecated and will be removed in a future version. To read from a literal string, wrap it in a 'StringIO' object.\n",
      "  df = pd.read_html(str(table))[0]\n",
      "/var/folders/7z/7q00pypj1_sf2clps66cxc9r0000gn/T/ipykernel_2964/2765107248.py:32: FutureWarning: Passing literal html to 'read_html' is deprecated and will be removed in a future version. To read from a literal string, wrap it in a 'StringIO' object.\n",
      "  df = pd.read_html(str(table))[0]\n",
      "/var/folders/7z/7q00pypj1_sf2clps66cxc9r0000gn/T/ipykernel_2964/2765107248.py:32: FutureWarning: Passing literal html to 'read_html' is deprecated and will be removed in a future version. To read from a literal string, wrap it in a 'StringIO' object.\n",
      "  df = pd.read_html(str(table))[0]\n",
      "/var/folders/7z/7q00pypj1_sf2clps66cxc9r0000gn/T/ipykernel_2964/2765107248.py:32: FutureWarning: Passing literal html to 'read_html' is deprecated and will be removed in a future version. To read from a literal string, wrap it in a 'StringIO' object.\n",
      "  df = pd.read_html(str(table))[0]\n",
      "/var/folders/7z/7q00pypj1_sf2clps66cxc9r0000gn/T/ipykernel_2964/2765107248.py:32: FutureWarning: Passing literal html to 'read_html' is deprecated and will be removed in a future version. To read from a literal string, wrap it in a 'StringIO' object.\n",
      "  df = pd.read_html(str(table))[0]\n",
      "/var/folders/7z/7q00pypj1_sf2clps66cxc9r0000gn/T/ipykernel_2964/2765107248.py:32: FutureWarning: Passing literal html to 'read_html' is deprecated and will be removed in a future version. To read from a literal string, wrap it in a 'StringIO' object.\n",
      "  df = pd.read_html(str(table))[0]\n",
      "/var/folders/7z/7q00pypj1_sf2clps66cxc9r0000gn/T/ipykernel_2964/2765107248.py:32: FutureWarning: Passing literal html to 'read_html' is deprecated and will be removed in a future version. To read from a literal string, wrap it in a 'StringIO' object.\n",
      "  df = pd.read_html(str(table))[0]\n",
      "/var/folders/7z/7q00pypj1_sf2clps66cxc9r0000gn/T/ipykernel_2964/2765107248.py:32: FutureWarning: Passing literal html to 'read_html' is deprecated and will be removed in a future version. To read from a literal string, wrap it in a 'StringIO' object.\n",
      "  df = pd.read_html(str(table))[0]\n",
      "/var/folders/7z/7q00pypj1_sf2clps66cxc9r0000gn/T/ipykernel_2964/2765107248.py:32: FutureWarning: Passing literal html to 'read_html' is deprecated and will be removed in a future version. To read from a literal string, wrap it in a 'StringIO' object.\n",
      "  df = pd.read_html(str(table))[0]\n",
      "/var/folders/7z/7q00pypj1_sf2clps66cxc9r0000gn/T/ipykernel_2964/2765107248.py:32: FutureWarning: Passing literal html to 'read_html' is deprecated and will be removed in a future version. To read from a literal string, wrap it in a 'StringIO' object.\n",
      "  df = pd.read_html(str(table))[0]\n",
      "/var/folders/7z/7q00pypj1_sf2clps66cxc9r0000gn/T/ipykernel_2964/2765107248.py:32: FutureWarning: Passing literal html to 'read_html' is deprecated and will be removed in a future version. To read from a literal string, wrap it in a 'StringIO' object.\n",
      "  df = pd.read_html(str(table))[0]\n",
      "/var/folders/7z/7q00pypj1_sf2clps66cxc9r0000gn/T/ipykernel_2964/2765107248.py:32: FutureWarning: Passing literal html to 'read_html' is deprecated and will be removed in a future version. To read from a literal string, wrap it in a 'StringIO' object.\n",
      "  df = pd.read_html(str(table))[0]\n",
      "/var/folders/7z/7q00pypj1_sf2clps66cxc9r0000gn/T/ipykernel_2964/2765107248.py:32: FutureWarning: Passing literal html to 'read_html' is deprecated and will be removed in a future version. To read from a literal string, wrap it in a 'StringIO' object.\n",
      "  df = pd.read_html(str(table))[0]\n",
      "/var/folders/7z/7q00pypj1_sf2clps66cxc9r0000gn/T/ipykernel_2964/2765107248.py:32: FutureWarning: Passing literal html to 'read_html' is deprecated and will be removed in a future version. To read from a literal string, wrap it in a 'StringIO' object.\n",
      "  df = pd.read_html(str(table))[0]\n",
      "/var/folders/7z/7q00pypj1_sf2clps66cxc9r0000gn/T/ipykernel_2964/2765107248.py:32: FutureWarning: Passing literal html to 'read_html' is deprecated and will be removed in a future version. To read from a literal string, wrap it in a 'StringIO' object.\n",
      "  df = pd.read_html(str(table))[0]\n",
      "/var/folders/7z/7q00pypj1_sf2clps66cxc9r0000gn/T/ipykernel_2964/2765107248.py:32: FutureWarning: Passing literal html to 'read_html' is deprecated and will be removed in a future version. To read from a literal string, wrap it in a 'StringIO' object.\n",
      "  df = pd.read_html(str(table))[0]\n",
      "/var/folders/7z/7q00pypj1_sf2clps66cxc9r0000gn/T/ipykernel_2964/2765107248.py:32: FutureWarning: Passing literal html to 'read_html' is deprecated and will be removed in a future version. To read from a literal string, wrap it in a 'StringIO' object.\n",
      "  df = pd.read_html(str(table))[0]\n",
      "/var/folders/7z/7q00pypj1_sf2clps66cxc9r0000gn/T/ipykernel_2964/2765107248.py:32: FutureWarning: Passing literal html to 'read_html' is deprecated and will be removed in a future version. To read from a literal string, wrap it in a 'StringIO' object.\n",
      "  df = pd.read_html(str(table))[0]\n",
      "/var/folders/7z/7q00pypj1_sf2clps66cxc9r0000gn/T/ipykernel_2964/2765107248.py:32: FutureWarning: Passing literal html to 'read_html' is deprecated and will be removed in a future version. To read from a literal string, wrap it in a 'StringIO' object.\n",
      "  df = pd.read_html(str(table))[0]\n",
      "/var/folders/7z/7q00pypj1_sf2clps66cxc9r0000gn/T/ipykernel_2964/2765107248.py:32: FutureWarning: Passing literal html to 'read_html' is deprecated and will be removed in a future version. To read from a literal string, wrap it in a 'StringIO' object.\n",
      "  df = pd.read_html(str(table))[0]\n",
      "/var/folders/7z/7q00pypj1_sf2clps66cxc9r0000gn/T/ipykernel_2964/2765107248.py:32: FutureWarning: Passing literal html to 'read_html' is deprecated and will be removed in a future version. To read from a literal string, wrap it in a 'StringIO' object.\n",
      "  df = pd.read_html(str(table))[0]\n",
      "/var/folders/7z/7q00pypj1_sf2clps66cxc9r0000gn/T/ipykernel_2964/2765107248.py:32: FutureWarning: Passing literal html to 'read_html' is deprecated and will be removed in a future version. To read from a literal string, wrap it in a 'StringIO' object.\n",
      "  df = pd.read_html(str(table))[0]\n",
      "/var/folders/7z/7q00pypj1_sf2clps66cxc9r0000gn/T/ipykernel_2964/2765107248.py:32: FutureWarning: Passing literal html to 'read_html' is deprecated and will be removed in a future version. To read from a literal string, wrap it in a 'StringIO' object.\n",
      "  df = pd.read_html(str(table))[0]\n",
      "/var/folders/7z/7q00pypj1_sf2clps66cxc9r0000gn/T/ipykernel_2964/2765107248.py:32: FutureWarning: Passing literal html to 'read_html' is deprecated and will be removed in a future version. To read from a literal string, wrap it in a 'StringIO' object.\n",
      "  df = pd.read_html(str(table))[0]\n",
      "/var/folders/7z/7q00pypj1_sf2clps66cxc9r0000gn/T/ipykernel_2964/2765107248.py:32: FutureWarning: Passing literal html to 'read_html' is deprecated and will be removed in a future version. To read from a literal string, wrap it in a 'StringIO' object.\n",
      "  df = pd.read_html(str(table))[0]\n",
      "/var/folders/7z/7q00pypj1_sf2clps66cxc9r0000gn/T/ipykernel_2964/2765107248.py:32: FutureWarning: Passing literal html to 'read_html' is deprecated and will be removed in a future version. To read from a literal string, wrap it in a 'StringIO' object.\n",
      "  df = pd.read_html(str(table))[0]\n",
      "/var/folders/7z/7q00pypj1_sf2clps66cxc9r0000gn/T/ipykernel_2964/2765107248.py:32: FutureWarning: Passing literal html to 'read_html' is deprecated and will be removed in a future version. To read from a literal string, wrap it in a 'StringIO' object.\n",
      "  df = pd.read_html(str(table))[0]\n",
      "/var/folders/7z/7q00pypj1_sf2clps66cxc9r0000gn/T/ipykernel_2964/2765107248.py:32: FutureWarning: Passing literal html to 'read_html' is deprecated and will be removed in a future version. To read from a literal string, wrap it in a 'StringIO' object.\n",
      "  df = pd.read_html(str(table))[0]\n",
      "/var/folders/7z/7q00pypj1_sf2clps66cxc9r0000gn/T/ipykernel_2964/2765107248.py:32: FutureWarning: Passing literal html to 'read_html' is deprecated and will be removed in a future version. To read from a literal string, wrap it in a 'StringIO' object.\n",
      "  df = pd.read_html(str(table))[0]\n",
      "/var/folders/7z/7q00pypj1_sf2clps66cxc9r0000gn/T/ipykernel_2964/2765107248.py:32: FutureWarning: Passing literal html to 'read_html' is deprecated and will be removed in a future version. To read from a literal string, wrap it in a 'StringIO' object.\n",
      "  df = pd.read_html(str(table))[0]\n",
      "/var/folders/7z/7q00pypj1_sf2clps66cxc9r0000gn/T/ipykernel_2964/2765107248.py:32: FutureWarning: Passing literal html to 'read_html' is deprecated and will be removed in a future version. To read from a literal string, wrap it in a 'StringIO' object.\n",
      "  df = pd.read_html(str(table))[0]\n",
      "/var/folders/7z/7q00pypj1_sf2clps66cxc9r0000gn/T/ipykernel_2964/2765107248.py:32: FutureWarning: Passing literal html to 'read_html' is deprecated and will be removed in a future version. To read from a literal string, wrap it in a 'StringIO' object.\n",
      "  df = pd.read_html(str(table))[0]\n",
      "/var/folders/7z/7q00pypj1_sf2clps66cxc9r0000gn/T/ipykernel_2964/2765107248.py:32: FutureWarning: Passing literal html to 'read_html' is deprecated and will be removed in a future version. To read from a literal string, wrap it in a 'StringIO' object.\n",
      "  df = pd.read_html(str(table))[0]\n",
      "/var/folders/7z/7q00pypj1_sf2clps66cxc9r0000gn/T/ipykernel_2964/2765107248.py:32: FutureWarning: Passing literal html to 'read_html' is deprecated and will be removed in a future version. To read from a literal string, wrap it in a 'StringIO' object.\n",
      "  df = pd.read_html(str(table))[0]\n",
      "/var/folders/7z/7q00pypj1_sf2clps66cxc9r0000gn/T/ipykernel_2964/2765107248.py:32: FutureWarning: Passing literal html to 'read_html' is deprecated and will be removed in a future version. To read from a literal string, wrap it in a 'StringIO' object.\n",
      "  df = pd.read_html(str(table))[0]\n",
      "/var/folders/7z/7q00pypj1_sf2clps66cxc9r0000gn/T/ipykernel_2964/2765107248.py:32: FutureWarning: Passing literal html to 'read_html' is deprecated and will be removed in a future version. To read from a literal string, wrap it in a 'StringIO' object.\n",
      "  df = pd.read_html(str(table))[0]\n",
      "/var/folders/7z/7q00pypj1_sf2clps66cxc9r0000gn/T/ipykernel_2964/2765107248.py:32: FutureWarning: Passing literal html to 'read_html' is deprecated and will be removed in a future version. To read from a literal string, wrap it in a 'StringIO' object.\n",
      "  df = pd.read_html(str(table))[0]\n",
      "/var/folders/7z/7q00pypj1_sf2clps66cxc9r0000gn/T/ipykernel_2964/2765107248.py:32: FutureWarning: Passing literal html to 'read_html' is deprecated and will be removed in a future version. To read from a literal string, wrap it in a 'StringIO' object.\n",
      "  df = pd.read_html(str(table))[0]\n",
      "/var/folders/7z/7q00pypj1_sf2clps66cxc9r0000gn/T/ipykernel_2964/2765107248.py:32: FutureWarning: Passing literal html to 'read_html' is deprecated and will be removed in a future version. To read from a literal string, wrap it in a 'StringIO' object.\n",
      "  df = pd.read_html(str(table))[0]\n",
      "/var/folders/7z/7q00pypj1_sf2clps66cxc9r0000gn/T/ipykernel_2964/2765107248.py:32: FutureWarning: Passing literal html to 'read_html' is deprecated and will be removed in a future version. To read from a literal string, wrap it in a 'StringIO' object.\n",
      "  df = pd.read_html(str(table))[0]\n",
      "/var/folders/7z/7q00pypj1_sf2clps66cxc9r0000gn/T/ipykernel_2964/2765107248.py:32: FutureWarning: Passing literal html to 'read_html' is deprecated and will be removed in a future version. To read from a literal string, wrap it in a 'StringIO' object.\n",
      "  df = pd.read_html(str(table))[0]\n",
      "/var/folders/7z/7q00pypj1_sf2clps66cxc9r0000gn/T/ipykernel_2964/2765107248.py:32: FutureWarning: Passing literal html to 'read_html' is deprecated and will be removed in a future version. To read from a literal string, wrap it in a 'StringIO' object.\n",
      "  df = pd.read_html(str(table))[0]\n",
      "/var/folders/7z/7q00pypj1_sf2clps66cxc9r0000gn/T/ipykernel_2964/2765107248.py:32: FutureWarning: Passing literal html to 'read_html' is deprecated and will be removed in a future version. To read from a literal string, wrap it in a 'StringIO' object.\n",
      "  df = pd.read_html(str(table))[0]\n",
      "/var/folders/7z/7q00pypj1_sf2clps66cxc9r0000gn/T/ipykernel_2964/2765107248.py:32: FutureWarning: Passing literal html to 'read_html' is deprecated and will be removed in a future version. To read from a literal string, wrap it in a 'StringIO' object.\n",
      "  df = pd.read_html(str(table))[0]\n",
      "/var/folders/7z/7q00pypj1_sf2clps66cxc9r0000gn/T/ipykernel_2964/2765107248.py:32: FutureWarning: Passing literal html to 'read_html' is deprecated and will be removed in a future version. To read from a literal string, wrap it in a 'StringIO' object.\n",
      "  df = pd.read_html(str(table))[0]\n",
      "/var/folders/7z/7q00pypj1_sf2clps66cxc9r0000gn/T/ipykernel_2964/2765107248.py:32: FutureWarning: Passing literal html to 'read_html' is deprecated and will be removed in a future version. To read from a literal string, wrap it in a 'StringIO' object.\n",
      "  df = pd.read_html(str(table))[0]\n",
      "/var/folders/7z/7q00pypj1_sf2clps66cxc9r0000gn/T/ipykernel_2964/2765107248.py:32: FutureWarning: Passing literal html to 'read_html' is deprecated and will be removed in a future version. To read from a literal string, wrap it in a 'StringIO' object.\n",
      "  df = pd.read_html(str(table))[0]\n",
      "/var/folders/7z/7q00pypj1_sf2clps66cxc9r0000gn/T/ipykernel_2964/2765107248.py:32: FutureWarning: Passing literal html to 'read_html' is deprecated and will be removed in a future version. To read from a literal string, wrap it in a 'StringIO' object.\n",
      "  df = pd.read_html(str(table))[0]\n",
      "/var/folders/7z/7q00pypj1_sf2clps66cxc9r0000gn/T/ipykernel_2964/2765107248.py:32: FutureWarning: Passing literal html to 'read_html' is deprecated and will be removed in a future version. To read from a literal string, wrap it in a 'StringIO' object.\n",
      "  df = pd.read_html(str(table))[0]\n",
      "/var/folders/7z/7q00pypj1_sf2clps66cxc9r0000gn/T/ipykernel_2964/2765107248.py:32: FutureWarning: Passing literal html to 'read_html' is deprecated and will be removed in a future version. To read from a literal string, wrap it in a 'StringIO' object.\n",
      "  df = pd.read_html(str(table))[0]\n",
      "/var/folders/7z/7q00pypj1_sf2clps66cxc9r0000gn/T/ipykernel_2964/2765107248.py:32: FutureWarning: Passing literal html to 'read_html' is deprecated and will be removed in a future version. To read from a literal string, wrap it in a 'StringIO' object.\n",
      "  df = pd.read_html(str(table))[0]\n",
      "/var/folders/7z/7q00pypj1_sf2clps66cxc9r0000gn/T/ipykernel_2964/2765107248.py:32: FutureWarning: Passing literal html to 'read_html' is deprecated and will be removed in a future version. To read from a literal string, wrap it in a 'StringIO' object.\n",
      "  df = pd.read_html(str(table))[0]\n",
      "/var/folders/7z/7q00pypj1_sf2clps66cxc9r0000gn/T/ipykernel_2964/2765107248.py:32: FutureWarning: Passing literal html to 'read_html' is deprecated and will be removed in a future version. To read from a literal string, wrap it in a 'StringIO' object.\n",
      "  df = pd.read_html(str(table))[0]\n",
      "/var/folders/7z/7q00pypj1_sf2clps66cxc9r0000gn/T/ipykernel_2964/2765107248.py:32: FutureWarning: Passing literal html to 'read_html' is deprecated and will be removed in a future version. To read from a literal string, wrap it in a 'StringIO' object.\n",
      "  df = pd.read_html(str(table))[0]\n",
      "/var/folders/7z/7q00pypj1_sf2clps66cxc9r0000gn/T/ipykernel_2964/2765107248.py:32: FutureWarning: Passing literal html to 'read_html' is deprecated and will be removed in a future version. To read from a literal string, wrap it in a 'StringIO' object.\n",
      "  df = pd.read_html(str(table))[0]\n",
      "/var/folders/7z/7q00pypj1_sf2clps66cxc9r0000gn/T/ipykernel_2964/2765107248.py:32: FutureWarning: Passing literal html to 'read_html' is deprecated and will be removed in a future version. To read from a literal string, wrap it in a 'StringIO' object.\n",
      "  df = pd.read_html(str(table))[0]\n",
      "/var/folders/7z/7q00pypj1_sf2clps66cxc9r0000gn/T/ipykernel_2964/2765107248.py:32: FutureWarning: Passing literal html to 'read_html' is deprecated and will be removed in a future version. To read from a literal string, wrap it in a 'StringIO' object.\n",
      "  df = pd.read_html(str(table))[0]\n",
      "/var/folders/7z/7q00pypj1_sf2clps66cxc9r0000gn/T/ipykernel_2964/2765107248.py:32: FutureWarning: Passing literal html to 'read_html' is deprecated and will be removed in a future version. To read from a literal string, wrap it in a 'StringIO' object.\n",
      "  df = pd.read_html(str(table))[0]\n",
      "/var/folders/7z/7q00pypj1_sf2clps66cxc9r0000gn/T/ipykernel_2964/2765107248.py:32: FutureWarning: Passing literal html to 'read_html' is deprecated and will be removed in a future version. To read from a literal string, wrap it in a 'StringIO' object.\n",
      "  df = pd.read_html(str(table))[0]\n",
      "/var/folders/7z/7q00pypj1_sf2clps66cxc9r0000gn/T/ipykernel_2964/2765107248.py:32: FutureWarning: Passing literal html to 'read_html' is deprecated and will be removed in a future version. To read from a literal string, wrap it in a 'StringIO' object.\n",
      "  df = pd.read_html(str(table))[0]\n",
      "/var/folders/7z/7q00pypj1_sf2clps66cxc9r0000gn/T/ipykernel_2964/2765107248.py:32: FutureWarning: Passing literal html to 'read_html' is deprecated and will be removed in a future version. To read from a literal string, wrap it in a 'StringIO' object.\n",
      "  df = pd.read_html(str(table))[0]\n",
      "/var/folders/7z/7q00pypj1_sf2clps66cxc9r0000gn/T/ipykernel_2964/2765107248.py:32: FutureWarning: Passing literal html to 'read_html' is deprecated and will be removed in a future version. To read from a literal string, wrap it in a 'StringIO' object.\n",
      "  df = pd.read_html(str(table))[0]\n",
      "/var/folders/7z/7q00pypj1_sf2clps66cxc9r0000gn/T/ipykernel_2964/2765107248.py:32: FutureWarning: Passing literal html to 'read_html' is deprecated and will be removed in a future version. To read from a literal string, wrap it in a 'StringIO' object.\n",
      "  df = pd.read_html(str(table))[0]\n",
      "/var/folders/7z/7q00pypj1_sf2clps66cxc9r0000gn/T/ipykernel_2964/2765107248.py:32: FutureWarning: Passing literal html to 'read_html' is deprecated and will be removed in a future version. To read from a literal string, wrap it in a 'StringIO' object.\n",
      "  df = pd.read_html(str(table))[0]\n",
      "/var/folders/7z/7q00pypj1_sf2clps66cxc9r0000gn/T/ipykernel_2964/2765107248.py:32: FutureWarning: Passing literal html to 'read_html' is deprecated and will be removed in a future version. To read from a literal string, wrap it in a 'StringIO' object.\n",
      "  df = pd.read_html(str(table))[0]\n",
      "/var/folders/7z/7q00pypj1_sf2clps66cxc9r0000gn/T/ipykernel_2964/2765107248.py:32: FutureWarning: Passing literal html to 'read_html' is deprecated and will be removed in a future version. To read from a literal string, wrap it in a 'StringIO' object.\n",
      "  df = pd.read_html(str(table))[0]\n",
      "/var/folders/7z/7q00pypj1_sf2clps66cxc9r0000gn/T/ipykernel_2964/2765107248.py:32: FutureWarning: Passing literal html to 'read_html' is deprecated and will be removed in a future version. To read from a literal string, wrap it in a 'StringIO' object.\n",
      "  df = pd.read_html(str(table))[0]\n",
      "/var/folders/7z/7q00pypj1_sf2clps66cxc9r0000gn/T/ipykernel_2964/2765107248.py:32: FutureWarning: Passing literal html to 'read_html' is deprecated and will be removed in a future version. To read from a literal string, wrap it in a 'StringIO' object.\n",
      "  df = pd.read_html(str(table))[0]\n",
      "/var/folders/7z/7q00pypj1_sf2clps66cxc9r0000gn/T/ipykernel_2964/2765107248.py:32: FutureWarning: Passing literal html to 'read_html' is deprecated and will be removed in a future version. To read from a literal string, wrap it in a 'StringIO' object.\n",
      "  df = pd.read_html(str(table))[0]\n",
      "/var/folders/7z/7q00pypj1_sf2clps66cxc9r0000gn/T/ipykernel_2964/2765107248.py:32: FutureWarning: Passing literal html to 'read_html' is deprecated and will be removed in a future version. To read from a literal string, wrap it in a 'StringIO' object.\n",
      "  df = pd.read_html(str(table))[0]\n",
      "/var/folders/7z/7q00pypj1_sf2clps66cxc9r0000gn/T/ipykernel_2964/2765107248.py:32: FutureWarning: Passing literal html to 'read_html' is deprecated and will be removed in a future version. To read from a literal string, wrap it in a 'StringIO' object.\n",
      "  df = pd.read_html(str(table))[0]\n",
      "/var/folders/7z/7q00pypj1_sf2clps66cxc9r0000gn/T/ipykernel_2964/2765107248.py:32: FutureWarning: Passing literal html to 'read_html' is deprecated and will be removed in a future version. To read from a literal string, wrap it in a 'StringIO' object.\n",
      "  df = pd.read_html(str(table))[0]\n",
      "/var/folders/7z/7q00pypj1_sf2clps66cxc9r0000gn/T/ipykernel_2964/2765107248.py:32: FutureWarning: Passing literal html to 'read_html' is deprecated and will be removed in a future version. To read from a literal string, wrap it in a 'StringIO' object.\n",
      "  df = pd.read_html(str(table))[0]\n",
      "/var/folders/7z/7q00pypj1_sf2clps66cxc9r0000gn/T/ipykernel_2964/2765107248.py:32: FutureWarning: Passing literal html to 'read_html' is deprecated and will be removed in a future version. To read from a literal string, wrap it in a 'StringIO' object.\n",
      "  df = pd.read_html(str(table))[0]\n",
      "/var/folders/7z/7q00pypj1_sf2clps66cxc9r0000gn/T/ipykernel_2964/2765107248.py:32: FutureWarning: Passing literal html to 'read_html' is deprecated and will be removed in a future version. To read from a literal string, wrap it in a 'StringIO' object.\n",
      "  df = pd.read_html(str(table))[0]\n",
      "/var/folders/7z/7q00pypj1_sf2clps66cxc9r0000gn/T/ipykernel_2964/2765107248.py:32: FutureWarning: Passing literal html to 'read_html' is deprecated and will be removed in a future version. To read from a literal string, wrap it in a 'StringIO' object.\n",
      "  df = pd.read_html(str(table))[0]\n",
      "/var/folders/7z/7q00pypj1_sf2clps66cxc9r0000gn/T/ipykernel_2964/2765107248.py:32: FutureWarning: Passing literal html to 'read_html' is deprecated and will be removed in a future version. To read from a literal string, wrap it in a 'StringIO' object.\n",
      "  df = pd.read_html(str(table))[0]\n",
      "/var/folders/7z/7q00pypj1_sf2clps66cxc9r0000gn/T/ipykernel_2964/2765107248.py:32: FutureWarning: Passing literal html to 'read_html' is deprecated and will be removed in a future version. To read from a literal string, wrap it in a 'StringIO' object.\n",
      "  df = pd.read_html(str(table))[0]\n",
      "/var/folders/7z/7q00pypj1_sf2clps66cxc9r0000gn/T/ipykernel_2964/2765107248.py:32: FutureWarning: Passing literal html to 'read_html' is deprecated and will be removed in a future version. To read from a literal string, wrap it in a 'StringIO' object.\n",
      "  df = pd.read_html(str(table))[0]\n",
      "/var/folders/7z/7q00pypj1_sf2clps66cxc9r0000gn/T/ipykernel_2964/2765107248.py:32: FutureWarning: Passing literal html to 'read_html' is deprecated and will be removed in a future version. To read from a literal string, wrap it in a 'StringIO' object.\n",
      "  df = pd.read_html(str(table))[0]\n",
      "/var/folders/7z/7q00pypj1_sf2clps66cxc9r0000gn/T/ipykernel_2964/2765107248.py:32: FutureWarning: Passing literal html to 'read_html' is deprecated and will be removed in a future version. To read from a literal string, wrap it in a 'StringIO' object.\n",
      "  df = pd.read_html(str(table))[0]\n",
      "/var/folders/7z/7q00pypj1_sf2clps66cxc9r0000gn/T/ipykernel_2964/2765107248.py:32: FutureWarning: Passing literal html to 'read_html' is deprecated and will be removed in a future version. To read from a literal string, wrap it in a 'StringIO' object.\n",
      "  df = pd.read_html(str(table))[0]\n",
      "/var/folders/7z/7q00pypj1_sf2clps66cxc9r0000gn/T/ipykernel_2964/2765107248.py:32: FutureWarning: Passing literal html to 'read_html' is deprecated and will be removed in a future version. To read from a literal string, wrap it in a 'StringIO' object.\n",
      "  df = pd.read_html(str(table))[0]\n",
      "/var/folders/7z/7q00pypj1_sf2clps66cxc9r0000gn/T/ipykernel_2964/2765107248.py:32: FutureWarning: Passing literal html to 'read_html' is deprecated and will be removed in a future version. To read from a literal string, wrap it in a 'StringIO' object.\n",
      "  df = pd.read_html(str(table))[0]\n",
      "/var/folders/7z/7q00pypj1_sf2clps66cxc9r0000gn/T/ipykernel_2964/2765107248.py:32: FutureWarning: Passing literal html to 'read_html' is deprecated and will be removed in a future version. To read from a literal string, wrap it in a 'StringIO' object.\n",
      "  df = pd.read_html(str(table))[0]\n",
      "/var/folders/7z/7q00pypj1_sf2clps66cxc9r0000gn/T/ipykernel_2964/2765107248.py:32: FutureWarning: Passing literal html to 'read_html' is deprecated and will be removed in a future version. To read from a literal string, wrap it in a 'StringIO' object.\n",
      "  df = pd.read_html(str(table))[0]\n",
      "/var/folders/7z/7q00pypj1_sf2clps66cxc9r0000gn/T/ipykernel_2964/2765107248.py:32: FutureWarning: Passing literal html to 'read_html' is deprecated and will be removed in a future version. To read from a literal string, wrap it in a 'StringIO' object.\n",
      "  df = pd.read_html(str(table))[0]\n",
      "/var/folders/7z/7q00pypj1_sf2clps66cxc9r0000gn/T/ipykernel_2964/2765107248.py:32: FutureWarning: Passing literal html to 'read_html' is deprecated and will be removed in a future version. To read from a literal string, wrap it in a 'StringIO' object.\n",
      "  df = pd.read_html(str(table))[0]\n",
      "/var/folders/7z/7q00pypj1_sf2clps66cxc9r0000gn/T/ipykernel_2964/2765107248.py:32: FutureWarning: Passing literal html to 'read_html' is deprecated and will be removed in a future version. To read from a literal string, wrap it in a 'StringIO' object.\n",
      "  df = pd.read_html(str(table))[0]\n",
      "/var/folders/7z/7q00pypj1_sf2clps66cxc9r0000gn/T/ipykernel_2964/2765107248.py:32: FutureWarning: Passing literal html to 'read_html' is deprecated and will be removed in a future version. To read from a literal string, wrap it in a 'StringIO' object.\n",
      "  df = pd.read_html(str(table))[0]\n",
      "/var/folders/7z/7q00pypj1_sf2clps66cxc9r0000gn/T/ipykernel_2964/2765107248.py:32: FutureWarning: Passing literal html to 'read_html' is deprecated and will be removed in a future version. To read from a literal string, wrap it in a 'StringIO' object.\n",
      "  df = pd.read_html(str(table))[0]\n",
      "/var/folders/7z/7q00pypj1_sf2clps66cxc9r0000gn/T/ipykernel_2964/2765107248.py:32: FutureWarning: Passing literal html to 'read_html' is deprecated and will be removed in a future version. To read from a literal string, wrap it in a 'StringIO' object.\n",
      "  df = pd.read_html(str(table))[0]\n",
      "/var/folders/7z/7q00pypj1_sf2clps66cxc9r0000gn/T/ipykernel_2964/2765107248.py:32: FutureWarning: Passing literal html to 'read_html' is deprecated and will be removed in a future version. To read from a literal string, wrap it in a 'StringIO' object.\n",
      "  df = pd.read_html(str(table))[0]\n",
      "/var/folders/7z/7q00pypj1_sf2clps66cxc9r0000gn/T/ipykernel_2964/2765107248.py:32: FutureWarning: Passing literal html to 'read_html' is deprecated and will be removed in a future version. To read from a literal string, wrap it in a 'StringIO' object.\n",
      "  df = pd.read_html(str(table))[0]\n",
      "/var/folders/7z/7q00pypj1_sf2clps66cxc9r0000gn/T/ipykernel_2964/2765107248.py:32: FutureWarning: Passing literal html to 'read_html' is deprecated and will be removed in a future version. To read from a literal string, wrap it in a 'StringIO' object.\n",
      "  df = pd.read_html(str(table))[0]\n",
      "/var/folders/7z/7q00pypj1_sf2clps66cxc9r0000gn/T/ipykernel_2964/2765107248.py:32: FutureWarning: Passing literal html to 'read_html' is deprecated and will be removed in a future version. To read from a literal string, wrap it in a 'StringIO' object.\n",
      "  df = pd.read_html(str(table))[0]\n",
      "/var/folders/7z/7q00pypj1_sf2clps66cxc9r0000gn/T/ipykernel_2964/2765107248.py:32: FutureWarning: Passing literal html to 'read_html' is deprecated and will be removed in a future version. To read from a literal string, wrap it in a 'StringIO' object.\n",
      "  df = pd.read_html(str(table))[0]\n",
      "/var/folders/7z/7q00pypj1_sf2clps66cxc9r0000gn/T/ipykernel_2964/2765107248.py:32: FutureWarning: Passing literal html to 'read_html' is deprecated and will be removed in a future version. To read from a literal string, wrap it in a 'StringIO' object.\n",
      "  df = pd.read_html(str(table))[0]\n",
      "/var/folders/7z/7q00pypj1_sf2clps66cxc9r0000gn/T/ipykernel_2964/2765107248.py:32: FutureWarning: Passing literal html to 'read_html' is deprecated and will be removed in a future version. To read from a literal string, wrap it in a 'StringIO' object.\n",
      "  df = pd.read_html(str(table))[0]\n",
      "/var/folders/7z/7q00pypj1_sf2clps66cxc9r0000gn/T/ipykernel_2964/2765107248.py:32: FutureWarning: Passing literal html to 'read_html' is deprecated and will be removed in a future version. To read from a literal string, wrap it in a 'StringIO' object.\n",
      "  df = pd.read_html(str(table))[0]\n",
      "/var/folders/7z/7q00pypj1_sf2clps66cxc9r0000gn/T/ipykernel_2964/2765107248.py:32: FutureWarning: Passing literal html to 'read_html' is deprecated and will be removed in a future version. To read from a literal string, wrap it in a 'StringIO' object.\n",
      "  df = pd.read_html(str(table))[0]\n",
      "/var/folders/7z/7q00pypj1_sf2clps66cxc9r0000gn/T/ipykernel_2964/2765107248.py:32: FutureWarning: Passing literal html to 'read_html' is deprecated and will be removed in a future version. To read from a literal string, wrap it in a 'StringIO' object.\n",
      "  df = pd.read_html(str(table))[0]\n",
      "/var/folders/7z/7q00pypj1_sf2clps66cxc9r0000gn/T/ipykernel_2964/2765107248.py:32: FutureWarning: Passing literal html to 'read_html' is deprecated and will be removed in a future version. To read from a literal string, wrap it in a 'StringIO' object.\n",
      "  df = pd.read_html(str(table))[0]\n",
      "/var/folders/7z/7q00pypj1_sf2clps66cxc9r0000gn/T/ipykernel_2964/2765107248.py:32: FutureWarning: Passing literal html to 'read_html' is deprecated and will be removed in a future version. To read from a literal string, wrap it in a 'StringIO' object.\n",
      "  df = pd.read_html(str(table))[0]\n",
      "/var/folders/7z/7q00pypj1_sf2clps66cxc9r0000gn/T/ipykernel_2964/2765107248.py:32: FutureWarning: Passing literal html to 'read_html' is deprecated and will be removed in a future version. To read from a literal string, wrap it in a 'StringIO' object.\n",
      "  df = pd.read_html(str(table))[0]\n",
      "/var/folders/7z/7q00pypj1_sf2clps66cxc9r0000gn/T/ipykernel_2964/2765107248.py:32: FutureWarning: Passing literal html to 'read_html' is deprecated and will be removed in a future version. To read from a literal string, wrap it in a 'StringIO' object.\n",
      "  df = pd.read_html(str(table))[0]\n",
      "/var/folders/7z/7q00pypj1_sf2clps66cxc9r0000gn/T/ipykernel_2964/2765107248.py:32: FutureWarning: Passing literal html to 'read_html' is deprecated and will be removed in a future version. To read from a literal string, wrap it in a 'StringIO' object.\n",
      "  df = pd.read_html(str(table))[0]\n",
      "/var/folders/7z/7q00pypj1_sf2clps66cxc9r0000gn/T/ipykernel_2964/2765107248.py:32: FutureWarning: Passing literal html to 'read_html' is deprecated and will be removed in a future version. To read from a literal string, wrap it in a 'StringIO' object.\n",
      "  df = pd.read_html(str(table))[0]\n",
      "/var/folders/7z/7q00pypj1_sf2clps66cxc9r0000gn/T/ipykernel_2964/2765107248.py:32: FutureWarning: Passing literal html to 'read_html' is deprecated and will be removed in a future version. To read from a literal string, wrap it in a 'StringIO' object.\n",
      "  df = pd.read_html(str(table))[0]\n",
      "/var/folders/7z/7q00pypj1_sf2clps66cxc9r0000gn/T/ipykernel_2964/2765107248.py:32: FutureWarning: Passing literal html to 'read_html' is deprecated and will be removed in a future version. To read from a literal string, wrap it in a 'StringIO' object.\n",
      "  df = pd.read_html(str(table))[0]\n",
      "/var/folders/7z/7q00pypj1_sf2clps66cxc9r0000gn/T/ipykernel_2964/2765107248.py:32: FutureWarning: Passing literal html to 'read_html' is deprecated and will be removed in a future version. To read from a literal string, wrap it in a 'StringIO' object.\n",
      "  df = pd.read_html(str(table))[0]\n",
      "/var/folders/7z/7q00pypj1_sf2clps66cxc9r0000gn/T/ipykernel_2964/2765107248.py:32: FutureWarning: Passing literal html to 'read_html' is deprecated and will be removed in a future version. To read from a literal string, wrap it in a 'StringIO' object.\n",
      "  df = pd.read_html(str(table))[0]\n",
      "/var/folders/7z/7q00pypj1_sf2clps66cxc9r0000gn/T/ipykernel_2964/2765107248.py:32: FutureWarning: Passing literal html to 'read_html' is deprecated and will be removed in a future version. To read from a literal string, wrap it in a 'StringIO' object.\n",
      "  df = pd.read_html(str(table))[0]\n",
      "/var/folders/7z/7q00pypj1_sf2clps66cxc9r0000gn/T/ipykernel_2964/2765107248.py:32: FutureWarning: Passing literal html to 'read_html' is deprecated and will be removed in a future version. To read from a literal string, wrap it in a 'StringIO' object.\n",
      "  df = pd.read_html(str(table))[0]\n",
      "/var/folders/7z/7q00pypj1_sf2clps66cxc9r0000gn/T/ipykernel_2964/2765107248.py:32: FutureWarning: Passing literal html to 'read_html' is deprecated and will be removed in a future version. To read from a literal string, wrap it in a 'StringIO' object.\n",
      "  df = pd.read_html(str(table))[0]\n",
      "/var/folders/7z/7q00pypj1_sf2clps66cxc9r0000gn/T/ipykernel_2964/2765107248.py:32: FutureWarning: Passing literal html to 'read_html' is deprecated and will be removed in a future version. To read from a literal string, wrap it in a 'StringIO' object.\n",
      "  df = pd.read_html(str(table))[0]\n",
      "/var/folders/7z/7q00pypj1_sf2clps66cxc9r0000gn/T/ipykernel_2964/2765107248.py:32: FutureWarning: Passing literal html to 'read_html' is deprecated and will be removed in a future version. To read from a literal string, wrap it in a 'StringIO' object.\n",
      "  df = pd.read_html(str(table))[0]\n",
      "/var/folders/7z/7q00pypj1_sf2clps66cxc9r0000gn/T/ipykernel_2964/2765107248.py:32: FutureWarning: Passing literal html to 'read_html' is deprecated and will be removed in a future version. To read from a literal string, wrap it in a 'StringIO' object.\n",
      "  df = pd.read_html(str(table))[0]\n",
      "/var/folders/7z/7q00pypj1_sf2clps66cxc9r0000gn/T/ipykernel_2964/2765107248.py:32: FutureWarning: Passing literal html to 'read_html' is deprecated and will be removed in a future version. To read from a literal string, wrap it in a 'StringIO' object.\n",
      "  df = pd.read_html(str(table))[0]\n",
      "/var/folders/7z/7q00pypj1_sf2clps66cxc9r0000gn/T/ipykernel_2964/2765107248.py:32: FutureWarning: Passing literal html to 'read_html' is deprecated and will be removed in a future version. To read from a literal string, wrap it in a 'StringIO' object.\n",
      "  df = pd.read_html(str(table))[0]\n",
      "/var/folders/7z/7q00pypj1_sf2clps66cxc9r0000gn/T/ipykernel_2964/2765107248.py:32: FutureWarning: Passing literal html to 'read_html' is deprecated and will be removed in a future version. To read from a literal string, wrap it in a 'StringIO' object.\n",
      "  df = pd.read_html(str(table))[0]\n",
      "/var/folders/7z/7q00pypj1_sf2clps66cxc9r0000gn/T/ipykernel_2964/2765107248.py:32: FutureWarning: Passing literal html to 'read_html' is deprecated and will be removed in a future version. To read from a literal string, wrap it in a 'StringIO' object.\n",
      "  df = pd.read_html(str(table))[0]\n",
      "/var/folders/7z/7q00pypj1_sf2clps66cxc9r0000gn/T/ipykernel_2964/2765107248.py:32: FutureWarning: Passing literal html to 'read_html' is deprecated and will be removed in a future version. To read from a literal string, wrap it in a 'StringIO' object.\n",
      "  df = pd.read_html(str(table))[0]\n",
      "/var/folders/7z/7q00pypj1_sf2clps66cxc9r0000gn/T/ipykernel_2964/2765107248.py:32: FutureWarning: Passing literal html to 'read_html' is deprecated and will be removed in a future version. To read from a literal string, wrap it in a 'StringIO' object.\n",
      "  df = pd.read_html(str(table))[0]\n",
      "/var/folders/7z/7q00pypj1_sf2clps66cxc9r0000gn/T/ipykernel_2964/2765107248.py:32: FutureWarning: Passing literal html to 'read_html' is deprecated and will be removed in a future version. To read from a literal string, wrap it in a 'StringIO' object.\n",
      "  df = pd.read_html(str(table))[0]\n",
      "/var/folders/7z/7q00pypj1_sf2clps66cxc9r0000gn/T/ipykernel_2964/2765107248.py:32: FutureWarning: Passing literal html to 'read_html' is deprecated and will be removed in a future version. To read from a literal string, wrap it in a 'StringIO' object.\n",
      "  df = pd.read_html(str(table))[0]\n",
      "/var/folders/7z/7q00pypj1_sf2clps66cxc9r0000gn/T/ipykernel_2964/2765107248.py:32: FutureWarning: Passing literal html to 'read_html' is deprecated and will be removed in a future version. To read from a literal string, wrap it in a 'StringIO' object.\n",
      "  df = pd.read_html(str(table))[0]\n",
      "/var/folders/7z/7q00pypj1_sf2clps66cxc9r0000gn/T/ipykernel_2964/2765107248.py:32: FutureWarning: Passing literal html to 'read_html' is deprecated and will be removed in a future version. To read from a literal string, wrap it in a 'StringIO' object.\n",
      "  df = pd.read_html(str(table))[0]\n",
      "/var/folders/7z/7q00pypj1_sf2clps66cxc9r0000gn/T/ipykernel_2964/2765107248.py:32: FutureWarning: Passing literal html to 'read_html' is deprecated and will be removed in a future version. To read from a literal string, wrap it in a 'StringIO' object.\n",
      "  df = pd.read_html(str(table))[0]\n",
      "/var/folders/7z/7q00pypj1_sf2clps66cxc9r0000gn/T/ipykernel_2964/2765107248.py:32: FutureWarning: Passing literal html to 'read_html' is deprecated and will be removed in a future version. To read from a literal string, wrap it in a 'StringIO' object.\n",
      "  df = pd.read_html(str(table))[0]\n",
      "/var/folders/7z/7q00pypj1_sf2clps66cxc9r0000gn/T/ipykernel_2964/2765107248.py:32: FutureWarning: Passing literal html to 'read_html' is deprecated and will be removed in a future version. To read from a literal string, wrap it in a 'StringIO' object.\n",
      "  df = pd.read_html(str(table))[0]\n",
      "/var/folders/7z/7q00pypj1_sf2clps66cxc9r0000gn/T/ipykernel_2964/2765107248.py:32: FutureWarning: Passing literal html to 'read_html' is deprecated and will be removed in a future version. To read from a literal string, wrap it in a 'StringIO' object.\n",
      "  df = pd.read_html(str(table))[0]\n",
      "/var/folders/7z/7q00pypj1_sf2clps66cxc9r0000gn/T/ipykernel_2964/2765107248.py:32: FutureWarning: Passing literal html to 'read_html' is deprecated and will be removed in a future version. To read from a literal string, wrap it in a 'StringIO' object.\n",
      "  df = pd.read_html(str(table))[0]\n",
      "/var/folders/7z/7q00pypj1_sf2clps66cxc9r0000gn/T/ipykernel_2964/2765107248.py:32: FutureWarning: Passing literal html to 'read_html' is deprecated and will be removed in a future version. To read from a literal string, wrap it in a 'StringIO' object.\n",
      "  df = pd.read_html(str(table))[0]\n",
      "/var/folders/7z/7q00pypj1_sf2clps66cxc9r0000gn/T/ipykernel_2964/2765107248.py:32: FutureWarning: Passing literal html to 'read_html' is deprecated and will be removed in a future version. To read from a literal string, wrap it in a 'StringIO' object.\n",
      "  df = pd.read_html(str(table))[0]\n",
      "/var/folders/7z/7q00pypj1_sf2clps66cxc9r0000gn/T/ipykernel_2964/2765107248.py:32: FutureWarning: Passing literal html to 'read_html' is deprecated and will be removed in a future version. To read from a literal string, wrap it in a 'StringIO' object.\n",
      "  df = pd.read_html(str(table))[0]\n",
      "/var/folders/7z/7q00pypj1_sf2clps66cxc9r0000gn/T/ipykernel_2964/2765107248.py:32: FutureWarning: Passing literal html to 'read_html' is deprecated and will be removed in a future version. To read from a literal string, wrap it in a 'StringIO' object.\n",
      "  df = pd.read_html(str(table))[0]\n",
      "/var/folders/7z/7q00pypj1_sf2clps66cxc9r0000gn/T/ipykernel_2964/2765107248.py:32: FutureWarning: Passing literal html to 'read_html' is deprecated and will be removed in a future version. To read from a literal string, wrap it in a 'StringIO' object.\n",
      "  df = pd.read_html(str(table))[0]\n",
      "/var/folders/7z/7q00pypj1_sf2clps66cxc9r0000gn/T/ipykernel_2964/2765107248.py:32: FutureWarning: Passing literal html to 'read_html' is deprecated and will be removed in a future version. To read from a literal string, wrap it in a 'StringIO' object.\n",
      "  df = pd.read_html(str(table))[0]\n",
      "/var/folders/7z/7q00pypj1_sf2clps66cxc9r0000gn/T/ipykernel_2964/2765107248.py:32: FutureWarning: Passing literal html to 'read_html' is deprecated and will be removed in a future version. To read from a literal string, wrap it in a 'StringIO' object.\n",
      "  df = pd.read_html(str(table))[0]\n"
     ]
    }
   ],
   "source": [
    "import requests\n",
    "from bs4 import BeautifulSoup\n",
    "import pandas as pd\n",
    "from datetime import datetime\n",
    "\n",
    "def nba_injuries(start_date=\"2020-01-01\", end_date=\"2023-01-01\", player=\"\", team=\"\"):\n",
    "    try:\n",
    "        player = player.replace(\" \", \"+\")\n",
    "        base_url = \"https://www.prosportstransactions.com/basketball/Search/SearchResults.php\"\n",
    "        css_selector = \".datatable\"\n",
    "        start = 0\n",
    "        all_pages_data = []\n",
    "\n",
    "        while True:\n",
    "            params = {\n",
    "                \"Player\": player,\n",
    "                \"Team\": team,\n",
    "                \"BeginDate\": start_date,\n",
    "                \"EndDate\": end_date,\n",
    "                \"ILChkBx\": \"yes\",\n",
    "                \"InjuriesChkBx\": \"yes\",\n",
    "                \"PersonalChkBx\": \"yes\",\n",
    "                \"Submit\": \"Search\",\n",
    "                \"start\": start\n",
    "            }\n",
    "\n",
    "            response = requests.get(base_url, params=params)\n",
    "            soup = BeautifulSoup(response.content, 'html.parser')\n",
    "            table = soup.select_one(css_selector)\n",
    "\n",
    "            if table:\n",
    "                df = pd.read_html(str(table))[0]\n",
    "                df.columns = df.iloc[0]  # Set the first row as column names\n",
    "                df = df[1:]  # Remove the first row\n",
    "                all_pages_data.append(df)\n",
    "\n",
    "                # Check for the 'Next' link - if it doesn't exist, break the loop\n",
    "                if not soup.find('a', text='Next'):\n",
    "                    break\n",
    "                \n",
    "                start += 25  # Update start for next page\n",
    "            else:\n",
    "                break\n",
    "\n",
    "        # Combine all pages data into one DataFrame\n",
    "        if all_pages_data:\n",
    "            final_df = pd.concat(all_pages_data, ignore_index=True)\n",
    "            final_df['Date'] = pd.to_datetime(final_df['Date'])\n",
    "            final_df['Acquired'] = final_df['Acquired'].str.replace(\"… \", \"\")\n",
    "            final_df['Relinquished'] = final_df['Relinquished'].str.replace(\"… \", \"\")\n",
    "            return final_df\n",
    "        else:\n",
    "            print(\"No data found for the given parameters.\")\n",
    "            return pd.DataFrame()  # Return empty DataFrame if no data found\n",
    "\n",
    "    except Exception as e:\n",
    "        print(f\"An error occurred: {e}\")\n",
    "        return pd.DataFrame()  # Return empty DataFrame in case of error\n",
    "\n",
    "# Example usage\n",
    "df = nba_injuries()\n"
   ]
  },
  {
   "cell_type": "code",
   "execution_count": null,
   "metadata": {},
   "outputs": [],
   "source": []
  },
  {
   "cell_type": "code",
   "execution_count": 199,
   "metadata": {},
   "outputs": [],
   "source": [
    "df.to_csv('out.csv', index=False) "
   ]
  },
  {
   "cell_type": "code",
   "execution_count": 200,
   "metadata": {},
   "outputs": [
    {
     "data": {
      "text/html": [
       "<div>\n",
       "<style scoped>\n",
       "    .dataframe tbody tr th:only-of-type {\n",
       "        vertical-align: middle;\n",
       "    }\n",
       "\n",
       "    .dataframe tbody tr th {\n",
       "        vertical-align: top;\n",
       "    }\n",
       "\n",
       "    .dataframe thead th {\n",
       "        text-align: right;\n",
       "    }\n",
       "</style>\n",
       "<table border=\"1\" class=\"dataframe\">\n",
       "  <thead>\n",
       "    <tr style=\"text-align: right;\">\n",
       "      <th></th>\n",
       "      <th>Player</th>\n",
       "      <th>Days Since Last Injury</th>\n",
       "      <th>List of Past Injuries</th>\n",
       "      <th>Got Injured</th>\n",
       "    </tr>\n",
       "  </thead>\n",
       "  <tbody>\n",
       "    <tr>\n",
       "      <th>0</th>\n",
       "      <td>• (James) Mike Scott</td>\n",
       "      <td>615</td>\n",
       "      <td>[placed on IL with sore right knee, placed on ...</td>\n",
       "      <td>0</td>\n",
       "    </tr>\n",
       "    <tr>\n",
       "      <th>1</th>\n",
       "      <td>• (Sean) Chris Smith</td>\n",
       "      <td>284</td>\n",
       "      <td>[surgery on left knee (out indefinitely), spra...</td>\n",
       "      <td>0</td>\n",
       "    </tr>\n",
       "    <tr>\n",
       "      <th>2</th>\n",
       "      <td>• A.J. Green</td>\n",
       "      <td>64</td>\n",
       "      <td>[placed on IL with fractured nose]</td>\n",
       "      <td>0</td>\n",
       "    </tr>\n",
       "    <tr>\n",
       "      <th>3</th>\n",
       "      <td>• Aaron Gordon</td>\n",
       "      <td>5</td>\n",
       "      <td>[placed on IL with right calf injury, placed o...</td>\n",
       "      <td>0</td>\n",
       "    </tr>\n",
       "    <tr>\n",
       "      <th>4</th>\n",
       "      <td>• Aaron Henry</td>\n",
       "      <td>367</td>\n",
       "      <td>[placed on IL, placed on IL, placed on IL, pla...</td>\n",
       "      <td>0</td>\n",
       "    </tr>\n",
       "    <tr>\n",
       "      <th>...</th>\n",
       "      <td>...</td>\n",
       "      <td>...</td>\n",
       "      <td>...</td>\n",
       "      <td>...</td>\n",
       "    </tr>\n",
       "    <tr>\n",
       "      <th>703</th>\n",
       "      <td>• Zhaire Smith</td>\n",
       "      <td>1057</td>\n",
       "      <td>[placed on IL with left knee injury (out for s...</td>\n",
       "      <td>1</td>\n",
       "    </tr>\n",
       "    <tr>\n",
       "      <th>704</th>\n",
       "      <td>• Ziaire Williams</td>\n",
       "      <td>74</td>\n",
       "      <td>[sore right wrist (DTD), placed on IL with sor...</td>\n",
       "      <td>1</td>\n",
       "    </tr>\n",
       "    <tr>\n",
       "      <th>705</th>\n",
       "      <td>• Zion Williamson</td>\n",
       "      <td>10</td>\n",
       "      <td>[sprained left ankle (DTD), placed on IL, plac...</td>\n",
       "      <td>0</td>\n",
       "    </tr>\n",
       "    <tr>\n",
       "      <th>706</th>\n",
       "      <td>• Zylan Cheatham</td>\n",
       "      <td>368</td>\n",
       "      <td>[placed on IL with NBA health and safety proto...</td>\n",
       "      <td>0</td>\n",
       "    </tr>\n",
       "    <tr>\n",
       "      <th>707</th>\n",
       "      <td>• left wrist injury (DTD)</td>\n",
       "      <td>735</td>\n",
       "      <td>[placed on IL with left wrist injury (DTD)]</td>\n",
       "      <td>1</td>\n",
       "    </tr>\n",
       "  </tbody>\n",
       "</table>\n",
       "<p>708 rows × 4 columns</p>\n",
       "</div>"
      ],
      "text/plain": [
       "                        Player  Days Since Last Injury  \\\n",
       "0         • (James) Mike Scott                     615   \n",
       "1         • (Sean) Chris Smith                     284   \n",
       "2                 • A.J. Green                      64   \n",
       "3               • Aaron Gordon                       5   \n",
       "4                • Aaron Henry                     367   \n",
       "..                         ...                     ...   \n",
       "703             • Zhaire Smith                    1057   \n",
       "704          • Ziaire Williams                      74   \n",
       "705          • Zion Williamson                      10   \n",
       "706           • Zylan Cheatham                     368   \n",
       "707  • left wrist injury (DTD)                     735   \n",
       "\n",
       "                                 List of Past Injuries  Got Injured  \n",
       "0    [placed on IL with sore right knee, placed on ...            0  \n",
       "1    [surgery on left knee (out indefinitely), spra...            0  \n",
       "2                   [placed on IL with fractured nose]            0  \n",
       "3    [placed on IL with right calf injury, placed o...            0  \n",
       "4    [placed on IL, placed on IL, placed on IL, pla...            0  \n",
       "..                                                 ...          ...  \n",
       "703  [placed on IL with left knee injury (out for s...            1  \n",
       "704  [sore right wrist (DTD), placed on IL with sor...            1  \n",
       "705  [sprained left ankle (DTD), placed on IL, plac...            0  \n",
       "706  [placed on IL with NBA health and safety proto...            0  \n",
       "707        [placed on IL with left wrist injury (DTD)]            1  \n",
       "\n",
       "[708 rows x 4 columns]"
      ]
     },
     "execution_count": 200,
     "metadata": {},
     "output_type": "execute_result"
    }
   ],
   "source": [
    "# Convert 'Date' column to datetime\n",
    "df['Date'] = pd.to_datetime(df['Date'])\n",
    "current_date = pd.to_datetime('2023-01-01')\n",
    "\n",
    "# Melt the DataFrame to unify 'Relinquished' and 'Acquired' under a single 'Player' column\n",
    "latest_dates = df.melt(id_vars='Date', value_vars=['Relinquished', 'Acquired'], var_name='Status', value_name='Player')\n",
    "latest_dates = latest_dates.dropna(subset=['Player']).sort_values(by='Date', ascending=False)\n",
    "latest_dates = latest_dates.drop_duplicates(subset=['Player'], keep='first')\n",
    "\n",
    "# Create a 'Got Injured' column: 1 if 'Relinquished', 0 if 'Acquired'\n",
    "latest_dates['Got Injured'] = (latest_dates['Status'] == 'Relinquished').astype(int)\n",
    "\n",
    "# Aggregate original data for players listed in 'Relinquished'\n",
    "grouped_df = df.dropna(subset=['Relinquished']).groupby('Relinquished').agg({\n",
    "    'Date': lambda x: (current_date - max(x)).days,\n",
    "    'Notes': lambda x: list(x.dropna())\n",
    "}).reset_index()\n",
    "\n",
    "# Merge the aggregated data with the latest_dates to include the 'Got Injured' status\n",
    "grouped_df = grouped_df.merge(latest_dates[['Player', 'Got Injured']], left_on='Relinquished', right_on='Player', how='left')\n",
    "\n",
    "# Rename columns for clarity and avoid deleting necessary columns\n",
    "grouped_df = grouped_df.rename(columns={'Relinquished': 'Player', 'Date': 'Days Since Last Injury', 'Notes': 'List of Past Injuries','Player':'DROP'})\n",
    "grouped_df.drop(columns = [\"DROP\"],inplace = True)\n",
    "grouped_df"
   ]
  },
  {
   "cell_type": "code",
   "execution_count": 201,
   "metadata": {},
   "outputs": [
    {
     "name": "stdout",
     "output_type": "stream",
     "text": [
      "                        Player  Days Since Last Injury  Got Injured  core  \\\n",
      "0         • (James) Mike Scott                     615            0     0   \n",
      "1         • (Sean) Chris Smith                     284            0     0   \n",
      "2                 • A.J. Green                      64            0     0   \n",
      "3               • Aaron Gordon                       5            0     0   \n",
      "4                • Aaron Henry                     367            0     0   \n",
      "..                         ...                     ...          ...   ...   \n",
      "703             • Zhaire Smith                    1057            1     0   \n",
      "704          • Ziaire Williams                      74            1     0   \n",
      "705          • Zion Williamson                      10            0     0   \n",
      "706           • Zylan Cheatham                     368            0     0   \n",
      "707  • left wrist injury (DTD)                     735            1     0   \n",
      "\n",
      "     upper body  ligament  foot  back  \n",
      "0             0         0     0     0  \n",
      "1             0         0     0     0  \n",
      "2             0         0     0     0  \n",
      "3             0         0     1     0  \n",
      "4             0         0     0     0  \n",
      "..          ...       ...   ...   ...  \n",
      "703           0         0     0     0  \n",
      "704           0         0     0     0  \n",
      "705           0         0     2     1  \n",
      "706           0         0     0     0  \n",
      "707           0         0     0     0  \n",
      "\n",
      "[708 rows x 8 columns]\n"
     ]
    }
   ],
   "source": [
    "injury_types = [\"core\", \"upper body\", \"ligament\", \"foot\", \"back\"]\n",
    "\n",
    "def filter_injury_types(injuries_list):\n",
    "    \"\"\"Filters a list of injuries to include only predefined injury types.\"\"\"\n",
    "    filtered_types = []\n",
    "    for injury in injuries_list:\n",
    "        for injury_type in injury_types:\n",
    "            if injury_type in injury.lower():\n",
    "                filtered_types.append(injury_type)\n",
    "    return filtered_types\n",
    "\n",
    "#grouped_df['Injury Types'] = grouped_df['List of Past Injuries'].apply(has_injury_type)\n",
    "\n",
    "# Apply the function to filter and extract relevant injury types\n",
    "grouped_df['Filtered Injuries'] = grouped_df['List of Past Injuries'].apply(filter_injury_types)\n",
    "\n",
    "# Explode the list of filtered injuries into separate rows\n",
    "exploded_df = grouped_df.explode('Filtered Injuries')\n",
    "\n",
    "# Create dummy variables for each injury type\n",
    "injury_dummies = pd.get_dummies(exploded_df['Filtered Injuries'])\n",
    "grouped_df = grouped_df.join(injury_dummies.groupby(level=0).sum())\n",
    "\n",
    "# Ensure all injury types are represented in the DataFrame\n",
    "for injury_type in injury_types:\n",
    "    if injury_type not in grouped_df.columns:\n",
    "        grouped_df[injury_type] = 0\n",
    "\n",
    "# Optionally, select only the injury type columns\n",
    "grouped_df = grouped_df[['Player', 'Days Since Last Injury',\"Got Injured\"] + injury_types]\n",
    "\n",
    "\n",
    "# Display the updated DataFrame\n",
    "print(grouped_df)"
   ]
  },
  {
   "cell_type": "code",
   "execution_count": 202,
   "metadata": {},
   "outputs": [
    {
     "data": {
      "text/html": [
       "<div>\n",
       "<style scoped>\n",
       "    .dataframe tbody tr th:only-of-type {\n",
       "        vertical-align: middle;\n",
       "    }\n",
       "\n",
       "    .dataframe tbody tr th {\n",
       "        vertical-align: top;\n",
       "    }\n",
       "\n",
       "    .dataframe thead th {\n",
       "        text-align: right;\n",
       "    }\n",
       "</style>\n",
       "<table border=\"1\" class=\"dataframe\">\n",
       "  <thead>\n",
       "    <tr style=\"text-align: right;\">\n",
       "      <th></th>\n",
       "      <th>Player</th>\n",
       "      <th>Days Since Last Injury</th>\n",
       "      <th>Got Injured</th>\n",
       "      <th>core</th>\n",
       "      <th>upper body</th>\n",
       "      <th>ligament</th>\n",
       "      <th>foot</th>\n",
       "      <th>back</th>\n",
       "    </tr>\n",
       "  </thead>\n",
       "  <tbody>\n",
       "    <tr>\n",
       "      <th>0</th>\n",
       "      <td>(James) Mike Scott</td>\n",
       "      <td>615</td>\n",
       "      <td>0</td>\n",
       "      <td>0</td>\n",
       "      <td>0</td>\n",
       "      <td>0</td>\n",
       "      <td>0</td>\n",
       "      <td>0</td>\n",
       "    </tr>\n",
       "    <tr>\n",
       "      <th>1</th>\n",
       "      <td>(Sean) Chris Smith</td>\n",
       "      <td>284</td>\n",
       "      <td>0</td>\n",
       "      <td>0</td>\n",
       "      <td>0</td>\n",
       "      <td>0</td>\n",
       "      <td>0</td>\n",
       "      <td>0</td>\n",
       "    </tr>\n",
       "    <tr>\n",
       "      <th>2</th>\n",
       "      <td>A.J. Green</td>\n",
       "      <td>64</td>\n",
       "      <td>0</td>\n",
       "      <td>0</td>\n",
       "      <td>0</td>\n",
       "      <td>0</td>\n",
       "      <td>0</td>\n",
       "      <td>0</td>\n",
       "    </tr>\n",
       "    <tr>\n",
       "      <th>3</th>\n",
       "      <td>Aaron Gordon</td>\n",
       "      <td>5</td>\n",
       "      <td>0</td>\n",
       "      <td>0</td>\n",
       "      <td>0</td>\n",
       "      <td>0</td>\n",
       "      <td>1</td>\n",
       "      <td>0</td>\n",
       "    </tr>\n",
       "    <tr>\n",
       "      <th>4</th>\n",
       "      <td>Aaron Henry</td>\n",
       "      <td>367</td>\n",
       "      <td>0</td>\n",
       "      <td>0</td>\n",
       "      <td>0</td>\n",
       "      <td>0</td>\n",
       "      <td>0</td>\n",
       "      <td>0</td>\n",
       "    </tr>\n",
       "  </tbody>\n",
       "</table>\n",
       "</div>"
      ],
      "text/plain": [
       "                Player  Days Since Last Injury  Got Injured  core  upper body  \\\n",
       "0   (James) Mike Scott                     615            0     0           0   \n",
       "1   (Sean) Chris Smith                     284            0     0           0   \n",
       "2           A.J. Green                      64            0     0           0   \n",
       "3         Aaron Gordon                       5            0     0           0   \n",
       "4          Aaron Henry                     367            0     0           0   \n",
       "\n",
       "   ligament  foot  back  \n",
       "0         0     0     0  \n",
       "1         0     0     0  \n",
       "2         0     0     0  \n",
       "3         0     1     0  \n",
       "4         0     0     0  "
      ]
     },
     "execution_count": 202,
     "metadata": {},
     "output_type": "execute_result"
    }
   ],
   "source": [
    "grouped_df['Player'] = grouped_df['Player'].str.replace('•', '')\n",
    "#grouped_df[\"Got Injured\"] = grouped_df['Days Since Last Injury'] <= 3\n",
    "#grouped_df[\"Got Injured\"] = grouped_df[\"Got Injured\"].astype(int)\n",
    "grouped_df.head()"
   ]
  },
  {
   "cell_type": "code",
   "execution_count": 210,
   "metadata": {},
   "outputs": [
    {
     "name": "stdout",
     "output_type": "stream",
     "text": [
      "Failed to retrieve the web page. Status code: 429\n",
      "Rate limit reached, retrying after 2039 seconds\n"
     ]
    },
    {
     "ename": "KeyboardInterrupt",
     "evalue": "",
     "output_type": "error",
     "traceback": [
      "\u001b[0;31m---------------------------------------------------------------------------\u001b[0m",
      "\u001b[0;31mKeyboardInterrupt\u001b[0m                         Traceback (most recent call last)",
      "\u001b[0;32m/var/folders/7z/7q00pypj1_sf2clps66cxc9r0000gn/T/ipykernel_2964/1753532913.py\u001b[0m in \u001b[0;36m<module>\u001b[0;34m\u001b[0m\n\u001b[1;32m     50\u001b[0m \u001b[0;31m# Example usage\u001b[0m\u001b[0;34m\u001b[0m\u001b[0;34m\u001b[0m\u001b[0m\n\u001b[1;32m     51\u001b[0m \u001b[0mplayer_url\u001b[0m \u001b[0;34m=\u001b[0m \u001b[0;34m\"https://www.basketball-reference.com/players/g/greenje02.html\"\u001b[0m\u001b[0;34m\u001b[0m\u001b[0;34m\u001b[0m\u001b[0m\n\u001b[0;32m---> 52\u001b[0;31m \u001b[0mlast_5_games_df\u001b[0m \u001b[0;34m=\u001b[0m \u001b[0mfetch_last_5_games_data\u001b[0m\u001b[0;34m(\u001b[0m\u001b[0mplayer_url\u001b[0m\u001b[0;34m)\u001b[0m\u001b[0;34m\u001b[0m\u001b[0;34m\u001b[0m\u001b[0m\n\u001b[0m\u001b[1;32m     53\u001b[0m \u001b[0mprint\u001b[0m\u001b[0;34m(\u001b[0m\u001b[0mlast_5_games_df\u001b[0m\u001b[0;34m)\u001b[0m\u001b[0;34m\u001b[0m\u001b[0;34m\u001b[0m\u001b[0m\n\u001b[1;32m     54\u001b[0m \u001b[0;34m\u001b[0m\u001b[0m\n",
      "\u001b[0;32m/var/folders/7z/7q00pypj1_sf2clps66cxc9r0000gn/T/ipykernel_2964/1753532913.py\u001b[0m in \u001b[0;36mfetch_last_5_games_data\u001b[0;34m(player_url)\u001b[0m\n\u001b[1;32m     11\u001b[0m             \u001b[0mretry_after\u001b[0m \u001b[0;34m=\u001b[0m \u001b[0mint\u001b[0m\u001b[0;34m(\u001b[0m\u001b[0mresponse\u001b[0m\u001b[0;34m.\u001b[0m\u001b[0mheaders\u001b[0m\u001b[0;34m.\u001b[0m\u001b[0mget\u001b[0m\u001b[0;34m(\u001b[0m\u001b[0;34m\"Retry-After\"\u001b[0m\u001b[0;34m,\u001b[0m \u001b[0;36m10\u001b[0m\u001b[0;34m)\u001b[0m\u001b[0;34m)\u001b[0m  \u001b[0;31m# Default to 30 seconds if header is missing\u001b[0m\u001b[0;34m\u001b[0m\u001b[0;34m\u001b[0m\u001b[0m\n\u001b[1;32m     12\u001b[0m             \u001b[0mprint\u001b[0m\u001b[0;34m(\u001b[0m\u001b[0;34mf\"Rate limit reached, retrying after {retry_after} seconds\"\u001b[0m\u001b[0;34m)\u001b[0m\u001b[0;34m\u001b[0m\u001b[0;34m\u001b[0m\u001b[0m\n\u001b[0;32m---> 13\u001b[0;31m             \u001b[0mtime\u001b[0m\u001b[0;34m.\u001b[0m\u001b[0msleep\u001b[0m\u001b[0;34m(\u001b[0m\u001b[0mretry_after\u001b[0m\u001b[0;34m)\u001b[0m\u001b[0;34m\u001b[0m\u001b[0;34m\u001b[0m\u001b[0m\n\u001b[0m\u001b[1;32m     14\u001b[0m             \u001b[0mprint\u001b[0m\u001b[0;34m(\u001b[0m\u001b[0;34m\"Timer:\"\u001b[0m\u001b[0;34m,\u001b[0m \u001b[0mretry_after\u001b[0m\u001b[0;34m)\u001b[0m\u001b[0;34m\u001b[0m\u001b[0;34m\u001b[0m\u001b[0m\n\u001b[1;32m     15\u001b[0m         \u001b[0;32mreturn\u001b[0m \u001b[0;32mNone\u001b[0m\u001b[0;34m\u001b[0m\u001b[0;34m\u001b[0m\u001b[0m\n",
      "\u001b[0;31mKeyboardInterrupt\u001b[0m: "
     ]
    }
   ],
   "source": [
    "import requests\n",
    "from bs4 import BeautifulSoup\n",
    "import pandas as pd\n",
    "import time\n",
    "\n",
    "def fetch_last_5_games_data(player_url):\n",
    "    response = requests.get(player_url)\n",
    "    if response.status_code != 200:\n",
    "        print(f\"Failed to retrieve the web page. Status code: {response.status_code}\")\n",
    "        return None\n",
    "    if response.status_code == 429:\n",
    "            retry_after = int(response.headers.get(\"Retry-After\", 10))  # Default to 30 seconds if header is missing\n",
    "            print(f\"Rate limit reached, retrying after {retry_after} seconds\")\n",
    "            print(\"Timer:\", retry_after)\n",
    "            time.sleep(retry_after)\n",
    "            \n",
    "\n",
    "    # Parse the HTML content\n",
    "    soup = BeautifulSoup(response.content, 'html.parser')\n",
    "\n",
    "    # Find the div containing the last 5 games data\n",
    "    last5_div = soup.find('div', id='all_last5')\n",
    "    if not last5_div:\n",
    "        print(\"Last 5 games div not found.\")\n",
    "        return None\n",
    "\n",
    "    # The table might be directly inside the div\n",
    "    table = last5_div.find('table')\n",
    "    if not table:\n",
    "        print(\"Last 5 games table not found.\")\n",
    "        return None\n",
    "\n",
    "    # Parse the table with pandas\n",
    "    df = pd.read_html(str(table))[0]\n",
    "    \n",
    "    # Clean and process the DataFrame to have the desired columns\n",
    "    \n",
    "    df['GameLocation'] = df.apply(lambda row: row['Opp'].replace('@', '').strip() \n",
    "                                  if '@' in row['Opp'] else row['Team'], axis=1)\n",
    "\n",
    "    # Clean the 'MP' column, which represents minutes played\n",
    "    df['MP'] = df['MP']\n",
    "\n",
    "    # Select and rename the relevant columns\n",
    "    relevant_data = df[['Date', 'MP', 'GameLocation']].rename(columns={\n",
    "        'MP': 'TimePlayed'\n",
    "    })\n",
    "\n",
    "    return relevant_data\n",
    "\n",
    "# Example usage\n",
    "player_url = \"https://www.basketball-reference.com/players/g/greenje02.html\"\n",
    "last_5_games_df = fetch_last_5_games_data(player_url)\n",
    "print(last_5_games_df)\n",
    "\n"
   ]
  },
  {
   "cell_type": "code",
   "execution_count": 204,
   "metadata": {},
   "outputs": [
    {
     "name": "stdout",
     "output_type": "stream",
     "text": [
      "Player page URL: https://www.basketball-reference.com/players/j/jamesle01.html\n"
     ]
    }
   ],
   "source": [
    "import requests\n",
    "from bs4 import BeautifulSoup\n",
    "\n",
    "def search_for_player_page(player_name):\n",
    "    # Encode the player's name for use in a URL\n",
    "    query = player_name.replace(' ', '+')\n",
    "\n",
    "    # The base URL for the basketball-reference search\n",
    "    search_url = f'https://www.basketball-reference.com/search/search.fcgi?search={query}'\n",
    "    \n",
    "    # Perform the search request\n",
    "    response = requests.get(search_url)\n",
    "    \n",
    "    # If the response URL is a player page, return it directly\n",
    "    if 'players' in response.url:\n",
    "        return response.url\n",
    "    \n",
    "    if response.status_code != 200:\n",
    "        print(f\"Failed to retrieve the search page. Status code: {response.status_code}\")\n",
    "        return None\n",
    "\n",
    "    # Parse the search results page to find links\n",
    "    soup = BeautifulSoup(response.content, 'html.parser')\n",
    "    \n",
    "    # Look for the div that contains the search results\n",
    "    search_results = soup.find('div', id='players')\n",
    "    \n",
    "    if search_results:\n",
    "        # Attempt to find an anchor element within the search results\n",
    "        player_link = search_results.find('a')\n",
    "        \n",
    "        if player_link and 'href' in player_link.attrs:\n",
    "            # Construct the full URL to the player's page\n",
    "            player_page_url = 'https://www.basketball-reference.com' + player_link['href']\n",
    "            return player_page_url\n",
    "        else:\n",
    "            print(\"No player link found in the search results.\")\n",
    "            return None\n",
    "    else:\n",
    "        print(\"No search results found for the player.\")\n",
    "        return None\n",
    "\n",
    "# Example usage\n",
    "player_name = \"LeBron James\"\n",
    "player_page_url = search_for_player_page(player_name)\n",
    "print(f\"Player page URL: {player_page_url}\")"
   ]
  },
  {
   "cell_type": "code",
   "execution_count": 205,
   "metadata": {},
   "outputs": [
    {
     "name": "stdout",
     "output_type": "stream",
     "text": [
      "{'Name': 'LeBron James', 'Position': 'Small Forward', 'Height': 206, 'Weight': 250, 'Age': 39, 'Experience': 20}\n",
      "<class 'dict'>\n"
     ]
    }
   ],
   "source": [
    "import requests\n",
    "from bs4 import BeautifulSoup\n",
    "from datetime import datetime\n",
    "import re\n",
    "\n",
    "def fetch_player_info(player_url):\n",
    "    response = requests.get(player_url)\n",
    "    if response.status_code != 200:\n",
    "        return f\"Failed to retrieve the web page. Status code: {response.status_code}\"\n",
    "\n",
    "    # Parse the HTML content\n",
    "    soup = BeautifulSoup(response.content, 'html.parser')\n",
    "\n",
    "    # Extracting the player's name from the <h1> tag\n",
    "    player_name = soup.select_one('.players h1').text.strip() if soup.select_one('.players h1') else \"Unknown\"\n",
    "\n",
    "    # Extracting the position, height, weight, and birth date from the player's meta information\n",
    "    meta_info = soup.find('div', id='meta')\n",
    "\n",
    "    # Position\n",
    "    # Position\n",
    "    position_tag = meta_info.find('strong', text=lambda x: x and 'Position:' in x)\n",
    "    position = position_tag.next_sibling.strip() if position_tag and position_tag.next_sibling else \"Unknown\"\n",
    "\n",
    "\n",
    "    # Height and Weight\n",
    "    \n",
    "    height_weight_text = meta_info.find('span', text=lambda x: x and 'lb' in x)\n",
    "    height = height_weight_text.next_sibling.strip() if height_weight_text else \"Unknown\"\n",
    "    weight = height_weight_text.text.strip() if height_weight_text else \"Unknown\"\n",
    "    \n",
    "    # Birth date for age calculation\n",
    "    birth_date_tag = meta_info.find('span', id='necro-birth')\n",
    "    birth_date_str = birth_date_tag['data-birth'] if birth_date_tag else \"Unknown\"\n",
    "\n",
    "    if birth_date_str != \"Unknown\":\n",
    "        birth_date = datetime.strptime(birth_date_str, '%Y-%m-%d').date()\n",
    "        today = datetime.now().date()\n",
    "        age = today.year - birth_date.year - ((today.month, today.day) < (birth_date.month, birth_date.day))\n",
    "    else:\n",
    "        age = \"Unknown\"\n",
    "\n",
    "    # Weight\n",
    "    weight_match = re.search(r\"\\d+\", weight)\n",
    "    weight = int(weight_match.group()) if weight_match else \"Unknown\"\n",
    "\n",
    "    # Experience\n",
    "    experience = meta_info.find('strong', text='Experience:').next_sibling.strip() if meta_info.find('strong', text='Experience:') else \"Unknown\"\n",
    "    experience_match = re.search(r\"\\d+\", experience)\n",
    "    experience = int(experience_match.group()) if experience_match else \"Unknown\"\n",
    "\n",
    "    player_data = {\n",
    "        'Name': player_name,\n",
    "        'Position': position.split(\",\")[0],\n",
    "        'Height': int(re.search(r\"(\\d+)cm\", height).group(1)),\n",
    "        'Weight': weight,\n",
    "        'Age': age,\n",
    "        'Experience': experience\n",
    "    }\n",
    "\n",
    "    return player_data\n",
    "\n",
    "# Example usage\n",
    "player_url = \"https://www.basketball-reference.com/players/j/jamesle01.html\"\n",
    "player_info = fetch_player_info(player_url)\n",
    "print(player_info)\n",
    "print(type(player_info))\n"
   ]
  },
  {
   "cell_type": "markdown",
   "metadata": {},
   "source": []
  },
  {
   "cell_type": "code",
   "execution_count": 212,
   "metadata": {},
   "outputs": [
    {
     "name": "stdout",
     "output_type": "stream",
     "text": [
      "Processing  (James) Mike Scott\n",
      "No search results found for the player.\n",
      "Processing  (Sean) Chris Smith\n",
      "No search results found for the player.\n",
      "Processing  A.J. Green\n"
     ]
    },
    {
     "name": "stderr",
     "output_type": "stream",
     "text": [
      "/var/folders/7z/7q00pypj1_sf2clps66cxc9r0000gn/T/ipykernel_2964/1753532913.py:33: FutureWarning: Passing literal html to 'read_html' is deprecated and will be removed in a future version. To read from a literal string, wrap it in a 'StringIO' object.\n",
      "  df = pd.read_html(str(table))[0]\n"
     ]
    },
    {
     "name": "stdout",
     "output_type": "stream",
     "text": [
      "Processing  Aaron Gordon\n"
     ]
    },
    {
     "name": "stderr",
     "output_type": "stream",
     "text": [
      "/var/folders/7z/7q00pypj1_sf2clps66cxc9r0000gn/T/ipykernel_2964/1753532913.py:33: FutureWarning: Passing literal html to 'read_html' is deprecated and will be removed in a future version. To read from a literal string, wrap it in a 'StringIO' object.\n",
      "  df = pd.read_html(str(table))[0]\n"
     ]
    },
    {
     "name": "stdout",
     "output_type": "stream",
     "text": [
      "Processing  Aaron Henry\n",
      "Last 5 games div not found.\n",
      "Processing  Aaron Holiday\n"
     ]
    },
    {
     "name": "stderr",
     "output_type": "stream",
     "text": [
      "/var/folders/7z/7q00pypj1_sf2clps66cxc9r0000gn/T/ipykernel_2964/1753532913.py:33: FutureWarning: Passing literal html to 'read_html' is deprecated and will be removed in a future version. To read from a literal string, wrap it in a 'StringIO' object.\n",
      "  df = pd.read_html(str(table))[0]\n"
     ]
    },
    {
     "name": "stdout",
     "output_type": "stream",
     "text": [
      "Processing  Aaron Nesmith\n"
     ]
    },
    {
     "name": "stderr",
     "output_type": "stream",
     "text": [
      "/var/folders/7z/7q00pypj1_sf2clps66cxc9r0000gn/T/ipykernel_2964/1753532913.py:33: FutureWarning: Passing literal html to 'read_html' is deprecated and will be removed in a future version. To read from a literal string, wrap it in a 'StringIO' object.\n",
      "  df = pd.read_html(str(table))[0]\n"
     ]
    },
    {
     "name": "stdout",
     "output_type": "stream",
     "text": [
      "Processing  Aaron Wiggins\n"
     ]
    },
    {
     "name": "stderr",
     "output_type": "stream",
     "text": [
      "/var/folders/7z/7q00pypj1_sf2clps66cxc9r0000gn/T/ipykernel_2964/1753532913.py:33: FutureWarning: Passing literal html to 'read_html' is deprecated and will be removed in a future version. To read from a literal string, wrap it in a 'StringIO' object.\n",
      "  df = pd.read_html(str(table))[0]\n"
     ]
    },
    {
     "name": "stdout",
     "output_type": "stream",
     "text": [
      "Processing  Abdel Nader\n",
      "Last 5 games div not found.\n",
      "Processing  Adam Mokoka\n",
      "Last 5 games div not found.\n",
      "Processing  Admiral Schofield\n"
     ]
    },
    {
     "name": "stderr",
     "output_type": "stream",
     "text": [
      "/var/folders/7z/7q00pypj1_sf2clps66cxc9r0000gn/T/ipykernel_2964/1753532913.py:33: FutureWarning: Passing literal html to 'read_html' is deprecated and will be removed in a future version. To read from a literal string, wrap it in a 'StringIO' object.\n",
      "  df = pd.read_html(str(table))[0]\n"
     ]
    },
    {
     "name": "stdout",
     "output_type": "stream",
     "text": [
      "Processing  Al Horford\n"
     ]
    },
    {
     "name": "stderr",
     "output_type": "stream",
     "text": [
      "/var/folders/7z/7q00pypj1_sf2clps66cxc9r0000gn/T/ipykernel_2964/1753532913.py:33: FutureWarning: Passing literal html to 'read_html' is deprecated and will be removed in a future version. To read from a literal string, wrap it in a 'StringIO' object.\n",
      "  df = pd.read_html(str(table))[0]\n"
     ]
    },
    {
     "name": "stdout",
     "output_type": "stream",
     "text": [
      "Processing  Al-Farouq Aminu\n",
      "Last 5 games div not found.\n",
      "Processing  Alec Burks\n"
     ]
    },
    {
     "name": "stderr",
     "output_type": "stream",
     "text": [
      "/var/folders/7z/7q00pypj1_sf2clps66cxc9r0000gn/T/ipykernel_2964/1753532913.py:33: FutureWarning: Passing literal html to 'read_html' is deprecated and will be removed in a future version. To read from a literal string, wrap it in a 'StringIO' object.\n",
      "  df = pd.read_html(str(table))[0]\n"
     ]
    },
    {
     "name": "stdout",
     "output_type": "stream",
     "text": [
      "Processing  Aleksej Pokusevski\n"
     ]
    },
    {
     "name": "stderr",
     "output_type": "stream",
     "text": [
      "/var/folders/7z/7q00pypj1_sf2clps66cxc9r0000gn/T/ipykernel_2964/1753532913.py:33: FutureWarning: Passing literal html to 'read_html' is deprecated and will be removed in a future version. To read from a literal string, wrap it in a 'StringIO' object.\n",
      "  df = pd.read_html(str(table))[0]\n"
     ]
    },
    {
     "name": "stdout",
     "output_type": "stream",
     "text": [
      "Processing  Alen Smailagic\n",
      "Last 5 games div not found.\n",
      "Processing  Alex Caruso\n"
     ]
    },
    {
     "name": "stderr",
     "output_type": "stream",
     "text": [
      "/var/folders/7z/7q00pypj1_sf2clps66cxc9r0000gn/T/ipykernel_2964/1753532913.py:33: FutureWarning: Passing literal html to 'read_html' is deprecated and will be removed in a future version. To read from a literal string, wrap it in a 'StringIO' object.\n",
      "  df = pd.read_html(str(table))[0]\n"
     ]
    },
    {
     "name": "stdout",
     "output_type": "stream",
     "text": [
      "Processing  Alex Len\n"
     ]
    },
    {
     "name": "stderr",
     "output_type": "stream",
     "text": [
      "/var/folders/7z/7q00pypj1_sf2clps66cxc9r0000gn/T/ipykernel_2964/1753532913.py:33: FutureWarning: Passing literal html to 'read_html' is deprecated and will be removed in a future version. To read from a literal string, wrap it in a 'StringIO' object.\n",
      "  df = pd.read_html(str(table))[0]\n"
     ]
    },
    {
     "name": "stdout",
     "output_type": "stream",
     "text": [
      "Processing  Alfonzo McKinnie\n",
      "Last 5 games div not found.\n",
      "Processing  Alize Johnson\n",
      "Last 5 games div not found.\n",
      "Processing  Allen Crabbe\n",
      "Last 5 games div not found.\n",
      "Processing  Allonzo Trier\n",
      "Last 5 games div not found.\n",
      "Processing  Alondes Williams\n"
     ]
    },
    {
     "name": "stderr",
     "output_type": "stream",
     "text": [
      "/var/folders/7z/7q00pypj1_sf2clps66cxc9r0000gn/T/ipykernel_2964/1753532913.py:33: FutureWarning: Passing literal html to 'read_html' is deprecated and will be removed in a future version. To read from a literal string, wrap it in a 'StringIO' object.\n",
      "  df = pd.read_html(str(table))[0]\n"
     ]
    },
    {
     "name": "stdout",
     "output_type": "stream",
     "text": [
      "Processing  Alperen Sengun\n"
     ]
    },
    {
     "name": "stderr",
     "output_type": "stream",
     "text": [
      "/var/folders/7z/7q00pypj1_sf2clps66cxc9r0000gn/T/ipykernel_2964/1753532913.py:33: FutureWarning: Passing literal html to 'read_html' is deprecated and will be removed in a future version. To read from a literal string, wrap it in a 'StringIO' object.\n",
      "  df = pd.read_html(str(table))[0]\n"
     ]
    },
    {
     "name": "stdout",
     "output_type": "stream",
     "text": [
      "Processing  Amir Coffey\n"
     ]
    },
    {
     "name": "stderr",
     "output_type": "stream",
     "text": [
      "/var/folders/7z/7q00pypj1_sf2clps66cxc9r0000gn/T/ipykernel_2964/1753532913.py:33: FutureWarning: Passing literal html to 'read_html' is deprecated and will be removed in a future version. To read from a literal string, wrap it in a 'StringIO' object.\n",
      "  df = pd.read_html(str(table))[0]\n"
     ]
    },
    {
     "name": "stdout",
     "output_type": "stream",
     "text": [
      "Processing  Andre Drummond\n"
     ]
    },
    {
     "name": "stderr",
     "output_type": "stream",
     "text": [
      "/var/folders/7z/7q00pypj1_sf2clps66cxc9r0000gn/T/ipykernel_2964/1753532913.py:33: FutureWarning: Passing literal html to 'read_html' is deprecated and will be removed in a future version. To read from a literal string, wrap it in a 'StringIO' object.\n",
      "  df = pd.read_html(str(table))[0]\n"
     ]
    },
    {
     "name": "stdout",
     "output_type": "stream",
     "text": [
      "Processing  Andre Iguodala\n",
      "Last 5 games div not found.\n",
      "Processing  Andre Roberson\n",
      "Last 5 games div not found.\n",
      "Processing  Andrew Nembhard\n"
     ]
    },
    {
     "name": "stderr",
     "output_type": "stream",
     "text": [
      "/var/folders/7z/7q00pypj1_sf2clps66cxc9r0000gn/T/ipykernel_2964/1753532913.py:33: FutureWarning: Passing literal html to 'read_html' is deprecated and will be removed in a future version. To read from a literal string, wrap it in a 'StringIO' object.\n",
      "  df = pd.read_html(str(table))[0]\n"
     ]
    },
    {
     "name": "stdout",
     "output_type": "stream",
     "text": [
      "Processing  Andrew Wiggins\n"
     ]
    },
    {
     "name": "stderr",
     "output_type": "stream",
     "text": [
      "/var/folders/7z/7q00pypj1_sf2clps66cxc9r0000gn/T/ipykernel_2964/1753532913.py:33: FutureWarning: Passing literal html to 'read_html' is deprecated and will be removed in a future version. To read from a literal string, wrap it in a 'StringIO' object.\n",
      "  df = pd.read_html(str(table))[0]\n"
     ]
    },
    {
     "name": "stdout",
     "output_type": "stream",
     "text": [
      "Processing  Anfernee Simons\n"
     ]
    },
    {
     "name": "stderr",
     "output_type": "stream",
     "text": [
      "/var/folders/7z/7q00pypj1_sf2clps66cxc9r0000gn/T/ipykernel_2964/1753532913.py:33: FutureWarning: Passing literal html to 'read_html' is deprecated and will be removed in a future version. To read from a literal string, wrap it in a 'StringIO' object.\n",
      "  df = pd.read_html(str(table))[0]\n"
     ]
    },
    {
     "name": "stdout",
     "output_type": "stream",
     "text": [
      "Processing  Ante Zizic\n",
      "Last 5 games div not found.\n",
      "Processing  Anthony Davis\n"
     ]
    },
    {
     "name": "stderr",
     "output_type": "stream",
     "text": [
      "/var/folders/7z/7q00pypj1_sf2clps66cxc9r0000gn/T/ipykernel_2964/1753532913.py:33: FutureWarning: Passing literal html to 'read_html' is deprecated and will be removed in a future version. To read from a literal string, wrap it in a 'StringIO' object.\n",
      "  df = pd.read_html(str(table))[0]\n"
     ]
    },
    {
     "name": "stdout",
     "output_type": "stream",
     "text": [
      "Processing  Anthony Edwards\n"
     ]
    },
    {
     "name": "stderr",
     "output_type": "stream",
     "text": [
      "/var/folders/7z/7q00pypj1_sf2clps66cxc9r0000gn/T/ipykernel_2964/1753532913.py:33: FutureWarning: Passing literal html to 'read_html' is deprecated and will be removed in a future version. To read from a literal string, wrap it in a 'StringIO' object.\n",
      "  df = pd.read_html(str(table))[0]\n"
     ]
    },
    {
     "name": "stdout",
     "output_type": "stream",
     "text": [
      "Processing  Anthony Gill\n"
     ]
    },
    {
     "name": "stderr",
     "output_type": "stream",
     "text": [
      "/var/folders/7z/7q00pypj1_sf2clps66cxc9r0000gn/T/ipykernel_2964/1753532913.py:33: FutureWarning: Passing literal html to 'read_html' is deprecated and will be removed in a future version. To read from a literal string, wrap it in a 'StringIO' object.\n",
      "  df = pd.read_html(str(table))[0]\n"
     ]
    },
    {
     "name": "stdout",
     "output_type": "stream",
     "text": [
      "Processing  Anthony Lamb\n",
      "Last 5 games div not found.\n",
      "Processing  Anthony Tolliver\n",
      "Last 5 games div not found.\n",
      "Processing  Anzejs Pasecniks\n",
      "Last 5 games div not found.\n",
      "Processing  Armoni Brooks\n"
     ]
    },
    {
     "name": "stderr",
     "output_type": "stream",
     "text": [
      "/var/folders/7z/7q00pypj1_sf2clps66cxc9r0000gn/T/ipykernel_2964/1753532913.py:33: FutureWarning: Passing literal html to 'read_html' is deprecated and will be removed in a future version. To read from a literal string, wrap it in a 'StringIO' object.\n",
      "  df = pd.read_html(str(table))[0]\n"
     ]
    },
    {
     "name": "stdout",
     "output_type": "stream",
     "text": [
      "Processing  Aron Baynes\n",
      "Last 5 games div not found.\n",
      "Processing  Austin Reaves\n"
     ]
    },
    {
     "name": "stderr",
     "output_type": "stream",
     "text": [
      "/var/folders/7z/7q00pypj1_sf2clps66cxc9r0000gn/T/ipykernel_2964/1753532913.py:33: FutureWarning: Passing literal html to 'read_html' is deprecated and will be removed in a future version. To read from a literal string, wrap it in a 'StringIO' object.\n",
      "  df = pd.read_html(str(table))[0]\n"
     ]
    },
    {
     "name": "stdout",
     "output_type": "stream",
     "text": [
      "Processing  Austin Rivers\n",
      "Last 5 games div not found.\n",
      "Processing  Avery Bradley\n",
      "Last 5 games div not found.\n",
      "Processing  Axel Toupane\n",
      "Last 5 games div not found.\n",
      "Processing  Ayo Dosunmu\n"
     ]
    },
    {
     "name": "stderr",
     "output_type": "stream",
     "text": [
      "/var/folders/7z/7q00pypj1_sf2clps66cxc9r0000gn/T/ipykernel_2964/1753532913.py:33: FutureWarning: Passing literal html to 'read_html' is deprecated and will be removed in a future version. To read from a literal string, wrap it in a 'StringIO' object.\n",
      "  df = pd.read_html(str(table))[0]\n"
     ]
    },
    {
     "name": "stdout",
     "output_type": "stream",
     "text": [
      "Processing  B.J. Johnson\n",
      "Last 5 games div not found.\n",
      "Processing  Ben McLemore\n",
      "Last 5 games div not found.\n",
      "Processing  Ben Simmons\n"
     ]
    },
    {
     "name": "stderr",
     "output_type": "stream",
     "text": [
      "/var/folders/7z/7q00pypj1_sf2clps66cxc9r0000gn/T/ipykernel_2964/1753532913.py:33: FutureWarning: Passing literal html to 'read_html' is deprecated and will be removed in a future version. To read from a literal string, wrap it in a 'StringIO' object.\n",
      "  df = pd.read_html(str(table))[0]\n"
     ]
    },
    {
     "name": "stdout",
     "output_type": "stream",
     "text": [
      "Processing  Blake Griffin\n",
      "Last 5 games div not found.\n",
      "Processing  Blake Wesley\n"
     ]
    },
    {
     "name": "stderr",
     "output_type": "stream",
     "text": [
      "/var/folders/7z/7q00pypj1_sf2clps66cxc9r0000gn/T/ipykernel_2964/1753532913.py:33: FutureWarning: Passing literal html to 'read_html' is deprecated and will be removed in a future version. To read from a literal string, wrap it in a 'StringIO' object.\n",
      "  df = pd.read_html(str(table))[0]\n"
     ]
    },
    {
     "name": "stdout",
     "output_type": "stream",
     "text": [
      "Processing  Boban Marjanovic\n"
     ]
    },
    {
     "name": "stderr",
     "output_type": "stream",
     "text": [
      "/var/folders/7z/7q00pypj1_sf2clps66cxc9r0000gn/T/ipykernel_2964/1753532913.py:33: FutureWarning: Passing literal html to 'read_html' is deprecated and will be removed in a future version. To read from a literal string, wrap it in a 'StringIO' object.\n",
      "  df = pd.read_html(str(table))[0]\n"
     ]
    },
    {
     "name": "stdout",
     "output_type": "stream",
     "text": [
      "Processing  Bobby Portis\n"
     ]
    },
    {
     "name": "stderr",
     "output_type": "stream",
     "text": [
      "/var/folders/7z/7q00pypj1_sf2clps66cxc9r0000gn/T/ipykernel_2964/1753532913.py:33: FutureWarning: Passing literal html to 'read_html' is deprecated and will be removed in a future version. To read from a literal string, wrap it in a 'StringIO' object.\n",
      "  df = pd.read_html(str(table))[0]\n"
     ]
    },
    {
     "name": "stdout",
     "output_type": "stream",
     "text": [
      "Processing  Bogdan Bogdanovic\n"
     ]
    },
    {
     "name": "stderr",
     "output_type": "stream",
     "text": [
      "/var/folders/7z/7q00pypj1_sf2clps66cxc9r0000gn/T/ipykernel_2964/1753532913.py:33: FutureWarning: Passing literal html to 'read_html' is deprecated and will be removed in a future version. To read from a literal string, wrap it in a 'StringIO' object.\n",
      "  df = pd.read_html(str(table))[0]\n"
     ]
    },
    {
     "name": "stdout",
     "output_type": "stream",
     "text": [
      "Processing  Bojan Bogdanovic\n"
     ]
    },
    {
     "name": "stderr",
     "output_type": "stream",
     "text": [
      "/var/folders/7z/7q00pypj1_sf2clps66cxc9r0000gn/T/ipykernel_2964/1753532913.py:33: FutureWarning: Passing literal html to 'read_html' is deprecated and will be removed in a future version. To read from a literal string, wrap it in a 'StringIO' object.\n",
      "  df = pd.read_html(str(table))[0]\n"
     ]
    },
    {
     "name": "stdout",
     "output_type": "stream",
     "text": [
      "Processing  Bol Bol\n",
      "Last 5 games div not found.\n",
      "Processing  Brad Wanamaker\n",
      "Last 5 games div not found.\n",
      "Processing  Bradley Beal\n"
     ]
    },
    {
     "name": "stderr",
     "output_type": "stream",
     "text": [
      "/var/folders/7z/7q00pypj1_sf2clps66cxc9r0000gn/T/ipykernel_2964/1753532913.py:33: FutureWarning: Passing literal html to 'read_html' is deprecated and will be removed in a future version. To read from a literal string, wrap it in a 'StringIO' object.\n",
      "  df = pd.read_html(str(table))[0]\n"
     ]
    },
    {
     "name": "stdout",
     "output_type": "stream",
     "text": [
      "Processing  Brandon Boston Jr. / B.J. Boston Jr.\n"
     ]
    },
    {
     "name": "stderr",
     "output_type": "stream",
     "text": [
      "/var/folders/7z/7q00pypj1_sf2clps66cxc9r0000gn/T/ipykernel_2964/1753532913.py:33: FutureWarning: Passing literal html to 'read_html' is deprecated and will be removed in a future version. To read from a literal string, wrap it in a 'StringIO' object.\n",
      "  df = pd.read_html(str(table))[0]\n"
     ]
    },
    {
     "name": "stdout",
     "output_type": "stream",
     "text": [
      "Processing  Brandon Clarke\n"
     ]
    },
    {
     "name": "stderr",
     "output_type": "stream",
     "text": [
      "/var/folders/7z/7q00pypj1_sf2clps66cxc9r0000gn/T/ipykernel_2964/1753532913.py:33: FutureWarning: Passing literal html to 'read_html' is deprecated and will be removed in a future version. To read from a literal string, wrap it in a 'StringIO' object.\n",
      "  df = pd.read_html(str(table))[0]\n"
     ]
    },
    {
     "name": "stdout",
     "output_type": "stream",
     "text": [
      "Processing  Brandon Goodwin\n",
      "Last 5 games div not found.\n",
      "Processing  Brandon Ingram\n"
     ]
    },
    {
     "name": "stderr",
     "output_type": "stream",
     "text": [
      "/var/folders/7z/7q00pypj1_sf2clps66cxc9r0000gn/T/ipykernel_2964/1753532913.py:33: FutureWarning: Passing literal html to 'read_html' is deprecated and will be removed in a future version. To read from a literal string, wrap it in a 'StringIO' object.\n",
      "  df = pd.read_html(str(table))[0]\n"
     ]
    },
    {
     "name": "stdout",
     "output_type": "stream",
     "text": [
      "Processing  Brandon Knight\n",
      "Last 5 games div not found.\n",
      "Processing  Brandon Williams (b. 1975-02-27)\n",
      "No search results found for the player.\n",
      "Processing  Brian Bowen II\n",
      "Last 5 games div not found.\n",
      "Processing  Brodric Thomas\n",
      "Last 5 games div not found.\n",
      "Processing  Brook Lopez\n"
     ]
    },
    {
     "name": "stderr",
     "output_type": "stream",
     "text": [
      "/var/folders/7z/7q00pypj1_sf2clps66cxc9r0000gn/T/ipykernel_2964/1753532913.py:33: FutureWarning: Passing literal html to 'read_html' is deprecated and will be removed in a future version. To read from a literal string, wrap it in a 'StringIO' object.\n",
      "  df = pd.read_html(str(table))[0]\n"
     ]
    },
    {
     "name": "stdout",
     "output_type": "stream",
     "text": [
      "Processing  Bruce Brown\n"
     ]
    },
    {
     "name": "stderr",
     "output_type": "stream",
     "text": [
      "/var/folders/7z/7q00pypj1_sf2clps66cxc9r0000gn/T/ipykernel_2964/1753532913.py:33: FutureWarning: Passing literal html to 'read_html' is deprecated and will be removed in a future version. To read from a literal string, wrap it in a 'StringIO' object.\n",
      "  df = pd.read_html(str(table))[0]\n"
     ]
    },
    {
     "name": "stdout",
     "output_type": "stream",
     "text": [
      "Processing  Bruno Caboclo\n",
      "Last 5 games div not found.\n",
      "Processing  Bruno Fernando\n"
     ]
    },
    {
     "name": "stderr",
     "output_type": "stream",
     "text": [
      "/var/folders/7z/7q00pypj1_sf2clps66cxc9r0000gn/T/ipykernel_2964/1753532913.py:33: FutureWarning: Passing literal html to 'read_html' is deprecated and will be removed in a future version. To read from a literal string, wrap it in a 'StringIO' object.\n",
      "  df = pd.read_html(str(table))[0]\n"
     ]
    },
    {
     "name": "stdout",
     "output_type": "stream",
     "text": [
      "Processing  Bryn Forbes\n",
      "Last 5 games div not found.\n",
      "Processing  Buddy Hield\n"
     ]
    },
    {
     "name": "stderr",
     "output_type": "stream",
     "text": [
      "/var/folders/7z/7q00pypj1_sf2clps66cxc9r0000gn/T/ipykernel_2964/1753532913.py:33: FutureWarning: Passing literal html to 'read_html' is deprecated and will be removed in a future version. To read from a literal string, wrap it in a 'StringIO' object.\n",
      "  df = pd.read_html(str(table))[0]\n"
     ]
    },
    {
     "name": "stdout",
     "output_type": "stream",
     "text": [
      "Processing  C.J. Elleby\n",
      "No search results found for the player.\n",
      "Processing  C.J. McCollum\n",
      "Last 5 games div not found.\n",
      "Processing  C.J. Miles\n",
      "Last 5 games div not found.\n",
      "Processing  Cade Cunningham\n"
     ]
    },
    {
     "name": "stderr",
     "output_type": "stream",
     "text": [
      "/var/folders/7z/7q00pypj1_sf2clps66cxc9r0000gn/T/ipykernel_2964/1753532913.py:33: FutureWarning: Passing literal html to 'read_html' is deprecated and will be removed in a future version. To read from a literal string, wrap it in a 'StringIO' object.\n",
      "  df = pd.read_html(str(table))[0]\n"
     ]
    },
    {
     "name": "stdout",
     "output_type": "stream",
     "text": [
      "Processing  Caleb Martin\n"
     ]
    },
    {
     "name": "stderr",
     "output_type": "stream",
     "text": [
      "/var/folders/7z/7q00pypj1_sf2clps66cxc9r0000gn/T/ipykernel_2964/1753532913.py:33: FutureWarning: Passing literal html to 'read_html' is deprecated and will be removed in a future version. To read from a literal string, wrap it in a 'StringIO' object.\n",
      "  df = pd.read_html(str(table))[0]\n"
     ]
    },
    {
     "name": "stdout",
     "output_type": "stream",
     "text": [
      "Processing  Cam Reddish\n"
     ]
    },
    {
     "name": "stderr",
     "output_type": "stream",
     "text": [
      "/var/folders/7z/7q00pypj1_sf2clps66cxc9r0000gn/T/ipykernel_2964/1753532913.py:33: FutureWarning: Passing literal html to 'read_html' is deprecated and will be removed in a future version. To read from a literal string, wrap it in a 'StringIO' object.\n",
      "  df = pd.read_html(str(table))[0]\n"
     ]
    },
    {
     "name": "stdout",
     "output_type": "stream",
     "text": [
      "Processing  Cameron Johnson\n"
     ]
    },
    {
     "name": "stderr",
     "output_type": "stream",
     "text": [
      "/var/folders/7z/7q00pypj1_sf2clps66cxc9r0000gn/T/ipykernel_2964/1753532913.py:33: FutureWarning: Passing literal html to 'read_html' is deprecated and will be removed in a future version. To read from a literal string, wrap it in a 'StringIO' object.\n",
      "  df = pd.read_html(str(table))[0]\n"
     ]
    },
    {
     "name": "stdout",
     "output_type": "stream",
     "text": [
      "Processing  Cameron McGriff\n",
      "Last 5 games div not found.\n",
      "Processing  Cameron Oliver\n",
      "Last 5 games div not found.\n",
      "Processing  Cameron Payne\n"
     ]
    },
    {
     "name": "stderr",
     "output_type": "stream",
     "text": [
      "/var/folders/7z/7q00pypj1_sf2clps66cxc9r0000gn/T/ipykernel_2964/1753532913.py:33: FutureWarning: Passing literal html to 'read_html' is deprecated and will be removed in a future version. To read from a literal string, wrap it in a 'StringIO' object.\n",
      "  df = pd.read_html(str(table))[0]\n"
     ]
    },
    {
     "name": "stdout",
     "output_type": "stream",
     "text": [
      "Processing  Cameron Thomas / Cam Thomas\n",
      "No search results found for the player.\n",
      "Processing  Caris LeVert\n"
     ]
    },
    {
     "name": "stderr",
     "output_type": "stream",
     "text": [
      "/var/folders/7z/7q00pypj1_sf2clps66cxc9r0000gn/T/ipykernel_2964/1753532913.py:33: FutureWarning: Passing literal html to 'read_html' is deprecated and will be removed in a future version. To read from a literal string, wrap it in a 'StringIO' object.\n",
      "  df = pd.read_html(str(table))[0]\n"
     ]
    },
    {
     "name": "stdout",
     "output_type": "stream",
     "text": [
      "Processing  Carmelo Anthony\n",
      "Last 5 games div not found.\n",
      "Processing  Carsen Edwards\n",
      "Last 5 games div not found.\n",
      "Processing  Cassius Winston\n",
      "Last 5 games div not found.\n",
      "Processing  Cedi Osman\n"
     ]
    },
    {
     "name": "stderr",
     "output_type": "stream",
     "text": [
      "/var/folders/7z/7q00pypj1_sf2clps66cxc9r0000gn/T/ipykernel_2964/1753532913.py:33: FutureWarning: Passing literal html to 'read_html' is deprecated and will be removed in a future version. To read from a literal string, wrap it in a 'StringIO' object.\n",
      "  df = pd.read_html(str(table))[0]\n"
     ]
    },
    {
     "name": "stdout",
     "output_type": "stream",
     "text": [
      "Processing  Chandler Hutchison\n",
      "Last 5 games div not found.\n",
      "Processing  Chandler Parsons\n",
      "Last 5 games div not found.\n",
      "Processing  Charles Bassey\n"
     ]
    },
    {
     "name": "stderr",
     "output_type": "stream",
     "text": [
      "/var/folders/7z/7q00pypj1_sf2clps66cxc9r0000gn/T/ipykernel_2964/1753532913.py:33: FutureWarning: Passing literal html to 'read_html' is deprecated and will be removed in a future version. To read from a literal string, wrap it in a 'StringIO' object.\n",
      "  df = pd.read_html(str(table))[0]\n"
     ]
    },
    {
     "name": "stdout",
     "output_type": "stream",
     "text": [
      "Processing  Chasson Randle\n",
      "Last 5 games div not found.\n",
      "Processing  Chaundee Brown Jr.\n",
      "Last 5 games div not found.\n",
      "Processing  Chet Holmgren\n"
     ]
    },
    {
     "name": "stderr",
     "output_type": "stream",
     "text": [
      "/var/folders/7z/7q00pypj1_sf2clps66cxc9r0000gn/T/ipykernel_2964/1753532913.py:33: FutureWarning: Passing literal html to 'read_html' is deprecated and will be removed in a future version. To read from a literal string, wrap it in a 'StringIO' object.\n",
      "  df = pd.read_html(str(table))[0]\n"
     ]
    },
    {
     "name": "stdout",
     "output_type": "stream",
     "text": [
      "Processing  Chima Moneke\n",
      "Last 5 games div not found.\n",
      "Processing  Chimezie Metu\n"
     ]
    },
    {
     "name": "stderr",
     "output_type": "stream",
     "text": [
      "/var/folders/7z/7q00pypj1_sf2clps66cxc9r0000gn/T/ipykernel_2964/1753532913.py:33: FutureWarning: Passing literal html to 'read_html' is deprecated and will be removed in a future version. To read from a literal string, wrap it in a 'StringIO' object.\n",
      "  df = pd.read_html(str(table))[0]\n"
     ]
    },
    {
     "name": "stdout",
     "output_type": "stream",
     "text": [
      "Processing  Chris Boucher\n"
     ]
    },
    {
     "name": "stderr",
     "output_type": "stream",
     "text": [
      "/var/folders/7z/7q00pypj1_sf2clps66cxc9r0000gn/T/ipykernel_2964/1753532913.py:33: FutureWarning: Passing literal html to 'read_html' is deprecated and will be removed in a future version. To read from a literal string, wrap it in a 'StringIO' object.\n",
      "  df = pd.read_html(str(table))[0]\n"
     ]
    },
    {
     "name": "stdout",
     "output_type": "stream",
     "text": [
      "Processing  Chris Chiozza\n",
      "Last 5 games div not found.\n",
      "Processing  Chris Clemons\n",
      "Last 5 games div not found.\n",
      "Processing  Chris Duarte\n"
     ]
    },
    {
     "name": "stderr",
     "output_type": "stream",
     "text": [
      "/var/folders/7z/7q00pypj1_sf2clps66cxc9r0000gn/T/ipykernel_2964/1753532913.py:33: FutureWarning: Passing literal html to 'read_html' is deprecated and will be removed in a future version. To read from a literal string, wrap it in a 'StringIO' object.\n",
      "  df = pd.read_html(str(table))[0]\n"
     ]
    },
    {
     "name": "stdout",
     "output_type": "stream",
     "text": [
      "Processing  Chris Paul\n"
     ]
    },
    {
     "name": "stderr",
     "output_type": "stream",
     "text": [
      "/var/folders/7z/7q00pypj1_sf2clps66cxc9r0000gn/T/ipykernel_2964/1753532913.py:33: FutureWarning: Passing literal html to 'read_html' is deprecated and will be removed in a future version. To read from a literal string, wrap it in a 'StringIO' object.\n",
      "  df = pd.read_html(str(table))[0]\n"
     ]
    },
    {
     "name": "stdout",
     "output_type": "stream",
     "text": [
      "Processing  Chris Silva\n",
      "Last 5 games div not found.\n",
      "Processing  Christian Wood\n"
     ]
    },
    {
     "name": "stderr",
     "output_type": "stream",
     "text": [
      "/var/folders/7z/7q00pypj1_sf2clps66cxc9r0000gn/T/ipykernel_2964/1753532913.py:33: FutureWarning: Passing literal html to 'read_html' is deprecated and will be removed in a future version. To read from a literal string, wrap it in a 'StringIO' object.\n",
      "  df = pd.read_html(str(table))[0]\n"
     ]
    },
    {
     "name": "stdout",
     "output_type": "stream",
     "text": [
      "Processing  Chuma Okeke\n"
     ]
    },
    {
     "name": "stderr",
     "output_type": "stream",
     "text": [
      "/var/folders/7z/7q00pypj1_sf2clps66cxc9r0000gn/T/ipykernel_2964/1753532913.py:33: FutureWarning: Passing literal html to 'read_html' is deprecated and will be removed in a future version. To read from a literal string, wrap it in a 'StringIO' object.\n",
      "  df = pd.read_html(str(table))[0]\n"
     ]
    },
    {
     "name": "stdout",
     "output_type": "stream",
     "text": [
      "Processing  Clint Capela\n"
     ]
    },
    {
     "name": "stderr",
     "output_type": "stream",
     "text": [
      "/var/folders/7z/7q00pypj1_sf2clps66cxc9r0000gn/T/ipykernel_2964/1753532913.py:33: FutureWarning: Passing literal html to 'read_html' is deprecated and will be removed in a future version. To read from a literal string, wrap it in a 'StringIO' object.\n",
      "  df = pd.read_html(str(table))[0]\n"
     ]
    },
    {
     "name": "stdout",
     "output_type": "stream",
     "text": [
      "Processing  Coby White\n"
     ]
    },
    {
     "name": "stderr",
     "output_type": "stream",
     "text": [
      "/var/folders/7z/7q00pypj1_sf2clps66cxc9r0000gn/T/ipykernel_2964/1753532913.py:33: FutureWarning: Passing literal html to 'read_html' is deprecated and will be removed in a future version. To read from a literal string, wrap it in a 'StringIO' object.\n",
      "  df = pd.read_html(str(table))[0]\n"
     ]
    },
    {
     "name": "stdout",
     "output_type": "stream",
     "text": [
      "Processing  Cody Martin\n"
     ]
    },
    {
     "name": "stderr",
     "output_type": "stream",
     "text": [
      "/var/folders/7z/7q00pypj1_sf2clps66cxc9r0000gn/T/ipykernel_2964/1753532913.py:33: FutureWarning: Passing literal html to 'read_html' is deprecated and will be removed in a future version. To read from a literal string, wrap it in a 'StringIO' object.\n",
      "  df = pd.read_html(str(table))[0]\n"
     ]
    },
    {
     "name": "stdout",
     "output_type": "stream",
     "text": [
      "Processing  Cody Zeller\n"
     ]
    },
    {
     "name": "stderr",
     "output_type": "stream",
     "text": [
      "/var/folders/7z/7q00pypj1_sf2clps66cxc9r0000gn/T/ipykernel_2964/1753532913.py:33: FutureWarning: Passing literal html to 'read_html' is deprecated and will be removed in a future version. To read from a literal string, wrap it in a 'StringIO' object.\n",
      "  df = pd.read_html(str(table))[0]\n"
     ]
    },
    {
     "name": "stdout",
     "output_type": "stream",
     "text": [
      "Processing  Cole Anthony\n"
     ]
    },
    {
     "name": "stderr",
     "output_type": "stream",
     "text": [
      "/var/folders/7z/7q00pypj1_sf2clps66cxc9r0000gn/T/ipykernel_2964/1753532913.py:33: FutureWarning: Passing literal html to 'read_html' is deprecated and will be removed in a future version. To read from a literal string, wrap it in a 'StringIO' object.\n",
      "  df = pd.read_html(str(table))[0]\n"
     ]
    },
    {
     "name": "stdout",
     "output_type": "stream",
     "text": [
      "Processing  Cole Swider\n"
     ]
    },
    {
     "name": "stderr",
     "output_type": "stream",
     "text": [
      "/var/folders/7z/7q00pypj1_sf2clps66cxc9r0000gn/T/ipykernel_2964/1753532913.py:33: FutureWarning: Passing literal html to 'read_html' is deprecated and will be removed in a future version. To read from a literal string, wrap it in a 'StringIO' object.\n",
      "  df = pd.read_html(str(table))[0]\n"
     ]
    },
    {
     "name": "stdout",
     "output_type": "stream",
     "text": [
      "Processing  Collin Gillespie\n"
     ]
    },
    {
     "name": "stderr",
     "output_type": "stream",
     "text": [
      "/var/folders/7z/7q00pypj1_sf2clps66cxc9r0000gn/T/ipykernel_2964/1753532913.py:33: FutureWarning: Passing literal html to 'read_html' is deprecated and will be removed in a future version. To read from a literal string, wrap it in a 'StringIO' object.\n",
      "  df = pd.read_html(str(table))[0]\n"
     ]
    },
    {
     "name": "stdout",
     "output_type": "stream",
     "text": [
      "Processing  Collin Sexton\n"
     ]
    },
    {
     "name": "stderr",
     "output_type": "stream",
     "text": [
      "/var/folders/7z/7q00pypj1_sf2clps66cxc9r0000gn/T/ipykernel_2964/1753532913.py:33: FutureWarning: Passing literal html to 'read_html' is deprecated and will be removed in a future version. To read from a literal string, wrap it in a 'StringIO' object.\n",
      "  df = pd.read_html(str(table))[0]\n"
     ]
    },
    {
     "name": "stdout",
     "output_type": "stream",
     "text": [
      "Processing  Corey Kispert\n"
     ]
    },
    {
     "name": "stderr",
     "output_type": "stream",
     "text": [
      "/var/folders/7z/7q00pypj1_sf2clps66cxc9r0000gn/T/ipykernel_2964/1753532913.py:33: FutureWarning: Passing literal html to 'read_html' is deprecated and will be removed in a future version. To read from a literal string, wrap it in a 'StringIO' object.\n",
      "  df = pd.read_html(str(table))[0]\n"
     ]
    },
    {
     "name": "stdout",
     "output_type": "stream",
     "text": [
      "Processing  Cory Joseph\n"
     ]
    },
    {
     "name": "stderr",
     "output_type": "stream",
     "text": [
      "/var/folders/7z/7q00pypj1_sf2clps66cxc9r0000gn/T/ipykernel_2964/1753532913.py:33: FutureWarning: Passing literal html to 'read_html' is deprecated and will be removed in a future version. To read from a literal string, wrap it in a 'StringIO' object.\n",
      "  df = pd.read_html(str(table))[0]\n"
     ]
    },
    {
     "name": "stdout",
     "output_type": "stream",
     "text": [
      "Processing  Courtney Lee\n",
      "Last 5 games div not found.\n",
      "Processing  Cristiano Felicio\n",
      "Last 5 games div not found.\n",
      "Processing  D'Angelo Russell\n"
     ]
    },
    {
     "name": "stderr",
     "output_type": "stream",
     "text": [
      "/var/folders/7z/7q00pypj1_sf2clps66cxc9r0000gn/T/ipykernel_2964/1753532913.py:33: FutureWarning: Passing literal html to 'read_html' is deprecated and will be removed in a future version. To read from a literal string, wrap it in a 'StringIO' object.\n",
      "  df = pd.read_html(str(table))[0]\n"
     ]
    },
    {
     "name": "stdout",
     "output_type": "stream",
     "text": [
      "Processing  D.J. Augustine\n",
      "No search results found for the player.\n",
      "Processing  D.J. Wilson\n",
      "Last 5 games div not found.\n",
      "Processing  DaQuan Jeffries\n"
     ]
    },
    {
     "name": "stderr",
     "output_type": "stream",
     "text": [
      "/var/folders/7z/7q00pypj1_sf2clps66cxc9r0000gn/T/ipykernel_2964/1753532913.py:33: FutureWarning: Passing literal html to 'read_html' is deprecated and will be removed in a future version. To read from a literal string, wrap it in a 'StringIO' object.\n",
      "  df = pd.read_html(str(table))[0]\n"
     ]
    },
    {
     "name": "stdout",
     "output_type": "stream",
     "text": [
      "Processing  Daishen Nix\n"
     ]
    },
    {
     "name": "stderr",
     "output_type": "stream",
     "text": [
      "/var/folders/7z/7q00pypj1_sf2clps66cxc9r0000gn/T/ipykernel_2964/1753532913.py:33: FutureWarning: Passing literal html to 'read_html' is deprecated and will be removed in a future version. To read from a literal string, wrap it in a 'StringIO' object.\n",
      "  df = pd.read_html(str(table))[0]\n"
     ]
    },
    {
     "name": "stdout",
     "output_type": "stream",
     "text": [
      "Processing  Dalano Banton\n"
     ]
    },
    {
     "name": "stderr",
     "output_type": "stream",
     "text": [
      "/var/folders/7z/7q00pypj1_sf2clps66cxc9r0000gn/T/ipykernel_2964/1753532913.py:33: FutureWarning: Passing literal html to 'read_html' is deprecated and will be removed in a future version. To read from a literal string, wrap it in a 'StringIO' object.\n",
      "  df = pd.read_html(str(table))[0]\n"
     ]
    },
    {
     "name": "stdout",
     "output_type": "stream",
     "text": [
      "Processing  Damian Jones\n"
     ]
    },
    {
     "name": "stderr",
     "output_type": "stream",
     "text": [
      "/var/folders/7z/7q00pypj1_sf2clps66cxc9r0000gn/T/ipykernel_2964/1753532913.py:33: FutureWarning: Passing literal html to 'read_html' is deprecated and will be removed in a future version. To read from a literal string, wrap it in a 'StringIO' object.\n",
      "  df = pd.read_html(str(table))[0]\n"
     ]
    },
    {
     "name": "stdout",
     "output_type": "stream",
     "text": [
      "Processing  Damian Lillard\n"
     ]
    },
    {
     "name": "stderr",
     "output_type": "stream",
     "text": [
      "/var/folders/7z/7q00pypj1_sf2clps66cxc9r0000gn/T/ipykernel_2964/1753532913.py:33: FutureWarning: Passing literal html to 'read_html' is deprecated and will be removed in a future version. To read from a literal string, wrap it in a 'StringIO' object.\n",
      "  df = pd.read_html(str(table))[0]\n"
     ]
    },
    {
     "name": "stdout",
     "output_type": "stream",
     "text": [
      "Processing  Damion Lee\n",
      "Last 5 games div not found.\n",
      "Processing  Damyean Dotson\n",
      "Last 5 games div not found.\n",
      "Processing  Daniel Gafford\n"
     ]
    },
    {
     "name": "stderr",
     "output_type": "stream",
     "text": [
      "/var/folders/7z/7q00pypj1_sf2clps66cxc9r0000gn/T/ipykernel_2964/1753532913.py:33: FutureWarning: Passing literal html to 'read_html' is deprecated and will be removed in a future version. To read from a literal string, wrap it in a 'StringIO' object.\n",
      "  df = pd.read_html(str(table))[0]\n"
     ]
    },
    {
     "name": "stdout",
     "output_type": "stream",
     "text": [
      "Processing  Daniel Oturu\n",
      "Last 5 games div not found.\n",
      "Processing  Daniel Theis\n"
     ]
    },
    {
     "name": "stderr",
     "output_type": "stream",
     "text": [
      "/var/folders/7z/7q00pypj1_sf2clps66cxc9r0000gn/T/ipykernel_2964/1753532913.py:33: FutureWarning: Passing literal html to 'read_html' is deprecated and will be removed in a future version. To read from a literal string, wrap it in a 'StringIO' object.\n",
      "  df = pd.read_html(str(table))[0]\n"
     ]
    },
    {
     "name": "stdout",
     "output_type": "stream",
     "text": [
      "Processing  Danilo Gallinari\n"
     ]
    },
    {
     "name": "stderr",
     "output_type": "stream",
     "text": [
      "/var/folders/7z/7q00pypj1_sf2clps66cxc9r0000gn/T/ipykernel_2964/1753532913.py:33: FutureWarning: Passing literal html to 'read_html' is deprecated and will be removed in a future version. To read from a literal string, wrap it in a 'StringIO' object.\n",
      "  df = pd.read_html(str(table))[0]\n"
     ]
    },
    {
     "name": "stdout",
     "output_type": "stream",
     "text": [
      "Processing  Danny Green\n",
      "Last 5 games div not found.\n",
      "Processing  Dante Exum\n"
     ]
    },
    {
     "name": "stderr",
     "output_type": "stream",
     "text": [
      "/var/folders/7z/7q00pypj1_sf2clps66cxc9r0000gn/T/ipykernel_2964/1753532913.py:33: FutureWarning: Passing literal html to 'read_html' is deprecated and will be removed in a future version. To read from a literal string, wrap it in a 'StringIO' object.\n",
      "  df = pd.read_html(str(table))[0]\n"
     ]
    },
    {
     "name": "stdout",
     "output_type": "stream",
     "text": [
      "Processing  Danuel House Jr.\n"
     ]
    },
    {
     "name": "stderr",
     "output_type": "stream",
     "text": [
      "/var/folders/7z/7q00pypj1_sf2clps66cxc9r0000gn/T/ipykernel_2964/1753532913.py:33: FutureWarning: Passing literal html to 'read_html' is deprecated and will be removed in a future version. To read from a literal string, wrap it in a 'StringIO' object.\n",
      "  df = pd.read_html(str(table))[0]\n"
     ]
    },
    {
     "name": "stdout",
     "output_type": "stream",
     "text": [
      "Processing  Dario Saric\n"
     ]
    },
    {
     "name": "stderr",
     "output_type": "stream",
     "text": [
      "/var/folders/7z/7q00pypj1_sf2clps66cxc9r0000gn/T/ipykernel_2964/1753532913.py:33: FutureWarning: Passing literal html to 'read_html' is deprecated and will be removed in a future version. To read from a literal string, wrap it in a 'StringIO' object.\n",
      "  df = pd.read_html(str(table))[0]\n"
     ]
    },
    {
     "name": "stdout",
     "output_type": "stream",
     "text": [
      "Processing  Darius Bazley\n"
     ]
    },
    {
     "name": "stderr",
     "output_type": "stream",
     "text": [
      "/var/folders/7z/7q00pypj1_sf2clps66cxc9r0000gn/T/ipykernel_2964/1753532913.py:33: FutureWarning: Passing literal html to 'read_html' is deprecated and will be removed in a future version. To read from a literal string, wrap it in a 'StringIO' object.\n",
      "  df = pd.read_html(str(table))[0]\n"
     ]
    },
    {
     "name": "stdout",
     "output_type": "stream",
     "text": [
      "Processing  Darius Garland\n"
     ]
    },
    {
     "name": "stderr",
     "output_type": "stream",
     "text": [
      "/var/folders/7z/7q00pypj1_sf2clps66cxc9r0000gn/T/ipykernel_2964/1753532913.py:33: FutureWarning: Passing literal html to 'read_html' is deprecated and will be removed in a future version. To read from a literal string, wrap it in a 'StringIO' object.\n",
      "  df = pd.read_html(str(table))[0]\n"
     ]
    },
    {
     "name": "stdout",
     "output_type": "stream",
     "text": [
      "Processing  Darius Miller\n",
      "Last 5 games div not found.\n",
      "Processing  Daulton Hommes\n",
      "Last 5 games div not found.\n",
      "Processing  David Duke Jr.\n",
      "Last 5 games div not found.\n",
      "Processing  David Johnson (Ricardo)\n",
      "No search results found for the player.\n",
      "Processing  David Nwaba\n",
      "Last 5 games div not found.\n",
      "Processing  Davion Mitchell\n"
     ]
    },
    {
     "name": "stderr",
     "output_type": "stream",
     "text": [
      "/var/folders/7z/7q00pypj1_sf2clps66cxc9r0000gn/T/ipykernel_2964/1753532913.py:33: FutureWarning: Passing literal html to 'read_html' is deprecated and will be removed in a future version. To read from a literal string, wrap it in a 'StringIO' object.\n",
      "  df = pd.read_html(str(table))[0]\n"
     ]
    },
    {
     "name": "stdout",
     "output_type": "stream",
     "text": [
      "Processing  Davis Bertans\n"
     ]
    },
    {
     "name": "stderr",
     "output_type": "stream",
     "text": [
      "/var/folders/7z/7q00pypj1_sf2clps66cxc9r0000gn/T/ipykernel_2964/1753532913.py:33: FutureWarning: Passing literal html to 'read_html' is deprecated and will be removed in a future version. To read from a literal string, wrap it in a 'StringIO' object.\n",
      "  df = pd.read_html(str(table))[0]\n"
     ]
    },
    {
     "name": "stdout",
     "output_type": "stream",
     "text": [
      "Processing  Davon Reed\n",
      "Last 5 games div not found.\n",
      "Processing  Day'Ron Sharpe\n"
     ]
    },
    {
     "name": "stderr",
     "output_type": "stream",
     "text": [
      "/var/folders/7z/7q00pypj1_sf2clps66cxc9r0000gn/T/ipykernel_2964/1753532913.py:33: FutureWarning: Passing literal html to 'read_html' is deprecated and will be removed in a future version. To read from a literal string, wrap it in a 'StringIO' object.\n",
      "  df = pd.read_html(str(table))[0]\n"
     ]
    },
    {
     "name": "stdout",
     "output_type": "stream",
     "text": [
      "Processing  De'Aaron Fox\n"
     ]
    },
    {
     "name": "stderr",
     "output_type": "stream",
     "text": [
      "/var/folders/7z/7q00pypj1_sf2clps66cxc9r0000gn/T/ipykernel_2964/1753532913.py:33: FutureWarning: Passing literal html to 'read_html' is deprecated and will be removed in a future version. To read from a literal string, wrap it in a 'StringIO' object.\n",
      "  df = pd.read_html(str(table))[0]\n"
     ]
    },
    {
     "name": "stdout",
     "output_type": "stream",
     "text": [
      "Processing  De'Andre Hunter\n"
     ]
    },
    {
     "name": "stderr",
     "output_type": "stream",
     "text": [
      "/var/folders/7z/7q00pypj1_sf2clps66cxc9r0000gn/T/ipykernel_2964/1753532913.py:33: FutureWarning: Passing literal html to 'read_html' is deprecated and will be removed in a future version. To read from a literal string, wrap it in a 'StringIO' object.\n",
      "  df = pd.read_html(str(table))[0]\n"
     ]
    },
    {
     "name": "stdout",
     "output_type": "stream",
     "text": [
      "Processing  De'Anthony Melton\n"
     ]
    },
    {
     "name": "stderr",
     "output_type": "stream",
     "text": [
      "/var/folders/7z/7q00pypj1_sf2clps66cxc9r0000gn/T/ipykernel_2964/1753532913.py:33: FutureWarning: Passing literal html to 'read_html' is deprecated and will be removed in a future version. To read from a literal string, wrap it in a 'StringIO' object.\n",
      "  df = pd.read_html(str(table))[0]\n"
     ]
    },
    {
     "name": "stdout",
     "output_type": "stream",
     "text": [
      "Processing  DeAndre Jordan\n"
     ]
    },
    {
     "name": "stderr",
     "output_type": "stream",
     "text": [
      "/var/folders/7z/7q00pypj1_sf2clps66cxc9r0000gn/T/ipykernel_2964/1753532913.py:33: FutureWarning: Passing literal html to 'read_html' is deprecated and will be removed in a future version. To read from a literal string, wrap it in a 'StringIO' object.\n",
      "  df = pd.read_html(str(table))[0]\n"
     ]
    },
    {
     "name": "stdout",
     "output_type": "stream",
     "text": [
      "Processing  DeAndre' Bembry\n",
      "Last 5 games div not found.\n",
      "Processing  DeJon Jarreau\n"
     ]
    },
    {
     "name": "stderr",
     "output_type": "stream",
     "text": [
      "/var/folders/7z/7q00pypj1_sf2clps66cxc9r0000gn/T/ipykernel_2964/1753532913.py:33: FutureWarning: Passing literal html to 'read_html' is deprecated and will be removed in a future version. To read from a literal string, wrap it in a 'StringIO' object.\n",
      "  df = pd.read_html(str(table))[0]\n"
     ]
    },
    {
     "name": "stdout",
     "output_type": "stream",
     "text": [
      "Processing  DeMar DeRozan\n"
     ]
    },
    {
     "name": "stderr",
     "output_type": "stream",
     "text": [
      "/var/folders/7z/7q00pypj1_sf2clps66cxc9r0000gn/T/ipykernel_2964/1753532913.py:33: FutureWarning: Passing literal html to 'read_html' is deprecated and will be removed in a future version. To read from a literal string, wrap it in a 'StringIO' object.\n",
      "  df = pd.read_html(str(table))[0]\n"
     ]
    },
    {
     "name": "stdout",
     "output_type": "stream",
     "text": [
      "Processing  DeMarcus Cousins\n",
      "Last 5 games div not found.\n",
      "Processing  DeMarre Carroll\n",
      "Last 5 games div not found.\n",
      "Processing  Dean Wade\n"
     ]
    },
    {
     "name": "stderr",
     "output_type": "stream",
     "text": [
      "/var/folders/7z/7q00pypj1_sf2clps66cxc9r0000gn/T/ipykernel_2964/1753532913.py:33: FutureWarning: Passing literal html to 'read_html' is deprecated and will be removed in a future version. To read from a literal string, wrap it in a 'StringIO' object.\n",
      "  df = pd.read_html(str(table))[0]\n"
     ]
    },
    {
     "name": "stdout",
     "output_type": "stream",
     "text": [
      "Processing  Deandre Ayton\n"
     ]
    },
    {
     "name": "stderr",
     "output_type": "stream",
     "text": [
      "/var/folders/7z/7q00pypj1_sf2clps66cxc9r0000gn/T/ipykernel_2964/1753532913.py:33: FutureWarning: Passing literal html to 'read_html' is deprecated and will be removed in a future version. To read from a literal string, wrap it in a 'StringIO' object.\n",
      "  df = pd.read_html(str(table))[0]\n"
     ]
    },
    {
     "name": "stdout",
     "output_type": "stream",
     "text": [
      "Processing  Deividas Sirvydis\n",
      "Last 5 games div not found.\n",
      "Processing  Dejounte Murray\n"
     ]
    },
    {
     "name": "stderr",
     "output_type": "stream",
     "text": [
      "/var/folders/7z/7q00pypj1_sf2clps66cxc9r0000gn/T/ipykernel_2964/1753532913.py:33: FutureWarning: Passing literal html to 'read_html' is deprecated and will be removed in a future version. To read from a literal string, wrap it in a 'StringIO' object.\n",
      "  df = pd.read_html(str(table))[0]\n"
     ]
    },
    {
     "name": "stdout",
     "output_type": "stream",
     "text": [
      "Processing  Delon Wright\n"
     ]
    },
    {
     "name": "stderr",
     "output_type": "stream",
     "text": [
      "/var/folders/7z/7q00pypj1_sf2clps66cxc9r0000gn/T/ipykernel_2964/1753532913.py:33: FutureWarning: Passing literal html to 'read_html' is deprecated and will be removed in a future version. To read from a literal string, wrap it in a 'StringIO' object.\n",
      "  df = pd.read_html(str(table))[0]\n"
     ]
    },
    {
     "name": "stdout",
     "output_type": "stream",
     "text": [
      "Processing  Deni Avdija\n"
     ]
    },
    {
     "name": "stderr",
     "output_type": "stream",
     "text": [
      "/var/folders/7z/7q00pypj1_sf2clps66cxc9r0000gn/T/ipykernel_2964/1753532913.py:33: FutureWarning: Passing literal html to 'read_html' is deprecated and will be removed in a future version. To read from a literal string, wrap it in a 'StringIO' object.\n",
      "  df = pd.read_html(str(table))[0]\n"
     ]
    },
    {
     "name": "stdout",
     "output_type": "stream",
     "text": [
      "Processing  Dennis Schröder\n"
     ]
    },
    {
     "name": "stderr",
     "output_type": "stream",
     "text": [
      "/var/folders/7z/7q00pypj1_sf2clps66cxc9r0000gn/T/ipykernel_2964/1753532913.py:33: FutureWarning: Passing literal html to 'read_html' is deprecated and will be removed in a future version. To read from a literal string, wrap it in a 'StringIO' object.\n",
      "  df = pd.read_html(str(table))[0]\n"
     ]
    },
    {
     "name": "stdout",
     "output_type": "stream",
     "text": [
      "Processing  Dennis Smith Jr.\n"
     ]
    },
    {
     "name": "stderr",
     "output_type": "stream",
     "text": [
      "/var/folders/7z/7q00pypj1_sf2clps66cxc9r0000gn/T/ipykernel_2964/1753532913.py:33: FutureWarning: Passing literal html to 'read_html' is deprecated and will be removed in a future version. To read from a literal string, wrap it in a 'StringIO' object.\n",
      "  df = pd.read_html(str(table))[0]\n"
     ]
    },
    {
     "name": "stdout",
     "output_type": "stream",
     "text": [
      "Processing  Denzel Valentine\n",
      "Last 5 games div not found.\n",
      "Processing  Deonte Burton\n",
      "Last 5 games div not found.\n",
      "Processing  Derrick Favors\n",
      "Last 5 games div not found.\n",
      "Processing  Derrick Jones Jr.\n"
     ]
    },
    {
     "name": "stderr",
     "output_type": "stream",
     "text": [
      "/var/folders/7z/7q00pypj1_sf2clps66cxc9r0000gn/T/ipykernel_2964/1753532913.py:33: FutureWarning: Passing literal html to 'read_html' is deprecated and will be removed in a future version. To read from a literal string, wrap it in a 'StringIO' object.\n",
      "  df = pd.read_html(str(table))[0]\n"
     ]
    },
    {
     "name": "stdout",
     "output_type": "stream",
     "text": [
      "Processing  Derrick Rose\n"
     ]
    },
    {
     "name": "stderr",
     "output_type": "stream",
     "text": [
      "/var/folders/7z/7q00pypj1_sf2clps66cxc9r0000gn/T/ipykernel_2964/1753532913.py:33: FutureWarning: Passing literal html to 'read_html' is deprecated and will be removed in a future version. To read from a literal string, wrap it in a 'StringIO' object.\n",
      "  df = pd.read_html(str(table))[0]\n"
     ]
    },
    {
     "name": "stdout",
     "output_type": "stream",
     "text": [
      "Processing  Derrick Walton Jr.\n",
      "Last 5 games div not found.\n",
      "Processing  Derrick White\n"
     ]
    },
    {
     "name": "stderr",
     "output_type": "stream",
     "text": [
      "/var/folders/7z/7q00pypj1_sf2clps66cxc9r0000gn/T/ipykernel_2964/1753532913.py:33: FutureWarning: Passing literal html to 'read_html' is deprecated and will be removed in a future version. To read from a literal string, wrap it in a 'StringIO' object.\n",
      "  df = pd.read_html(str(table))[0]\n"
     ]
    },
    {
     "name": "stdout",
     "output_type": "stream",
     "text": [
      "Processing  Desmond Bane\n"
     ]
    },
    {
     "name": "stderr",
     "output_type": "stream",
     "text": [
      "/var/folders/7z/7q00pypj1_sf2clps66cxc9r0000gn/T/ipykernel_2964/1753532913.py:33: FutureWarning: Passing literal html to 'read_html' is deprecated and will be removed in a future version. To read from a literal string, wrap it in a 'StringIO' object.\n",
      "  df = pd.read_html(str(table))[0]\n"
     ]
    },
    {
     "name": "stdout",
     "output_type": "stream",
     "text": [
      "Processing  Devin Booker\n"
     ]
    },
    {
     "name": "stderr",
     "output_type": "stream",
     "text": [
      "/var/folders/7z/7q00pypj1_sf2clps66cxc9r0000gn/T/ipykernel_2964/1753532913.py:33: FutureWarning: Passing literal html to 'read_html' is deprecated and will be removed in a future version. To read from a literal string, wrap it in a 'StringIO' object.\n",
      "  df = pd.read_html(str(table))[0]\n"
     ]
    },
    {
     "name": "stdout",
     "output_type": "stream",
     "text": [
      "Processing  Devin Cannady\n",
      "Last 5 games div not found.\n",
      "Processing  Devin Vassell\n"
     ]
    },
    {
     "name": "stderr",
     "output_type": "stream",
     "text": [
      "/var/folders/7z/7q00pypj1_sf2clps66cxc9r0000gn/T/ipykernel_2964/1753532913.py:33: FutureWarning: Passing literal html to 'read_html' is deprecated and will be removed in a future version. To read from a literal string, wrap it in a 'StringIO' object.\n",
      "  df = pd.read_html(str(table))[0]\n"
     ]
    },
    {
     "name": "stdout",
     "output_type": "stream",
     "text": [
      "Processing  Devon Dotson\n",
      "Last 5 games div not found.\n",
      "Processing  Devontae Cacok\n",
      "Last 5 games div not found.\n",
      "Processing  Devonte' Graham\n"
     ]
    },
    {
     "name": "stderr",
     "output_type": "stream",
     "text": [
      "/var/folders/7z/7q00pypj1_sf2clps66cxc9r0000gn/T/ipykernel_2964/1753532913.py:33: FutureWarning: Passing literal html to 'read_html' is deprecated and will be removed in a future version. To read from a literal string, wrap it in a 'StringIO' object.\n",
      "  df = pd.read_html(str(table))[0]\n"
     ]
    },
    {
     "name": "stdout",
     "output_type": "stream",
     "text": [
      "Processing  Dewan Hernandez\n",
      "Last 5 games div not found.\n",
      "Processing  Dewayne Dedmon\n",
      "Last 5 games div not found.\n",
      "Processing  Dillon Brooks\n"
     ]
    },
    {
     "name": "stderr",
     "output_type": "stream",
     "text": [
      "/var/folders/7z/7q00pypj1_sf2clps66cxc9r0000gn/T/ipykernel_2964/1753532913.py:33: FutureWarning: Passing literal html to 'read_html' is deprecated and will be removed in a future version. To read from a literal string, wrap it in a 'StringIO' object.\n",
      "  df = pd.read_html(str(table))[0]\n"
     ]
    },
    {
     "name": "stdout",
     "output_type": "stream",
     "text": [
      "Processing  Dion Waiters\n",
      "Last 5 games div not found.\n",
      "Processing  Domantas Sabonis\n"
     ]
    },
    {
     "name": "stderr",
     "output_type": "stream",
     "text": [
      "/var/folders/7z/7q00pypj1_sf2clps66cxc9r0000gn/T/ipykernel_2964/1753532913.py:33: FutureWarning: Passing literal html to 'read_html' is deprecated and will be removed in a future version. To read from a literal string, wrap it in a 'StringIO' object.\n",
      "  df = pd.read_html(str(table))[0]\n"
     ]
    },
    {
     "name": "stdout",
     "output_type": "stream",
     "text": [
      "Processing  Donovan Mitchell\n"
     ]
    },
    {
     "name": "stderr",
     "output_type": "stream",
     "text": [
      "/var/folders/7z/7q00pypj1_sf2clps66cxc9r0000gn/T/ipykernel_2964/1753532913.py:33: FutureWarning: Passing literal html to 'read_html' is deprecated and will be removed in a future version. To read from a literal string, wrap it in a 'StringIO' object.\n",
      "  df = pd.read_html(str(table))[0]\n"
     ]
    },
    {
     "name": "stdout",
     "output_type": "stream",
     "text": [
      "Processing  Donta Hall\n",
      "Last 5 games div not found.\n",
      "Processing  Donte DiVincenzo\n"
     ]
    },
    {
     "name": "stderr",
     "output_type": "stream",
     "text": [
      "/var/folders/7z/7q00pypj1_sf2clps66cxc9r0000gn/T/ipykernel_2964/1753532913.py:33: FutureWarning: Passing literal html to 'read_html' is deprecated and will be removed in a future version. To read from a literal string, wrap it in a 'StringIO' object.\n",
      "  df = pd.read_html(str(table))[0]\n"
     ]
    },
    {
     "name": "stdout",
     "output_type": "stream",
     "text": [
      "Processing  Dorian Finney-Smith\n"
     ]
    },
    {
     "name": "stderr",
     "output_type": "stream",
     "text": [
      "/var/folders/7z/7q00pypj1_sf2clps66cxc9r0000gn/T/ipykernel_2964/1753532913.py:33: FutureWarning: Passing literal html to 'read_html' is deprecated and will be removed in a future version. To read from a literal string, wrap it in a 'StringIO' object.\n",
      "  df = pd.read_html(str(table))[0]\n"
     ]
    },
    {
     "name": "stdout",
     "output_type": "stream",
     "text": [
      "Processing  Doug McDermott\n"
     ]
    },
    {
     "name": "stderr",
     "output_type": "stream",
     "text": [
      "/var/folders/7z/7q00pypj1_sf2clps66cxc9r0000gn/T/ipykernel_2964/1753532913.py:33: FutureWarning: Passing literal html to 'read_html' is deprecated and will be removed in a future version. To read from a literal string, wrap it in a 'StringIO' object.\n",
      "  df = pd.read_html(str(table))[0]\n"
     ]
    },
    {
     "name": "stdout",
     "output_type": "stream",
     "text": [
      "Processing  Draymond Green\n"
     ]
    },
    {
     "name": "stderr",
     "output_type": "stream",
     "text": [
      "/var/folders/7z/7q00pypj1_sf2clps66cxc9r0000gn/T/ipykernel_2964/1753532913.py:33: FutureWarning: Passing literal html to 'read_html' is deprecated and will be removed in a future version. To read from a literal string, wrap it in a 'StringIO' object.\n",
      "  df = pd.read_html(str(table))[0]\n"
     ]
    },
    {
     "name": "stdout",
     "output_type": "stream",
     "text": [
      "Processing  Drew Eubanks\n"
     ]
    },
    {
     "name": "stderr",
     "output_type": "stream",
     "text": [
      "/var/folders/7z/7q00pypj1_sf2clps66cxc9r0000gn/T/ipykernel_2964/1753532913.py:33: FutureWarning: Passing literal html to 'read_html' is deprecated and will be removed in a future version. To read from a literal string, wrap it in a 'StringIO' object.\n",
      "  df = pd.read_html(str(table))[0]\n"
     ]
    },
    {
     "name": "stdout",
     "output_type": "stream",
     "text": [
      "Processing  Duane Washington Jr.\n",
      "Last 5 games div not found.\n",
      "Processing  Duncan Robinson\n"
     ]
    },
    {
     "name": "stderr",
     "output_type": "stream",
     "text": [
      "/var/folders/7z/7q00pypj1_sf2clps66cxc9r0000gn/T/ipykernel_2964/1753532913.py:33: FutureWarning: Passing literal html to 'read_html' is deprecated and will be removed in a future version. To read from a literal string, wrap it in a 'StringIO' object.\n",
      "  df = pd.read_html(str(table))[0]\n"
     ]
    },
    {
     "name": "stdout",
     "output_type": "stream",
     "text": [
      "Processing  Dwight Howard\n",
      "Last 5 games div not found.\n",
      "Processing  Dwight Powell\n"
     ]
    },
    {
     "name": "stderr",
     "output_type": "stream",
     "text": [
      "/var/folders/7z/7q00pypj1_sf2clps66cxc9r0000gn/T/ipykernel_2964/1753532913.py:33: FutureWarning: Passing literal html to 'read_html' is deprecated and will be removed in a future version. To read from a literal string, wrap it in a 'StringIO' object.\n",
      "  df = pd.read_html(str(table))[0]\n"
     ]
    },
    {
     "name": "stdout",
     "output_type": "stream",
     "text": [
      "Processing  Dylan Windler\n"
     ]
    },
    {
     "name": "stderr",
     "output_type": "stream",
     "text": [
      "/var/folders/7z/7q00pypj1_sf2clps66cxc9r0000gn/T/ipykernel_2964/1753532913.py:33: FutureWarning: Passing literal html to 'read_html' is deprecated and will be removed in a future version. To read from a literal string, wrap it in a 'StringIO' object.\n",
      "  df = pd.read_html(str(table))[0]\n"
     ]
    },
    {
     "name": "stdout",
     "output_type": "stream",
     "text": [
      "Processing  E'Twaun Moore\n",
      "Last 5 games div not found.\n",
      "Processing  E.J. Liddell\n"
     ]
    },
    {
     "name": "stderr",
     "output_type": "stream",
     "text": [
      "/var/folders/7z/7q00pypj1_sf2clps66cxc9r0000gn/T/ipykernel_2964/1753532913.py:33: FutureWarning: Passing literal html to 'read_html' is deprecated and will be removed in a future version. To read from a literal string, wrap it in a 'StringIO' object.\n",
      "  df = pd.read_html(str(table))[0]\n"
     ]
    },
    {
     "name": "stdout",
     "output_type": "stream",
     "text": [
      "Processing  Ed Davis (Adam)\n",
      "No search results found for the player.\n",
      "Processing  Edmond Sumner\n",
      "Last 5 games div not found.\n",
      "Processing  Edrice Adebayo / Bam Adebayo\n",
      "No search results found for the player.\n",
      "Processing  Elfrid Payton\n",
      "Last 5 games div not found.\n",
      "Processing  Elie Okobo\n",
      "Last 5 games div not found.\n",
      "Processing  Elijah Hughes\n",
      "Last 5 games div not found.\n",
      "Processing  Emmanuel Mudiay\n",
      "Last 5 games div not found.\n",
      "Processing  Enes Freedom / Enes Kanter\n",
      "No search results found for the player.\n",
      "Processing  Enes Kanter / Enes Freedom\n",
      "No search results found for the player.\n",
      "Processing  Eric Bledsoe\n",
      "Last 5 games div not found.\n",
      "Processing  Eric Gordon\n"
     ]
    },
    {
     "name": "stderr",
     "output_type": "stream",
     "text": [
      "/var/folders/7z/7q00pypj1_sf2clps66cxc9r0000gn/T/ipykernel_2964/1753532913.py:33: FutureWarning: Passing literal html to 'read_html' is deprecated and will be removed in a future version. To read from a literal string, wrap it in a 'StringIO' object.\n",
      "  df = pd.read_html(str(table))[0]\n"
     ]
    },
    {
     "name": "stdout",
     "output_type": "stream",
     "text": [
      "Processing  Eric Paschall\n",
      "Last 5 games div not found.\n",
      "Processing  Ersan Ilyasova\n",
      "Last 5 games div not found.\n",
      "Processing  Eugene Omoruyi\n"
     ]
    },
    {
     "name": "stderr",
     "output_type": "stream",
     "text": [
      "/var/folders/7z/7q00pypj1_sf2clps66cxc9r0000gn/T/ipykernel_2964/1753532913.py:33: FutureWarning: Passing literal html to 'read_html' is deprecated and will be removed in a future version. To read from a literal string, wrap it in a 'StringIO' object.\n",
      "  df = pd.read_html(str(table))[0]\n"
     ]
    },
    {
     "name": "stdout",
     "output_type": "stream",
     "text": [
      "Processing  Evan Fournier\n"
     ]
    },
    {
     "name": "stderr",
     "output_type": "stream",
     "text": [
      "/var/folders/7z/7q00pypj1_sf2clps66cxc9r0000gn/T/ipykernel_2964/1753532913.py:33: FutureWarning: Passing literal html to 'read_html' is deprecated and will be removed in a future version. To read from a literal string, wrap it in a 'StringIO' object.\n",
      "  df = pd.read_html(str(table))[0]\n"
     ]
    },
    {
     "name": "stdout",
     "output_type": "stream",
     "text": [
      "Processing  Evan Mobley\n"
     ]
    },
    {
     "name": "stderr",
     "output_type": "stream",
     "text": [
      "/var/folders/7z/7q00pypj1_sf2clps66cxc9r0000gn/T/ipykernel_2964/1753532913.py:33: FutureWarning: Passing literal html to 'read_html' is deprecated and will be removed in a future version. To read from a literal string, wrap it in a 'StringIO' object.\n",
      "  df = pd.read_html(str(table))[0]\n"
     ]
    },
    {
     "name": "stdout",
     "output_type": "stream",
     "text": [
      "Processing  Evan Turner\n",
      "Last 5 games div not found.\n",
      "Processing  Facundo Campazzo\n",
      "Last 5 games div not found.\n",
      "Processing  Frank Jackson\n",
      "Last 5 games div not found.\n",
      "Processing  Frank Kaminsky\n",
      "Last 5 games div not found.\n",
      "Processing  Frank Mason\n",
      "Last 5 games div not found.\n",
      "Processing  Frank Ntilikina\n"
     ]
    },
    {
     "name": "stderr",
     "output_type": "stream",
     "text": [
      "/var/folders/7z/7q00pypj1_sf2clps66cxc9r0000gn/T/ipykernel_2964/1753532913.py:33: FutureWarning: Passing literal html to 'read_html' is deprecated and will be removed in a future version. To read from a literal string, wrap it in a 'StringIO' object.\n",
      "  df = pd.read_html(str(table))[0]\n"
     ]
    },
    {
     "name": "stdout",
     "output_type": "stream",
     "text": [
      "Processing  Franz Wagner\n"
     ]
    },
    {
     "name": "stderr",
     "output_type": "stream",
     "text": [
      "/var/folders/7z/7q00pypj1_sf2clps66cxc9r0000gn/T/ipykernel_2964/1753532913.py:33: FutureWarning: Passing literal html to 'read_html' is deprecated and will be removed in a future version. To read from a literal string, wrap it in a 'StringIO' object.\n",
      "  df = pd.read_html(str(table))[0]\n"
     ]
    },
    {
     "name": "stdout",
     "output_type": "stream",
     "text": [
      "Processing  Fred VanVleet\n"
     ]
    },
    {
     "name": "stderr",
     "output_type": "stream",
     "text": [
      "/var/folders/7z/7q00pypj1_sf2clps66cxc9r0000gn/T/ipykernel_2964/1753532913.py:33: FutureWarning: Passing literal html to 'read_html' is deprecated and will be removed in a future version. To read from a literal string, wrap it in a 'StringIO' object.\n",
      "  df = pd.read_html(str(table))[0]\n"
     ]
    },
    {
     "name": "stdout",
     "output_type": "stream",
     "text": [
      "Processing  Furkan Korkmaz\n"
     ]
    },
    {
     "name": "stderr",
     "output_type": "stream",
     "text": [
      "/var/folders/7z/7q00pypj1_sf2clps66cxc9r0000gn/T/ipykernel_2964/1753532913.py:33: FutureWarning: Passing literal html to 'read_html' is deprecated and will be removed in a future version. To read from a literal string, wrap it in a 'StringIO' object.\n",
      "  df = pd.read_html(str(table))[0]\n"
     ]
    },
    {
     "name": "stdout",
     "output_type": "stream",
     "text": [
      "Processing  Gabe Vincent\n"
     ]
    },
    {
     "name": "stderr",
     "output_type": "stream",
     "text": [
      "/var/folders/7z/7q00pypj1_sf2clps66cxc9r0000gn/T/ipykernel_2964/1753532913.py:33: FutureWarning: Passing literal html to 'read_html' is deprecated and will be removed in a future version. To read from a literal string, wrap it in a 'StringIO' object.\n",
      "  df = pd.read_html(str(table))[0]\n"
     ]
    },
    {
     "name": "stdout",
     "output_type": "stream",
     "text": [
      "Processing  Gabriel Deck\n",
      "Last 5 games div not found.\n",
      "Processing  Garrett Temple\n"
     ]
    },
    {
     "name": "stderr",
     "output_type": "stream",
     "text": [
      "/var/folders/7z/7q00pypj1_sf2clps66cxc9r0000gn/T/ipykernel_2964/1753532913.py:33: FutureWarning: Passing literal html to 'read_html' is deprecated and will be removed in a future version. To read from a literal string, wrap it in a 'StringIO' object.\n",
      "  df = pd.read_html(str(table))[0]\n"
     ]
    },
    {
     "name": "stdout",
     "output_type": "stream",
     "text": [
      "Processing  Garrison Mathews\n"
     ]
    },
    {
     "name": "stderr",
     "output_type": "stream",
     "text": [
      "/var/folders/7z/7q00pypj1_sf2clps66cxc9r0000gn/T/ipykernel_2964/1753532913.py:33: FutureWarning: Passing literal html to 'read_html' is deprecated and will be removed in a future version. To read from a literal string, wrap it in a 'StringIO' object.\n",
      "  df = pd.read_html(str(table))[0]\n"
     ]
    },
    {
     "name": "stdout",
     "output_type": "stream",
     "text": [
      "Processing  Gary Clark Jr.\n",
      "No search results found for the player.\n",
      "Processing  Gary Harris\n"
     ]
    },
    {
     "name": "stderr",
     "output_type": "stream",
     "text": [
      "/var/folders/7z/7q00pypj1_sf2clps66cxc9r0000gn/T/ipykernel_2964/1753532913.py:33: FutureWarning: Passing literal html to 'read_html' is deprecated and will be removed in a future version. To read from a literal string, wrap it in a 'StringIO' object.\n",
      "  df = pd.read_html(str(table))[0]\n"
     ]
    },
    {
     "name": "stdout",
     "output_type": "stream",
     "text": [
      "Processing  Gary Payton II\n"
     ]
    },
    {
     "name": "stderr",
     "output_type": "stream",
     "text": [
      "/var/folders/7z/7q00pypj1_sf2clps66cxc9r0000gn/T/ipykernel_2964/1753532913.py:33: FutureWarning: Passing literal html to 'read_html' is deprecated and will be removed in a future version. To read from a literal string, wrap it in a 'StringIO' object.\n",
      "  df = pd.read_html(str(table))[0]\n"
     ]
    },
    {
     "name": "stdout",
     "output_type": "stream",
     "text": [
      "Processing  Gary Trent Jr.\n"
     ]
    },
    {
     "name": "stderr",
     "output_type": "stream",
     "text": [
      "/var/folders/7z/7q00pypj1_sf2clps66cxc9r0000gn/T/ipykernel_2964/1753532913.py:33: FutureWarning: Passing literal html to 'read_html' is deprecated and will be removed in a future version. To read from a literal string, wrap it in a 'StringIO' object.\n",
      "  df = pd.read_html(str(table))[0]\n"
     ]
    },
    {
     "name": "stdout",
     "output_type": "stream",
     "text": [
      "Processing  George Hill\n",
      "Last 5 games div not found.\n",
      "Processing  Georges Niang\n"
     ]
    },
    {
     "name": "stderr",
     "output_type": "stream",
     "text": [
      "/var/folders/7z/7q00pypj1_sf2clps66cxc9r0000gn/T/ipykernel_2964/1753532913.py:33: FutureWarning: Passing literal html to 'read_html' is deprecated and will be removed in a future version. To read from a literal string, wrap it in a 'StringIO' object.\n",
      "  df = pd.read_html(str(table))[0]\n"
     ]
    },
    {
     "name": "stdout",
     "output_type": "stream",
     "text": [
      "Processing  Giannis Antetokounmpo\n"
     ]
    },
    {
     "name": "stderr",
     "output_type": "stream",
     "text": [
      "/var/folders/7z/7q00pypj1_sf2clps66cxc9r0000gn/T/ipykernel_2964/1753532913.py:33: FutureWarning: Passing literal html to 'read_html' is deprecated and will be removed in a future version. To read from a literal string, wrap it in a 'StringIO' object.\n",
      "  df = pd.read_html(str(table))[0]\n"
     ]
    },
    {
     "name": "stdout",
     "output_type": "stream",
     "text": [
      "Processing  Glenn Robinson III\n",
      "Last 5 games div not found.\n",
      "Processing  Goga Bitadze\n"
     ]
    },
    {
     "name": "stderr",
     "output_type": "stream",
     "text": [
      "/var/folders/7z/7q00pypj1_sf2clps66cxc9r0000gn/T/ipykernel_2964/1753532913.py:33: FutureWarning: Passing literal html to 'read_html' is deprecated and will be removed in a future version. To read from a literal string, wrap it in a 'StringIO' object.\n",
      "  df = pd.read_html(str(table))[0]\n"
     ]
    },
    {
     "name": "stdout",
     "output_type": "stream",
     "text": [
      "Processing  Goran Dragic\n",
      "Last 5 games div not found.\n",
      "Processing  Gordon Hayward\n"
     ]
    },
    {
     "name": "stderr",
     "output_type": "stream",
     "text": [
      "/var/folders/7z/7q00pypj1_sf2clps66cxc9r0000gn/T/ipykernel_2964/1753532913.py:33: FutureWarning: Passing literal html to 'read_html' is deprecated and will be removed in a future version. To read from a literal string, wrap it in a 'StringIO' object.\n",
      "  df = pd.read_html(str(table))[0]\n"
     ]
    },
    {
     "name": "stdout",
     "output_type": "stream",
     "text": [
      "Processing  Gorgui Dieng\n",
      "Last 5 games div not found.\n",
      "Processing  Grant Riller\n",
      "Last 5 games div not found.\n",
      "Processing  Grant Williams\n"
     ]
    },
    {
     "name": "stderr",
     "output_type": "stream",
     "text": [
      "/var/folders/7z/7q00pypj1_sf2clps66cxc9r0000gn/T/ipykernel_2964/1753532913.py:33: FutureWarning: Passing literal html to 'read_html' is deprecated and will be removed in a future version. To read from a literal string, wrap it in a 'StringIO' object.\n",
      "  df = pd.read_html(str(table))[0]\n"
     ]
    },
    {
     "name": "stdout",
     "output_type": "stream",
     "text": [
      "Processing  Grayson Allen\n"
     ]
    },
    {
     "name": "stderr",
     "output_type": "stream",
     "text": [
      "/var/folders/7z/7q00pypj1_sf2clps66cxc9r0000gn/T/ipykernel_2964/1753532913.py:33: FutureWarning: Passing literal html to 'read_html' is deprecated and will be removed in a future version. To read from a literal string, wrap it in a 'StringIO' object.\n",
      "  df = pd.read_html(str(table))[0]\n"
     ]
    },
    {
     "name": "stdout",
     "output_type": "stream",
     "text": [
      "Processing  Greg Brown III\n"
     ]
    },
    {
     "name": "stderr",
     "output_type": "stream",
     "text": [
      "/var/folders/7z/7q00pypj1_sf2clps66cxc9r0000gn/T/ipykernel_2964/1753532913.py:33: FutureWarning: Passing literal html to 'read_html' is deprecated and will be removed in a future version. To read from a literal string, wrap it in a 'StringIO' object.\n",
      "  df = pd.read_html(str(table))[0]\n"
     ]
    },
    {
     "name": "stdout",
     "output_type": "stream",
     "text": [
      "Processing  Greg Monroe\n",
      "Last 5 games div not found.\n",
      "Processing  Greg Whittington\n",
      "Last 5 games div not found.\n",
      "Processing  Guillermo Hernangomez / Willy Hernangomez\n",
      "No search results found for the player.\n",
      "Processing  Hamidou Diallo\n",
      "Last 5 games div not found.\n",
      "Processing  Harrison Barnes\n"
     ]
    },
    {
     "name": "stderr",
     "output_type": "stream",
     "text": [
      "/var/folders/7z/7q00pypj1_sf2clps66cxc9r0000gn/T/ipykernel_2964/1753532913.py:33: FutureWarning: Passing literal html to 'read_html' is deprecated and will be removed in a future version. To read from a literal string, wrap it in a 'StringIO' object.\n",
      "  df = pd.read_html(str(table))[0]\n"
     ]
    },
    {
     "name": "stdout",
     "output_type": "stream",
     "text": [
      "Processing  Harry Giles III\n",
      "No search results found for the player.\n",
      "Processing  Hassan Whiteside\n",
      "Last 5 games div not found.\n",
      "Processing  Hassani Gravett\n",
      "Last 5 games div not found.\n",
      "Processing  Heat\n",
      "Last 5 games div not found.\n",
      "Processing  Herbert Jones / Herb Jones (Keyshawn)\n",
      "No search results found for the player.\n",
      "Processing  Ignas Brazdeikis / Iggy Brazdeikis\n",
      "No search results found for the player.\n",
      "Processing  Iman Shumpert\n",
      "Last 5 games div not found.\n",
      "Processing  Immanuel Quickley\n"
     ]
    },
    {
     "name": "stderr",
     "output_type": "stream",
     "text": [
      "/var/folders/7z/7q00pypj1_sf2clps66cxc9r0000gn/T/ipykernel_2964/1753532913.py:33: FutureWarning: Passing literal html to 'read_html' is deprecated and will be removed in a future version. To read from a literal string, wrap it in a 'StringIO' object.\n",
      "  df = pd.read_html(str(table))[0]\n"
     ]
    },
    {
     "name": "stdout",
     "output_type": "stream",
     "text": [
      "Processing  Isaac Bonga\n",
      "Last 5 games div not found.\n",
      "Processing  Isaac Okoro\n"
     ]
    },
    {
     "name": "stderr",
     "output_type": "stream",
     "text": [
      "/var/folders/7z/7q00pypj1_sf2clps66cxc9r0000gn/T/ipykernel_2964/1753532913.py:33: FutureWarning: Passing literal html to 'read_html' is deprecated and will be removed in a future version. To read from a literal string, wrap it in a 'StringIO' object.\n",
      "  df = pd.read_html(str(table))[0]\n"
     ]
    },
    {
     "name": "stdout",
     "output_type": "stream",
     "text": [
      "Processing  Isaiah Hartenstein\n"
     ]
    },
    {
     "name": "stderr",
     "output_type": "stream",
     "text": [
      "/var/folders/7z/7q00pypj1_sf2clps66cxc9r0000gn/T/ipykernel_2964/1753532913.py:33: FutureWarning: Passing literal html to 'read_html' is deprecated and will be removed in a future version. To read from a literal string, wrap it in a 'StringIO' object.\n",
      "  df = pd.read_html(str(table))[0]\n"
     ]
    },
    {
     "name": "stdout",
     "output_type": "stream",
     "text": [
      "Processing  Isaiah Jackson\n"
     ]
    },
    {
     "name": "stderr",
     "output_type": "stream",
     "text": [
      "/var/folders/7z/7q00pypj1_sf2clps66cxc9r0000gn/T/ipykernel_2964/1753532913.py:33: FutureWarning: Passing literal html to 'read_html' is deprecated and will be removed in a future version. To read from a literal string, wrap it in a 'StringIO' object.\n",
      "  df = pd.read_html(str(table))[0]\n"
     ]
    },
    {
     "name": "stdout",
     "output_type": "stream",
     "text": [
      "Processing  Isaiah Joe\n"
     ]
    },
    {
     "name": "stderr",
     "output_type": "stream",
     "text": [
      "/var/folders/7z/7q00pypj1_sf2clps66cxc9r0000gn/T/ipykernel_2964/1753532913.py:33: FutureWarning: Passing literal html to 'read_html' is deprecated and will be removed in a future version. To read from a literal string, wrap it in a 'StringIO' object.\n",
      "  df = pd.read_html(str(table))[0]\n"
     ]
    },
    {
     "name": "stdout",
     "output_type": "stream",
     "text": [
      "Processing  Isaiah Livers\n"
     ]
    },
    {
     "name": "stderr",
     "output_type": "stream",
     "text": [
      "/var/folders/7z/7q00pypj1_sf2clps66cxc9r0000gn/T/ipykernel_2964/1753532913.py:33: FutureWarning: Passing literal html to 'read_html' is deprecated and will be removed in a future version. To read from a literal string, wrap it in a 'StringIO' object.\n",
      "  df = pd.read_html(str(table))[0]\n"
     ]
    },
    {
     "name": "stdout",
     "output_type": "stream",
     "text": [
      "Processing  Isaiah Roby\n",
      "Last 5 games div not found.\n",
      "Processing  Isaiah Stewart\n"
     ]
    },
    {
     "name": "stderr",
     "output_type": "stream",
     "text": [
      "/var/folders/7z/7q00pypj1_sf2clps66cxc9r0000gn/T/ipykernel_2964/1753532913.py:33: FutureWarning: Passing literal html to 'read_html' is deprecated and will be removed in a future version. To read from a literal string, wrap it in a 'StringIO' object.\n",
      "  df = pd.read_html(str(table))[0]\n"
     ]
    },
    {
     "name": "stdout",
     "output_type": "stream",
     "text": [
      "Processing  Isaiah Thomas\n"
     ]
    },
    {
     "name": "stderr",
     "output_type": "stream",
     "text": [
      "/var/folders/7z/7q00pypj1_sf2clps66cxc9r0000gn/T/ipykernel_2964/1753532913.py:33: FutureWarning: Passing literal html to 'read_html' is deprecated and will be removed in a future version. To read from a literal string, wrap it in a 'StringIO' object.\n",
      "  df = pd.read_html(str(table))[0]\n"
     ]
    },
    {
     "name": "stdout",
     "output_type": "stream",
     "text": [
      "Processing  Isaiah Todd\n",
      "Last 5 games div not found.\n",
      "Processing  Ishmael Smith / Ish Smith\n",
      "No search results found for the player.\n",
      "Processing  Ishmail Wainright / Ish Wainright\n",
      "No search results found for the player.\n",
      "Processing  Ivica Zubac\n"
     ]
    },
    {
     "name": "stderr",
     "output_type": "stream",
     "text": [
      "/var/folders/7z/7q00pypj1_sf2clps66cxc9r0000gn/T/ipykernel_2964/1753532913.py:33: FutureWarning: Passing literal html to 'read_html' is deprecated and will be removed in a future version. To read from a literal string, wrap it in a 'StringIO' object.\n",
      "  df = pd.read_html(str(table))[0]\n"
     ]
    },
    {
     "name": "stdout",
     "output_type": "stream",
     "text": [
      "Processing  J.D. Davison\n",
      "No search results found for the player.\n",
      "Processing  J.J. Redick\n",
      "No search results found for the player.\n",
      "Processing  J.T. Thor\n",
      "No search results found for the player.\n",
      "Processing  Ja Morant\n"
     ]
    },
    {
     "name": "stderr",
     "output_type": "stream",
     "text": [
      "/var/folders/7z/7q00pypj1_sf2clps66cxc9r0000gn/T/ipykernel_2964/1753532913.py:33: FutureWarning: Passing literal html to 'read_html' is deprecated and will be removed in a future version. To read from a literal string, wrap it in a 'StringIO' object.\n",
      "  df = pd.read_html(str(table))[0]\n"
     ]
    },
    {
     "name": "stdout",
     "output_type": "stream",
     "text": [
      "Processing  JaKarr Sampson\n",
      "Last 5 games div not found.\n",
      "Processing  JaMychal Green\n",
      "Last 5 games div not found.\n",
      "Processing  JaQuori McLaughlin\n",
      "Last 5 games div not found.\n",
      "Processing  JaVale McGee\n"
     ]
    },
    {
     "name": "stderr",
     "output_type": "stream",
     "text": [
      "/var/folders/7z/7q00pypj1_sf2clps66cxc9r0000gn/T/ipykernel_2964/1753532913.py:33: FutureWarning: Passing literal html to 'read_html' is deprecated and will be removed in a future version. To read from a literal string, wrap it in a 'StringIO' object.\n",
      "  df = pd.read_html(str(table))[0]\n"
     ]
    },
    {
     "name": "stdout",
     "output_type": "stream",
     "text": [
      "Processing  Jabari Parker\n",
      "Last 5 games div not found.\n",
      "Processing  Jacob Evans\n",
      "Last 5 games div not found.\n",
      "Processing  Jaden Ivey\n"
     ]
    },
    {
     "name": "stderr",
     "output_type": "stream",
     "text": [
      "/var/folders/7z/7q00pypj1_sf2clps66cxc9r0000gn/T/ipykernel_2964/1753532913.py:33: FutureWarning: Passing literal html to 'read_html' is deprecated and will be removed in a future version. To read from a literal string, wrap it in a 'StringIO' object.\n",
      "  df = pd.read_html(str(table))[0]\n"
     ]
    },
    {
     "name": "stdout",
     "output_type": "stream",
     "text": [
      "Processing  Jaden McDaniels\n"
     ]
    },
    {
     "name": "stderr",
     "output_type": "stream",
     "text": [
      "/var/folders/7z/7q00pypj1_sf2clps66cxc9r0000gn/T/ipykernel_2964/1753532913.py:33: FutureWarning: Passing literal html to 'read_html' is deprecated and will be removed in a future version. To read from a literal string, wrap it in a 'StringIO' object.\n",
      "  df = pd.read_html(str(table))[0]\n"
     ]
    },
    {
     "name": "stdout",
     "output_type": "stream",
     "text": [
      "Processing  Jaden Springer\n"
     ]
    },
    {
     "name": "stderr",
     "output_type": "stream",
     "text": [
      "/var/folders/7z/7q00pypj1_sf2clps66cxc9r0000gn/T/ipykernel_2964/1753532913.py:33: FutureWarning: Passing literal html to 'read_html' is deprecated and will be removed in a future version. To read from a literal string, wrap it in a 'StringIO' object.\n",
      "  df = pd.read_html(str(table))[0]\n"
     ]
    },
    {
     "name": "stdout",
     "output_type": "stream",
     "text": [
      "Processing  Jae Crowder\n"
     ]
    },
    {
     "name": "stderr",
     "output_type": "stream",
     "text": [
      "/var/folders/7z/7q00pypj1_sf2clps66cxc9r0000gn/T/ipykernel_2964/1753532913.py:33: FutureWarning: Passing literal html to 'read_html' is deprecated and will be removed in a future version. To read from a literal string, wrap it in a 'StringIO' object.\n",
      "  df = pd.read_html(str(table))[0]\n"
     ]
    },
    {
     "name": "stdout",
     "output_type": "stream",
     "text": [
      "Processing  Jae'Sean Tate\n"
     ]
    },
    {
     "name": "stderr",
     "output_type": "stream",
     "text": [
      "/var/folders/7z/7q00pypj1_sf2clps66cxc9r0000gn/T/ipykernel_2964/1753532913.py:33: FutureWarning: Passing literal html to 'read_html' is deprecated and will be removed in a future version. To read from a literal string, wrap it in a 'StringIO' object.\n",
      "  df = pd.read_html(str(table))[0]\n"
     ]
    },
    {
     "name": "stdout",
     "output_type": "stream",
     "text": [
      "Processing  Jahlil Okafor\n",
      "Last 5 games div not found.\n",
      "Processing  Jahmi'us Ramsey\n"
     ]
    },
    {
     "name": "stderr",
     "output_type": "stream",
     "text": [
      "/var/folders/7z/7q00pypj1_sf2clps66cxc9r0000gn/T/ipykernel_2964/1753532913.py:33: FutureWarning: Passing literal html to 'read_html' is deprecated and will be removed in a future version. To read from a literal string, wrap it in a 'StringIO' object.\n",
      "  df = pd.read_html(str(table))[0]\n"
     ]
    },
    {
     "name": "stdout",
     "output_type": "stream",
     "text": [
      "Processing  Jake LaRavia\n"
     ]
    },
    {
     "name": "stderr",
     "output_type": "stream",
     "text": [
      "/var/folders/7z/7q00pypj1_sf2clps66cxc9r0000gn/T/ipykernel_2964/1753532913.py:33: FutureWarning: Passing literal html to 'read_html' is deprecated and will be removed in a future version. To read from a literal string, wrap it in a 'StringIO' object.\n",
      "  df = pd.read_html(str(table))[0]\n"
     ]
    },
    {
     "name": "stdout",
     "output_type": "stream",
     "text": [
      "Processing  Jake Layman\n",
      "Last 5 games div not found.\n",
      "Processing  Jakob Poeltl\n"
     ]
    },
    {
     "name": "stderr",
     "output_type": "stream",
     "text": [
      "/var/folders/7z/7q00pypj1_sf2clps66cxc9r0000gn/T/ipykernel_2964/1753532913.py:33: FutureWarning: Passing literal html to 'read_html' is deprecated and will be removed in a future version. To read from a literal string, wrap it in a 'StringIO' object.\n",
      "  df = pd.read_html(str(table))[0]\n"
     ]
    },
    {
     "name": "stdout",
     "output_type": "stream",
     "text": [
      "Processing  Jalen Brunson\n"
     ]
    },
    {
     "name": "stderr",
     "output_type": "stream",
     "text": [
      "/var/folders/7z/7q00pypj1_sf2clps66cxc9r0000gn/T/ipykernel_2964/1753532913.py:33: FutureWarning: Passing literal html to 'read_html' is deprecated and will be removed in a future version. To read from a literal string, wrap it in a 'StringIO' object.\n",
      "  df = pd.read_html(str(table))[0]\n"
     ]
    },
    {
     "name": "stdout",
     "output_type": "stream",
     "text": [
      "Processing  Jalen Duren\n"
     ]
    },
    {
     "name": "stderr",
     "output_type": "stream",
     "text": [
      "/var/folders/7z/7q00pypj1_sf2clps66cxc9r0000gn/T/ipykernel_2964/1753532913.py:33: FutureWarning: Passing literal html to 'read_html' is deprecated and will be removed in a future version. To read from a literal string, wrap it in a 'StringIO' object.\n",
      "  df = pd.read_html(str(table))[0]\n"
     ]
    },
    {
     "name": "stdout",
     "output_type": "stream",
     "text": [
      "Processing  Jalen Green\n"
     ]
    },
    {
     "name": "stderr",
     "output_type": "stream",
     "text": [
      "/var/folders/7z/7q00pypj1_sf2clps66cxc9r0000gn/T/ipykernel_2964/1753532913.py:33: FutureWarning: Passing literal html to 'read_html' is deprecated and will be removed in a future version. To read from a literal string, wrap it in a 'StringIO' object.\n",
      "  df = pd.read_html(str(table))[0]\n"
     ]
    },
    {
     "name": "stdout",
     "output_type": "stream",
     "text": [
      "Processing  Jalen Harris\n",
      "Last 5 games div not found.\n",
      "Processing  Jalen Johnson\n"
     ]
    },
    {
     "name": "stderr",
     "output_type": "stream",
     "text": [
      "/var/folders/7z/7q00pypj1_sf2clps66cxc9r0000gn/T/ipykernel_2964/1753532913.py:33: FutureWarning: Passing literal html to 'read_html' is deprecated and will be removed in a future version. To read from a literal string, wrap it in a 'StringIO' object.\n",
      "  df = pd.read_html(str(table))[0]\n"
     ]
    },
    {
     "name": "stdout",
     "output_type": "stream",
     "text": [
      "Processing  Jalen Lecque\n",
      "Last 5 games div not found.\n",
      "Processing  Jalen McDaniels\n"
     ]
    },
    {
     "name": "stderr",
     "output_type": "stream",
     "text": [
      "/var/folders/7z/7q00pypj1_sf2clps66cxc9r0000gn/T/ipykernel_2964/1753532913.py:33: FutureWarning: Passing literal html to 'read_html' is deprecated and will be removed in a future version. To read from a literal string, wrap it in a 'StringIO' object.\n",
      "  df = pd.read_html(str(table))[0]\n"
     ]
    },
    {
     "name": "stdout",
     "output_type": "stream",
     "text": [
      "Processing  Jalen Smith\n"
     ]
    },
    {
     "name": "stderr",
     "output_type": "stream",
     "text": [
      "/var/folders/7z/7q00pypj1_sf2clps66cxc9r0000gn/T/ipykernel_2964/1753532913.py:33: FutureWarning: Passing literal html to 'read_html' is deprecated and will be removed in a future version. To read from a literal string, wrap it in a 'StringIO' object.\n",
      "  df = pd.read_html(str(table))[0]\n"
     ]
    },
    {
     "name": "stdout",
     "output_type": "stream",
     "text": [
      "Processing  Jalen Suggs\n"
     ]
    },
    {
     "name": "stderr",
     "output_type": "stream",
     "text": [
      "/var/folders/7z/7q00pypj1_sf2clps66cxc9r0000gn/T/ipykernel_2964/1753532913.py:33: FutureWarning: Passing literal html to 'read_html' is deprecated and will be removed in a future version. To read from a literal string, wrap it in a 'StringIO' object.\n",
      "  df = pd.read_html(str(table))[0]\n"
     ]
    },
    {
     "name": "stdout",
     "output_type": "stream",
     "text": [
      "Processing  Jamal Crawford\n",
      "Last 5 games div not found.\n",
      "Processing  Jamal Murray\n"
     ]
    },
    {
     "name": "stderr",
     "output_type": "stream",
     "text": [
      "/var/folders/7z/7q00pypj1_sf2clps66cxc9r0000gn/T/ipykernel_2964/1753532913.py:33: FutureWarning: Passing literal html to 'read_html' is deprecated and will be removed in a future version. To read from a literal string, wrap it in a 'StringIO' object.\n",
      "  df = pd.read_html(str(table))[0]\n"
     ]
    },
    {
     "name": "stdout",
     "output_type": "stream",
     "text": [
      "Processing  James Bouknight\n"
     ]
    },
    {
     "name": "stderr",
     "output_type": "stream",
     "text": [
      "/var/folders/7z/7q00pypj1_sf2clps66cxc9r0000gn/T/ipykernel_2964/1753532913.py:33: FutureWarning: Passing literal html to 'read_html' is deprecated and will be removed in a future version. To read from a literal string, wrap it in a 'StringIO' object.\n",
      "  df = pd.read_html(str(table))[0]\n"
     ]
    },
    {
     "name": "stdout",
     "output_type": "stream",
     "text": [
      "Processing  James Ennis III\n",
      "Last 5 games div not found.\n",
      "Processing  James Harden\n"
     ]
    },
    {
     "name": "stderr",
     "output_type": "stream",
     "text": [
      "/var/folders/7z/7q00pypj1_sf2clps66cxc9r0000gn/T/ipykernel_2964/1753532913.py:33: FutureWarning: Passing literal html to 'read_html' is deprecated and will be removed in a future version. To read from a literal string, wrap it in a 'StringIO' object.\n",
      "  df = pd.read_html(str(table))[0]\n"
     ]
    },
    {
     "name": "stdout",
     "output_type": "stream",
     "text": [
      "Processing  James Johnson\n"
     ]
    },
    {
     "name": "stderr",
     "output_type": "stream",
     "text": [
      "/var/folders/7z/7q00pypj1_sf2clps66cxc9r0000gn/T/ipykernel_2964/1753532913.py:33: FutureWarning: Passing literal html to 'read_html' is deprecated and will be removed in a future version. To read from a literal string, wrap it in a 'StringIO' object.\n",
      "  df = pd.read_html(str(table))[0]\n"
     ]
    },
    {
     "name": "stdout",
     "output_type": "stream",
     "text": [
      "Processing  James Wiseman\n"
     ]
    },
    {
     "name": "stderr",
     "output_type": "stream",
     "text": [
      "/var/folders/7z/7q00pypj1_sf2clps66cxc9r0000gn/T/ipykernel_2964/1753532913.py:33: FutureWarning: Passing literal html to 'read_html' is deprecated and will be removed in a future version. To read from a literal string, wrap it in a 'StringIO' object.\n",
      "  df = pd.read_html(str(table))[0]\n"
     ]
    },
    {
     "name": "stdout",
     "output_type": "stream",
     "text": [
      "Processing  Jamorko Pickett\n",
      "Last 5 games div not found.\n",
      "Processing  Jared Butler\n"
     ]
    },
    {
     "name": "stderr",
     "output_type": "stream",
     "text": [
      "/var/folders/7z/7q00pypj1_sf2clps66cxc9r0000gn/T/ipykernel_2964/1753532913.py:33: FutureWarning: Passing literal html to 'read_html' is deprecated and will be removed in a future version. To read from a literal string, wrap it in a 'StringIO' object.\n",
      "  df = pd.read_html(str(table))[0]\n"
     ]
    },
    {
     "name": "stdout",
     "output_type": "stream",
     "text": [
      "Processing  Jared Dudley\n",
      "Last 5 games div not found.\n",
      "Processing  Jared Harper\n",
      "Last 5 games div not found.\n",
      "Processing  Jaren Jackson Jr.\n"
     ]
    },
    {
     "name": "stderr",
     "output_type": "stream",
     "text": [
      "/var/folders/7z/7q00pypj1_sf2clps66cxc9r0000gn/T/ipykernel_2964/1753532913.py:33: FutureWarning: Passing literal html to 'read_html' is deprecated and will be removed in a future version. To read from a literal string, wrap it in a 'StringIO' object.\n",
      "  df = pd.read_html(str(table))[0]\n"
     ]
    },
    {
     "name": "stdout",
     "output_type": "stream",
     "text": [
      "Processing  Jarred Vanderbilt\n"
     ]
    },
    {
     "name": "stderr",
     "output_type": "stream",
     "text": [
      "/var/folders/7z/7q00pypj1_sf2clps66cxc9r0000gn/T/ipykernel_2964/1753532913.py:33: FutureWarning: Passing literal html to 'read_html' is deprecated and will be removed in a future version. To read from a literal string, wrap it in a 'StringIO' object.\n",
      "  df = pd.read_html(str(table))[0]\n"
     ]
    },
    {
     "name": "stdout",
     "output_type": "stream",
     "text": [
      "Processing  Jarrell Brantley\n",
      "Last 5 games div not found.\n",
      "Processing  Jarrett Allen\n"
     ]
    },
    {
     "name": "stderr",
     "output_type": "stream",
     "text": [
      "/var/folders/7z/7q00pypj1_sf2clps66cxc9r0000gn/T/ipykernel_2964/1753532913.py:33: FutureWarning: Passing literal html to 'read_html' is deprecated and will be removed in a future version. To read from a literal string, wrap it in a 'StringIO' object.\n",
      "  df = pd.read_html(str(table))[0]\n"
     ]
    },
    {
     "name": "stdout",
     "output_type": "stream",
     "text": [
      "Processing  Jarrett Culver\n",
      "Last 5 games div not found.\n",
      "Processing  Jason Preston\n"
     ]
    },
    {
     "name": "stderr",
     "output_type": "stream",
     "text": [
      "/var/folders/7z/7q00pypj1_sf2clps66cxc9r0000gn/T/ipykernel_2964/1753532913.py:33: FutureWarning: Passing literal html to 'read_html' is deprecated and will be removed in a future version. To read from a literal string, wrap it in a 'StringIO' object.\n",
      "  df = pd.read_html(str(table))[0]\n"
     ]
    },
    {
     "name": "stdout",
     "output_type": "stream",
     "text": [
      "Processing  Javonte Green\n"
     ]
    },
    {
     "name": "stderr",
     "output_type": "stream",
     "text": [
      "/var/folders/7z/7q00pypj1_sf2clps66cxc9r0000gn/T/ipykernel_2964/1753532913.py:33: FutureWarning: Passing literal html to 'read_html' is deprecated and will be removed in a future version. To read from a literal string, wrap it in a 'StringIO' object.\n",
      "  df = pd.read_html(str(table))[0]\n"
     ]
    },
    {
     "name": "stdout",
     "output_type": "stream",
     "text": [
      "Processing  Javonte Smart\n",
      "Last 5 games div not found.\n",
      "Processing  Jaxson Hayes\n"
     ]
    },
    {
     "name": "stderr",
     "output_type": "stream",
     "text": [
      "/var/folders/7z/7q00pypj1_sf2clps66cxc9r0000gn/T/ipykernel_2964/1753532913.py:33: FutureWarning: Passing literal html to 'read_html' is deprecated and will be removed in a future version. To read from a literal string, wrap it in a 'StringIO' object.\n",
      "  df = pd.read_html(str(table))[0]\n"
     ]
    },
    {
     "name": "stdout",
     "output_type": "stream",
     "text": [
      "Processing  Jay Scrubb\n",
      "Last 5 games div not found.\n",
      "Processing  Jaylen Adams\n",
      "Last 5 games div not found.\n",
      "Processing  Jaylen Brown\n"
     ]
    },
    {
     "name": "stderr",
     "output_type": "stream",
     "text": [
      "/var/folders/7z/7q00pypj1_sf2clps66cxc9r0000gn/T/ipykernel_2964/1753532913.py:33: FutureWarning: Passing literal html to 'read_html' is deprecated and will be removed in a future version. To read from a literal string, wrap it in a 'StringIO' object.\n",
      "  df = pd.read_html(str(table))[0]\n"
     ]
    },
    {
     "name": "stdout",
     "output_type": "stream",
     "text": [
      "Processing  Jaylen Hoard\n",
      "Last 5 games div not found.\n",
      "Processing  Jaylen Nowell\n"
     ]
    },
    {
     "name": "stderr",
     "output_type": "stream",
     "text": [
      "/var/folders/7z/7q00pypj1_sf2clps66cxc9r0000gn/T/ipykernel_2964/1753532913.py:33: FutureWarning: Passing literal html to 'read_html' is deprecated and will be removed in a future version. To read from a literal string, wrap it in a 'StringIO' object.\n",
      "  df = pd.read_html(str(table))[0]\n"
     ]
    },
    {
     "name": "stdout",
     "output_type": "stream",
     "text": [
      "Processing  Jayson Tatum\n"
     ]
    },
    {
     "name": "stderr",
     "output_type": "stream",
     "text": [
      "/var/folders/7z/7q00pypj1_sf2clps66cxc9r0000gn/T/ipykernel_2964/1753532913.py:33: FutureWarning: Passing literal html to 'read_html' is deprecated and will be removed in a future version. To read from a literal string, wrap it in a 'StringIO' object.\n",
      "  df = pd.read_html(str(table))[0]\n"
     ]
    },
    {
     "name": "stdout",
     "output_type": "stream",
     "text": [
      "Processing  Jeff Dowtin Jr.\n",
      "No search results found for the player.\n",
      "Processing  Jeff Green\n"
     ]
    },
    {
     "name": "stderr",
     "output_type": "stream",
     "text": [
      "/var/folders/7z/7q00pypj1_sf2clps66cxc9r0000gn/T/ipykernel_2964/1753532913.py:33: FutureWarning: Passing literal html to 'read_html' is deprecated and will be removed in a future version. To read from a literal string, wrap it in a 'StringIO' object.\n",
      "  df = pd.read_html(str(table))[0]\n"
     ]
    },
    {
     "name": "stdout",
     "output_type": "stream",
     "text": [
      "Processing  Jeff Teague\n",
      "Last 5 games div not found.\n",
      "Processing  Jerami Grant\n"
     ]
    },
    {
     "name": "stderr",
     "output_type": "stream",
     "text": [
      "/var/folders/7z/7q00pypj1_sf2clps66cxc9r0000gn/T/ipykernel_2964/1753532913.py:33: FutureWarning: Passing literal html to 'read_html' is deprecated and will be removed in a future version. To read from a literal string, wrap it in a 'StringIO' object.\n",
      "  df = pd.read_html(str(table))[0]\n"
     ]
    },
    {
     "name": "stdout",
     "output_type": "stream",
     "text": [
      "Processing  Jeremiah Robinson-Earl\n"
     ]
    },
    {
     "name": "stderr",
     "output_type": "stream",
     "text": [
      "/var/folders/7z/7q00pypj1_sf2clps66cxc9r0000gn/T/ipykernel_2964/1753532913.py:33: FutureWarning: Passing literal html to 'read_html' is deprecated and will be removed in a future version. To read from a literal string, wrap it in a 'StringIO' object.\n",
      "  df = pd.read_html(str(table))[0]\n"
     ]
    },
    {
     "name": "stdout",
     "output_type": "stream",
     "text": [
      "Processing  Jeremy Lamb\n",
      "Last 5 games div not found.\n",
      "Processing  Jeremy Sochan\n"
     ]
    },
    {
     "name": "stderr",
     "output_type": "stream",
     "text": [
      "/var/folders/7z/7q00pypj1_sf2clps66cxc9r0000gn/T/ipykernel_2964/1753532913.py:33: FutureWarning: Passing literal html to 'read_html' is deprecated and will be removed in a future version. To read from a literal string, wrap it in a 'StringIO' object.\n",
      "  df = pd.read_html(str(table))[0]\n"
     ]
    },
    {
     "name": "stdout",
     "output_type": "stream",
     "text": [
      "Processing  Jericho Sims\n"
     ]
    },
    {
     "name": "stderr",
     "output_type": "stream",
     "text": [
      "/var/folders/7z/7q00pypj1_sf2clps66cxc9r0000gn/T/ipykernel_2964/1753532913.py:33: FutureWarning: Passing literal html to 'read_html' is deprecated and will be removed in a future version. To read from a literal string, wrap it in a 'StringIO' object.\n",
      "  df = pd.read_html(str(table))[0]\n"
     ]
    },
    {
     "name": "stdout",
     "output_type": "stream",
     "text": [
      "Processing  Jerome Robinson\n"
     ]
    },
    {
     "name": "stderr",
     "output_type": "stream",
     "text": [
      "/var/folders/7z/7q00pypj1_sf2clps66cxc9r0000gn/T/ipykernel_2964/1753532913.py:33: FutureWarning: Passing literal html to 'read_html' is deprecated and will be removed in a future version. To read from a literal string, wrap it in a 'StringIO' object.\n",
      "  df = pd.read_html(str(table))[0]\n"
     ]
    },
    {
     "name": "stdout",
     "output_type": "stream",
     "text": [
      "Processing  Jevon Carter\n"
     ]
    },
    {
     "name": "stderr",
     "output_type": "stream",
     "text": [
      "/var/folders/7z/7q00pypj1_sf2clps66cxc9r0000gn/T/ipykernel_2964/1753532913.py:33: FutureWarning: Passing literal html to 'read_html' is deprecated and will be removed in a future version. To read from a literal string, wrap it in a 'StringIO' object.\n",
      "  df = pd.read_html(str(table))[0]\n"
     ]
    },
    {
     "name": "stdout",
     "output_type": "stream",
     "text": [
      "Processing  Jimmy Butler\n"
     ]
    },
    {
     "name": "stderr",
     "output_type": "stream",
     "text": [
      "/var/folders/7z/7q00pypj1_sf2clps66cxc9r0000gn/T/ipykernel_2964/1753532913.py:33: FutureWarning: Passing literal html to 'read_html' is deprecated and will be removed in a future version. To read from a literal string, wrap it in a 'StringIO' object.\n",
      "  df = pd.read_html(str(table))[0]\n"
     ]
    },
    {
     "name": "stdout",
     "output_type": "stream",
     "text": [
      "Processing  Jock Landale\n"
     ]
    },
    {
     "name": "stderr",
     "output_type": "stream",
     "text": [
      "/var/folders/7z/7q00pypj1_sf2clps66cxc9r0000gn/T/ipykernel_2964/1753532913.py:33: FutureWarning: Passing literal html to 'read_html' is deprecated and will be removed in a future version. To read from a literal string, wrap it in a 'StringIO' object.\n",
      "  df = pd.read_html(str(table))[0]\n"
     ]
    },
    {
     "name": "stdout",
     "output_type": "stream",
     "text": [
      "Processing  Joe Harris\n"
     ]
    },
    {
     "name": "stderr",
     "output_type": "stream",
     "text": [
      "/var/folders/7z/7q00pypj1_sf2clps66cxc9r0000gn/T/ipykernel_2964/1753532913.py:33: FutureWarning: Passing literal html to 'read_html' is deprecated and will be removed in a future version. To read from a literal string, wrap it in a 'StringIO' object.\n",
      "  df = pd.read_html(str(table))[0]\n"
     ]
    },
    {
     "name": "stdout",
     "output_type": "stream",
     "text": [
      "Processing  Joe Ingles\n"
     ]
    },
    {
     "name": "stderr",
     "output_type": "stream",
     "text": [
      "/var/folders/7z/7q00pypj1_sf2clps66cxc9r0000gn/T/ipykernel_2964/1753532913.py:33: FutureWarning: Passing literal html to 'read_html' is deprecated and will be removed in a future version. To read from a literal string, wrap it in a 'StringIO' object.\n",
      "  df = pd.read_html(str(table))[0]\n"
     ]
    },
    {
     "name": "stdout",
     "output_type": "stream",
     "text": [
      "Processing  Joe Wieskamp\n",
      "Last 5 games div not found.\n",
      "Processing  Joel Embiid\n"
     ]
    },
    {
     "name": "stderr",
     "output_type": "stream",
     "text": [
      "/var/folders/7z/7q00pypj1_sf2clps66cxc9r0000gn/T/ipykernel_2964/1753532913.py:33: FutureWarning: Passing literal html to 'read_html' is deprecated and will be removed in a future version. To read from a literal string, wrap it in a 'StringIO' object.\n",
      "  df = pd.read_html(str(table))[0]\n"
     ]
    },
    {
     "name": "stdout",
     "output_type": "stream",
     "text": [
      "Processing  John Butler Jr.\n",
      "No search results found for the player.\n",
      "Processing  John Collins (Martin)\n",
      "No search results found for the player.\n",
      "Processing  John Henson\n",
      "Last 5 games div not found.\n",
      "Processing  John Konchar\n"
     ]
    },
    {
     "name": "stderr",
     "output_type": "stream",
     "text": [
      "/var/folders/7z/7q00pypj1_sf2clps66cxc9r0000gn/T/ipykernel_2964/1753532913.py:33: FutureWarning: Passing literal html to 'read_html' is deprecated and will be removed in a future version. To read from a literal string, wrap it in a 'StringIO' object.\n",
      "  df = pd.read_html(str(table))[0]\n"
     ]
    },
    {
     "name": "stdout",
     "output_type": "stream",
     "text": [
      "Processing  John Wall (Hildred)\n",
      "No search results found for the player.\n",
      "Processing  Johnny Davis (Christian)\n",
      "No search results found for the player.\n",
      "Processing  Johnny Juzang\n"
     ]
    },
    {
     "name": "stderr",
     "output_type": "stream",
     "text": [
      "/var/folders/7z/7q00pypj1_sf2clps66cxc9r0000gn/T/ipykernel_2964/1753532913.py:33: FutureWarning: Passing literal html to 'read_html' is deprecated and will be removed in a future version. To read from a literal string, wrap it in a 'StringIO' object.\n",
      "  df = pd.read_html(str(table))[0]\n"
     ]
    },
    {
     "name": "stdout",
     "output_type": "stream",
     "text": [
      "Processing  Jonas Valanciunas\n"
     ]
    },
    {
     "name": "stderr",
     "output_type": "stream",
     "text": [
      "/var/folders/7z/7q00pypj1_sf2clps66cxc9r0000gn/T/ipykernel_2964/1753532913.py:33: FutureWarning: Passing literal html to 'read_html' is deprecated and will be removed in a future version. To read from a literal string, wrap it in a 'StringIO' object.\n",
      "  df = pd.read_html(str(table))[0]\n"
     ]
    },
    {
     "name": "stdout",
     "output_type": "stream",
     "text": [
      "Processing  Jonathan Isaac\n"
     ]
    },
    {
     "name": "stderr",
     "output_type": "stream",
     "text": [
      "/var/folders/7z/7q00pypj1_sf2clps66cxc9r0000gn/T/ipykernel_2964/1753532913.py:33: FutureWarning: Passing literal html to 'read_html' is deprecated and will be removed in a future version. To read from a literal string, wrap it in a 'StringIO' object.\n",
      "  df = pd.read_html(str(table))[0]\n"
     ]
    },
    {
     "name": "stdout",
     "output_type": "stream",
     "text": [
      "Processing  Jonathan Kuminga\n"
     ]
    },
    {
     "name": "stderr",
     "output_type": "stream",
     "text": [
      "/var/folders/7z/7q00pypj1_sf2clps66cxc9r0000gn/T/ipykernel_2964/1753532913.py:33: FutureWarning: Passing literal html to 'read_html' is deprecated and will be removed in a future version. To read from a literal string, wrap it in a 'StringIO' object.\n",
      "  df = pd.read_html(str(table))[0]\n"
     ]
    },
    {
     "name": "stdout",
     "output_type": "stream",
     "text": [
      "Processing  Jontay Porter\n"
     ]
    },
    {
     "name": "stderr",
     "output_type": "stream",
     "text": [
      "/var/folders/7z/7q00pypj1_sf2clps66cxc9r0000gn/T/ipykernel_2964/1753532913.py:33: FutureWarning: Passing literal html to 'read_html' is deprecated and will be removed in a future version. To read from a literal string, wrap it in a 'StringIO' object.\n",
      "  df = pd.read_html(str(table))[0]\n"
     ]
    },
    {
     "name": "stdout",
     "output_type": "stream",
     "text": [
      "Processing  Jordan Clarkson\n"
     ]
    },
    {
     "name": "stderr",
     "output_type": "stream",
     "text": [
      "/var/folders/7z/7q00pypj1_sf2clps66cxc9r0000gn/T/ipykernel_2964/1753532913.py:33: FutureWarning: Passing literal html to 'read_html' is deprecated and will be removed in a future version. To read from a literal string, wrap it in a 'StringIO' object.\n",
      "  df = pd.read_html(str(table))[0]\n"
     ]
    },
    {
     "name": "stdout",
     "output_type": "stream",
     "text": [
      "Processing  Jordan McLaughlin\n"
     ]
    },
    {
     "name": "stderr",
     "output_type": "stream",
     "text": [
      "/var/folders/7z/7q00pypj1_sf2clps66cxc9r0000gn/T/ipykernel_2964/1753532913.py:33: FutureWarning: Passing literal html to 'read_html' is deprecated and will be removed in a future version. To read from a literal string, wrap it in a 'StringIO' object.\n",
      "  df = pd.read_html(str(table))[0]\n"
     ]
    },
    {
     "name": "stdout",
     "output_type": "stream",
     "text": [
      "Processing  Jordan McRae\n",
      "Last 5 games div not found.\n",
      "Processing  Jordan Nwora\n"
     ]
    },
    {
     "name": "stderr",
     "output_type": "stream",
     "text": [
      "/var/folders/7z/7q00pypj1_sf2clps66cxc9r0000gn/T/ipykernel_2964/1753532913.py:33: FutureWarning: Passing literal html to 'read_html' is deprecated and will be removed in a future version. To read from a literal string, wrap it in a 'StringIO' object.\n",
      "  df = pd.read_html(str(table))[0]\n"
     ]
    },
    {
     "name": "stdout",
     "output_type": "stream",
     "text": [
      "Processing  Jordan Poole\n"
     ]
    },
    {
     "name": "stderr",
     "output_type": "stream",
     "text": [
      "/var/folders/7z/7q00pypj1_sf2clps66cxc9r0000gn/T/ipykernel_2964/1753532913.py:33: FutureWarning: Passing literal html to 'read_html' is deprecated and will be removed in a future version. To read from a literal string, wrap it in a 'StringIO' object.\n",
      "  df = pd.read_html(str(table))[0]\n"
     ]
    },
    {
     "name": "stdout",
     "output_type": "stream",
     "text": [
      "Processing  Jose Alvarado\n"
     ]
    },
    {
     "name": "stderr",
     "output_type": "stream",
     "text": [
      "/var/folders/7z/7q00pypj1_sf2clps66cxc9r0000gn/T/ipykernel_2964/1753532913.py:33: FutureWarning: Passing literal html to 'read_html' is deprecated and will be removed in a future version. To read from a literal string, wrap it in a 'StringIO' object.\n",
      "  df = pd.read_html(str(table))[0]\n"
     ]
    },
    {
     "name": "stdout",
     "output_type": "stream",
     "text": [
      "Processing  Jose Juan Barea / Jose Barea / J.J. Barea\n",
      "No search results found for the player.\n",
      "Processing  Josh Giddey\n"
     ]
    },
    {
     "name": "stderr",
     "output_type": "stream",
     "text": [
      "/var/folders/7z/7q00pypj1_sf2clps66cxc9r0000gn/T/ipykernel_2964/1753532913.py:33: FutureWarning: Passing literal html to 'read_html' is deprecated and will be removed in a future version. To read from a literal string, wrap it in a 'StringIO' object.\n",
      "  df = pd.read_html(str(table))[0]\n"
     ]
    },
    {
     "name": "stdout",
     "output_type": "stream",
     "text": [
      "Processing  Josh Green\n"
     ]
    },
    {
     "name": "stderr",
     "output_type": "stream",
     "text": [
      "/var/folders/7z/7q00pypj1_sf2clps66cxc9r0000gn/T/ipykernel_2964/1753532913.py:33: FutureWarning: Passing literal html to 'read_html' is deprecated and will be removed in a future version. To read from a literal string, wrap it in a 'StringIO' object.\n",
      "  df = pd.read_html(str(table))[0]\n"
     ]
    },
    {
     "name": "stdout",
     "output_type": "stream",
     "text": [
      "Processing  Josh Hall\n",
      "Last 5 games div not found.\n",
      "Processing  Josh Hart\n"
     ]
    },
    {
     "name": "stderr",
     "output_type": "stream",
     "text": [
      "/var/folders/7z/7q00pypj1_sf2clps66cxc9r0000gn/T/ipykernel_2964/1753532913.py:33: FutureWarning: Passing literal html to 'read_html' is deprecated and will be removed in a future version. To read from a literal string, wrap it in a 'StringIO' object.\n",
      "  df = pd.read_html(str(table))[0]\n"
     ]
    },
    {
     "name": "stdout",
     "output_type": "stream",
     "text": [
      "Processing  Josh Jackson\n",
      "Last 5 games div not found.\n",
      "Processing  Josh Okogie\n"
     ]
    },
    {
     "name": "stderr",
     "output_type": "stream",
     "text": [
      "/var/folders/7z/7q00pypj1_sf2clps66cxc9r0000gn/T/ipykernel_2964/1753532913.py:33: FutureWarning: Passing literal html to 'read_html' is deprecated and will be removed in a future version. To read from a literal string, wrap it in a 'StringIO' object.\n",
      "  df = pd.read_html(str(table))[0]\n"
     ]
    },
    {
     "name": "stdout",
     "output_type": "stream",
     "text": [
      "Processing  Josh Richardson\n"
     ]
    },
    {
     "name": "stderr",
     "output_type": "stream",
     "text": [
      "/var/folders/7z/7q00pypj1_sf2clps66cxc9r0000gn/T/ipykernel_2964/1753532913.py:33: FutureWarning: Passing literal html to 'read_html' is deprecated and will be removed in a future version. To read from a literal string, wrap it in a 'StringIO' object.\n",
      "  df = pd.read_html(str(table))[0]\n"
     ]
    },
    {
     "name": "stdout",
     "output_type": "stream",
     "text": [
      "Processing  Joshua Primo\n",
      "Last 5 games div not found.\n",
      "Processing  Jrue Holiday\n"
     ]
    },
    {
     "name": "stderr",
     "output_type": "stream",
     "text": [
      "/var/folders/7z/7q00pypj1_sf2clps66cxc9r0000gn/T/ipykernel_2964/1753532913.py:33: FutureWarning: Passing literal html to 'read_html' is deprecated and will be removed in a future version. To read from a literal string, wrap it in a 'StringIO' object.\n",
      "  df = pd.read_html(str(table))[0]\n"
     ]
    },
    {
     "name": "stdout",
     "output_type": "stream",
     "text": [
      "Processing  Juan Toscano-Anderson\n"
     ]
    },
    {
     "name": "stderr",
     "output_type": "stream",
     "text": [
      "/var/folders/7z/7q00pypj1_sf2clps66cxc9r0000gn/T/ipykernel_2964/1753532913.py:33: FutureWarning: Passing literal html to 'read_html' is deprecated and will be removed in a future version. To read from a literal string, wrap it in a 'StringIO' object.\n",
      "  df = pd.read_html(str(table))[0]\n"
     ]
    },
    {
     "name": "stdout",
     "output_type": "stream",
     "text": [
      "Processing  Juancho Hernangomez / Juan Hernangomez\n",
      "No search results found for the player.\n",
      "Processing  Julius Randle\n"
     ]
    },
    {
     "name": "stderr",
     "output_type": "stream",
     "text": [
      "/var/folders/7z/7q00pypj1_sf2clps66cxc9r0000gn/T/ipykernel_2964/1753532913.py:33: FutureWarning: Passing literal html to 'read_html' is deprecated and will be removed in a future version. To read from a literal string, wrap it in a 'StringIO' object.\n",
      "  df = pd.read_html(str(table))[0]\n"
     ]
    },
    {
     "name": "stdout",
     "output_type": "stream",
     "text": [
      "Processing  Justin Anderson\n",
      "Last 5 games div not found.\n",
      "Processing  Justin Champagnie\n"
     ]
    },
    {
     "name": "stderr",
     "output_type": "stream",
     "text": [
      "/var/folders/7z/7q00pypj1_sf2clps66cxc9r0000gn/T/ipykernel_2964/1753532913.py:33: FutureWarning: Passing literal html to 'read_html' is deprecated and will be removed in a future version. To read from a literal string, wrap it in a 'StringIO' object.\n",
      "  df = pd.read_html(str(table))[0]\n"
     ]
    },
    {
     "name": "stdout",
     "output_type": "stream",
     "text": [
      "Processing  Justin Holiday\n"
     ]
    },
    {
     "name": "stderr",
     "output_type": "stream",
     "text": [
      "/var/folders/7z/7q00pypj1_sf2clps66cxc9r0000gn/T/ipykernel_2964/1753532913.py:33: FutureWarning: Passing literal html to 'read_html' is deprecated and will be removed in a future version. To read from a literal string, wrap it in a 'StringIO' object.\n",
      "  df = pd.read_html(str(table))[0]\n"
     ]
    },
    {
     "name": "stdout",
     "output_type": "stream",
     "text": [
      "Processing  Justin Jackson (Aaron)\n",
      "No search results found for the player.\n",
      "Processing  Justin James\n",
      "Last 5 games div not found.\n",
      "Processing  Justin Patton\n",
      "Last 5 games div not found.\n",
      "Processing  Justise Winslow\n",
      "Last 5 games div not found.\n",
      "Processing  Jusuf Nurkic\n"
     ]
    },
    {
     "name": "stderr",
     "output_type": "stream",
     "text": [
      "/var/folders/7z/7q00pypj1_sf2clps66cxc9r0000gn/T/ipykernel_2964/1753532913.py:33: FutureWarning: Passing literal html to 'read_html' is deprecated and will be removed in a future version. To read from a literal string, wrap it in a 'StringIO' object.\n",
      "  df = pd.read_html(str(table))[0]\n"
     ]
    },
    {
     "name": "stdout",
     "output_type": "stream",
     "text": [
      "Processing  Juwan Morgan\n",
      "Last 5 games div not found.\n",
      "Processing  K.Z. Okpala\n",
      "No search results found for the player.\n",
      "Processing  Kai Jones\n",
      "Last 5 games div not found.\n",
      "Processing  Karim Mane\n",
      "Last 5 games div not found.\n",
      "Processing  Karl-Anthony Towns\n"
     ]
    },
    {
     "name": "stderr",
     "output_type": "stream",
     "text": [
      "/var/folders/7z/7q00pypj1_sf2clps66cxc9r0000gn/T/ipykernel_2964/1753532913.py:33: FutureWarning: Passing literal html to 'read_html' is deprecated and will be removed in a future version. To read from a literal string, wrap it in a 'StringIO' object.\n",
      "  df = pd.read_html(str(table))[0]\n"
     ]
    },
    {
     "name": "stdout",
     "output_type": "stream",
     "text": [
      "Processing  Kawhi Leonard\n"
     ]
    },
    {
     "name": "stderr",
     "output_type": "stream",
     "text": [
      "/var/folders/7z/7q00pypj1_sf2clps66cxc9r0000gn/T/ipykernel_2964/1753532913.py:33: FutureWarning: Passing literal html to 'read_html' is deprecated and will be removed in a future version. To read from a literal string, wrap it in a 'StringIO' object.\n",
      "  df = pd.read_html(str(table))[0]\n"
     ]
    },
    {
     "name": "stdout",
     "output_type": "stream",
     "text": [
      "Processing  Keegan Murray\n"
     ]
    },
    {
     "name": "stderr",
     "output_type": "stream",
     "text": [
      "/var/folders/7z/7q00pypj1_sf2clps66cxc9r0000gn/T/ipykernel_2964/1753532913.py:33: FutureWarning: Passing literal html to 'read_html' is deprecated and will be removed in a future version. To read from a literal string, wrap it in a 'StringIO' object.\n",
      "  df = pd.read_html(str(table))[0]\n"
     ]
    },
    {
     "name": "stdout",
     "output_type": "stream",
     "text": [
      "Processing  Keita Bates-Diop\n"
     ]
    },
    {
     "name": "stderr",
     "output_type": "stream",
     "text": [
      "/var/folders/7z/7q00pypj1_sf2clps66cxc9r0000gn/T/ipykernel_2964/1753532913.py:33: FutureWarning: Passing literal html to 'read_html' is deprecated and will be removed in a future version. To read from a literal string, wrap it in a 'StringIO' object.\n",
      "  df = pd.read_html(str(table))[0]\n"
     ]
    },
    {
     "name": "stdout",
     "output_type": "stream",
     "text": [
      "Processing  Kelan Martin\n",
      "Last 5 games div not found.\n",
      "Processing  Keldon Johnson\n"
     ]
    },
    {
     "name": "stderr",
     "output_type": "stream",
     "text": [
      "/var/folders/7z/7q00pypj1_sf2clps66cxc9r0000gn/T/ipykernel_2964/1753532913.py:33: FutureWarning: Passing literal html to 'read_html' is deprecated and will be removed in a future version. To read from a literal string, wrap it in a 'StringIO' object.\n",
      "  df = pd.read_html(str(table))[0]\n"
     ]
    },
    {
     "name": "stdout",
     "output_type": "stream",
     "text": [
      "Processing  Keljin Blevins\n",
      "Last 5 games div not found.\n",
      "Processing  Kelly Olynyk\n"
     ]
    },
    {
     "name": "stderr",
     "output_type": "stream",
     "text": [
      "/var/folders/7z/7q00pypj1_sf2clps66cxc9r0000gn/T/ipykernel_2964/1753532913.py:33: FutureWarning: Passing literal html to 'read_html' is deprecated and will be removed in a future version. To read from a literal string, wrap it in a 'StringIO' object.\n",
      "  df = pd.read_html(str(table))[0]\n"
     ]
    },
    {
     "name": "stdout",
     "output_type": "stream",
     "text": [
      "Processing  Kelly Oubre Jr.\n"
     ]
    },
    {
     "name": "stderr",
     "output_type": "stream",
     "text": [
      "/var/folders/7z/7q00pypj1_sf2clps66cxc9r0000gn/T/ipykernel_2964/1753532913.py:33: FutureWarning: Passing literal html to 'read_html' is deprecated and will be removed in a future version. To read from a literal string, wrap it in a 'StringIO' object.\n",
      "  df = pd.read_html(str(table))[0]\n"
     ]
    },
    {
     "name": "stdout",
     "output_type": "stream",
     "text": [
      "Processing  Kemba Walker\n",
      "Last 5 games div not found.\n",
      "Processing  Kendall Brown\n"
     ]
    },
    {
     "name": "stderr",
     "output_type": "stream",
     "text": [
      "/var/folders/7z/7q00pypj1_sf2clps66cxc9r0000gn/T/ipykernel_2964/1753532913.py:33: FutureWarning: Passing literal html to 'read_html' is deprecated and will be removed in a future version. To read from a literal string, wrap it in a 'StringIO' object.\n",
      "  df = pd.read_html(str(table))[0]\n"
     ]
    },
    {
     "name": "stdout",
     "output_type": "stream",
     "text": [
      "Processing  Kendrick Nunn\n",
      "Last 5 games div not found.\n",
      "Processing  Kenny Wooten\n",
      "Last 5 games div not found.\n",
      "Processing  Kenrich Williams\n"
     ]
    },
    {
     "name": "stderr",
     "output_type": "stream",
     "text": [
      "/var/folders/7z/7q00pypj1_sf2clps66cxc9r0000gn/T/ipykernel_2964/1753532913.py:33: FutureWarning: Passing literal html to 'read_html' is deprecated and will be removed in a future version. To read from a literal string, wrap it in a 'StringIO' object.\n",
      "  df = pd.read_html(str(table))[0]\n"
     ]
    },
    {
     "name": "stdout",
     "output_type": "stream",
     "text": [
      "Processing  Kent Bazemore\n",
      "Last 5 games div not found.\n",
      "Processing  Kentavious Caldwell-Pope\n"
     ]
    },
    {
     "name": "stderr",
     "output_type": "stream",
     "text": [
      "/var/folders/7z/7q00pypj1_sf2clps66cxc9r0000gn/T/ipykernel_2964/1753532913.py:33: FutureWarning: Passing literal html to 'read_html' is deprecated and will be removed in a future version. To read from a literal string, wrap it in a 'StringIO' object.\n",
      "  df = pd.read_html(str(table))[0]\n"
     ]
    },
    {
     "name": "stdout",
     "output_type": "stream",
     "text": [
      "Processing  Kenyon Martin Jr. / K.J. Martin\n",
      "Last 5 games div not found.\n",
      "Processing  Keon Johnson\n"
     ]
    },
    {
     "name": "stderr",
     "output_type": "stream",
     "text": [
      "/var/folders/7z/7q00pypj1_sf2clps66cxc9r0000gn/T/ipykernel_2964/1753532913.py:33: FutureWarning: Passing literal html to 'read_html' is deprecated and will be removed in a future version. To read from a literal string, wrap it in a 'StringIO' object.\n",
      "  df = pd.read_html(str(table))[0]\n"
     ]
    },
    {
     "name": "stdout",
     "output_type": "stream",
     "text": [
      "Processing  Kessler Edwards\n"
     ]
    },
    {
     "name": "stderr",
     "output_type": "stream",
     "text": [
      "/var/folders/7z/7q00pypj1_sf2clps66cxc9r0000gn/T/ipykernel_2964/1753532913.py:33: FutureWarning: Passing literal html to 'read_html' is deprecated and will be removed in a future version. To read from a literal string, wrap it in a 'StringIO' object.\n",
      "  df = pd.read_html(str(table))[0]\n"
     ]
    },
    {
     "name": "stdout",
     "output_type": "stream",
     "text": [
      "Processing  Kevin Durant\n"
     ]
    },
    {
     "name": "stderr",
     "output_type": "stream",
     "text": [
      "/var/folders/7z/7q00pypj1_sf2clps66cxc9r0000gn/T/ipykernel_2964/1753532913.py:33: FutureWarning: Passing literal html to 'read_html' is deprecated and will be removed in a future version. To read from a literal string, wrap it in a 'StringIO' object.\n",
      "  df = pd.read_html(str(table))[0]\n"
     ]
    },
    {
     "name": "stdout",
     "output_type": "stream",
     "text": [
      "Processing  Kevin Huerter\n"
     ]
    },
    {
     "name": "stderr",
     "output_type": "stream",
     "text": [
      "/var/folders/7z/7q00pypj1_sf2clps66cxc9r0000gn/T/ipykernel_2964/1753532913.py:33: FutureWarning: Passing literal html to 'read_html' is deprecated and will be removed in a future version. To read from a literal string, wrap it in a 'StringIO' object.\n",
      "  df = pd.read_html(str(table))[0]\n"
     ]
    },
    {
     "name": "stdout",
     "output_type": "stream",
     "text": [
      "Processing  Kevin Knox II\n",
      "No search results found for the player.\n",
      "Processing  Kevin Love\n"
     ]
    },
    {
     "name": "stderr",
     "output_type": "stream",
     "text": [
      "/var/folders/7z/7q00pypj1_sf2clps66cxc9r0000gn/T/ipykernel_2964/1753532913.py:33: FutureWarning: Passing literal html to 'read_html' is deprecated and will be removed in a future version. To read from a literal string, wrap it in a 'StringIO' object.\n",
      "  df = pd.read_html(str(table))[0]\n"
     ]
    },
    {
     "name": "stdout",
     "output_type": "stream",
     "text": [
      "Processing  Kevin Pangos\n",
      "Last 5 games div not found.\n",
      "Processing  Kevin Porter Jr.\n",
      "Last 5 games div not found.\n",
      "Processing  Kevon Looney\n"
     ]
    },
    {
     "name": "stderr",
     "output_type": "stream",
     "text": [
      "/var/folders/7z/7q00pypj1_sf2clps66cxc9r0000gn/T/ipykernel_2964/1753532913.py:33: FutureWarning: Passing literal html to 'read_html' is deprecated and will be removed in a future version. To read from a literal string, wrap it in a 'StringIO' object.\n",
      "  df = pd.read_html(str(table))[0]\n"
     ]
    },
    {
     "name": "stdout",
     "output_type": "stream",
     "text": [
      "Processing  Khem Birch\n",
      "Last 5 games div not found.\n",
      "Processing  Khris Middleton\n"
     ]
    },
    {
     "name": "stderr",
     "output_type": "stream",
     "text": [
      "/var/folders/7z/7q00pypj1_sf2clps66cxc9r0000gn/T/ipykernel_2964/1753532913.py:33: FutureWarning: Passing literal html to 'read_html' is deprecated and will be removed in a future version. To read from a literal string, wrap it in a 'StringIO' object.\n",
      "  df = pd.read_html(str(table))[0]\n"
     ]
    },
    {
     "name": "stdout",
     "output_type": "stream",
     "text": [
      "Processing  Khyri Thomas\n",
      "Last 5 games div not found.\n",
      "Processing  Killian Hayes\n"
     ]
    },
    {
     "name": "stderr",
     "output_type": "stream",
     "text": [
      "/var/folders/7z/7q00pypj1_sf2clps66cxc9r0000gn/T/ipykernel_2964/1753532913.py:33: FutureWarning: Passing literal html to 'read_html' is deprecated and will be removed in a future version. To read from a literal string, wrap it in a 'StringIO' object.\n",
      "  df = pd.read_html(str(table))[0]\n"
     ]
    },
    {
     "name": "stdout",
     "output_type": "stream",
     "text": [
      "Processing  Killian Tillie\n",
      "Last 5 games div not found.\n",
      "Processing  Kira Lewis Jr.\n"
     ]
    },
    {
     "name": "stderr",
     "output_type": "stream",
     "text": [
      "/var/folders/7z/7q00pypj1_sf2clps66cxc9r0000gn/T/ipykernel_2964/1753532913.py:33: FutureWarning: Passing literal html to 'read_html' is deprecated and will be removed in a future version. To read from a literal string, wrap it in a 'StringIO' object.\n",
      "  df = pd.read_html(str(table))[0]\n"
     ]
    },
    {
     "name": "stdout",
     "output_type": "stream",
     "text": [
      "Processing  Klay Thompson\n"
     ]
    },
    {
     "name": "stderr",
     "output_type": "stream",
     "text": [
      "/var/folders/7z/7q00pypj1_sf2clps66cxc9r0000gn/T/ipykernel_2964/1753532913.py:33: FutureWarning: Passing literal html to 'read_html' is deprecated and will be removed in a future version. To read from a literal string, wrap it in a 'StringIO' object.\n",
      "  df = pd.read_html(str(table))[0]\n"
     ]
    },
    {
     "name": "stdout",
     "output_type": "stream",
     "text": [
      "Processing  Kobi Simmons\n",
      "Last 5 games div not found.\n",
      "Processing  Kostas Antetokounmpo\n",
      "Last 5 games div not found.\n",
      "Processing  Kris Dunn\n"
     ]
    },
    {
     "name": "stderr",
     "output_type": "stream",
     "text": [
      "/var/folders/7z/7q00pypj1_sf2clps66cxc9r0000gn/T/ipykernel_2964/1753532913.py:33: FutureWarning: Passing literal html to 'read_html' is deprecated and will be removed in a future version. To read from a literal string, wrap it in a 'StringIO' object.\n",
      "  df = pd.read_html(str(table))[0]\n"
     ]
    },
    {
     "name": "stdout",
     "output_type": "stream",
     "text": [
      "Processing  Kristaps Porzingis\n"
     ]
    },
    {
     "name": "stderr",
     "output_type": "stream",
     "text": [
      "/var/folders/7z/7q00pypj1_sf2clps66cxc9r0000gn/T/ipykernel_2964/1753532913.py:33: FutureWarning: Passing literal html to 'read_html' is deprecated and will be removed in a future version. To read from a literal string, wrap it in a 'StringIO' object.\n",
      "  df = pd.read_html(str(table))[0]\n"
     ]
    },
    {
     "name": "stdout",
     "output_type": "stream",
     "text": [
      "Processing  Ky Bowman\n",
      "Last 5 games div not found.\n",
      "Processing  Kyle Alexander\n"
     ]
    },
    {
     "name": "stderr",
     "output_type": "stream",
     "text": [
      "/var/folders/7z/7q00pypj1_sf2clps66cxc9r0000gn/T/ipykernel_2964/1753532913.py:33: FutureWarning: Passing literal html to 'read_html' is deprecated and will be removed in a future version. To read from a literal string, wrap it in a 'StringIO' object.\n",
      "  df = pd.read_html(str(table))[0]\n"
     ]
    },
    {
     "name": "stdout",
     "output_type": "stream",
     "text": [
      "Processing  Kyle Anderson\n"
     ]
    },
    {
     "name": "stderr",
     "output_type": "stream",
     "text": [
      "/var/folders/7z/7q00pypj1_sf2clps66cxc9r0000gn/T/ipykernel_2964/1753532913.py:33: FutureWarning: Passing literal html to 'read_html' is deprecated and will be removed in a future version. To read from a literal string, wrap it in a 'StringIO' object.\n",
      "  df = pd.read_html(str(table))[0]\n"
     ]
    },
    {
     "name": "stdout",
     "output_type": "stream",
     "text": [
      "Processing  Kyle Korver\n",
      "Last 5 games div not found.\n",
      "Processing  Kyle Kuzma\n"
     ]
    },
    {
     "name": "stderr",
     "output_type": "stream",
     "text": [
      "/var/folders/7z/7q00pypj1_sf2clps66cxc9r0000gn/T/ipykernel_2964/1753532913.py:33: FutureWarning: Passing literal html to 'read_html' is deprecated and will be removed in a future version. To read from a literal string, wrap it in a 'StringIO' object.\n",
      "  df = pd.read_html(str(table))[0]\n"
     ]
    },
    {
     "name": "stdout",
     "output_type": "stream",
     "text": [
      "Processing  Kyle Lowry\n"
     ]
    },
    {
     "name": "stderr",
     "output_type": "stream",
     "text": [
      "/var/folders/7z/7q00pypj1_sf2clps66cxc9r0000gn/T/ipykernel_2964/1753532913.py:33: FutureWarning: Passing literal html to 'read_html' is deprecated and will be removed in a future version. To read from a literal string, wrap it in a 'StringIO' object.\n",
      "  df = pd.read_html(str(table))[0]\n"
     ]
    },
    {
     "name": "stdout",
     "output_type": "stream",
     "text": [
      "Processing  Kyle O'Quinn\n",
      "Last 5 games div not found.\n",
      "Processing  Kyrie Irving\n"
     ]
    },
    {
     "name": "stderr",
     "output_type": "stream",
     "text": [
      "/var/folders/7z/7q00pypj1_sf2clps66cxc9r0000gn/T/ipykernel_2964/1753532913.py:33: FutureWarning: Passing literal html to 'read_html' is deprecated and will be removed in a future version. To read from a literal string, wrap it in a 'StringIO' object.\n",
      "  df = pd.read_html(str(table))[0]\n"
     ]
    },
    {
     "name": "stdout",
     "output_type": "stream",
     "text": [
      "Processing  LaMarcus Aldridge\n",
      "Last 5 games div not found.\n",
      "Processing  LaMelo Ball\n"
     ]
    },
    {
     "name": "stderr",
     "output_type": "stream",
     "text": [
      "/var/folders/7z/7q00pypj1_sf2clps66cxc9r0000gn/T/ipykernel_2964/1753532913.py:33: FutureWarning: Passing literal html to 'read_html' is deprecated and will be removed in a future version. To read from a literal string, wrap it in a 'StringIO' object.\n",
      "  df = pd.read_html(str(table))[0]\n"
     ]
    },
    {
     "name": "stdout",
     "output_type": "stream",
     "text": [
      "Processing  Lamar Stevens\n"
     ]
    },
    {
     "name": "stderr",
     "output_type": "stream",
     "text": [
      "/var/folders/7z/7q00pypj1_sf2clps66cxc9r0000gn/T/ipykernel_2964/1753532913.py:33: FutureWarning: Passing literal html to 'read_html' is deprecated and will be removed in a future version. To read from a literal string, wrap it in a 'StringIO' object.\n",
      "  df = pd.read_html(str(table))[0]\n"
     ]
    },
    {
     "name": "stdout",
     "output_type": "stream",
     "text": [
      "Processing  Lance Stephenson\n",
      "Last 5 games div not found.\n",
      "Processing  Landry Shamet\n"
     ]
    },
    {
     "name": "stderr",
     "output_type": "stream",
     "text": [
      "/var/folders/7z/7q00pypj1_sf2clps66cxc9r0000gn/T/ipykernel_2964/1753532913.py:33: FutureWarning: Passing literal html to 'read_html' is deprecated and will be removed in a future version. To read from a literal string, wrap it in a 'StringIO' object.\n",
      "  df = pd.read_html(str(table))[0]\n"
     ]
    },
    {
     "name": "stdout",
     "output_type": "stream",
     "text": [
      "Processing  Langston Galloway\n",
      "Last 5 games div not found.\n",
      "Processing  Larry Nance Jr.\n"
     ]
    },
    {
     "name": "stderr",
     "output_type": "stream",
     "text": [
      "/var/folders/7z/7q00pypj1_sf2clps66cxc9r0000gn/T/ipykernel_2964/1753532913.py:33: FutureWarning: Passing literal html to 'read_html' is deprecated and will be removed in a future version. To read from a literal string, wrap it in a 'StringIO' object.\n",
      "  df = pd.read_html(str(table))[0]\n"
     ]
    },
    {
     "name": "stdout",
     "output_type": "stream",
     "text": [
      "Processing  Lauri Markkanen\n"
     ]
    },
    {
     "name": "stderr",
     "output_type": "stream",
     "text": [
      "/var/folders/7z/7q00pypj1_sf2clps66cxc9r0000gn/T/ipykernel_2964/1753532913.py:33: FutureWarning: Passing literal html to 'read_html' is deprecated and will be removed in a future version. To read from a literal string, wrap it in a 'StringIO' object.\n",
      "  df = pd.read_html(str(table))[0]\n"
     ]
    },
    {
     "name": "stdout",
     "output_type": "stream",
     "text": [
      "Processing  LeBron James\n"
     ]
    },
    {
     "name": "stderr",
     "output_type": "stream",
     "text": [
      "/var/folders/7z/7q00pypj1_sf2clps66cxc9r0000gn/T/ipykernel_2964/1753532913.py:33: FutureWarning: Passing literal html to 'read_html' is deprecated and will be removed in a future version. To read from a literal string, wrap it in a 'StringIO' object.\n",
      "  df = pd.read_html(str(table))[0]\n"
     ]
    },
    {
     "name": "stdout",
     "output_type": "stream",
     "text": [
      "Processing  Leandro Bolmaro\n",
      "Last 5 games div not found.\n",
      "Processing  Lindell Wigginton\n",
      "Last 5 games div not found.\n",
      "Processing  Lonnie Walker IV\n"
     ]
    },
    {
     "name": "stderr",
     "output_type": "stream",
     "text": [
      "/var/folders/7z/7q00pypj1_sf2clps66cxc9r0000gn/T/ipykernel_2964/1753532913.py:33: FutureWarning: Passing literal html to 'read_html' is deprecated and will be removed in a future version. To read from a literal string, wrap it in a 'StringIO' object.\n",
      "  df = pd.read_html(str(table))[0]\n"
     ]
    },
    {
     "name": "stdout",
     "output_type": "stream",
     "text": [
      "Processing  Lonzo Ball\n",
      "Last 5 games div not found.\n",
      "Processing  Louis King\n",
      "Last 5 games div not found.\n",
      "Processing  Louis Williams / Lou Williams\n",
      "No search results found for the player.\n",
      "Processing  Luc Richard Mbah a Moute / Luc Mbah a Moute\n",
      "Last 5 games div not found.\n",
      "Processing  Luca Vildoza\n",
      "Last 5 games div not found.\n",
      "Processing  Luguentz Dort\n"
     ]
    },
    {
     "name": "stderr",
     "output_type": "stream",
     "text": [
      "/var/folders/7z/7q00pypj1_sf2clps66cxc9r0000gn/T/ipykernel_2964/1753532913.py:33: FutureWarning: Passing literal html to 'read_html' is deprecated and will be removed in a future version. To read from a literal string, wrap it in a 'StringIO' object.\n",
      "  df = pd.read_html(str(table))[0]\n"
     ]
    },
    {
     "name": "stdout",
     "output_type": "stream",
     "text": [
      "Processing  Luka Doncic\n"
     ]
    },
    {
     "name": "stderr",
     "output_type": "stream",
     "text": [
      "/var/folders/7z/7q00pypj1_sf2clps66cxc9r0000gn/T/ipykernel_2964/1753532913.py:33: FutureWarning: Passing literal html to 'read_html' is deprecated and will be removed in a future version. To read from a literal string, wrap it in a 'StringIO' object.\n",
      "  df = pd.read_html(str(table))[0]\n"
     ]
    },
    {
     "name": "stdout",
     "output_type": "stream",
     "text": [
      "Processing  Luka Garza\n"
     ]
    },
    {
     "name": "stderr",
     "output_type": "stream",
     "text": [
      "/var/folders/7z/7q00pypj1_sf2clps66cxc9r0000gn/T/ipykernel_2964/1753532913.py:33: FutureWarning: Passing literal html to 'read_html' is deprecated and will be removed in a future version. To read from a literal string, wrap it in a 'StringIO' object.\n",
      "  df = pd.read_html(str(table))[0]\n"
     ]
    },
    {
     "name": "stdout",
     "output_type": "stream",
     "text": [
      "Processing  Luka Samanic\n"
     ]
    },
    {
     "name": "stderr",
     "output_type": "stream",
     "text": [
      "/var/folders/7z/7q00pypj1_sf2clps66cxc9r0000gn/T/ipykernel_2964/1753532913.py:33: FutureWarning: Passing literal html to 'read_html' is deprecated and will be removed in a future version. To read from a literal string, wrap it in a 'StringIO' object.\n",
      "  df = pd.read_html(str(table))[0]\n"
     ]
    },
    {
     "name": "stdout",
     "output_type": "stream",
     "text": [
      "Processing  Luke Kennard\n"
     ]
    },
    {
     "name": "stderr",
     "output_type": "stream",
     "text": [
      "/var/folders/7z/7q00pypj1_sf2clps66cxc9r0000gn/T/ipykernel_2964/1753532913.py:33: FutureWarning: Passing literal html to 'read_html' is deprecated and will be removed in a future version. To read from a literal string, wrap it in a 'StringIO' object.\n",
      "  df = pd.read_html(str(table))[0]\n"
     ]
    },
    {
     "name": "stdout",
     "output_type": "stream",
     "text": [
      "Processing  Luke Kornet\n"
     ]
    },
    {
     "name": "stderr",
     "output_type": "stream",
     "text": [
      "/var/folders/7z/7q00pypj1_sf2clps66cxc9r0000gn/T/ipykernel_2964/1753532913.py:33: FutureWarning: Passing literal html to 'read_html' is deprecated and will be removed in a future version. To read from a literal string, wrap it in a 'StringIO' object.\n",
      "  df = pd.read_html(str(table))[0]\n"
     ]
    },
    {
     "name": "stdout",
     "output_type": "stream",
     "text": [
      "Processing  Malachi Flynn\n"
     ]
    },
    {
     "name": "stderr",
     "output_type": "stream",
     "text": [
      "/var/folders/7z/7q00pypj1_sf2clps66cxc9r0000gn/T/ipykernel_2964/1753532913.py:33: FutureWarning: Passing literal html to 'read_html' is deprecated and will be removed in a future version. To read from a literal string, wrap it in a 'StringIO' object.\n",
      "  df = pd.read_html(str(table))[0]\n"
     ]
    },
    {
     "name": "stdout",
     "output_type": "stream",
     "text": [
      "Processing  Malaki Branham\n"
     ]
    },
    {
     "name": "stderr",
     "output_type": "stream",
     "text": [
      "/var/folders/7z/7q00pypj1_sf2clps66cxc9r0000gn/T/ipykernel_2964/1753532913.py:33: FutureWarning: Passing literal html to 'read_html' is deprecated and will be removed in a future version. To read from a literal string, wrap it in a 'StringIO' object.\n",
      "  df = pd.read_html(str(table))[0]\n"
     ]
    },
    {
     "name": "stdout",
     "output_type": "stream",
     "text": [
      "Processing  Malcolm Brogdon\n"
     ]
    },
    {
     "name": "stderr",
     "output_type": "stream",
     "text": [
      "/var/folders/7z/7q00pypj1_sf2clps66cxc9r0000gn/T/ipykernel_2964/1753532913.py:33: FutureWarning: Passing literal html to 'read_html' is deprecated and will be removed in a future version. To read from a literal string, wrap it in a 'StringIO' object.\n",
      "  df = pd.read_html(str(table))[0]\n"
     ]
    },
    {
     "name": "stdout",
     "output_type": "stream",
     "text": [
      "Processing  Malcolm Hill\n",
      "Last 5 games div not found.\n",
      "Processing  Malcolm Miller\n",
      "Last 5 games div not found.\n",
      "Processing  Malik Beasley\n"
     ]
    },
    {
     "name": "stderr",
     "output_type": "stream",
     "text": [
      "/var/folders/7z/7q00pypj1_sf2clps66cxc9r0000gn/T/ipykernel_2964/1753532913.py:33: FutureWarning: Passing literal html to 'read_html' is deprecated and will be removed in a future version. To read from a literal string, wrap it in a 'StringIO' object.\n",
      "  df = pd.read_html(str(table))[0]\n"
     ]
    },
    {
     "name": "stdout",
     "output_type": "stream",
     "text": [
      "Processing  Malik Ellison\n",
      "Last 5 games div not found.\n",
      "Processing  Malik Fitts\n",
      "Last 5 games div not found.\n",
      "Processing  Malik Monk\n"
     ]
    },
    {
     "name": "stderr",
     "output_type": "stream",
     "text": [
      "/var/folders/7z/7q00pypj1_sf2clps66cxc9r0000gn/T/ipykernel_2964/1753532913.py:33: FutureWarning: Passing literal html to 'read_html' is deprecated and will be removed in a future version. To read from a literal string, wrap it in a 'StringIO' object.\n",
      "  df = pd.read_html(str(table))[0]\n"
     ]
    },
    {
     "name": "stdout",
     "output_type": "stream",
     "text": [
      "Processing  Mamadi Diakite\n"
     ]
    },
    {
     "name": "stderr",
     "output_type": "stream",
     "text": [
      "/var/folders/7z/7q00pypj1_sf2clps66cxc9r0000gn/T/ipykernel_2964/1753532913.py:33: FutureWarning: Passing literal html to 'read_html' is deprecated and will be removed in a future version. To read from a literal string, wrap it in a 'StringIO' object.\n",
      "  df = pd.read_html(str(table))[0]\n"
     ]
    },
    {
     "name": "stdout",
     "output_type": "stream",
     "text": [
      "Processing  MarJon Beauchamp\n"
     ]
    },
    {
     "name": "stderr",
     "output_type": "stream",
     "text": [
      "/var/folders/7z/7q00pypj1_sf2clps66cxc9r0000gn/T/ipykernel_2964/1753532913.py:33: FutureWarning: Passing literal html to 'read_html' is deprecated and will be removed in a future version. To read from a literal string, wrap it in a 'StringIO' object.\n",
      "  df = pd.read_html(str(table))[0]\n"
     ]
    },
    {
     "name": "stdout",
     "output_type": "stream",
     "text": [
      "Processing  Marc Gasol\n",
      "Last 5 games div not found.\n",
      "Processing  Marco Belinelli\n",
      "Last 5 games div not found.\n",
      "Processing  Marcos Louzada Silva / Didi Louzada Silva / Didi Louzada\n",
      "No search results found for the player.\n",
      "Processing  Marcus Garrett\n",
      "Last 5 games div not found.\n",
      "Processing  Marcus Morris\n"
     ]
    },
    {
     "name": "stderr",
     "output_type": "stream",
     "text": [
      "/var/folders/7z/7q00pypj1_sf2clps66cxc9r0000gn/T/ipykernel_2964/1753532913.py:33: FutureWarning: Passing literal html to 'read_html' is deprecated and will be removed in a future version. To read from a literal string, wrap it in a 'StringIO' object.\n",
      "  df = pd.read_html(str(table))[0]\n"
     ]
    },
    {
     "name": "stdout",
     "output_type": "stream",
     "text": [
      "Processing  Marcus Smart\n"
     ]
    },
    {
     "name": "stderr",
     "output_type": "stream",
     "text": [
      "/var/folders/7z/7q00pypj1_sf2clps66cxc9r0000gn/T/ipykernel_2964/1753532913.py:33: FutureWarning: Passing literal html to 'read_html' is deprecated and will be removed in a future version. To read from a literal string, wrap it in a 'StringIO' object.\n",
      "  df = pd.read_html(str(table))[0]\n"
     ]
    },
    {
     "name": "stdout",
     "output_type": "stream",
     "text": [
      "Processing  Mario Hezonja\n",
      "Last 5 games div not found.\n",
      "Processing  Mark Williams\n"
     ]
    },
    {
     "name": "stderr",
     "output_type": "stream",
     "text": [
      "/var/folders/7z/7q00pypj1_sf2clps66cxc9r0000gn/T/ipykernel_2964/1753532913.py:33: FutureWarning: Passing literal html to 'read_html' is deprecated and will be removed in a future version. To read from a literal string, wrap it in a 'StringIO' object.\n",
      "  df = pd.read_html(str(table))[0]\n"
     ]
    },
    {
     "name": "stdout",
     "output_type": "stream",
     "text": [
      "Processing  Markelle Fultz\n"
     ]
    },
    {
     "name": "stderr",
     "output_type": "stream",
     "text": [
      "/var/folders/7z/7q00pypj1_sf2clps66cxc9r0000gn/T/ipykernel_2964/1753532913.py:33: FutureWarning: Passing literal html to 'read_html' is deprecated and will be removed in a future version. To read from a literal string, wrap it in a 'StringIO' object.\n",
      "  df = pd.read_html(str(table))[0]\n"
     ]
    },
    {
     "name": "stdout",
     "output_type": "stream",
     "text": [
      "Processing  Markieff Morris\n"
     ]
    },
    {
     "name": "stderr",
     "output_type": "stream",
     "text": [
      "/var/folders/7z/7q00pypj1_sf2clps66cxc9r0000gn/T/ipykernel_2964/1753532913.py:33: FutureWarning: Passing literal html to 'read_html' is deprecated and will be removed in a future version. To read from a literal string, wrap it in a 'StringIO' object.\n",
      "  df = pd.read_html(str(table))[0]\n"
     ]
    },
    {
     "name": "stdout",
     "output_type": "stream",
     "text": [
      "Processing  Marko Guduric\n",
      "Last 5 games div not found.\n",
      "Processing  Marko Simonovic\n",
      "Last 5 games div not found.\n",
      "Processing  Markus Howard\n",
      "Last 5 games div not found.\n",
      "Processing  Marquese Chriss\n",
      "Last 5 games div not found.\n",
      "Processing  Marvin Bagley III\n"
     ]
    },
    {
     "name": "stderr",
     "output_type": "stream",
     "text": [
      "/var/folders/7z/7q00pypj1_sf2clps66cxc9r0000gn/T/ipykernel_2964/1753532913.py:33: FutureWarning: Passing literal html to 'read_html' is deprecated and will be removed in a future version. To read from a literal string, wrap it in a 'StringIO' object.\n",
      "  df = pd.read_html(str(table))[0]\n"
     ]
    },
    {
     "name": "stdout",
     "output_type": "stream",
     "text": [
      "Processing  Marvin Williams\n",
      "Last 5 games div not found.\n",
      "Processing  Mason Jones\n"
     ]
    },
    {
     "name": "stderr",
     "output_type": "stream",
     "text": [
      "/var/folders/7z/7q00pypj1_sf2clps66cxc9r0000gn/T/ipykernel_2964/1753532913.py:33: FutureWarning: Passing literal html to 'read_html' is deprecated and will be removed in a future version. To read from a literal string, wrap it in a 'StringIO' object.\n",
      "  df = pd.read_html(str(table))[0]\n"
     ]
    },
    {
     "name": "stdout",
     "output_type": "stream",
     "text": [
      "Processing  Mason Plumlee\n"
     ]
    },
    {
     "name": "stderr",
     "output_type": "stream",
     "text": [
      "/var/folders/7z/7q00pypj1_sf2clps66cxc9r0000gn/T/ipykernel_2964/1753532913.py:33: FutureWarning: Passing literal html to 'read_html' is deprecated and will be removed in a future version. To read from a literal string, wrap it in a 'StringIO' object.\n",
      "  df = pd.read_html(str(table))[0]\n"
     ]
    },
    {
     "name": "stdout",
     "output_type": "stream",
     "text": [
      "Processing  Matisse Thybulle\n"
     ]
    },
    {
     "name": "stderr",
     "output_type": "stream",
     "text": [
      "/var/folders/7z/7q00pypj1_sf2clps66cxc9r0000gn/T/ipykernel_2964/1753532913.py:33: FutureWarning: Passing literal html to 'read_html' is deprecated and will be removed in a future version. To read from a literal string, wrap it in a 'StringIO' object.\n",
      "  df = pd.read_html(str(table))[0]\n"
     ]
    },
    {
     "name": "stdout",
     "output_type": "stream",
     "text": [
      "Processing  Matt Mooney\n",
      "Last 5 games div not found.\n",
      "Processing  Matt Thomas\n",
      "Last 5 games div not found.\n",
      "Processing  Matthew Dellavedova\n",
      "Last 5 games div not found.\n",
      "Processing  Maurice Harkless / Moe Harkless\n",
      "No search results found for the player.\n",
      "Processing  Max Christie\n"
     ]
    },
    {
     "name": "stderr",
     "output_type": "stream",
     "text": [
      "/var/folders/7z/7q00pypj1_sf2clps66cxc9r0000gn/T/ipykernel_2964/1753532913.py:33: FutureWarning: Passing literal html to 'read_html' is deprecated and will be removed in a future version. To read from a literal string, wrap it in a 'StringIO' object.\n",
      "  df = pd.read_html(str(table))[0]\n"
     ]
    },
    {
     "name": "stdout",
     "output_type": "stream",
     "text": [
      "Processing  Max Strus\n"
     ]
    },
    {
     "name": "stderr",
     "output_type": "stream",
     "text": [
      "/var/folders/7z/7q00pypj1_sf2clps66cxc9r0000gn/T/ipykernel_2964/1753532913.py:33: FutureWarning: Passing literal html to 'read_html' is deprecated and will be removed in a future version. To read from a literal string, wrap it in a 'StringIO' object.\n",
      "  df = pd.read_html(str(table))[0]\n"
     ]
    },
    {
     "name": "stdout",
     "output_type": "stream",
     "text": [
      "Processing  Maximilian Kleber / Maxi Kleber\n",
      "No search results found for the player.\n",
      "Processing  McKinley Wright IV\n",
      "Last 5 games div not found.\n",
      "Processing  Melvin Frazier Jr.\n",
      "Last 5 games div not found.\n",
      "Processing  Meyers Leonard\n",
      "Last 5 games div not found.\n",
      "Processing  Mfiondu Kabengele\n",
      "Last 5 games div not found.\n",
      "Processing  Michael Carter-Williams\n",
      "Last 5 games div not found.\n",
      "Processing  Michael Frazier II\n",
      "No search results found for the player.\n",
      "Processing  Michael Kidd-Gilchrist\n",
      "Last 5 games div not found.\n",
      "Processing  Michael Porter Jr.\n"
     ]
    },
    {
     "name": "stderr",
     "output_type": "stream",
     "text": [
      "/var/folders/7z/7q00pypj1_sf2clps66cxc9r0000gn/T/ipykernel_2964/1753532913.py:33: FutureWarning: Passing literal html to 'read_html' is deprecated and will be removed in a future version. To read from a literal string, wrap it in a 'StringIO' object.\n",
      "  df = pd.read_html(str(table))[0]\n"
     ]
    },
    {
     "name": "stdout",
     "output_type": "stream",
     "text": [
      "Processing  Mike Conley Jr.\n",
      "No search results found for the player.\n",
      "Processing  Mike Muscala\n"
     ]
    },
    {
     "name": "stderr",
     "output_type": "stream",
     "text": [
      "/var/folders/7z/7q00pypj1_sf2clps66cxc9r0000gn/T/ipykernel_2964/1753532913.py:33: FutureWarning: Passing literal html to 'read_html' is deprecated and will be removed in a future version. To read from a literal string, wrap it in a 'StringIO' object.\n",
      "  df = pd.read_html(str(table))[0]\n"
     ]
    },
    {
     "name": "stdout",
     "output_type": "stream",
     "text": [
      "Processing  Miles Bridges\n"
     ]
    },
    {
     "name": "stderr",
     "output_type": "stream",
     "text": [
      "/var/folders/7z/7q00pypj1_sf2clps66cxc9r0000gn/T/ipykernel_2964/1753532913.py:33: FutureWarning: Passing literal html to 'read_html' is deprecated and will be removed in a future version. To read from a literal string, wrap it in a 'StringIO' object.\n",
      "  df = pd.read_html(str(table))[0]\n"
     ]
    },
    {
     "name": "stdout",
     "output_type": "stream",
     "text": [
      "Processing  Miles McBride\n"
     ]
    },
    {
     "name": "stderr",
     "output_type": "stream",
     "text": [
      "/var/folders/7z/7q00pypj1_sf2clps66cxc9r0000gn/T/ipykernel_2964/1753532913.py:33: FutureWarning: Passing literal html to 'read_html' is deprecated and will be removed in a future version. To read from a literal string, wrap it in a 'StringIO' object.\n",
      "  df = pd.read_html(str(table))[0]\n"
     ]
    },
    {
     "name": "stdout",
     "output_type": "stream",
     "text": [
      "Processing  Mitchell Robinson\n"
     ]
    },
    {
     "name": "stderr",
     "output_type": "stream",
     "text": [
      "/var/folders/7z/7q00pypj1_sf2clps66cxc9r0000gn/T/ipykernel_2964/1753532913.py:33: FutureWarning: Passing literal html to 'read_html' is deprecated and will be removed in a future version. To read from a literal string, wrap it in a 'StringIO' object.\n",
      "  df = pd.read_html(str(table))[0]\n"
     ]
    },
    {
     "name": "stdout",
     "output_type": "stream",
     "text": [
      "Processing  Miye Oni\n",
      "Last 5 games div not found.\n",
      "Processing  Mohamed Bamba / Mo Bamba\n",
      "No search results found for the player.\n",
      "Processing  Monte Morris\n"
     ]
    },
    {
     "name": "stderr",
     "output_type": "stream",
     "text": [
      "/var/folders/7z/7q00pypj1_sf2clps66cxc9r0000gn/T/ipykernel_2964/1753532913.py:33: FutureWarning: Passing literal html to 'read_html' is deprecated and will be removed in a future version. To read from a literal string, wrap it in a 'StringIO' object.\n",
      "  df = pd.read_html(str(table))[0]\n"
     ]
    },
    {
     "name": "stdout",
     "output_type": "stream",
     "text": [
      "Processing  Montrezl Harrell\n",
      "Last 5 games div not found.\n",
      "Processing  Moritz Wagner / Moe Wagner\n",
      "No search results found for the player.\n",
      "Processing  Moses Moody\n"
     ]
    },
    {
     "name": "stderr",
     "output_type": "stream",
     "text": [
      "/var/folders/7z/7q00pypj1_sf2clps66cxc9r0000gn/T/ipykernel_2964/1753532913.py:33: FutureWarning: Passing literal html to 'read_html' is deprecated and will be removed in a future version. To read from a literal string, wrap it in a 'StringIO' object.\n",
      "  df = pd.read_html(str(table))[0]\n"
     ]
    },
    {
     "name": "stdout",
     "output_type": "stream",
     "text": [
      "Processing  Moses Wright\n",
      "Last 5 games div not found.\n",
      "Processing  Moussa Diabate\n"
     ]
    },
    {
     "name": "stderr",
     "output_type": "stream",
     "text": [
      "/var/folders/7z/7q00pypj1_sf2clps66cxc9r0000gn/T/ipykernel_2964/1753532913.py:33: FutureWarning: Passing literal html to 'read_html' is deprecated and will be removed in a future version. To read from a literal string, wrap it in a 'StringIO' object.\n",
      "  df = pd.read_html(str(table))[0]\n"
     ]
    },
    {
     "name": "stdout",
     "output_type": "stream",
     "text": [
      "Processing  Mychal Mulder\n",
      "Last 5 games div not found.\n",
      "Processing  Myles Powell\n",
      "Last 5 games div not found.\n",
      "Processing  Myles Turner\n"
     ]
    },
    {
     "name": "stderr",
     "output_type": "stream",
     "text": [
      "/var/folders/7z/7q00pypj1_sf2clps66cxc9r0000gn/T/ipykernel_2964/1753532913.py:33: FutureWarning: Passing literal html to 'read_html' is deprecated and will be removed in a future version. To read from a literal string, wrap it in a 'StringIO' object.\n",
      "  df = pd.read_html(str(table))[0]\n"
     ]
    },
    {
     "name": "stdout",
     "output_type": "stream",
     "text": [
      "Processing  NBA health and safety protocols (DTD)\n",
      "No search results found for the player.\n",
      "Processing  Nah'Shon Hyland / Bones Hyland\n",
      "No search results found for the player.\n",
      "Processing  Naji Marshall\n"
     ]
    },
    {
     "name": "stderr",
     "output_type": "stream",
     "text": [
      "/var/folders/7z/7q00pypj1_sf2clps66cxc9r0000gn/T/ipykernel_2964/1753532913.py:33: FutureWarning: Passing literal html to 'read_html' is deprecated and will be removed in a future version. To read from a literal string, wrap it in a 'StringIO' object.\n",
      "  df = pd.read_html(str(table))[0]\n"
     ]
    },
    {
     "name": "stdout",
     "output_type": "stream",
     "text": [
      "Processing  Nassir Little\n"
     ]
    },
    {
     "name": "stderr",
     "output_type": "stream",
     "text": [
      "/var/folders/7z/7q00pypj1_sf2clps66cxc9r0000gn/T/ipykernel_2964/1753532913.py:33: FutureWarning: Passing literal html to 'read_html' is deprecated and will be removed in a future version. To read from a literal string, wrap it in a 'StringIO' object.\n",
      "  df = pd.read_html(str(table))[0]\n"
     ]
    },
    {
     "name": "stdout",
     "output_type": "stream",
     "text": [
      "Processing  Nate Darling\n",
      "Last 5 games div not found.\n",
      "Processing  Nate Hinton\n"
     ]
    },
    {
     "name": "stderr",
     "output_type": "stream",
     "text": [
      "/var/folders/7z/7q00pypj1_sf2clps66cxc9r0000gn/T/ipykernel_2964/1753532913.py:33: FutureWarning: Passing literal html to 'read_html' is deprecated and will be removed in a future version. To read from a literal string, wrap it in a 'StringIO' object.\n",
      "  df = pd.read_html(str(table))[0]\n"
     ]
    },
    {
     "name": "stdout",
     "output_type": "stream",
     "text": [
      "Processing  Nathan Knight\n",
      "Last 5 games div not found.\n",
      "Processing  Naz Reid\n"
     ]
    },
    {
     "name": "stderr",
     "output_type": "stream",
     "text": [
      "/var/folders/7z/7q00pypj1_sf2clps66cxc9r0000gn/T/ipykernel_2964/1753532913.py:33: FutureWarning: Passing literal html to 'read_html' is deprecated and will be removed in a future version. To read from a literal string, wrap it in a 'StringIO' object.\n",
      "  df = pd.read_html(str(table))[0]\n"
     ]
    },
    {
     "name": "stdout",
     "output_type": "stream",
     "text": [
      "Processing  Nazareth Mitrou-Long / Naz Mitrou-Long / Naz Long\n",
      "No search results found for the player.\n",
      "Processing  Neemias Queta\n"
     ]
    },
    {
     "name": "stderr",
     "output_type": "stream",
     "text": [
      "/var/folders/7z/7q00pypj1_sf2clps66cxc9r0000gn/T/ipykernel_2964/1753532913.py:33: FutureWarning: Passing literal html to 'read_html' is deprecated and will be removed in a future version. To read from a literal string, wrap it in a 'StringIO' object.\n",
      "  df = pd.read_html(str(table))[0]\n"
     ]
    },
    {
     "name": "stdout",
     "output_type": "stream",
     "text": [
      "Processing  Nemanja Bjelica\n",
      "Last 5 games div not found.\n",
      "Processing  Nerlens Noel\n",
      "Last 5 games div not found.\n",
      "Processing  Nick Nurse\n",
      "No search results found for the player.\n",
      "Processing  Nick Richards\n"
     ]
    },
    {
     "name": "stderr",
     "output_type": "stream",
     "text": [
      "/var/folders/7z/7q00pypj1_sf2clps66cxc9r0000gn/T/ipykernel_2964/1753532913.py:33: FutureWarning: Passing literal html to 'read_html' is deprecated and will be removed in a future version. To read from a literal string, wrap it in a 'StringIO' object.\n",
      "  df = pd.read_html(str(table))[0]\n"
     ]
    },
    {
     "name": "stdout",
     "output_type": "stream",
     "text": [
      "Processing  Nickeil Alexander-Walker\n"
     ]
    },
    {
     "name": "stderr",
     "output_type": "stream",
     "text": [
      "/var/folders/7z/7q00pypj1_sf2clps66cxc9r0000gn/T/ipykernel_2964/1753532913.py:33: FutureWarning: Passing literal html to 'read_html' is deprecated and will be removed in a future version. To read from a literal string, wrap it in a 'StringIO' object.\n",
      "  df = pd.read_html(str(table))[0]\n"
     ]
    },
    {
     "name": "stdout",
     "output_type": "stream",
     "text": [
      "Processing  Nicolas Batum\n"
     ]
    },
    {
     "name": "stderr",
     "output_type": "stream",
     "text": [
      "/var/folders/7z/7q00pypj1_sf2clps66cxc9r0000gn/T/ipykernel_2964/1753532913.py:33: FutureWarning: Passing literal html to 'read_html' is deprecated and will be removed in a future version. To read from a literal string, wrap it in a 'StringIO' object.\n",
      "  df = pd.read_html(str(table))[0]\n"
     ]
    },
    {
     "name": "stdout",
     "output_type": "stream",
     "text": [
      "Processing  Nicolas Claxton / Nic Claxton\n",
      "No search results found for the player.\n",
      "Processing  Nicolo Melli\n",
      "Last 5 games div not found.\n",
      "Processing  Nigel Williams-Goss\n",
      "Last 5 games div not found.\n",
      "Processing  Nik Stauskas\n",
      "Last 5 games div not found.\n",
      "Processing  Nikola Jokic\n"
     ]
    },
    {
     "name": "stderr",
     "output_type": "stream",
     "text": [
      "/var/folders/7z/7q00pypj1_sf2clps66cxc9r0000gn/T/ipykernel_2964/1753532913.py:33: FutureWarning: Passing literal html to 'read_html' is deprecated and will be removed in a future version. To read from a literal string, wrap it in a 'StringIO' object.\n",
      "  df = pd.read_html(str(table))[0]\n"
     ]
    },
    {
     "name": "stdout",
     "output_type": "stream",
     "text": [
      "Processing  Nikola Vucevic\n"
     ]
    },
    {
     "name": "stderr",
     "output_type": "stream",
     "text": [
      "/var/folders/7z/7q00pypj1_sf2clps66cxc9r0000gn/T/ipykernel_2964/1753532913.py:33: FutureWarning: Passing literal html to 'read_html' is deprecated and will be removed in a future version. To read from a literal string, wrap it in a 'StringIO' object.\n",
      "  df = pd.read_html(str(table))[0]\n"
     ]
    },
    {
     "name": "stdout",
     "output_type": "stream",
     "text": [
      "Processing  Noah Vonleh\n",
      "Last 5 games div not found.\n",
      "Processing  Norman Powell\n"
     ]
    },
    {
     "name": "stderr",
     "output_type": "stream",
     "text": [
      "/var/folders/7z/7q00pypj1_sf2clps66cxc9r0000gn/T/ipykernel_2964/1753532913.py:33: FutureWarning: Passing literal html to 'read_html' is deprecated and will be removed in a future version. To read from a literal string, wrap it in a 'StringIO' object.\n",
      "  df = pd.read_html(str(table))[0]\n"
     ]
    },
    {
     "name": "stdout",
     "output_type": "stream",
     "text": [
      "Processing  Norvel Pelle\n",
      "Last 5 games div not found.\n",
      "Processing  Obi Toppin\n"
     ]
    },
    {
     "name": "stderr",
     "output_type": "stream",
     "text": [
      "/var/folders/7z/7q00pypj1_sf2clps66cxc9r0000gn/T/ipykernel_2964/1753532913.py:33: FutureWarning: Passing literal html to 'read_html' is deprecated and will be removed in a future version. To read from a literal string, wrap it in a 'StringIO' object.\n",
      "  df = pd.read_html(str(table))[0]\n"
     ]
    },
    {
     "name": "stdout",
     "output_type": "stream",
     "text": [
      "Processing  Ogugua Anunoby / O.G. Anunoby\n",
      "No search results found for the player.\n",
      "Processing  Olivier Sarr\n"
     ]
    },
    {
     "name": "stderr",
     "output_type": "stream",
     "text": [
      "/var/folders/7z/7q00pypj1_sf2clps66cxc9r0000gn/T/ipykernel_2964/1753532913.py:33: FutureWarning: Passing literal html to 'read_html' is deprecated and will be removed in a future version. To read from a literal string, wrap it in a 'StringIO' object.\n",
      "  df = pd.read_html(str(table))[0]\n"
     ]
    },
    {
     "name": "stdout",
     "output_type": "stream",
     "text": [
      "Processing  Omari Spellman\n",
      "Last 5 games div not found.\n",
      "Processing  Omer Yurtseven\n"
     ]
    },
    {
     "name": "stderr",
     "output_type": "stream",
     "text": [
      "/var/folders/7z/7q00pypj1_sf2clps66cxc9r0000gn/T/ipykernel_2964/1753532913.py:33: FutureWarning: Passing literal html to 'read_html' is deprecated and will be removed in a future version. To read from a literal string, wrap it in a 'StringIO' object.\n",
      "  df = pd.read_html(str(table))[0]\n"
     ]
    },
    {
     "name": "stdout",
     "output_type": "stream",
     "text": [
      "Processing  Onyeka Okongwu\n"
     ]
    },
    {
     "name": "stderr",
     "output_type": "stream",
     "text": [
      "/var/folders/7z/7q00pypj1_sf2clps66cxc9r0000gn/T/ipykernel_2964/1753532913.py:33: FutureWarning: Passing literal html to 'read_html' is deprecated and will be removed in a future version. To read from a literal string, wrap it in a 'StringIO' object.\n",
      "  df = pd.read_html(str(table))[0]\n"
     ]
    },
    {
     "name": "stdout",
     "output_type": "stream",
     "text": [
      "Processing  Oshae Brissett\n"
     ]
    },
    {
     "name": "stderr",
     "output_type": "stream",
     "text": [
      "/var/folders/7z/7q00pypj1_sf2clps66cxc9r0000gn/T/ipykernel_2964/1753532913.py:33: FutureWarning: Passing literal html to 'read_html' is deprecated and will be removed in a future version. To read from a literal string, wrap it in a 'StringIO' object.\n",
      "  df = pd.read_html(str(table))[0]\n"
     ]
    },
    {
     "name": "stdout",
     "output_type": "stream",
     "text": [
      "Processing  Otto Porter Jr.\n"
     ]
    },
    {
     "name": "stderr",
     "output_type": "stream",
     "text": [
      "/var/folders/7z/7q00pypj1_sf2clps66cxc9r0000gn/T/ipykernel_2964/1753532913.py:33: FutureWarning: Passing literal html to 'read_html' is deprecated and will be removed in a future version. To read from a literal string, wrap it in a 'StringIO' object.\n",
      "  df = pd.read_html(str(table))[0]\n"
     ]
    },
    {
     "name": "stdout",
     "output_type": "stream",
     "text": [
      "Processing  Ousmane Dieng\n"
     ]
    },
    {
     "name": "stderr",
     "output_type": "stream",
     "text": [
      "/var/folders/7z/7q00pypj1_sf2clps66cxc9r0000gn/T/ipykernel_2964/1753532913.py:33: FutureWarning: Passing literal html to 'read_html' is deprecated and will be removed in a future version. To read from a literal string, wrap it in a 'StringIO' object.\n",
      "  df = pd.read_html(str(table))[0]\n"
     ]
    },
    {
     "name": "stdout",
     "output_type": "stream",
     "text": [
      "Processing  P.J. Dozier\n",
      "No search results found for the player.\n",
      "Processing  P.J. Tucker\n"
     ]
    },
    {
     "name": "stderr",
     "output_type": "stream",
     "text": [
      "/var/folders/7z/7q00pypj1_sf2clps66cxc9r0000gn/T/ipykernel_2964/1753532913.py:33: FutureWarning: Passing literal html to 'read_html' is deprecated and will be removed in a future version. To read from a literal string, wrap it in a 'StringIO' object.\n",
      "  df = pd.read_html(str(table))[0]\n"
     ]
    },
    {
     "name": "stdout",
     "output_type": "stream",
     "text": [
      "Processing  P.J. Washington\n"
     ]
    },
    {
     "name": "stderr",
     "output_type": "stream",
     "text": [
      "/var/folders/7z/7q00pypj1_sf2clps66cxc9r0000gn/T/ipykernel_2964/1753532913.py:33: FutureWarning: Passing literal html to 'read_html' is deprecated and will be removed in a future version. To read from a literal string, wrap it in a 'StringIO' object.\n",
      "  df = pd.read_html(str(table))[0]\n"
     ]
    },
    {
     "name": "stdout",
     "output_type": "stream",
     "text": [
      "Processing  Paolo Banchero\n"
     ]
    },
    {
     "name": "stderr",
     "output_type": "stream",
     "text": [
      "/var/folders/7z/7q00pypj1_sf2clps66cxc9r0000gn/T/ipykernel_2964/1753532913.py:33: FutureWarning: Passing literal html to 'read_html' is deprecated and will be removed in a future version. To read from a literal string, wrap it in a 'StringIO' object.\n",
      "  df = pd.read_html(str(table))[0]\n"
     ]
    },
    {
     "name": "stdout",
     "output_type": "stream",
     "text": [
      "Processing  Pascal Siakam\n"
     ]
    },
    {
     "name": "stderr",
     "output_type": "stream",
     "text": [
      "/var/folders/7z/7q00pypj1_sf2clps66cxc9r0000gn/T/ipykernel_2964/1753532913.py:33: FutureWarning: Passing literal html to 'read_html' is deprecated and will be removed in a future version. To read from a literal string, wrap it in a 'StringIO' object.\n",
      "  df = pd.read_html(str(table))[0]\n"
     ]
    },
    {
     "name": "stdout",
     "output_type": "stream",
     "text": [
      "Processing  Pat Connaughton\n"
     ]
    },
    {
     "name": "stderr",
     "output_type": "stream",
     "text": [
      "/var/folders/7z/7q00pypj1_sf2clps66cxc9r0000gn/T/ipykernel_2964/1753532913.py:33: FutureWarning: Passing literal html to 'read_html' is deprecated and will be removed in a future version. To read from a literal string, wrap it in a 'StringIO' object.\n",
      "  df = pd.read_html(str(table))[0]\n"
     ]
    },
    {
     "name": "stdout",
     "output_type": "stream",
     "text": [
      "Processing  Patrick Baldwin Jr.\n"
     ]
    },
    {
     "name": "stderr",
     "output_type": "stream",
     "text": [
      "/var/folders/7z/7q00pypj1_sf2clps66cxc9r0000gn/T/ipykernel_2964/1753532913.py:33: FutureWarning: Passing literal html to 'read_html' is deprecated and will be removed in a future version. To read from a literal string, wrap it in a 'StringIO' object.\n",
      "  df = pd.read_html(str(table))[0]\n"
     ]
    },
    {
     "name": "stdout",
     "output_type": "stream",
     "text": [
      "Processing  Patrick Beverley\n"
     ]
    },
    {
     "name": "stderr",
     "output_type": "stream",
     "text": [
      "/var/folders/7z/7q00pypj1_sf2clps66cxc9r0000gn/T/ipykernel_2964/1753532913.py:33: FutureWarning: Passing literal html to 'read_html' is deprecated and will be removed in a future version. To read from a literal string, wrap it in a 'StringIO' object.\n",
      "  df = pd.read_html(str(table))[0]\n"
     ]
    },
    {
     "name": "stdout",
     "output_type": "stream",
     "text": [
      "Processing  Patrick McCaw\n",
      "Last 5 games div not found.\n",
      "Processing  Patrick Mills / Patty Mills\n",
      "No search results found for the player.\n",
      "Processing  Patrick Patterson\n",
      "Last 5 games div not found.\n",
      "Processing  Patrick Williams\n"
     ]
    },
    {
     "name": "stderr",
     "output_type": "stream",
     "text": [
      "/var/folders/7z/7q00pypj1_sf2clps66cxc9r0000gn/T/ipykernel_2964/1753532913.py:33: FutureWarning: Passing literal html to 'read_html' is deprecated and will be removed in a future version. To read from a literal string, wrap it in a 'StringIO' object.\n",
      "  df = pd.read_html(str(table))[0]\n"
     ]
    },
    {
     "name": "stdout",
     "output_type": "stream",
     "text": [
      "Processing  Paul George\n"
     ]
    },
    {
     "name": "stderr",
     "output_type": "stream",
     "text": [
      "/var/folders/7z/7q00pypj1_sf2clps66cxc9r0000gn/T/ipykernel_2964/1753532913.py:33: FutureWarning: Passing literal html to 'read_html' is deprecated and will be removed in a future version. To read from a literal string, wrap it in a 'StringIO' object.\n",
      "  df = pd.read_html(str(table))[0]\n"
     ]
    },
    {
     "name": "stdout",
     "output_type": "stream",
     "text": [
      "Processing  Paul Millsap\n",
      "Last 5 games div not found.\n",
      "Processing  Paul Reed\n"
     ]
    },
    {
     "name": "stderr",
     "output_type": "stream",
     "text": [
      "/var/folders/7z/7q00pypj1_sf2clps66cxc9r0000gn/T/ipykernel_2964/1753532913.py:33: FutureWarning: Passing literal html to 'read_html' is deprecated and will be removed in a future version. To read from a literal string, wrap it in a 'StringIO' object.\n",
      "  df = pd.read_html(str(table))[0]\n"
     ]
    },
    {
     "name": "stdout",
     "output_type": "stream",
     "text": [
      "Processing  Paul Watson\n",
      "Last 5 games div not found.\n",
      "Processing  Payton Pritchard\n"
     ]
    },
    {
     "name": "stderr",
     "output_type": "stream",
     "text": [
      "/var/folders/7z/7q00pypj1_sf2clps66cxc9r0000gn/T/ipykernel_2964/1753532913.py:33: FutureWarning: Passing literal html to 'read_html' is deprecated and will be removed in a future version. To read from a literal string, wrap it in a 'StringIO' object.\n",
      "  df = pd.read_html(str(table))[0]\n"
     ]
    },
    {
     "name": "stdout",
     "output_type": "stream",
     "text": [
      "Processing  Petr Cornelie\n",
      "Last 5 games div not found.\n",
      "Processing  Peyton Watson\n"
     ]
    },
    {
     "name": "stderr",
     "output_type": "stream",
     "text": [
      "/var/folders/7z/7q00pypj1_sf2clps66cxc9r0000gn/T/ipykernel_2964/1753532913.py:33: FutureWarning: Passing literal html to 'read_html' is deprecated and will be removed in a future version. To read from a literal string, wrap it in a 'StringIO' object.\n",
      "  df = pd.read_html(str(table))[0]\n"
     ]
    },
    {
     "name": "stdout",
     "output_type": "stream",
     "text": [
      "Processing  Precious Achiuwa\n"
     ]
    },
    {
     "name": "stderr",
     "output_type": "stream",
     "text": [
      "/var/folders/7z/7q00pypj1_sf2clps66cxc9r0000gn/T/ipykernel_2964/1753532913.py:33: FutureWarning: Passing literal html to 'read_html' is deprecated and will be removed in a future version. To read from a literal string, wrap it in a 'StringIO' object.\n",
      "  df = pd.read_html(str(table))[0]\n"
     ]
    },
    {
     "name": "stdout",
     "output_type": "stream",
     "text": [
      "Processing  Quentin Grimes\n"
     ]
    },
    {
     "name": "stderr",
     "output_type": "stream",
     "text": [
      "/var/folders/7z/7q00pypj1_sf2clps66cxc9r0000gn/T/ipykernel_2964/1753532913.py:33: FutureWarning: Passing literal html to 'read_html' is deprecated and will be removed in a future version. To read from a literal string, wrap it in a 'StringIO' object.\n",
      "  df = pd.read_html(str(table))[0]\n"
     ]
    },
    {
     "name": "stdout",
     "output_type": "stream",
     "text": [
      "Processing  Quinn Cook\n",
      "Last 5 games div not found.\n",
      "Processing  Quinndary Weatherspoon\n",
      "Last 5 games div not found.\n",
      "Processing  R.J. Barrett\n",
      "No search results found for the player.\n",
      "Processing  R.J. Hampton\n"
     ]
    },
    {
     "name": "stderr",
     "output_type": "stream",
     "text": [
      "/var/folders/7z/7q00pypj1_sf2clps66cxc9r0000gn/T/ipykernel_2964/1753532913.py:33: FutureWarning: Passing literal html to 'read_html' is deprecated and will be removed in a future version. To read from a literal string, wrap it in a 'StringIO' object.\n",
      "  df = pd.read_html(str(table))[0]\n"
     ]
    },
    {
     "name": "stdout",
     "output_type": "stream",
     "text": [
      "Processing  Rajon Rondo\n",
      "Last 5 games div not found.\n",
      "Processing  Raulzinho Neto / Raul Neto\n",
      "No search results found for the player.\n",
      "Processing  Reggie Bullock\n"
     ]
    },
    {
     "name": "stderr",
     "output_type": "stream",
     "text": [
      "/var/folders/7z/7q00pypj1_sf2clps66cxc9r0000gn/T/ipykernel_2964/1753532913.py:33: FutureWarning: Passing literal html to 'read_html' is deprecated and will be removed in a future version. To read from a literal string, wrap it in a 'StringIO' object.\n",
      "  df = pd.read_html(str(table))[0]\n"
     ]
    },
    {
     "name": "stdout",
     "output_type": "stream",
     "text": [
      "Processing  Reggie Jackson (Shon)\n",
      "No search results found for the player.\n",
      "Processing  Reggie Perry\n",
      "Last 5 games div not found.\n",
      "Processing  Richaun Holmes\n"
     ]
    },
    {
     "name": "stderr",
     "output_type": "stream",
     "text": [
      "/var/folders/7z/7q00pypj1_sf2clps66cxc9r0000gn/T/ipykernel_2964/1753532913.py:33: FutureWarning: Passing literal html to 'read_html' is deprecated and will be removed in a future version. To read from a literal string, wrap it in a 'StringIO' object.\n",
      "  df = pd.read_html(str(table))[0]\n"
     ]
    },
    {
     "name": "stdout",
     "output_type": "stream",
     "text": [
      "Processing  Ricky Rubio\n",
      "Last 5 games div not found.\n",
      "Processing  Rob Edwards\n",
      "Last 5 games div not found.\n",
      "Processing  Robert Covington\n"
     ]
    },
    {
     "name": "stderr",
     "output_type": "stream",
     "text": [
      "/var/folders/7z/7q00pypj1_sf2clps66cxc9r0000gn/T/ipykernel_2964/1753532913.py:33: FutureWarning: Passing literal html to 'read_html' is deprecated and will be removed in a future version. To read from a literal string, wrap it in a 'StringIO' object.\n",
      "  df = pd.read_html(str(table))[0]\n"
     ]
    },
    {
     "name": "stdout",
     "output_type": "stream",
     "text": [
      "Processing  Robert Williams III\n",
      "No search results found for the player.\n",
      "Processing  Robert Woodard II\n",
      "Last 5 games div not found.\n",
      "Processing  Robin Lopez\n"
     ]
    },
    {
     "name": "stderr",
     "output_type": "stream",
     "text": [
      "/var/folders/7z/7q00pypj1_sf2clps66cxc9r0000gn/T/ipykernel_2964/1753532913.py:33: FutureWarning: Passing literal html to 'read_html' is deprecated and will be removed in a future version. To read from a literal string, wrap it in a 'StringIO' object.\n",
      "  df = pd.read_html(str(table))[0]\n"
     ]
    },
    {
     "name": "stdout",
     "output_type": "stream",
     "text": [
      "Processing  Rodions Kurucs\n",
      "Last 5 games div not found.\n",
      "Processing  Rodney Hood\n",
      "Last 5 games div not found.\n",
      "Processing  Rodney McGruder\n",
      "Last 5 games div not found.\n",
      "Processing  Romeo Langford\n",
      "Last 5 games div not found.\n",
      "Processing  Rondae Hollis-Jefferson\n",
      "Last 5 games div not found.\n",
      "Processing  Royce O'Neale\n"
     ]
    },
    {
     "name": "stderr",
     "output_type": "stream",
     "text": [
      "/var/folders/7z/7q00pypj1_sf2clps66cxc9r0000gn/T/ipykernel_2964/1753532913.py:33: FutureWarning: Passing literal html to 'read_html' is deprecated and will be removed in a future version. To read from a literal string, wrap it in a 'StringIO' object.\n",
      "  df = pd.read_html(str(table))[0]\n"
     ]
    },
    {
     "name": "stdout",
     "output_type": "stream",
     "text": [
      "Processing  Ruben Nembhard / R.J. Nembhard Jr.\n",
      "No search results found for the player.\n",
      "Processing  Rudy Gay\n",
      "Last 5 games div not found.\n",
      "Processing  Rudy Gobert\n"
     ]
    },
    {
     "name": "stderr",
     "output_type": "stream",
     "text": [
      "/var/folders/7z/7q00pypj1_sf2clps66cxc9r0000gn/T/ipykernel_2964/1753532913.py:33: FutureWarning: Passing literal html to 'read_html' is deprecated and will be removed in a future version. To read from a literal string, wrap it in a 'StringIO' object.\n",
      "  df = pd.read_html(str(table))[0]\n"
     ]
    },
    {
     "name": "stdout",
     "output_type": "stream",
     "text": [
      "Processing  Rui Hachimura\n"
     ]
    },
    {
     "name": "stderr",
     "output_type": "stream",
     "text": [
      "/var/folders/7z/7q00pypj1_sf2clps66cxc9r0000gn/T/ipykernel_2964/1753532913.py:33: FutureWarning: Passing literal html to 'read_html' is deprecated and will be removed in a future version. To read from a literal string, wrap it in a 'StringIO' object.\n",
      "  df = pd.read_html(str(table))[0]\n"
     ]
    },
    {
     "name": "stdout",
     "output_type": "stream",
     "text": [
      "Processing  Russell Westbrook\n"
     ]
    },
    {
     "name": "stderr",
     "output_type": "stream",
     "text": [
      "/var/folders/7z/7q00pypj1_sf2clps66cxc9r0000gn/T/ipykernel_2964/1753532913.py:33: FutureWarning: Passing literal html to 'read_html' is deprecated and will be removed in a future version. To read from a literal string, wrap it in a 'StringIO' object.\n",
      "  df = pd.read_html(str(table))[0]\n"
     ]
    },
    {
     "name": "stdout",
     "output_type": "stream",
     "text": [
      "Processing  Ryan Arcidiacono\n"
     ]
    },
    {
     "name": "stderr",
     "output_type": "stream",
     "text": [
      "/var/folders/7z/7q00pypj1_sf2clps66cxc9r0000gn/T/ipykernel_2964/1753532913.py:33: FutureWarning: Passing literal html to 'read_html' is deprecated and will be removed in a future version. To read from a literal string, wrap it in a 'StringIO' object.\n",
      "  df = pd.read_html(str(table))[0]\n"
     ]
    },
    {
     "name": "stdout",
     "output_type": "stream",
     "text": [
      "Processing  Saben Lee\n"
     ]
    },
    {
     "name": "stderr",
     "output_type": "stream",
     "text": [
      "/var/folders/7z/7q00pypj1_sf2clps66cxc9r0000gn/T/ipykernel_2964/1753532913.py:33: FutureWarning: Passing literal html to 'read_html' is deprecated and will be removed in a future version. To read from a literal string, wrap it in a 'StringIO' object.\n",
      "  df = pd.read_html(str(table))[0]\n"
     ]
    },
    {
     "name": "stdout",
     "output_type": "stream",
     "text": [
      "Processing  Saddiq Bey\n"
     ]
    },
    {
     "name": "stderr",
     "output_type": "stream",
     "text": [
      "/var/folders/7z/7q00pypj1_sf2clps66cxc9r0000gn/T/ipykernel_2964/1753532913.py:33: FutureWarning: Passing literal html to 'read_html' is deprecated and will be removed in a future version. To read from a literal string, wrap it in a 'StringIO' object.\n",
      "  df = pd.read_html(str(table))[0]\n"
     ]
    },
    {
     "name": "stdout",
     "output_type": "stream",
     "text": [
      "Processing  Sam Hauser\n"
     ]
    },
    {
     "name": "stderr",
     "output_type": "stream",
     "text": [
      "/var/folders/7z/7q00pypj1_sf2clps66cxc9r0000gn/T/ipykernel_2964/1753532913.py:33: FutureWarning: Passing literal html to 'read_html' is deprecated and will be removed in a future version. To read from a literal string, wrap it in a 'StringIO' object.\n",
      "  df = pd.read_html(str(table))[0]\n"
     ]
    },
    {
     "name": "stdout",
     "output_type": "stream",
     "text": [
      "Processing  Sam Merrill\n"
     ]
    },
    {
     "name": "stderr",
     "output_type": "stream",
     "text": [
      "/var/folders/7z/7q00pypj1_sf2clps66cxc9r0000gn/T/ipykernel_2964/1753532913.py:33: FutureWarning: Passing literal html to 'read_html' is deprecated and will be removed in a future version. To read from a literal string, wrap it in a 'StringIO' object.\n",
      "  df = pd.read_html(str(table))[0]\n"
     ]
    },
    {
     "name": "stdout",
     "output_type": "stream",
     "text": [
      "Processing  Sandro Mamukelashvili\n"
     ]
    },
    {
     "name": "stderr",
     "output_type": "stream",
     "text": [
      "/var/folders/7z/7q00pypj1_sf2clps66cxc9r0000gn/T/ipykernel_2964/1753532913.py:33: FutureWarning: Passing literal html to 'read_html' is deprecated and will be removed in a future version. To read from a literal string, wrap it in a 'StringIO' object.\n",
      "  df = pd.read_html(str(table))[0]\n"
     ]
    },
    {
     "name": "stdout",
     "output_type": "stream",
     "text": [
      "Processing  Santi Aldama\n"
     ]
    },
    {
     "name": "stderr",
     "output_type": "stream",
     "text": [
      "/var/folders/7z/7q00pypj1_sf2clps66cxc9r0000gn/T/ipykernel_2964/1753532913.py:33: FutureWarning: Passing literal html to 'read_html' is deprecated and will be removed in a future version. To read from a literal string, wrap it in a 'StringIO' object.\n",
      "  df = pd.read_html(str(table))[0]\n"
     ]
    },
    {
     "name": "stdout",
     "output_type": "stream",
     "text": [
      "Processing  Scottie Barnes\n"
     ]
    },
    {
     "name": "stderr",
     "output_type": "stream",
     "text": [
      "/var/folders/7z/7q00pypj1_sf2clps66cxc9r0000gn/T/ipykernel_2964/1753532913.py:33: FutureWarning: Passing literal html to 'read_html' is deprecated and will be removed in a future version. To read from a literal string, wrap it in a 'StringIO' object.\n",
      "  df = pd.read_html(str(table))[0]\n"
     ]
    },
    {
     "name": "stdout",
     "output_type": "stream",
     "text": [
      "Processing  Scottie Lewis\n",
      "Last 5 games div not found.\n",
      "Processing  Scotty Hopson\n",
      "Last 5 games div not found.\n",
      "Processing  Sean McDermott\n",
      "Last 5 games div not found.\n",
      "Processing  Sekou Doumbouya\n",
      "Last 5 games div not found.\n",
      "Processing  Semi Ojeleye\n",
      "Last 5 games div not found.\n",
      "Processing  Serge Ibaka\n",
      "Last 5 games div not found.\n",
      "Processing  Seth Curry\n"
     ]
    },
    {
     "name": "stderr",
     "output_type": "stream",
     "text": [
      "/var/folders/7z/7q00pypj1_sf2clps66cxc9r0000gn/T/ipykernel_2964/1753532913.py:33: FutureWarning: Passing literal html to 'read_html' is deprecated and will be removed in a future version. To read from a literal string, wrap it in a 'StringIO' object.\n",
      "  df = pd.read_html(str(table))[0]\n"
     ]
    },
    {
     "name": "stdout",
     "output_type": "stream",
     "text": [
      "Processing  Shabazz Napier\n",
      "Last 5 games div not found.\n",
      "Processing  Shai Gilgeous-Alexander\n"
     ]
    },
    {
     "name": "stderr",
     "output_type": "stream",
     "text": [
      "/var/folders/7z/7q00pypj1_sf2clps66cxc9r0000gn/T/ipykernel_2964/1753532913.py:33: FutureWarning: Passing literal html to 'read_html' is deprecated and will be removed in a future version. To read from a literal string, wrap it in a 'StringIO' object.\n",
      "  df = pd.read_html(str(table))[0]\n"
     ]
    },
    {
     "name": "stdout",
     "output_type": "stream",
     "text": [
      "Processing  Shake Milton\n"
     ]
    },
    {
     "name": "stderr",
     "output_type": "stream",
     "text": [
      "/var/folders/7z/7q00pypj1_sf2clps66cxc9r0000gn/T/ipykernel_2964/1753532913.py:33: FutureWarning: Passing literal html to 'read_html' is deprecated and will be removed in a future version. To read from a literal string, wrap it in a 'StringIO' object.\n",
      "  df = pd.read_html(str(table))[0]\n"
     ]
    },
    {
     "name": "stdout",
     "output_type": "stream",
     "text": [
      "Processing  Shaq Buchanan\n",
      "Last 5 games div not found.\n",
      "Processing  Shaquille Harrison\n",
      "Last 5 games div not found.\n",
      "Processing  Sharife Cooper\n",
      "Last 5 games div not found.\n",
      "Processing  Sindarius Thornwell\n",
      "Last 5 games div not found.\n",
      "Processing  Skal Labissiere\n",
      "Last 5 games div not found.\n",
      "Processing  Skylar Mays\n"
     ]
    },
    {
     "name": "stderr",
     "output_type": "stream",
     "text": [
      "/var/folders/7z/7q00pypj1_sf2clps66cxc9r0000gn/T/ipykernel_2964/1753532913.py:33: FutureWarning: Passing literal html to 'read_html' is deprecated and will be removed in a future version. To read from a literal string, wrap it in a 'StringIO' object.\n",
      "  df = pd.read_html(str(table))[0]\n"
     ]
    },
    {
     "name": "stdout",
     "output_type": "stream",
     "text": [
      "Processing  Solomon Hill\n",
      "Last 5 games div not found.\n",
      "Processing  Spencer Dinwiddie\n"
     ]
    },
    {
     "name": "stderr",
     "output_type": "stream",
     "text": [
      "/var/folders/7z/7q00pypj1_sf2clps66cxc9r0000gn/T/ipykernel_2964/1753532913.py:33: FutureWarning: Passing literal html to 'read_html' is deprecated and will be removed in a future version. To read from a literal string, wrap it in a 'StringIO' object.\n",
      "  df = pd.read_html(str(table))[0]\n"
     ]
    },
    {
     "name": "stdout",
     "output_type": "stream",
     "text": [
      "Processing  Stanley Johnson\n",
      "Last 5 games div not found.\n",
      "Processing  Stephen Curry\n"
     ]
    },
    {
     "name": "stderr",
     "output_type": "stream",
     "text": [
      "/var/folders/7z/7q00pypj1_sf2clps66cxc9r0000gn/T/ipykernel_2964/1753532913.py:33: FutureWarning: Passing literal html to 'read_html' is deprecated and will be removed in a future version. To read from a literal string, wrap it in a 'StringIO' object.\n",
      "  df = pd.read_html(str(table))[0]\n"
     ]
    },
    {
     "name": "stdout",
     "output_type": "stream",
     "text": [
      "Processing  Sterling Brown\n",
      "Last 5 games div not found.\n",
      "Processing  Steven Adams\n",
      "Last 5 games div not found.\n",
      "Processing  Sviatoslav Mykhailiuk / Svi Mykhailiuk\n",
      "No search results found for the player.\n",
      "Processing  T.J. Leaf\n",
      "Last 5 games div not found.\n",
      "Processing  T.J. McConnell\n"
     ]
    },
    {
     "name": "stderr",
     "output_type": "stream",
     "text": [
      "/var/folders/7z/7q00pypj1_sf2clps66cxc9r0000gn/T/ipykernel_2964/1753532913.py:33: FutureWarning: Passing literal html to 'read_html' is deprecated and will be removed in a future version. To read from a literal string, wrap it in a 'StringIO' object.\n",
      "  df = pd.read_html(str(table))[0]\n"
     ]
    },
    {
     "name": "stdout",
     "output_type": "stream",
     "text": [
      "Processing  T.J. Warren\n"
     ]
    },
    {
     "name": "stderr",
     "output_type": "stream",
     "text": [
      "/var/folders/7z/7q00pypj1_sf2clps66cxc9r0000gn/T/ipykernel_2964/1753532913.py:33: FutureWarning: Passing literal html to 'read_html' is deprecated and will be removed in a future version. To read from a literal string, wrap it in a 'StringIO' object.\n",
      "  df = pd.read_html(str(table))[0]\n"
     ]
    },
    {
     "name": "stdout",
     "output_type": "stream",
     "text": [
      "Processing  Tacko Fall\n",
      "Last 5 games div not found.\n",
      "Processing  Taj Gibson\n"
     ]
    },
    {
     "name": "stderr",
     "output_type": "stream",
     "text": [
      "/var/folders/7z/7q00pypj1_sf2clps66cxc9r0000gn/T/ipykernel_2964/1753532913.py:33: FutureWarning: Passing literal html to 'read_html' is deprecated and will be removed in a future version. To read from a literal string, wrap it in a 'StringIO' object.\n",
      "  df = pd.read_html(str(table))[0]\n"
     ]
    },
    {
     "name": "stdout",
     "output_type": "stream",
     "text": [
      "Processing  Talen Horton-Tucker\n"
     ]
    },
    {
     "name": "stderr",
     "output_type": "stream",
     "text": [
      "/var/folders/7z/7q00pypj1_sf2clps66cxc9r0000gn/T/ipykernel_2964/1753532913.py:33: FutureWarning: Passing literal html to 'read_html' is deprecated and will be removed in a future version. To read from a literal string, wrap it in a 'StringIO' object.\n",
      "  df = pd.read_html(str(table))[0]\n"
     ]
    },
    {
     "name": "stdout",
     "output_type": "stream",
     "text": [
      "Processing  Taurean Prince\n"
     ]
    },
    {
     "name": "stderr",
     "output_type": "stream",
     "text": [
      "/var/folders/7z/7q00pypj1_sf2clps66cxc9r0000gn/T/ipykernel_2964/1753532913.py:33: FutureWarning: Passing literal html to 'read_html' is deprecated and will be removed in a future version. To read from a literal string, wrap it in a 'StringIO' object.\n",
      "  df = pd.read_html(str(table))[0]\n"
     ]
    },
    {
     "name": "stdout",
     "output_type": "stream",
     "text": [
      "Processing  Terance Mann\n"
     ]
    },
    {
     "name": "stderr",
     "output_type": "stream",
     "text": [
      "/var/folders/7z/7q00pypj1_sf2clps66cxc9r0000gn/T/ipykernel_2964/1753532913.py:33: FutureWarning: Passing literal html to 'read_html' is deprecated and will be removed in a future version. To read from a literal string, wrap it in a 'StringIO' object.\n",
      "  df = pd.read_html(str(table))[0]\n"
     ]
    },
    {
     "name": "stdout",
     "output_type": "stream",
     "text": [
      "Processing  Terence Davis\n",
      "Last 5 games div not found.\n",
      "Processing  Terrance Ferguson\n",
      "Last 5 games div not found.\n",
      "Processing  Terrence Ross\n",
      "Last 5 games div not found.\n",
      "Processing  Terry Rozier\n"
     ]
    },
    {
     "name": "stderr",
     "output_type": "stream",
     "text": [
      "/var/folders/7z/7q00pypj1_sf2clps66cxc9r0000gn/T/ipykernel_2964/1753532913.py:33: FutureWarning: Passing literal html to 'read_html' is deprecated and will be removed in a future version. To read from a literal string, wrap it in a 'StringIO' object.\n",
      "  df = pd.read_html(str(table))[0]\n"
     ]
    },
    {
     "name": "stdout",
     "output_type": "stream",
     "text": [
      "Processing  Terry Taylor\n"
     ]
    },
    {
     "name": "stderr",
     "output_type": "stream",
     "text": [
      "/var/folders/7z/7q00pypj1_sf2clps66cxc9r0000gn/T/ipykernel_2964/1753532913.py:33: FutureWarning: Passing literal html to 'read_html' is deprecated and will be removed in a future version. To read from a literal string, wrap it in a 'StringIO' object.\n",
      "  df = pd.read_html(str(table))[0]\n"
     ]
    },
    {
     "name": "stdout",
     "output_type": "stream",
     "text": [
      "Processing  Thabo Sefolosha\n",
      "Last 5 games div not found.\n",
      "Processing  Thaddeus Young\n"
     ]
    },
    {
     "name": "stderr",
     "output_type": "stream",
     "text": [
      "/var/folders/7z/7q00pypj1_sf2clps66cxc9r0000gn/T/ipykernel_2964/1753532913.py:33: FutureWarning: Passing literal html to 'read_html' is deprecated and will be removed in a future version. To read from a literal string, wrap it in a 'StringIO' object.\n",
      "  df = pd.read_html(str(table))[0]\n"
     ]
    },
    {
     "name": "stdout",
     "output_type": "stream",
     "text": [
      "Processing  Thanasis Antetokounmpo\n"
     ]
    },
    {
     "name": "stderr",
     "output_type": "stream",
     "text": [
      "/var/folders/7z/7q00pypj1_sf2clps66cxc9r0000gn/T/ipykernel_2964/1753532913.py:33: FutureWarning: Passing literal html to 'read_html' is deprecated and will be removed in a future version. To read from a literal string, wrap it in a 'StringIO' object.\n",
      "  df = pd.read_html(str(table))[0]\n"
     ]
    },
    {
     "name": "stdout",
     "output_type": "stream",
     "text": [
      "Processing  Theo Maledon\n"
     ]
    },
    {
     "name": "stderr",
     "output_type": "stream",
     "text": [
      "/var/folders/7z/7q00pypj1_sf2clps66cxc9r0000gn/T/ipykernel_2964/1753532913.py:33: FutureWarning: Passing literal html to 'read_html' is deprecated and will be removed in a future version. To read from a literal string, wrap it in a 'StringIO' object.\n",
      "  df = pd.read_html(str(table))[0]\n"
     ]
    },
    {
     "name": "stdout",
     "output_type": "stream",
     "text": [
      "Processing  Theo Pinson\n",
      "Last 5 games div not found.\n",
      "Processing  Thomas Bryant\n"
     ]
    },
    {
     "name": "stderr",
     "output_type": "stream",
     "text": [
      "/var/folders/7z/7q00pypj1_sf2clps66cxc9r0000gn/T/ipykernel_2964/1753532913.py:33: FutureWarning: Passing literal html to 'read_html' is deprecated and will be removed in a future version. To read from a literal string, wrap it in a 'StringIO' object.\n",
      "  df = pd.read_html(str(table))[0]\n"
     ]
    },
    {
     "name": "stdout",
     "output_type": "stream",
     "text": [
      "Processing  Thon Maker\n",
      "Last 5 games div not found.\n",
      "Processing  Tim Frazier\n",
      "Last 5 games div not found.\n",
      "Processing  Tim Hardaway Jr.\n"
     ]
    },
    {
     "name": "stderr",
     "output_type": "stream",
     "text": [
      "/var/folders/7z/7q00pypj1_sf2clps66cxc9r0000gn/T/ipykernel_2964/1753532913.py:33: FutureWarning: Passing literal html to 'read_html' is deprecated and will be removed in a future version. To read from a literal string, wrap it in a 'StringIO' object.\n",
      "  df = pd.read_html(str(table))[0]\n"
     ]
    },
    {
     "name": "stdout",
     "output_type": "stream",
     "text": [
      "Processing  Timothe Luwawu-Cabarrot\n",
      "Last 5 games div not found.\n",
      "Processing  Tobias Harris\n"
     ]
    },
    {
     "name": "stderr",
     "output_type": "stream",
     "text": [
      "/var/folders/7z/7q00pypj1_sf2clps66cxc9r0000gn/T/ipykernel_2964/1753532913.py:33: FutureWarning: Passing literal html to 'read_html' is deprecated and will be removed in a future version. To read from a literal string, wrap it in a 'StringIO' object.\n",
      "  df = pd.read_html(str(table))[0]\n"
     ]
    },
    {
     "name": "stdout",
     "output_type": "stream",
     "text": [
      "Processing  Tomas Satoransky\n",
      "Last 5 games div not found.\n",
      "Processing  Tony Bradley\n",
      "Last 5 games div not found.\n",
      "Processing  Tony Snell\n",
      "Last 5 games div not found.\n",
      "Processing  Torrey Craig\n"
     ]
    },
    {
     "name": "stderr",
     "output_type": "stream",
     "text": [
      "/var/folders/7z/7q00pypj1_sf2clps66cxc9r0000gn/T/ipykernel_2964/1753532913.py:33: FutureWarning: Passing literal html to 'read_html' is deprecated and will be removed in a future version. To read from a literal string, wrap it in a 'StringIO' object.\n",
      "  df = pd.read_html(str(table))[0]\n"
     ]
    },
    {
     "name": "stdout",
     "output_type": "stream",
     "text": [
      "Processing  Trae Young\n"
     ]
    },
    {
     "name": "stderr",
     "output_type": "stream",
     "text": [
      "/var/folders/7z/7q00pypj1_sf2clps66cxc9r0000gn/T/ipykernel_2964/1753532913.py:33: FutureWarning: Passing literal html to 'read_html' is deprecated and will be removed in a future version. To read from a literal string, wrap it in a 'StringIO' object.\n",
      "  df = pd.read_html(str(table))[0]\n"
     ]
    },
    {
     "name": "stdout",
     "output_type": "stream",
     "text": [
      "Processing  Tre Jones\n"
     ]
    },
    {
     "name": "stderr",
     "output_type": "stream",
     "text": [
      "/var/folders/7z/7q00pypj1_sf2clps66cxc9r0000gn/T/ipykernel_2964/1753532913.py:33: FutureWarning: Passing literal html to 'read_html' is deprecated and will be removed in a future version. To read from a literal string, wrap it in a 'StringIO' object.\n",
      "  df = pd.read_html(str(table))[0]\n"
     ]
    },
    {
     "name": "stdout",
     "output_type": "stream",
     "text": [
      "Processing  Tre Mann\n"
     ]
    },
    {
     "name": "stderr",
     "output_type": "stream",
     "text": [
      "/var/folders/7z/7q00pypj1_sf2clps66cxc9r0000gn/T/ipykernel_2964/1753532913.py:33: FutureWarning: Passing literal html to 'read_html' is deprecated and will be removed in a future version. To read from a literal string, wrap it in a 'StringIO' object.\n",
      "  df = pd.read_html(str(table))[0]\n"
     ]
    },
    {
     "name": "stdout",
     "output_type": "stream",
     "text": [
      "Processing  Tremont Waters\n",
      "Last 5 games div not found.\n",
      "Processing  Trendon Watford\n"
     ]
    },
    {
     "name": "stderr",
     "output_type": "stream",
     "text": [
      "/var/folders/7z/7q00pypj1_sf2clps66cxc9r0000gn/T/ipykernel_2964/1753532913.py:33: FutureWarning: Passing literal html to 'read_html' is deprecated and will be removed in a future version. To read from a literal string, wrap it in a 'StringIO' object.\n",
      "  df = pd.read_html(str(table))[0]\n"
     ]
    },
    {
     "name": "stdout",
     "output_type": "stream",
     "text": [
      "Processing  Trent Forrest\n"
     ]
    },
    {
     "name": "stderr",
     "output_type": "stream",
     "text": [
      "/var/folders/7z/7q00pypj1_sf2clps66cxc9r0000gn/T/ipykernel_2964/1753532913.py:33: FutureWarning: Passing literal html to 'read_html' is deprecated and will be removed in a future version. To read from a literal string, wrap it in a 'StringIO' object.\n",
      "  df = pd.read_html(str(table))[0]\n"
     ]
    },
    {
     "name": "stdout",
     "output_type": "stream",
     "text": [
      "Processing  Trevelin Queen\n"
     ]
    },
    {
     "name": "stderr",
     "output_type": "stream",
     "text": [
      "/var/folders/7z/7q00pypj1_sf2clps66cxc9r0000gn/T/ipykernel_2964/1753532913.py:33: FutureWarning: Passing literal html to 'read_html' is deprecated and will be removed in a future version. To read from a literal string, wrap it in a 'StringIO' object.\n",
      "  df = pd.read_html(str(table))[0]\n"
     ]
    },
    {
     "name": "stdout",
     "output_type": "stream",
     "text": [
      "Processing  Treveon Graham\n",
      "Last 5 games div not found.\n",
      "Processing  Trevor Ariza\n",
      "Last 5 games div not found.\n",
      "Processing  Trey Burke\n",
      "Last 5 games div not found.\n",
      "Processing  Trey Lyles\n"
     ]
    },
    {
     "name": "stderr",
     "output_type": "stream",
     "text": [
      "/var/folders/7z/7q00pypj1_sf2clps66cxc9r0000gn/T/ipykernel_2964/1753532913.py:33: FutureWarning: Passing literal html to 'read_html' is deprecated and will be removed in a future version. To read from a literal string, wrap it in a 'StringIO' object.\n",
      "  df = pd.read_html(str(table))[0]\n"
     ]
    },
    {
     "name": "stdout",
     "output_type": "stream",
     "text": [
      "Processing  Trey Murphy III\n"
     ]
    },
    {
     "name": "stderr",
     "output_type": "stream",
     "text": [
      "/var/folders/7z/7q00pypj1_sf2clps66cxc9r0000gn/T/ipykernel_2964/1753532913.py:33: FutureWarning: Passing literal html to 'read_html' is deprecated and will be removed in a future version. To read from a literal string, wrap it in a 'StringIO' object.\n",
      "  df = pd.read_html(str(table))[0]\n"
     ]
    },
    {
     "name": "stdout",
     "output_type": "stream",
     "text": [
      "Processing  Tristan Thompson\n"
     ]
    },
    {
     "name": "stderr",
     "output_type": "stream",
     "text": [
      "/var/folders/7z/7q00pypj1_sf2clps66cxc9r0000gn/T/ipykernel_2964/1753532913.py:33: FutureWarning: Passing literal html to 'read_html' is deprecated and will be removed in a future version. To read from a literal string, wrap it in a 'StringIO' object.\n",
      "  df = pd.read_html(str(table))[0]\n"
     ]
    },
    {
     "name": "stdout",
     "output_type": "stream",
     "text": [
      "Processing  Troy Brown Jr.\n"
     ]
    },
    {
     "name": "stderr",
     "output_type": "stream",
     "text": [
      "/var/folders/7z/7q00pypj1_sf2clps66cxc9r0000gn/T/ipykernel_2964/1753532913.py:33: FutureWarning: Passing literal html to 'read_html' is deprecated and will be removed in a future version. To read from a literal string, wrap it in a 'StringIO' object.\n",
      "  df = pd.read_html(str(table))[0]\n"
     ]
    },
    {
     "name": "stdout",
     "output_type": "stream",
     "text": [
      "Processing  Troy Daniels\n",
      "Last 5 games div not found.\n",
      "Processing  Ty Jerome\n",
      "Last 5 games div not found.\n",
      "Processing  Ty-Shon Alexander\n",
      "Last 5 games div not found.\n",
      "Processing  TyTy Washington Jr.\n"
     ]
    },
    {
     "name": "stderr",
     "output_type": "stream",
     "text": [
      "/var/folders/7z/7q00pypj1_sf2clps66cxc9r0000gn/T/ipykernel_2964/1753532913.py:33: FutureWarning: Passing literal html to 'read_html' is deprecated and will be removed in a future version. To read from a literal string, wrap it in a 'StringIO' object.\n",
      "  df = pd.read_html(str(table))[0]\n"
     ]
    },
    {
     "name": "stdout",
     "output_type": "stream",
     "text": [
      "Processing  Tyler Cook\n",
      "Last 5 games div not found.\n",
      "Processing  Tyler Herro\n"
     ]
    },
    {
     "name": "stderr",
     "output_type": "stream",
     "text": [
      "/var/folders/7z/7q00pypj1_sf2clps66cxc9r0000gn/T/ipykernel_2964/1753532913.py:33: FutureWarning: Passing literal html to 'read_html' is deprecated and will be removed in a future version. To read from a literal string, wrap it in a 'StringIO' object.\n",
      "  df = pd.read_html(str(table))[0]\n"
     ]
    },
    {
     "name": "stdout",
     "output_type": "stream",
     "text": [
      "Processing  Tyler Johnson\n",
      "Last 5 games div not found.\n",
      "Processing  Tyler Zeller\n",
      "Last 5 games div not found.\n",
      "Processing  Tyrell Terry\n",
      "Last 5 games div not found.\n",
      "Processing  Tyrese Haliburton\n"
     ]
    },
    {
     "name": "stderr",
     "output_type": "stream",
     "text": [
      "/var/folders/7z/7q00pypj1_sf2clps66cxc9r0000gn/T/ipykernel_2964/1753532913.py:33: FutureWarning: Passing literal html to 'read_html' is deprecated and will be removed in a future version. To read from a literal string, wrap it in a 'StringIO' object.\n",
      "  df = pd.read_html(str(table))[0]\n"
     ]
    },
    {
     "name": "stdout",
     "output_type": "stream",
     "text": [
      "Processing  Tyrese Maxey\n"
     ]
    },
    {
     "name": "stderr",
     "output_type": "stream",
     "text": [
      "/var/folders/7z/7q00pypj1_sf2clps66cxc9r0000gn/T/ipykernel_2964/1753532913.py:33: FutureWarning: Passing literal html to 'read_html' is deprecated and will be removed in a future version. To read from a literal string, wrap it in a 'StringIO' object.\n",
      "  df = pd.read_html(str(table))[0]\n"
     ]
    },
    {
     "name": "stdout",
     "output_type": "stream",
     "text": [
      "Processing  Tyson Chandler\n",
      "Last 5 games div not found.\n",
      "Processing  Tyus Jones\n"
     ]
    },
    {
     "name": "stderr",
     "output_type": "stream",
     "text": [
      "/var/folders/7z/7q00pypj1_sf2clps66cxc9r0000gn/T/ipykernel_2964/1753532913.py:33: FutureWarning: Passing literal html to 'read_html' is deprecated and will be removed in a future version. To read from a literal string, wrap it in a 'StringIO' object.\n",
      "  df = pd.read_html(str(table))[0]\n"
     ]
    },
    {
     "name": "stdout",
     "output_type": "stream",
     "text": [
      "Processing  Udoka Azubuike\n"
     ]
    },
    {
     "name": "stderr",
     "output_type": "stream",
     "text": [
      "/var/folders/7z/7q00pypj1_sf2clps66cxc9r0000gn/T/ipykernel_2964/1753532913.py:33: FutureWarning: Passing literal html to 'read_html' is deprecated and will be removed in a future version. To read from a literal string, wrap it in a 'StringIO' object.\n",
      "  df = pd.read_html(str(table))[0]\n"
     ]
    },
    {
     "name": "stdout",
     "output_type": "stream",
     "text": [
      "Processing  Udonis Haslem\n",
      "Last 5 games div not found.\n",
      "Processing  Usman Garuba\n"
     ]
    },
    {
     "name": "stderr",
     "output_type": "stream",
     "text": [
      "/var/folders/7z/7q00pypj1_sf2clps66cxc9r0000gn/T/ipykernel_2964/1753532913.py:33: FutureWarning: Passing literal html to 'read_html' is deprecated and will be removed in a future version. To read from a literal string, wrap it in a 'StringIO' object.\n",
      "  df = pd.read_html(str(table))[0]\n"
     ]
    },
    {
     "name": "stdout",
     "output_type": "stream",
     "text": [
      "Processing  Vernon Carey Jr.\n",
      "Last 5 games div not found.\n",
      "Processing  Vic Law\n",
      "Last 5 games div not found.\n",
      "Processing  Victor Oladipo\n",
      "Last 5 games div not found.\n",
      "Processing  Vince Williams Jr.\n"
     ]
    },
    {
     "name": "stderr",
     "output_type": "stream",
     "text": [
      "/var/folders/7z/7q00pypj1_sf2clps66cxc9r0000gn/T/ipykernel_2964/1753532913.py:33: FutureWarning: Passing literal html to 'read_html' is deprecated and will be removed in a future version. To read from a literal string, wrap it in a 'StringIO' object.\n",
      "  df = pd.read_html(str(table))[0]\n"
     ]
    },
    {
     "name": "stdout",
     "output_type": "stream",
     "text": [
      "Processing  Vincent Poirier\n",
      "Last 5 games div not found.\n",
      "Processing  Vit Krejci\n"
     ]
    },
    {
     "name": "stderr",
     "output_type": "stream",
     "text": [
      "/var/folders/7z/7q00pypj1_sf2clps66cxc9r0000gn/T/ipykernel_2964/1753532913.py:33: FutureWarning: Passing literal html to 'read_html' is deprecated and will be removed in a future version. To read from a literal string, wrap it in a 'StringIO' object.\n",
      "  df = pd.read_html(str(table))[0]\n"
     ]
    },
    {
     "name": "stdout",
     "output_type": "stream",
     "text": [
      "Processing  Vlatko Cancar\n",
      "Last 5 games div not found.\n",
      "Processing  Walker Kessler\n"
     ]
    },
    {
     "name": "stderr",
     "output_type": "stream",
     "text": [
      "/var/folders/7z/7q00pypj1_sf2clps66cxc9r0000gn/T/ipykernel_2964/1753532913.py:33: FutureWarning: Passing literal html to 'read_html' is deprecated and will be removed in a future version. To read from a literal string, wrap it in a 'StringIO' object.\n",
      "  df = pd.read_html(str(table))[0]\n"
     ]
    },
    {
     "name": "stdout",
     "output_type": "stream",
     "text": [
      "Processing  Wayne Ellington\n",
      "Last 5 games div not found.\n",
      "Processing  Wayne Selden Jr.\n",
      "No search results found for the player.\n",
      "Processing  Wendell Carter Jr.\n"
     ]
    },
    {
     "name": "stderr",
     "output_type": "stream",
     "text": [
      "/var/folders/7z/7q00pypj1_sf2clps66cxc9r0000gn/T/ipykernel_2964/1753532913.py:33: FutureWarning: Passing literal html to 'read_html' is deprecated and will be removed in a future version. To read from a literal string, wrap it in a 'StringIO' object.\n",
      "  df = pd.read_html(str(table))[0]\n"
     ]
    },
    {
     "name": "stdout",
     "output_type": "stream",
     "text": [
      "Processing  Wenyen Gabriel\n"
     ]
    },
    {
     "name": "stderr",
     "output_type": "stream",
     "text": [
      "/var/folders/7z/7q00pypj1_sf2clps66cxc9r0000gn/T/ipykernel_2964/1753532913.py:33: FutureWarning: Passing literal html to 'read_html' is deprecated and will be removed in a future version. To read from a literal string, wrap it in a 'StringIO' object.\n",
      "  df = pd.read_html(str(table))[0]\n"
     ]
    },
    {
     "name": "stdout",
     "output_type": "stream",
     "text": [
      "Processing  Wesley Iwundu / Wes Iwundu\n",
      "No search results found for the player.\n",
      "Processing  Wesley Matthews / Wes Matthews Jr.\n",
      "No search results found for the player.\n",
      "Processing  Will Barton\n",
      "Last 5 games div not found.\n",
      "Processing  Will Magnay\n",
      "Last 5 games div not found.\n",
      "Processing  Willie Cauley-Stein\n",
      "Last 5 games div not found.\n",
      "Processing  Wilson Chandler\n",
      "Last 5 games div not found.\n",
      "Processing  Xavier Moon\n"
     ]
    },
    {
     "name": "stderr",
     "output_type": "stream",
     "text": [
      "/var/folders/7z/7q00pypj1_sf2clps66cxc9r0000gn/T/ipykernel_2964/1753532913.py:33: FutureWarning: Passing literal html to 'read_html' is deprecated and will be removed in a future version. To read from a literal string, wrap it in a 'StringIO' object.\n",
      "  df = pd.read_html(str(table))[0]\n"
     ]
    },
    {
     "name": "stdout",
     "output_type": "stream",
     "text": [
      "Processing  Xavier Tillman\n"
     ]
    },
    {
     "name": "stderr",
     "output_type": "stream",
     "text": [
      "/var/folders/7z/7q00pypj1_sf2clps66cxc9r0000gn/T/ipykernel_2964/1753532913.py:33: FutureWarning: Passing literal html to 'read_html' is deprecated and will be removed in a future version. To read from a literal string, wrap it in a 'StringIO' object.\n",
      "  df = pd.read_html(str(table))[0]\n"
     ]
    },
    {
     "name": "stdout",
     "output_type": "stream",
     "text": [
      "Processing  Yuta Watanabe\n"
     ]
    },
    {
     "name": "stderr",
     "output_type": "stream",
     "text": [
      "/var/folders/7z/7q00pypj1_sf2clps66cxc9r0000gn/T/ipykernel_2964/1753532913.py:33: FutureWarning: Passing literal html to 'read_html' is deprecated and will be removed in a future version. To read from a literal string, wrap it in a 'StringIO' object.\n",
      "  df = pd.read_html(str(table))[0]\n"
     ]
    },
    {
     "name": "stdout",
     "output_type": "stream",
     "text": [
      "Processing  Yves Pons\n",
      "Last 5 games div not found.\n",
      "Processing  Zach Collins\n"
     ]
    },
    {
     "name": "stderr",
     "output_type": "stream",
     "text": [
      "/var/folders/7z/7q00pypj1_sf2clps66cxc9r0000gn/T/ipykernel_2964/1753532913.py:33: FutureWarning: Passing literal html to 'read_html' is deprecated and will be removed in a future version. To read from a literal string, wrap it in a 'StringIO' object.\n",
      "  df = pd.read_html(str(table))[0]\n"
     ]
    },
    {
     "name": "stdout",
     "output_type": "stream",
     "text": [
      "Processing  Zach LaVine\n"
     ]
    },
    {
     "name": "stderr",
     "output_type": "stream",
     "text": [
      "/var/folders/7z/7q00pypj1_sf2clps66cxc9r0000gn/T/ipykernel_2964/1753532913.py:33: FutureWarning: Passing literal html to 'read_html' is deprecated and will be removed in a future version. To read from a literal string, wrap it in a 'StringIO' object.\n",
      "  df = pd.read_html(str(table))[0]\n"
     ]
    },
    {
     "name": "stdout",
     "output_type": "stream",
     "text": [
      "Processing  Zeke Nnaji\n"
     ]
    },
    {
     "name": "stderr",
     "output_type": "stream",
     "text": [
      "/var/folders/7z/7q00pypj1_sf2clps66cxc9r0000gn/T/ipykernel_2964/1753532913.py:33: FutureWarning: Passing literal html to 'read_html' is deprecated and will be removed in a future version. To read from a literal string, wrap it in a 'StringIO' object.\n",
      "  df = pd.read_html(str(table))[0]\n"
     ]
    },
    {
     "name": "stdout",
     "output_type": "stream",
     "text": [
      "Processing  Zhaire Smith\n",
      "Last 5 games div not found.\n",
      "Processing  Ziaire Williams\n"
     ]
    },
    {
     "name": "stderr",
     "output_type": "stream",
     "text": [
      "/var/folders/7z/7q00pypj1_sf2clps66cxc9r0000gn/T/ipykernel_2964/1753532913.py:33: FutureWarning: Passing literal html to 'read_html' is deprecated and will be removed in a future version. To read from a literal string, wrap it in a 'StringIO' object.\n",
      "  df = pd.read_html(str(table))[0]\n"
     ]
    },
    {
     "name": "stdout",
     "output_type": "stream",
     "text": [
      "Processing  Zion Williamson\n"
     ]
    },
    {
     "name": "stderr",
     "output_type": "stream",
     "text": [
      "/var/folders/7z/7q00pypj1_sf2clps66cxc9r0000gn/T/ipykernel_2964/1753532913.py:33: FutureWarning: Passing literal html to 'read_html' is deprecated and will be removed in a future version. To read from a literal string, wrap it in a 'StringIO' object.\n",
      "  df = pd.read_html(str(table))[0]\n"
     ]
    },
    {
     "name": "stdout",
     "output_type": "stream",
     "text": [
      "Processing  Zylan Cheatham\n",
      "Last 5 games div not found.\n",
      "Processing  left wrist injury (DTD)\n",
      "No search results found for the player.\n"
     ]
    }
   ],
   "source": [
    "import time\n",
    "import pandas as pd\n",
    "\n",
    "basic_info = pd.DataFrame(columns=['Name', 'Position', 'Height', 'Weight', 'Age', 'Experience'])\n",
    "last_five_games = pd.DataFrame(columns=['Name', 'Last_5_Games'])\n",
    "\n",
    "# Default values for last 5 games, assuming you expect 5 entries\n",
    "default_game_data = [None] * 5  # Replace None with a more appropriate default if needed\n",
    "\n",
    "for name in grouped_df[\"Player\"]:\n",
    "    time.sleep(10)  \n",
    "    print(f\"Processing {name}\")\n",
    "    my_url = search_for_player_page(name)\n",
    "    if not my_url:\n",
    "        continue\n",
    "    my_basic_info = fetch_player_info(my_url)\n",
    "    my_five_games = fetch_last_5_games_data(my_url)\n",
    "\n",
    "    # If data is fetched, use it, otherwise stick with defaults\n",
    "    actual_game_data = list(my_five_games[\"TimePlayed\"]) if my_five_games is not None else default_game_data\n",
    "\n",
    "    # Ensure the list is always of length 5\n",
    "    actual_game_data = actual_game_data[:5] + [None] * (5 - len(actual_game_data))\n",
    "\n",
    "    # Dictionary for DataFrame\n",
    "    # Proposed addendum: five_games_df = {\"Name\": [name], \"Last_5_Games\": [actual_game_data], \"Location of Games\": [my_five_games[\"Location\"]]}\n",
    "    five_games_df = {\"Name\": [name], \"Last_5_Games\": [actual_game_data]}\n",
    "    my_basic_info = {key: [value] for key, value in my_basic_info.items()}\n",
    "    \n",
    "    # Create and append to DataFrame as before\n",
    "    basic_info = pd.concat([basic_info, pd.DataFrame(my_basic_info)], ignore_index=True)\n",
    "    last_five_games = pd.concat([last_five_games, pd.DataFrame(five_games_df)], ignore_index=True)\n",
    "\n",
    "# Save DataFrames to CSV\n",
    "basic_info.to_csv(\"basic_info.csv\", encoding='utf-8', index=False)\n",
    "last_five_games.to_csv(\"last_five_games.csv\", encoding='utf-8', index=False)\n"
   ]
  },
  {
   "cell_type": "code",
   "execution_count": null,
   "metadata": {},
   "outputs": [],
   "source": []
  },
  {
   "cell_type": "code",
   "execution_count": 259,
   "metadata": {},
   "outputs": [
    {
     "data": {
      "text/html": [
       "<div>\n",
       "<style scoped>\n",
       "    .dataframe tbody tr th:only-of-type {\n",
       "        vertical-align: middle;\n",
       "    }\n",
       "\n",
       "    .dataframe tbody tr th {\n",
       "        vertical-align: top;\n",
       "    }\n",
       "\n",
       "    .dataframe thead th {\n",
       "        text-align: right;\n",
       "    }\n",
       "</style>\n",
       "<table border=\"1\" class=\"dataframe\">\n",
       "  <thead>\n",
       "    <tr style=\"text-align: right;\">\n",
       "      <th></th>\n",
       "      <th>Name</th>\n",
       "      <th>Position</th>\n",
       "      <th>Height</th>\n",
       "      <th>Weight</th>\n",
       "      <th>Age</th>\n",
       "      <th>Experience</th>\n",
       "    </tr>\n",
       "  </thead>\n",
       "  <tbody>\n",
       "    <tr>\n",
       "      <th>0</th>\n",
       "      <td>A.J. Green</td>\n",
       "      <td>Shooting Guard\\n\\n\\n  \\n  ▪</td>\n",
       "      <td>193</td>\n",
       "      <td>200</td>\n",
       "      <td>24</td>\n",
       "      <td>1</td>\n",
       "    </tr>\n",
       "    <tr>\n",
       "      <th>1</th>\n",
       "      <td>Aaron Gordon</td>\n",
       "      <td>Power Forward and Small Forward\\n\\n\\n  \\n  ▪</td>\n",
       "      <td>203</td>\n",
       "      <td>235</td>\n",
       "      <td>28</td>\n",
       "      <td>9</td>\n",
       "    </tr>\n",
       "    <tr>\n",
       "      <th>2</th>\n",
       "      <td>Aaron Henry</td>\n",
       "      <td>Small Forward\\n\\n\\n  \\n  ▪</td>\n",
       "      <td>198</td>\n",
       "      <td>210</td>\n",
       "      <td>24</td>\n",
       "      <td>Unknown</td>\n",
       "    </tr>\n",
       "    <tr>\n",
       "      <th>3</th>\n",
       "      <td>Aaron Holiday</td>\n",
       "      <td>Point Guard\\n\\n\\n  \\n  ▪</td>\n",
       "      <td>183</td>\n",
       "      <td>185</td>\n",
       "      <td>27</td>\n",
       "      <td>5</td>\n",
       "    </tr>\n",
       "    <tr>\n",
       "      <th>4</th>\n",
       "      <td>Aaron Nesmith</td>\n",
       "      <td>Small Forward\\n\\n\\n  \\n  ▪</td>\n",
       "      <td>196</td>\n",
       "      <td>215</td>\n",
       "      <td>24</td>\n",
       "      <td>3</td>\n",
       "    </tr>\n",
       "    <tr>\n",
       "      <th>...</th>\n",
       "      <td>...</td>\n",
       "      <td>...</td>\n",
       "      <td>...</td>\n",
       "      <td>...</td>\n",
       "      <td>...</td>\n",
       "      <td>...</td>\n",
       "    </tr>\n",
       "    <tr>\n",
       "      <th>646</th>\n",
       "      <td>Zeke Nnaji</td>\n",
       "      <td>Power Forward\\n\\n\\n  \\n  ▪</td>\n",
       "      <td>206</td>\n",
       "      <td>240</td>\n",
       "      <td>23</td>\n",
       "      <td>3</td>\n",
       "    </tr>\n",
       "    <tr>\n",
       "      <th>647</th>\n",
       "      <td>Zhaire Smith</td>\n",
       "      <td>Shooting Guard and Small Forward\\n\\n\\n  \\n  ▪</td>\n",
       "      <td>190</td>\n",
       "      <td>205</td>\n",
       "      <td>24</td>\n",
       "      <td>2</td>\n",
       "    </tr>\n",
       "    <tr>\n",
       "      <th>648</th>\n",
       "      <td>Ziaire Williams</td>\n",
       "      <td>Small Forward\\n\\n\\n  \\n  ▪</td>\n",
       "      <td>206</td>\n",
       "      <td>215</td>\n",
       "      <td>22</td>\n",
       "      <td>2</td>\n",
       "    </tr>\n",
       "    <tr>\n",
       "      <th>649</th>\n",
       "      <td>Zion Williamson</td>\n",
       "      <td>Power Forward\\n\\n\\n  \\n  ▪</td>\n",
       "      <td>198</td>\n",
       "      <td>284</td>\n",
       "      <td>23</td>\n",
       "      <td>3</td>\n",
       "    </tr>\n",
       "    <tr>\n",
       "      <th>650</th>\n",
       "      <td>Zylan Cheatham</td>\n",
       "      <td>Small Forward and Power Forward\\n\\n\\n  \\n  ▪</td>\n",
       "      <td>196</td>\n",
       "      <td>220</td>\n",
       "      <td>28</td>\n",
       "      <td>2</td>\n",
       "    </tr>\n",
       "  </tbody>\n",
       "</table>\n",
       "<p>651 rows × 6 columns</p>\n",
       "</div>"
      ],
      "text/plain": [
       "                Name                                       Position  Height  \\\n",
       "0         A.J. Green                    Shooting Guard\\n\\n\\n  \\n  ▪     193   \n",
       "1       Aaron Gordon   Power Forward and Small Forward\\n\\n\\n  \\n  ▪     203   \n",
       "2        Aaron Henry                     Small Forward\\n\\n\\n  \\n  ▪     198   \n",
       "3      Aaron Holiday                       Point Guard\\n\\n\\n  \\n  ▪     183   \n",
       "4      Aaron Nesmith                     Small Forward\\n\\n\\n  \\n  ▪     196   \n",
       "..               ...                                            ...     ...   \n",
       "646       Zeke Nnaji                     Power Forward\\n\\n\\n  \\n  ▪     206   \n",
       "647     Zhaire Smith  Shooting Guard and Small Forward\\n\\n\\n  \\n  ▪     190   \n",
       "648  Ziaire Williams                     Small Forward\\n\\n\\n  \\n  ▪     206   \n",
       "649  Zion Williamson                     Power Forward\\n\\n\\n  \\n  ▪     198   \n",
       "650   Zylan Cheatham   Small Forward and Power Forward\\n\\n\\n  \\n  ▪     196   \n",
       "\n",
       "     Weight Age Experience  \n",
       "0       200  24          1  \n",
       "1       235  28          9  \n",
       "2       210  24    Unknown  \n",
       "3       185  27          5  \n",
       "4       215  24          3  \n",
       "..      ...  ..        ...  \n",
       "646     240  23          3  \n",
       "647     205  24          2  \n",
       "648     215  22          2  \n",
       "649     284  23          3  \n",
       "650     220  28          2  \n",
       "\n",
       "[651 rows x 6 columns]"
      ]
     },
     "execution_count": 259,
     "metadata": {},
     "output_type": "execute_result"
    }
   ],
   "source": [
    "basic_info = pd.read_csv(\"basic_info.csv\") # run if you accidentally  closed the editor lol\n",
    "last_5_games_df = pd.read_csv(\"last_five_games.csv\")\n",
    "basic_info"
   ]
  },
  {
   "cell_type": "code",
   "execution_count": 262,
   "metadata": {},
   "outputs": [
    {
     "name": "stdout",
     "output_type": "stream",
     "text": [
      "            Name                         Position  Height  Weight Age  \\\n",
      "0     A.J. Green                   Shooting Guard     193     200  24   \n",
      "1   Aaron Gordon  Power Forward and Small Forward     203     235  28   \n",
      "2    Aaron Henry                    Small Forward     198     210  24   \n",
      "3  Aaron Holiday                      Point Guard     183     185  27   \n",
      "4  Aaron Nesmith                    Small Forward     196     215  24   \n",
      "\n",
      "  Experience  Point Guard  Shooting Guard  Power Forward  Small Forward  \\\n",
      "0          1            0               1              0              0   \n",
      "1          9            0               0              1              1   \n",
      "2    Unknown            0               0              0              1   \n",
      "3          5            1               0              0              0   \n",
      "4          3            0               0              0              1   \n",
      "\n",
      "   Center  \n",
      "0       0  \n",
      "1       0  \n",
      "2       0  \n",
      "3       0  \n",
      "4       0  \n"
     ]
    }
   ],
   "source": [
    "\n",
    "# Normalize and clean the position strings if they are not lists yet\n",
    "basic_info['Position'] = basic_info['Position'].apply(lambda x: ' '.join(x) if isinstance(x, list) else x)\n",
    "\n",
    "# Specify the positions you are interested in\n",
    "positions = ['Point Guard', 'Shooting Guard', 'Power Forward', 'Small Forward', 'Center']\n",
    "\n",
    "# Create dummy variables for each position\n",
    "for position in positions:\n",
    "    basic_info[position] = basic_info['Position'].apply(lambda x: 1 if position in x else 0)\n",
    "\n",
    "# Display the result to verify\n",
    "print(basic_info.head())\n"
   ]
  },
  {
   "cell_type": "code",
   "execution_count": 263,
   "metadata": {},
   "outputs": [
    {
     "data": {
      "text/html": [
       "<div>\n",
       "<style scoped>\n",
       "    .dataframe tbody tr th:only-of-type {\n",
       "        vertical-align: middle;\n",
       "    }\n",
       "\n",
       "    .dataframe tbody tr th {\n",
       "        vertical-align: top;\n",
       "    }\n",
       "\n",
       "    .dataframe thead th {\n",
       "        text-align: right;\n",
       "    }\n",
       "</style>\n",
       "<table border=\"1\" class=\"dataframe\">\n",
       "  <thead>\n",
       "    <tr style=\"text-align: right;\">\n",
       "      <th></th>\n",
       "      <th>Name</th>\n",
       "      <th>Position</th>\n",
       "      <th>Height</th>\n",
       "      <th>Weight</th>\n",
       "      <th>Age</th>\n",
       "      <th>Experience</th>\n",
       "      <th>Point Guard</th>\n",
       "      <th>Shooting Guard</th>\n",
       "      <th>Power Forward</th>\n",
       "      <th>Small Forward</th>\n",
       "      <th>Center</th>\n",
       "    </tr>\n",
       "  </thead>\n",
       "  <tbody>\n",
       "    <tr>\n",
       "      <th>0</th>\n",
       "      <td>A.J. Green</td>\n",
       "      <td>Shooting Guard</td>\n",
       "      <td>193</td>\n",
       "      <td>200</td>\n",
       "      <td>24</td>\n",
       "      <td>1</td>\n",
       "      <td>0</td>\n",
       "      <td>1</td>\n",
       "      <td>0</td>\n",
       "      <td>0</td>\n",
       "      <td>0</td>\n",
       "    </tr>\n",
       "    <tr>\n",
       "      <th>1</th>\n",
       "      <td>Aaron Gordon</td>\n",
       "      <td>Power Forward and Small Forward</td>\n",
       "      <td>203</td>\n",
       "      <td>235</td>\n",
       "      <td>28</td>\n",
       "      <td>9</td>\n",
       "      <td>0</td>\n",
       "      <td>0</td>\n",
       "      <td>1</td>\n",
       "      <td>1</td>\n",
       "      <td>0</td>\n",
       "    </tr>\n",
       "    <tr>\n",
       "      <th>2</th>\n",
       "      <td>Aaron Henry</td>\n",
       "      <td>Small Forward</td>\n",
       "      <td>198</td>\n",
       "      <td>210</td>\n",
       "      <td>24</td>\n",
       "      <td>Unknown</td>\n",
       "      <td>0</td>\n",
       "      <td>0</td>\n",
       "      <td>0</td>\n",
       "      <td>1</td>\n",
       "      <td>0</td>\n",
       "    </tr>\n",
       "    <tr>\n",
       "      <th>3</th>\n",
       "      <td>Aaron Holiday</td>\n",
       "      <td>Point Guard</td>\n",
       "      <td>183</td>\n",
       "      <td>185</td>\n",
       "      <td>27</td>\n",
       "      <td>5</td>\n",
       "      <td>1</td>\n",
       "      <td>0</td>\n",
       "      <td>0</td>\n",
       "      <td>0</td>\n",
       "      <td>0</td>\n",
       "    </tr>\n",
       "    <tr>\n",
       "      <th>4</th>\n",
       "      <td>Aaron Nesmith</td>\n",
       "      <td>Small Forward</td>\n",
       "      <td>196</td>\n",
       "      <td>215</td>\n",
       "      <td>24</td>\n",
       "      <td>3</td>\n",
       "      <td>0</td>\n",
       "      <td>0</td>\n",
       "      <td>0</td>\n",
       "      <td>1</td>\n",
       "      <td>0</td>\n",
       "    </tr>\n",
       "    <tr>\n",
       "      <th>...</th>\n",
       "      <td>...</td>\n",
       "      <td>...</td>\n",
       "      <td>...</td>\n",
       "      <td>...</td>\n",
       "      <td>...</td>\n",
       "      <td>...</td>\n",
       "      <td>...</td>\n",
       "      <td>...</td>\n",
       "      <td>...</td>\n",
       "      <td>...</td>\n",
       "      <td>...</td>\n",
       "    </tr>\n",
       "    <tr>\n",
       "      <th>646</th>\n",
       "      <td>Zeke Nnaji</td>\n",
       "      <td>Power Forward</td>\n",
       "      <td>206</td>\n",
       "      <td>240</td>\n",
       "      <td>23</td>\n",
       "      <td>3</td>\n",
       "      <td>0</td>\n",
       "      <td>0</td>\n",
       "      <td>1</td>\n",
       "      <td>0</td>\n",
       "      <td>0</td>\n",
       "    </tr>\n",
       "    <tr>\n",
       "      <th>647</th>\n",
       "      <td>Zhaire Smith</td>\n",
       "      <td>Shooting Guard and Small Forward</td>\n",
       "      <td>190</td>\n",
       "      <td>205</td>\n",
       "      <td>24</td>\n",
       "      <td>2</td>\n",
       "      <td>0</td>\n",
       "      <td>1</td>\n",
       "      <td>0</td>\n",
       "      <td>1</td>\n",
       "      <td>0</td>\n",
       "    </tr>\n",
       "    <tr>\n",
       "      <th>648</th>\n",
       "      <td>Ziaire Williams</td>\n",
       "      <td>Small Forward</td>\n",
       "      <td>206</td>\n",
       "      <td>215</td>\n",
       "      <td>22</td>\n",
       "      <td>2</td>\n",
       "      <td>0</td>\n",
       "      <td>0</td>\n",
       "      <td>0</td>\n",
       "      <td>1</td>\n",
       "      <td>0</td>\n",
       "    </tr>\n",
       "    <tr>\n",
       "      <th>649</th>\n",
       "      <td>Zion Williamson</td>\n",
       "      <td>Power Forward</td>\n",
       "      <td>198</td>\n",
       "      <td>284</td>\n",
       "      <td>23</td>\n",
       "      <td>3</td>\n",
       "      <td>0</td>\n",
       "      <td>0</td>\n",
       "      <td>1</td>\n",
       "      <td>0</td>\n",
       "      <td>0</td>\n",
       "    </tr>\n",
       "    <tr>\n",
       "      <th>650</th>\n",
       "      <td>Zylan Cheatham</td>\n",
       "      <td>Small Forward and Power Forward</td>\n",
       "      <td>196</td>\n",
       "      <td>220</td>\n",
       "      <td>28</td>\n",
       "      <td>2</td>\n",
       "      <td>0</td>\n",
       "      <td>0</td>\n",
       "      <td>1</td>\n",
       "      <td>1</td>\n",
       "      <td>0</td>\n",
       "    </tr>\n",
       "  </tbody>\n",
       "</table>\n",
       "<p>651 rows × 11 columns</p>\n",
       "</div>"
      ],
      "text/plain": [
       "                Name                          Position  Height  Weight Age  \\\n",
       "0         A.J. Green                    Shooting Guard     193     200  24   \n",
       "1       Aaron Gordon   Power Forward and Small Forward     203     235  28   \n",
       "2        Aaron Henry                     Small Forward     198     210  24   \n",
       "3      Aaron Holiday                       Point Guard     183     185  27   \n",
       "4      Aaron Nesmith                     Small Forward     196     215  24   \n",
       "..               ...                               ...     ...     ...  ..   \n",
       "646       Zeke Nnaji                     Power Forward     206     240  23   \n",
       "647     Zhaire Smith  Shooting Guard and Small Forward     190     205  24   \n",
       "648  Ziaire Williams                     Small Forward     206     215  22   \n",
       "649  Zion Williamson                     Power Forward     198     284  23   \n",
       "650   Zylan Cheatham   Small Forward and Power Forward     196     220  28   \n",
       "\n",
       "    Experience  Point Guard  Shooting Guard  Power Forward  Small Forward  \\\n",
       "0            1            0               1              0              0   \n",
       "1            9            0               0              1              1   \n",
       "2      Unknown            0               0              0              1   \n",
       "3            5            1               0              0              0   \n",
       "4            3            0               0              0              1   \n",
       "..         ...          ...             ...            ...            ...   \n",
       "646          3            0               0              1              0   \n",
       "647          2            0               1              0              1   \n",
       "648          2            0               0              0              1   \n",
       "649          3            0               0              1              0   \n",
       "650          2            0               0              1              1   \n",
       "\n",
       "     Center  \n",
       "0         0  \n",
       "1         0  \n",
       "2         0  \n",
       "3         0  \n",
       "4         0  \n",
       "..      ...  \n",
       "646       0  \n",
       "647       0  \n",
       "648       0  \n",
       "649       0  \n",
       "650       0  \n",
       "\n",
       "[651 rows x 11 columns]"
      ]
     },
     "execution_count": 263,
     "metadata": {},
     "output_type": "execute_result"
    }
   ],
   "source": [
    "basic_info"
   ]
  },
  {
   "cell_type": "code",
   "execution_count": 218,
   "metadata": {},
   "outputs": [
    {
     "data": {
      "text/html": [
       "<div>\n",
       "<style scoped>\n",
       "    .dataframe tbody tr th:only-of-type {\n",
       "        vertical-align: middle;\n",
       "    }\n",
       "\n",
       "    .dataframe tbody tr th {\n",
       "        vertical-align: top;\n",
       "    }\n",
       "\n",
       "    .dataframe thead th {\n",
       "        text-align: right;\n",
       "    }\n",
       "</style>\n",
       "<table border=\"1\" class=\"dataframe\">\n",
       "  <thead>\n",
       "    <tr style=\"text-align: right;\">\n",
       "      <th></th>\n",
       "      <th>Player</th>\n",
       "      <th>Days Since Last Injury</th>\n",
       "      <th>Got Injured</th>\n",
       "      <th>core</th>\n",
       "      <th>upper body</th>\n",
       "      <th>ligament</th>\n",
       "      <th>foot</th>\n",
       "      <th>back</th>\n",
       "    </tr>\n",
       "  </thead>\n",
       "  <tbody>\n",
       "    <tr>\n",
       "      <th>0</th>\n",
       "      <td>(JAMES) MIKE SCOTT</td>\n",
       "      <td>615</td>\n",
       "      <td>0</td>\n",
       "      <td>0</td>\n",
       "      <td>0</td>\n",
       "      <td>0</td>\n",
       "      <td>0</td>\n",
       "      <td>0</td>\n",
       "    </tr>\n",
       "    <tr>\n",
       "      <th>1</th>\n",
       "      <td>(SEAN) CHRIS SMITH</td>\n",
       "      <td>284</td>\n",
       "      <td>0</td>\n",
       "      <td>0</td>\n",
       "      <td>0</td>\n",
       "      <td>0</td>\n",
       "      <td>0</td>\n",
       "      <td>0</td>\n",
       "    </tr>\n",
       "    <tr>\n",
       "      <th>2</th>\n",
       "      <td>A.J. GREEN</td>\n",
       "      <td>64</td>\n",
       "      <td>0</td>\n",
       "      <td>0</td>\n",
       "      <td>0</td>\n",
       "      <td>0</td>\n",
       "      <td>0</td>\n",
       "      <td>0</td>\n",
       "    </tr>\n",
       "    <tr>\n",
       "      <th>3</th>\n",
       "      <td>AARON GORDON</td>\n",
       "      <td>5</td>\n",
       "      <td>0</td>\n",
       "      <td>0</td>\n",
       "      <td>0</td>\n",
       "      <td>0</td>\n",
       "      <td>1</td>\n",
       "      <td>0</td>\n",
       "    </tr>\n",
       "    <tr>\n",
       "      <th>4</th>\n",
       "      <td>AARON HENRY</td>\n",
       "      <td>367</td>\n",
       "      <td>0</td>\n",
       "      <td>0</td>\n",
       "      <td>0</td>\n",
       "      <td>0</td>\n",
       "      <td>0</td>\n",
       "      <td>0</td>\n",
       "    </tr>\n",
       "    <tr>\n",
       "      <th>...</th>\n",
       "      <td>...</td>\n",
       "      <td>...</td>\n",
       "      <td>...</td>\n",
       "      <td>...</td>\n",
       "      <td>...</td>\n",
       "      <td>...</td>\n",
       "      <td>...</td>\n",
       "      <td>...</td>\n",
       "    </tr>\n",
       "    <tr>\n",
       "      <th>703</th>\n",
       "      <td>ZHAIRE SMITH</td>\n",
       "      <td>1057</td>\n",
       "      <td>1</td>\n",
       "      <td>0</td>\n",
       "      <td>0</td>\n",
       "      <td>0</td>\n",
       "      <td>0</td>\n",
       "      <td>0</td>\n",
       "    </tr>\n",
       "    <tr>\n",
       "      <th>704</th>\n",
       "      <td>ZIAIRE WILLIAMS</td>\n",
       "      <td>74</td>\n",
       "      <td>1</td>\n",
       "      <td>0</td>\n",
       "      <td>0</td>\n",
       "      <td>0</td>\n",
       "      <td>0</td>\n",
       "      <td>0</td>\n",
       "    </tr>\n",
       "    <tr>\n",
       "      <th>705</th>\n",
       "      <td>ZION WILLIAMSON</td>\n",
       "      <td>10</td>\n",
       "      <td>0</td>\n",
       "      <td>0</td>\n",
       "      <td>0</td>\n",
       "      <td>0</td>\n",
       "      <td>2</td>\n",
       "      <td>1</td>\n",
       "    </tr>\n",
       "    <tr>\n",
       "      <th>706</th>\n",
       "      <td>ZYLAN CHEATHAM</td>\n",
       "      <td>368</td>\n",
       "      <td>0</td>\n",
       "      <td>0</td>\n",
       "      <td>0</td>\n",
       "      <td>0</td>\n",
       "      <td>0</td>\n",
       "      <td>0</td>\n",
       "    </tr>\n",
       "    <tr>\n",
       "      <th>707</th>\n",
       "      <td>LEFT WRIST INJURY (DTD)</td>\n",
       "      <td>735</td>\n",
       "      <td>1</td>\n",
       "      <td>0</td>\n",
       "      <td>0</td>\n",
       "      <td>0</td>\n",
       "      <td>0</td>\n",
       "      <td>0</td>\n",
       "    </tr>\n",
       "  </tbody>\n",
       "</table>\n",
       "<p>708 rows × 8 columns</p>\n",
       "</div>"
      ],
      "text/plain": [
       "                      Player  Days Since Last Injury  Got Injured  core  \\\n",
       "0         (JAMES) MIKE SCOTT                     615            0     0   \n",
       "1         (SEAN) CHRIS SMITH                     284            0     0   \n",
       "2                 A.J. GREEN                      64            0     0   \n",
       "3               AARON GORDON                       5            0     0   \n",
       "4                AARON HENRY                     367            0     0   \n",
       "..                       ...                     ...          ...   ...   \n",
       "703             ZHAIRE SMITH                    1057            1     0   \n",
       "704          ZIAIRE WILLIAMS                      74            1     0   \n",
       "705          ZION WILLIAMSON                      10            0     0   \n",
       "706           ZYLAN CHEATHAM                     368            0     0   \n",
       "707  LEFT WRIST INJURY (DTD)                     735            1     0   \n",
       "\n",
       "     upper body  ligament  foot  back  \n",
       "0             0         0     0     0  \n",
       "1             0         0     0     0  \n",
       "2             0         0     0     0  \n",
       "3             0         0     1     0  \n",
       "4             0         0     0     0  \n",
       "..          ...       ...   ...   ...  \n",
       "703           0         0     0     0  \n",
       "704           0         0     0     0  \n",
       "705           0         0     2     1  \n",
       "706           0         0     0     0  \n",
       "707           0         0     0     0  \n",
       "\n",
       "[708 rows x 8 columns]"
      ]
     },
     "execution_count": 218,
     "metadata": {},
     "output_type": "execute_result"
    }
   ],
   "source": [
    "grouped_df"
   ]
  },
  {
   "cell_type": "code",
   "execution_count": 264,
   "metadata": {},
   "outputs": [],
   "source": [
    "# Run this if you are importing from the csv\n",
    "import ast\n",
    "past_games_data_temp = last_5_games_df.copy()\n",
    "\n",
    "past_games_data_temp['Last_5_Games'] = past_games_data_temp['Last_5_Games'].apply(ast.literal_eval)\n",
    "\n",
    "# Expand the lists into separate columns\n",
    "past_games_data_temp[['Game_1', 'Game_2', 'Game_3', 'Game_4', 'Game_5']] = pd.DataFrame(past_games_data_temp['Last_5_Games'].tolist(), index=past_games_data_temp.index)\n",
    "\n",
    "# Optionally drop the original 'Last_5_Games' column\n",
    "past_games_data_temp.drop('Last_5_Games', axis=1, inplace=True)"
   ]
  },
  {
   "cell_type": "code",
   "execution_count": 265,
   "metadata": {},
   "outputs": [
    {
     "data": {
      "text/html": [
       "<div>\n",
       "<style scoped>\n",
       "    .dataframe tbody tr th:only-of-type {\n",
       "        vertical-align: middle;\n",
       "    }\n",
       "\n",
       "    .dataframe tbody tr th {\n",
       "        vertical-align: top;\n",
       "    }\n",
       "\n",
       "    .dataframe thead th {\n",
       "        text-align: right;\n",
       "    }\n",
       "</style>\n",
       "<table border=\"1\" class=\"dataframe\">\n",
       "  <thead>\n",
       "    <tr style=\"text-align: right;\">\n",
       "      <th></th>\n",
       "      <th>Name</th>\n",
       "      <th>Position</th>\n",
       "      <th>Height</th>\n",
       "      <th>Weight</th>\n",
       "      <th>Age</th>\n",
       "      <th>Experience</th>\n",
       "      <th>Point Guard</th>\n",
       "      <th>Shooting Guard</th>\n",
       "      <th>Power Forward</th>\n",
       "      <th>Small Forward</th>\n",
       "      <th>Center</th>\n",
       "    </tr>\n",
       "  </thead>\n",
       "  <tbody>\n",
       "    <tr>\n",
       "      <th>0</th>\n",
       "      <td>A.J. Green</td>\n",
       "      <td>Shooting Guard</td>\n",
       "      <td>193</td>\n",
       "      <td>200</td>\n",
       "      <td>24</td>\n",
       "      <td>1</td>\n",
       "      <td>0</td>\n",
       "      <td>1</td>\n",
       "      <td>0</td>\n",
       "      <td>0</td>\n",
       "      <td>0</td>\n",
       "    </tr>\n",
       "    <tr>\n",
       "      <th>1</th>\n",
       "      <td>Aaron Gordon</td>\n",
       "      <td>Power Forward and Small Forward</td>\n",
       "      <td>203</td>\n",
       "      <td>235</td>\n",
       "      <td>28</td>\n",
       "      <td>9</td>\n",
       "      <td>0</td>\n",
       "      <td>0</td>\n",
       "      <td>1</td>\n",
       "      <td>1</td>\n",
       "      <td>0</td>\n",
       "    </tr>\n",
       "    <tr>\n",
       "      <th>2</th>\n",
       "      <td>Aaron Henry</td>\n",
       "      <td>Small Forward</td>\n",
       "      <td>198</td>\n",
       "      <td>210</td>\n",
       "      <td>24</td>\n",
       "      <td>Unknown</td>\n",
       "      <td>0</td>\n",
       "      <td>0</td>\n",
       "      <td>0</td>\n",
       "      <td>1</td>\n",
       "      <td>0</td>\n",
       "    </tr>\n",
       "    <tr>\n",
       "      <th>3</th>\n",
       "      <td>Aaron Holiday</td>\n",
       "      <td>Point Guard</td>\n",
       "      <td>183</td>\n",
       "      <td>185</td>\n",
       "      <td>27</td>\n",
       "      <td>5</td>\n",
       "      <td>1</td>\n",
       "      <td>0</td>\n",
       "      <td>0</td>\n",
       "      <td>0</td>\n",
       "      <td>0</td>\n",
       "    </tr>\n",
       "    <tr>\n",
       "      <th>4</th>\n",
       "      <td>Aaron Nesmith</td>\n",
       "      <td>Small Forward</td>\n",
       "      <td>196</td>\n",
       "      <td>215</td>\n",
       "      <td>24</td>\n",
       "      <td>3</td>\n",
       "      <td>0</td>\n",
       "      <td>0</td>\n",
       "      <td>0</td>\n",
       "      <td>1</td>\n",
       "      <td>0</td>\n",
       "    </tr>\n",
       "    <tr>\n",
       "      <th>...</th>\n",
       "      <td>...</td>\n",
       "      <td>...</td>\n",
       "      <td>...</td>\n",
       "      <td>...</td>\n",
       "      <td>...</td>\n",
       "      <td>...</td>\n",
       "      <td>...</td>\n",
       "      <td>...</td>\n",
       "      <td>...</td>\n",
       "      <td>...</td>\n",
       "      <td>...</td>\n",
       "    </tr>\n",
       "    <tr>\n",
       "      <th>646</th>\n",
       "      <td>Zeke Nnaji</td>\n",
       "      <td>Power Forward</td>\n",
       "      <td>206</td>\n",
       "      <td>240</td>\n",
       "      <td>23</td>\n",
       "      <td>3</td>\n",
       "      <td>0</td>\n",
       "      <td>0</td>\n",
       "      <td>1</td>\n",
       "      <td>0</td>\n",
       "      <td>0</td>\n",
       "    </tr>\n",
       "    <tr>\n",
       "      <th>647</th>\n",
       "      <td>Zhaire Smith</td>\n",
       "      <td>Shooting Guard and Small Forward</td>\n",
       "      <td>190</td>\n",
       "      <td>205</td>\n",
       "      <td>24</td>\n",
       "      <td>2</td>\n",
       "      <td>0</td>\n",
       "      <td>1</td>\n",
       "      <td>0</td>\n",
       "      <td>1</td>\n",
       "      <td>0</td>\n",
       "    </tr>\n",
       "    <tr>\n",
       "      <th>648</th>\n",
       "      <td>Ziaire Williams</td>\n",
       "      <td>Small Forward</td>\n",
       "      <td>206</td>\n",
       "      <td>215</td>\n",
       "      <td>22</td>\n",
       "      <td>2</td>\n",
       "      <td>0</td>\n",
       "      <td>0</td>\n",
       "      <td>0</td>\n",
       "      <td>1</td>\n",
       "      <td>0</td>\n",
       "    </tr>\n",
       "    <tr>\n",
       "      <th>649</th>\n",
       "      <td>Zion Williamson</td>\n",
       "      <td>Power Forward</td>\n",
       "      <td>198</td>\n",
       "      <td>284</td>\n",
       "      <td>23</td>\n",
       "      <td>3</td>\n",
       "      <td>0</td>\n",
       "      <td>0</td>\n",
       "      <td>1</td>\n",
       "      <td>0</td>\n",
       "      <td>0</td>\n",
       "    </tr>\n",
       "    <tr>\n",
       "      <th>650</th>\n",
       "      <td>Zylan Cheatham</td>\n",
       "      <td>Small Forward and Power Forward</td>\n",
       "      <td>196</td>\n",
       "      <td>220</td>\n",
       "      <td>28</td>\n",
       "      <td>2</td>\n",
       "      <td>0</td>\n",
       "      <td>0</td>\n",
       "      <td>1</td>\n",
       "      <td>1</td>\n",
       "      <td>0</td>\n",
       "    </tr>\n",
       "  </tbody>\n",
       "</table>\n",
       "<p>651 rows × 11 columns</p>\n",
       "</div>"
      ],
      "text/plain": [
       "                Name                          Position  Height  Weight Age  \\\n",
       "0         A.J. Green                    Shooting Guard     193     200  24   \n",
       "1       Aaron Gordon   Power Forward and Small Forward     203     235  28   \n",
       "2        Aaron Henry                     Small Forward     198     210  24   \n",
       "3      Aaron Holiday                       Point Guard     183     185  27   \n",
       "4      Aaron Nesmith                     Small Forward     196     215  24   \n",
       "..               ...                               ...     ...     ...  ..   \n",
       "646       Zeke Nnaji                     Power Forward     206     240  23   \n",
       "647     Zhaire Smith  Shooting Guard and Small Forward     190     205  24   \n",
       "648  Ziaire Williams                     Small Forward     206     215  22   \n",
       "649  Zion Williamson                     Power Forward     198     284  23   \n",
       "650   Zylan Cheatham   Small Forward and Power Forward     196     220  28   \n",
       "\n",
       "    Experience  Point Guard  Shooting Guard  Power Forward  Small Forward  \\\n",
       "0            1            0               1              0              0   \n",
       "1            9            0               0              1              1   \n",
       "2      Unknown            0               0              0              1   \n",
       "3            5            1               0              0              0   \n",
       "4            3            0               0              0              1   \n",
       "..         ...          ...             ...            ...            ...   \n",
       "646          3            0               0              1              0   \n",
       "647          2            0               1              0              1   \n",
       "648          2            0               0              0              1   \n",
       "649          3            0               0              1              0   \n",
       "650          2            0               0              1              1   \n",
       "\n",
       "     Center  \n",
       "0         0  \n",
       "1         0  \n",
       "2         0  \n",
       "3         0  \n",
       "4         0  \n",
       "..      ...  \n",
       "646       0  \n",
       "647       0  \n",
       "648       0  \n",
       "649       0  \n",
       "650       0  \n",
       "\n",
       "[651 rows x 11 columns]"
      ]
     },
     "execution_count": 265,
     "metadata": {},
     "output_type": "execute_result"
    }
   ],
   "source": [
    "basic_info"
   ]
  },
  {
   "cell_type": "code",
   "execution_count": 266,
   "metadata": {},
   "outputs": [
    {
     "name": "stderr",
     "output_type": "stream",
     "text": [
      "/var/folders/7z/7q00pypj1_sf2clps66cxc9r0000gn/T/ipykernel_2964/3511381683.py:48: FutureWarning: A value is trying to be set on a copy of a DataFrame or Series through chained assignment using an inplace method.\n",
      "The behavior will change in pandas 3.0. This inplace method will never work because the intermediate object on which we are setting values always behaves as a copy.\n",
      "\n",
      "For example, when doing 'df[col].method(value, inplace=True)', try using 'df.method({col: value}, inplace=True)' or df[col] = df[col].method(value) instead, to perform the operation inplace on the original object.\n",
      "\n",
      "\n",
      "  current_game_player_data['Age'].fillna(0, inplace=True)\n",
      "/var/folders/7z/7q00pypj1_sf2clps66cxc9r0000gn/T/ipykernel_2964/3511381683.py:49: FutureWarning: A value is trying to be set on a copy of a DataFrame or Series through chained assignment using an inplace method.\n",
      "The behavior will change in pandas 3.0. This inplace method will never work because the intermediate object on which we are setting values always behaves as a copy.\n",
      "\n",
      "For example, when doing 'df[col].method(value, inplace=True)', try using 'df.method({col: value}, inplace=True)' or df[col] = df[col].method(value) instead, to perform the operation inplace on the original object.\n",
      "\n",
      "\n",
      "  current_game_player_data['Experience'].fillna(0, inplace=True)\n"
     ]
    }
   ],
   "source": [
    "# Preprocessing data\n",
    "import torch\n",
    "import ast\n",
    "from torch import nn\n",
    "import numpy as np\n",
    "from torch.utils.data import DataLoader, TensorDataset\n",
    "import torch\n",
    "from sklearn.model_selection import train_test_split\n",
    "from sklearn.utils.class_weight import compute_class_weight\n",
    "from imblearn.over_sampling import ADASYN\n",
    "\n",
    "\n",
    "\n",
    "\n",
    "grouped_df['Player'] = grouped_df['Player'].str.upper().str.strip()\n",
    "basic_info['Name'] = basic_info['Name'].str.upper().str.strip()\n",
    "\n",
    "filtered_grouped_df = grouped_df[grouped_df['Player'].isin(basic_info['Name'])]\n",
    "current_game_player_data = basic_info.copy()\n",
    "past_injuries_data_temp = filtered_grouped_df.copy()\n",
    "past_games_data_temp = last_5_games_df.copy()\n",
    "\n",
    "past_games_data_temp['Last_5_Games'] = past_games_data_temp['Last_5_Games'].apply(ast.literal_eval)\n",
    "\n",
    "# Expand the lists into separate columns\n",
    "past_games_data_temp[['Game_1', 'Game_2', 'Game_3', 'Game_4', 'Game_5']] = pd.DataFrame(past_games_data_temp['Last_5_Games'].tolist(), index=past_games_data_temp.index)\n",
    "\n",
    "# Optionally drop the original 'Last_5_Games' column\n",
    "past_games_data_temp.drop('Last_5_Games', axis=1, inplace=True)\n",
    "\n",
    "past_games_data = past_games_data_temp\n",
    "past_injuries_data = past_injuries_data_temp.drop('Got Injured', axis=1)  # Drop the label column to create features\n",
    "#past_injuries_data.drop('List of Past Injuries', axis = 1, inplace= True)\n",
    "labels = past_injuries_data_temp['Got Injured']  # Isolate the label column\n",
    "\n",
    "past_games_data.drop('Name', axis =1, inplace=True)\n",
    "if past_games_data_temp.isnull().any().any():\n",
    "    past_games_data_temp.fillna(0, inplace=True)  # Or another appropriate fill value\n",
    "\n",
    "past_injuries_data.drop('Player', axis =1, inplace = True)\n",
    "current_game_player_data.drop('Name', axis =1, inplace =True)\n",
    "current_game_player_data.drop('Position', axis =1, inplace =True)\n",
    "# Convert 'Age' and 'Experience' to numeric types, coercing errors to NaN (or a default value)\n",
    "current_game_player_data['Age'] = pd.to_numeric(current_game_player_data['Age'], errors='coerce')\n",
    "current_game_player_data['Experience'] = pd.to_numeric(current_game_player_data['Experience'], errors='coerce')\n",
    "\n",
    "# Optionally fill NaNs with a default value, such as 0 or the mean/median of the column\n",
    "current_game_player_data['Age'].fillna(0, inplace=True)\n",
    "current_game_player_data['Experience'].fillna(0, inplace=True)\n",
    "\n",
    "# Convert to integer if that is more appropriate\n",
    "current_game_player_data['Age'] = current_game_player_data['Age'].astype(int)\n",
    "current_game_player_data['Experience'] = current_game_player_data['Experience'].astype(int)\n",
    "\n",
    "\n",
    "# Convert DataFrames/Series to tensors\n",
    "past_injuries_tensor = torch.tensor(past_injuries_data.values, dtype=torch.float32)\n",
    "past_games_tensor = torch.tensor(past_games_data.values, dtype=torch.float32)\n",
    "current_game_player_tensor = torch.tensor(current_game_player_data.values, dtype=torch.float32)\n",
    "labels_tensor = torch.tensor(labels.values, dtype=torch.long)  # Assuming labels are categorical for CrossEntropyLoss\n",
    "\n",
    "# Split the data into training and testing sets\n",
    "train_idx, test_idx = train_test_split(\n",
    "    range(len(labels_tensor)),\n",
    "    test_size=0.2,\n",
    "    stratify=labels_tensor\n",
    ")\n",
    "\n",
    "# Creating training and testing datasets using indices\n",
    "train_dataset = TensorDataset(\n",
    "    past_injuries_tensor[train_idx],\n",
    "    past_games_tensor[train_idx],\n",
    "    current_game_player_tensor[train_idx],\n",
    "    labels_tensor[train_idx]\n",
    ")\n",
    "\n",
    "test_dataset = TensorDataset(\n",
    "    past_injuries_tensor[test_idx],\n",
    "    past_games_tensor[test_idx],\n",
    "    current_game_player_tensor[test_idx],\n",
    "    labels_tensor[test_idx]\n",
    ")\n",
    "\n",
    "def manual_oversample(features_tensors, labels_tensor):\n",
    "    # Convert tensors to numpy arrays for easier manipulation\n",
    "    features_np = [tensor.numpy() for tensor in features_tensors]\n",
    "    labels_np = labels_tensor.numpy()\n",
    "    \n",
    "    # Find the unique classes and their counts\n",
    "    classes, counts = np.unique(labels_np, return_counts=True)\n",
    "    max_count = np.max(counts)\n",
    "    \n",
    "    # Determine the indices to replicate for each class to balance the dataset\n",
    "    resampled_features = [list() for _ in features_tensors]  # Use lists to collect arrays\n",
    "    resampled_labels = []\n",
    "\n",
    "    for cls in classes:\n",
    "        cls_indices = np.where(labels_np == cls)[0]\n",
    "        oversample_indices = np.random.choice(cls_indices, size=max_count, replace=True)\n",
    "        resampled_labels.extend(labels_np[oversample_indices])\n",
    "        for i, feature_set in enumerate(features_np):\n",
    "            resampled_features[i].extend(feature_set[oversample_indices])\n",
    "\n",
    "    # Convert list of arrays into correctly shaped numpy arrays and then to tensors\n",
    "    resampled_features_tensors = [torch.tensor(np.array(feature), dtype=torch.float32) for feature in resampled_features]\n",
    "    resampled_labels_tensor = torch.tensor(resampled_labels, dtype=torch.long)\n",
    "    \n",
    "    return resampled_features_tensors, resampled_labels_tensor\n",
    "\n",
    "# Apply manual oversampling to the training data\n",
    "resampled_features_tensors, resampled_labels_tensor = manual_oversample(\n",
    "    [past_injuries_tensor[train_idx], past_games_tensor[train_idx], current_game_player_tensor[train_idx]],\n",
    "    labels_tensor[train_idx]\n",
    ")\n",
    "\n",
    "# Create the new balanced training dataset\n",
    "balanced_train_dataset = TensorDataset(\n",
    "    *resampled_features_tensors,  # Unpack the list of tensors\n",
    "    resampled_labels_tensor\n",
    ")\n"
   ]
  },
  {
   "cell_type": "code",
   "execution_count": 229,
   "metadata": {},
   "outputs": [
    {
     "name": "stdout",
     "output_type": "stream",
     "text": [
      "Channels:\n",
      " - defaults\n",
      "Platform: osx-64\n",
      "Collecting package metadata (repodata.json): done\n",
      "Solving environment: done\n",
      "\n",
      "## Package Plan ##\n",
      "\n",
      "  environment location: /Users/michaeldelarosa/opt/anaconda3\n",
      "\n",
      "  added / updated specs:\n",
      "    - threadpoolctl\n",
      "\n",
      "\n",
      "The following NEW packages will be INSTALLED:\n",
      "\n",
      "  threadpoolctl      pkgs/main/noarch::threadpoolctl-2.2.0-pyh0d69192_0 \n",
      "\n",
      "\n",
      "Proceed ([y]/n)? ^C\n",
      "\n",
      "CondaSystemExit: \n",
      "Operation aborted.  Exiting.\n",
      "\n"
     ]
    }
   ],
   "source": [
    "!conda install threadpoolctl"
   ]
  },
  {
   "cell_type": "code",
   "execution_count": 257,
   "metadata": {},
   "outputs": [
    {
     "data": {
      "text/plain": [
       "torch.Size([651, 21])"
      ]
     },
     "execution_count": 257,
     "metadata": {},
     "output_type": "execute_result"
    }
   ],
   "source": [
    "current_game_player_tensor.shape"
   ]
  },
  {
   "cell_type": "code",
   "execution_count": 267,
   "metadata": {},
   "outputs": [
    {
     "name": "stdout",
     "output_type": "stream",
     "text": [
      "Sample shape: (9,)\n",
      "here\n",
      "66\n",
      "Sample shape: (9,)\n",
      "here\n",
      "41\n",
      "Sample shape: (9,)\n",
      "here\n",
      "21\n",
      "Sample shape: (9,)\n",
      "here\n",
      "109\n",
      "Sample shape: (9,)\n",
      "here\n",
      "115\n",
      "Sample shape: (9,)\n",
      "here\n",
      "85\n",
      "Sample shape: (9,)\n",
      "here\n",
      "35\n",
      "Sample shape: (9,)\n",
      "here\n",
      "54\n",
      "Sample shape: (9,)\n",
      "here\n",
      "12\n",
      "Sample shape: (9,)\n",
      "here\n",
      "35\n",
      "Sample shape: (9,)\n",
      "here\n",
      "46\n",
      "Sample shape: (9,)\n",
      "here\n",
      "111\n",
      "Sample shape: (9,)\n",
      "here\n",
      "90\n",
      "Sample shape: (9,)\n",
      "here\n",
      "116\n",
      "Sample shape: (9,)\n",
      "here\n",
      "38\n",
      "Sample shape: (9,)\n",
      "here\n",
      "120\n",
      "Sample shape: (9,)\n",
      "here\n",
      "67\n",
      "Sample shape: (9,)\n",
      "here\n",
      "29\n",
      "Sample shape: (9,)\n",
      "here\n",
      "18\n",
      "Sample shape: (9,)\n",
      "here\n",
      "71\n",
      "Sample shape: (9,)\n",
      "here\n",
      "58\n",
      "Sample shape: (9,)\n",
      "here\n",
      "91\n",
      "Sample shape: (9,)\n",
      "here\n",
      "25\n",
      "Sample shape: (9,)\n",
      "here\n",
      "19\n",
      "Sample shape: (9,)\n",
      "here\n",
      "48\n",
      "Sample shape: (9,)\n",
      "here\n",
      "89\n",
      "Sample shape: (9,)\n",
      "here\n",
      "132\n",
      "Sample shape: (9,)\n",
      "here\n",
      "136\n",
      "Sample shape: (9,)\n",
      "here\n",
      "9\n",
      "Sample shape: (9,)\n",
      "here\n",
      "91\n",
      "Sample shape: (9,)\n",
      "here\n",
      "87\n",
      "Sample shape: (9,)\n",
      "here\n",
      "91\n",
      "Sample shape: (9,)\n",
      "here\n",
      "20\n",
      "Sample shape: (9,)\n",
      "here\n",
      "19\n",
      "Sample shape: (9,)\n",
      "here\n",
      "142\n",
      "Sample shape: (9,)\n",
      "here\n",
      "19\n",
      "Sample shape: (9,)\n",
      "here\n",
      "92\n",
      "Sample shape: (9,)\n",
      "here\n",
      "94\n",
      "Sample shape: (9,)\n",
      "here\n",
      "114\n",
      "Sample shape: (9,)\n",
      "here\n",
      "71\n",
      "Sample shape: (9,)\n",
      "here\n",
      "139\n",
      "Sample shape: (9,)\n",
      "here\n",
      "91\n",
      "Sample shape: (9,)\n",
      "here\n",
      "65\n",
      "Sample shape: (9,)\n",
      "here\n",
      "127\n",
      "Sample shape: (9,)\n",
      "here\n",
      "117\n",
      "Sample shape: (9,)\n",
      "here\n",
      "14\n",
      "Sample shape: (9,)\n",
      "here\n",
      "45\n",
      "Sample shape: (9,)\n",
      "here\n",
      "126\n",
      "Sample shape: (9,)\n",
      "here\n",
      "43\n",
      "Sample shape: (9,)\n",
      "here\n",
      "118\n",
      "Sample shape: (9,)\n",
      "here\n",
      "77\n",
      "Sample shape: (9,)\n",
      "here\n",
      "47\n",
      "Sample shape: (9,)\n",
      "here\n",
      "81\n",
      "Sample shape: (9,)\n",
      "here\n",
      "137\n",
      "Sample shape: (9,)\n",
      "here\n",
      "111\n",
      "Sample shape: (9,)\n",
      "here\n",
      "32\n",
      "Sample shape: (9,)\n",
      "here\n",
      "1\n",
      "Sample shape: (9,)\n",
      "here\n",
      "23\n",
      "Sample shape: (9,)\n",
      "here\n",
      "43\n",
      "Sample shape: (9,)\n",
      "here\n",
      "64\n",
      "Sample shape: (9,)\n",
      "here\n",
      "137\n",
      "Sample shape: (9,)\n",
      "here\n",
      "28\n",
      "Sample shape: (9,)\n",
      "here\n",
      "109\n",
      "Sample shape: (9,)\n",
      "here\n",
      "84\n",
      "Sample shape: (9,)\n",
      "here\n",
      "136\n",
      "Sample shape: (9,)\n",
      "here\n",
      "9\n",
      "Sample shape: (9,)\n",
      "here\n",
      "138\n",
      "Sample shape: (9,)\n",
      "here\n",
      "104\n",
      "Sample shape: (9,)\n",
      "here\n",
      "48\n",
      "Sample shape: (9,)\n",
      "here\n",
      "123\n",
      "Sample shape: (9,)\n",
      "here\n",
      "80\n",
      "Sample shape: (9,)\n",
      "here\n",
      "82\n",
      "Sample shape: (9,)\n",
      "here\n",
      "87\n",
      "Sample shape: (9,)\n",
      "here\n",
      "53\n",
      "Sample shape: (9,)\n",
      "here\n",
      "9\n",
      "Sample shape: (9,)\n",
      "here\n",
      "46\n",
      "Sample shape: (9,)\n",
      "here\n",
      "12\n",
      "Sample shape: (9,)\n",
      "here\n",
      "29\n",
      "Sample shape: (9,)\n",
      "here\n",
      "95\n",
      "Sample shape: (9,)\n",
      "here\n",
      "134\n",
      "Sample shape: (9,)\n",
      "here\n",
      "35\n",
      "Sample shape: (9,)\n",
      "here\n",
      "123\n",
      "Sample shape: (9,)\n",
      "here\n",
      "132\n",
      "Sample shape: (9,)\n",
      "here\n",
      "81\n",
      "Sample shape: (9,)\n",
      "here\n",
      "33\n",
      "Sample shape: (9,)\n",
      "here\n",
      "70\n",
      "Sample shape: (9,)\n",
      "here\n",
      "93\n",
      "Sample shape: (9,)\n",
      "here\n",
      "5\n",
      "Sample shape: (9,)\n",
      "here\n",
      "28\n",
      "Sample shape: (9,)\n",
      "here\n",
      "125\n",
      "Sample shape: (9,)\n",
      "here\n",
      "98\n",
      "Sample shape: (9,)\n",
      "here\n",
      "18\n",
      "Sample shape: (9,)\n",
      "here\n",
      "134\n",
      "Sample shape: (9,)\n",
      "here\n",
      "131\n",
      "Sample shape: (9,)\n",
      "here\n",
      "14\n",
      "Sample shape: (9,)\n",
      "here\n",
      "109\n",
      "Sample shape: (9,)\n",
      "here\n",
      "18\n",
      "Sample shape: (9,)\n",
      "here\n",
      "6\n",
      "Sample shape: (9,)\n",
      "here\n",
      "39\n",
      "Sample shape: (9,)\n",
      "here\n",
      "129\n"
     ]
    }
   ],
   "source": [
    "# Trying and implementing SMOTE\n",
    "import torch\n",
    "\n",
    "# Count class occurrences\n",
    "unique, counts = labels_tensor.unique(return_counts=True)\n",
    "class_distribution = dict(zip(unique.tolist(), counts.tolist()))\n",
    "\n",
    "# Identify the minority class\n",
    "minority_class = min(class_distribution, key=class_distribution.get)\n",
    "\n",
    "minority_indices = (labels_tensor == minority_class).nonzero(as_tuple=True)[0]\n",
    "\n",
    "# Tensors of the minority class\n",
    "minority_injuries = past_injuries_tensor[minority_indices]\n",
    "minority_games = past_games_tensor[minority_indices]\n",
    "minority_players = current_game_player_tensor[minority_indices]\n",
    "\n",
    "from sklearn.neighbors import NearestNeighbors\n",
    "import numpy as np\n",
    "def smote(data, n_samples, k=5):\n",
    "    n_minority_samples, n_features = data.shape\n",
    "    synthetic_samples = np.zeros((n_samples, n_features))\n",
    "\n",
    "    neigh = NearestNeighbors(n_neighbors=k)\n",
    "    neigh.fit(data)\n",
    "    \n",
    "    for i in range(n_samples):\n",
    "        idx = np.random.randint(0, n_minority_samples)\n",
    "        sample = data[idx]\n",
    "       \n",
    "        print(\"Sample shape:\", sample.shape)  \n",
    "        # Ensure that the sample is properly shaped\n",
    "        sample = sample.reshape(1, -1)\n",
    "        _, nn_indices = neigh.kneighbors(sample)\n",
    "        print('here')\n",
    "        nn_idx = np.random.choice(nn_indices[0])\n",
    "        print(nn_idx)\n",
    "        # Create the synthetic sample\n",
    "        diff = data[nn_idx] - data[idx]\n",
    "        synthetic_samples[i] = data[idx] + np.random.rand() * diff\n",
    "    \n",
    "    return synthetic_samples\n",
    "\n",
    "# Number of samples to generate\n",
    "n_samples = 100  # adjust based on your requirement\n",
    "\n",
    "# Convert tensors to numpy arrays for SMOTE\n",
    "minority_injuries_np = minority_injuries.numpy()\n",
    "minority_games_np = minority_games.numpy()\n",
    "minority_players_np = minority_players.numpy()\n",
    "\n",
    "\n",
    "#synthetic_injuries = smote(minority_injuries_np, n_samples)\n",
    "#synthetic_games = smote(minority_games_np, n_samples)\n",
    "synthetic_players = smote(minority_players_np, n_samples)\n",
    "\n",
    "synthetic_injuries_tensor = torch.tensor(synthetic_injuries, dtype=torch.float32)\n",
    "synthetic_games_tensor = torch.tensor(synthetic_games, dtype=torch.float32)\n",
    "synthetic_players_tensor = torch.tensor(synthetic_players, dtype=torch.float32)\n",
    "synthetic_labels_tensor = torch.tensor([minority_class] * n_samples, dtype=torch.long)\n",
    "\n",
    "# Combine the original and synthetic data\n",
    "combined_injuries_tensor = torch.cat((past_injuries_tensor, synthetic_injuries_tensor), 0)\n",
    "combined_games_tensor = torch.cat((past_games_tensor, synthetic_games_tensor), 0)\n",
    "combined_players_tensor = torch.cat((current_game_player_tensor, synthetic_players_tensor), 0)\n",
    "combined_labels_tensor = torch.cat((labels_tensor, synthetic_labels_tensor), 0)\n",
    "\n",
    "# Shuffle the dataset\n",
    "shuffled_indices = torch.randperm(combined_labels_tensor.size(0))\n",
    "\n",
    "# Re-assign the shuffled data\n",
    "shuffled_injuries = combined_injuries_tensor[shuffled_indices]\n",
    "shuffled_games = combined_games_tensor[shuffled_indices]\n",
    "shuffled_players = combined_players_tensor[shuffled_indices]\n",
    "shuffled_labels = combined_labels_tensor[shuffled_indices]\n",
    "\n",
    "# Split the shuffled data into training and testing sets\n",
    "train_idx, test_idx = train_test_split(\n",
    "    range(len(shuffled_labels)),\n",
    "    test_size=0.2,\n",
    "    stratify=shuffled_labels.numpy()  # Convert tensor to numpy for stratify compatibility\n",
    ")\n",
    "\n",
    "# Convert indices to torch tensors\n",
    "train_idx = torch.tensor(train_idx, dtype=torch.long)\n",
    "test_idx = torch.tensor(test_idx, dtype=torch.long)\n",
    "\n",
    "# Create the training and testing datasets using the new indices\n",
    "train_dataset_smote = TensorDataset(\n",
    "    shuffled_injuries[train_idx],\n",
    "    shuffled_games[train_idx],\n",
    "    shuffled_players[train_idx],\n",
    "    shuffled_labels[train_idx]\n",
    ")\n",
    "\n",
    "test_dataset_smote = TensorDataset(\n",
    "    shuffled_injuries[test_idx],\n",
    "    shuffled_games[test_idx],\n",
    "    shuffled_players[test_idx],\n",
    "    shuffled_labels[test_idx]\n",
    ")\n"
   ]
  },
  {
   "cell_type": "code",
   "execution_count": 293,
   "metadata": {},
   "outputs": [
    {
     "name": "stdout",
     "output_type": "stream",
     "text": [
      "Requirement already satisfied: matplotlib in /Users/michaeldelarosa/opt/anaconda3/lib/python3.9/site-packages (3.8.4)\n",
      "Requirement already satisfied: cycler>=0.10 in /Users/michaeldelarosa/opt/anaconda3/lib/python3.9/site-packages (from matplotlib) (0.12.1)\n",
      "Requirement already satisfied: numpy>=1.21 in /Users/michaeldelarosa/opt/anaconda3/lib/python3.9/site-packages (from matplotlib) (1.24.3)\n",
      "Requirement already satisfied: python-dateutil>=2.7 in /Users/michaeldelarosa/opt/anaconda3/lib/python3.9/site-packages (from matplotlib) (2.8.2)\n",
      "Requirement already satisfied: importlib-resources>=3.2.0 in /Users/michaeldelarosa/opt/anaconda3/lib/python3.9/site-packages (from matplotlib) (6.4.0)\n",
      "Requirement already satisfied: packaging>=20.0 in /Users/michaeldelarosa/opt/anaconda3/lib/python3.9/site-packages (from matplotlib) (23.1)\n",
      "Requirement already satisfied: kiwisolver>=1.3.1 in /Users/michaeldelarosa/opt/anaconda3/lib/python3.9/site-packages (from matplotlib) (1.4.5)\n",
      "Requirement already satisfied: contourpy>=1.0.1 in /Users/michaeldelarosa/opt/anaconda3/lib/python3.9/site-packages (from matplotlib) (1.2.1)\n",
      "Requirement already satisfied: pyparsing>=2.3.1 in /Users/michaeldelarosa/opt/anaconda3/lib/python3.9/site-packages (from matplotlib) (3.1.2)\n",
      "Requirement already satisfied: pillow>=8 in /Users/michaeldelarosa/opt/anaconda3/lib/python3.9/site-packages (from matplotlib) (10.2.0)\n",
      "Requirement already satisfied: fonttools>=4.22.0 in /Users/michaeldelarosa/opt/anaconda3/lib/python3.9/site-packages (from matplotlib) (4.51.0)\n",
      "Requirement already satisfied: zipp>=3.1.0 in /Users/michaeldelarosa/opt/anaconda3/lib/python3.9/site-packages (from importlib-resources>=3.2.0->matplotlib) (3.6.0)\n",
      "Requirement already satisfied: six>=1.5 in /Users/michaeldelarosa/opt/anaconda3/lib/python3.9/site-packages (from python-dateutil>=2.7->matplotlib) (1.16.0)\n"
     ]
    }
   ],
   "source": [
    "!pip install matplotlib"
   ]
  },
  {
   "cell_type": "code",
   "execution_count": 302,
   "metadata": {},
   "outputs": [],
   "source": [
    "# Defining models and helper functions\n",
    "# Define DataLoader\n",
    "batch_size = 64\n",
    "train_loader = DataLoader(train_dataset_smote, batch_size=batch_size, shuffle=True)\n",
    "test_loader = DataLoader(test_dataset_smote, batch_size=batch_size, shuffle=True)\n",
    "\n",
    "class TransformerModel_PI(nn.Module):\n",
    "    def __init__(self):\n",
    "        super(TransformerModel_PI, self).__init__()\n",
    "        self.encoder_layer = nn.TransformerEncoderLayer(d_model=6, nhead=3,dropout = 0.1)\n",
    "        self.transformer_encoder = nn.TransformerEncoder(self.encoder_layer, num_layers=6)\n",
    "        self.init_weights()\n",
    "\n",
    "    def forward(self, src):\n",
    "        src = self.encoder_layer(src)\n",
    "        if torch.isnan(src).any():\n",
    "            print(\"NaNs detected after encoder layer\")\n",
    "        encoded = self.transformer_encoder(src)\n",
    "        if torch.isnan(encoded).any():\n",
    "            print(\"NaNs detected after transformer encoder\")\n",
    "        output = encoded.mean(dim=1, keepdim=True)\n",
    "        if torch.isnan(output).any():\n",
    "            print(\"NaNs detected after mean pooling\")\n",
    "        return output\n",
    "        #encoded = self.transformer_encoder(src)\n",
    "        #return encoded.mean(dim=1, keepdim=True)  # average pooling\n",
    "\n",
    "    def init_weights(self):\n",
    "        for m in self.modules():\n",
    "            if isinstance(m, nn.Linear):\n",
    "                nn.init.xavier_uniform_(m.weight)\n",
    "                if m.bias is not None:\n",
    "                    nn.init.constant_(m.bias, 0)\n",
    "\n",
    "class TransformerModel_PG(nn.Module):\n",
    "    def __init__(self):\n",
    "        super(TransformerModel_PG, self).__init__()\n",
    "        self.encoder_layer = nn.TransformerEncoderLayer(d_model=5, nhead=5,dropout = 0.1)\n",
    "        self.transformer_encoder = nn.TransformerEncoder(self.encoder_layer, num_layers=6)\n",
    "        self.init_weights()\n",
    "\n",
    "    def forward(self, src):\n",
    "        src = self.encoder_layer(src)\n",
    "        if torch.isnan(src).any():\n",
    "            print(\"NaNs detected after encoder layer\")\n",
    "        encoded = self.transformer_encoder(src)\n",
    "        if torch.isnan(encoded).any():\n",
    "            print(\"NaNs detected after transformer encoder\")\n",
    "        output = encoded.mean(dim=1, keepdim=True)\n",
    "        if torch.isnan(output).any():\n",
    "            print(\"NaNs detected after mean pooling\")\n",
    "        return output\n",
    "        #encoded = self.transformer_encoder(src)\n",
    "        #return encoded.mean(dim=1, keepdim=True)  # average pooling\n",
    "\n",
    "    def init_weights(self):\n",
    "        for m in self.modules():\n",
    "            if isinstance(m, nn.Linear):\n",
    "                nn.init.xavier_uniform_(m.weight)\n",
    "                if m.bias is not None:\n",
    "                    nn.init.constant_(m.bias, 0)\n",
    "\n",
    "class MultilayerPerceptron(nn.Module):\n",
    "    def __init__(self, input_dim):\n",
    "        super(MultilayerPerceptron, self).__init__()\n",
    "        self.fc1 = nn.Linear(input_dim, 256)\n",
    "        self.relu = nn.ReLU()\n",
    "        self.fc2 = nn.Linear(256, 128)\n",
    "        self.fc3 = nn.Linear(128, 2)  # Binary classification\n",
    "        self.init_weights()\n",
    "\n",
    "    def forward(self, x):\n",
    "        x = self.relu(self.fc1(x))\n",
    "        x = self.relu(self.fc2(x))\n",
    "        return self.fc3(x)\n",
    "\n",
    "    def init_weights(self):\n",
    "        for m in self.modules():\n",
    "            if isinstance(m, nn.Linear):\n",
    "                nn.init.xavier_uniform_(m.weight)\n",
    "                if m.bias is not None:\n",
    "                    nn.init.constant_(m.bias, 0)\n",
    "\n",
    "def ensure_2d(tensor):\n",
    "    \"\"\" Ensure tensor is 2D, adding a batch dimension if necessary. \"\"\"\n",
    "    if tensor.dim() == 1:\n",
    "        tensor = tensor.unsqueeze(0)  # Add a batch dimension if missing\n",
    "    return tensor"
   ]
  },
  {
   "cell_type": "code",
   "execution_count": 304,
   "metadata": {},
   "outputs": [
    {
     "name": "stderr",
     "output_type": "stream",
     "text": [
      "/Users/michaeldelarosa/opt/anaconda3/lib/python3.9/site-packages/torch/nn/modules/transformer.py:286: UserWarning: enable_nested_tensor is True, but self.use_nested_tensor is False because encoder_layer.self_attn.batch_first was not True(use batch_first for better inference performance)\n",
      "  warnings.warn(f\"enable_nested_tensor is True, but self.use_nested_tensor is False because {why_not_sparsity_fast_path}\")\n"
     ]
    },
    {
     "name": "stdout",
     "output_type": "stream",
     "text": [
      "Epoch [1/15], Loss: 1.2850, Test Accuracy: 34.97%\n",
      "Epoch [2/15], Loss: 2.8538, Test Accuracy: 34.27%\n",
      "Epoch [3/15], Loss: 1.9388, Test Accuracy: 34.27%\n",
      "Epoch [4/15], Loss: 1.1336, Test Accuracy: 65.73%\n",
      "Epoch [5/15], Loss: 1.0624, Test Accuracy: 65.73%\n",
      "Epoch [6/15], Loss: 0.7563, Test Accuracy: 34.27%\n",
      "Epoch [7/15], Loss: 1.4365, Test Accuracy: 65.73%\n",
      "Epoch [8/15], Loss: 0.5688, Test Accuracy: 64.34%\n",
      "Epoch [9/15], Loss: 0.6920, Test Accuracy: 63.64%\n",
      "Epoch [10/15], Loss: 0.6068, Test Accuracy: 64.34%\n",
      "Epoch [11/15], Loss: 0.8038, Test Accuracy: 65.73%\n",
      "Epoch [12/15], Loss: 1.0038, Test Accuracy: 65.73%\n",
      "Epoch [13/15], Loss: 0.9398, Test Accuracy: 40.56%\n",
      "Epoch [14/15], Loss: 0.6451, Test Accuracy: 60.84%\n",
      "Epoch [15/15], Loss: 0.6520, Test Accuracy: 56.64%\n"
     ]
    }
   ],
   "source": [
    "# Training and testing loop\n",
    "import matplotlib.pyplot as plt\n",
    "\n",
    "train_losses = []\n",
    "test_losses = []\n",
    "test_accuracies = []\n",
    "\n",
    "# Important for unbalanced data\n",
    "classes = np.unique(labels)\n",
    "class_weights = compute_class_weight('balanced', classes=np.unique(labels), y=labels)\n",
    "class_weights_tensor = torch.tensor(class_weights, dtype=torch.float)\n",
    "\n",
    "# Initialize the loss function with these weights\n",
    "#criterion = nn.CrossEntropyLoss(weight=class_weights_tensor)\n",
    "criterion = nn.CrossEntropyLoss()\n",
    "past_injuries_transformer = TransformerModel_PI()\n",
    "past_games_transformer = TransformerModel_PG()\n",
    "mlp = MultilayerPerceptron(input_dim= 11)\n",
    "\n",
    "parameters = list(past_injuries_transformer.parameters()) + list(past_games_transformer.parameters()) + list(mlp.parameters())\n",
    "optimizer = torch.optim.Adam(parameters, lr=0.001)\n",
    "\n",
    "num_epochs = 15  # Define number of epochs\n",
    "for epoch in range(num_epochs):\n",
    "    past_injuries_transformer.train()\n",
    "    past_games_transformer.train()\n",
    "    mlp.train()\n",
    "    total_loss = 0\n",
    "    num_batches = 0\n",
    "\n",
    "    \n",
    "    for past_injuries, past_games, current_game_player, label in train_loader:\n",
    "        past_injuries = ensure_2d(past_injuries)\n",
    "        past_games = ensure_2d(past_games)\n",
    "        current_game_player = ensure_2d(current_game_player)\n",
    "        optimizer.zero_grad()\n",
    "        past_injuries_encoded = past_injuries_transformer(past_injuries)\n",
    "        past_games_encoded = past_games_transformer(past_games)\n",
    "\n",
    "        combined_features = torch.cat((past_injuries_encoded, past_games_encoded, current_game_player), dim=1)\n",
    "        outputs = mlp(combined_features)\n",
    "        loss = criterion(outputs, label)\n",
    "        if torch.isnan(loss):\n",
    "            print(\"NaN detected in loss, stopping training\")\n",
    "            break\n",
    "        loss.backward()\n",
    "        #torch.nn.utils.clip_grad_norm_(parameters, max_norm=1.0)\n",
    "        optimizer.step()\n",
    "\n",
    "        total_loss += loss.item()\n",
    "        num_batches += 1\n",
    "    train_losses.append(total_loss / num_batches)\n",
    "\n",
    "    if torch.isnan(loss):\n",
    "        print(f\"Stopped at Epoch {epoch+1} due to NaN in loss\")\n",
    "        break\n",
    "    # Testing phase\n",
    "    past_injuries_transformer.eval()\n",
    "    past_games_transformer.eval()\n",
    "    mlp.eval()\n",
    "    test_loss = 0\n",
    "    correct = 0\n",
    "    total = 0\n",
    "    with torch.no_grad():\n",
    "        for past_injuries, past_games, current_game_player, label in test_loader:\n",
    "            past_injuries = ensure_2d(past_injuries)\n",
    "            past_games = ensure_2d(past_games)\n",
    "            current_game_player = ensure_2d(current_game_player)\n",
    "            past_injuries_encoded = past_injuries_transformer(past_injuries)\n",
    "            past_games_encoded = past_games_transformer(past_games)\n",
    "\n",
    "            combined_features = torch.cat((past_injuries_encoded, past_games_encoded, current_game_player), dim=1)\n",
    "            outputs = mlp(combined_features)\n",
    "            _, predicted = torch.max(outputs.data, 1)\n",
    "            total += label.size(0)\n",
    "            correct += (predicted == label).sum().item()\n",
    "            loss = criterion(outputs, label)\n",
    "            test_loss += loss.item()\n",
    "\n",
    "    test_losses.append(test_loss / len(test_loader))\n",
    "    accuracy = 100 * correct / total\n",
    "    test_accuracies.append(accuracy)\n",
    "    print(f'Epoch [{epoch+1}/{num_epochs}], Loss: {loss.item():.4f}, Test Accuracy: {accuracy:.2f}%')"
   ]
  },
  {
   "cell_type": "code",
   "execution_count": 305,
   "metadata": {},
   "outputs": [
    {
     "data": {
      "image/png": "[encoded data removed]",
      "text/plain": [
       "<Figure size 864x432 with 2 Axes>"
      ]
     },
     "metadata": {
      "needs_background": "light"
     },
     "output_type": "display_data"
    }
   ],
   "source": [
    "plt.figure(figsize=(12, 6))\n",
    "\n",
    "# Plot training and test loss\n",
    "plt.subplot(1, 2, 1)\n",
    "plt.plot(train_losses, label='Train Loss')\n",
    "plt.plot(test_losses, label='Test Loss')\n",
    "plt.title('Training and Test Loss')\n",
    "plt.xlabel('Epoch')\n",
    "plt.ylabel('Loss')\n",
    "plt.legend()\n",
    "\n",
    "# Plot test accuracy\n",
    "plt.subplot(1, 2, 2)\n",
    "plt.plot(test_accuracies, label='Test Accuracy')\n",
    "plt.title('Test Accuracy')\n",
    "plt.xlabel('Epoch')\n",
    "plt.ylabel('Accuracy (%)')\n",
    "plt.legend()\n",
    "\n",
    "plt.show()"
   ]
  },
  {
   "cell_type": "code",
   "execution_count": 301,
   "metadata": {},
   "outputs": [
    {
     "name": "stdout",
     "output_type": "stream",
     "text": [
      "tensor([0, 0, 0, 0, 0, 0, 0, 0, 0, 0, 0, 0, 0, 0, 0])\n",
      "tensor([0, 1, 1, 0, 0, 0, 1, 0, 0, 0, 0, 0, 1, 0, 0])\n"
     ]
    }
   ],
   "source": [
    "print(predicted)\n",
    "print(label)"
   ]
  },
  {
   "cell_type": "markdown",
   "metadata": {},
   "source": [
    "# RNN"
   ]
  },
  {
   "cell_type": "code",
   "execution_count": null,
   "metadata": {},
   "outputs": [],
   "source": [
    "# Load datasets\n",
    "basic_info_df = pd.read_csv('basic_info.csv')\n",
    "injury_data_df = pd.read_csv('Injury_Data.csv')\n",
    "last_five_games_df = pd.read_csv('last_five_games.csv')\n",
    "merged_new_df = pd.read_csv('merged.csv')\n",
    "\n",
    "# Clean and standardize names for merging\n",
    "def standardize_names(name):\n",
    "    return name.lower().replace('.', '').replace(\"'\", '').strip()\n",
    "\n",
    "basic_info_df['Name'] = basic_info_df['Name'].apply(standardize_names)\n",
    "injury_data_df['Player'] = injury_data_df['Player'].apply(standardize_names)\n",
    "last_five_games_df['Name'] = last_five_games_df['Name'].apply(standardize_names)\n",
    "merged_new_df['PLAYER_NAME'] = merged_new_df['PLAYER_NAME'].apply(standardize_names)\n",
    "\n",
    "# Merge all datasets\n",
    "full_merged_df = pd.merge(basic_info_df, last_five_games_df, on='Name', how='left')\n",
    "full_merged_df = pd.merge(full_merged_df, injury_data_df, left_on='Name', right_on='Player', how='left')\n",
    "full_merged_df = pd.merge(full_merged_df, merged_new_df, left_on='Name', right_on='PLAYER_NAME', how='left')\n"
   ]
  },
  {
   "cell_type": "code",
   "execution_count": null,
   "metadata": {},
   "outputs": [
    {
     "name": "stdout",
     "output_type": "stream",
     "text": [
      "0        4\n",
      "1        5\n",
      "2        4\n",
      "3       38\n",
      "4        4\n",
      "        ..\n",
      "2593     1\n",
      "2594     6\n",
      "2595     4\n",
      "2596     4\n",
      "2597     3\n",
      "Name: DAYS MISSED, Length: 2598, dtype: int64\n"
     ]
    }
   ],
   "source": [
    "# ensure days missed is an integer\n",
    "full_merged_df['DAYS MISSED'] = full_merged_df['DAYS MISSED'].astype(int)\n",
    "\n",
    "# print days missed\n",
    "print(full_merged_df['DAYS MISSED'])\n"
   ]
  },
  {
   "cell_type": "code",
   "execution_count": null,
   "metadata": {},
   "outputs": [
    {
     "name": "stdout",
     "output_type": "stream",
     "text": [
      "           Name                                      Position  Height  Weight  \\\n",
      "0      aj green                   Shooting Guard\\n\\n\\n  \\n  ▪     193     200   \n",
      "1  aaron gordon  Power Forward and Small Forward\\n\\n\\n  \\n  ▪     203     235   \n",
      "2  aaron gordon  Power Forward and Small Forward\\n\\n\\n  \\n  ▪     203     235   \n",
      "3  aaron gordon  Power Forward and Small Forward\\n\\n\\n  \\n  ▪     203     235   \n",
      "4  aaron gordon  Power Forward and Small Forward\\n\\n\\n  \\n  ▪     203     235   \n",
      "\n",
      "  Age Experience          Last_5_Games  Unnamed: 0        Player  \\\n",
      "0  24          1    [5, 5, 21, 14, 15]         1.0      aj green   \n",
      "1  28          9  [46, 42, 41, 40, 32]         2.0  aaron gordon   \n",
      "2  28          9  [46, 42, 41, 40, 32]         2.0  aaron gordon   \n",
      "3  28          9  [46, 42, 41, 40, 32]         2.0  aaron gordon   \n",
      "4  28          9  [46, 42, 41, 40, 32]         2.0  aaron gordon   \n",
      "\n",
      "   Days Since Last Injury  ...  AVG_SEC_PER_TOUCH  AVG_DRIB_PER_TOUCH  \\\n",
      "0                    64.0  ...               2.61                1.84   \n",
      "1                     5.0  ...               2.94                2.11   \n",
      "2                     5.0  ...               2.77                1.89   \n",
      "3                     5.0  ...               3.62                2.83   \n",
      "4                     5.0  ...               2.88                1.91   \n",
      "\n",
      "   ELBOW_TOUCHES  POST_TOUCHES  PAINT_TOUCHES     TEAM  INJURED ON  \\\n",
      "0            0.1           0.0            0.3      NaN         NaN   \n",
      "1            1.8           2.1            6.8  Nuggets  2023-02-02   \n",
      "2            1.7           2.1            5.1      NaN         NaN   \n",
      "3            1.3           2.3            3.8    Magic  2021-02-01   \n",
      "4            1.8           3.2            4.3      NaN         NaN   \n",
      "\n",
      "     RETURNED DAYS MISSED    INJURED_TYPE  \n",
      "0         NaN         NaN             NaN  \n",
      "1  2023-02-07         5.0  Sprained_ankle  \n",
      "2         NaN         NaN             NaN  \n",
      "3  2021-03-11        38.0  Sprained_ankle  \n",
      "4         NaN         NaN             NaN  \n",
      "\n",
      "[5 rows x 48 columns]\n"
     ]
    }
   ],
   "source": [
    "print(full_merged_df.head())"
   ]
  },
  {
   "cell_type": "code",
   "execution_count": null,
   "metadata": {},
   "outputs": [
    {
     "name": "stdout",
     "output_type": "stream",
     "text": [
      "Index(['Name', 'Position', 'Height', 'Weight', 'Age', 'Experience',\n",
      "       'Last_5_Games', 'Unnamed: 0', 'Player', 'Days Since Last Injury',\n",
      "       'Got Injured', 'core', 'upper body', 'ligament', 'foot', 'back',\n",
      "       'PLAYER_ID', 'PLAYER_NAME', 'SEASON', 'SEASON_NUM', 'AGE',\n",
      "       'PLAYER_HEIGHT_INCHES', 'PLAYER_WEIGHT', 'GP', 'MIN', 'USG_PCT', 'PACE',\n",
      "       'POSS', 'FGA_PG', 'DRIVES', 'DRIVE_FGA', 'DRIVE_PASSES', 'DIST_MILES',\n",
      "       'AVG_SPEED', 'PULL_UP_FGA', 'PULL_UP_FG3A', 'TOUCHES',\n",
      "       'FRONT_CT_TOUCHES', 'AVG_SEC_PER_TOUCH', 'AVG_DRIB_PER_TOUCH',\n",
      "       'ELBOW_TOUCHES', 'POST_TOUCHES', 'PAINT_TOUCHES', 'TEAM', 'INJURED ON',\n",
      "       'RETURNED', 'DAYS MISSED', 'INJURED_TYPE'],\n",
      "      dtype='object')\n",
      "Name                         0\n",
      "Position                     0\n",
      "Height                       0\n",
      "Weight                       0\n",
      "Age                          0\n",
      "Experience                   0\n",
      "Last_5_Games                20\n",
      "Unnamed: 0                  20\n",
      "Player                      20\n",
      "Days Since Last Injury      20\n",
      "Got Injured                 20\n",
      "core                        20\n",
      "upper body                  20\n",
      "ligament                    20\n",
      "foot                        20\n",
      "back                        20\n",
      "PLAYER_ID                   24\n",
      "PLAYER_NAME                 24\n",
      "SEASON                      24\n",
      "SEASON_NUM                  24\n",
      "AGE                         24\n",
      "PLAYER_HEIGHT_INCHES        24\n",
      "PLAYER_WEIGHT               24\n",
      "GP                          24\n",
      "MIN                         24\n",
      "USG_PCT                     24\n",
      "PACE                        24\n",
      "POSS                        24\n",
      "FGA_PG                      24\n",
      "DRIVES                      24\n",
      "DRIVE_FGA                   24\n",
      "DRIVE_PASSES                24\n",
      "DIST_MILES                  24\n",
      "AVG_SPEED                   24\n",
      "PULL_UP_FGA                 24\n",
      "PULL_UP_FG3A                24\n",
      "TOUCHES                     24\n",
      "FRONT_CT_TOUCHES            24\n",
      "AVG_SEC_PER_TOUCH           24\n",
      "AVG_DRIB_PER_TOUCH          24\n",
      "ELBOW_TOUCHES               24\n",
      "POST_TOUCHES                24\n",
      "PAINT_TOUCHES               24\n",
      "TEAM                      1689\n",
      "INJURED ON                1689\n",
      "RETURNED                  1689\n",
      "DAYS MISSED               1689\n",
      "INJURED_TYPE              1689\n",
      "dtype: int64\n"
     ]
    }
   ],
   "source": [
    "# print columns names\n",
    "print(full_merged_df.columns)\n",
    "\n",
    "# missing values\n",
    "missing_values = full_merged_df.isnull().sum()\n",
    "print(missing_values)"
   ]
  },
  {
   "cell_type": "code",
   "execution_count": null,
   "metadata": {},
   "outputs": [],
   "source": [
    "# Clean 'Position' to keep only meaningful text\n",
    "full_merged_df['Position'] = full_merged_df['Position'].str.extract(r'([a-zA-Z\\s]+)')[0].str.strip()\n",
    "\n",
    "# Handle missing values in numeric columns\n",
    "numeric_cols = full_merged_df.select_dtypes(include=['float64', 'int64']).columns\n",
    "full_merged_df[numeric_cols] = full_merged_df[numeric_cols].apply(lambda x: x.fillna(x.median()), axis=0)\n",
    "\n",
    "# Convert 'Last_5_Games' from string of lists to actual lists\n",
    "full_merged_df['Last_5_Games'] = full_merged_df['Last_5_Games'].apply(lambda x: ast.literal_eval(x) if isinstance(x, str) else [np.nan]*5)\n",
    "last_games_features = ['game_{}'.format(i) for i in range(5)]\n",
    "full_merged_df[last_games_features] = pd.DataFrame(full_merged_df['Last_5_Games'].tolist(), index=full_merged_df.index)\n",
    "full_merged_df.drop('Last_5_Games', axis=1, inplace=True)\n",
    "\n",
    "# Drop columns with high missing values and those not necessary for the model\n",
    "cols_to_drop = ['Unnamed: 0', 'TEAM', 'INJURED ON', 'RETURNED', 'INJURED_TYPE']\n",
    "full_merged_df.drop(columns=cols_to_drop, inplace=True)\n",
    "\n",
    "# Handle missing values in categorical columns\n",
    "categorical_cols = full_merged_df.select_dtypes(include=['object']).columns\n",
    "full_merged_df[categorical_cols] = full_merged_df[categorical_cols].fillna('Unknown')\n"
   ]
  },
  {
   "cell_type": "code",
   "execution_count": null,
   "metadata": {},
   "outputs": [],
   "source": [
    "# Convert 'DAYS MISSED' to integer\n",
    "full_merged_df['DAYS MISSED'] = pd.to_numeric(full_merged_df['DAYS MISSED'], errors='coerce').fillna(0).astype(int)\n",
    "\n",
    "# Check if 'DAYS MISSED' is in the DataFrame\n",
    "if 'DAYS MISSED' not in full_merged_df.columns:\n",
    "    raise ValueError(\"DAYS MISSED column is missing from the DataFrame.\")\n"
   ]
  },
  {
   "cell_type": "code",
   "execution_count": null,
   "metadata": {},
   "outputs": [
    {
     "name": "stdout",
     "output_type": "stream",
     "text": [
      "0        4\n",
      "1        5\n",
      "2        4\n",
      "3       38\n",
      "4        4\n",
      "        ..\n",
      "2593     1\n",
      "2594     6\n",
      "2595     4\n",
      "2596     4\n",
      "2597     3\n",
      "Name: DAYS MISSED, Length: 2598, dtype: int64\n"
     ]
    }
   ],
   "source": [
    "# ensure days missed is an integer\n",
    "full_merged_df['DAYS MISSED'] = full_merged_df['DAYS MISSED'].astype(int)\n",
    "\n",
    "# print days missed\n",
    "print(full_merged_df['DAYS MISSED'])\n"
   ]
  },
  {
   "cell_type": "code",
   "execution_count": null,
   "metadata": {},
   "outputs": [
    {
     "name": "stdout",
     "output_type": "stream",
     "text": [
      "Epoch 1/50\n"
     ]
    },
    {
     "name": "stderr",
     "output_type": "stream",
     "text": [
      "/Users/sparshkabra/anaconda3/envs/myenv/lib/python3.12/site-packages/keras/src/layers/core/dense.py:85: UserWarning: Do not pass an `input_shape`/`input_dim` argument to a layer. When using Sequential models, prefer using an `Input(shape)` object as the first layer in the model instead.\n",
      "  super().__init__(activity_regularizer=activity_regularizer, **kwargs)\n"
     ]
    },
    {
     "name": "stdout",
     "output_type": "stream",
     "text": [
      "\u001b[1m65/65\u001b[0m \u001b[32m━━━━━━━━━━━━━━━━━━━━\u001b[0m\u001b[37m\u001b[0m \u001b[1m1s\u001b[0m 3ms/step - loss: nan - mean_absolute_error: nan - val_loss: nan - val_mean_absolute_error: nan\n",
      "Epoch 2/50\n",
      "\u001b[1m65/65\u001b[0m \u001b[32m━━━━━━━━━━━━━━━━━━━━\u001b[0m\u001b[37m\u001b[0m \u001b[1m0s\u001b[0m 3ms/step - loss: nan - mean_absolute_error: nan - val_loss: nan - val_mean_absolute_error: nan\n",
      "Epoch 3/50\n",
      "\u001b[1m65/65\u001b[0m \u001b[32m━━━━━━━━━━━━━━━━━━━━\u001b[0m\u001b[37m\u001b[0m \u001b[1m0s\u001b[0m 2ms/step - loss: nan - mean_absolute_error: nan - val_loss: nan - val_mean_absolute_error: nan\n",
      "Epoch 4/50\n",
      "\u001b[1m65/65\u001b[0m \u001b[32m━━━━━━━━━━━━━━━━━━━━\u001b[0m\u001b[37m\u001b[0m \u001b[1m0s\u001b[0m 1ms/step - loss: nan - mean_absolute_error: nan - val_loss: nan - val_mean_absolute_error: nan\n",
      "Epoch 5/50\n",
      "\u001b[1m65/65\u001b[0m \u001b[32m━━━━━━━━━━━━━━━━━━━━\u001b[0m\u001b[37m\u001b[0m \u001b[1m0s\u001b[0m 2ms/step - loss: nan - mean_absolute_error: nan - val_loss: nan - val_mean_absolute_error: nan\n",
      "Epoch 6/50\n",
      "\u001b[1m65/65\u001b[0m \u001b[32m━━━━━━━━━━━━━━━━━━━━\u001b[0m\u001b[37m\u001b[0m \u001b[1m0s\u001b[0m 2ms/step - loss: nan - mean_absolute_error: nan - val_loss: nan - val_mean_absolute_error: nan\n",
      "Epoch 7/50\n",
      "\u001b[1m65/65\u001b[0m \u001b[32m━━━━━━━━━━━━━━━━━━━━\u001b[0m\u001b[37m\u001b[0m \u001b[1m0s\u001b[0m 2ms/step - loss: nan - mean_absolute_error: nan - val_loss: nan - val_mean_absolute_error: nan\n",
      "Epoch 8/50\n",
      "\u001b[1m65/65\u001b[0m \u001b[32m━━━━━━━━━━━━━━━━━━━━\u001b[0m\u001b[37m\u001b[0m \u001b[1m0s\u001b[0m 2ms/step - loss: nan - mean_absolute_error: nan - val_loss: nan - val_mean_absolute_error: nan\n",
      "Epoch 9/50\n",
      "\u001b[1m65/65\u001b[0m \u001b[32m━━━━━━━━━━━━━━━━━━━━\u001b[0m\u001b[37m\u001b[0m \u001b[1m0s\u001b[0m 2ms/step - loss: nan - mean_absolute_error: nan - val_loss: nan - val_mean_absolute_error: nan\n",
      "Epoch 10/50\n",
      "\u001b[1m65/65\u001b[0m \u001b[32m━━━━━━━━━━━━━━━━━━━━\u001b[0m\u001b[37m\u001b[0m \u001b[1m0s\u001b[0m 1ms/step - loss: nan - mean_absolute_error: nan - val_loss: nan - val_mean_absolute_error: nan\n",
      "Epoch 11/50\n",
      "\u001b[1m65/65\u001b[0m \u001b[32m━━━━━━━━━━━━━━━━━━━━\u001b[0m\u001b[37m\u001b[0m \u001b[1m0s\u001b[0m 3ms/step - loss: nan - mean_absolute_error: nan - val_loss: nan - val_mean_absolute_error: nan\n",
      "Epoch 12/50\n",
      "\u001b[1m65/65\u001b[0m \u001b[32m━━━━━━━━━━━━━━━━━━━━\u001b[0m\u001b[37m\u001b[0m \u001b[1m0s\u001b[0m 1ms/step - loss: nan - mean_absolute_error: nan - val_loss: nan - val_mean_absolute_error: nan\n",
      "Epoch 13/50\n",
      "\u001b[1m65/65\u001b[0m \u001b[32m━━━━━━━━━━━━━━━━━━━━\u001b[0m\u001b[37m\u001b[0m \u001b[1m0s\u001b[0m 1ms/step - loss: nan - mean_absolute_error: nan - val_loss: nan - val_mean_absolute_error: nan\n",
      "Epoch 14/50\n",
      "\u001b[1m65/65\u001b[0m \u001b[32m━━━━━━━━━━━━━━━━━━━━\u001b[0m\u001b[37m\u001b[0m \u001b[1m0s\u001b[0m 2ms/step - loss: nan - mean_absolute_error: nan - val_loss: nan - val_mean_absolute_error: nan\n",
      "Epoch 15/50\n",
      "\u001b[1m65/65\u001b[0m \u001b[32m━━━━━━━━━━━━━━━━━━━━\u001b[0m\u001b[37m\u001b[0m \u001b[1m0s\u001b[0m 2ms/step - loss: nan - mean_absolute_error: nan - val_loss: nan - val_mean_absolute_error: nan\n",
      "Epoch 16/50\n",
      "\u001b[1m65/65\u001b[0m \u001b[32m━━━━━━━━━━━━━━━━━━━━\u001b[0m\u001b[37m\u001b[0m \u001b[1m0s\u001b[0m 2ms/step - loss: nan - mean_absolute_error: nan - val_loss: nan - val_mean_absolute_error: nan\n",
      "Epoch 17/50\n",
      "\u001b[1m65/65\u001b[0m \u001b[32m━━━━━━━━━━━━━━━━━━━━\u001b[0m\u001b[37m\u001b[0m \u001b[1m0s\u001b[0m 1ms/step - loss: nan - mean_absolute_error: nan - val_loss: nan - val_mean_absolute_error: nan\n",
      "Epoch 18/50\n",
      "\u001b[1m65/65\u001b[0m \u001b[32m━━━━━━━━━━━━━━━━━━━━\u001b[0m\u001b[37m\u001b[0m \u001b[1m0s\u001b[0m 2ms/step - loss: nan - mean_absolute_error: nan - val_loss: nan - val_mean_absolute_error: nan\n",
      "Epoch 19/50\n",
      "\u001b[1m65/65\u001b[0m \u001b[32m━━━━━━━━━━━━━━━━━━━━\u001b[0m\u001b[37m\u001b[0m \u001b[1m0s\u001b[0m 2ms/step - loss: nan - mean_absolute_error: nan - val_loss: nan - val_mean_absolute_error: nan\n",
      "Epoch 20/50\n",
      "\u001b[1m65/65\u001b[0m \u001b[32m━━━━━━━━━━━━━━━━━━━━\u001b[0m\u001b[37m\u001b[0m \u001b[1m0s\u001b[0m 2ms/step - loss: nan - mean_absolute_error: nan - val_loss: nan - val_mean_absolute_error: nan\n",
      "Epoch 21/50\n",
      "\u001b[1m65/65\u001b[0m \u001b[32m━━━━━━━━━━━━━━━━━━━━\u001b[0m\u001b[37m\u001b[0m \u001b[1m0s\u001b[0m 2ms/step - loss: nan - mean_absolute_error: nan - val_loss: nan - val_mean_absolute_error: nan\n",
      "Epoch 22/50\n",
      "\u001b[1m65/65\u001b[0m \u001b[32m━━━━━━━━━━━━━━━━━━━━\u001b[0m\u001b[37m\u001b[0m \u001b[1m0s\u001b[0m 2ms/step - loss: nan - mean_absolute_error: nan - val_loss: nan - val_mean_absolute_error: nan\n",
      "Epoch 23/50\n",
      "\u001b[1m65/65\u001b[0m \u001b[32m━━━━━━━━━━━━━━━━━━━━\u001b[0m\u001b[37m\u001b[0m \u001b[1m0s\u001b[0m 2ms/step - loss: nan - mean_absolute_error: nan - val_loss: nan - val_mean_absolute_error: nan\n",
      "Epoch 24/50\n",
      "\u001b[1m65/65\u001b[0m \u001b[32m━━━━━━━━━━━━━━━━━━━━\u001b[0m\u001b[37m\u001b[0m \u001b[1m0s\u001b[0m 2ms/step - loss: nan - mean_absolute_error: nan - val_loss: nan - val_mean_absolute_error: nan\n",
      "Epoch 25/50\n",
      "\u001b[1m65/65\u001b[0m \u001b[32m━━━━━━━━━━━━━━━━━━━━\u001b[0m\u001b[37m\u001b[0m \u001b[1m0s\u001b[0m 2ms/step - loss: nan - mean_absolute_error: nan - val_loss: nan - val_mean_absolute_error: nan\n",
      "Epoch 26/50\n",
      "\u001b[1m65/65\u001b[0m \u001b[32m━━━━━━━━━━━━━━━━━━━━\u001b[0m\u001b[37m\u001b[0m \u001b[1m0s\u001b[0m 2ms/step - loss: nan - mean_absolute_error: nan - val_loss: nan - val_mean_absolute_error: nan\n",
      "Epoch 27/50\n",
      "\u001b[1m65/65\u001b[0m \u001b[32m━━━━━━━━━━━━━━━━━━━━\u001b[0m\u001b[37m\u001b[0m \u001b[1m0s\u001b[0m 2ms/step - loss: nan - mean_absolute_error: nan - val_loss: nan - val_mean_absolute_error: nan\n",
      "Epoch 28/50\n",
      "\u001b[1m65/65\u001b[0m \u001b[32m━━━━━━━━━━━━━━━━━━━━\u001b[0m\u001b[37m\u001b[0m \u001b[1m0s\u001b[0m 2ms/step - loss: nan - mean_absolute_error: nan - val_loss: nan - val_mean_absolute_error: nan\n",
      "Epoch 29/50\n",
      "\u001b[1m65/65\u001b[0m \u001b[32m━━━━━━━━━━━━━━━━━━━━\u001b[0m\u001b[37m\u001b[0m \u001b[1m0s\u001b[0m 2ms/step - loss: nan - mean_absolute_error: nan - val_loss: nan - val_mean_absolute_error: nan\n",
      "Epoch 30/50\n",
      "\u001b[1m65/65\u001b[0m \u001b[32m━━━━━━━━━━━━━━━━━━━━\u001b[0m\u001b[37m\u001b[0m \u001b[1m0s\u001b[0m 2ms/step - loss: nan - mean_absolute_error: nan - val_loss: nan - val_mean_absolute_error: nan\n",
      "Epoch 31/50\n",
      "\u001b[1m65/65\u001b[0m \u001b[32m━━━━━━━━━━━━━━━━━━━━\u001b[0m\u001b[37m\u001b[0m \u001b[1m0s\u001b[0m 2ms/step - loss: nan - mean_absolute_error: nan - val_loss: nan - val_mean_absolute_error: nan\n",
      "Epoch 32/50\n",
      "\u001b[1m65/65\u001b[0m \u001b[32m━━━━━━━━━━━━━━━━━━━━\u001b[0m\u001b[37m\u001b[0m \u001b[1m0s\u001b[0m 1ms/step - loss: nan - mean_absolute_error: nan - val_loss: nan - val_mean_absolute_error: nan\n",
      "Epoch 33/50\n",
      "\u001b[1m65/65\u001b[0m \u001b[32m━━━━━━━━━━━━━━━━━━━━\u001b[0m\u001b[37m\u001b[0m \u001b[1m0s\u001b[0m 2ms/step - loss: nan - mean_absolute_error: nan - val_loss: nan - val_mean_absolute_error: nan\n",
      "Epoch 34/50\n",
      "\u001b[1m65/65\u001b[0m \u001b[32m━━━━━━━━━━━━━━━━━━━━\u001b[0m\u001b[37m\u001b[0m \u001b[1m0s\u001b[0m 2ms/step - loss: nan - mean_absolute_error: nan - val_loss: nan - val_mean_absolute_error: nan\n",
      "Epoch 35/50\n",
      "\u001b[1m65/65\u001b[0m \u001b[32m━━━━━━━━━━━━━━━━━━━━\u001b[0m\u001b[37m\u001b[0m \u001b[1m0s\u001b[0m 5ms/step - loss: nan - mean_absolute_error: nan - val_loss: nan - val_mean_absolute_error: nan\n",
      "Epoch 36/50\n",
      "\u001b[1m65/65\u001b[0m \u001b[32m━━━━━━━━━━━━━━━━━━━━\u001b[0m\u001b[37m\u001b[0m \u001b[1m0s\u001b[0m 3ms/step - loss: nan - mean_absolute_error: nan - val_loss: nan - val_mean_absolute_error: nan\n",
      "Epoch 37/50\n",
      "\u001b[1m65/65\u001b[0m \u001b[32m━━━━━━━━━━━━━━━━━━━━\u001b[0m\u001b[37m\u001b[0m \u001b[1m0s\u001b[0m 2ms/step - loss: nan - mean_absolute_error: nan - val_loss: nan - val_mean_absolute_error: nan\n",
      "Epoch 38/50\n",
      "\u001b[1m65/65\u001b[0m \u001b[32m━━━━━━━━━━━━━━━━━━━━\u001b[0m\u001b[37m\u001b[0m \u001b[1m0s\u001b[0m 2ms/step - loss: nan - mean_absolute_error: nan - val_loss: nan - val_mean_absolute_error: nan\n",
      "Epoch 39/50\n",
      "\u001b[1m65/65\u001b[0m \u001b[32m━━━━━━━━━━━━━━━━━━━━\u001b[0m\u001b[37m\u001b[0m \u001b[1m0s\u001b[0m 2ms/step - loss: nan - mean_absolute_error: nan - val_loss: nan - val_mean_absolute_error: nan\n",
      "Epoch 40/50\n",
      "\u001b[1m65/65\u001b[0m \u001b[32m━━━━━━━━━━━━━━━━━━━━\u001b[0m\u001b[37m\u001b[0m \u001b[1m0s\u001b[0m 2ms/step - loss: nan - mean_absolute_error: nan - val_loss: nan - val_mean_absolute_error: nan\n",
      "Epoch 41/50\n",
      "\u001b[1m65/65\u001b[0m \u001b[32m━━━━━━━━━━━━━━━━━━━━\u001b[0m\u001b[37m\u001b[0m \u001b[1m0s\u001b[0m 2ms/step - loss: nan - mean_absolute_error: nan - val_loss: nan - val_mean_absolute_error: nan\n",
      "Epoch 42/50\n",
      "\u001b[1m65/65\u001b[0m \u001b[32m━━━━━━━━━━━━━━━━━━━━\u001b[0m\u001b[37m\u001b[0m \u001b[1m0s\u001b[0m 2ms/step - loss: nan - mean_absolute_error: nan - val_loss: nan - val_mean_absolute_error: nan\n",
      "Epoch 43/50\n",
      "\u001b[1m65/65\u001b[0m \u001b[32m━━━━━━━━━━━━━━━━━━━━\u001b[0m\u001b[37m\u001b[0m \u001b[1m0s\u001b[0m 2ms/step - loss: nan - mean_absolute_error: nan - val_loss: nan - val_mean_absolute_error: nan\n",
      "Epoch 44/50\n",
      "\u001b[1m65/65\u001b[0m \u001b[32m━━━━━━━━━━━━━━━━━━━━\u001b[0m\u001b[37m\u001b[0m \u001b[1m0s\u001b[0m 2ms/step - loss: nan - mean_absolute_error: nan - val_loss: nan - val_mean_absolute_error: nan\n",
      "Epoch 45/50\n",
      "\u001b[1m65/65\u001b[0m \u001b[32m━━━━━━━━━━━━━━━━━━━━\u001b[0m\u001b[37m\u001b[0m \u001b[1m0s\u001b[0m 2ms/step - loss: nan - mean_absolute_error: nan - val_loss: nan - val_mean_absolute_error: nan\n",
      "Epoch 46/50\n",
      "\u001b[1m65/65\u001b[0m \u001b[32m━━━━━━━━━━━━━━━━━━━━\u001b[0m\u001b[37m\u001b[0m \u001b[1m0s\u001b[0m 2ms/step - loss: nan - mean_absolute_error: nan - val_loss: nan - val_mean_absolute_error: nan\n",
      "Epoch 47/50\n",
      "\u001b[1m65/65\u001b[0m \u001b[32m━━━━━━━━━━━━━━━━━━━━\u001b[0m\u001b[37m\u001b[0m \u001b[1m0s\u001b[0m 2ms/step - loss: nan - mean_absolute_error: nan - val_loss: nan - val_mean_absolute_error: nan\n",
      "Epoch 48/50\n",
      "\u001b[1m65/65\u001b[0m \u001b[32m━━━━━━━━━━━━━━━━━━━━\u001b[0m\u001b[37m\u001b[0m \u001b[1m0s\u001b[0m 2ms/step - loss: nan - mean_absolute_error: nan - val_loss: nan - val_mean_absolute_error: nan\n",
      "Epoch 49/50\n",
      "\u001b[1m65/65\u001b[0m \u001b[32m━━━━━━━━━━━━━━━━━━━━\u001b[0m\u001b[37m\u001b[0m \u001b[1m0s\u001b[0m 2ms/step - loss: nan - mean_absolute_error: nan - val_loss: nan - val_mean_absolute_error: nan\n",
      "Epoch 50/50\n",
      "\u001b[1m65/65\u001b[0m \u001b[32m━━━━━━━━━━━━━━━━━━━━\u001b[0m\u001b[37m\u001b[0m \u001b[1m0s\u001b[0m 2ms/step - loss: nan - mean_absolute_error: nan - val_loss: nan - val_mean_absolute_error: nan\n",
      "\u001b[1m17/17\u001b[0m \u001b[32m━━━━━━━━━━━━━━━━━━━━\u001b[0m\u001b[37m\u001b[0m \u001b[1m0s\u001b[0m 502us/step - loss: nan - mean_absolute_error: nan\n",
      "Test Loss: nan, Test MAE: nan\n"
     ]
    }
   ],
   "source": [
    "# Select numeric and categorical features\n",
    "numeric_features = full_merged_df.select_dtypes(include=['int64', 'float64']).columns.tolist()\n",
    "categorical_features = full_merged_df.select_dtypes(include=['object']).columns.tolist()\n",
    "\n",
    "# Remove target variable from features if present\n",
    "if 'DAYS MISSED' in numeric_features:\n",
    "    numeric_features.remove('DAYS MISSED')\n",
    "\n",
    "# Preprocessing steps\n",
    "preprocessor = ColumnTransformer(\n",
    "    transformers=[\n",
    "        ('num', StandardScaler(), numeric_features),\n",
    "        ('cat', OneHotEncoder(handle_unknown='ignore', sparse_output=False), categorical_features),\n",
    "    ])\n",
    "\n",
    "# Prepare X and y for the model\n",
    "X = preprocessor.fit_transform(full_merged_df.drop('DAYS MISSED', axis=1))\n",
    "y = full_merged_df['DAYS MISSED'].values\n",
    "\n",
    "# Split the data into training and validation sets\n",
    "X_train, X_val, y_train, y_val = train_test_split(X, y, test_size=0.2, random_state=42)\n",
    "\n",
    "# Building the model\n",
    "model = tf.keras.models.Sequential([\n",
    "    tf.keras.layers.Dense(64, activation='relu', input_shape=(X_train.shape[1],)),\n",
    "    tf.keras.layers.Dropout(0.5),\n",
    "    tf.keras.layers.Dense(32, activation='relu'),\n",
    "    tf.keras.layers.Dense(1)\n",
    "])\n",
    "\n",
    "from tensorflow.keras.optimizers import Adam\n",
    "\n",
    "optimizer = Adam(learning_rate=0.0001)  # Try a smaller value like 0.0001 or 0.00001\n",
    "model.compile(optimizer=optimizer, loss='mean_squared_error', metrics=['mean_absolute_error'])\n",
    "\n",
    "\n",
    "# Train the model\n",
    "history = model.fit(X_train, y_train, epochs=50, batch_size=32, validation_data=(X_val, y_val), verbose=1)\n",
    "\n",
    "# Evaluate the model\n",
    "performance = model.evaluate(X_val, y_val, verbose=1)\n",
    "print(f'Test Loss: {performance[0]}, Test MAE: {performance[1]}')\n"
   ]
  },
  {
   "cell_type": "code",
   "execution_count": null,
   "metadata": {},
   "outputs": [
    {
     "name": "stdout",
     "output_type": "stream",
     "text": [
      "True False\n",
      "False False\n"
     ]
    }
   ],
   "source": [
    "# Example to check for NaNs or Infs in your dataset\n",
    "print(np.any(np.isnan(X_train)), np.any(np.isnan(y_train)))\n",
    "print(np.any(np.isinf(X_train)), np.any(np.isinf(y_train)))\n",
    "\n",
    "# If True, consider applying imputation or removing problematic data points\n"
   ]
  },
  {
   "cell_type": "code",
   "execution_count": null,
   "metadata": {},
   "outputs": [
    {
     "name": "stdout",
     "output_type": "stream",
     "text": [
      "False False\n"
     ]
    }
   ],
   "source": [
    "from sklearn.impute import SimpleImputer\n",
    "\n",
    "# Imputing NaN values with the mean of the column\n",
    "imputer = SimpleImputer(strategy='mean')\n",
    "X_train = imputer.fit_transform(X_train)\n",
    "X_val = imputer.transform(X_val)\n",
    "\n",
    "# Confirm no more NaNs\n",
    "print(np.any(np.isnan(X_train)), np.any(np.isnan(X_val)))\n"
   ]
  },
  {
   "cell_type": "code",
   "execution_count": null,
   "metadata": {},
   "outputs": [
    {
     "name": "stdout",
     "output_type": "stream",
     "text": [
      "Epoch 1/50\n"
     ]
    },
    {
     "name": "stderr",
     "output_type": "stream",
     "text": [
      "/Users/sparshkabra/anaconda3/envs/myenv/lib/python3.12/site-packages/keras/src/layers/core/dense.py:85: UserWarning: Do not pass an `input_shape`/`input_dim` argument to a layer. When using Sequential models, prefer using an `Input(shape)` object as the first layer in the model instead.\n",
      "  super().__init__(activity_regularizer=activity_regularizer, **kwargs)\n"
     ]
    },
    {
     "name": "stdout",
     "output_type": "stream",
     "text": [
      "\u001b[1m65/65\u001b[0m \u001b[32m━━━━━━━━━━━━━━━━━━━━\u001b[0m\u001b[37m\u001b[0m \u001b[1m2s\u001b[0m 3ms/step - loss: 122.3176 - mean_absolute_error: 4.7551 - val_loss: 38.9252 - val_mean_absolute_error: 2.4258\n",
      "Epoch 2/50\n",
      "\u001b[1m65/65\u001b[0m \u001b[32m━━━━━━━━━━━━━━━━━━━━\u001b[0m\u001b[37m\u001b[0m \u001b[1m0s\u001b[0m 2ms/step - loss: 65.5023 - mean_absolute_error: 2.5407 - val_loss: 38.2594 - val_mean_absolute_error: 2.5177\n",
      "Epoch 3/50\n",
      "\u001b[1m65/65\u001b[0m \u001b[32m━━━━━━━━━━━━━━━━━━━━\u001b[0m\u001b[37m\u001b[0m \u001b[1m0s\u001b[0m 1ms/step - loss: 56.5813 - mean_absolute_error: 2.6516 - val_loss: 38.3255 - val_mean_absolute_error: 2.5171\n",
      "Epoch 4/50\n",
      "\u001b[1m65/65\u001b[0m \u001b[32m━━━━━━━━━━━━━━━━━━━━\u001b[0m\u001b[37m\u001b[0m \u001b[1m0s\u001b[0m 2ms/step - loss: 65.1430 - mean_absolute_error: 2.7284 - val_loss: 38.6096 - val_mean_absolute_error: 2.6758\n",
      "Epoch 5/50\n",
      "\u001b[1m65/65\u001b[0m \u001b[32m━━━━━━━━━━━━━━━━━━━━\u001b[0m\u001b[37m\u001b[0m \u001b[1m0s\u001b[0m 1ms/step - loss: 55.0007 - mean_absolute_error: 2.5771 - val_loss: 39.0968 - val_mean_absolute_error: 2.7893\n",
      "Epoch 6/50\n",
      "\u001b[1m65/65\u001b[0m \u001b[32m━━━━━━━━━━━━━━━━━━━━\u001b[0m\u001b[37m\u001b[0m \u001b[1m0s\u001b[0m 1ms/step - loss: 58.3608 - mean_absolute_error: 2.5573 - val_loss: 40.4690 - val_mean_absolute_error: 3.0802\n",
      "Epoch 7/50\n",
      "\u001b[1m65/65\u001b[0m \u001b[32m━━━━━━━━━━━━━━━━━━━━\u001b[0m\u001b[37m\u001b[0m \u001b[1m0s\u001b[0m 2ms/step - loss: 66.6127 - mean_absolute_error: 2.7731 - val_loss: 41.1863 - val_mean_absolute_error: 2.9728\n",
      "Epoch 8/50\n",
      "\u001b[1m65/65\u001b[0m \u001b[32m━━━━━━━━━━━━━━━━━━━━\u001b[0m\u001b[37m\u001b[0m \u001b[1m0s\u001b[0m 1ms/step - loss: 63.8967 - mean_absolute_error: 2.7019 - val_loss: 42.0859 - val_mean_absolute_error: 3.1193\n",
      "Epoch 9/50\n",
      "\u001b[1m65/65\u001b[0m \u001b[32m━━━━━━━━━━━━━━━━━━━━\u001b[0m\u001b[37m\u001b[0m \u001b[1m0s\u001b[0m 2ms/step - loss: 47.3962 - mean_absolute_error: 2.4185 - val_loss: 43.8864 - val_mean_absolute_error: 3.3940\n",
      "Epoch 10/50\n",
      "\u001b[1m65/65\u001b[0m \u001b[32m━━━━━━━━━━━━━━━━━━━━\u001b[0m\u001b[37m\u001b[0m \u001b[1m0s\u001b[0m 2ms/step - loss: 51.4232 - mean_absolute_error: 2.6212 - val_loss: 44.2828 - val_mean_absolute_error: 3.2618\n",
      "Epoch 11/50\n",
      "\u001b[1m65/65\u001b[0m \u001b[32m━━━━━━━━━━━━━━━━━━━━\u001b[0m\u001b[37m\u001b[0m \u001b[1m0s\u001b[0m 1ms/step - loss: 58.4604 - mean_absolute_error: 2.4628 - val_loss: 46.0442 - val_mean_absolute_error: 3.4257\n",
      "Epoch 12/50\n",
      "\u001b[1m65/65\u001b[0m \u001b[32m━━━━━━━━━━━━━━━━━━━━\u001b[0m\u001b[37m\u001b[0m \u001b[1m0s\u001b[0m 1ms/step - loss: 25.7340 - mean_absolute_error: 2.1885 - val_loss: 46.1705 - val_mean_absolute_error: 3.4446\n",
      "Epoch 13/50\n",
      "\u001b[1m65/65\u001b[0m \u001b[32m━━━━━━━━━━━━━━━━━━━━\u001b[0m\u001b[37m\u001b[0m \u001b[1m0s\u001b[0m 1ms/step - loss: 64.1790 - mean_absolute_error: 2.6754 - val_loss: 47.6625 - val_mean_absolute_error: 3.4382\n",
      "Epoch 14/50\n",
      "\u001b[1m65/65\u001b[0m \u001b[32m━━━━━━━━━━━━━━━━━━━━\u001b[0m\u001b[37m\u001b[0m \u001b[1m0s\u001b[0m 3ms/step - loss: 44.0335 - mean_absolute_error: 2.3431 - val_loss: 49.4448 - val_mean_absolute_error: 3.6006\n",
      "Epoch 15/50\n",
      "\u001b[1m65/65\u001b[0m \u001b[32m━━━━━━━━━━━━━━━━━━━━\u001b[0m\u001b[37m\u001b[0m \u001b[1m0s\u001b[0m 2ms/step - loss: 29.3343 - mean_absolute_error: 2.2643 - val_loss: 51.5463 - val_mean_absolute_error: 3.6643\n",
      "Epoch 16/50\n",
      "\u001b[1m65/65\u001b[0m \u001b[32m━━━━━━━━━━━━━━━━━━━━\u001b[0m\u001b[37m\u001b[0m \u001b[1m0s\u001b[0m 2ms/step - loss: 27.1500 - mean_absolute_error: 2.1307 - val_loss: 54.1632 - val_mean_absolute_error: 3.8186\n",
      "Epoch 17/50\n",
      "\u001b[1m65/65\u001b[0m \u001b[32m━━━━━━━━━━━━━━━━━━━━\u001b[0m\u001b[37m\u001b[0m \u001b[1m0s\u001b[0m 3ms/step - loss: 38.8337 - mean_absolute_error: 2.3134 - val_loss: 52.8497 - val_mean_absolute_error: 3.6705\n",
      "Epoch 18/50\n",
      "\u001b[1m65/65\u001b[0m \u001b[32m━━━━━━━━━━━━━━━━━━━━\u001b[0m\u001b[37m\u001b[0m \u001b[1m0s\u001b[0m 2ms/step - loss: 29.9611 - mean_absolute_error: 2.0559 - val_loss: 55.5100 - val_mean_absolute_error: 3.7620\n",
      "Epoch 19/50\n",
      "\u001b[1m65/65\u001b[0m \u001b[32m━━━━━━━━━━━━━━━━━━━━\u001b[0m\u001b[37m\u001b[0m \u001b[1m0s\u001b[0m 1ms/step - loss: 20.7016 - mean_absolute_error: 1.9677 - val_loss: 55.9449 - val_mean_absolute_error: 3.7805\n",
      "Epoch 20/50\n",
      "\u001b[1m65/65\u001b[0m \u001b[32m━━━━━━━━━━━━━━━━━━━━\u001b[0m\u001b[37m\u001b[0m \u001b[1m0s\u001b[0m 1ms/step - loss: 24.5089 - mean_absolute_error: 2.0345 - val_loss: 57.6700 - val_mean_absolute_error: 3.7361\n",
      "Epoch 21/50\n",
      "\u001b[1m65/65\u001b[0m \u001b[32m━━━━━━━━━━━━━━━━━━━━\u001b[0m\u001b[37m\u001b[0m \u001b[1m0s\u001b[0m 1ms/step - loss: 29.0959 - mean_absolute_error: 1.9652 - val_loss: 58.8471 - val_mean_absolute_error: 3.7557\n",
      "Epoch 22/50\n",
      "\u001b[1m65/65\u001b[0m \u001b[32m━━━━━━━━━━━━━━━━━━━━\u001b[0m\u001b[37m\u001b[0m \u001b[1m0s\u001b[0m 1ms/step - loss: 37.6795 - mean_absolute_error: 2.1242 - val_loss: 57.0311 - val_mean_absolute_error: 3.6162\n",
      "Epoch 23/50\n",
      "\u001b[1m65/65\u001b[0m \u001b[32m━━━━━━━━━━━━━━━━━━━━\u001b[0m\u001b[37m\u001b[0m \u001b[1m0s\u001b[0m 1ms/step - loss: 32.2056 - mean_absolute_error: 1.9073 - val_loss: 58.4622 - val_mean_absolute_error: 3.6828\n",
      "Epoch 24/50\n",
      "\u001b[1m65/65\u001b[0m \u001b[32m━━━━━━━━━━━━━━━━━━━━\u001b[0m\u001b[37m\u001b[0m \u001b[1m0s\u001b[0m 2ms/step - loss: 28.8486 - mean_absolute_error: 1.8795 - val_loss: 58.2060 - val_mean_absolute_error: 3.6958\n",
      "Epoch 25/50\n",
      "\u001b[1m65/65\u001b[0m \u001b[32m━━━━━━━━━━━━━━━━━━━━\u001b[0m\u001b[37m\u001b[0m \u001b[1m0s\u001b[0m 1ms/step - loss: 22.9957 - mean_absolute_error: 1.8022 - val_loss: 59.9298 - val_mean_absolute_error: 3.7595\n",
      "Epoch 26/50\n",
      "\u001b[1m65/65\u001b[0m \u001b[32m━━━━━━━━━━━━━━━━━━━━\u001b[0m\u001b[37m\u001b[0m \u001b[1m0s\u001b[0m 2ms/step - loss: 43.9628 - mean_absolute_error: 1.9644 - val_loss: 59.1647 - val_mean_absolute_error: 3.6753\n",
      "Epoch 27/50\n",
      "\u001b[1m65/65\u001b[0m \u001b[32m━━━━━━━━━━━━━━━━━━━━\u001b[0m\u001b[37m\u001b[0m \u001b[1m0s\u001b[0m 2ms/step - loss: 26.3294 - mean_absolute_error: 1.6639 - val_loss: 61.2593 - val_mean_absolute_error: 3.7346\n",
      "Epoch 28/50\n",
      "\u001b[1m65/65\u001b[0m \u001b[32m━━━━━━━━━━━━━━━━━━━━\u001b[0m\u001b[37m\u001b[0m \u001b[1m0s\u001b[0m 2ms/step - loss: 39.6958 - mean_absolute_error: 1.8931 - val_loss: 59.2494 - val_mean_absolute_error: 3.6073\n",
      "Epoch 29/50\n",
      "\u001b[1m65/65\u001b[0m \u001b[32m━━━━━━━━━━━━━━━━━━━━\u001b[0m\u001b[37m\u001b[0m \u001b[1m0s\u001b[0m 2ms/step - loss: 37.9586 - mean_absolute_error: 1.7650 - val_loss: 62.2246 - val_mean_absolute_error: 3.7006\n",
      "Epoch 30/50\n",
      "\u001b[1m65/65\u001b[0m \u001b[32m━━━━━━━━━━━━━━━━━━━━\u001b[0m\u001b[37m\u001b[0m \u001b[1m0s\u001b[0m 1ms/step - loss: 36.3443 - mean_absolute_error: 1.8718 - val_loss: 63.0560 - val_mean_absolute_error: 3.7012\n",
      "Epoch 31/50\n",
      "\u001b[1m65/65\u001b[0m \u001b[32m━━━━━━━━━━━━━━━━━━━━\u001b[0m\u001b[37m\u001b[0m \u001b[1m0s\u001b[0m 1ms/step - loss: 28.7675 - mean_absolute_error: 1.7620 - val_loss: 64.8737 - val_mean_absolute_error: 3.7882\n",
      "Epoch 32/50\n",
      "\u001b[1m65/65\u001b[0m \u001b[32m━━━━━━━━━━━━━━━━━━━━\u001b[0m\u001b[37m\u001b[0m \u001b[1m0s\u001b[0m 1ms/step - loss: 22.3254 - mean_absolute_error: 1.5722 - val_loss: 65.6293 - val_mean_absolute_error: 3.7262\n",
      "Epoch 33/50\n",
      "\u001b[1m65/65\u001b[0m \u001b[32m━━━━━━━━━━━━━━━━━━━━\u001b[0m\u001b[37m\u001b[0m \u001b[1m0s\u001b[0m 2ms/step - loss: 23.3351 - mean_absolute_error: 1.6121 - val_loss: 67.8153 - val_mean_absolute_error: 3.8139\n",
      "Epoch 34/50\n",
      "\u001b[1m65/65\u001b[0m \u001b[32m━━━━━━━━━━━━━━━━━━━━\u001b[0m\u001b[37m\u001b[0m \u001b[1m0s\u001b[0m 2ms/step - loss: 43.4770 - mean_absolute_error: 1.8711 - val_loss: 60.8059 - val_mean_absolute_error: 3.5832\n",
      "Epoch 35/50\n",
      "\u001b[1m65/65\u001b[0m \u001b[32m━━━━━━━━━━━━━━━━━━━━\u001b[0m\u001b[37m\u001b[0m \u001b[1m0s\u001b[0m 2ms/step - loss: 27.1205 - mean_absolute_error: 1.5071 - val_loss: 66.5309 - val_mean_absolute_error: 3.7561\n",
      "Epoch 36/50\n",
      "\u001b[1m65/65\u001b[0m \u001b[32m━━━━━━━━━━━━━━━━━━━━\u001b[0m\u001b[37m\u001b[0m \u001b[1m0s\u001b[0m 1ms/step - loss: 38.0323 - mean_absolute_error: 1.7909 - val_loss: 68.1756 - val_mean_absolute_error: 3.6936\n",
      "Epoch 37/50\n",
      "\u001b[1m65/65\u001b[0m \u001b[32m━━━━━━━━━━━━━━━━━━━━\u001b[0m\u001b[37m\u001b[0m \u001b[1m0s\u001b[0m 2ms/step - loss: 18.8049 - mean_absolute_error: 1.4863 - val_loss: 67.1303 - val_mean_absolute_error: 3.6567\n",
      "Epoch 38/50\n",
      "\u001b[1m65/65\u001b[0m \u001b[32m━━━━━━━━━━━━━━━━━━━━\u001b[0m\u001b[37m\u001b[0m \u001b[1m0s\u001b[0m 1ms/step - loss: 22.1877 - mean_absolute_error: 1.5891 - val_loss: 65.6486 - val_mean_absolute_error: 3.6606\n",
      "Epoch 39/50\n",
      "\u001b[1m65/65\u001b[0m \u001b[32m━━━━━━━━━━━━━━━━━━━━\u001b[0m\u001b[37m\u001b[0m \u001b[1m0s\u001b[0m 3ms/step - loss: 19.4883 - mean_absolute_error: 1.4769 - val_loss: 66.9906 - val_mean_absolute_error: 3.5872\n",
      "Epoch 40/50\n",
      "\u001b[1m65/65\u001b[0m \u001b[32m━━━━━━━━━━━━━━━━━━━━\u001b[0m\u001b[37m\u001b[0m \u001b[1m0s\u001b[0m 2ms/step - loss: 40.7694 - mean_absolute_error: 1.7008 - val_loss: 60.0384 - val_mean_absolute_error: 3.4181\n",
      "Epoch 41/50\n",
      "\u001b[1m65/65\u001b[0m \u001b[32m━━━━━━━━━━━━━━━━━━━━\u001b[0m\u001b[37m\u001b[0m \u001b[1m0s\u001b[0m 2ms/step - loss: 16.0880 - mean_absolute_error: 1.4579 - val_loss: 58.4207 - val_mean_absolute_error: 3.3952\n",
      "Epoch 42/50\n",
      "\u001b[1m65/65\u001b[0m \u001b[32m━━━━━━━━━━━━━━━━━━━━\u001b[0m\u001b[37m\u001b[0m \u001b[1m0s\u001b[0m 1ms/step - loss: 14.5543 - mean_absolute_error: 1.3079 - val_loss: 57.8693 - val_mean_absolute_error: 3.3794\n",
      "Epoch 43/50\n",
      "\u001b[1m65/65\u001b[0m \u001b[32m━━━━━━━━━━━━━━━━━━━━\u001b[0m\u001b[37m\u001b[0m \u001b[1m0s\u001b[0m 1ms/step - loss: 33.2145 - mean_absolute_error: 1.6395 - val_loss: 62.7322 - val_mean_absolute_error: 3.5126\n",
      "Epoch 44/50\n",
      "\u001b[1m65/65\u001b[0m \u001b[32m━━━━━━━━━━━━━━━━━━━━\u001b[0m\u001b[37m\u001b[0m \u001b[1m0s\u001b[0m 2ms/step - loss: 19.6389 - mean_absolute_error: 1.3785 - val_loss: 62.6200 - val_mean_absolute_error: 3.5055\n",
      "Epoch 45/50\n",
      "\u001b[1m65/65\u001b[0m \u001b[32m━━━━━━━━━━━━━━━━━━━━\u001b[0m\u001b[37m\u001b[0m \u001b[1m0s\u001b[0m 2ms/step - loss: 25.6136 - mean_absolute_error: 1.4293 - val_loss: 56.1715 - val_mean_absolute_error: 3.2964\n",
      "Epoch 46/50\n",
      "\u001b[1m65/65\u001b[0m \u001b[32m━━━━━━━━━━━━━━━━━━━━\u001b[0m\u001b[37m\u001b[0m \u001b[1m0s\u001b[0m 2ms/step - loss: 25.4661 - mean_absolute_error: 1.5119 - val_loss: 60.8252 - val_mean_absolute_error: 3.4821\n",
      "Epoch 47/50\n",
      "\u001b[1m65/65\u001b[0m \u001b[32m━━━━━━━━━━━━━━━━━━━━\u001b[0m\u001b[37m\u001b[0m \u001b[1m0s\u001b[0m 2ms/step - loss: 42.8876 - mean_absolute_error: 1.6892 - val_loss: 60.6842 - val_mean_absolute_error: 3.4217\n",
      "Epoch 48/50\n",
      "\u001b[1m65/65\u001b[0m \u001b[32m━━━━━━━━━━━━━━━━━━━━\u001b[0m\u001b[37m\u001b[0m \u001b[1m0s\u001b[0m 2ms/step - loss: 31.2842 - mean_absolute_error: 1.4700 - val_loss: 62.9973 - val_mean_absolute_error: 3.4934\n",
      "Epoch 49/50\n",
      "\u001b[1m65/65\u001b[0m \u001b[32m━━━━━━━━━━━━━━━━━━━━\u001b[0m\u001b[37m\u001b[0m \u001b[1m0s\u001b[0m 2ms/step - loss: 22.2819 - mean_absolute_error: 1.4290 - val_loss: 64.6404 - val_mean_absolute_error: 3.5123\n",
      "Epoch 50/50\n",
      "\u001b[1m65/65\u001b[0m \u001b[32m━━━━━━━━━━━━━━━━━━━━\u001b[0m\u001b[37m\u001b[0m \u001b[1m0s\u001b[0m 2ms/step - loss: 28.7629 - mean_absolute_error: 1.3906 - val_loss: 63.7571 - val_mean_absolute_error: 3.4299\n",
      "\u001b[1m17/17\u001b[0m \u001b[32m━━━━━━━━━━━━━━━━━━━━\u001b[0m\u001b[37m\u001b[0m \u001b[1m0s\u001b[0m 465us/step - loss: 76.5441 - mean_absolute_error: 3.5563\n",
      "Test Loss: 63.757110595703125, Test MAE: 3.429856777191162\n"
     ]
    }
   ],
   "source": [
    "# Rebuilding the model (if needed)\n",
    "model = tf.keras.models.Sequential([\n",
    "    tf.keras.layers.Dense(64, activation='relu', input_shape=(X_train.shape[1],)),\n",
    "    tf.keras.layers.Dropout(0.5),\n",
    "    tf.keras.layers.Dense(32, activation='relu'),\n",
    "    tf.keras.layers.Dense(1)\n",
    "])\n",
    "\n",
    "# Recompile the model\n",
    "model.compile(optimizer='adam', loss='mean_squared_error', metrics=['mean_absolute_error'])\n",
    "\n",
    "# Retrain the model\n",
    "history = model.fit(X_train, y_train, epochs=50, batch_size=32, validation_data=(X_val, y_val), verbose=1)\n",
    "\n",
    "# Evaluate the model again\n",
    "performance = model.evaluate(X_val, y_val)\n",
    "print(f'Test Loss: {performance[0]}, Test MAE: {performance[1]}')\n"
   ]
  },
  {
   "cell_type": "code",
   "execution_count": null,
   "metadata": {},
   "outputs": [
    {
     "name": "stdout",
     "output_type": "stream",
     "text": [
      "Epoch 1/50\n",
      "\u001b[1m65/65\u001b[0m \u001b[32m━━━━━━━━━━━━━━━━━━━━\u001b[0m\u001b[37m\u001b[0m \u001b[1m1s\u001b[0m 2ms/step - loss: 88.0003 - mean_absolute_error: 4.7860 - val_loss: 43.9866 - val_mean_absolute_error: 2.7186\n",
      "Epoch 2/50\n",
      "\u001b[1m65/65\u001b[0m \u001b[32m━━━━━━━━━━━━━━━━━━━━\u001b[0m\u001b[37m\u001b[0m \u001b[1m0s\u001b[0m 1ms/step - loss: 87.0368 - mean_absolute_error: 2.8595 - val_loss: 38.9708 - val_mean_absolute_error: 2.3963\n",
      "Epoch 3/50\n",
      "\u001b[1m65/65\u001b[0m \u001b[32m━━━━━━━━━━━━━━━━━━━━\u001b[0m\u001b[37m\u001b[0m \u001b[1m0s\u001b[0m 1ms/step - loss: 74.7392 - mean_absolute_error: 2.7356 - val_loss: 38.1996 - val_mean_absolute_error: 2.4480\n",
      "Epoch 4/50\n",
      "\u001b[1m65/65\u001b[0m \u001b[32m━━━━━━━━━━━━━━━━━━━━\u001b[0m\u001b[37m\u001b[0m \u001b[1m0s\u001b[0m 2ms/step - loss: 75.6390 - mean_absolute_error: 2.7682 - val_loss: 38.3690 - val_mean_absolute_error: 2.4753\n",
      "Epoch 5/50\n",
      "\u001b[1m65/65\u001b[0m \u001b[32m━━━━━━━━━━━━━━━━━━━━\u001b[0m\u001b[37m\u001b[0m \u001b[1m0s\u001b[0m 1ms/step - loss: 102.8892 - mean_absolute_error: 2.9490 - val_loss: 38.7447 - val_mean_absolute_error: 2.6005\n",
      "Epoch 6/50\n",
      "\u001b[1m65/65\u001b[0m \u001b[32m━━━━━━━━━━━━━━━━━━━━\u001b[0m\u001b[37m\u001b[0m \u001b[1m0s\u001b[0m 1ms/step - loss: 63.7760 - mean_absolute_error: 2.6089 - val_loss: 39.2506 - val_mean_absolute_error: 2.8065\n",
      "Epoch 7/50\n",
      "\u001b[1m65/65\u001b[0m \u001b[32m━━━━━━━━━━━━━━━━━━━━\u001b[0m\u001b[37m\u001b[0m \u001b[1m0s\u001b[0m 2ms/step - loss: 67.0665 - mean_absolute_error: 2.7482 - val_loss: 40.3534 - val_mean_absolute_error: 2.9038\n",
      "Epoch 8/50\n",
      "\u001b[1m65/65\u001b[0m \u001b[32m━━━━━━━━━━━━━━━━━━━━\u001b[0m\u001b[37m\u001b[0m \u001b[1m0s\u001b[0m 1ms/step - loss: 64.3399 - mean_absolute_error: 2.6396 - val_loss: 41.0111 - val_mean_absolute_error: 2.9558\n",
      "Epoch 9/50\n",
      "\u001b[1m65/65\u001b[0m \u001b[32m━━━━━━━━━━━━━━━━━━━━\u001b[0m\u001b[37m\u001b[0m \u001b[1m0s\u001b[0m 1ms/step - loss: 66.1356 - mean_absolute_error: 2.7532 - val_loss: 42.1715 - val_mean_absolute_error: 3.1165\n",
      "Epoch 10/50\n",
      "\u001b[1m65/65\u001b[0m \u001b[32m━━━━━━━━━━━━━━━━━━━━\u001b[0m\u001b[37m\u001b[0m \u001b[1m0s\u001b[0m 1ms/step - loss: 49.0948 - mean_absolute_error: 2.5398 - val_loss: 43.3393 - val_mean_absolute_error: 3.2155\n",
      "Epoch 11/50\n",
      "\u001b[1m65/65\u001b[0m \u001b[32m━━━━━━━━━━━━━━━━━━━━\u001b[0m\u001b[37m\u001b[0m \u001b[1m0s\u001b[0m 1ms/step - loss: 46.6082 - mean_absolute_error: 2.5874 - val_loss: 44.6265 - val_mean_absolute_error: 3.4061\n",
      "Epoch 12/50\n",
      "\u001b[1m65/65\u001b[0m \u001b[32m━━━━━━━━━━━━━━━━━━━━\u001b[0m\u001b[37m\u001b[0m \u001b[1m0s\u001b[0m 1ms/step - loss: 38.6011 - mean_absolute_error: 2.5102 - val_loss: 45.1099 - val_mean_absolute_error: 3.3860\n",
      "Epoch 13/50\n",
      "\u001b[1m65/65\u001b[0m \u001b[32m━━━━━━━━━━━━━━━━━━━━\u001b[0m\u001b[37m\u001b[0m \u001b[1m0s\u001b[0m 1ms/step - loss: 57.4106 - mean_absolute_error: 2.4934 - val_loss: 46.9630 - val_mean_absolute_error: 3.4752\n",
      "Epoch 14/50\n",
      "\u001b[1m65/65\u001b[0m \u001b[32m━━━━━━━━━━━━━━━━━━━━\u001b[0m\u001b[37m\u001b[0m \u001b[1m0s\u001b[0m 1ms/step - loss: 37.7487 - mean_absolute_error: 2.4379 - val_loss: 47.5076 - val_mean_absolute_error: 3.5070\n",
      "Epoch 15/50\n",
      "\u001b[1m65/65\u001b[0m \u001b[32m━━━━━━━━━━━━━━━━━━━━\u001b[0m\u001b[37m\u001b[0m \u001b[1m0s\u001b[0m 2ms/step - loss: 28.2315 - mean_absolute_error: 2.2919 - val_loss: 47.9162 - val_mean_absolute_error: 3.5274\n",
      "Epoch 16/50\n",
      "\u001b[1m65/65\u001b[0m \u001b[32m━━━━━━━━━━━━━━━━━━━━\u001b[0m\u001b[37m\u001b[0m \u001b[1m0s\u001b[0m 1ms/step - loss: 35.8742 - mean_absolute_error: 2.2850 - val_loss: 50.3574 - val_mean_absolute_error: 3.7377\n",
      "Epoch 17/50\n",
      "\u001b[1m65/65\u001b[0m \u001b[32m━━━━━━━━━━━━━━━━━━━━\u001b[0m\u001b[37m\u001b[0m \u001b[1m0s\u001b[0m 1ms/step - loss: 40.2177 - mean_absolute_error: 2.4595 - val_loss: 50.4219 - val_mean_absolute_error: 3.6564\n",
      "Epoch 18/50\n",
      "\u001b[1m65/65\u001b[0m \u001b[32m━━━━━━━━━━━━━━━━━━━━\u001b[0m\u001b[37m\u001b[0m \u001b[1m0s\u001b[0m 1ms/step - loss: 28.6484 - mean_absolute_error: 2.2247 - val_loss: 52.3860 - val_mean_absolute_error: 3.7535\n",
      "Epoch 19/50\n",
      "\u001b[1m65/65\u001b[0m \u001b[32m━━━━━━━━━━━━━━━━━━━━\u001b[0m\u001b[37m\u001b[0m \u001b[1m0s\u001b[0m 2ms/step - loss: 41.7539 - mean_absolute_error: 2.4389 - val_loss: 52.4098 - val_mean_absolute_error: 3.7002\n",
      "Epoch 20/50\n",
      "\u001b[1m65/65\u001b[0m \u001b[32m━━━━━━━━━━━━━━━━━━━━\u001b[0m\u001b[37m\u001b[0m \u001b[1m0s\u001b[0m 1ms/step - loss: 48.4759 - mean_absolute_error: 2.3851 - val_loss: 53.9715 - val_mean_absolute_error: 3.7372\n",
      "Epoch 21/50\n",
      "\u001b[1m65/65\u001b[0m \u001b[32m━━━━━━━━━━━━━━━━━━━━\u001b[0m\u001b[37m\u001b[0m \u001b[1m0s\u001b[0m 1ms/step - loss: 33.3598 - mean_absolute_error: 2.0355 - val_loss: 54.4065 - val_mean_absolute_error: 3.7486\n",
      "Epoch 22/50\n",
      "\u001b[1m65/65\u001b[0m \u001b[32m━━━━━━━━━━━━━━━━━━━━\u001b[0m\u001b[37m\u001b[0m \u001b[1m0s\u001b[0m 1ms/step - loss: 23.4749 - mean_absolute_error: 1.9124 - val_loss: 56.4941 - val_mean_absolute_error: 3.8718\n",
      "Epoch 23/50\n",
      "\u001b[1m65/65\u001b[0m \u001b[32m━━━━━━━━━━━━━━━━━━━━\u001b[0m\u001b[37m\u001b[0m \u001b[1m0s\u001b[0m 1ms/step - loss: 25.3890 - mean_absolute_error: 2.0459 - val_loss: 57.3234 - val_mean_absolute_error: 3.8660\n",
      "Epoch 24/50\n",
      "\u001b[1m65/65\u001b[0m \u001b[32m━━━━━━━━━━━━━━━━━━━━\u001b[0m\u001b[37m\u001b[0m \u001b[1m0s\u001b[0m 1ms/step - loss: 40.1650 - mean_absolute_error: 2.1715 - val_loss: 56.3013 - val_mean_absolute_error: 3.7875\n",
      "Epoch 25/50\n",
      "\u001b[1m65/65\u001b[0m \u001b[32m━━━━━━━━━━━━━━━━━━━━\u001b[0m\u001b[37m\u001b[0m \u001b[1m0s\u001b[0m 1ms/step - loss: 31.5929 - mean_absolute_error: 1.9621 - val_loss: 59.9541 - val_mean_absolute_error: 3.8841\n",
      "Epoch 26/50\n",
      "\u001b[1m65/65\u001b[0m \u001b[32m━━━━━━━━━━━━━━━━━━━━\u001b[0m\u001b[37m\u001b[0m \u001b[1m0s\u001b[0m 1ms/step - loss: 18.3703 - mean_absolute_error: 1.7678 - val_loss: 59.3201 - val_mean_absolute_error: 3.8538\n",
      "Epoch 27/50\n",
      "\u001b[1m65/65\u001b[0m \u001b[32m━━━━━━━━━━━━━━━━━━━━\u001b[0m\u001b[37m\u001b[0m \u001b[1m0s\u001b[0m 1ms/step - loss: 28.2467 - mean_absolute_error: 1.9089 - val_loss: 60.0177 - val_mean_absolute_error: 3.8222\n",
      "Epoch 28/50\n",
      "\u001b[1m65/65\u001b[0m \u001b[32m━━━━━━━━━━━━━━━━━━━━\u001b[0m\u001b[37m\u001b[0m \u001b[1m0s\u001b[0m 1ms/step - loss: 34.9784 - mean_absolute_error: 1.9780 - val_loss: 61.7912 - val_mean_absolute_error: 3.8481\n",
      "Epoch 29/50\n",
      "\u001b[1m65/65\u001b[0m \u001b[32m━━━━━━━━━━━━━━━━━━━━\u001b[0m\u001b[37m\u001b[0m \u001b[1m0s\u001b[0m 1ms/step - loss: 23.9186 - mean_absolute_error: 1.7346 - val_loss: 62.9408 - val_mean_absolute_error: 3.9284\n",
      "Epoch 30/50\n",
      "\u001b[1m65/65\u001b[0m \u001b[32m━━━━━━━━━━━━━━━━━━━━\u001b[0m\u001b[37m\u001b[0m \u001b[1m0s\u001b[0m 2ms/step - loss: 26.4942 - mean_absolute_error: 1.8281 - val_loss: 62.6831 - val_mean_absolute_error: 3.8441\n",
      "Epoch 31/50\n",
      "\u001b[1m65/65\u001b[0m \u001b[32m━━━━━━━━━━━━━━━━━━━━\u001b[0m\u001b[37m\u001b[0m \u001b[1m0s\u001b[0m 1ms/step - loss: 30.0601 - mean_absolute_error: 1.7480 - val_loss: 63.9712 - val_mean_absolute_error: 3.8551\n",
      "Epoch 32/50\n",
      "\u001b[1m65/65\u001b[0m \u001b[32m━━━━━━━━━━━━━━━━━━━━\u001b[0m\u001b[37m\u001b[0m \u001b[1m0s\u001b[0m 1ms/step - loss: 28.2025 - mean_absolute_error: 1.8469 - val_loss: 63.8860 - val_mean_absolute_error: 3.8384\n",
      "Epoch 33/50\n",
      "\u001b[1m65/65\u001b[0m \u001b[32m━━━━━━━━━━━━━━━━━━━━\u001b[0m\u001b[37m\u001b[0m \u001b[1m0s\u001b[0m 1ms/step - loss: 33.8282 - mean_absolute_error: 1.8463 - val_loss: 65.4678 - val_mean_absolute_error: 3.9429\n",
      "Epoch 34/50\n",
      "\u001b[1m65/65\u001b[0m \u001b[32m━━━━━━━━━━━━━━━━━━━━\u001b[0m\u001b[37m\u001b[0m \u001b[1m0s\u001b[0m 1ms/step - loss: 15.6554 - mean_absolute_error: 1.5399 - val_loss: 64.1273 - val_mean_absolute_error: 3.8485\n",
      "Epoch 35/50\n",
      "\u001b[1m65/65\u001b[0m \u001b[32m━━━━━━━━━━━━━━━━━━━━\u001b[0m\u001b[37m\u001b[0m \u001b[1m0s\u001b[0m 1ms/step - loss: 33.2643 - mean_absolute_error: 1.8756 - val_loss: 64.1148 - val_mean_absolute_error: 3.8097\n",
      "Epoch 36/50\n",
      "\u001b[1m65/65\u001b[0m \u001b[32m━━━━━━━━━━━━━━━━━━━━\u001b[0m\u001b[37m\u001b[0m \u001b[1m0s\u001b[0m 1ms/step - loss: 30.3241 - mean_absolute_error: 1.7311 - val_loss: 66.2700 - val_mean_absolute_error: 3.8774\n",
      "Epoch 37/50\n",
      "\u001b[1m65/65\u001b[0m \u001b[32m━━━━━━━━━━━━━━━━━━━━\u001b[0m\u001b[37m\u001b[0m \u001b[1m0s\u001b[0m 1ms/step - loss: 25.7229 - mean_absolute_error: 1.7038 - val_loss: 65.3539 - val_mean_absolute_error: 3.7941\n",
      "Epoch 38/50\n",
      "\u001b[1m65/65\u001b[0m \u001b[32m━━━━━━━━━━━━━━━━━━━━\u001b[0m\u001b[37m\u001b[0m \u001b[1m0s\u001b[0m 1ms/step - loss: 20.7422 - mean_absolute_error: 1.6430 - val_loss: 65.3421 - val_mean_absolute_error: 3.8138\n",
      "Epoch 39/50\n",
      "\u001b[1m65/65\u001b[0m \u001b[32m━━━━━━━━━━━━━━━━━━━━\u001b[0m\u001b[37m\u001b[0m \u001b[1m0s\u001b[0m 1ms/step - loss: 27.7427 - mean_absolute_error: 1.7000 - val_loss: 64.6490 - val_mean_absolute_error: 3.8193\n",
      "Epoch 40/50\n",
      "\u001b[1m65/65\u001b[0m \u001b[32m━━━━━━━━━━━━━━━━━━━━\u001b[0m\u001b[37m\u001b[0m \u001b[1m0s\u001b[0m 1ms/step - loss: 22.4062 - mean_absolute_error: 1.5643 - val_loss: 65.4788 - val_mean_absolute_error: 3.8079\n",
      "Epoch 41/50\n",
      "\u001b[1m65/65\u001b[0m \u001b[32m━━━━━━━━━━━━━━━━━━━━\u001b[0m\u001b[37m\u001b[0m \u001b[1m0s\u001b[0m 1ms/step - loss: 37.6577 - mean_absolute_error: 1.7472 - val_loss: 70.0409 - val_mean_absolute_error: 3.9069\n",
      "Epoch 42/50\n",
      "\u001b[1m65/65\u001b[0m \u001b[32m━━━━━━━━━━━━━━━━━━━━\u001b[0m\u001b[37m\u001b[0m \u001b[1m0s\u001b[0m 1ms/step - loss: 30.0788 - mean_absolute_error: 1.7128 - val_loss: 67.6562 - val_mean_absolute_error: 3.8048\n",
      "Epoch 43/50\n",
      "\u001b[1m65/65\u001b[0m \u001b[32m━━━━━━━━━━━━━━━━━━━━\u001b[0m\u001b[37m\u001b[0m \u001b[1m0s\u001b[0m 1ms/step - loss: 17.0621 - mean_absolute_error: 1.4858 - val_loss: 65.1275 - val_mean_absolute_error: 3.7715\n",
      "Epoch 44/50\n",
      "\u001b[1m65/65\u001b[0m \u001b[32m━━━━━━━━━━━━━━━━━━━━\u001b[0m\u001b[37m\u001b[0m \u001b[1m0s\u001b[0m 1ms/step - loss: 22.8029 - mean_absolute_error: 1.5867 - val_loss: 68.7797 - val_mean_absolute_error: 3.8171\n",
      "Epoch 45/50\n",
      "\u001b[1m65/65\u001b[0m \u001b[32m━━━━━━━━━━━━━━━━━━━━\u001b[0m\u001b[37m\u001b[0m \u001b[1m0s\u001b[0m 1ms/step - loss: 14.9373 - mean_absolute_error: 1.3688 - val_loss: 64.7371 - val_mean_absolute_error: 3.6560\n",
      "Epoch 46/50\n",
      "\u001b[1m65/65\u001b[0m \u001b[32m━━━━━━━━━━━━━━━━━━━━\u001b[0m\u001b[37m\u001b[0m \u001b[1m0s\u001b[0m 1ms/step - loss: 42.9964 - mean_absolute_error: 1.7369 - val_loss: 69.0497 - val_mean_absolute_error: 3.7900\n",
      "Epoch 47/50\n",
      "\u001b[1m65/65\u001b[0m \u001b[32m━━━━━━━━━━━━━━━━━━━━\u001b[0m\u001b[37m\u001b[0m \u001b[1m0s\u001b[0m 1ms/step - loss: 38.6316 - mean_absolute_error: 1.6039 - val_loss: 71.7249 - val_mean_absolute_error: 3.8475\n",
      "Epoch 48/50\n",
      "\u001b[1m65/65\u001b[0m \u001b[32m━━━━━━━━━━━━━━━━━━━━\u001b[0m\u001b[37m\u001b[0m \u001b[1m0s\u001b[0m 1ms/step - loss: 18.4669 - mean_absolute_error: 1.4195 - val_loss: 69.4051 - val_mean_absolute_error: 3.8013\n",
      "Epoch 49/50\n",
      "\u001b[1m65/65\u001b[0m \u001b[32m━━━━━━━━━━━━━━━━━━━━\u001b[0m\u001b[37m\u001b[0m \u001b[1m0s\u001b[0m 1ms/step - loss: 26.9523 - mean_absolute_error: 1.5311 - val_loss: 67.2738 - val_mean_absolute_error: 3.6954\n",
      "Epoch 50/50\n",
      "\u001b[1m65/65\u001b[0m \u001b[32m━━━━━━━━━━━━━━━━━━━━\u001b[0m\u001b[37m\u001b[0m \u001b[1m0s\u001b[0m 1ms/step - loss: 31.9707 - mean_absolute_error: 1.5587 - val_loss: 64.7618 - val_mean_absolute_error: 3.6043\n",
      "\u001b[1m17/17\u001b[0m \u001b[32m━━━━━━━━━━━━━━━━━━━━\u001b[0m\u001b[37m\u001b[0m \u001b[1m0s\u001b[0m 432us/step - loss: 42.2398 - mean_absolute_error: 2.4004\n",
      "Test Loss: 38.970802307128906, Test MAE: 2.3963024616241455\n"
     ]
    }
   ],
   "source": [
    "from tensorflow.keras.callbacks import EarlyStopping\n",
    "\n",
    "# Modify the model\n",
    "model = tf.keras.models.Sequential([\n",
    "    tf.keras.layers.Dense(32, activation='relu', input_shape=(X_train.shape[1],)),\n",
    "    tf.keras.layers.Dropout(0.3),\n",
    "    tf.keras.layers.Dense(16, activation='relu'),\n",
    "    tf.keras.layers.Dense(1)\n",
    "])\n",
    "\n",
    "# Compile the model with a potentially lower learning rate\n",
    "optimizer = tf.keras.optimizers.Adam(learning_rate=0.001)\n",
    "model.compile(optimizer=optimizer, loss='mean_squared_error', metrics=['mean_absolute_error'])\n",
    "\n",
    "# Early stopping to prevent overfitting\n",
    "early_stopping = EarlyStopping(monitor='val_mean_absolute_error', patience=50, restore_best_weights=True)\n",
    "\n",
    "# Fit the model\n",
    "history = model.fit(X_train, y_train, epochs=50, batch_size=32,\n",
    "                    validation_data=(X_val, y_val), callbacks=[early_stopping], verbose=1)\n",
    "\n",
    "# Evaluate the model\n",
    "performance = model.evaluate(X_val, y_val)\n",
    "print(f'Test Loss: {performance[0]}, Test MAE: {performance[1]}')"
   ]
  },
  {
   "cell_type": "code",
   "execution_count": null,
   "metadata": {},
   "outputs": [
    {
     "name": "stdout",
     "output_type": "stream",
     "text": [
      "Epoch 1/100\n",
      "\u001b[1m65/65\u001b[0m \u001b[32m━━━━━━━━━━━━━━━━━━━━\u001b[0m\u001b[37m\u001b[0m \u001b[1m1s\u001b[0m 3ms/step - loss: 115.5340 - mean_absolute_error: 5.2711 - val_loss: 59.3869 - val_mean_absolute_error: 4.6900 - learning_rate: 0.0010\n",
      "Epoch 2/100\n",
      "\u001b[1m65/65\u001b[0m \u001b[32m━━━━━━━━━━━━━━━━━━━━\u001b[0m\u001b[37m\u001b[0m \u001b[1m0s\u001b[0m 2ms/step - loss: 103.8653 - mean_absolute_error: 4.8833 - val_loss: 55.0114 - val_mean_absolute_error: 4.1950 - learning_rate: 0.0010\n",
      "Epoch 3/100\n",
      "\u001b[1m65/65\u001b[0m \u001b[32m━━━━━━━━━━━━━━━━━━━━\u001b[0m\u001b[37m\u001b[0m \u001b[1m0s\u001b[0m 2ms/step - loss: 68.7795 - mean_absolute_error: 4.2288 - val_loss: 51.4385 - val_mean_absolute_error: 3.7781 - learning_rate: 0.0010\n",
      "Epoch 4/100\n",
      "\u001b[1m65/65\u001b[0m \u001b[32m━━━━━━━━━━━━━━━━━━━━\u001b[0m\u001b[37m\u001b[0m \u001b[1m0s\u001b[0m 2ms/step - loss: 61.2109 - mean_absolute_error: 3.6674 - val_loss: 47.8241 - val_mean_absolute_error: 3.2799 - learning_rate: 0.0010\n",
      "Epoch 5/100\n",
      "\u001b[1m65/65\u001b[0m \u001b[32m━━━━━━━━━━━━━━━━━━━━\u001b[0m\u001b[37m\u001b[0m \u001b[1m0s\u001b[0m 2ms/step - loss: 90.5396 - mean_absolute_error: 3.5438 - val_loss: 45.3658 - val_mean_absolute_error: 2.9808 - learning_rate: 0.0010\n",
      "Epoch 6/100\n",
      "\u001b[1m65/65\u001b[0m \u001b[32m━━━━━━━━━━━━━━━━━━━━\u001b[0m\u001b[37m\u001b[0m \u001b[1m0s\u001b[0m 2ms/step - loss: 104.8262 - mean_absolute_error: 3.4343 - val_loss: 44.2692 - val_mean_absolute_error: 2.8357 - learning_rate: 0.0010\n",
      "Epoch 7/100\n",
      "\u001b[1m65/65\u001b[0m \u001b[32m━━━━━━━━━━━━━━━━━━━━\u001b[0m\u001b[37m\u001b[0m \u001b[1m0s\u001b[0m 2ms/step - loss: 58.8652 - mean_absolute_error: 2.6898 - val_loss: 44.3542 - val_mean_absolute_error: 2.8061 - learning_rate: 0.0010\n",
      "Epoch 8/100\n",
      "\u001b[1m65/65\u001b[0m \u001b[32m━━━━━━━━━━━━━━━━━━━━\u001b[0m\u001b[37m\u001b[0m \u001b[1m0s\u001b[0m 2ms/step - loss: 57.5738 - mean_absolute_error: 2.4786 - val_loss: 44.8543 - val_mean_absolute_error: 2.9593 - learning_rate: 0.0010\n",
      "Epoch 9/100\n",
      "\u001b[1m65/65\u001b[0m \u001b[32m━━━━━━━━━━━━━━━━━━━━\u001b[0m\u001b[37m\u001b[0m \u001b[1m0s\u001b[0m 2ms/step - loss: 44.7068 - mean_absolute_error: 2.4701 - val_loss: 46.4400 - val_mean_absolute_error: 3.0141 - learning_rate: 0.0010\n",
      "Epoch 10/100\n",
      "\u001b[1m65/65\u001b[0m \u001b[32m━━━━━━━━━━━━━━━━━━━━\u001b[0m\u001b[37m\u001b[0m \u001b[1m0s\u001b[0m 2ms/step - loss: 54.9464 - mean_absolute_error: 2.6866 - val_loss: 45.5283 - val_mean_absolute_error: 2.8686 - learning_rate: 0.0010\n",
      "Epoch 11/100\n",
      "\u001b[1m65/65\u001b[0m \u001b[32m━━━━━━━━━━━━━━━━━━━━\u001b[0m\u001b[37m\u001b[0m \u001b[1m0s\u001b[0m 2ms/step - loss: 26.5216 - mean_absolute_error: 2.2282 - val_loss: 47.1357 - val_mean_absolute_error: 2.9945 - learning_rate: 0.0010\n",
      "Epoch 12/100\n",
      "\u001b[1m65/65\u001b[0m \u001b[32m━━━━━━━━━━━━━━━━━━━━\u001b[0m\u001b[37m\u001b[0m \u001b[1m0s\u001b[0m 2ms/step - loss: 39.9461 - mean_absolute_error: 2.4249 - val_loss: 49.2213 - val_mean_absolute_error: 2.9474 - learning_rate: 0.0010\n",
      "Epoch 13/100\n",
      "\u001b[1m65/65\u001b[0m \u001b[32m━━━━━━━━━━━━━━━━━━━━\u001b[0m\u001b[37m\u001b[0m \u001b[1m0s\u001b[0m 2ms/step - loss: 26.5243 - mean_absolute_error: 2.2173 - val_loss: 49.5017 - val_mean_absolute_error: 2.9149 - learning_rate: 0.0010\n",
      "Epoch 14/100\n",
      "\u001b[1m65/65\u001b[0m \u001b[32m━━━━━━━━━━━━━━━━━━━━\u001b[0m\u001b[37m\u001b[0m \u001b[1m0s\u001b[0m 2ms/step - loss: 44.3469 - mean_absolute_error: 2.5210 - val_loss: 51.7169 - val_mean_absolute_error: 2.9315 - learning_rate: 0.0010\n",
      "Epoch 15/100\n",
      "\u001b[1m65/65\u001b[0m \u001b[32m━━━━━━━━━━━━━━━━━━━━\u001b[0m\u001b[37m\u001b[0m \u001b[1m0s\u001b[0m 2ms/step - loss: 57.1894 - mean_absolute_error: 2.5896 - val_loss: 47.2154 - val_mean_absolute_error: 2.8294 - learning_rate: 0.0010\n",
      "Epoch 16/100\n",
      "\u001b[1m65/65\u001b[0m \u001b[32m━━━━━━━━━━━━━━━━━━━━\u001b[0m\u001b[37m\u001b[0m \u001b[1m0s\u001b[0m 2ms/step - loss: 35.3574 - mean_absolute_error: 2.3323 - val_loss: 49.8468 - val_mean_absolute_error: 2.8896 - learning_rate: 0.0010\n",
      "Epoch 17/100\n",
      "\u001b[1m65/65\u001b[0m \u001b[32m━━━━━━━━━━━━━━━━━━━━\u001b[0m\u001b[37m\u001b[0m \u001b[1m0s\u001b[0m 2ms/step - loss: 28.5238 - mean_absolute_error: 2.2121 - val_loss: 49.9758 - val_mean_absolute_error: 2.8526 - learning_rate: 2.0000e-04\n",
      "Epoch 18/100\n",
      "\u001b[1m65/65\u001b[0m \u001b[32m━━━━━━━━━━━━━━━━━━━━\u001b[0m\u001b[37m\u001b[0m \u001b[1m0s\u001b[0m 2ms/step - loss: 37.2647 - mean_absolute_error: 2.3704 - val_loss: 50.7287 - val_mean_absolute_error: 2.8520 - learning_rate: 2.0000e-04\n",
      "Epoch 19/100\n",
      "\u001b[1m65/65\u001b[0m \u001b[32m━━━━━━━━━━━━━━━━━━━━\u001b[0m\u001b[37m\u001b[0m \u001b[1m0s\u001b[0m 2ms/step - loss: 34.0694 - mean_absolute_error: 2.3194 - val_loss: 50.9173 - val_mean_absolute_error: 2.8462 - learning_rate: 2.0000e-04\n",
      "Epoch 20/100\n",
      "\u001b[1m65/65\u001b[0m \u001b[32m━━━━━━━━━━━━━━━━━━━━\u001b[0m\u001b[37m\u001b[0m \u001b[1m0s\u001b[0m 2ms/step - loss: 36.6334 - mean_absolute_error: 2.2197 - val_loss: 52.2425 - val_mean_absolute_error: 2.8760 - learning_rate: 2.0000e-04\n",
      "Epoch 21/100\n",
      "\u001b[1m65/65\u001b[0m \u001b[32m━━━━━━━━━━━━━━━━━━━━\u001b[0m\u001b[37m\u001b[0m \u001b[1m0s\u001b[0m 2ms/step - loss: 29.1575 - mean_absolute_error: 2.0514 - val_loss: 51.5298 - val_mean_absolute_error: 2.8676 - learning_rate: 2.0000e-04\n",
      "Epoch 22/100\n",
      "\u001b[1m65/65\u001b[0m \u001b[32m━━━━━━━━━━━━━━━━━━━━\u001b[0m\u001b[37m\u001b[0m \u001b[1m0s\u001b[0m 2ms/step - loss: 21.1045 - mean_absolute_error: 2.0603 - val_loss: 51.6833 - val_mean_absolute_error: 2.8717 - learning_rate: 2.0000e-04\n",
      "Epoch 23/100\n",
      "\u001b[1m65/65\u001b[0m \u001b[32m━━━━━━━━━━━━━━━━━━━━\u001b[0m\u001b[37m\u001b[0m \u001b[1m0s\u001b[0m 2ms/step - loss: 33.1125 - mean_absolute_error: 2.1744 - val_loss: 52.2122 - val_mean_absolute_error: 2.8609 - learning_rate: 2.0000e-04\n",
      "Epoch 24/100\n",
      "\u001b[1m65/65\u001b[0m \u001b[32m━━━━━━━━━━━━━━━━━━━━\u001b[0m\u001b[37m\u001b[0m \u001b[1m0s\u001b[0m 2ms/step - loss: 57.7146 - mean_absolute_error: 2.3559 - val_loss: 52.6610 - val_mean_absolute_error: 2.8773 - learning_rate: 2.0000e-04\n",
      "Epoch 25/100\n",
      "\u001b[1m65/65\u001b[0m \u001b[32m━━━━━━━━━━━━━━━━━━━━\u001b[0m\u001b[37m\u001b[0m \u001b[1m0s\u001b[0m 2ms/step - loss: 52.2108 - mean_absolute_error: 2.3765 - val_loss: 53.7216 - val_mean_absolute_error: 2.8955 - learning_rate: 2.0000e-04\n",
      "Epoch 26/100\n",
      "\u001b[1m65/65\u001b[0m \u001b[32m━━━━━━━━━━━━━━━━━━━━\u001b[0m\u001b[37m\u001b[0m \u001b[1m0s\u001b[0m 2ms/step - loss: 30.2784 - mean_absolute_error: 2.1129 - val_loss: 53.6803 - val_mean_absolute_error: 2.8885 - learning_rate: 2.0000e-04\n",
      "Epoch 27/100\n",
      "\u001b[1m65/65\u001b[0m \u001b[32m━━━━━━━━━━━━━━━━━━━━\u001b[0m\u001b[37m\u001b[0m \u001b[1m0s\u001b[0m 2ms/step - loss: 90.9313 - mean_absolute_error: 2.7465 - val_loss: 54.2337 - val_mean_absolute_error: 2.9033 - learning_rate: 4.0000e-05\n",
      "\u001b[1m17/17\u001b[0m \u001b[32m━━━━━━━━━━━━━━━━━━━━\u001b[0m\u001b[37m\u001b[0m \u001b[1m0s\u001b[0m 517us/step - loss: 48.6037 - mean_absolute_error: 2.8585\n",
      "Test Loss: 44.354183197021484, Test MAE: 2.8061184883117676\n"
     ]
    }
   ],
   "source": [
    "from tensorflow.keras.models import Sequential\n",
    "from tensorflow.keras.layers import Dense, Dropout, BatchNormalization\n",
    "from tensorflow.keras.regularizers import l2\n",
    "from tensorflow.keras.optimizers import Adam\n",
    "from tensorflow.keras.callbacks import ReduceLROnPlateau, EarlyStopping\n",
    "\n",
    "# Define the model architecture with L2 regularization\n",
    "model = Sequential([\n",
    "    Dense(64, activation='relu', input_shape=(X_train.shape[1],), kernel_regularizer=l2(0.01)),\n",
    "    BatchNormalization(),\n",
    "    Dropout(0.3),\n",
    "    Dense(32, activation='relu', kernel_regularizer=l2(0.01)),\n",
    "    BatchNormalization(),\n",
    "    Dense(1)\n",
    "])\n",
    "\n",
    "# Optimizer\n",
    "optimizer = Adam(learning_rate=0.001)\n",
    "\n",
    "# Compile the model\n",
    "model.compile(optimizer=optimizer, loss='mean_squared_error', metrics=['mean_absolute_error'])\n",
    "\n",
    "# Callbacks\n",
    "reduce_lr = ReduceLROnPlateau(monitor='val_loss', factor=0.2, patience=10, min_lr=0.00001)\n",
    "early_stopping = EarlyStopping(monitor='val_mean_absolute_error', patience=20, restore_best_weights=True)\n",
    "\n",
    "# Fit the model\n",
    "history = model.fit(X_train, y_train, epochs=100, batch_size=32, validation_data=(X_val, y_val),\n",
    "                    callbacks=[reduce_lr, early_stopping], verbose=1)\n",
    "\n",
    "# Evaluate the model\n",
    "performance = model.evaluate(X_val, y_val)\n",
    "print(f'Test Loss: {performance[0]}, Test MAE: {performance[1]}')\n"
   ]
  },
  {
   "cell_type": "code",
   "execution_count": null,
   "metadata": {},
   "outputs": [
    {
     "name": "stdout",
     "output_type": "stream",
     "text": [
      "Epoch 1/300\n",
      "\u001b[1m65/65\u001b[0m \u001b[32m━━━━━━━━━━━━━━━━━━━━\u001b[0m\u001b[37m\u001b[0m \u001b[1m1s\u001b[0m 3ms/step - loss: 99.8520 - mean_absolute_error: 4.1050 - val_loss: 39.8446 - val_mean_absolute_error: 2.4515 - learning_rate: 0.0010\n",
      "Epoch 2/300\n",
      "\u001b[1m65/65\u001b[0m \u001b[32m━━━━━━━━━━━━━━━━━━━━\u001b[0m\u001b[37m\u001b[0m \u001b[1m0s\u001b[0m 2ms/step - loss: 48.2706 - mean_absolute_error: 2.4994 - val_loss: 39.6262 - val_mean_absolute_error: 2.5383 - learning_rate: 0.0010\n",
      "Epoch 3/300\n",
      "\u001b[1m65/65\u001b[0m \u001b[32m━━━━━━━━━━━━━━━━━━━━\u001b[0m\u001b[37m\u001b[0m \u001b[1m0s\u001b[0m 3ms/step - loss: 81.8420 - mean_absolute_error: 2.8849 - val_loss: 40.3194 - val_mean_absolute_error: 2.5590 - learning_rate: 0.0010\n",
      "Epoch 4/300\n",
      "\u001b[1m65/65\u001b[0m \u001b[32m━━━━━━━━━━━━━━━━━━━━\u001b[0m\u001b[37m\u001b[0m \u001b[1m0s\u001b[0m 3ms/step - loss: 63.5527 - mean_absolute_error: 2.6571 - val_loss: 40.7930 - val_mean_absolute_error: 2.7043 - learning_rate: 0.0010\n",
      "Epoch 5/300\n",
      "\u001b[1m65/65\u001b[0m \u001b[32m━━━━━━━━━━━━━━━━━━━━\u001b[0m\u001b[37m\u001b[0m \u001b[1m0s\u001b[0m 3ms/step - loss: 58.3652 - mean_absolute_error: 2.5368 - val_loss: 41.3896 - val_mean_absolute_error: 2.8284 - learning_rate: 0.0010\n",
      "Epoch 6/300\n",
      "\u001b[1m65/65\u001b[0m \u001b[32m━━━━━━━━━━━━━━━━━━━━\u001b[0m\u001b[37m\u001b[0m \u001b[1m0s\u001b[0m 3ms/step - loss: 55.9300 - mean_absolute_error: 2.6488 - val_loss: 42.2748 - val_mean_absolute_error: 2.9315 - learning_rate: 0.0010\n",
      "Epoch 7/300\n",
      "\u001b[1m65/65\u001b[0m \u001b[32m━━━━━━━━━━━━━━━━━━━━\u001b[0m\u001b[37m\u001b[0m \u001b[1m0s\u001b[0m 2ms/step - loss: 59.8591 - mean_absolute_error: 2.6023 - val_loss: 43.4074 - val_mean_absolute_error: 3.0071 - learning_rate: 0.0010\n",
      "Epoch 8/300\n",
      "\u001b[1m65/65\u001b[0m \u001b[32m━━━━━━━━━━━━━━━━━━━━\u001b[0m\u001b[37m\u001b[0m \u001b[1m0s\u001b[0m 2ms/step - loss: 58.3928 - mean_absolute_error: 2.7330 - val_loss: 43.5541 - val_mean_absolute_error: 3.0214 - learning_rate: 2.0000e-04\n",
      "Epoch 9/300\n",
      "\u001b[1m65/65\u001b[0m \u001b[32m━━━━━━━━━━━━━━━━━━━━\u001b[0m\u001b[37m\u001b[0m \u001b[1m0s\u001b[0m 2ms/step - loss: 78.3781 - mean_absolute_error: 2.6576 - val_loss: 43.8382 - val_mean_absolute_error: 3.0500 - learning_rate: 2.0000e-04\n",
      "Epoch 10/300\n",
      "\u001b[1m65/65\u001b[0m \u001b[32m━━━━━━━━━━━━━━━━━━━━\u001b[0m\u001b[37m\u001b[0m \u001b[1m0s\u001b[0m 3ms/step - loss: 52.2365 - mean_absolute_error: 2.5853 - val_loss: 43.9680 - val_mean_absolute_error: 3.0781 - learning_rate: 2.0000e-04\n",
      "Epoch 11/300\n",
      "\u001b[1m65/65\u001b[0m \u001b[32m━━━━━━━━━━━━━━━━━━━━\u001b[0m\u001b[37m\u001b[0m \u001b[1m0s\u001b[0m 2ms/step - loss: 50.8053 - mean_absolute_error: 2.5244 - val_loss: 44.3712 - val_mean_absolute_error: 3.1391 - learning_rate: 2.0000e-04\n",
      "Epoch 12/300\n",
      "\u001b[1m65/65\u001b[0m \u001b[32m━━━━━━━━━━━━━━━━━━━━\u001b[0m\u001b[37m\u001b[0m \u001b[1m0s\u001b[0m 2ms/step - loss: 72.2494 - mean_absolute_error: 2.5968 - val_loss: 44.4661 - val_mean_absolute_error: 3.1232 - learning_rate: 2.0000e-04\n",
      "Epoch 13/300\n",
      "\u001b[1m65/65\u001b[0m \u001b[32m━━━━━━━━━━━━━━━━━━━━\u001b[0m\u001b[37m\u001b[0m \u001b[1m2s\u001b[0m 23ms/step - loss: 40.7394 - mean_absolute_error: 2.4809 - val_loss: 44.6915 - val_mean_absolute_error: 3.1465 - learning_rate: 1.0000e-04\n",
      "Epoch 14/300\n",
      "\u001b[1m65/65\u001b[0m \u001b[32m━━━━━━━━━━━━━━━━━━━━\u001b[0m\u001b[37m\u001b[0m \u001b[1m0s\u001b[0m 3ms/step - loss: 87.5259 - mean_absolute_error: 2.9346 - val_loss: 44.7648 - val_mean_absolute_error: 3.1570 - learning_rate: 1.0000e-04\n",
      "Epoch 15/300\n",
      "\u001b[1m65/65\u001b[0m \u001b[32m━━━━━━━━━━━━━━━━━━━━\u001b[0m\u001b[37m\u001b[0m \u001b[1m0s\u001b[0m 3ms/step - loss: 33.7478 - mean_absolute_error: 2.3244 - val_loss: 44.8104 - val_mean_absolute_error: 3.1657 - learning_rate: 1.0000e-04\n",
      "Epoch 16/300\n",
      "\u001b[1m65/65\u001b[0m \u001b[32m━━━━━━━━━━━━━━━━━━━━\u001b[0m\u001b[37m\u001b[0m \u001b[1m0s\u001b[0m 2ms/step - loss: 65.0383 - mean_absolute_error: 2.6090 - val_loss: 45.0113 - val_mean_absolute_error: 3.1872 - learning_rate: 1.0000e-04\n",
      "Epoch 17/300\n",
      "\u001b[1m65/65\u001b[0m \u001b[32m━━━━━━━━━━━━━━━━━━━━\u001b[0m\u001b[37m\u001b[0m \u001b[1m0s\u001b[0m 2ms/step - loss: 41.6785 - mean_absolute_error: 2.4748 - val_loss: 45.1785 - val_mean_absolute_error: 3.2014 - learning_rate: 1.0000e-04\n",
      "Epoch 18/300\n",
      "\u001b[1m65/65\u001b[0m \u001b[32m━━━━━━━━━━━━━━━━━━━━\u001b[0m\u001b[37m\u001b[0m \u001b[1m0s\u001b[0m 2ms/step - loss: 51.5710 - mean_absolute_error: 2.6857 - val_loss: 45.2701 - val_mean_absolute_error: 3.2151 - learning_rate: 1.0000e-04\n",
      "Epoch 19/300\n",
      "\u001b[1m65/65\u001b[0m \u001b[32m━━━━━━━━━━━━━━━━━━━━\u001b[0m\u001b[37m\u001b[0m \u001b[1m0s\u001b[0m 2ms/step - loss: 50.4586 - mean_absolute_error: 2.6167 - val_loss: 45.4468 - val_mean_absolute_error: 3.2270 - learning_rate: 1.0000e-04\n",
      "Epoch 20/300\n",
      "\u001b[1m65/65\u001b[0m \u001b[32m━━━━━━━━━━━━━━━━━━━━\u001b[0m\u001b[37m\u001b[0m \u001b[1m0s\u001b[0m 3ms/step - loss: 48.9561 - mean_absolute_error: 2.5166 - val_loss: 45.5721 - val_mean_absolute_error: 3.2400 - learning_rate: 1.0000e-04\n",
      "Epoch 21/300\n",
      "\u001b[1m65/65\u001b[0m \u001b[32m━━━━━━━━━━━━━━━━━━━━\u001b[0m\u001b[37m\u001b[0m \u001b[1m0s\u001b[0m 2ms/step - loss: 42.2834 - mean_absolute_error: 2.3432 - val_loss: 45.7502 - val_mean_absolute_error: 3.2598 - learning_rate: 1.0000e-04\n",
      "Epoch 22/300\n",
      "\u001b[1m65/65\u001b[0m \u001b[32m━━━━━━━━━━━━━━━━━━━━\u001b[0m\u001b[37m\u001b[0m \u001b[1m0s\u001b[0m 2ms/step - loss: 54.5861 - mean_absolute_error: 2.5682 - val_loss: 45.8816 - val_mean_absolute_error: 3.2647 - learning_rate: 1.0000e-04\n",
      "Epoch 23/300\n",
      "\u001b[1m65/65\u001b[0m \u001b[32m━━━━━━━━━━━━━━━━━━━━\u001b[0m\u001b[37m\u001b[0m \u001b[1m0s\u001b[0m 3ms/step - loss: 47.6781 - mean_absolute_error: 2.4341 - val_loss: 46.0190 - val_mean_absolute_error: 3.2785 - learning_rate: 1.0000e-04\n",
      "Epoch 24/300\n",
      "\u001b[1m65/65\u001b[0m \u001b[32m━━━━━━━━━━━━━━━━━━━━\u001b[0m\u001b[37m\u001b[0m \u001b[1m0s\u001b[0m 3ms/step - loss: 50.8925 - mean_absolute_error: 2.4945 - val_loss: 46.1941 - val_mean_absolute_error: 3.2959 - learning_rate: 1.0000e-04\n",
      "Epoch 25/300\n",
      "\u001b[1m65/65\u001b[0m \u001b[32m━━━━━━━━━━━━━━━━━━━━\u001b[0m\u001b[37m\u001b[0m \u001b[1m0s\u001b[0m 2ms/step - loss: 31.1389 - mean_absolute_error: 2.1685 - val_loss: 46.2581 - val_mean_absolute_error: 3.3011 - learning_rate: 1.0000e-04\n",
      "Epoch 26/300\n",
      "\u001b[1m65/65\u001b[0m \u001b[32m━━━━━━━━━━━━━━━━━━━━\u001b[0m\u001b[37m\u001b[0m \u001b[1m0s\u001b[0m 2ms/step - loss: 64.3919 - mean_absolute_error: 2.6286 - val_loss: 46.5475 - val_mean_absolute_error: 3.3300 - learning_rate: 1.0000e-04\n",
      "Epoch 27/300\n",
      "\u001b[1m65/65\u001b[0m \u001b[32m━━━━━━━━━━━━━━━━━━━━\u001b[0m\u001b[37m\u001b[0m \u001b[1m0s\u001b[0m 3ms/step - loss: 43.8954 - mean_absolute_error: 2.4401 - val_loss: 46.7047 - val_mean_absolute_error: 3.3351 - learning_rate: 1.0000e-04\n",
      "Epoch 28/300\n",
      "\u001b[1m65/65\u001b[0m \u001b[32m━━━━━━━━━━━━━━━━━━━━\u001b[0m\u001b[37m\u001b[0m \u001b[1m0s\u001b[0m 3ms/step - loss: 49.8954 - mean_absolute_error: 2.3756 - val_loss: 46.9000 - val_mean_absolute_error: 3.3598 - learning_rate: 1.0000e-04\n",
      "Epoch 29/300\n",
      "\u001b[1m65/65\u001b[0m \u001b[32m━━━━━━━━━━━━━━━━━━━━\u001b[0m\u001b[37m\u001b[0m \u001b[1m0s\u001b[0m 3ms/step - loss: 31.5608 - mean_absolute_error: 2.2804 - val_loss: 46.9422 - val_mean_absolute_error: 3.3517 - learning_rate: 1.0000e-04\n",
      "Epoch 30/300\n",
      "\u001b[1m65/65\u001b[0m \u001b[32m━━━━━━━━━━━━━━━━━━━━\u001b[0m\u001b[37m\u001b[0m \u001b[1m0s\u001b[0m 3ms/step - loss: 58.5889 - mean_absolute_error: 2.5748 - val_loss: 47.1341 - val_mean_absolute_error: 3.3696 - learning_rate: 1.0000e-04\n",
      "Epoch 31/300\n",
      "\u001b[1m65/65\u001b[0m \u001b[32m━━━━━━━━━━━━━━━━━━━━\u001b[0m\u001b[37m\u001b[0m \u001b[1m0s\u001b[0m 2ms/step - loss: 66.3832 - mean_absolute_error: 2.6701 - val_loss: 47.1730 - val_mean_absolute_error: 3.3642 - learning_rate: 1.0000e-04\n",
      "Epoch 32/300\n",
      "\u001b[1m65/65\u001b[0m \u001b[32m━━━━━━━━━━━━━━━━━━━━\u001b[0m\u001b[37m\u001b[0m \u001b[1m0s\u001b[0m 2ms/step - loss: 49.1601 - mean_absolute_error: 2.5083 - val_loss: 47.3496 - val_mean_absolute_error: 3.3721 - learning_rate: 1.0000e-04\n",
      "Epoch 33/300\n",
      "\u001b[1m65/65\u001b[0m \u001b[32m━━━━━━━━━━━━━━━━━━━━\u001b[0m\u001b[37m\u001b[0m \u001b[1m0s\u001b[0m 2ms/step - loss: 39.3614 - mean_absolute_error: 2.3097 - val_loss: 47.3900 - val_mean_absolute_error: 3.3728 - learning_rate: 1.0000e-04\n",
      "Epoch 34/300\n",
      "\u001b[1m65/65\u001b[0m \u001b[32m━━━━━━━━━━━━━━━━━━━━\u001b[0m\u001b[37m\u001b[0m \u001b[1m0s\u001b[0m 3ms/step - loss: 40.1261 - mean_absolute_error: 2.3255 - val_loss: 47.6805 - val_mean_absolute_error: 3.3936 - learning_rate: 1.0000e-04\n",
      "Epoch 35/300\n",
      "\u001b[1m65/65\u001b[0m \u001b[32m━━━━━━━━━━━━━━━━━━━━\u001b[0m\u001b[37m\u001b[0m \u001b[1m0s\u001b[0m 2ms/step - loss: 29.5962 - mean_absolute_error: 2.2201 - val_loss: 47.7453 - val_mean_absolute_error: 3.4029 - learning_rate: 1.0000e-04\n",
      "Epoch 36/300\n",
      "\u001b[1m65/65\u001b[0m \u001b[32m━━━━━━━━━━━━━━━━━━━━\u001b[0m\u001b[37m\u001b[0m \u001b[1m0s\u001b[0m 2ms/step - loss: 55.7144 - mean_absolute_error: 2.5049 - val_loss: 47.9263 - val_mean_absolute_error: 3.4170 - learning_rate: 1.0000e-04\n",
      "Epoch 37/300\n",
      "\u001b[1m65/65\u001b[0m \u001b[32m━━━━━━━━━━━━━━━━━━━━\u001b[0m\u001b[37m\u001b[0m \u001b[1m0s\u001b[0m 3ms/step - loss: 38.1139 - mean_absolute_error: 2.2838 - val_loss: 48.1801 - val_mean_absolute_error: 3.4316 - learning_rate: 1.0000e-04\n",
      "Epoch 38/300\n",
      "\u001b[1m65/65\u001b[0m \u001b[32m━━━━━━━━━━━━━━━━━━━━\u001b[0m\u001b[37m\u001b[0m \u001b[1m0s\u001b[0m 2ms/step - loss: 59.7811 - mean_absolute_error: 2.5576 - val_loss: 48.2831 - val_mean_absolute_error: 3.4384 - learning_rate: 1.0000e-04\n",
      "Epoch 39/300\n",
      "\u001b[1m65/65\u001b[0m \u001b[32m━━━━━━━━━━━━━━━━━━━━\u001b[0m\u001b[37m\u001b[0m \u001b[1m0s\u001b[0m 2ms/step - loss: 66.5327 - mean_absolute_error: 2.6916 - val_loss: 48.7296 - val_mean_absolute_error: 3.4748 - learning_rate: 1.0000e-04\n",
      "Epoch 40/300\n",
      "\u001b[1m65/65\u001b[0m \u001b[32m━━━━━━━━━━━━━━━━━━━━\u001b[0m\u001b[37m\u001b[0m \u001b[1m0s\u001b[0m 2ms/step - loss: 65.9331 - mean_absolute_error: 2.5844 - val_loss: 48.8419 - val_mean_absolute_error: 3.4749 - learning_rate: 1.0000e-04\n",
      "Epoch 41/300\n",
      "\u001b[1m65/65\u001b[0m \u001b[32m━━━━━━━━━━━━━━━━━━━━\u001b[0m\u001b[37m\u001b[0m \u001b[1m0s\u001b[0m 2ms/step - loss: 54.7836 - mean_absolute_error: 2.4753 - val_loss: 48.9906 - val_mean_absolute_error: 3.4770 - learning_rate: 1.0000e-04\n",
      "Epoch 42/300\n",
      "\u001b[1m65/65\u001b[0m \u001b[32m━━━━━━━━━━━━━━━━━━━━\u001b[0m\u001b[37m\u001b[0m \u001b[1m0s\u001b[0m 2ms/step - loss: 27.7583 - mean_absolute_error: 2.2198 - val_loss: 48.8542 - val_mean_absolute_error: 3.4649 - learning_rate: 1.0000e-04\n",
      "Epoch 43/300\n",
      "\u001b[1m65/65\u001b[0m \u001b[32m━━━━━━━━━━━━━━━━━━━━\u001b[0m\u001b[37m\u001b[0m \u001b[1m0s\u001b[0m 3ms/step - loss: 36.7197 - mean_absolute_error: 2.2884 - val_loss: 49.0695 - val_mean_absolute_error: 3.4800 - learning_rate: 1.0000e-04\n",
      "Epoch 44/300\n",
      "\u001b[1m65/65\u001b[0m \u001b[32m━━━━━━━━━━━━━━━━━━━━\u001b[0m\u001b[37m\u001b[0m \u001b[1m0s\u001b[0m 2ms/step - loss: 43.7879 - mean_absolute_error: 2.3320 - val_loss: 49.2375 - val_mean_absolute_error: 3.4908 - learning_rate: 1.0000e-04\n",
      "Epoch 45/300\n",
      "\u001b[1m65/65\u001b[0m \u001b[32m━━━━━━━━━━━━━━━━━━━━\u001b[0m\u001b[37m\u001b[0m \u001b[1m0s\u001b[0m 2ms/step - loss: 56.2550 - mean_absolute_error: 2.4564 - val_loss: 49.5620 - val_mean_absolute_error: 3.5091 - learning_rate: 1.0000e-04\n",
      "Epoch 46/300\n",
      "\u001b[1m65/65\u001b[0m \u001b[32m━━━━━━━━━━━━━━━━━━━━\u001b[0m\u001b[37m\u001b[0m \u001b[1m0s\u001b[0m 2ms/step - loss: 34.6615 - mean_absolute_error: 2.1473 - val_loss: 49.7201 - val_mean_absolute_error: 3.5073 - learning_rate: 1.0000e-04\n",
      "Epoch 47/300\n",
      "\u001b[1m65/65\u001b[0m \u001b[32m━━━━━━━━━━━━━━━━━━━━\u001b[0m\u001b[37m\u001b[0m \u001b[1m0s\u001b[0m 2ms/step - loss: 37.2361 - mean_absolute_error: 2.2928 - val_loss: 50.0713 - val_mean_absolute_error: 3.5327 - learning_rate: 1.0000e-04\n",
      "Epoch 48/300\n",
      "\u001b[1m65/65\u001b[0m \u001b[32m━━━━━━━━━━━━━━━━━━━━\u001b[0m\u001b[37m\u001b[0m \u001b[1m0s\u001b[0m 3ms/step - loss: 32.8313 - mean_absolute_error: 2.2130 - val_loss: 50.1099 - val_mean_absolute_error: 3.5357 - learning_rate: 1.0000e-04\n",
      "Epoch 49/300\n",
      "\u001b[1m65/65\u001b[0m \u001b[32m━━━━━━━━━━━━━━━━━━━━\u001b[0m\u001b[37m\u001b[0m \u001b[1m0s\u001b[0m 3ms/step - loss: 40.4718 - mean_absolute_error: 2.2446 - val_loss: 50.3587 - val_mean_absolute_error: 3.5515 - learning_rate: 1.0000e-04\n",
      "Epoch 50/300\n",
      "\u001b[1m65/65\u001b[0m \u001b[32m━━━━━━━━━━━━━━━━━━━━\u001b[0m\u001b[37m\u001b[0m \u001b[1m0s\u001b[0m 2ms/step - loss: 40.7077 - mean_absolute_error: 2.2327 - val_loss: 50.3357 - val_mean_absolute_error: 3.5319 - learning_rate: 1.0000e-04\n",
      "Epoch 51/300\n",
      "\u001b[1m65/65\u001b[0m \u001b[32m━━━━━━━━━━━━━━━━━━━━\u001b[0m\u001b[37m\u001b[0m \u001b[1m0s\u001b[0m 2ms/step - loss: 34.8048 - mean_absolute_error: 2.1954 - val_loss: 50.2049 - val_mean_absolute_error: 3.5196 - learning_rate: 1.0000e-04\n",
      "Epoch 52/300\n",
      "\u001b[1m65/65\u001b[0m \u001b[32m━━━━━━━━━━━━━━━━━━━━\u001b[0m\u001b[37m\u001b[0m \u001b[1m0s\u001b[0m 2ms/step - loss: 35.4442 - mean_absolute_error: 2.3549 - val_loss: 50.8015 - val_mean_absolute_error: 3.5755 - learning_rate: 1.0000e-04\n",
      "Epoch 53/300\n",
      "\u001b[1m65/65\u001b[0m \u001b[32m━━━━━━━━━━━━━━━━━━━━\u001b[0m\u001b[37m\u001b[0m \u001b[1m0s\u001b[0m 3ms/step - loss: 44.6505 - mean_absolute_error: 2.2963 - val_loss: 51.0044 - val_mean_absolute_error: 3.5745 - learning_rate: 1.0000e-04\n",
      "Epoch 54/300\n",
      "\u001b[1m65/65\u001b[0m \u001b[32m━━━━━━━━━━━━━━━━━━━━\u001b[0m\u001b[37m\u001b[0m \u001b[1m0s\u001b[0m 2ms/step - loss: 52.8316 - mean_absolute_error: 2.2788 - val_loss: 51.0858 - val_mean_absolute_error: 3.5786 - learning_rate: 1.0000e-04\n",
      "Epoch 55/300\n",
      "\u001b[1m65/65\u001b[0m \u001b[32m━━━━━━━━━━━━━━━━━━━━\u001b[0m\u001b[37m\u001b[0m \u001b[1m0s\u001b[0m 4ms/step - loss: 57.9749 - mean_absolute_error: 2.3151 - val_loss: 51.1480 - val_mean_absolute_error: 3.5743 - learning_rate: 1.0000e-04\n",
      "Epoch 56/300\n",
      "\u001b[1m65/65\u001b[0m \u001b[32m━━━━━━━━━━━━━━━━━━━━\u001b[0m\u001b[37m\u001b[0m \u001b[1m0s\u001b[0m 2ms/step - loss: 41.9961 - mean_absolute_error: 2.3489 - val_loss: 51.2290 - val_mean_absolute_error: 3.5738 - learning_rate: 1.0000e-04\n",
      "Epoch 57/300\n",
      "\u001b[1m65/65\u001b[0m \u001b[32m━━━━━━━━━━━━━━━━━━━━\u001b[0m\u001b[37m\u001b[0m \u001b[1m0s\u001b[0m 2ms/step - loss: 39.0631 - mean_absolute_error: 2.2691 - val_loss: 51.6828 - val_mean_absolute_error: 3.6093 - learning_rate: 1.0000e-04\n",
      "Epoch 58/300\n",
      "\u001b[1m65/65\u001b[0m \u001b[32m━━━━━━━━━━━━━━━━━━━━\u001b[0m\u001b[37m\u001b[0m \u001b[1m0s\u001b[0m 3ms/step - loss: 67.5285 - mean_absolute_error: 2.4920 - val_loss: 51.9858 - val_mean_absolute_error: 3.6262 - learning_rate: 1.0000e-04\n",
      "Epoch 59/300\n",
      "\u001b[1m65/65\u001b[0m \u001b[32m━━━━━━━━━━━━━━━━━━━━\u001b[0m\u001b[37m\u001b[0m \u001b[1m0s\u001b[0m 4ms/step - loss: 30.4831 - mean_absolute_error: 2.1963 - val_loss: 51.7259 - val_mean_absolute_error: 3.5926 - learning_rate: 1.0000e-04\n",
      "Epoch 60/300\n",
      "\u001b[1m65/65\u001b[0m \u001b[32m━━━━━━━━━━━━━━━━━━━━\u001b[0m\u001b[37m\u001b[0m \u001b[1m0s\u001b[0m 4ms/step - loss: 34.4143 - mean_absolute_error: 2.1105 - val_loss: 52.1729 - val_mean_absolute_error: 3.6277 - learning_rate: 1.0000e-04\n",
      "Epoch 61/300\n",
      "\u001b[1m65/65\u001b[0m \u001b[32m━━━━━━━━━━━━━━━━━━━━\u001b[0m\u001b[37m\u001b[0m \u001b[1m0s\u001b[0m 3ms/step - loss: 44.9536 - mean_absolute_error: 2.2818 - val_loss: 52.5748 - val_mean_absolute_error: 3.6471 - learning_rate: 1.0000e-04\n",
      "Epoch 62/300\n",
      "\u001b[1m65/65\u001b[0m \u001b[32m━━━━━━━━━━━━━━━━━━━━\u001b[0m\u001b[37m\u001b[0m \u001b[1m0s\u001b[0m 3ms/step - loss: 58.8935 - mean_absolute_error: 2.5129 - val_loss: 52.3976 - val_mean_absolute_error: 3.6231 - learning_rate: 1.0000e-04\n",
      "Epoch 63/300\n",
      "\u001b[1m65/65\u001b[0m \u001b[32m━━━━━━━━━━━━━━━━━━━━\u001b[0m\u001b[37m\u001b[0m \u001b[1m0s\u001b[0m 2ms/step - loss: 40.7116 - mean_absolute_error: 2.1564 - val_loss: 52.5768 - val_mean_absolute_error: 3.6318 - learning_rate: 1.0000e-04\n",
      "Epoch 64/300\n",
      "\u001b[1m65/65\u001b[0m \u001b[32m━━━━━━━━━━━━━━━━━━━━\u001b[0m\u001b[37m\u001b[0m \u001b[1m0s\u001b[0m 3ms/step - loss: 31.2706 - mean_absolute_error: 2.0582 - val_loss: 53.1877 - val_mean_absolute_error: 3.6692 - learning_rate: 1.0000e-04\n",
      "Epoch 65/300\n",
      "\u001b[1m65/65\u001b[0m \u001b[32m━━━━━━━━━━━━━━━━━━━━\u001b[0m\u001b[37m\u001b[0m \u001b[1m0s\u001b[0m 3ms/step - loss: 26.3499 - mean_absolute_error: 2.0104 - val_loss: 53.3349 - val_mean_absolute_error: 3.6762 - learning_rate: 1.0000e-04\n",
      "Epoch 66/300\n",
      "\u001b[1m65/65\u001b[0m \u001b[32m━━━━━━━━━━━━━━━━━━━━\u001b[0m\u001b[37m\u001b[0m \u001b[1m0s\u001b[0m 4ms/step - loss: 44.1439 - mean_absolute_error: 2.2460 - val_loss: 53.4141 - val_mean_absolute_error: 3.6784 - learning_rate: 1.0000e-04\n",
      "Epoch 67/300\n",
      "\u001b[1m65/65\u001b[0m \u001b[32m━━━━━━━━━━━━━━━━━━━━\u001b[0m\u001b[37m\u001b[0m \u001b[1m0s\u001b[0m 2ms/step - loss: 32.8607 - mean_absolute_error: 2.1289 - val_loss: 53.4701 - val_mean_absolute_error: 3.6731 - learning_rate: 1.0000e-04\n",
      "Epoch 68/300\n",
      "\u001b[1m65/65\u001b[0m \u001b[32m━━━━━━━━━━━━━━━━━━━━\u001b[0m\u001b[37m\u001b[0m \u001b[1m0s\u001b[0m 4ms/step - loss: 51.3967 - mean_absolute_error: 2.2787 - val_loss: 53.8363 - val_mean_absolute_error: 3.6937 - learning_rate: 1.0000e-04\n",
      "Epoch 69/300\n",
      "\u001b[1m65/65\u001b[0m \u001b[32m━━━━━━━━━━━━━━━━━━━━\u001b[0m\u001b[37m\u001b[0m \u001b[1m0s\u001b[0m 3ms/step - loss: 56.2344 - mean_absolute_error: 2.4786 - val_loss: 53.7086 - val_mean_absolute_error: 3.6777 - learning_rate: 1.0000e-04\n",
      "Epoch 70/300\n",
      "\u001b[1m65/65\u001b[0m \u001b[32m━━━━━━━━━━━━━━━━━━━━\u001b[0m\u001b[37m\u001b[0m \u001b[1m0s\u001b[0m 3ms/step - loss: 34.7621 - mean_absolute_error: 2.2362 - val_loss: 54.0247 - val_mean_absolute_error: 3.6861 - learning_rate: 1.0000e-04\n",
      "Epoch 71/300\n",
      "\u001b[1m65/65\u001b[0m \u001b[32m━━━━━━━━━━━━━━━━━━━━\u001b[0m\u001b[37m\u001b[0m \u001b[1m0s\u001b[0m 2ms/step - loss: 61.0363 - mean_absolute_error: 2.4054 - val_loss: 54.3757 - val_mean_absolute_error: 3.7019 - learning_rate: 1.0000e-04\n",
      "Epoch 72/300\n",
      "\u001b[1m65/65\u001b[0m \u001b[32m━━━━━━━━━━━━━━━━━━━━\u001b[0m\u001b[37m\u001b[0m \u001b[1m0s\u001b[0m 3ms/step - loss: 31.9596 - mean_absolute_error: 2.0241 - val_loss: 54.6111 - val_mean_absolute_error: 3.7079 - learning_rate: 1.0000e-04\n",
      "Epoch 73/300\n",
      "\u001b[1m65/65\u001b[0m \u001b[32m━━━━━━━━━━━━━━━━━━━━\u001b[0m\u001b[37m\u001b[0m \u001b[1m0s\u001b[0m 3ms/step - loss: 32.4638 - mean_absolute_error: 2.0737 - val_loss: 54.8545 - val_mean_absolute_error: 3.7172 - learning_rate: 1.0000e-04\n",
      "Epoch 74/300\n",
      "\u001b[1m65/65\u001b[0m \u001b[32m━━━━━━━━━━━━━━━━━━━━\u001b[0m\u001b[37m\u001b[0m \u001b[1m0s\u001b[0m 3ms/step - loss: 49.5936 - mean_absolute_error: 2.1741 - val_loss: 54.6135 - val_mean_absolute_error: 3.6999 - learning_rate: 1.0000e-04\n",
      "Epoch 75/300\n",
      "\u001b[1m65/65\u001b[0m \u001b[32m━━━━━━━━━━━━━━━━━━━━\u001b[0m\u001b[37m\u001b[0m \u001b[1m0s\u001b[0m 3ms/step - loss: 46.5003 - mean_absolute_error: 2.2671 - val_loss: 54.9940 - val_mean_absolute_error: 3.7148 - learning_rate: 1.0000e-04\n",
      "Epoch 76/300\n",
      "\u001b[1m65/65\u001b[0m \u001b[32m━━━━━━━━━━━━━━━━━━━━\u001b[0m\u001b[37m\u001b[0m \u001b[1m0s\u001b[0m 2ms/step - loss: 48.5714 - mean_absolute_error: 2.1713 - val_loss: 55.1463 - val_mean_absolute_error: 3.7170 - learning_rate: 1.0000e-04\n",
      "Epoch 77/300\n",
      "\u001b[1m65/65\u001b[0m \u001b[32m━━━━━━━━━━━━━━━━━━━━\u001b[0m\u001b[37m\u001b[0m \u001b[1m0s\u001b[0m 2ms/step - loss: 35.2942 - mean_absolute_error: 2.0780 - val_loss: 55.4712 - val_mean_absolute_error: 3.7396 - learning_rate: 1.0000e-04\n",
      "Epoch 78/300\n",
      "\u001b[1m65/65\u001b[0m \u001b[32m━━━━━━━━━━━━━━━━━━━━\u001b[0m\u001b[37m\u001b[0m \u001b[1m0s\u001b[0m 3ms/step - loss: 39.1042 - mean_absolute_error: 2.1623 - val_loss: 55.7815 - val_mean_absolute_error: 3.7552 - learning_rate: 1.0000e-04\n",
      "Epoch 79/300\n",
      "\u001b[1m65/65\u001b[0m \u001b[32m━━━━━━━━━━━━━━━━━━━━\u001b[0m\u001b[37m\u001b[0m \u001b[1m0s\u001b[0m 3ms/step - loss: 39.5083 - mean_absolute_error: 2.0647 - val_loss: 55.7102 - val_mean_absolute_error: 3.7455 - learning_rate: 1.0000e-04\n",
      "Epoch 80/300\n",
      "\u001b[1m65/65\u001b[0m \u001b[32m━━━━━━━━━━━━━━━━━━━━\u001b[0m\u001b[37m\u001b[0m \u001b[1m0s\u001b[0m 2ms/step - loss: 56.7657 - mean_absolute_error: 2.2566 - val_loss: 55.7926 - val_mean_absolute_error: 3.7390 - learning_rate: 1.0000e-04\n",
      "Epoch 81/300\n",
      "\u001b[1m65/65\u001b[0m \u001b[32m━━━━━━━━━━━━━━━━━━━━\u001b[0m\u001b[37m\u001b[0m \u001b[1m0s\u001b[0m 3ms/step - loss: 40.7455 - mean_absolute_error: 2.0785 - val_loss: 55.7792 - val_mean_absolute_error: 3.7275 - learning_rate: 1.0000e-04\n",
      "Epoch 82/300\n",
      "\u001b[1m65/65\u001b[0m \u001b[32m━━━━━━━━━━━━━━━━━━━━\u001b[0m\u001b[37m\u001b[0m \u001b[1m0s\u001b[0m 3ms/step - loss: 34.3356 - mean_absolute_error: 2.0107 - val_loss: 56.1988 - val_mean_absolute_error: 3.7521 - learning_rate: 1.0000e-04\n",
      "Epoch 83/300\n",
      "\u001b[1m65/65\u001b[0m \u001b[32m━━━━━━━━━━━━━━━━━━━━\u001b[0m\u001b[37m\u001b[0m \u001b[1m0s\u001b[0m 2ms/step - loss: 27.8441 - mean_absolute_error: 2.0216 - val_loss: 56.4076 - val_mean_absolute_error: 3.7648 - learning_rate: 1.0000e-04\n",
      "Epoch 84/300\n",
      "\u001b[1m65/65\u001b[0m \u001b[32m━━━━━━━━━━━━━━━━━━━━\u001b[0m\u001b[37m\u001b[0m \u001b[1m0s\u001b[0m 2ms/step - loss: 35.0535 - mean_absolute_error: 2.0239 - val_loss: 56.8463 - val_mean_absolute_error: 3.7755 - learning_rate: 1.0000e-04\n",
      "Epoch 85/300\n",
      "\u001b[1m65/65\u001b[0m \u001b[32m━━━━━━━━━━━━━━━━━━━━\u001b[0m\u001b[37m\u001b[0m \u001b[1m0s\u001b[0m 3ms/step - loss: 24.7161 - mean_absolute_error: 1.9921 - val_loss: 56.6004 - val_mean_absolute_error: 3.7660 - learning_rate: 1.0000e-04\n",
      "Epoch 86/300\n",
      "\u001b[1m65/65\u001b[0m \u001b[32m━━━━━━━━━━━━━━━━━━━━\u001b[0m\u001b[37m\u001b[0m \u001b[1m0s\u001b[0m 2ms/step - loss: 47.5798 - mean_absolute_error: 2.1415 - val_loss: 57.1760 - val_mean_absolute_error: 3.7910 - learning_rate: 1.0000e-04\n",
      "Epoch 87/300\n",
      "\u001b[1m65/65\u001b[0m \u001b[32m━━━━━━━━━━━━━━━━━━━━\u001b[0m\u001b[37m\u001b[0m \u001b[1m0s\u001b[0m 4ms/step - loss: 26.9816 - mean_absolute_error: 1.9817 - val_loss: 57.5172 - val_mean_absolute_error: 3.8096 - learning_rate: 1.0000e-04\n",
      "Epoch 88/300\n",
      "\u001b[1m65/65\u001b[0m \u001b[32m━━━━━━━━━━━━━━━━━━━━\u001b[0m\u001b[37m\u001b[0m \u001b[1m0s\u001b[0m 2ms/step - loss: 36.6051 - mean_absolute_error: 2.0506 - val_loss: 57.6972 - val_mean_absolute_error: 3.8159 - learning_rate: 1.0000e-04\n",
      "Epoch 89/300\n",
      "\u001b[1m65/65\u001b[0m \u001b[32m━━━━━━━━━━━━━━━━━━━━\u001b[0m\u001b[37m\u001b[0m \u001b[1m0s\u001b[0m 2ms/step - loss: 70.4984 - mean_absolute_error: 2.4522 - val_loss: 57.4143 - val_mean_absolute_error: 3.7966 - learning_rate: 1.0000e-04\n",
      "Epoch 90/300\n",
      "\u001b[1m65/65\u001b[0m \u001b[32m━━━━━━━━━━━━━━━━━━━━\u001b[0m\u001b[37m\u001b[0m \u001b[1m0s\u001b[0m 3ms/step - loss: 29.3036 - mean_absolute_error: 1.9395 - val_loss: 57.3540 - val_mean_absolute_error: 3.7887 - learning_rate: 1.0000e-04\n",
      "Epoch 91/300\n",
      "\u001b[1m65/65\u001b[0m \u001b[32m━━━━━━━━━━━━━━━━━━━━\u001b[0m\u001b[37m\u001b[0m \u001b[1m0s\u001b[0m 3ms/step - loss: 29.3381 - mean_absolute_error: 2.0318 - val_loss: 57.6145 - val_mean_absolute_error: 3.8002 - learning_rate: 1.0000e-04\n",
      "Epoch 92/300\n",
      "\u001b[1m65/65\u001b[0m \u001b[32m━━━━━━━━━━━━━━━━━━━━\u001b[0m\u001b[37m\u001b[0m \u001b[1m0s\u001b[0m 3ms/step - loss: 32.3067 - mean_absolute_error: 2.0249 - val_loss: 58.0586 - val_mean_absolute_error: 3.8133 - learning_rate: 1.0000e-04\n",
      "Epoch 93/300\n",
      "\u001b[1m65/65\u001b[0m \u001b[32m━━━━━━━━━━━━━━━━━━━━\u001b[0m\u001b[37m\u001b[0m \u001b[1m0s\u001b[0m 3ms/step - loss: 47.0053 - mean_absolute_error: 2.1929 - val_loss: 58.2922 - val_mean_absolute_error: 3.8231 - learning_rate: 1.0000e-04\n",
      "Epoch 94/300\n",
      "\u001b[1m65/65\u001b[0m \u001b[32m━━━━━━━━━━━━━━━━━━━━\u001b[0m\u001b[37m\u001b[0m \u001b[1m0s\u001b[0m 3ms/step - loss: 36.2841 - mean_absolute_error: 2.0629 - val_loss: 58.4282 - val_mean_absolute_error: 3.8137 - learning_rate: 1.0000e-04\n",
      "Epoch 95/300\n",
      "\u001b[1m65/65\u001b[0m \u001b[32m━━━━━━━━━━━━━━━━━━━━\u001b[0m\u001b[37m\u001b[0m \u001b[1m0s\u001b[0m 5ms/step - loss: 25.1259 - mean_absolute_error: 1.8657 - val_loss: 58.5638 - val_mean_absolute_error: 3.8217 - learning_rate: 1.0000e-04\n",
      "Epoch 96/300\n",
      "\u001b[1m65/65\u001b[0m \u001b[32m━━━━━━━━━━━━━━━━━━━━\u001b[0m\u001b[37m\u001b[0m \u001b[1m0s\u001b[0m 3ms/step - loss: 47.1097 - mean_absolute_error: 2.1624 - val_loss: 58.9246 - val_mean_absolute_error: 3.8366 - learning_rate: 1.0000e-04\n",
      "Epoch 97/300\n",
      "\u001b[1m65/65\u001b[0m \u001b[32m━━━━━━━━━━━━━━━━━━━━\u001b[0m\u001b[37m\u001b[0m \u001b[1m0s\u001b[0m 2ms/step - loss: 28.3224 - mean_absolute_error: 1.9401 - val_loss: 58.9167 - val_mean_absolute_error: 3.8208 - learning_rate: 1.0000e-04\n",
      "Epoch 98/300\n",
      "\u001b[1m65/65\u001b[0m \u001b[32m━━━━━━━━━━━━━━━━━━━━\u001b[0m\u001b[37m\u001b[0m \u001b[1m0s\u001b[0m 2ms/step - loss: 28.3726 - mean_absolute_error: 1.8740 - val_loss: 59.3126 - val_mean_absolute_error: 3.8468 - learning_rate: 1.0000e-04\n",
      "Epoch 99/300\n",
      "\u001b[1m65/65\u001b[0m \u001b[32m━━━━━━━━━━━━━━━━━━━━\u001b[0m\u001b[37m\u001b[0m \u001b[1m0s\u001b[0m 3ms/step - loss: 44.0496 - mean_absolute_error: 2.1246 - val_loss: 59.2716 - val_mean_absolute_error: 3.8427 - learning_rate: 1.0000e-04\n",
      "Epoch 100/300\n",
      "\u001b[1m65/65\u001b[0m \u001b[32m━━━━━━━━━━━━━━━━━━━━\u001b[0m\u001b[37m\u001b[0m \u001b[1m0s\u001b[0m 3ms/step - loss: 28.8429 - mean_absolute_error: 1.9292 - val_loss: 59.2877 - val_mean_absolute_error: 3.8479 - learning_rate: 1.0000e-04\n",
      "Epoch 101/300\n",
      "\u001b[1m65/65\u001b[0m \u001b[32m━━━━━━━━━━━━━━━━━━━━\u001b[0m\u001b[37m\u001b[0m \u001b[1m0s\u001b[0m 3ms/step - loss: 37.4804 - mean_absolute_error: 1.9908 - val_loss: 59.4685 - val_mean_absolute_error: 3.8475 - learning_rate: 1.0000e-04\n",
      "Epoch 102/300\n",
      "\u001b[1m65/65\u001b[0m \u001b[32m━━━━━━━━━━━━━━━━━━━━\u001b[0m\u001b[37m\u001b[0m \u001b[1m0s\u001b[0m 2ms/step - loss: 42.3427 - mean_absolute_error: 1.9445 - val_loss: 59.4356 - val_mean_absolute_error: 3.8338 - learning_rate: 1.0000e-04\n",
      "Epoch 103/300\n",
      "\u001b[1m65/65\u001b[0m \u001b[32m━━━━━━━━━━━━━━━━━━━━\u001b[0m\u001b[37m\u001b[0m \u001b[1m0s\u001b[0m 3ms/step - loss: 48.1324 - mean_absolute_error: 2.1556 - val_loss: 60.0912 - val_mean_absolute_error: 3.8605 - learning_rate: 1.0000e-04\n",
      "Epoch 104/300\n",
      "\u001b[1m65/65\u001b[0m \u001b[32m━━━━━━━━━━━━━━━━━━━━\u001b[0m\u001b[37m\u001b[0m \u001b[1m0s\u001b[0m 4ms/step - loss: 35.9075 - mean_absolute_error: 2.0082 - val_loss: 59.9195 - val_mean_absolute_error: 3.8418 - learning_rate: 1.0000e-04\n",
      "Epoch 105/300\n",
      "\u001b[1m65/65\u001b[0m \u001b[32m━━━━━━━━━━━━━━━━━━━━\u001b[0m\u001b[37m\u001b[0m \u001b[1m0s\u001b[0m 4ms/step - loss: 23.2235 - mean_absolute_error: 1.8431 - val_loss: 60.3795 - val_mean_absolute_error: 3.8659 - learning_rate: 1.0000e-04\n",
      "Epoch 106/300\n",
      "\u001b[1m65/65\u001b[0m \u001b[32m━━━━━━━━━━━━━━━━━━━━\u001b[0m\u001b[37m\u001b[0m \u001b[1m0s\u001b[0m 5ms/step - loss: 53.2507 - mean_absolute_error: 2.2432 - val_loss: 60.8864 - val_mean_absolute_error: 3.8834 - learning_rate: 1.0000e-04\n",
      "Epoch 107/300\n",
      "\u001b[1m65/65\u001b[0m \u001b[32m━━━━━━━━━━━━━━━━━━━━\u001b[0m\u001b[37m\u001b[0m \u001b[1m0s\u001b[0m 3ms/step - loss: 35.1897 - mean_absolute_error: 1.9525 - val_loss: 61.2882 - val_mean_absolute_error: 3.9020 - learning_rate: 1.0000e-04\n",
      "Epoch 108/300\n",
      "\u001b[1m65/65\u001b[0m \u001b[32m━━━━━━━━━━━━━━━━━━━━\u001b[0m\u001b[37m\u001b[0m \u001b[1m0s\u001b[0m 2ms/step - loss: 34.1523 - mean_absolute_error: 1.9260 - val_loss: 61.1380 - val_mean_absolute_error: 3.8886 - learning_rate: 1.0000e-04\n",
      "Epoch 109/300\n",
      "\u001b[1m65/65\u001b[0m \u001b[32m━━━━━━━━━━━━━━━━━━━━\u001b[0m\u001b[37m\u001b[0m \u001b[1m0s\u001b[0m 3ms/step - loss: 25.2522 - mean_absolute_error: 1.8285 - val_loss: 61.0531 - val_mean_absolute_error: 3.8761 - learning_rate: 1.0000e-04\n",
      "Epoch 110/300\n",
      "\u001b[1m65/65\u001b[0m \u001b[32m━━━━━━━━━━━━━━━━━━━━\u001b[0m\u001b[37m\u001b[0m \u001b[1m0s\u001b[0m 3ms/step - loss: 63.6007 - mean_absolute_error: 2.3519 - val_loss: 61.4721 - val_mean_absolute_error: 3.8841 - learning_rate: 1.0000e-04\n",
      "Epoch 111/300\n",
      "\u001b[1m65/65\u001b[0m \u001b[32m━━━━━━━━━━━━━━━━━━━━\u001b[0m\u001b[37m\u001b[0m \u001b[1m0s\u001b[0m 3ms/step - loss: 25.9066 - mean_absolute_error: 1.8790 - val_loss: 61.5868 - val_mean_absolute_error: 3.8862 - learning_rate: 1.0000e-04\n",
      "Epoch 112/300\n",
      "\u001b[1m65/65\u001b[0m \u001b[32m━━━━━━━━━━━━━━━━━━━━\u001b[0m\u001b[37m\u001b[0m \u001b[1m0s\u001b[0m 3ms/step - loss: 38.5216 - mean_absolute_error: 1.9044 - val_loss: 61.9593 - val_mean_absolute_error: 3.9103 - learning_rate: 1.0000e-04\n",
      "Epoch 113/300\n",
      "\u001b[1m65/65\u001b[0m \u001b[32m━━━━━━━━━━━━━━━━━━━━\u001b[0m\u001b[37m\u001b[0m \u001b[1m0s\u001b[0m 3ms/step - loss: 17.2017 - mean_absolute_error: 1.6919 - val_loss: 61.7068 - val_mean_absolute_error: 3.8926 - learning_rate: 1.0000e-04\n",
      "Epoch 114/300\n",
      "\u001b[1m65/65\u001b[0m \u001b[32m━━━━━━━━━━━━━━━━━━━━\u001b[0m\u001b[37m\u001b[0m \u001b[1m0s\u001b[0m 3ms/step - loss: 30.0918 - mean_absolute_error: 1.9056 - val_loss: 62.5162 - val_mean_absolute_error: 3.9309 - learning_rate: 1.0000e-04\n",
      "Epoch 115/300\n",
      "\u001b[1m65/65\u001b[0m \u001b[32m━━━━━━━━━━━━━━━━━━━━\u001b[0m\u001b[37m\u001b[0m \u001b[1m0s\u001b[0m 5ms/step - loss: 33.8030 - mean_absolute_error: 1.9585 - val_loss: 62.3545 - val_mean_absolute_error: 3.9238 - learning_rate: 1.0000e-04\n",
      "Epoch 116/300\n",
      "\u001b[1m65/65\u001b[0m \u001b[32m━━━━━━━━━━━━━━━━━━━━\u001b[0m\u001b[37m\u001b[0m \u001b[1m0s\u001b[0m 3ms/step - loss: 35.9674 - mean_absolute_error: 1.9394 - val_loss: 62.7543 - val_mean_absolute_error: 3.9295 - learning_rate: 1.0000e-04\n",
      "Epoch 117/300\n",
      "\u001b[1m65/65\u001b[0m \u001b[32m━━━━━━━━━━━━━━━━━━━━\u001b[0m\u001b[37m\u001b[0m \u001b[1m0s\u001b[0m 3ms/step - loss: 32.7101 - mean_absolute_error: 1.9245 - val_loss: 62.8232 - val_mean_absolute_error: 3.9154 - learning_rate: 1.0000e-04\n",
      "Epoch 118/300\n",
      "\u001b[1m65/65\u001b[0m \u001b[32m━━━━━━━━━━━━━━━━━━━━\u001b[0m\u001b[37m\u001b[0m \u001b[1m0s\u001b[0m 3ms/step - loss: 28.3770 - mean_absolute_error: 1.8508 - val_loss: 62.7792 - val_mean_absolute_error: 3.9177 - learning_rate: 1.0000e-04\n",
      "Epoch 119/300\n",
      "\u001b[1m65/65\u001b[0m \u001b[32m━━━━━━━━━━━━━━━━━━━━\u001b[0m\u001b[37m\u001b[0m \u001b[1m0s\u001b[0m 3ms/step - loss: 26.9290 - mean_absolute_error: 1.7860 - val_loss: 63.1611 - val_mean_absolute_error: 3.9338 - learning_rate: 1.0000e-04\n",
      "Epoch 120/300\n",
      "\u001b[1m65/65\u001b[0m \u001b[32m━━━━━━━━━━━━━━━━━━━━\u001b[0m\u001b[37m\u001b[0m \u001b[1m0s\u001b[0m 4ms/step - loss: 26.1343 - mean_absolute_error: 1.7472 - val_loss: 63.3436 - val_mean_absolute_error: 3.9363 - learning_rate: 1.0000e-04\n",
      "Epoch 121/300\n",
      "\u001b[1m65/65\u001b[0m \u001b[32m━━━━━━━━━━━━━━━━━━━━\u001b[0m\u001b[37m\u001b[0m \u001b[1m0s\u001b[0m 3ms/step - loss: 28.9418 - mean_absolute_error: 1.7110 - val_loss: 63.3110 - val_mean_absolute_error: 3.9226 - learning_rate: 1.0000e-04\n",
      "Epoch 122/300\n",
      "\u001b[1m65/65\u001b[0m \u001b[32m━━━━━━━━━━━━━━━━━━━━\u001b[0m\u001b[37m\u001b[0m \u001b[1m0s\u001b[0m 3ms/step - loss: 20.6847 - mean_absolute_error: 1.7160 - val_loss: 63.4697 - val_mean_absolute_error: 3.9218 - learning_rate: 1.0000e-04\n",
      "Epoch 123/300\n",
      "\u001b[1m65/65\u001b[0m \u001b[32m━━━━━━━━━━━━━━━━━━━━\u001b[0m\u001b[37m\u001b[0m \u001b[1m0s\u001b[0m 4ms/step - loss: 43.8535 - mean_absolute_error: 2.0570 - val_loss: 63.6540 - val_mean_absolute_error: 3.9322 - learning_rate: 1.0000e-04\n",
      "Epoch 124/300\n",
      "\u001b[1m65/65\u001b[0m \u001b[32m━━━━━━━━━━━━━━━━━━━━\u001b[0m\u001b[37m\u001b[0m \u001b[1m0s\u001b[0m 3ms/step - loss: 45.5180 - mean_absolute_error: 1.9893 - val_loss: 63.4724 - val_mean_absolute_error: 3.9121 - learning_rate: 1.0000e-04\n",
      "Epoch 125/300\n",
      "\u001b[1m65/65\u001b[0m \u001b[32m━━━━━━━━━━━━━━━━━━━━\u001b[0m\u001b[37m\u001b[0m \u001b[1m0s\u001b[0m 3ms/step - loss: 30.0871 - mean_absolute_error: 1.7827 - val_loss: 63.8608 - val_mean_absolute_error: 3.9319 - learning_rate: 1.0000e-04\n",
      "Epoch 126/300\n",
      "\u001b[1m65/65\u001b[0m \u001b[32m━━━━━━━━━━━━━━━━━━━━\u001b[0m\u001b[37m\u001b[0m \u001b[1m0s\u001b[0m 3ms/step - loss: 38.5162 - mean_absolute_error: 1.9494 - val_loss: 64.1416 - val_mean_absolute_error: 3.9388 - learning_rate: 1.0000e-04\n",
      "Epoch 127/300\n",
      "\u001b[1m65/65\u001b[0m \u001b[32m━━━━━━━━━━━━━━━━━━━━\u001b[0m\u001b[37m\u001b[0m \u001b[1m0s\u001b[0m 3ms/step - loss: 31.6160 - mean_absolute_error: 1.9256 - val_loss: 64.0572 - val_mean_absolute_error: 3.9471 - learning_rate: 1.0000e-04\n",
      "Epoch 128/300\n",
      "\u001b[1m65/65\u001b[0m \u001b[32m━━━━━━━━━━━━━━━━━━━━\u001b[0m\u001b[37m\u001b[0m \u001b[1m0s\u001b[0m 2ms/step - loss: 36.7319 - mean_absolute_error: 1.8987 - val_loss: 64.2845 - val_mean_absolute_error: 3.9408 - learning_rate: 1.0000e-04\n",
      "Epoch 129/300\n",
      "\u001b[1m65/65\u001b[0m \u001b[32m━━━━━━━━━━━━━━━━━━━━\u001b[0m\u001b[37m\u001b[0m \u001b[1m0s\u001b[0m 4ms/step - loss: 34.4852 - mean_absolute_error: 1.8731 - val_loss: 64.6264 - val_mean_absolute_error: 3.9515 - learning_rate: 1.0000e-04\n",
      "Epoch 130/300\n",
      "\u001b[1m65/65\u001b[0m \u001b[32m━━━━━━━━━━━━━━━━━━━━\u001b[0m\u001b[37m\u001b[0m \u001b[1m0s\u001b[0m 3ms/step - loss: 33.3535 - mean_absolute_error: 1.9370 - val_loss: 64.6013 - val_mean_absolute_error: 3.9481 - learning_rate: 1.0000e-04\n",
      "Epoch 131/300\n",
      "\u001b[1m65/65\u001b[0m \u001b[32m━━━━━━━━━━━━━━━━━━━━\u001b[0m\u001b[37m\u001b[0m \u001b[1m0s\u001b[0m 2ms/step - loss: 40.0378 - mean_absolute_error: 1.9649 - val_loss: 65.1723 - val_mean_absolute_error: 3.9650 - learning_rate: 1.0000e-04\n",
      "Epoch 132/300\n",
      "\u001b[1m65/65\u001b[0m \u001b[32m━━━━━━━━━━━━━━━━━━━━\u001b[0m\u001b[37m\u001b[0m \u001b[1m0s\u001b[0m 3ms/step - loss: 30.0662 - mean_absolute_error: 1.8268 - val_loss: 65.4480 - val_mean_absolute_error: 3.9741 - learning_rate: 1.0000e-04\n",
      "Epoch 133/300\n",
      "\u001b[1m65/65\u001b[0m \u001b[32m━━━━━━━━━━━━━━━━━━━━\u001b[0m\u001b[37m\u001b[0m \u001b[1m0s\u001b[0m 3ms/step - loss: 23.4454 - mean_absolute_error: 1.7460 - val_loss: 64.9339 - val_mean_absolute_error: 3.9488 - learning_rate: 1.0000e-04\n",
      "Epoch 134/300\n",
      "\u001b[1m65/65\u001b[0m \u001b[32m━━━━━━━━━━━━━━━━━━━━\u001b[0m\u001b[37m\u001b[0m \u001b[1m0s\u001b[0m 5ms/step - loss: 36.8692 - mean_absolute_error: 1.9042 - val_loss: 65.5075 - val_mean_absolute_error: 3.9687 - learning_rate: 1.0000e-04\n",
      "Epoch 135/300\n",
      "\u001b[1m65/65\u001b[0m \u001b[32m━━━━━━━━━━━━━━━━━━━━\u001b[0m\u001b[37m\u001b[0m \u001b[1m0s\u001b[0m 3ms/step - loss: 35.9869 - mean_absolute_error: 1.9088 - val_loss: 65.6436 - val_mean_absolute_error: 3.9660 - learning_rate: 1.0000e-04\n",
      "Epoch 136/300\n",
      "\u001b[1m65/65\u001b[0m \u001b[32m━━━━━━━━━━━━━━━━━━━━\u001b[0m\u001b[37m\u001b[0m \u001b[1m0s\u001b[0m 3ms/step - loss: 24.3599 - mean_absolute_error: 1.7798 - val_loss: 66.7686 - val_mean_absolute_error: 4.0144 - learning_rate: 1.0000e-04\n",
      "Epoch 137/300\n",
      "\u001b[1m65/65\u001b[0m \u001b[32m━━━━━━━━━━━━━━━━━━━━\u001b[0m\u001b[37m\u001b[0m \u001b[1m0s\u001b[0m 3ms/step - loss: 46.6759 - mean_absolute_error: 2.0716 - val_loss: 66.6635 - val_mean_absolute_error: 3.9907 - learning_rate: 1.0000e-04\n",
      "Epoch 138/300\n",
      "\u001b[1m65/65\u001b[0m \u001b[32m━━━━━━━━━━━━━━━━━━━━\u001b[0m\u001b[37m\u001b[0m \u001b[1m0s\u001b[0m 3ms/step - loss: 26.5545 - mean_absolute_error: 1.8998 - val_loss: 66.0007 - val_mean_absolute_error: 3.9591 - learning_rate: 1.0000e-04\n",
      "Epoch 139/300\n",
      "\u001b[1m65/65\u001b[0m \u001b[32m━━━━━━━━━━━━━━━━━━━━\u001b[0m\u001b[37m\u001b[0m \u001b[1m0s\u001b[0m 3ms/step - loss: 22.8690 - mean_absolute_error: 1.6768 - val_loss: 66.3884 - val_mean_absolute_error: 3.9854 - learning_rate: 1.0000e-04\n",
      "Epoch 140/300\n",
      "\u001b[1m65/65\u001b[0m \u001b[32m━━━━━━━━━━━━━━━━━━━━\u001b[0m\u001b[37m\u001b[0m \u001b[1m0s\u001b[0m 3ms/step - loss: 20.4800 - mean_absolute_error: 1.6922 - val_loss: 66.5493 - val_mean_absolute_error: 3.9859 - learning_rate: 1.0000e-04\n",
      "Epoch 141/300\n",
      "\u001b[1m65/65\u001b[0m \u001b[32m━━━━━━━━━━━━━━━━━━━━\u001b[0m\u001b[37m\u001b[0m \u001b[1m0s\u001b[0m 3ms/step - loss: 23.7070 - mean_absolute_error: 1.7002 - val_loss: 66.3999 - val_mean_absolute_error: 3.9729 - learning_rate: 1.0000e-04\n",
      "Epoch 142/300\n",
      "\u001b[1m65/65\u001b[0m \u001b[32m━━━━━━━━━━━━━━━━━━━━\u001b[0m\u001b[37m\u001b[0m \u001b[1m0s\u001b[0m 3ms/step - loss: 34.2261 - mean_absolute_error: 1.7463 - val_loss: 66.5180 - val_mean_absolute_error: 3.9806 - learning_rate: 1.0000e-04\n",
      "Epoch 143/300\n",
      "\u001b[1m65/65\u001b[0m \u001b[32m━━━━━━━━━━━━━━━━━━━━\u001b[0m\u001b[37m\u001b[0m \u001b[1m0s\u001b[0m 4ms/step - loss: 25.9526 - mean_absolute_error: 1.7306 - val_loss: 67.1970 - val_mean_absolute_error: 4.0074 - learning_rate: 1.0000e-04\n",
      "Epoch 144/300\n",
      "\u001b[1m65/65\u001b[0m \u001b[32m━━━━━━━━━━━━━━━━━━━━\u001b[0m\u001b[37m\u001b[0m \u001b[1m0s\u001b[0m 3ms/step - loss: 48.8130 - mean_absolute_error: 1.9478 - val_loss: 67.0444 - val_mean_absolute_error: 4.0036 - learning_rate: 1.0000e-04\n",
      "Epoch 145/300\n",
      "\u001b[1m65/65\u001b[0m \u001b[32m━━━━━━━━━━━━━━━━━━━━\u001b[0m\u001b[37m\u001b[0m \u001b[1m0s\u001b[0m 3ms/step - loss: 46.3594 - mean_absolute_error: 2.0596 - val_loss: 66.7074 - val_mean_absolute_error: 3.9828 - learning_rate: 1.0000e-04\n",
      "Epoch 146/300\n",
      "\u001b[1m65/65\u001b[0m \u001b[32m━━━━━━━━━━━━━━━━━━━━\u001b[0m\u001b[37m\u001b[0m \u001b[1m0s\u001b[0m 3ms/step - loss: 28.3721 - mean_absolute_error: 1.8426 - val_loss: 67.1486 - val_mean_absolute_error: 3.9985 - learning_rate: 1.0000e-04\n",
      "Epoch 147/300\n",
      "\u001b[1m65/65\u001b[0m \u001b[32m━━━━━━━━━━━━━━━━━━━━\u001b[0m\u001b[37m\u001b[0m \u001b[1m0s\u001b[0m 3ms/step - loss: 50.5425 - mean_absolute_error: 2.0247 - val_loss: 67.3922 - val_mean_absolute_error: 3.9999 - learning_rate: 1.0000e-04\n",
      "Epoch 148/300\n",
      "\u001b[1m65/65\u001b[0m \u001b[32m━━━━━━━━━━━━━━━━━━━━\u001b[0m\u001b[37m\u001b[0m \u001b[1m0s\u001b[0m 3ms/step - loss: 22.2275 - mean_absolute_error: 1.6673 - val_loss: 67.0267 - val_mean_absolute_error: 3.9771 - learning_rate: 1.0000e-04\n",
      "Epoch 149/300\n",
      "\u001b[1m65/65\u001b[0m \u001b[32m━━━━━━━━━━━━━━━━━━━━\u001b[0m\u001b[37m\u001b[0m \u001b[1m0s\u001b[0m 3ms/step - loss: 27.5644 - mean_absolute_error: 1.8007 - val_loss: 67.1955 - val_mean_absolute_error: 3.9825 - learning_rate: 1.0000e-04\n",
      "Epoch 150/300\n",
      "\u001b[1m65/65\u001b[0m \u001b[32m━━━━━━━━━━━━━━━━━━━━\u001b[0m\u001b[37m\u001b[0m \u001b[1m0s\u001b[0m 4ms/step - loss: 25.0367 - mean_absolute_error: 1.7641 - val_loss: 67.5610 - val_mean_absolute_error: 3.9965 - learning_rate: 1.0000e-04\n",
      "Epoch 151/300\n",
      "\u001b[1m65/65\u001b[0m \u001b[32m━━━━━━━━━━━━━━━━━━━━\u001b[0m\u001b[37m\u001b[0m \u001b[1m0s\u001b[0m 3ms/step - loss: 27.3591 - mean_absolute_error: 1.7036 - val_loss: 66.9520 - val_mean_absolute_error: 3.9615 - learning_rate: 1.0000e-04\n",
      "Epoch 152/300\n",
      "\u001b[1m65/65\u001b[0m \u001b[32m━━━━━━━━━━━━━━━━━━━━\u001b[0m\u001b[37m\u001b[0m \u001b[1m0s\u001b[0m 3ms/step - loss: 21.4073 - mean_absolute_error: 1.7003 - val_loss: 67.5850 - val_mean_absolute_error: 3.9840 - learning_rate: 1.0000e-04\n"
     ]
    },
    {
     "data": {
      "image/png": "[encoded data removed]",
      "text/plain": [
       "<Figure size 1200x500 with 2 Axes>"
      ]
     },
     "metadata": {},
     "output_type": "display_data"
    }
   ],
   "source": [
    "import matplotlib.pyplot as plt\n",
    "import numpy as np\n",
    "from tensorflow.keras.models import Sequential\n",
    "from tensorflow.keras.layers import Dense, Dropout\n",
    "from tensorflow.keras.optimizers import Adam\n",
    "from tensorflow.keras.callbacks import EarlyStopping, ReduceLROnPlateau\n",
    "\n",
    "# Model configuration\n",
    "model = Sequential([\n",
    "    Dense(128, activation='relu', kernel_regularizer=l2(0.01), input_shape=(X_train.shape[1],)),\n",
    "    Dropout(0.5),\n",
    "    Dense(64, activation='relu', kernel_regularizer=l2(0.01)),\n",
    "    Dropout(0.5),\n",
    "    Dense(1)\n",
    "])\n",
    "\n",
    "# Compile the model\n",
    "optimizer = Adam(learning_rate=0.001)\n",
    "model.compile(optimizer=optimizer, loss='mean_squared_error', metrics=['mean_absolute_error'])\n",
    "\n",
    "# Callbacks\n",
    "early_stopping = EarlyStopping(monitor='val_loss', patience=100, restore_best_weights=True)\n",
    "reduce_lr = ReduceLROnPlateau(monitor='val_loss', factor=0.2, patience=5, min_lr=0.0001)\n",
    "\n",
    "# Fit the model\n",
    "history = model.fit(X_train, y_train, epochs=150, batch_size=32,\n",
    "                    validation_data=(X_val, y_val),\n",
    "                    callbacks=[early_stopping, reduce_lr], verbose=1)\n",
    "\n",
    "# Plot training & validation loss values\n",
    "plt.figure(figsize=(12, 5))\n",
    "plt.subplot(1, 2, 1)\n",
    "plt.plot(history.history['loss'])\n",
    "plt.plot(history.history['val_loss'])\n",
    "plt.title('Model Loss')\n",
    "plt.ylabel('Loss')\n",
    "plt.xlabel('Epoch')\n",
    "plt.legend(['Train', 'Validation'], loc='upper right')\n",
    "\n",
    "# Plot training & validation accuracy values\n",
    "plt.subplot(1, 2, 2)\n",
    "plt.plot(history.history['mean_absolute_error'])\n",
    "plt.plot(history.history['val_mean_absolute_error'])\n",
    "plt.title('Model Mean Absolute Error')\n",
    "plt.ylabel('Mean Absolute Error')\n",
    "plt.xlabel('Epoch')\n",
    "plt.legend(['Train', 'Validation'], loc='upper right')\n",
    "\n",
    "plt.tight_layout()\n",
    "plt.show()\n"
   ]
  },
  {
   "cell_type": "code",
   "execution_count": null,
   "metadata": {},
   "outputs": [
    {
     "name": "stdout",
     "output_type": "stream",
     "text": [
      "Epoch 1/300\n",
      "\u001b[1m65/65\u001b[0m \u001b[32m━━━━━━━━━━━━━━━━━━━━\u001b[0m\u001b[37m\u001b[0m \u001b[1m1s\u001b[0m 3ms/step - loss: 143.8416 - mean_absolute_error: 5.3960 - val_loss: 61.4519 - val_mean_absolute_error: 4.8398 - learning_rate: 1.0000e-04\n",
      "Epoch 2/300\n",
      "\u001b[1m65/65\u001b[0m \u001b[32m━━━━━━━━━━━━━━━━━━━━\u001b[0m\u001b[37m\u001b[0m \u001b[1m0s\u001b[0m 2ms/step - loss: 68.7073 - mean_absolute_error: 4.6236 - val_loss: 57.9432 - val_mean_absolute_error: 4.4725 - learning_rate: 1.0000e-04\n",
      "Epoch 3/300\n",
      "\u001b[1m65/65\u001b[0m \u001b[32m━━━━━━━━━━━━━━━━━━━━\u001b[0m\u001b[37m\u001b[0m \u001b[1m0s\u001b[0m 2ms/step - loss: 56.2557 - mean_absolute_error: 4.1085 - val_loss: 53.8912 - val_mean_absolute_error: 4.0022 - learning_rate: 1.0000e-04\n",
      "Epoch 4/300\n",
      "\u001b[1m65/65\u001b[0m \u001b[32m━━━━━━━━━━━━━━━━━━━━\u001b[0m\u001b[37m\u001b[0m \u001b[1m0s\u001b[0m 2ms/step - loss: 82.6697 - mean_absolute_error: 3.9336 - val_loss: 49.8103 - val_mean_absolute_error: 3.4681 - learning_rate: 1.0000e-04\n",
      "Epoch 5/300\n",
      "\u001b[1m65/65\u001b[0m \u001b[32m━━━━━━━━━━━━━━━━━━━━\u001b[0m\u001b[37m\u001b[0m \u001b[1m0s\u001b[0m 3ms/step - loss: 105.0234 - mean_absolute_error: 3.5341 - val_loss: 46.1143 - val_mean_absolute_error: 2.9322 - learning_rate: 1.0000e-04\n",
      "Epoch 6/300\n",
      "\u001b[1m65/65\u001b[0m \u001b[32m━━━━━━━━━━━━━━━━━━━━\u001b[0m\u001b[37m\u001b[0m \u001b[1m0s\u001b[0m 2ms/step - loss: 45.3663 - mean_absolute_error: 2.7550 - val_loss: 43.3187 - val_mean_absolute_error: 2.5299 - learning_rate: 1.0000e-04\n",
      "Epoch 7/300\n",
      "\u001b[1m65/65\u001b[0m \u001b[32m━━━━━━━━━━━━━━━━━━━━\u001b[0m\u001b[37m\u001b[0m \u001b[1m0s\u001b[0m 2ms/step - loss: 64.5484 - mean_absolute_error: 2.6191 - val_loss: 41.3158 - val_mean_absolute_error: 2.3065 - learning_rate: 1.0000e-04\n",
      "Epoch 8/300\n",
      "\u001b[1m65/65\u001b[0m \u001b[32m━━━━━━━━━━━━━━━━━━━━\u001b[0m\u001b[37m\u001b[0m \u001b[1m0s\u001b[0m 2ms/step - loss: 89.5933 - mean_absolute_error: 2.6847 - val_loss: 40.1737 - val_mean_absolute_error: 2.2430 - learning_rate: 1.0000e-04\n",
      "Epoch 9/300\n",
      "\u001b[1m65/65\u001b[0m \u001b[32m━━━━━━━━━━━━━━━━━━━━\u001b[0m\u001b[37m\u001b[0m \u001b[1m0s\u001b[0m 2ms/step - loss: 50.2935 - mean_absolute_error: 2.3793 - val_loss: 39.6112 - val_mean_absolute_error: 2.2519 - learning_rate: 1.0000e-04\n",
      "Epoch 10/300\n",
      "\u001b[1m65/65\u001b[0m \u001b[32m━━━━━━━━━━━━━━━━━━━━\u001b[0m\u001b[37m\u001b[0m \u001b[1m0s\u001b[0m 2ms/step - loss: 57.8465 - mean_absolute_error: 2.5660 - val_loss: 39.2409 - val_mean_absolute_error: 2.2966 - learning_rate: 1.0000e-04\n",
      "Epoch 11/300\n",
      "\u001b[1m65/65\u001b[0m \u001b[32m━━━━━━━━━━━━━━━━━━━━\u001b[0m\u001b[37m\u001b[0m \u001b[1m0s\u001b[0m 2ms/step - loss: 60.4489 - mean_absolute_error: 2.4338 - val_loss: 39.0098 - val_mean_absolute_error: 2.3617 - learning_rate: 1.0000e-04\n",
      "Epoch 12/300\n",
      "\u001b[1m65/65\u001b[0m \u001b[32m━━━━━━━━━━━━━━━━━━━━\u001b[0m\u001b[37m\u001b[0m \u001b[1m0s\u001b[0m 2ms/step - loss: 58.5421 - mean_absolute_error: 2.6120 - val_loss: 38.9392 - val_mean_absolute_error: 2.3846 - learning_rate: 1.0000e-04\n",
      "Epoch 13/300\n",
      "\u001b[1m65/65\u001b[0m \u001b[32m━━━━━━━━━━━━━━━━━━━━\u001b[0m\u001b[37m\u001b[0m \u001b[1m0s\u001b[0m 2ms/step - loss: 51.6784 - mean_absolute_error: 2.4863 - val_loss: 38.8103 - val_mean_absolute_error: 2.4060 - learning_rate: 1.0000e-04\n",
      "Epoch 14/300\n",
      "\u001b[1m65/65\u001b[0m \u001b[32m━━━━━━━━━━━━━━━━━━━━\u001b[0m\u001b[37m\u001b[0m \u001b[1m0s\u001b[0m 2ms/step - loss: 53.2549 - mean_absolute_error: 2.4575 - val_loss: 38.7211 - val_mean_absolute_error: 2.4573 - learning_rate: 1.0000e-04\n",
      "Epoch 15/300\n",
      "\u001b[1m65/65\u001b[0m \u001b[32m━━━━━━━━━━━━━━━━━━━━\u001b[0m\u001b[37m\u001b[0m \u001b[1m0s\u001b[0m 2ms/step - loss: 45.2703 - mean_absolute_error: 2.5264 - val_loss: 38.7010 - val_mean_absolute_error: 2.4685 - learning_rate: 1.0000e-04\n",
      "Epoch 16/300\n",
      "\u001b[1m65/65\u001b[0m \u001b[32m━━━━━━━━━━━━━━━━━━━━\u001b[0m\u001b[37m\u001b[0m \u001b[1m0s\u001b[0m 2ms/step - loss: 38.8580 - mean_absolute_error: 2.3632 - val_loss: 38.6763 - val_mean_absolute_error: 2.4820 - learning_rate: 1.0000e-04\n",
      "Epoch 17/300\n",
      "\u001b[1m65/65\u001b[0m \u001b[32m━━━━━━━━━━━━━━━━━━━━\u001b[0m\u001b[37m\u001b[0m \u001b[1m0s\u001b[0m 2ms/step - loss: 102.3419 - mean_absolute_error: 2.9748 - val_loss: 38.6805 - val_mean_absolute_error: 2.5120 - learning_rate: 1.0000e-04\n",
      "Epoch 18/300\n",
      "\u001b[1m65/65\u001b[0m \u001b[32m━━━━━━━━━━━━━━━━━━━━\u001b[0m\u001b[37m\u001b[0m \u001b[1m0s\u001b[0m 2ms/step - loss: 42.3610 - mean_absolute_error: 2.4832 - val_loss: 38.7109 - val_mean_absolute_error: 2.4842 - learning_rate: 1.0000e-04\n",
      "Epoch 19/300\n",
      "\u001b[1m65/65\u001b[0m \u001b[32m━━━━━━━━━━━━━━━━━━━━\u001b[0m\u001b[37m\u001b[0m \u001b[1m0s\u001b[0m 2ms/step - loss: 66.0489 - mean_absolute_error: 2.6193 - val_loss: 38.7128 - val_mean_absolute_error: 2.5373 - learning_rate: 1.0000e-04\n",
      "Epoch 20/300\n",
      "\u001b[1m65/65\u001b[0m \u001b[32m━━━━━━━━━━━━━━━━━━━━\u001b[0m\u001b[37m\u001b[0m \u001b[1m0s\u001b[0m 2ms/step - loss: 45.1671 - mean_absolute_error: 2.5428 - val_loss: 38.7400 - val_mean_absolute_error: 2.5329 - learning_rate: 1.0000e-04\n",
      "Epoch 21/300\n",
      "\u001b[1m65/65\u001b[0m \u001b[32m━━━━━━━━━━━━━━━━━━━━\u001b[0m\u001b[37m\u001b[0m \u001b[1m0s\u001b[0m 2ms/step - loss: 64.0754 - mean_absolute_error: 2.5219 - val_loss: 38.7665 - val_mean_absolute_error: 2.5500 - learning_rate: 1.0000e-04\n",
      "Epoch 22/300\n",
      "\u001b[1m65/65\u001b[0m \u001b[32m━━━━━━━━━━━━━━━━━━━━\u001b[0m\u001b[37m\u001b[0m \u001b[1m0s\u001b[0m 2ms/step - loss: 53.7096 - mean_absolute_error: 2.5636 - val_loss: 38.8158 - val_mean_absolute_error: 2.6084 - learning_rate: 1.0000e-04\n",
      "Epoch 23/300\n",
      "\u001b[1m65/65\u001b[0m \u001b[32m━━━━━━━━━━━━━━━━━━━━\u001b[0m\u001b[37m\u001b[0m \u001b[1m0s\u001b[0m 2ms/step - loss: 81.7278 - mean_absolute_error: 2.8207 - val_loss: 38.8677 - val_mean_absolute_error: 2.6258 - learning_rate: 1.0000e-04\n",
      "Epoch 24/300\n",
      "\u001b[1m65/65\u001b[0m \u001b[32m━━━━━━━━━━━━━━━━━━━━\u001b[0m\u001b[37m\u001b[0m \u001b[1m0s\u001b[0m 2ms/step - loss: 73.6339 - mean_absolute_error: 2.6808 - val_loss: 38.9309 - val_mean_absolute_error: 2.6216 - learning_rate: 1.0000e-04\n",
      "Epoch 25/300\n",
      "\u001b[1m65/65\u001b[0m \u001b[32m━━━━━━━━━━━━━━━━━━━━\u001b[0m\u001b[37m\u001b[0m \u001b[1m0s\u001b[0m 2ms/step - loss: 63.1223 - mean_absolute_error: 2.6317 - val_loss: 39.0020 - val_mean_absolute_error: 2.6345 - learning_rate: 1.0000e-04\n",
      "Epoch 26/300\n",
      "\u001b[1m65/65\u001b[0m \u001b[32m━━━━━━━━━━━━━━━━━━━━\u001b[0m\u001b[37m\u001b[0m \u001b[1m0s\u001b[0m 2ms/step - loss: 67.2917 - mean_absolute_error: 2.7542 - val_loss: 39.1137 - val_mean_absolute_error: 2.6459 - learning_rate: 1.0000e-04\n",
      "Epoch 27/300\n",
      "\u001b[1m65/65\u001b[0m \u001b[32m━━━━━━━━━━━━━━━━━━━━\u001b[0m\u001b[37m\u001b[0m \u001b[1m0s\u001b[0m 2ms/step - loss: 95.7572 - mean_absolute_error: 2.9914 - val_loss: 39.1964 - val_mean_absolute_error: 2.6591 - learning_rate: 1.0000e-04\n",
      "Epoch 28/300\n",
      "\u001b[1m65/65\u001b[0m \u001b[32m━━━━━━━━━━━━━━━━━━━━\u001b[0m\u001b[37m\u001b[0m \u001b[1m0s\u001b[0m 2ms/step - loss: 79.7979 - mean_absolute_error: 2.7489 - val_loss: 39.2983 - val_mean_absolute_error: 2.6682 - learning_rate: 1.0000e-04\n",
      "Epoch 29/300\n",
      "\u001b[1m65/65\u001b[0m \u001b[32m━━━━━━━━━━━━━━━━━━━━\u001b[0m\u001b[37m\u001b[0m \u001b[1m0s\u001b[0m 2ms/step - loss: 46.8540 - mean_absolute_error: 2.3997 - val_loss: 39.3861 - val_mean_absolute_error: 2.7190 - learning_rate: 1.0000e-04\n",
      "Epoch 30/300\n",
      "\u001b[1m65/65\u001b[0m \u001b[32m━━━━━━━━━━━━━━━━━━━━\u001b[0m\u001b[37m\u001b[0m \u001b[1m0s\u001b[0m 2ms/step - loss: 90.7668 - mean_absolute_error: 2.8868 - val_loss: 39.5007 - val_mean_absolute_error: 2.7188 - learning_rate: 1.0000e-04\n",
      "Epoch 31/300\n",
      "\u001b[1m65/65\u001b[0m \u001b[32m━━━━━━━━━━━━━━━━━━━━\u001b[0m\u001b[37m\u001b[0m \u001b[1m0s\u001b[0m 2ms/step - loss: 80.9733 - mean_absolute_error: 2.9062 - val_loss: 39.6313 - val_mean_absolute_error: 2.7159 - learning_rate: 1.0000e-04\n",
      "Epoch 32/300\n",
      "\u001b[1m65/65\u001b[0m \u001b[32m━━━━━━━━━━━━━━━━━━━━\u001b[0m\u001b[37m\u001b[0m \u001b[1m0s\u001b[0m 2ms/step - loss: 67.3167 - mean_absolute_error: 2.7480 - val_loss: 39.7728 - val_mean_absolute_error: 2.7448 - learning_rate: 1.0000e-04\n",
      "Epoch 33/300\n",
      "\u001b[1m65/65\u001b[0m \u001b[32m━━━━━━━━━━━━━━━━━━━━\u001b[0m\u001b[37m\u001b[0m \u001b[1m0s\u001b[0m 2ms/step - loss: 65.5004 - mean_absolute_error: 2.6993 - val_loss: 39.8706 - val_mean_absolute_error: 2.7850 - learning_rate: 1.0000e-04\n",
      "Epoch 34/300\n",
      "\u001b[1m65/65\u001b[0m \u001b[32m━━━━━━━━━━━━━━━━━━━━\u001b[0m\u001b[37m\u001b[0m \u001b[1m0s\u001b[0m 3ms/step - loss: 63.0574 - mean_absolute_error: 2.7088 - val_loss: 39.9922 - val_mean_absolute_error: 2.7863 - learning_rate: 1.0000e-04\n",
      "Epoch 35/300\n",
      "\u001b[1m65/65\u001b[0m \u001b[32m━━━━━━━━━━━━━━━━━━━━\u001b[0m\u001b[37m\u001b[0m \u001b[1m0s\u001b[0m 2ms/step - loss: 78.4254 - mean_absolute_error: 2.7286 - val_loss: 40.1828 - val_mean_absolute_error: 2.8159 - learning_rate: 1.0000e-04\n",
      "Epoch 36/300\n",
      "\u001b[1m65/65\u001b[0m \u001b[32m━━━━━━━━━━━━━━━━━━━━\u001b[0m\u001b[37m\u001b[0m \u001b[1m0s\u001b[0m 2ms/step - loss: 60.6162 - mean_absolute_error: 2.5857 - val_loss: 40.2914 - val_mean_absolute_error: 2.8305 - learning_rate: 1.0000e-04\n",
      "Epoch 37/300\n",
      "\u001b[1m65/65\u001b[0m \u001b[32m━━━━━━━━━━━━━━━━━━━━\u001b[0m\u001b[37m\u001b[0m \u001b[1m0s\u001b[0m 2ms/step - loss: 72.9736 - mean_absolute_error: 2.8098 - val_loss: 40.4619 - val_mean_absolute_error: 2.8471 - learning_rate: 1.0000e-04\n",
      "Epoch 38/300\n",
      "\u001b[1m65/65\u001b[0m \u001b[32m━━━━━━━━━━━━━━━━━━━━\u001b[0m\u001b[37m\u001b[0m \u001b[1m0s\u001b[0m 2ms/step - loss: 35.5863 - mean_absolute_error: 2.4719 - val_loss: 40.6449 - val_mean_absolute_error: 2.8538 - learning_rate: 1.0000e-04\n",
      "Epoch 39/300\n",
      "\u001b[1m65/65\u001b[0m \u001b[32m━━━━━━━━━━━━━━━━━━━━\u001b[0m\u001b[37m\u001b[0m \u001b[1m0s\u001b[0m 2ms/step - loss: 51.0416 - mean_absolute_error: 2.5829 - val_loss: 40.8202 - val_mean_absolute_error: 2.8679 - learning_rate: 1.0000e-04\n",
      "Epoch 40/300\n",
      "\u001b[1m65/65\u001b[0m \u001b[32m━━━━━━━━━━━━━━━━━━━━\u001b[0m\u001b[37m\u001b[0m \u001b[1m0s\u001b[0m 2ms/step - loss: 52.8459 - mean_absolute_error: 2.6624 - val_loss: 40.9771 - val_mean_absolute_error: 2.8899 - learning_rate: 1.0000e-04\n",
      "Epoch 41/300\n",
      "\u001b[1m65/65\u001b[0m \u001b[32m━━━━━━━━━━━━━━━━━━━━\u001b[0m\u001b[37m\u001b[0m \u001b[1m0s\u001b[0m 2ms/step - loss: 51.9800 - mean_absolute_error: 2.6784 - val_loss: 41.1292 - val_mean_absolute_error: 2.9218 - learning_rate: 1.0000e-04\n",
      "Epoch 42/300\n",
      "\u001b[1m65/65\u001b[0m \u001b[32m━━━━━━━━━━━━━━━━━━━━\u001b[0m\u001b[37m\u001b[0m \u001b[1m0s\u001b[0m 2ms/step - loss: 43.6540 - mean_absolute_error: 2.5941 - val_loss: 41.1983 - val_mean_absolute_error: 2.9143 - learning_rate: 1.0000e-04\n",
      "Epoch 43/300\n",
      "\u001b[1m65/65\u001b[0m \u001b[32m━━━━━━━━━━━━━━━━━━━━\u001b[0m\u001b[37m\u001b[0m \u001b[1m0s\u001b[0m 4ms/step - loss: 47.9777 - mean_absolute_error: 2.4599 - val_loss: 41.3786 - val_mean_absolute_error: 2.9297 - learning_rate: 1.0000e-04\n",
      "Epoch 44/300\n",
      "\u001b[1m65/65\u001b[0m \u001b[32m━━━━━━━━━━━━━━━━━━━━\u001b[0m\u001b[37m\u001b[0m \u001b[1m0s\u001b[0m 2ms/step - loss: 48.8587 - mean_absolute_error: 2.4620 - val_loss: 41.6027 - val_mean_absolute_error: 2.9666 - learning_rate: 1.0000e-04\n",
      "Epoch 45/300\n",
      "\u001b[1m65/65\u001b[0m \u001b[32m━━━━━━━━━━━━━━━━━━━━\u001b[0m\u001b[37m\u001b[0m \u001b[1m0s\u001b[0m 2ms/step - loss: 81.8819 - mean_absolute_error: 2.9627 - val_loss: 41.7576 - val_mean_absolute_error: 2.9669 - learning_rate: 1.0000e-04\n",
      "Epoch 46/300\n",
      "\u001b[1m65/65\u001b[0m \u001b[32m━━━━━━━━━━━━━━━━━━━━\u001b[0m\u001b[37m\u001b[0m \u001b[1m0s\u001b[0m 2ms/step - loss: 43.2476 - mean_absolute_error: 2.3666 - val_loss: 41.8557 - val_mean_absolute_error: 2.9889 - learning_rate: 1.0000e-04\n",
      "Epoch 47/300\n",
      "\u001b[1m65/65\u001b[0m \u001b[32m━━━━━━━━━━━━━━━━━━━━\u001b[0m\u001b[37m\u001b[0m \u001b[1m0s\u001b[0m 2ms/step - loss: 94.9214 - mean_absolute_error: 3.0525 - val_loss: 42.1365 - val_mean_absolute_error: 3.0242 - learning_rate: 1.0000e-04\n",
      "Epoch 48/300\n",
      "\u001b[1m65/65\u001b[0m \u001b[32m━━━━━━━━━━━━━━━━━━━━\u001b[0m\u001b[37m\u001b[0m \u001b[1m0s\u001b[0m 2ms/step - loss: 46.9403 - mean_absolute_error: 2.4660 - val_loss: 42.2845 - val_mean_absolute_error: 3.0260 - learning_rate: 1.0000e-04\n",
      "Epoch 49/300\n",
      "\u001b[1m65/65\u001b[0m \u001b[32m━━━━━━━━━━━━━━━━━━━━\u001b[0m\u001b[37m\u001b[0m \u001b[1m0s\u001b[0m 2ms/step - loss: 50.5234 - mean_absolute_error: 2.5089 - val_loss: 42.4487 - val_mean_absolute_error: 3.0471 - learning_rate: 1.0000e-04\n",
      "Epoch 50/300\n",
      "\u001b[1m65/65\u001b[0m \u001b[32m━━━━━━━━━━━━━━━━━━━━\u001b[0m\u001b[37m\u001b[0m \u001b[1m0s\u001b[0m 2ms/step - loss: 40.9895 - mean_absolute_error: 2.3766 - val_loss: 42.6749 - val_mean_absolute_error: 3.0872 - learning_rate: 1.0000e-04\n",
      "Epoch 51/300\n",
      "\u001b[1m65/65\u001b[0m \u001b[32m━━━━━━━━━━━━━━━━━━━━\u001b[0m\u001b[37m\u001b[0m \u001b[1m0s\u001b[0m 2ms/step - loss: 46.9690 - mean_absolute_error: 2.5024 - val_loss: 42.8816 - val_mean_absolute_error: 3.1039 - learning_rate: 1.0000e-04\n",
      "Epoch 52/300\n",
      "\u001b[1m65/65\u001b[0m \u001b[32m━━━━━━━━━━━━━━━━━━━━\u001b[0m\u001b[37m\u001b[0m \u001b[1m0s\u001b[0m 2ms/step - loss: 49.1371 - mean_absolute_error: 2.5779 - val_loss: 43.0579 - val_mean_absolute_error: 3.1100 - learning_rate: 1.0000e-04\n",
      "Epoch 53/300\n",
      "\u001b[1m65/65\u001b[0m \u001b[32m━━━━━━━━━━━━━━━━━━━━\u001b[0m\u001b[37m\u001b[0m \u001b[1m0s\u001b[0m 2ms/step - loss: 34.0714 - mean_absolute_error: 2.2593 - val_loss: 43.2313 - val_mean_absolute_error: 3.1305 - learning_rate: 1.0000e-04\n",
      "Epoch 54/300\n",
      "\u001b[1m65/65\u001b[0m \u001b[32m━━━━━━━━━━━━━━━━━━━━\u001b[0m\u001b[37m\u001b[0m \u001b[1m0s\u001b[0m 2ms/step - loss: 61.0325 - mean_absolute_error: 2.6795 - val_loss: 43.4636 - val_mean_absolute_error: 3.1542 - learning_rate: 1.0000e-04\n",
      "Epoch 55/300\n",
      "\u001b[1m65/65\u001b[0m \u001b[32m━━━━━━━━━━━━━━━━━━━━\u001b[0m\u001b[37m\u001b[0m \u001b[1m0s\u001b[0m 2ms/step - loss: 57.2889 - mean_absolute_error: 2.5174 - val_loss: 43.4892 - val_mean_absolute_error: 3.1504 - learning_rate: 1.0000e-04\n",
      "Epoch 56/300\n",
      "\u001b[1m65/65\u001b[0m \u001b[32m━━━━━━━━━━━━━━━━━━━━\u001b[0m\u001b[37m\u001b[0m \u001b[1m0s\u001b[0m 2ms/step - loss: 35.2391 - mean_absolute_error: 2.3674 - val_loss: 43.6454 - val_mean_absolute_error: 3.1689 - learning_rate: 1.0000e-04\n",
      "Epoch 57/300\n",
      "\u001b[1m65/65\u001b[0m \u001b[32m━━━━━━━━━━━━━━━━━━━━\u001b[0m\u001b[37m\u001b[0m \u001b[1m0s\u001b[0m 2ms/step - loss: 53.6321 - mean_absolute_error: 2.5278 - val_loss: 43.9070 - val_mean_absolute_error: 3.1920 - learning_rate: 1.0000e-04\n",
      "Epoch 58/300\n",
      "\u001b[1m65/65\u001b[0m \u001b[32m━━━━━━━━━━━━━━━━━━━━\u001b[0m\u001b[37m\u001b[0m \u001b[1m0s\u001b[0m 2ms/step - loss: 56.0484 - mean_absolute_error: 2.6242 - val_loss: 44.0948 - val_mean_absolute_error: 3.2127 - learning_rate: 1.0000e-04\n",
      "Epoch 59/300\n",
      "\u001b[1m65/65\u001b[0m \u001b[32m━━━━━━━━━━━━━━━━━━━━\u001b[0m\u001b[37m\u001b[0m \u001b[1m0s\u001b[0m 2ms/step - loss: 49.7153 - mean_absolute_error: 2.5644 - val_loss: 44.2514 - val_mean_absolute_error: 3.2296 - learning_rate: 1.0000e-04\n",
      "Epoch 60/300\n",
      "\u001b[1m65/65\u001b[0m \u001b[32m━━━━━━━━━━━━━━━━━━━━\u001b[0m\u001b[37m\u001b[0m \u001b[1m0s\u001b[0m 2ms/step - loss: 34.5766 - mean_absolute_error: 2.3842 - val_loss: 44.3604 - val_mean_absolute_error: 3.2456 - learning_rate: 1.0000e-04\n",
      "Epoch 61/300\n",
      "\u001b[1m65/65\u001b[0m \u001b[32m━━━━━━━━━━━━━━━━━━━━\u001b[0m\u001b[37m\u001b[0m \u001b[1m0s\u001b[0m 2ms/step - loss: 59.6913 - mean_absolute_error: 2.6413 - val_loss: 44.5757 - val_mean_absolute_error: 3.2641 - learning_rate: 1.0000e-04\n",
      "Epoch 62/300\n",
      "\u001b[1m65/65\u001b[0m \u001b[32m━━━━━━━━━━━━━━━━━━━━\u001b[0m\u001b[37m\u001b[0m \u001b[1m0s\u001b[0m 2ms/step - loss: 51.2411 - mean_absolute_error: 2.4916 - val_loss: 44.7904 - val_mean_absolute_error: 3.2873 - learning_rate: 1.0000e-04\n",
      "Epoch 63/300\n",
      "\u001b[1m65/65\u001b[0m \u001b[32m━━━━━━━━━━━━━━━━━━━━\u001b[0m\u001b[37m\u001b[0m \u001b[1m0s\u001b[0m 2ms/step - loss: 55.0500 - mean_absolute_error: 2.4550 - val_loss: 44.9855 - val_mean_absolute_error: 3.3111 - learning_rate: 1.0000e-04\n",
      "Epoch 64/300\n",
      "\u001b[1m65/65\u001b[0m \u001b[32m━━━━━━━━━━━━━━━━━━━━\u001b[0m\u001b[37m\u001b[0m \u001b[1m0s\u001b[0m 2ms/step - loss: 31.7953 - mean_absolute_error: 2.4422 - val_loss: 44.9688 - val_mean_absolute_error: 3.2951 - learning_rate: 1.0000e-04\n",
      "Epoch 65/300\n",
      "\u001b[1m65/65\u001b[0m \u001b[32m━━━━━━━━━━━━━━━━━━━━\u001b[0m\u001b[37m\u001b[0m \u001b[1m0s\u001b[0m 3ms/step - loss: 38.6160 - mean_absolute_error: 2.3760 - val_loss: 45.2072 - val_mean_absolute_error: 3.3304 - learning_rate: 1.0000e-04\n",
      "Epoch 66/300\n",
      "\u001b[1m65/65\u001b[0m \u001b[32m━━━━━━━━━━━━━━━━━━━━\u001b[0m\u001b[37m\u001b[0m \u001b[1m0s\u001b[0m 2ms/step - loss: 74.0777 - mean_absolute_error: 2.7287 - val_loss: 45.4125 - val_mean_absolute_error: 3.3424 - learning_rate: 1.0000e-04\n"
     ]
    },
    {
     "data": {
      "image/png": "[encoded data removed]",
      "text/plain": [
       "<Figure size 1200x500 with 2 Axes>"
      ]
     },
     "metadata": {},
     "output_type": "display_data"
    }
   ],
   "source": [
    "from tensorflow.keras.models import Sequential\n",
    "from tensorflow.keras.layers import Dense, Dropout\n",
    "from tensorflow.keras.regularizers import l2\n",
    "from tensorflow.keras.optimizers import Adam\n",
    "from tensorflow.keras.callbacks import EarlyStopping, ReduceLROnPlateau\n",
    "\n",
    "# Adjusting the model architecture\n",
    "model = Sequential([\n",
    "    Dense(64, activation='relu', kernel_regularizer=l2(0.01), input_shape=(X_train.shape[1],)),\n",
    "    Dropout(0.3),\n",
    "    Dense(32, activation='relu', kernel_regularizer=l2(0.01)),\n",
    "    Dropout(0.3),\n",
    "    Dense(1)\n",
    "])\n",
    "\n",
    "# Compile the model\n",
    "optimizer = Adam(learning_rate=0.0001)  # Reduced learning rate\n",
    "model.compile(optimizer=optimizer, loss='mean_squared_error', metrics=['mean_absolute_error'])\n",
    "\n",
    "# Callbacks\n",
    "early_stopping = EarlyStopping(monitor='val_loss', patience=50, restore_best_weights=True)\n",
    "reduce_lr = ReduceLROnPlateau(monitor='val_loss', factor=0.2, patience=10, min_lr=0.0001)\n",
    "\n",
    "# Fit the model\n",
    "history = model.fit(X_train, y_train, epochs=300, batch_size=32,\n",
    "                    validation_data=(X_val, y_val),\n",
    "                    callbacks=[early_stopping, reduce_lr], verbose=1)\n",
    "\n",
    "# Plot training & validation loss values\n",
    "plt.figure(figsize=(12, 5))\n",
    "plt.subplot(1, 2, 1)\n",
    "plt.plot(history.history['loss'])\n",
    "plt.plot(history.history['val_loss'])\n",
    "plt.title('Model Loss')\n",
    "plt.ylabel('Loss')\n",
    "plt.xlabel('Epoch')\n",
    "plt.legend(['Train', 'Validation'], loc='upper right')\n",
    "\n",
    "# Plot training & validation accuracy values\n",
    "plt.subplot(1, 2, 2)\n",
    "plt.plot(history.history['mean_absolute_error'])\n",
    "plt.plot(history.history['val_mean_absolute_error'])\n",
    "plt.title('Model Mean Absolute Error')\n",
    "plt.ylabel('Mean Absolute Error')\n",
    "plt.xlabel('Epoch')\n",
    "plt.legend(['Train', 'Validation'], loc='upper right')\n",
    "\n",
    "plt.tight_layout()\n",
    "plt.show()\n"
   ]
  },
  {
   "cell_type": "code",
   "execution_count": null,
   "metadata": {},
   "outputs": [
    {
     "name": "stdout",
     "output_type": "stream",
     "text": [
      "Epoch 1/300\n",
      "\u001b[1m65/65\u001b[0m \u001b[32m━━━━━━━━━━━━━━━━━━━━\u001b[0m\u001b[37m\u001b[0m \u001b[1m1s\u001b[0m 5ms/step - loss: 80.4887 - mean_absolute_error: 5.0584 - val_loss: 63.0749 - val_mean_absolute_error: 4.8677 - learning_rate: 1.0000e-04\n",
      "Epoch 2/300\n",
      "\u001b[1m65/65\u001b[0m \u001b[32m━━━━━━━━━━━━━━━━━━━━\u001b[0m\u001b[37m\u001b[0m \u001b[1m0s\u001b[0m 2ms/step - loss: 131.2857 - mean_absolute_error: 5.0139 - val_loss: 58.9081 - val_mean_absolute_error: 4.4397 - learning_rate: 1.0000e-04\n",
      "Epoch 3/300\n",
      "\u001b[1m65/65\u001b[0m \u001b[32m━━━━━━━━━━━━━━━━━━━━\u001b[0m\u001b[37m\u001b[0m \u001b[1m0s\u001b[0m 3ms/step - loss: 88.4996 - mean_absolute_error: 4.2354 - val_loss: 53.8565 - val_mean_absolute_error: 3.8522 - learning_rate: 1.0000e-04\n",
      "Epoch 4/300\n",
      "\u001b[1m65/65\u001b[0m \u001b[32m━━━━━━━━━━━━━━━━━━━━\u001b[0m\u001b[37m\u001b[0m \u001b[1m0s\u001b[0m 2ms/step - loss: 120.2600 - mean_absolute_error: 3.9900 - val_loss: 48.6148 - val_mean_absolute_error: 3.1586 - learning_rate: 1.0000e-04\n",
      "Epoch 5/300\n",
      "\u001b[1m65/65\u001b[0m \u001b[32m━━━━━━━━━━━━━━━━━━━━\u001b[0m\u001b[37m\u001b[0m \u001b[1m0s\u001b[0m 3ms/step - loss: 77.6796 - mean_absolute_error: 3.0586 - val_loss: 44.3777 - val_mean_absolute_error: 2.5414 - learning_rate: 1.0000e-04\n",
      "Epoch 6/300\n",
      "\u001b[1m65/65\u001b[0m \u001b[32m━━━━━━━━━━━━━━━━━━━━\u001b[0m\u001b[37m\u001b[0m \u001b[1m0s\u001b[0m 2ms/step - loss: 86.3135 - mean_absolute_error: 2.6681 - val_loss: 41.8353 - val_mean_absolute_error: 2.2750 - learning_rate: 1.0000e-04\n",
      "Epoch 7/300\n",
      "\u001b[1m65/65\u001b[0m \u001b[32m━━━━━━━━━━━━━━━━━━━━\u001b[0m\u001b[37m\u001b[0m \u001b[1m0s\u001b[0m 3ms/step - loss: 73.9760 - mean_absolute_error: 2.5956 - val_loss: 40.7249 - val_mean_absolute_error: 2.2745 - learning_rate: 1.0000e-04\n",
      "Epoch 8/300\n",
      "\u001b[1m65/65\u001b[0m \u001b[32m━━━━━━━━━━━━━━━━━━━━\u001b[0m\u001b[37m\u001b[0m \u001b[1m0s\u001b[0m 2ms/step - loss: 113.7986 - mean_absolute_error: 2.8073 - val_loss: 40.2664 - val_mean_absolute_error: 2.3346 - learning_rate: 1.0000e-04\n",
      "Epoch 9/300\n",
      "\u001b[1m65/65\u001b[0m \u001b[32m━━━━━━━━━━━━━━━━━━━━\u001b[0m\u001b[37m\u001b[0m \u001b[1m0s\u001b[0m 3ms/step - loss: 98.1861 - mean_absolute_error: 2.7181 - val_loss: 40.0199 - val_mean_absolute_error: 2.3649 - learning_rate: 1.0000e-04\n",
      "Epoch 10/300\n",
      "\u001b[1m65/65\u001b[0m \u001b[32m━━━━━━━━━━━━━━━━━━━━\u001b[0m\u001b[37m\u001b[0m \u001b[1m0s\u001b[0m 2ms/step - loss: 74.7549 - mean_absolute_error: 2.6940 - val_loss: 39.8818 - val_mean_absolute_error: 2.4276 - learning_rate: 1.0000e-04\n",
      "Epoch 11/300\n",
      "\u001b[1m65/65\u001b[0m \u001b[32m━━━━━━━━━━━━━━━━━━━━\u001b[0m\u001b[37m\u001b[0m \u001b[1m0s\u001b[0m 3ms/step - loss: 92.4313 - mean_absolute_error: 2.6755 - val_loss: 39.7553 - val_mean_absolute_error: 2.4819 - learning_rate: 1.0000e-04\n",
      "Epoch 12/300\n",
      "\u001b[1m65/65\u001b[0m \u001b[32m━━━━━━━━━━━━━━━━━━━━\u001b[0m\u001b[37m\u001b[0m \u001b[1m0s\u001b[0m 2ms/step - loss: 45.6256 - mean_absolute_error: 2.4641 - val_loss: 39.6696 - val_mean_absolute_error: 2.5060 - learning_rate: 1.0000e-04\n",
      "Epoch 13/300\n",
      "\u001b[1m65/65\u001b[0m \u001b[32m━━━━━━━━━━━━━━━━━━━━\u001b[0m\u001b[37m\u001b[0m \u001b[1m0s\u001b[0m 4ms/step - loss: 53.5558 - mean_absolute_error: 2.5502 - val_loss: 39.6158 - val_mean_absolute_error: 2.5473 - learning_rate: 1.0000e-04\n",
      "Epoch 14/300\n",
      "\u001b[1m65/65\u001b[0m \u001b[32m━━━━━━━━━━━━━━━━━━━━\u001b[0m\u001b[37m\u001b[0m \u001b[1m0s\u001b[0m 2ms/step - loss: 82.7925 - mean_absolute_error: 2.7560 - val_loss: 39.5681 - val_mean_absolute_error: 2.5623 - learning_rate: 1.0000e-04\n",
      "Epoch 15/300\n",
      "\u001b[1m65/65\u001b[0m \u001b[32m━━━━━━━━━━━━━━━━━━━━\u001b[0m\u001b[37m\u001b[0m \u001b[1m0s\u001b[0m 3ms/step - loss: 51.3638 - mean_absolute_error: 2.6191 - val_loss: 39.5664 - val_mean_absolute_error: 2.5157 - learning_rate: 1.0000e-04\n",
      "Epoch 16/300\n",
      "\u001b[1m65/65\u001b[0m \u001b[32m━━━━━━━━━━━━━━━━━━━━\u001b[0m\u001b[37m\u001b[0m \u001b[1m0s\u001b[0m 3ms/step - loss: 78.8744 - mean_absolute_error: 2.9455 - val_loss: 39.5358 - val_mean_absolute_error: 2.5587 - learning_rate: 1.0000e-04\n",
      "Epoch 17/300\n",
      "\u001b[1m65/65\u001b[0m \u001b[32m━━━━━━━━━━━━━━━━━━━━\u001b[0m\u001b[37m\u001b[0m \u001b[1m0s\u001b[0m 2ms/step - loss: 83.4073 - mean_absolute_error: 2.7043 - val_loss: 39.6083 - val_mean_absolute_error: 2.5927 - learning_rate: 1.0000e-04\n",
      "Epoch 18/300\n",
      "\u001b[1m65/65\u001b[0m \u001b[32m━━━━━━━━━━━━━━━━━━━━\u001b[0m\u001b[37m\u001b[0m \u001b[1m0s\u001b[0m 2ms/step - loss: 91.6609 - mean_absolute_error: 2.8038 - val_loss: 39.6569 - val_mean_absolute_error: 2.6267 - learning_rate: 1.0000e-04\n",
      "Epoch 19/300\n",
      "\u001b[1m65/65\u001b[0m \u001b[32m━━━━━━━━━━━━━━━━━━━━\u001b[0m\u001b[37m\u001b[0m \u001b[1m0s\u001b[0m 3ms/step - loss: 63.7275 - mean_absolute_error: 2.5438 - val_loss: 39.7013 - val_mean_absolute_error: 2.6342 - learning_rate: 1.0000e-04\n",
      "Epoch 20/300\n",
      "\u001b[1m65/65\u001b[0m \u001b[32m━━━━━━━━━━━━━━━━━━━━\u001b[0m\u001b[37m\u001b[0m \u001b[1m0s\u001b[0m 2ms/step - loss: 69.6511 - mean_absolute_error: 2.8862 - val_loss: 39.7564 - val_mean_absolute_error: 2.6347 - learning_rate: 1.0000e-04\n",
      "Epoch 21/300\n",
      "\u001b[1m65/65\u001b[0m \u001b[32m━━━━━━━━━━━━━━━━━━━━\u001b[0m\u001b[37m\u001b[0m \u001b[1m0s\u001b[0m 3ms/step - loss: 60.4999 - mean_absolute_error: 2.6642 - val_loss: 39.8008 - val_mean_absolute_error: 2.6755 - learning_rate: 1.0000e-04\n",
      "Epoch 22/300\n",
      "\u001b[1m65/65\u001b[0m \u001b[32m━━━━━━━━━━━━━━━━━━━━\u001b[0m\u001b[37m\u001b[0m \u001b[1m0s\u001b[0m 2ms/step - loss: 69.4314 - mean_absolute_error: 2.6593 - val_loss: 39.8399 - val_mean_absolute_error: 2.6711 - learning_rate: 1.0000e-04\n",
      "Epoch 23/300\n",
      "\u001b[1m65/65\u001b[0m \u001b[32m━━━━━━━━━━━━━━━━━━━━\u001b[0m\u001b[37m\u001b[0m \u001b[1m0s\u001b[0m 3ms/step - loss: 55.8190 - mean_absolute_error: 2.5649 - val_loss: 39.9500 - val_mean_absolute_error: 2.7223 - learning_rate: 1.0000e-04\n",
      "Epoch 24/300\n",
      "\u001b[1m65/65\u001b[0m \u001b[32m━━━━━━━━━━━━━━━━━━━━\u001b[0m\u001b[37m\u001b[0m \u001b[1m0s\u001b[0m 2ms/step - loss: 101.6069 - mean_absolute_error: 3.1247 - val_loss: 40.0418 - val_mean_absolute_error: 2.7218 - learning_rate: 1.0000e-04\n",
      "Epoch 25/300\n",
      "\u001b[1m65/65\u001b[0m \u001b[32m━━━━━━━━━━━━━━━━━━━━\u001b[0m\u001b[37m\u001b[0m \u001b[1m0s\u001b[0m 2ms/step - loss: 66.6689 - mean_absolute_error: 2.5649 - val_loss: 40.1219 - val_mean_absolute_error: 2.7164 - learning_rate: 1.0000e-04\n",
      "Epoch 26/300\n",
      "\u001b[1m65/65\u001b[0m \u001b[32m━━━━━━━━━━━━━━━━━━━━\u001b[0m\u001b[37m\u001b[0m \u001b[1m0s\u001b[0m 3ms/step - loss: 84.5327 - mean_absolute_error: 2.8721 - val_loss: 40.2498 - val_mean_absolute_error: 2.7564 - learning_rate: 1.0000e-04\n",
      "Epoch 27/300\n",
      "\u001b[1m65/65\u001b[0m \u001b[32m━━━━━━━━━━━━━━━━━━━━\u001b[0m\u001b[37m\u001b[0m \u001b[1m0s\u001b[0m 2ms/step - loss: 63.8081 - mean_absolute_error: 2.6521 - val_loss: 40.2541 - val_mean_absolute_error: 2.7573 - learning_rate: 1.0000e-05\n",
      "Epoch 28/300\n",
      "\u001b[1m65/65\u001b[0m \u001b[32m━━━━━━━━━━━━━━━━━━━━\u001b[0m\u001b[37m\u001b[0m \u001b[1m0s\u001b[0m 3ms/step - loss: 63.5837 - mean_absolute_error: 2.5970 - val_loss: 40.2685 - val_mean_absolute_error: 2.7575 - learning_rate: 1.0000e-05\n",
      "Epoch 29/300\n",
      "\u001b[1m65/65\u001b[0m \u001b[32m━━━━━━━━━━━━━━━━━━━━\u001b[0m\u001b[37m\u001b[0m \u001b[1m0s\u001b[0m 3ms/step - loss: 50.3511 - mean_absolute_error: 2.4393 - val_loss: 40.2850 - val_mean_absolute_error: 2.7635 - learning_rate: 1.0000e-05\n",
      "Epoch 30/300\n",
      "\u001b[1m65/65\u001b[0m \u001b[32m━━━━━━━━━━━━━━━━━━━━\u001b[0m\u001b[37m\u001b[0m \u001b[1m0s\u001b[0m 2ms/step - loss: 85.6537 - mean_absolute_error: 2.7347 - val_loss: 40.2941 - val_mean_absolute_error: 2.7685 - learning_rate: 1.0000e-05\n",
      "Epoch 31/300\n",
      "\u001b[1m65/65\u001b[0m \u001b[32m━━━━━━━━━━━━━━━━━━━━\u001b[0m\u001b[37m\u001b[0m \u001b[1m0s\u001b[0m 2ms/step - loss: 81.7193 - mean_absolute_error: 2.7298 - val_loss: 40.3059 - val_mean_absolute_error: 2.7720 - learning_rate: 1.0000e-05\n",
      "Epoch 32/300\n",
      "\u001b[1m65/65\u001b[0m \u001b[32m━━━━━━━━━━━━━━━━━━━━\u001b[0m\u001b[37m\u001b[0m \u001b[1m0s\u001b[0m 3ms/step - loss: 77.3984 - mean_absolute_error: 2.8117 - val_loss: 40.3148 - val_mean_absolute_error: 2.7701 - learning_rate: 1.0000e-05\n",
      "Epoch 33/300\n",
      "\u001b[1m65/65\u001b[0m \u001b[32m━━━━━━━━━━━━━━━━━━━━\u001b[0m\u001b[37m\u001b[0m \u001b[1m0s\u001b[0m 2ms/step - loss: 51.5928 - mean_absolute_error: 2.4812 - val_loss: 40.3268 - val_mean_absolute_error: 2.7761 - learning_rate: 1.0000e-05\n",
      "Epoch 34/300\n",
      "\u001b[1m65/65\u001b[0m \u001b[32m━━━━━━━━━━━━━━━━━━━━\u001b[0m\u001b[37m\u001b[0m \u001b[1m0s\u001b[0m 2ms/step - loss: 72.7608 - mean_absolute_error: 2.6316 - val_loss: 40.3358 - val_mean_absolute_error: 2.7730 - learning_rate: 1.0000e-05\n",
      "Epoch 35/300\n",
      "\u001b[1m65/65\u001b[0m \u001b[32m━━━━━━━━━━━━━━━━━━━━\u001b[0m\u001b[37m\u001b[0m \u001b[1m0s\u001b[0m 2ms/step - loss: 63.9110 - mean_absolute_error: 2.6724 - val_loss: 40.3483 - val_mean_absolute_error: 2.7800 - learning_rate: 1.0000e-05\n",
      "Epoch 36/300\n",
      "\u001b[1m65/65\u001b[0m \u001b[32m━━━━━━━━━━━━━━━━━━━━\u001b[0m\u001b[37m\u001b[0m \u001b[1m0s\u001b[0m 2ms/step - loss: 59.1395 - mean_absolute_error: 2.6341 - val_loss: 40.3601 - val_mean_absolute_error: 2.7822 - learning_rate: 1.0000e-05\n",
      "Epoch 37/300\n",
      "\u001b[1m65/65\u001b[0m \u001b[32m━━━━━━━━━━━━━━━━━━━━\u001b[0m\u001b[37m\u001b[0m \u001b[1m0s\u001b[0m 3ms/step - loss: 54.9605 - mean_absolute_error: 2.5631 - val_loss: 40.3773 - val_mean_absolute_error: 2.7846 - learning_rate: 1.0000e-05\n",
      "Epoch 38/300\n",
      "\u001b[1m65/65\u001b[0m \u001b[32m━━━━━━━━━━━━━━━━━━━━\u001b[0m\u001b[37m\u001b[0m \u001b[1m0s\u001b[0m 3ms/step - loss: 120.6319 - mean_absolute_error: 3.0713 - val_loss: 40.3877 - val_mean_absolute_error: 2.7881 - learning_rate: 1.0000e-05\n",
      "Epoch 39/300\n",
      "\u001b[1m65/65\u001b[0m \u001b[32m━━━━━━━━━━━━━━━━━━━━\u001b[0m\u001b[37m\u001b[0m \u001b[1m0s\u001b[0m 3ms/step - loss: 95.8810 - mean_absolute_error: 2.7708 - val_loss: 40.4003 - val_mean_absolute_error: 2.7930 - learning_rate: 1.0000e-05\n",
      "Epoch 40/300\n",
      "\u001b[1m65/65\u001b[0m \u001b[32m━━━━━━━━━━━━━━━━━━━━\u001b[0m\u001b[37m\u001b[0m \u001b[1m0s\u001b[0m 2ms/step - loss: 62.6202 - mean_absolute_error: 2.5268 - val_loss: 40.4077 - val_mean_absolute_error: 2.7914 - learning_rate: 1.0000e-05\n",
      "Epoch 41/300\n",
      "\u001b[1m65/65\u001b[0m \u001b[32m━━━━━━━━━━━━━━━━━━━━\u001b[0m\u001b[37m\u001b[0m \u001b[1m0s\u001b[0m 2ms/step - loss: 83.9380 - mean_absolute_error: 2.8528 - val_loss: 40.4189 - val_mean_absolute_error: 2.7943 - learning_rate: 1.0000e-05\n",
      "Epoch 42/300\n",
      "\u001b[1m65/65\u001b[0m \u001b[32m━━━━━━━━━━━━━━━━━━━━\u001b[0m\u001b[37m\u001b[0m \u001b[1m0s\u001b[0m 2ms/step - loss: 63.7254 - mean_absolute_error: 2.5213 - val_loss: 40.4299 - val_mean_absolute_error: 2.7969 - learning_rate: 1.0000e-05\n",
      "Epoch 43/300\n",
      "\u001b[1m65/65\u001b[0m \u001b[32m━━━━━━━━━━━━━━━━━━━━\u001b[0m\u001b[37m\u001b[0m \u001b[1m0s\u001b[0m 2ms/step - loss: 61.8783 - mean_absolute_error: 2.5491 - val_loss: 40.4444 - val_mean_absolute_error: 2.7988 - learning_rate: 1.0000e-05\n",
      "Epoch 44/300\n",
      "\u001b[1m65/65\u001b[0m \u001b[32m━━━━━━━━━━━━━━━━━━━━\u001b[0m\u001b[37m\u001b[0m \u001b[1m0s\u001b[0m 2ms/step - loss: 64.2164 - mean_absolute_error: 2.4726 - val_loss: 40.4498 - val_mean_absolute_error: 2.7987 - learning_rate: 1.0000e-05\n",
      "Epoch 45/300\n",
      "\u001b[1m65/65\u001b[0m \u001b[32m━━━━━━━━━━━━━━━━━━━━\u001b[0m\u001b[37m\u001b[0m \u001b[1m0s\u001b[0m 3ms/step - loss: 60.3881 - mean_absolute_error: 2.4524 - val_loss: 40.4642 - val_mean_absolute_error: 2.8001 - learning_rate: 1.0000e-05\n",
      "Epoch 46/300\n",
      "\u001b[1m65/65\u001b[0m \u001b[32m━━━━━━━━━━━━━━━━━━━━\u001b[0m\u001b[37m\u001b[0m \u001b[1m0s\u001b[0m 2ms/step - loss: 37.1725 - mean_absolute_error: 2.3770 - val_loss: 40.4745 - val_mean_absolute_error: 2.8032 - learning_rate: 1.0000e-05\n",
      "Epoch 47/300\n",
      "\u001b[1m65/65\u001b[0m \u001b[32m━━━━━━━━━━━━━━━━━━━━\u001b[0m\u001b[37m\u001b[0m \u001b[1m0s\u001b[0m 2ms/step - loss: 68.8240 - mean_absolute_error: 2.6187 - val_loss: 40.4800 - val_mean_absolute_error: 2.8080 - learning_rate: 1.0000e-05\n",
      "Epoch 48/300\n",
      "\u001b[1m65/65\u001b[0m \u001b[32m━━━━━━━━━━━━━━━━━━━━\u001b[0m\u001b[37m\u001b[0m \u001b[1m0s\u001b[0m 3ms/step - loss: 107.1977 - mean_absolute_error: 2.9389 - val_loss: 40.4945 - val_mean_absolute_error: 2.8129 - learning_rate: 1.0000e-05\n",
      "Epoch 49/300\n",
      "\u001b[1m65/65\u001b[0m \u001b[32m━━━━━━━━━━━━━━━━━━━━\u001b[0m\u001b[37m\u001b[0m \u001b[1m0s\u001b[0m 2ms/step - loss: 45.8791 - mean_absolute_error: 2.5877 - val_loss: 40.5011 - val_mean_absolute_error: 2.8087 - learning_rate: 1.0000e-05\n",
      "Epoch 50/300\n",
      "\u001b[1m65/65\u001b[0m \u001b[32m━━━━━━━━━━━━━━━━━━━━\u001b[0m\u001b[37m\u001b[0m \u001b[1m0s\u001b[0m 2ms/step - loss: 54.0835 - mean_absolute_error: 2.5662 - val_loss: 40.5100 - val_mean_absolute_error: 2.8118 - learning_rate: 1.0000e-05\n",
      "Epoch 51/300\n",
      "\u001b[1m65/65\u001b[0m \u001b[32m━━━━━━━━━━━━━━━━━━━━\u001b[0m\u001b[37m\u001b[0m \u001b[1m0s\u001b[0m 3ms/step - loss: 56.2318 - mean_absolute_error: 2.6921 - val_loss: 40.5214 - val_mean_absolute_error: 2.8106 - learning_rate: 1.0000e-05\n",
      "Epoch 52/300\n",
      "\u001b[1m65/65\u001b[0m \u001b[32m━━━━━━━━━━━━━━━━━━━━\u001b[0m\u001b[37m\u001b[0m \u001b[1m0s\u001b[0m 3ms/step - loss: 66.9860 - mean_absolute_error: 2.7295 - val_loss: 40.5338 - val_mean_absolute_error: 2.8152 - learning_rate: 1.0000e-05\n",
      "Epoch 53/300\n",
      "\u001b[1m65/65\u001b[0m \u001b[32m━━━━━━━━━━━━━━━━━━━━\u001b[0m\u001b[37m\u001b[0m \u001b[1m0s\u001b[0m 2ms/step - loss: 58.8301 - mean_absolute_error: 2.5343 - val_loss: 40.5410 - val_mean_absolute_error: 2.8141 - learning_rate: 1.0000e-05\n",
      "Epoch 54/300\n",
      "\u001b[1m65/65\u001b[0m \u001b[32m━━━━━━━━━━━━━━━━━━━━\u001b[0m\u001b[37m\u001b[0m \u001b[1m0s\u001b[0m 2ms/step - loss: 49.5274 - mean_absolute_error: 2.5334 - val_loss: 40.5531 - val_mean_absolute_error: 2.8167 - learning_rate: 1.0000e-05\n",
      "Epoch 55/300\n",
      "\u001b[1m65/65\u001b[0m \u001b[32m━━━━━━━━━━━━━━━━━━━━\u001b[0m\u001b[37m\u001b[0m \u001b[1m0s\u001b[0m 3ms/step - loss: 48.1295 - mean_absolute_error: 2.4795 - val_loss: 40.5627 - val_mean_absolute_error: 2.8185 - learning_rate: 1.0000e-05\n",
      "Epoch 56/300\n",
      "\u001b[1m65/65\u001b[0m \u001b[32m━━━━━━━━━━━━━━━━━━━━\u001b[0m\u001b[37m\u001b[0m \u001b[1m0s\u001b[0m 3ms/step - loss: 69.6720 - mean_absolute_error: 2.7454 - val_loss: 40.5758 - val_mean_absolute_error: 2.8203 - learning_rate: 1.0000e-05\n",
      "Epoch 57/300\n",
      "\u001b[1m65/65\u001b[0m \u001b[32m━━━━━━━━━━━━━━━━━━━━\u001b[0m\u001b[37m\u001b[0m \u001b[1m0s\u001b[0m 3ms/step - loss: 61.0596 - mean_absolute_error: 2.6714 - val_loss: 40.5904 - val_mean_absolute_error: 2.8237 - learning_rate: 1.0000e-05\n",
      "Epoch 58/300\n",
      "\u001b[1m65/65\u001b[0m \u001b[32m━━━━━━━━━━━━━━━━━━━━\u001b[0m\u001b[37m\u001b[0m \u001b[1m0s\u001b[0m 3ms/step - loss: 57.5821 - mean_absolute_error: 2.4848 - val_loss: 40.6022 - val_mean_absolute_error: 2.8260 - learning_rate: 1.0000e-05\n",
      "Epoch 59/300\n",
      "\u001b[1m65/65\u001b[0m \u001b[32m━━━━━━━━━━━━━━━━━━━━\u001b[0m\u001b[37m\u001b[0m \u001b[1m0s\u001b[0m 2ms/step - loss: 83.6903 - mean_absolute_error: 2.9177 - val_loss: 40.6207 - val_mean_absolute_error: 2.8295 - learning_rate: 1.0000e-05\n",
      "Epoch 60/300\n",
      "\u001b[1m65/65\u001b[0m \u001b[32m━━━━━━━━━━━━━━━━━━━━\u001b[0m\u001b[37m\u001b[0m \u001b[1m0s\u001b[0m 3ms/step - loss: 71.7852 - mean_absolute_error: 2.7602 - val_loss: 40.6336 - val_mean_absolute_error: 2.8324 - learning_rate: 1.0000e-05\n",
      "Epoch 61/300\n",
      "\u001b[1m65/65\u001b[0m \u001b[32m━━━━━━━━━━━━━━━━━━━━\u001b[0m\u001b[37m\u001b[0m \u001b[1m0s\u001b[0m 3ms/step - loss: 51.4481 - mean_absolute_error: 2.4717 - val_loss: 40.6473 - val_mean_absolute_error: 2.8343 - learning_rate: 1.0000e-05\n",
      "Epoch 62/300\n",
      "\u001b[1m65/65\u001b[0m \u001b[32m━━━━━━━━━━━━━━━━━━━━\u001b[0m\u001b[37m\u001b[0m \u001b[1m0s\u001b[0m 3ms/step - loss: 57.3839 - mean_absolute_error: 2.4828 - val_loss: 40.6582 - val_mean_absolute_error: 2.8377 - learning_rate: 1.0000e-05\n",
      "Epoch 63/300\n",
      "\u001b[1m65/65\u001b[0m \u001b[32m━━━━━━━━━━━━━━━━━━━━\u001b[0m\u001b[37m\u001b[0m \u001b[1m0s\u001b[0m 2ms/step - loss: 52.0226 - mean_absolute_error: 2.4421 - val_loss: 40.6725 - val_mean_absolute_error: 2.8385 - learning_rate: 1.0000e-05\n",
      "Epoch 64/300\n",
      "\u001b[1m65/65\u001b[0m \u001b[32m━━━━━━━━━━━━━━━━━━━━\u001b[0m\u001b[37m\u001b[0m \u001b[1m0s\u001b[0m 2ms/step - loss: 54.0760 - mean_absolute_error: 2.6005 - val_loss: 40.6858 - val_mean_absolute_error: 2.8396 - learning_rate: 1.0000e-05\n",
      "Epoch 65/300\n",
      "\u001b[1m65/65\u001b[0m \u001b[32m━━━━━━━━━━━━━━━━━━━━\u001b[0m\u001b[37m\u001b[0m \u001b[1m0s\u001b[0m 3ms/step - loss: 63.1478 - mean_absolute_error: 2.6355 - val_loss: 40.6960 - val_mean_absolute_error: 2.8431 - learning_rate: 1.0000e-05\n",
      "Epoch 66/300\n",
      "\u001b[1m65/65\u001b[0m \u001b[32m━━━━━━━━━━━━━━━━━━━━\u001b[0m\u001b[37m\u001b[0m \u001b[1m0s\u001b[0m 3ms/step - loss: 94.4113 - mean_absolute_error: 2.8168 - val_loss: 40.7034 - val_mean_absolute_error: 2.8437 - learning_rate: 1.0000e-05\n"
     ]
    },
    {
     "data": {
      "image/png": "[encoded data removed]",
      "text/plain": [
       "<Figure size 1200x500 with 2 Axes>"
      ]
     },
     "metadata": {},
     "output_type": "display_data"
    }
   ],
   "source": [
    "from tensorflow.keras.models import Sequential\n",
    "from tensorflow.keras.layers import Dense, Dropout\n",
    "from tensorflow.keras.regularizers import l2\n",
    "from tensorflow.keras.optimizers import Adam\n",
    "from tensorflow.keras.callbacks import EarlyStopping, ReduceLROnPlateau\n",
    "import matplotlib.pyplot as plt\n",
    "\n",
    "# Adjusting the model architecture with optimized layers and dropout\n",
    "model = Sequential([\n",
    "    Dense(128, activation='relu', kernel_regularizer=l2(0.01), input_shape=(X_train.shape[1],)),\n",
    "    Dropout(0.4),  # Increased dropout for better regularization\n",
    "    Dense(64, activation='relu', kernel_regularizer=l2(0.01)),\n",
    "    Dropout(0.4),\n",
    "    Dense(1)\n",
    "])\n",
    "\n",
    "# Compile the model with an appropriate optimizer and loss function\n",
    "optimizer = Adam(learning_rate=0.0001)\n",
    "model.compile(optimizer=optimizer, loss='mean_squared_error', metrics=['mean_absolute_error'])\n",
    "\n",
    "# Setup callbacks for early stopping and learning rate reduction\n",
    "early_stopping = EarlyStopping(monitor='val_loss', patience=50, restore_best_weights=True)\n",
    "reduce_lr = ReduceLROnPlateau(monitor='val_loss', factor=0.1, patience=10, min_lr=0.00001)\n",
    "\n",
    "# Train the model\n",
    "history = model.fit(X_train, y_train, epochs=300, batch_size=32,\n",
    "                    validation_data=(X_val, y_val),\n",
    "                    callbacks=[early_stopping, reduce_lr], verbose=1)\n",
    "\n",
    "# Plotting the training & validation loss and accuracy\n",
    "plt.figure(figsize=(12, 5))\n",
    "plt.subplot(1, 2, 1)\n",
    "plt.plot(history.history['loss'], label='Train Loss')\n",
    "plt.plot(history.history['val_loss'], label='Validation Loss')\n",
    "plt.title('Model Loss')\n",
    "plt.ylabel('Loss')\n",
    "plt.xlabel('Epoch')\n",
    "plt.legend(loc='upper right')\n",
    "\n",
    "plt.subplot(1, 2, 2)\n",
    "plt.plot(history.history['mean_absolute_error'], label='Train MAE')\n",
    "plt.plot(history.history['val_mean_absolute_error'], label='Validation MAE')\n",
    "plt.title('Model Mean Absolute Error')\n",
    "plt.ylabel('Mean Absolute Error')\n",
    "plt.xlabel('Epoch')\n",
    "plt.legend(loc='upper right')\n",
    "\n",
    "plt.tight_layout()\n",
    "plt.show()\n"
   ]
  },
  {
   "cell_type": "code",
   "execution_count": null,
   "metadata": {},
   "outputs": [
    {
     "name": "stdout",
     "output_type": "stream",
     "text": [
      "   PLAYER_ID    PLAYER_NAME SEASON  SEASON_NUM   AGE PLAYER_HEIGHT_INCHES  \\\n",
      "0    1630639    A.J. Lawson  22-23        22.5  22.0                   78   \n",
      "1    1631260       AJ Green  22-23        22.5  23.0                   77   \n",
      "2    1631100     AJ Griffin  22-23        22.5  19.0                   78   \n",
      "3     203932   Aaron Gordon  22-23        22.5  27.0                   80   \n",
      "4    1628988  Aaron Holiday  22-23        22.5  26.0                   72   \n",
      "\n",
      "  PLAYER_WEIGHT  GP   MIN  USG_PCT  ...  AVG_SEC_PER_TOUCH  \\\n",
      "0           179  13   4.8    0.182  ...               1.39   \n",
      "1           190  32   9.4    0.160  ...               2.61   \n",
      "2           220  66  19.4    0.174  ...               2.08   \n",
      "3           235  61  30.1    0.206  ...               2.94   \n",
      "4           185  57  13.7    0.128  ...               4.17   \n",
      "\n",
      "   AVG_DRIB_PER_TOUCH  ELBOW_TOUCHES  POST_TOUCHES  PAINT_TOUCHES     TEAM  \\\n",
      "0                0.62            0.0           0.0            0.2      NaN   \n",
      "1                1.84            0.1           0.0            0.3      NaN   \n",
      "2                1.49            0.4           0.0            0.7      NaN   \n",
      "3                2.11            1.8           2.1            6.8  Nuggets   \n",
      "4                3.82            0.1           0.0            0.4      NaN   \n",
      "\n",
      "   INJURED ON    RETURNED  DAYS MISSED    INJURED_TYPE  \n",
      "0         NaN         NaN          NaN             NaN  \n",
      "1         NaN         NaN          NaN             NaN  \n",
      "2         NaN         NaN          NaN             NaN  \n",
      "3  2023-02-02  2023-02-07          5.0  Sprained_ankle  \n",
      "4         NaN         NaN          NaN             NaN  \n",
      "\n",
      "[5 rows x 32 columns]\n"
     ]
    }
   ],
   "source": [
    "# print merged csv\n",
    "\n",
    "df1 = pd.read_csv('merged.csv')\n",
    "print(df1.head())"
   ]
  }
 ],
 "metadata": {
  "kernelspec": {
   "display_name": "base",
   "language": "python",
   "name": "python3"
  },
  "language_info": {
   "codemirror_mode": {
    "name": "ipython",
    "version": 3
   },
   "file_extension": ".py",
   "mimetype": "text/x-python",
   "name": "python",
   "nbconvert_exporter": "python",
   "pygments_lexer": "ipython3",
   "version": "3.9.18"
  },
  "orig_nbformat": 4,
  "vscode": {
   "interpreter": {
    "hash": "2401b4f7c25fe93339ad283a786b6ff44449ccf233186430dc9dbdcb5ce85e72"
   }
  }
 },
 "nbformat": 4,
 "nbformat_minor": 2
}
