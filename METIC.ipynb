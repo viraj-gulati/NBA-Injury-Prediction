{
 "cells": [
  {
   "attachments": {},
   "cell_type": "markdown",
   "metadata": {},
   "source": [
    "## Data Collection and Cleaning"
   ]
  },
  {
   "attachments": {},
   "cell_type": "markdown",
   "metadata": {},
   "source": [
    "First we get a collection of the last years worth of player injuries "
   ]
  },
  {
   "cell_type": "code",
   "execution_count": 198,
   "metadata": {},
   "outputs": [
    {
     "name": "stderr",
     "output_type": "stream",
     "text": [
      "/var/folders/7z/7q00pypj1_sf2clps66cxc9r0000gn/T/ipykernel_2964/2765107248.py:32: FutureWarning: Passing literal html to 'read_html' is deprecated and will be removed in a future version. To read from a literal string, wrap it in a 'StringIO' object.\n",
      "  df = pd.read_html(str(table))[0]\n",
      "/var/folders/7z/7q00pypj1_sf2clps66cxc9r0000gn/T/ipykernel_2964/2765107248.py:32: FutureWarning: Passing literal html to 'read_html' is deprecated and will be removed in a future version. To read from a literal string, wrap it in a 'StringIO' object.\n",
      "  df = pd.read_html(str(table))[0]\n",
      "/var/folders/7z/7q00pypj1_sf2clps66cxc9r0000gn/T/ipykernel_2964/2765107248.py:32: FutureWarning: Passing literal html to 'read_html' is deprecated and will be removed in a future version. To read from a literal string, wrap it in a 'StringIO' object.\n",
      "  df = pd.read_html(str(table))[0]\n",
      "/var/folders/7z/7q00pypj1_sf2clps66cxc9r0000gn/T/ipykernel_2964/2765107248.py:32: FutureWarning: Passing literal html to 'read_html' is deprecated and will be removed in a future version. To read from a literal string, wrap it in a 'StringIO' object.\n",
      "  df = pd.read_html(str(table))[0]\n",
      "/var/folders/7z/7q00pypj1_sf2clps66cxc9r0000gn/T/ipykernel_2964/2765107248.py:32: FutureWarning: Passing literal html to 'read_html' is deprecated and will be removed in a future version. To read from a literal string, wrap it in a 'StringIO' object.\n",
      "  df = pd.read_html(str(table))[0]\n",
      "/var/folders/7z/7q00pypj1_sf2clps66cxc9r0000gn/T/ipykernel_2964/2765107248.py:32: FutureWarning: Passing literal html to 'read_html' is deprecated and will be removed in a future version. To read from a literal string, wrap it in a 'StringIO' object.\n",
      "  df = pd.read_html(str(table))[0]\n",
      "/var/folders/7z/7q00pypj1_sf2clps66cxc9r0000gn/T/ipykernel_2964/2765107248.py:32: FutureWarning: Passing literal html to 'read_html' is deprecated and will be removed in a future version. To read from a literal string, wrap it in a 'StringIO' object.\n",
      "  df = pd.read_html(str(table))[0]\n",
      "/var/folders/7z/7q00pypj1_sf2clps66cxc9r0000gn/T/ipykernel_2964/2765107248.py:32: FutureWarning: Passing literal html to 'read_html' is deprecated and will be removed in a future version. To read from a literal string, wrap it in a 'StringIO' object.\n",
      "  df = pd.read_html(str(table))[0]\n",
      "/var/folders/7z/7q00pypj1_sf2clps66cxc9r0000gn/T/ipykernel_2964/2765107248.py:32: FutureWarning: Passing literal html to 'read_html' is deprecated and will be removed in a future version. To read from a literal string, wrap it in a 'StringIO' object.\n",
      "  df = pd.read_html(str(table))[0]\n",
      "/var/folders/7z/7q00pypj1_sf2clps66cxc9r0000gn/T/ipykernel_2964/2765107248.py:32: FutureWarning: Passing literal html to 'read_html' is deprecated and will be removed in a future version. To read from a literal string, wrap it in a 'StringIO' object.\n",
      "  df = pd.read_html(str(table))[0]\n",
      "/var/folders/7z/7q00pypj1_sf2clps66cxc9r0000gn/T/ipykernel_2964/2765107248.py:32: FutureWarning: Passing literal html to 'read_html' is deprecated and will be removed in a future version. To read from a literal string, wrap it in a 'StringIO' object.\n",
      "  df = pd.read_html(str(table))[0]\n",
      "/var/folders/7z/7q00pypj1_sf2clps66cxc9r0000gn/T/ipykernel_2964/2765107248.py:32: FutureWarning: Passing literal html to 'read_html' is deprecated and will be removed in a future version. To read from a literal string, wrap it in a 'StringIO' object.\n",
      "  df = pd.read_html(str(table))[0]\n",
      "/var/folders/7z/7q00pypj1_sf2clps66cxc9r0000gn/T/ipykernel_2964/2765107248.py:32: FutureWarning: Passing literal html to 'read_html' is deprecated and will be removed in a future version. To read from a literal string, wrap it in a 'StringIO' object.\n",
      "  df = pd.read_html(str(table))[0]\n",
      "/var/folders/7z/7q00pypj1_sf2clps66cxc9r0000gn/T/ipykernel_2964/2765107248.py:32: FutureWarning: Passing literal html to 'read_html' is deprecated and will be removed in a future version. To read from a literal string, wrap it in a 'StringIO' object.\n",
      "  df = pd.read_html(str(table))[0]\n",
      "/var/folders/7z/7q00pypj1_sf2clps66cxc9r0000gn/T/ipykernel_2964/2765107248.py:32: FutureWarning: Passing literal html to 'read_html' is deprecated and will be removed in a future version. To read from a literal string, wrap it in a 'StringIO' object.\n",
      "  df = pd.read_html(str(table))[0]\n",
      "/var/folders/7z/7q00pypj1_sf2clps66cxc9r0000gn/T/ipykernel_2964/2765107248.py:32: FutureWarning: Passing literal html to 'read_html' is deprecated and will be removed in a future version. To read from a literal string, wrap it in a 'StringIO' object.\n",
      "  df = pd.read_html(str(table))[0]\n",
      "/var/folders/7z/7q00pypj1_sf2clps66cxc9r0000gn/T/ipykernel_2964/2765107248.py:32: FutureWarning: Passing literal html to 'read_html' is deprecated and will be removed in a future version. To read from a literal string, wrap it in a 'StringIO' object.\n",
      "  df = pd.read_html(str(table))[0]\n",
      "/var/folders/7z/7q00pypj1_sf2clps66cxc9r0000gn/T/ipykernel_2964/2765107248.py:32: FutureWarning: Passing literal html to 'read_html' is deprecated and will be removed in a future version. To read from a literal string, wrap it in a 'StringIO' object.\n",
      "  df = pd.read_html(str(table))[0]\n",
      "/var/folders/7z/7q00pypj1_sf2clps66cxc9r0000gn/T/ipykernel_2964/2765107248.py:32: FutureWarning: Passing literal html to 'read_html' is deprecated and will be removed in a future version. To read from a literal string, wrap it in a 'StringIO' object.\n",
      "  df = pd.read_html(str(table))[0]\n",
      "/var/folders/7z/7q00pypj1_sf2clps66cxc9r0000gn/T/ipykernel_2964/2765107248.py:32: FutureWarning: Passing literal html to 'read_html' is deprecated and will be removed in a future version. To read from a literal string, wrap it in a 'StringIO' object.\n",
      "  df = pd.read_html(str(table))[0]\n",
      "/var/folders/7z/7q00pypj1_sf2clps66cxc9r0000gn/T/ipykernel_2964/2765107248.py:32: FutureWarning: Passing literal html to 'read_html' is deprecated and will be removed in a future version. To read from a literal string, wrap it in a 'StringIO' object.\n",
      "  df = pd.read_html(str(table))[0]\n",
      "/var/folders/7z/7q00pypj1_sf2clps66cxc9r0000gn/T/ipykernel_2964/2765107248.py:32: FutureWarning: Passing literal html to 'read_html' is deprecated and will be removed in a future version. To read from a literal string, wrap it in a 'StringIO' object.\n",
      "  df = pd.read_html(str(table))[0]\n",
      "/var/folders/7z/7q00pypj1_sf2clps66cxc9r0000gn/T/ipykernel_2964/2765107248.py:32: FutureWarning: Passing literal html to 'read_html' is deprecated and will be removed in a future version. To read from a literal string, wrap it in a 'StringIO' object.\n",
      "  df = pd.read_html(str(table))[0]\n",
      "/var/folders/7z/7q00pypj1_sf2clps66cxc9r0000gn/T/ipykernel_2964/2765107248.py:32: FutureWarning: Passing literal html to 'read_html' is deprecated and will be removed in a future version. To read from a literal string, wrap it in a 'StringIO' object.\n",
      "  df = pd.read_html(str(table))[0]\n",
      "/var/folders/7z/7q00pypj1_sf2clps66cxc9r0000gn/T/ipykernel_2964/2765107248.py:32: FutureWarning: Passing literal html to 'read_html' is deprecated and will be removed in a future version. To read from a literal string, wrap it in a 'StringIO' object.\n",
      "  df = pd.read_html(str(table))[0]\n",
      "/var/folders/7z/7q00pypj1_sf2clps66cxc9r0000gn/T/ipykernel_2964/2765107248.py:32: FutureWarning: Passing literal html to 'read_html' is deprecated and will be removed in a future version. To read from a literal string, wrap it in a 'StringIO' object.\n",
      "  df = pd.read_html(str(table))[0]\n",
      "/var/folders/7z/7q00pypj1_sf2clps66cxc9r0000gn/T/ipykernel_2964/2765107248.py:32: FutureWarning: Passing literal html to 'read_html' is deprecated and will be removed in a future version. To read from a literal string, wrap it in a 'StringIO' object.\n",
      "  df = pd.read_html(str(table))[0]\n",
      "/var/folders/7z/7q00pypj1_sf2clps66cxc9r0000gn/T/ipykernel_2964/2765107248.py:32: FutureWarning: Passing literal html to 'read_html' is deprecated and will be removed in a future version. To read from a literal string, wrap it in a 'StringIO' object.\n",
      "  df = pd.read_html(str(table))[0]\n",
      "/var/folders/7z/7q00pypj1_sf2clps66cxc9r0000gn/T/ipykernel_2964/2765107248.py:32: FutureWarning: Passing literal html to 'read_html' is deprecated and will be removed in a future version. To read from a literal string, wrap it in a 'StringIO' object.\n",
      "  df = pd.read_html(str(table))[0]\n",
      "/var/folders/7z/7q00pypj1_sf2clps66cxc9r0000gn/T/ipykernel_2964/2765107248.py:32: FutureWarning: Passing literal html to 'read_html' is deprecated and will be removed in a future version. To read from a literal string, wrap it in a 'StringIO' object.\n",
      "  df = pd.read_html(str(table))[0]\n",
      "/var/folders/7z/7q00pypj1_sf2clps66cxc9r0000gn/T/ipykernel_2964/2765107248.py:32: FutureWarning: Passing literal html to 'read_html' is deprecated and will be removed in a future version. To read from a literal string, wrap it in a 'StringIO' object.\n",
      "  df = pd.read_html(str(table))[0]\n",
      "/var/folders/7z/7q00pypj1_sf2clps66cxc9r0000gn/T/ipykernel_2964/2765107248.py:32: FutureWarning: Passing literal html to 'read_html' is deprecated and will be removed in a future version. To read from a literal string, wrap it in a 'StringIO' object.\n",
      "  df = pd.read_html(str(table))[0]\n",
      "/var/folders/7z/7q00pypj1_sf2clps66cxc9r0000gn/T/ipykernel_2964/2765107248.py:32: FutureWarning: Passing literal html to 'read_html' is deprecated and will be removed in a future version. To read from a literal string, wrap it in a 'StringIO' object.\n",
      "  df = pd.read_html(str(table))[0]\n",
      "/var/folders/7z/7q00pypj1_sf2clps66cxc9r0000gn/T/ipykernel_2964/2765107248.py:32: FutureWarning: Passing literal html to 'read_html' is deprecated and will be removed in a future version. To read from a literal string, wrap it in a 'StringIO' object.\n",
      "  df = pd.read_html(str(table))[0]\n",
      "/var/folders/7z/7q00pypj1_sf2clps66cxc9r0000gn/T/ipykernel_2964/2765107248.py:32: FutureWarning: Passing literal html to 'read_html' is deprecated and will be removed in a future version. To read from a literal string, wrap it in a 'StringIO' object.\n",
      "  df = pd.read_html(str(table))[0]\n",
      "/var/folders/7z/7q00pypj1_sf2clps66cxc9r0000gn/T/ipykernel_2964/2765107248.py:32: FutureWarning: Passing literal html to 'read_html' is deprecated and will be removed in a future version. To read from a literal string, wrap it in a 'StringIO' object.\n",
      "  df = pd.read_html(str(table))[0]\n",
      "/var/folders/7z/7q00pypj1_sf2clps66cxc9r0000gn/T/ipykernel_2964/2765107248.py:32: FutureWarning: Passing literal html to 'read_html' is deprecated and will be removed in a future version. To read from a literal string, wrap it in a 'StringIO' object.\n",
      "  df = pd.read_html(str(table))[0]\n",
      "/var/folders/7z/7q00pypj1_sf2clps66cxc9r0000gn/T/ipykernel_2964/2765107248.py:32: FutureWarning: Passing literal html to 'read_html' is deprecated and will be removed in a future version. To read from a literal string, wrap it in a 'StringIO' object.\n",
      "  df = pd.read_html(str(table))[0]\n",
      "/var/folders/7z/7q00pypj1_sf2clps66cxc9r0000gn/T/ipykernel_2964/2765107248.py:32: FutureWarning: Passing literal html to 'read_html' is deprecated and will be removed in a future version. To read from a literal string, wrap it in a 'StringIO' object.\n",
      "  df = pd.read_html(str(table))[0]\n",
      "/var/folders/7z/7q00pypj1_sf2clps66cxc9r0000gn/T/ipykernel_2964/2765107248.py:32: FutureWarning: Passing literal html to 'read_html' is deprecated and will be removed in a future version. To read from a literal string, wrap it in a 'StringIO' object.\n",
      "  df = pd.read_html(str(table))[0]\n",
      "/var/folders/7z/7q00pypj1_sf2clps66cxc9r0000gn/T/ipykernel_2964/2765107248.py:32: FutureWarning: Passing literal html to 'read_html' is deprecated and will be removed in a future version. To read from a literal string, wrap it in a 'StringIO' object.\n",
      "  df = pd.read_html(str(table))[0]\n",
      "/var/folders/7z/7q00pypj1_sf2clps66cxc9r0000gn/T/ipykernel_2964/2765107248.py:32: FutureWarning: Passing literal html to 'read_html' is deprecated and will be removed in a future version. To read from a literal string, wrap it in a 'StringIO' object.\n",
      "  df = pd.read_html(str(table))[0]\n",
      "/var/folders/7z/7q00pypj1_sf2clps66cxc9r0000gn/T/ipykernel_2964/2765107248.py:32: FutureWarning: Passing literal html to 'read_html' is deprecated and will be removed in a future version. To read from a literal string, wrap it in a 'StringIO' object.\n",
      "  df = pd.read_html(str(table))[0]\n",
      "/var/folders/7z/7q00pypj1_sf2clps66cxc9r0000gn/T/ipykernel_2964/2765107248.py:32: FutureWarning: Passing literal html to 'read_html' is deprecated and will be removed in a future version. To read from a literal string, wrap it in a 'StringIO' object.\n",
      "  df = pd.read_html(str(table))[0]\n",
      "/var/folders/7z/7q00pypj1_sf2clps66cxc9r0000gn/T/ipykernel_2964/2765107248.py:32: FutureWarning: Passing literal html to 'read_html' is deprecated and will be removed in a future version. To read from a literal string, wrap it in a 'StringIO' object.\n",
      "  df = pd.read_html(str(table))[0]\n",
      "/var/folders/7z/7q00pypj1_sf2clps66cxc9r0000gn/T/ipykernel_2964/2765107248.py:32: FutureWarning: Passing literal html to 'read_html' is deprecated and will be removed in a future version. To read from a literal string, wrap it in a 'StringIO' object.\n",
      "  df = pd.read_html(str(table))[0]\n",
      "/var/folders/7z/7q00pypj1_sf2clps66cxc9r0000gn/T/ipykernel_2964/2765107248.py:32: FutureWarning: Passing literal html to 'read_html' is deprecated and will be removed in a future version. To read from a literal string, wrap it in a 'StringIO' object.\n",
      "  df = pd.read_html(str(table))[0]\n",
      "/var/folders/7z/7q00pypj1_sf2clps66cxc9r0000gn/T/ipykernel_2964/2765107248.py:32: FutureWarning: Passing literal html to 'read_html' is deprecated and will be removed in a future version. To read from a literal string, wrap it in a 'StringIO' object.\n",
      "  df = pd.read_html(str(table))[0]\n",
      "/var/folders/7z/7q00pypj1_sf2clps66cxc9r0000gn/T/ipykernel_2964/2765107248.py:32: FutureWarning: Passing literal html to 'read_html' is deprecated and will be removed in a future version. To read from a literal string, wrap it in a 'StringIO' object.\n",
      "  df = pd.read_html(str(table))[0]\n",
      "/var/folders/7z/7q00pypj1_sf2clps66cxc9r0000gn/T/ipykernel_2964/2765107248.py:32: FutureWarning: Passing literal html to 'read_html' is deprecated and will be removed in a future version. To read from a literal string, wrap it in a 'StringIO' object.\n",
      "  df = pd.read_html(str(table))[0]\n",
      "/var/folders/7z/7q00pypj1_sf2clps66cxc9r0000gn/T/ipykernel_2964/2765107248.py:32: FutureWarning: Passing literal html to 'read_html' is deprecated and will be removed in a future version. To read from a literal string, wrap it in a 'StringIO' object.\n",
      "  df = pd.read_html(str(table))[0]\n",
      "/var/folders/7z/7q00pypj1_sf2clps66cxc9r0000gn/T/ipykernel_2964/2765107248.py:32: FutureWarning: Passing literal html to 'read_html' is deprecated and will be removed in a future version. To read from a literal string, wrap it in a 'StringIO' object.\n",
      "  df = pd.read_html(str(table))[0]\n",
      "/var/folders/7z/7q00pypj1_sf2clps66cxc9r0000gn/T/ipykernel_2964/2765107248.py:32: FutureWarning: Passing literal html to 'read_html' is deprecated and will be removed in a future version. To read from a literal string, wrap it in a 'StringIO' object.\n",
      "  df = pd.read_html(str(table))[0]\n",
      "/var/folders/7z/7q00pypj1_sf2clps66cxc9r0000gn/T/ipykernel_2964/2765107248.py:32: FutureWarning: Passing literal html to 'read_html' is deprecated and will be removed in a future version. To read from a literal string, wrap it in a 'StringIO' object.\n",
      "  df = pd.read_html(str(table))[0]\n",
      "/var/folders/7z/7q00pypj1_sf2clps66cxc9r0000gn/T/ipykernel_2964/2765107248.py:32: FutureWarning: Passing literal html to 'read_html' is deprecated and will be removed in a future version. To read from a literal string, wrap it in a 'StringIO' object.\n",
      "  df = pd.read_html(str(table))[0]\n",
      "/var/folders/7z/7q00pypj1_sf2clps66cxc9r0000gn/T/ipykernel_2964/2765107248.py:32: FutureWarning: Passing literal html to 'read_html' is deprecated and will be removed in a future version. To read from a literal string, wrap it in a 'StringIO' object.\n",
      "  df = pd.read_html(str(table))[0]\n",
      "/var/folders/7z/7q00pypj1_sf2clps66cxc9r0000gn/T/ipykernel_2964/2765107248.py:32: FutureWarning: Passing literal html to 'read_html' is deprecated and will be removed in a future version. To read from a literal string, wrap it in a 'StringIO' object.\n",
      "  df = pd.read_html(str(table))[0]\n",
      "/var/folders/7z/7q00pypj1_sf2clps66cxc9r0000gn/T/ipykernel_2964/2765107248.py:32: FutureWarning: Passing literal html to 'read_html' is deprecated and will be removed in a future version. To read from a literal string, wrap it in a 'StringIO' object.\n",
      "  df = pd.read_html(str(table))[0]\n",
      "/var/folders/7z/7q00pypj1_sf2clps66cxc9r0000gn/T/ipykernel_2964/2765107248.py:32: FutureWarning: Passing literal html to 'read_html' is deprecated and will be removed in a future version. To read from a literal string, wrap it in a 'StringIO' object.\n",
      "  df = pd.read_html(str(table))[0]\n",
      "/var/folders/7z/7q00pypj1_sf2clps66cxc9r0000gn/T/ipykernel_2964/2765107248.py:32: FutureWarning: Passing literal html to 'read_html' is deprecated and will be removed in a future version. To read from a literal string, wrap it in a 'StringIO' object.\n",
      "  df = pd.read_html(str(table))[0]\n",
      "/var/folders/7z/7q00pypj1_sf2clps66cxc9r0000gn/T/ipykernel_2964/2765107248.py:32: FutureWarning: Passing literal html to 'read_html' is deprecated and will be removed in a future version. To read from a literal string, wrap it in a 'StringIO' object.\n",
      "  df = pd.read_html(str(table))[0]\n",
      "/var/folders/7z/7q00pypj1_sf2clps66cxc9r0000gn/T/ipykernel_2964/2765107248.py:32: FutureWarning: Passing literal html to 'read_html' is deprecated and will be removed in a future version. To read from a literal string, wrap it in a 'StringIO' object.\n",
      "  df = pd.read_html(str(table))[0]\n",
      "/var/folders/7z/7q00pypj1_sf2clps66cxc9r0000gn/T/ipykernel_2964/2765107248.py:32: FutureWarning: Passing literal html to 'read_html' is deprecated and will be removed in a future version. To read from a literal string, wrap it in a 'StringIO' object.\n",
      "  df = pd.read_html(str(table))[0]\n",
      "/var/folders/7z/7q00pypj1_sf2clps66cxc9r0000gn/T/ipykernel_2964/2765107248.py:32: FutureWarning: Passing literal html to 'read_html' is deprecated and will be removed in a future version. To read from a literal string, wrap it in a 'StringIO' object.\n",
      "  df = pd.read_html(str(table))[0]\n",
      "/var/folders/7z/7q00pypj1_sf2clps66cxc9r0000gn/T/ipykernel_2964/2765107248.py:32: FutureWarning: Passing literal html to 'read_html' is deprecated and will be removed in a future version. To read from a literal string, wrap it in a 'StringIO' object.\n",
      "  df = pd.read_html(str(table))[0]\n",
      "/var/folders/7z/7q00pypj1_sf2clps66cxc9r0000gn/T/ipykernel_2964/2765107248.py:32: FutureWarning: Passing literal html to 'read_html' is deprecated and will be removed in a future version. To read from a literal string, wrap it in a 'StringIO' object.\n",
      "  df = pd.read_html(str(table))[0]\n",
      "/var/folders/7z/7q00pypj1_sf2clps66cxc9r0000gn/T/ipykernel_2964/2765107248.py:32: FutureWarning: Passing literal html to 'read_html' is deprecated and will be removed in a future version. To read from a literal string, wrap it in a 'StringIO' object.\n",
      "  df = pd.read_html(str(table))[0]\n",
      "/var/folders/7z/7q00pypj1_sf2clps66cxc9r0000gn/T/ipykernel_2964/2765107248.py:32: FutureWarning: Passing literal html to 'read_html' is deprecated and will be removed in a future version. To read from a literal string, wrap it in a 'StringIO' object.\n",
      "  df = pd.read_html(str(table))[0]\n",
      "/var/folders/7z/7q00pypj1_sf2clps66cxc9r0000gn/T/ipykernel_2964/2765107248.py:32: FutureWarning: Passing literal html to 'read_html' is deprecated and will be removed in a future version. To read from a literal string, wrap it in a 'StringIO' object.\n",
      "  df = pd.read_html(str(table))[0]\n",
      "/var/folders/7z/7q00pypj1_sf2clps66cxc9r0000gn/T/ipykernel_2964/2765107248.py:32: FutureWarning: Passing literal html to 'read_html' is deprecated and will be removed in a future version. To read from a literal string, wrap it in a 'StringIO' object.\n",
      "  df = pd.read_html(str(table))[0]\n",
      "/var/folders/7z/7q00pypj1_sf2clps66cxc9r0000gn/T/ipykernel_2964/2765107248.py:32: FutureWarning: Passing literal html to 'read_html' is deprecated and will be removed in a future version. To read from a literal string, wrap it in a 'StringIO' object.\n",
      "  df = pd.read_html(str(table))[0]\n",
      "/var/folders/7z/7q00pypj1_sf2clps66cxc9r0000gn/T/ipykernel_2964/2765107248.py:32: FutureWarning: Passing literal html to 'read_html' is deprecated and will be removed in a future version. To read from a literal string, wrap it in a 'StringIO' object.\n",
      "  df = pd.read_html(str(table))[0]\n",
      "/var/folders/7z/7q00pypj1_sf2clps66cxc9r0000gn/T/ipykernel_2964/2765107248.py:32: FutureWarning: Passing literal html to 'read_html' is deprecated and will be removed in a future version. To read from a literal string, wrap it in a 'StringIO' object.\n",
      "  df = pd.read_html(str(table))[0]\n",
      "/var/folders/7z/7q00pypj1_sf2clps66cxc9r0000gn/T/ipykernel_2964/2765107248.py:32: FutureWarning: Passing literal html to 'read_html' is deprecated and will be removed in a future version. To read from a literal string, wrap it in a 'StringIO' object.\n",
      "  df = pd.read_html(str(table))[0]\n",
      "/var/folders/7z/7q00pypj1_sf2clps66cxc9r0000gn/T/ipykernel_2964/2765107248.py:32: FutureWarning: Passing literal html to 'read_html' is deprecated and will be removed in a future version. To read from a literal string, wrap it in a 'StringIO' object.\n",
      "  df = pd.read_html(str(table))[0]\n",
      "/var/folders/7z/7q00pypj1_sf2clps66cxc9r0000gn/T/ipykernel_2964/2765107248.py:32: FutureWarning: Passing literal html to 'read_html' is deprecated and will be removed in a future version. To read from a literal string, wrap it in a 'StringIO' object.\n",
      "  df = pd.read_html(str(table))[0]\n",
      "/var/folders/7z/7q00pypj1_sf2clps66cxc9r0000gn/T/ipykernel_2964/2765107248.py:32: FutureWarning: Passing literal html to 'read_html' is deprecated and will be removed in a future version. To read from a literal string, wrap it in a 'StringIO' object.\n",
      "  df = pd.read_html(str(table))[0]\n",
      "/var/folders/7z/7q00pypj1_sf2clps66cxc9r0000gn/T/ipykernel_2964/2765107248.py:32: FutureWarning: Passing literal html to 'read_html' is deprecated and will be removed in a future version. To read from a literal string, wrap it in a 'StringIO' object.\n",
      "  df = pd.read_html(str(table))[0]\n",
      "/var/folders/7z/7q00pypj1_sf2clps66cxc9r0000gn/T/ipykernel_2964/2765107248.py:32: FutureWarning: Passing literal html to 'read_html' is deprecated and will be removed in a future version. To read from a literal string, wrap it in a 'StringIO' object.\n",
      "  df = pd.read_html(str(table))[0]\n",
      "/var/folders/7z/7q00pypj1_sf2clps66cxc9r0000gn/T/ipykernel_2964/2765107248.py:32: FutureWarning: Passing literal html to 'read_html' is deprecated and will be removed in a future version. To read from a literal string, wrap it in a 'StringIO' object.\n",
      "  df = pd.read_html(str(table))[0]\n",
      "/var/folders/7z/7q00pypj1_sf2clps66cxc9r0000gn/T/ipykernel_2964/2765107248.py:32: FutureWarning: Passing literal html to 'read_html' is deprecated and will be removed in a future version. To read from a literal string, wrap it in a 'StringIO' object.\n",
      "  df = pd.read_html(str(table))[0]\n",
      "/var/folders/7z/7q00pypj1_sf2clps66cxc9r0000gn/T/ipykernel_2964/2765107248.py:32: FutureWarning: Passing literal html to 'read_html' is deprecated and will be removed in a future version. To read from a literal string, wrap it in a 'StringIO' object.\n",
      "  df = pd.read_html(str(table))[0]\n",
      "/var/folders/7z/7q00pypj1_sf2clps66cxc9r0000gn/T/ipykernel_2964/2765107248.py:32: FutureWarning: Passing literal html to 'read_html' is deprecated and will be removed in a future version. To read from a literal string, wrap it in a 'StringIO' object.\n",
      "  df = pd.read_html(str(table))[0]\n",
      "/var/folders/7z/7q00pypj1_sf2clps66cxc9r0000gn/T/ipykernel_2964/2765107248.py:32: FutureWarning: Passing literal html to 'read_html' is deprecated and will be removed in a future version. To read from a literal string, wrap it in a 'StringIO' object.\n",
      "  df = pd.read_html(str(table))[0]\n",
      "/var/folders/7z/7q00pypj1_sf2clps66cxc9r0000gn/T/ipykernel_2964/2765107248.py:32: FutureWarning: Passing literal html to 'read_html' is deprecated and will be removed in a future version. To read from a literal string, wrap it in a 'StringIO' object.\n",
      "  df = pd.read_html(str(table))[0]\n",
      "/var/folders/7z/7q00pypj1_sf2clps66cxc9r0000gn/T/ipykernel_2964/2765107248.py:32: FutureWarning: Passing literal html to 'read_html' is deprecated and will be removed in a future version. To read from a literal string, wrap it in a 'StringIO' object.\n",
      "  df = pd.read_html(str(table))[0]\n",
      "/var/folders/7z/7q00pypj1_sf2clps66cxc9r0000gn/T/ipykernel_2964/2765107248.py:32: FutureWarning: Passing literal html to 'read_html' is deprecated and will be removed in a future version. To read from a literal string, wrap it in a 'StringIO' object.\n",
      "  df = pd.read_html(str(table))[0]\n",
      "/var/folders/7z/7q00pypj1_sf2clps66cxc9r0000gn/T/ipykernel_2964/2765107248.py:32: FutureWarning: Passing literal html to 'read_html' is deprecated and will be removed in a future version. To read from a literal string, wrap it in a 'StringIO' object.\n",
      "  df = pd.read_html(str(table))[0]\n",
      "/var/folders/7z/7q00pypj1_sf2clps66cxc9r0000gn/T/ipykernel_2964/2765107248.py:32: FutureWarning: Passing literal html to 'read_html' is deprecated and will be removed in a future version. To read from a literal string, wrap it in a 'StringIO' object.\n",
      "  df = pd.read_html(str(table))[0]\n",
      "/var/folders/7z/7q00pypj1_sf2clps66cxc9r0000gn/T/ipykernel_2964/2765107248.py:32: FutureWarning: Passing literal html to 'read_html' is deprecated and will be removed in a future version. To read from a literal string, wrap it in a 'StringIO' object.\n",
      "  df = pd.read_html(str(table))[0]\n",
      "/var/folders/7z/7q00pypj1_sf2clps66cxc9r0000gn/T/ipykernel_2964/2765107248.py:32: FutureWarning: Passing literal html to 'read_html' is deprecated and will be removed in a future version. To read from a literal string, wrap it in a 'StringIO' object.\n",
      "  df = pd.read_html(str(table))[0]\n",
      "/var/folders/7z/7q00pypj1_sf2clps66cxc9r0000gn/T/ipykernel_2964/2765107248.py:32: FutureWarning: Passing literal html to 'read_html' is deprecated and will be removed in a future version. To read from a literal string, wrap it in a 'StringIO' object.\n",
      "  df = pd.read_html(str(table))[0]\n",
      "/var/folders/7z/7q00pypj1_sf2clps66cxc9r0000gn/T/ipykernel_2964/2765107248.py:32: FutureWarning: Passing literal html to 'read_html' is deprecated and will be removed in a future version. To read from a literal string, wrap it in a 'StringIO' object.\n",
      "  df = pd.read_html(str(table))[0]\n",
      "/var/folders/7z/7q00pypj1_sf2clps66cxc9r0000gn/T/ipykernel_2964/2765107248.py:32: FutureWarning: Passing literal html to 'read_html' is deprecated and will be removed in a future version. To read from a literal string, wrap it in a 'StringIO' object.\n",
      "  df = pd.read_html(str(table))[0]\n",
      "/var/folders/7z/7q00pypj1_sf2clps66cxc9r0000gn/T/ipykernel_2964/2765107248.py:32: FutureWarning: Passing literal html to 'read_html' is deprecated and will be removed in a future version. To read from a literal string, wrap it in a 'StringIO' object.\n",
      "  df = pd.read_html(str(table))[0]\n",
      "/var/folders/7z/7q00pypj1_sf2clps66cxc9r0000gn/T/ipykernel_2964/2765107248.py:32: FutureWarning: Passing literal html to 'read_html' is deprecated and will be removed in a future version. To read from a literal string, wrap it in a 'StringIO' object.\n",
      "  df = pd.read_html(str(table))[0]\n",
      "/var/folders/7z/7q00pypj1_sf2clps66cxc9r0000gn/T/ipykernel_2964/2765107248.py:32: FutureWarning: Passing literal html to 'read_html' is deprecated and will be removed in a future version. To read from a literal string, wrap it in a 'StringIO' object.\n",
      "  df = pd.read_html(str(table))[0]\n",
      "/var/folders/7z/7q00pypj1_sf2clps66cxc9r0000gn/T/ipykernel_2964/2765107248.py:32: FutureWarning: Passing literal html to 'read_html' is deprecated and will be removed in a future version. To read from a literal string, wrap it in a 'StringIO' object.\n",
      "  df = pd.read_html(str(table))[0]\n",
      "/var/folders/7z/7q00pypj1_sf2clps66cxc9r0000gn/T/ipykernel_2964/2765107248.py:32: FutureWarning: Passing literal html to 'read_html' is deprecated and will be removed in a future version. To read from a literal string, wrap it in a 'StringIO' object.\n",
      "  df = pd.read_html(str(table))[0]\n",
      "/var/folders/7z/7q00pypj1_sf2clps66cxc9r0000gn/T/ipykernel_2964/2765107248.py:32: FutureWarning: Passing literal html to 'read_html' is deprecated and will be removed in a future version. To read from a literal string, wrap it in a 'StringIO' object.\n",
      "  df = pd.read_html(str(table))[0]\n",
      "/var/folders/7z/7q00pypj1_sf2clps66cxc9r0000gn/T/ipykernel_2964/2765107248.py:32: FutureWarning: Passing literal html to 'read_html' is deprecated and will be removed in a future version. To read from a literal string, wrap it in a 'StringIO' object.\n",
      "  df = pd.read_html(str(table))[0]\n",
      "/var/folders/7z/7q00pypj1_sf2clps66cxc9r0000gn/T/ipykernel_2964/2765107248.py:32: FutureWarning: Passing literal html to 'read_html' is deprecated and will be removed in a future version. To read from a literal string, wrap it in a 'StringIO' object.\n",
      "  df = pd.read_html(str(table))[0]\n",
      "/var/folders/7z/7q00pypj1_sf2clps66cxc9r0000gn/T/ipykernel_2964/2765107248.py:32: FutureWarning: Passing literal html to 'read_html' is deprecated and will be removed in a future version. To read from a literal string, wrap it in a 'StringIO' object.\n",
      "  df = pd.read_html(str(table))[0]\n",
      "/var/folders/7z/7q00pypj1_sf2clps66cxc9r0000gn/T/ipykernel_2964/2765107248.py:32: FutureWarning: Passing literal html to 'read_html' is deprecated and will be removed in a future version. To read from a literal string, wrap it in a 'StringIO' object.\n",
      "  df = pd.read_html(str(table))[0]\n",
      "/var/folders/7z/7q00pypj1_sf2clps66cxc9r0000gn/T/ipykernel_2964/2765107248.py:32: FutureWarning: Passing literal html to 'read_html' is deprecated and will be removed in a future version. To read from a literal string, wrap it in a 'StringIO' object.\n",
      "  df = pd.read_html(str(table))[0]\n",
      "/var/folders/7z/7q00pypj1_sf2clps66cxc9r0000gn/T/ipykernel_2964/2765107248.py:32: FutureWarning: Passing literal html to 'read_html' is deprecated and will be removed in a future version. To read from a literal string, wrap it in a 'StringIO' object.\n",
      "  df = pd.read_html(str(table))[0]\n",
      "/var/folders/7z/7q00pypj1_sf2clps66cxc9r0000gn/T/ipykernel_2964/2765107248.py:32: FutureWarning: Passing literal html to 'read_html' is deprecated and will be removed in a future version. To read from a literal string, wrap it in a 'StringIO' object.\n",
      "  df = pd.read_html(str(table))[0]\n",
      "/var/folders/7z/7q00pypj1_sf2clps66cxc9r0000gn/T/ipykernel_2964/2765107248.py:32: FutureWarning: Passing literal html to 'read_html' is deprecated and will be removed in a future version. To read from a literal string, wrap it in a 'StringIO' object.\n",
      "  df = pd.read_html(str(table))[0]\n",
      "/var/folders/7z/7q00pypj1_sf2clps66cxc9r0000gn/T/ipykernel_2964/2765107248.py:32: FutureWarning: Passing literal html to 'read_html' is deprecated and will be removed in a future version. To read from a literal string, wrap it in a 'StringIO' object.\n",
      "  df = pd.read_html(str(table))[0]\n",
      "/var/folders/7z/7q00pypj1_sf2clps66cxc9r0000gn/T/ipykernel_2964/2765107248.py:32: FutureWarning: Passing literal html to 'read_html' is deprecated and will be removed in a future version. To read from a literal string, wrap it in a 'StringIO' object.\n",
      "  df = pd.read_html(str(table))[0]\n",
      "/var/folders/7z/7q00pypj1_sf2clps66cxc9r0000gn/T/ipykernel_2964/2765107248.py:32: FutureWarning: Passing literal html to 'read_html' is deprecated and will be removed in a future version. To read from a literal string, wrap it in a 'StringIO' object.\n",
      "  df = pd.read_html(str(table))[0]\n",
      "/var/folders/7z/7q00pypj1_sf2clps66cxc9r0000gn/T/ipykernel_2964/2765107248.py:32: FutureWarning: Passing literal html to 'read_html' is deprecated and will be removed in a future version. To read from a literal string, wrap it in a 'StringIO' object.\n",
      "  df = pd.read_html(str(table))[0]\n",
      "/var/folders/7z/7q00pypj1_sf2clps66cxc9r0000gn/T/ipykernel_2964/2765107248.py:32: FutureWarning: Passing literal html to 'read_html' is deprecated and will be removed in a future version. To read from a literal string, wrap it in a 'StringIO' object.\n",
      "  df = pd.read_html(str(table))[0]\n",
      "/var/folders/7z/7q00pypj1_sf2clps66cxc9r0000gn/T/ipykernel_2964/2765107248.py:32: FutureWarning: Passing literal html to 'read_html' is deprecated and will be removed in a future version. To read from a literal string, wrap it in a 'StringIO' object.\n",
      "  df = pd.read_html(str(table))[0]\n",
      "/var/folders/7z/7q00pypj1_sf2clps66cxc9r0000gn/T/ipykernel_2964/2765107248.py:32: FutureWarning: Passing literal html to 'read_html' is deprecated and will be removed in a future version. To read from a literal string, wrap it in a 'StringIO' object.\n",
      "  df = pd.read_html(str(table))[0]\n",
      "/var/folders/7z/7q00pypj1_sf2clps66cxc9r0000gn/T/ipykernel_2964/2765107248.py:32: FutureWarning: Passing literal html to 'read_html' is deprecated and will be removed in a future version. To read from a literal string, wrap it in a 'StringIO' object.\n",
      "  df = pd.read_html(str(table))[0]\n",
      "/var/folders/7z/7q00pypj1_sf2clps66cxc9r0000gn/T/ipykernel_2964/2765107248.py:32: FutureWarning: Passing literal html to 'read_html' is deprecated and will be removed in a future version. To read from a literal string, wrap it in a 'StringIO' object.\n",
      "  df = pd.read_html(str(table))[0]\n",
      "/var/folders/7z/7q00pypj1_sf2clps66cxc9r0000gn/T/ipykernel_2964/2765107248.py:32: FutureWarning: Passing literal html to 'read_html' is deprecated and will be removed in a future version. To read from a literal string, wrap it in a 'StringIO' object.\n",
      "  df = pd.read_html(str(table))[0]\n",
      "/var/folders/7z/7q00pypj1_sf2clps66cxc9r0000gn/T/ipykernel_2964/2765107248.py:32: FutureWarning: Passing literal html to 'read_html' is deprecated and will be removed in a future version. To read from a literal string, wrap it in a 'StringIO' object.\n",
      "  df = pd.read_html(str(table))[0]\n",
      "/var/folders/7z/7q00pypj1_sf2clps66cxc9r0000gn/T/ipykernel_2964/2765107248.py:32: FutureWarning: Passing literal html to 'read_html' is deprecated and will be removed in a future version. To read from a literal string, wrap it in a 'StringIO' object.\n",
      "  df = pd.read_html(str(table))[0]\n",
      "/var/folders/7z/7q00pypj1_sf2clps66cxc9r0000gn/T/ipykernel_2964/2765107248.py:32: FutureWarning: Passing literal html to 'read_html' is deprecated and will be removed in a future version. To read from a literal string, wrap it in a 'StringIO' object.\n",
      "  df = pd.read_html(str(table))[0]\n",
      "/var/folders/7z/7q00pypj1_sf2clps66cxc9r0000gn/T/ipykernel_2964/2765107248.py:32: FutureWarning: Passing literal html to 'read_html' is deprecated and will be removed in a future version. To read from a literal string, wrap it in a 'StringIO' object.\n",
      "  df = pd.read_html(str(table))[0]\n",
      "/var/folders/7z/7q00pypj1_sf2clps66cxc9r0000gn/T/ipykernel_2964/2765107248.py:32: FutureWarning: Passing literal html to 'read_html' is deprecated and will be removed in a future version. To read from a literal string, wrap it in a 'StringIO' object.\n",
      "  df = pd.read_html(str(table))[0]\n",
      "/var/folders/7z/7q00pypj1_sf2clps66cxc9r0000gn/T/ipykernel_2964/2765107248.py:32: FutureWarning: Passing literal html to 'read_html' is deprecated and will be removed in a future version. To read from a literal string, wrap it in a 'StringIO' object.\n",
      "  df = pd.read_html(str(table))[0]\n",
      "/var/folders/7z/7q00pypj1_sf2clps66cxc9r0000gn/T/ipykernel_2964/2765107248.py:32: FutureWarning: Passing literal html to 'read_html' is deprecated and will be removed in a future version. To read from a literal string, wrap it in a 'StringIO' object.\n",
      "  df = pd.read_html(str(table))[0]\n",
      "/var/folders/7z/7q00pypj1_sf2clps66cxc9r0000gn/T/ipykernel_2964/2765107248.py:32: FutureWarning: Passing literal html to 'read_html' is deprecated and will be removed in a future version. To read from a literal string, wrap it in a 'StringIO' object.\n",
      "  df = pd.read_html(str(table))[0]\n",
      "/var/folders/7z/7q00pypj1_sf2clps66cxc9r0000gn/T/ipykernel_2964/2765107248.py:32: FutureWarning: Passing literal html to 'read_html' is deprecated and will be removed in a future version. To read from a literal string, wrap it in a 'StringIO' object.\n",
      "  df = pd.read_html(str(table))[0]\n",
      "/var/folders/7z/7q00pypj1_sf2clps66cxc9r0000gn/T/ipykernel_2964/2765107248.py:32: FutureWarning: Passing literal html to 'read_html' is deprecated and will be removed in a future version. To read from a literal string, wrap it in a 'StringIO' object.\n",
      "  df = pd.read_html(str(table))[0]\n",
      "/var/folders/7z/7q00pypj1_sf2clps66cxc9r0000gn/T/ipykernel_2964/2765107248.py:32: FutureWarning: Passing literal html to 'read_html' is deprecated and will be removed in a future version. To read from a literal string, wrap it in a 'StringIO' object.\n",
      "  df = pd.read_html(str(table))[0]\n",
      "/var/folders/7z/7q00pypj1_sf2clps66cxc9r0000gn/T/ipykernel_2964/2765107248.py:32: FutureWarning: Passing literal html to 'read_html' is deprecated and will be removed in a future version. To read from a literal string, wrap it in a 'StringIO' object.\n",
      "  df = pd.read_html(str(table))[0]\n",
      "/var/folders/7z/7q00pypj1_sf2clps66cxc9r0000gn/T/ipykernel_2964/2765107248.py:32: FutureWarning: Passing literal html to 'read_html' is deprecated and will be removed in a future version. To read from a literal string, wrap it in a 'StringIO' object.\n",
      "  df = pd.read_html(str(table))[0]\n",
      "/var/folders/7z/7q00pypj1_sf2clps66cxc9r0000gn/T/ipykernel_2964/2765107248.py:32: FutureWarning: Passing literal html to 'read_html' is deprecated and will be removed in a future version. To read from a literal string, wrap it in a 'StringIO' object.\n",
      "  df = pd.read_html(str(table))[0]\n",
      "/var/folders/7z/7q00pypj1_sf2clps66cxc9r0000gn/T/ipykernel_2964/2765107248.py:32: FutureWarning: Passing literal html to 'read_html' is deprecated and will be removed in a future version. To read from a literal string, wrap it in a 'StringIO' object.\n",
      "  df = pd.read_html(str(table))[0]\n",
      "/var/folders/7z/7q00pypj1_sf2clps66cxc9r0000gn/T/ipykernel_2964/2765107248.py:32: FutureWarning: Passing literal html to 'read_html' is deprecated and will be removed in a future version. To read from a literal string, wrap it in a 'StringIO' object.\n",
      "  df = pd.read_html(str(table))[0]\n",
      "/var/folders/7z/7q00pypj1_sf2clps66cxc9r0000gn/T/ipykernel_2964/2765107248.py:32: FutureWarning: Passing literal html to 'read_html' is deprecated and will be removed in a future version. To read from a literal string, wrap it in a 'StringIO' object.\n",
      "  df = pd.read_html(str(table))[0]\n",
      "/var/folders/7z/7q00pypj1_sf2clps66cxc9r0000gn/T/ipykernel_2964/2765107248.py:32: FutureWarning: Passing literal html to 'read_html' is deprecated and will be removed in a future version. To read from a literal string, wrap it in a 'StringIO' object.\n",
      "  df = pd.read_html(str(table))[0]\n",
      "/var/folders/7z/7q00pypj1_sf2clps66cxc9r0000gn/T/ipykernel_2964/2765107248.py:32: FutureWarning: Passing literal html to 'read_html' is deprecated and will be removed in a future version. To read from a literal string, wrap it in a 'StringIO' object.\n",
      "  df = pd.read_html(str(table))[0]\n",
      "/var/folders/7z/7q00pypj1_sf2clps66cxc9r0000gn/T/ipykernel_2964/2765107248.py:32: FutureWarning: Passing literal html to 'read_html' is deprecated and will be removed in a future version. To read from a literal string, wrap it in a 'StringIO' object.\n",
      "  df = pd.read_html(str(table))[0]\n",
      "/var/folders/7z/7q00pypj1_sf2clps66cxc9r0000gn/T/ipykernel_2964/2765107248.py:32: FutureWarning: Passing literal html to 'read_html' is deprecated and will be removed in a future version. To read from a literal string, wrap it in a 'StringIO' object.\n",
      "  df = pd.read_html(str(table))[0]\n",
      "/var/folders/7z/7q00pypj1_sf2clps66cxc9r0000gn/T/ipykernel_2964/2765107248.py:32: FutureWarning: Passing literal html to 'read_html' is deprecated and will be removed in a future version. To read from a literal string, wrap it in a 'StringIO' object.\n",
      "  df = pd.read_html(str(table))[0]\n",
      "/var/folders/7z/7q00pypj1_sf2clps66cxc9r0000gn/T/ipykernel_2964/2765107248.py:32: FutureWarning: Passing literal html to 'read_html' is deprecated and will be removed in a future version. To read from a literal string, wrap it in a 'StringIO' object.\n",
      "  df = pd.read_html(str(table))[0]\n",
      "/var/folders/7z/7q00pypj1_sf2clps66cxc9r0000gn/T/ipykernel_2964/2765107248.py:32: FutureWarning: Passing literal html to 'read_html' is deprecated and will be removed in a future version. To read from a literal string, wrap it in a 'StringIO' object.\n",
      "  df = pd.read_html(str(table))[0]\n",
      "/var/folders/7z/7q00pypj1_sf2clps66cxc9r0000gn/T/ipykernel_2964/2765107248.py:32: FutureWarning: Passing literal html to 'read_html' is deprecated and will be removed in a future version. To read from a literal string, wrap it in a 'StringIO' object.\n",
      "  df = pd.read_html(str(table))[0]\n",
      "/var/folders/7z/7q00pypj1_sf2clps66cxc9r0000gn/T/ipykernel_2964/2765107248.py:32: FutureWarning: Passing literal html to 'read_html' is deprecated and will be removed in a future version. To read from a literal string, wrap it in a 'StringIO' object.\n",
      "  df = pd.read_html(str(table))[0]\n",
      "/var/folders/7z/7q00pypj1_sf2clps66cxc9r0000gn/T/ipykernel_2964/2765107248.py:32: FutureWarning: Passing literal html to 'read_html' is deprecated and will be removed in a future version. To read from a literal string, wrap it in a 'StringIO' object.\n",
      "  df = pd.read_html(str(table))[0]\n",
      "/var/folders/7z/7q00pypj1_sf2clps66cxc9r0000gn/T/ipykernel_2964/2765107248.py:32: FutureWarning: Passing literal html to 'read_html' is deprecated and will be removed in a future version. To read from a literal string, wrap it in a 'StringIO' object.\n",
      "  df = pd.read_html(str(table))[0]\n",
      "/var/folders/7z/7q00pypj1_sf2clps66cxc9r0000gn/T/ipykernel_2964/2765107248.py:32: FutureWarning: Passing literal html to 'read_html' is deprecated and will be removed in a future version. To read from a literal string, wrap it in a 'StringIO' object.\n",
      "  df = pd.read_html(str(table))[0]\n",
      "/var/folders/7z/7q00pypj1_sf2clps66cxc9r0000gn/T/ipykernel_2964/2765107248.py:32: FutureWarning: Passing literal html to 'read_html' is deprecated and will be removed in a future version. To read from a literal string, wrap it in a 'StringIO' object.\n",
      "  df = pd.read_html(str(table))[0]\n",
      "/var/folders/7z/7q00pypj1_sf2clps66cxc9r0000gn/T/ipykernel_2964/2765107248.py:32: FutureWarning: Passing literal html to 'read_html' is deprecated and will be removed in a future version. To read from a literal string, wrap it in a 'StringIO' object.\n",
      "  df = pd.read_html(str(table))[0]\n",
      "/var/folders/7z/7q00pypj1_sf2clps66cxc9r0000gn/T/ipykernel_2964/2765107248.py:32: FutureWarning: Passing literal html to 'read_html' is deprecated and will be removed in a future version. To read from a literal string, wrap it in a 'StringIO' object.\n",
      "  df = pd.read_html(str(table))[0]\n",
      "/var/folders/7z/7q00pypj1_sf2clps66cxc9r0000gn/T/ipykernel_2964/2765107248.py:32: FutureWarning: Passing literal html to 'read_html' is deprecated and will be removed in a future version. To read from a literal string, wrap it in a 'StringIO' object.\n",
      "  df = pd.read_html(str(table))[0]\n",
      "/var/folders/7z/7q00pypj1_sf2clps66cxc9r0000gn/T/ipykernel_2964/2765107248.py:32: FutureWarning: Passing literal html to 'read_html' is deprecated and will be removed in a future version. To read from a literal string, wrap it in a 'StringIO' object.\n",
      "  df = pd.read_html(str(table))[0]\n",
      "/var/folders/7z/7q00pypj1_sf2clps66cxc9r0000gn/T/ipykernel_2964/2765107248.py:32: FutureWarning: Passing literal html to 'read_html' is deprecated and will be removed in a future version. To read from a literal string, wrap it in a 'StringIO' object.\n",
      "  df = pd.read_html(str(table))[0]\n",
      "/var/folders/7z/7q00pypj1_sf2clps66cxc9r0000gn/T/ipykernel_2964/2765107248.py:32: FutureWarning: Passing literal html to 'read_html' is deprecated and will be removed in a future version. To read from a literal string, wrap it in a 'StringIO' object.\n",
      "  df = pd.read_html(str(table))[0]\n",
      "/var/folders/7z/7q00pypj1_sf2clps66cxc9r0000gn/T/ipykernel_2964/2765107248.py:32: FutureWarning: Passing literal html to 'read_html' is deprecated and will be removed in a future version. To read from a literal string, wrap it in a 'StringIO' object.\n",
      "  df = pd.read_html(str(table))[0]\n",
      "/var/folders/7z/7q00pypj1_sf2clps66cxc9r0000gn/T/ipykernel_2964/2765107248.py:32: FutureWarning: Passing literal html to 'read_html' is deprecated and will be removed in a future version. To read from a literal string, wrap it in a 'StringIO' object.\n",
      "  df = pd.read_html(str(table))[0]\n",
      "/var/folders/7z/7q00pypj1_sf2clps66cxc9r0000gn/T/ipykernel_2964/2765107248.py:32: FutureWarning: Passing literal html to 'read_html' is deprecated and will be removed in a future version. To read from a literal string, wrap it in a 'StringIO' object.\n",
      "  df = pd.read_html(str(table))[0]\n",
      "/var/folders/7z/7q00pypj1_sf2clps66cxc9r0000gn/T/ipykernel_2964/2765107248.py:32: FutureWarning: Passing literal html to 'read_html' is deprecated and will be removed in a future version. To read from a literal string, wrap it in a 'StringIO' object.\n",
      "  df = pd.read_html(str(table))[0]\n",
      "/var/folders/7z/7q00pypj1_sf2clps66cxc9r0000gn/T/ipykernel_2964/2765107248.py:32: FutureWarning: Passing literal html to 'read_html' is deprecated and will be removed in a future version. To read from a literal string, wrap it in a 'StringIO' object.\n",
      "  df = pd.read_html(str(table))[0]\n",
      "/var/folders/7z/7q00pypj1_sf2clps66cxc9r0000gn/T/ipykernel_2964/2765107248.py:32: FutureWarning: Passing literal html to 'read_html' is deprecated and will be removed in a future version. To read from a literal string, wrap it in a 'StringIO' object.\n",
      "  df = pd.read_html(str(table))[0]\n",
      "/var/folders/7z/7q00pypj1_sf2clps66cxc9r0000gn/T/ipykernel_2964/2765107248.py:32: FutureWarning: Passing literal html to 'read_html' is deprecated and will be removed in a future version. To read from a literal string, wrap it in a 'StringIO' object.\n",
      "  df = pd.read_html(str(table))[0]\n",
      "/var/folders/7z/7q00pypj1_sf2clps66cxc9r0000gn/T/ipykernel_2964/2765107248.py:32: FutureWarning: Passing literal html to 'read_html' is deprecated and will be removed in a future version. To read from a literal string, wrap it in a 'StringIO' object.\n",
      "  df = pd.read_html(str(table))[0]\n",
      "/var/folders/7z/7q00pypj1_sf2clps66cxc9r0000gn/T/ipykernel_2964/2765107248.py:32: FutureWarning: Passing literal html to 'read_html' is deprecated and will be removed in a future version. To read from a literal string, wrap it in a 'StringIO' object.\n",
      "  df = pd.read_html(str(table))[0]\n",
      "/var/folders/7z/7q00pypj1_sf2clps66cxc9r0000gn/T/ipykernel_2964/2765107248.py:32: FutureWarning: Passing literal html to 'read_html' is deprecated and will be removed in a future version. To read from a literal string, wrap it in a 'StringIO' object.\n",
      "  df = pd.read_html(str(table))[0]\n",
      "/var/folders/7z/7q00pypj1_sf2clps66cxc9r0000gn/T/ipykernel_2964/2765107248.py:32: FutureWarning: Passing literal html to 'read_html' is deprecated and will be removed in a future version. To read from a literal string, wrap it in a 'StringIO' object.\n",
      "  df = pd.read_html(str(table))[0]\n",
      "/var/folders/7z/7q00pypj1_sf2clps66cxc9r0000gn/T/ipykernel_2964/2765107248.py:32: FutureWarning: Passing literal html to 'read_html' is deprecated and will be removed in a future version. To read from a literal string, wrap it in a 'StringIO' object.\n",
      "  df = pd.read_html(str(table))[0]\n",
      "/var/folders/7z/7q00pypj1_sf2clps66cxc9r0000gn/T/ipykernel_2964/2765107248.py:32: FutureWarning: Passing literal html to 'read_html' is deprecated and will be removed in a future version. To read from a literal string, wrap it in a 'StringIO' object.\n",
      "  df = pd.read_html(str(table))[0]\n",
      "/var/folders/7z/7q00pypj1_sf2clps66cxc9r0000gn/T/ipykernel_2964/2765107248.py:32: FutureWarning: Passing literal html to 'read_html' is deprecated and will be removed in a future version. To read from a literal string, wrap it in a 'StringIO' object.\n",
      "  df = pd.read_html(str(table))[0]\n",
      "/var/folders/7z/7q00pypj1_sf2clps66cxc9r0000gn/T/ipykernel_2964/2765107248.py:32: FutureWarning: Passing literal html to 'read_html' is deprecated and will be removed in a future version. To read from a literal string, wrap it in a 'StringIO' object.\n",
      "  df = pd.read_html(str(table))[0]\n",
      "/var/folders/7z/7q00pypj1_sf2clps66cxc9r0000gn/T/ipykernel_2964/2765107248.py:32: FutureWarning: Passing literal html to 'read_html' is deprecated and will be removed in a future version. To read from a literal string, wrap it in a 'StringIO' object.\n",
      "  df = pd.read_html(str(table))[0]\n",
      "/var/folders/7z/7q00pypj1_sf2clps66cxc9r0000gn/T/ipykernel_2964/2765107248.py:32: FutureWarning: Passing literal html to 'read_html' is deprecated and will be removed in a future version. To read from a literal string, wrap it in a 'StringIO' object.\n",
      "  df = pd.read_html(str(table))[0]\n",
      "/var/folders/7z/7q00pypj1_sf2clps66cxc9r0000gn/T/ipykernel_2964/2765107248.py:32: FutureWarning: Passing literal html to 'read_html' is deprecated and will be removed in a future version. To read from a literal string, wrap it in a 'StringIO' object.\n",
      "  df = pd.read_html(str(table))[0]\n",
      "/var/folders/7z/7q00pypj1_sf2clps66cxc9r0000gn/T/ipykernel_2964/2765107248.py:32: FutureWarning: Passing literal html to 'read_html' is deprecated and will be removed in a future version. To read from a literal string, wrap it in a 'StringIO' object.\n",
      "  df = pd.read_html(str(table))[0]\n",
      "/var/folders/7z/7q00pypj1_sf2clps66cxc9r0000gn/T/ipykernel_2964/2765107248.py:32: FutureWarning: Passing literal html to 'read_html' is deprecated and will be removed in a future version. To read from a literal string, wrap it in a 'StringIO' object.\n",
      "  df = pd.read_html(str(table))[0]\n",
      "/var/folders/7z/7q00pypj1_sf2clps66cxc9r0000gn/T/ipykernel_2964/2765107248.py:32: FutureWarning: Passing literal html to 'read_html' is deprecated and will be removed in a future version. To read from a literal string, wrap it in a 'StringIO' object.\n",
      "  df = pd.read_html(str(table))[0]\n",
      "/var/folders/7z/7q00pypj1_sf2clps66cxc9r0000gn/T/ipykernel_2964/2765107248.py:32: FutureWarning: Passing literal html to 'read_html' is deprecated and will be removed in a future version. To read from a literal string, wrap it in a 'StringIO' object.\n",
      "  df = pd.read_html(str(table))[0]\n",
      "/var/folders/7z/7q00pypj1_sf2clps66cxc9r0000gn/T/ipykernel_2964/2765107248.py:32: FutureWarning: Passing literal html to 'read_html' is deprecated and will be removed in a future version. To read from a literal string, wrap it in a 'StringIO' object.\n",
      "  df = pd.read_html(str(table))[0]\n",
      "/var/folders/7z/7q00pypj1_sf2clps66cxc9r0000gn/T/ipykernel_2964/2765107248.py:32: FutureWarning: Passing literal html to 'read_html' is deprecated and will be removed in a future version. To read from a literal string, wrap it in a 'StringIO' object.\n",
      "  df = pd.read_html(str(table))[0]\n",
      "/var/folders/7z/7q00pypj1_sf2clps66cxc9r0000gn/T/ipykernel_2964/2765107248.py:32: FutureWarning: Passing literal html to 'read_html' is deprecated and will be removed in a future version. To read from a literal string, wrap it in a 'StringIO' object.\n",
      "  df = pd.read_html(str(table))[0]\n",
      "/var/folders/7z/7q00pypj1_sf2clps66cxc9r0000gn/T/ipykernel_2964/2765107248.py:32: FutureWarning: Passing literal html to 'read_html' is deprecated and will be removed in a future version. To read from a literal string, wrap it in a 'StringIO' object.\n",
      "  df = pd.read_html(str(table))[0]\n",
      "/var/folders/7z/7q00pypj1_sf2clps66cxc9r0000gn/T/ipykernel_2964/2765107248.py:32: FutureWarning: Passing literal html to 'read_html' is deprecated and will be removed in a future version. To read from a literal string, wrap it in a 'StringIO' object.\n",
      "  df = pd.read_html(str(table))[0]\n",
      "/var/folders/7z/7q00pypj1_sf2clps66cxc9r0000gn/T/ipykernel_2964/2765107248.py:32: FutureWarning: Passing literal html to 'read_html' is deprecated and will be removed in a future version. To read from a literal string, wrap it in a 'StringIO' object.\n",
      "  df = pd.read_html(str(table))[0]\n",
      "/var/folders/7z/7q00pypj1_sf2clps66cxc9r0000gn/T/ipykernel_2964/2765107248.py:32: FutureWarning: Passing literal html to 'read_html' is deprecated and will be removed in a future version. To read from a literal string, wrap it in a 'StringIO' object.\n",
      "  df = pd.read_html(str(table))[0]\n",
      "/var/folders/7z/7q00pypj1_sf2clps66cxc9r0000gn/T/ipykernel_2964/2765107248.py:32: FutureWarning: Passing literal html to 'read_html' is deprecated and will be removed in a future version. To read from a literal string, wrap it in a 'StringIO' object.\n",
      "  df = pd.read_html(str(table))[0]\n",
      "/var/folders/7z/7q00pypj1_sf2clps66cxc9r0000gn/T/ipykernel_2964/2765107248.py:32: FutureWarning: Passing literal html to 'read_html' is deprecated and will be removed in a future version. To read from a literal string, wrap it in a 'StringIO' object.\n",
      "  df = pd.read_html(str(table))[0]\n",
      "/var/folders/7z/7q00pypj1_sf2clps66cxc9r0000gn/T/ipykernel_2964/2765107248.py:32: FutureWarning: Passing literal html to 'read_html' is deprecated and will be removed in a future version. To read from a literal string, wrap it in a 'StringIO' object.\n",
      "  df = pd.read_html(str(table))[0]\n",
      "/var/folders/7z/7q00pypj1_sf2clps66cxc9r0000gn/T/ipykernel_2964/2765107248.py:32: FutureWarning: Passing literal html to 'read_html' is deprecated and will be removed in a future version. To read from a literal string, wrap it in a 'StringIO' object.\n",
      "  df = pd.read_html(str(table))[0]\n",
      "/var/folders/7z/7q00pypj1_sf2clps66cxc9r0000gn/T/ipykernel_2964/2765107248.py:32: FutureWarning: Passing literal html to 'read_html' is deprecated and will be removed in a future version. To read from a literal string, wrap it in a 'StringIO' object.\n",
      "  df = pd.read_html(str(table))[0]\n",
      "/var/folders/7z/7q00pypj1_sf2clps66cxc9r0000gn/T/ipykernel_2964/2765107248.py:32: FutureWarning: Passing literal html to 'read_html' is deprecated and will be removed in a future version. To read from a literal string, wrap it in a 'StringIO' object.\n",
      "  df = pd.read_html(str(table))[0]\n",
      "/var/folders/7z/7q00pypj1_sf2clps66cxc9r0000gn/T/ipykernel_2964/2765107248.py:32: FutureWarning: Passing literal html to 'read_html' is deprecated and will be removed in a future version. To read from a literal string, wrap it in a 'StringIO' object.\n",
      "  df = pd.read_html(str(table))[0]\n",
      "/var/folders/7z/7q00pypj1_sf2clps66cxc9r0000gn/T/ipykernel_2964/2765107248.py:32: FutureWarning: Passing literal html to 'read_html' is deprecated and will be removed in a future version. To read from a literal string, wrap it in a 'StringIO' object.\n",
      "  df = pd.read_html(str(table))[0]\n",
      "/var/folders/7z/7q00pypj1_sf2clps66cxc9r0000gn/T/ipykernel_2964/2765107248.py:32: FutureWarning: Passing literal html to 'read_html' is deprecated and will be removed in a future version. To read from a literal string, wrap it in a 'StringIO' object.\n",
      "  df = pd.read_html(str(table))[0]\n",
      "/var/folders/7z/7q00pypj1_sf2clps66cxc9r0000gn/T/ipykernel_2964/2765107248.py:32: FutureWarning: Passing literal html to 'read_html' is deprecated and will be removed in a future version. To read from a literal string, wrap it in a 'StringIO' object.\n",
      "  df = pd.read_html(str(table))[0]\n",
      "/var/folders/7z/7q00pypj1_sf2clps66cxc9r0000gn/T/ipykernel_2964/2765107248.py:32: FutureWarning: Passing literal html to 'read_html' is deprecated and will be removed in a future version. To read from a literal string, wrap it in a 'StringIO' object.\n",
      "  df = pd.read_html(str(table))[0]\n",
      "/var/folders/7z/7q00pypj1_sf2clps66cxc9r0000gn/T/ipykernel_2964/2765107248.py:32: FutureWarning: Passing literal html to 'read_html' is deprecated and will be removed in a future version. To read from a literal string, wrap it in a 'StringIO' object.\n",
      "  df = pd.read_html(str(table))[0]\n",
      "/var/folders/7z/7q00pypj1_sf2clps66cxc9r0000gn/T/ipykernel_2964/2765107248.py:32: FutureWarning: Passing literal html to 'read_html' is deprecated and will be removed in a future version. To read from a literal string, wrap it in a 'StringIO' object.\n",
      "  df = pd.read_html(str(table))[0]\n",
      "/var/folders/7z/7q00pypj1_sf2clps66cxc9r0000gn/T/ipykernel_2964/2765107248.py:32: FutureWarning: Passing literal html to 'read_html' is deprecated and will be removed in a future version. To read from a literal string, wrap it in a 'StringIO' object.\n",
      "  df = pd.read_html(str(table))[0]\n",
      "/var/folders/7z/7q00pypj1_sf2clps66cxc9r0000gn/T/ipykernel_2964/2765107248.py:32: FutureWarning: Passing literal html to 'read_html' is deprecated and will be removed in a future version. To read from a literal string, wrap it in a 'StringIO' object.\n",
      "  df = pd.read_html(str(table))[0]\n",
      "/var/folders/7z/7q00pypj1_sf2clps66cxc9r0000gn/T/ipykernel_2964/2765107248.py:32: FutureWarning: Passing literal html to 'read_html' is deprecated and will be removed in a future version. To read from a literal string, wrap it in a 'StringIO' object.\n",
      "  df = pd.read_html(str(table))[0]\n",
      "/var/folders/7z/7q00pypj1_sf2clps66cxc9r0000gn/T/ipykernel_2964/2765107248.py:32: FutureWarning: Passing literal html to 'read_html' is deprecated and will be removed in a future version. To read from a literal string, wrap it in a 'StringIO' object.\n",
      "  df = pd.read_html(str(table))[0]\n",
      "/var/folders/7z/7q00pypj1_sf2clps66cxc9r0000gn/T/ipykernel_2964/2765107248.py:32: FutureWarning: Passing literal html to 'read_html' is deprecated and will be removed in a future version. To read from a literal string, wrap it in a 'StringIO' object.\n",
      "  df = pd.read_html(str(table))[0]\n",
      "/var/folders/7z/7q00pypj1_sf2clps66cxc9r0000gn/T/ipykernel_2964/2765107248.py:32: FutureWarning: Passing literal html to 'read_html' is deprecated and will be removed in a future version. To read from a literal string, wrap it in a 'StringIO' object.\n",
      "  df = pd.read_html(str(table))[0]\n",
      "/var/folders/7z/7q00pypj1_sf2clps66cxc9r0000gn/T/ipykernel_2964/2765107248.py:32: FutureWarning: Passing literal html to 'read_html' is deprecated and will be removed in a future version. To read from a literal string, wrap it in a 'StringIO' object.\n",
      "  df = pd.read_html(str(table))[0]\n",
      "/var/folders/7z/7q00pypj1_sf2clps66cxc9r0000gn/T/ipykernel_2964/2765107248.py:32: FutureWarning: Passing literal html to 'read_html' is deprecated and will be removed in a future version. To read from a literal string, wrap it in a 'StringIO' object.\n",
      "  df = pd.read_html(str(table))[0]\n",
      "/var/folders/7z/7q00pypj1_sf2clps66cxc9r0000gn/T/ipykernel_2964/2765107248.py:32: FutureWarning: Passing literal html to 'read_html' is deprecated and will be removed in a future version. To read from a literal string, wrap it in a 'StringIO' object.\n",
      "  df = pd.read_html(str(table))[0]\n",
      "/var/folders/7z/7q00pypj1_sf2clps66cxc9r0000gn/T/ipykernel_2964/2765107248.py:32: FutureWarning: Passing literal html to 'read_html' is deprecated and will be removed in a future version. To read from a literal string, wrap it in a 'StringIO' object.\n",
      "  df = pd.read_html(str(table))[0]\n",
      "/var/folders/7z/7q00pypj1_sf2clps66cxc9r0000gn/T/ipykernel_2964/2765107248.py:32: FutureWarning: Passing literal html to 'read_html' is deprecated and will be removed in a future version. To read from a literal string, wrap it in a 'StringIO' object.\n",
      "  df = pd.read_html(str(table))[0]\n",
      "/var/folders/7z/7q00pypj1_sf2clps66cxc9r0000gn/T/ipykernel_2964/2765107248.py:32: FutureWarning: Passing literal html to 'read_html' is deprecated and will be removed in a future version. To read from a literal string, wrap it in a 'StringIO' object.\n",
      "  df = pd.read_html(str(table))[0]\n",
      "/var/folders/7z/7q00pypj1_sf2clps66cxc9r0000gn/T/ipykernel_2964/2765107248.py:32: FutureWarning: Passing literal html to 'read_html' is deprecated and will be removed in a future version. To read from a literal string, wrap it in a 'StringIO' object.\n",
      "  df = pd.read_html(str(table))[0]\n",
      "/var/folders/7z/7q00pypj1_sf2clps66cxc9r0000gn/T/ipykernel_2964/2765107248.py:32: FutureWarning: Passing literal html to 'read_html' is deprecated and will be removed in a future version. To read from a literal string, wrap it in a 'StringIO' object.\n",
      "  df = pd.read_html(str(table))[0]\n",
      "/var/folders/7z/7q00pypj1_sf2clps66cxc9r0000gn/T/ipykernel_2964/2765107248.py:32: FutureWarning: Passing literal html to 'read_html' is deprecated and will be removed in a future version. To read from a literal string, wrap it in a 'StringIO' object.\n",
      "  df = pd.read_html(str(table))[0]\n",
      "/var/folders/7z/7q00pypj1_sf2clps66cxc9r0000gn/T/ipykernel_2964/2765107248.py:32: FutureWarning: Passing literal html to 'read_html' is deprecated and will be removed in a future version. To read from a literal string, wrap it in a 'StringIO' object.\n",
      "  df = pd.read_html(str(table))[0]\n",
      "/var/folders/7z/7q00pypj1_sf2clps66cxc9r0000gn/T/ipykernel_2964/2765107248.py:32: FutureWarning: Passing literal html to 'read_html' is deprecated and will be removed in a future version. To read from a literal string, wrap it in a 'StringIO' object.\n",
      "  df = pd.read_html(str(table))[0]\n",
      "/var/folders/7z/7q00pypj1_sf2clps66cxc9r0000gn/T/ipykernel_2964/2765107248.py:32: FutureWarning: Passing literal html to 'read_html' is deprecated and will be removed in a future version. To read from a literal string, wrap it in a 'StringIO' object.\n",
      "  df = pd.read_html(str(table))[0]\n",
      "/var/folders/7z/7q00pypj1_sf2clps66cxc9r0000gn/T/ipykernel_2964/2765107248.py:32: FutureWarning: Passing literal html to 'read_html' is deprecated and will be removed in a future version. To read from a literal string, wrap it in a 'StringIO' object.\n",
      "  df = pd.read_html(str(table))[0]\n",
      "/var/folders/7z/7q00pypj1_sf2clps66cxc9r0000gn/T/ipykernel_2964/2765107248.py:32: FutureWarning: Passing literal html to 'read_html' is deprecated and will be removed in a future version. To read from a literal string, wrap it in a 'StringIO' object.\n",
      "  df = pd.read_html(str(table))[0]\n",
      "/var/folders/7z/7q00pypj1_sf2clps66cxc9r0000gn/T/ipykernel_2964/2765107248.py:32: FutureWarning: Passing literal html to 'read_html' is deprecated and will be removed in a future version. To read from a literal string, wrap it in a 'StringIO' object.\n",
      "  df = pd.read_html(str(table))[0]\n",
      "/var/folders/7z/7q00pypj1_sf2clps66cxc9r0000gn/T/ipykernel_2964/2765107248.py:32: FutureWarning: Passing literal html to 'read_html' is deprecated and will be removed in a future version. To read from a literal string, wrap it in a 'StringIO' object.\n",
      "  df = pd.read_html(str(table))[0]\n",
      "/var/folders/7z/7q00pypj1_sf2clps66cxc9r0000gn/T/ipykernel_2964/2765107248.py:32: FutureWarning: Passing literal html to 'read_html' is deprecated and will be removed in a future version. To read from a literal string, wrap it in a 'StringIO' object.\n",
      "  df = pd.read_html(str(table))[0]\n",
      "/var/folders/7z/7q00pypj1_sf2clps66cxc9r0000gn/T/ipykernel_2964/2765107248.py:32: FutureWarning: Passing literal html to 'read_html' is deprecated and will be removed in a future version. To read from a literal string, wrap it in a 'StringIO' object.\n",
      "  df = pd.read_html(str(table))[0]\n",
      "/var/folders/7z/7q00pypj1_sf2clps66cxc9r0000gn/T/ipykernel_2964/2765107248.py:32: FutureWarning: Passing literal html to 'read_html' is deprecated and will be removed in a future version. To read from a literal string, wrap it in a 'StringIO' object.\n",
      "  df = pd.read_html(str(table))[0]\n",
      "/var/folders/7z/7q00pypj1_sf2clps66cxc9r0000gn/T/ipykernel_2964/2765107248.py:32: FutureWarning: Passing literal html to 'read_html' is deprecated and will be removed in a future version. To read from a literal string, wrap it in a 'StringIO' object.\n",
      "  df = pd.read_html(str(table))[0]\n",
      "/var/folders/7z/7q00pypj1_sf2clps66cxc9r0000gn/T/ipykernel_2964/2765107248.py:32: FutureWarning: Passing literal html to 'read_html' is deprecated and will be removed in a future version. To read from a literal string, wrap it in a 'StringIO' object.\n",
      "  df = pd.read_html(str(table))[0]\n",
      "/var/folders/7z/7q00pypj1_sf2clps66cxc9r0000gn/T/ipykernel_2964/2765107248.py:32: FutureWarning: Passing literal html to 'read_html' is deprecated and will be removed in a future version. To read from a literal string, wrap it in a 'StringIO' object.\n",
      "  df = pd.read_html(str(table))[0]\n",
      "/var/folders/7z/7q00pypj1_sf2clps66cxc9r0000gn/T/ipykernel_2964/2765107248.py:32: FutureWarning: Passing literal html to 'read_html' is deprecated and will be removed in a future version. To read from a literal string, wrap it in a 'StringIO' object.\n",
      "  df = pd.read_html(str(table))[0]\n",
      "/var/folders/7z/7q00pypj1_sf2clps66cxc9r0000gn/T/ipykernel_2964/2765107248.py:32: FutureWarning: Passing literal html to 'read_html' is deprecated and will be removed in a future version. To read from a literal string, wrap it in a 'StringIO' object.\n",
      "  df = pd.read_html(str(table))[0]\n",
      "/var/folders/7z/7q00pypj1_sf2clps66cxc9r0000gn/T/ipykernel_2964/2765107248.py:32: FutureWarning: Passing literal html to 'read_html' is deprecated and will be removed in a future version. To read from a literal string, wrap it in a 'StringIO' object.\n",
      "  df = pd.read_html(str(table))[0]\n",
      "/var/folders/7z/7q00pypj1_sf2clps66cxc9r0000gn/T/ipykernel_2964/2765107248.py:32: FutureWarning: Passing literal html to 'read_html' is deprecated and will be removed in a future version. To read from a literal string, wrap it in a 'StringIO' object.\n",
      "  df = pd.read_html(str(table))[0]\n",
      "/var/folders/7z/7q00pypj1_sf2clps66cxc9r0000gn/T/ipykernel_2964/2765107248.py:32: FutureWarning: Passing literal html to 'read_html' is deprecated and will be removed in a future version. To read from a literal string, wrap it in a 'StringIO' object.\n",
      "  df = pd.read_html(str(table))[0]\n",
      "/var/folders/7z/7q00pypj1_sf2clps66cxc9r0000gn/T/ipykernel_2964/2765107248.py:32: FutureWarning: Passing literal html to 'read_html' is deprecated and will be removed in a future version. To read from a literal string, wrap it in a 'StringIO' object.\n",
      "  df = pd.read_html(str(table))[0]\n",
      "/var/folders/7z/7q00pypj1_sf2clps66cxc9r0000gn/T/ipykernel_2964/2765107248.py:32: FutureWarning: Passing literal html to 'read_html' is deprecated and will be removed in a future version. To read from a literal string, wrap it in a 'StringIO' object.\n",
      "  df = pd.read_html(str(table))[0]\n",
      "/var/folders/7z/7q00pypj1_sf2clps66cxc9r0000gn/T/ipykernel_2964/2765107248.py:32: FutureWarning: Passing literal html to 'read_html' is deprecated and will be removed in a future version. To read from a literal string, wrap it in a 'StringIO' object.\n",
      "  df = pd.read_html(str(table))[0]\n",
      "/var/folders/7z/7q00pypj1_sf2clps66cxc9r0000gn/T/ipykernel_2964/2765107248.py:32: FutureWarning: Passing literal html to 'read_html' is deprecated and will be removed in a future version. To read from a literal string, wrap it in a 'StringIO' object.\n",
      "  df = pd.read_html(str(table))[0]\n",
      "/var/folders/7z/7q00pypj1_sf2clps66cxc9r0000gn/T/ipykernel_2964/2765107248.py:32: FutureWarning: Passing literal html to 'read_html' is deprecated and will be removed in a future version. To read from a literal string, wrap it in a 'StringIO' object.\n",
      "  df = pd.read_html(str(table))[0]\n",
      "/var/folders/7z/7q00pypj1_sf2clps66cxc9r0000gn/T/ipykernel_2964/2765107248.py:32: FutureWarning: Passing literal html to 'read_html' is deprecated and will be removed in a future version. To read from a literal string, wrap it in a 'StringIO' object.\n",
      "  df = pd.read_html(str(table))[0]\n",
      "/var/folders/7z/7q00pypj1_sf2clps66cxc9r0000gn/T/ipykernel_2964/2765107248.py:32: FutureWarning: Passing literal html to 'read_html' is deprecated and will be removed in a future version. To read from a literal string, wrap it in a 'StringIO' object.\n",
      "  df = pd.read_html(str(table))[0]\n",
      "/var/folders/7z/7q00pypj1_sf2clps66cxc9r0000gn/T/ipykernel_2964/2765107248.py:32: FutureWarning: Passing literal html to 'read_html' is deprecated and will be removed in a future version. To read from a literal string, wrap it in a 'StringIO' object.\n",
      "  df = pd.read_html(str(table))[0]\n",
      "/var/folders/7z/7q00pypj1_sf2clps66cxc9r0000gn/T/ipykernel_2964/2765107248.py:32: FutureWarning: Passing literal html to 'read_html' is deprecated and will be removed in a future version. To read from a literal string, wrap it in a 'StringIO' object.\n",
      "  df = pd.read_html(str(table))[0]\n",
      "/var/folders/7z/7q00pypj1_sf2clps66cxc9r0000gn/T/ipykernel_2964/2765107248.py:32: FutureWarning: Passing literal html to 'read_html' is deprecated and will be removed in a future version. To read from a literal string, wrap it in a 'StringIO' object.\n",
      "  df = pd.read_html(str(table))[0]\n",
      "/var/folders/7z/7q00pypj1_sf2clps66cxc9r0000gn/T/ipykernel_2964/2765107248.py:32: FutureWarning: Passing literal html to 'read_html' is deprecated and will be removed in a future version. To read from a literal string, wrap it in a 'StringIO' object.\n",
      "  df = pd.read_html(str(table))[0]\n",
      "/var/folders/7z/7q00pypj1_sf2clps66cxc9r0000gn/T/ipykernel_2964/2765107248.py:32: FutureWarning: Passing literal html to 'read_html' is deprecated and will be removed in a future version. To read from a literal string, wrap it in a 'StringIO' object.\n",
      "  df = pd.read_html(str(table))[0]\n",
      "/var/folders/7z/7q00pypj1_sf2clps66cxc9r0000gn/T/ipykernel_2964/2765107248.py:32: FutureWarning: Passing literal html to 'read_html' is deprecated and will be removed in a future version. To read from a literal string, wrap it in a 'StringIO' object.\n",
      "  df = pd.read_html(str(table))[0]\n",
      "/var/folders/7z/7q00pypj1_sf2clps66cxc9r0000gn/T/ipykernel_2964/2765107248.py:32: FutureWarning: Passing literal html to 'read_html' is deprecated and will be removed in a future version. To read from a literal string, wrap it in a 'StringIO' object.\n",
      "  df = pd.read_html(str(table))[0]\n",
      "/var/folders/7z/7q00pypj1_sf2clps66cxc9r0000gn/T/ipykernel_2964/2765107248.py:32: FutureWarning: Passing literal html to 'read_html' is deprecated and will be removed in a future version. To read from a literal string, wrap it in a 'StringIO' object.\n",
      "  df = pd.read_html(str(table))[0]\n",
      "/var/folders/7z/7q00pypj1_sf2clps66cxc9r0000gn/T/ipykernel_2964/2765107248.py:32: FutureWarning: Passing literal html to 'read_html' is deprecated and will be removed in a future version. To read from a literal string, wrap it in a 'StringIO' object.\n",
      "  df = pd.read_html(str(table))[0]\n",
      "/var/folders/7z/7q00pypj1_sf2clps66cxc9r0000gn/T/ipykernel_2964/2765107248.py:32: FutureWarning: Passing literal html to 'read_html' is deprecated and will be removed in a future version. To read from a literal string, wrap it in a 'StringIO' object.\n",
      "  df = pd.read_html(str(table))[0]\n",
      "/var/folders/7z/7q00pypj1_sf2clps66cxc9r0000gn/T/ipykernel_2964/2765107248.py:32: FutureWarning: Passing literal html to 'read_html' is deprecated and will be removed in a future version. To read from a literal string, wrap it in a 'StringIO' object.\n",
      "  df = pd.read_html(str(table))[0]\n",
      "/var/folders/7z/7q00pypj1_sf2clps66cxc9r0000gn/T/ipykernel_2964/2765107248.py:32: FutureWarning: Passing literal html to 'read_html' is deprecated and will be removed in a future version. To read from a literal string, wrap it in a 'StringIO' object.\n",
      "  df = pd.read_html(str(table))[0]\n",
      "/var/folders/7z/7q00pypj1_sf2clps66cxc9r0000gn/T/ipykernel_2964/2765107248.py:32: FutureWarning: Passing literal html to 'read_html' is deprecated and will be removed in a future version. To read from a literal string, wrap it in a 'StringIO' object.\n",
      "  df = pd.read_html(str(table))[0]\n",
      "/var/folders/7z/7q00pypj1_sf2clps66cxc9r0000gn/T/ipykernel_2964/2765107248.py:32: FutureWarning: Passing literal html to 'read_html' is deprecated and will be removed in a future version. To read from a literal string, wrap it in a 'StringIO' object.\n",
      "  df = pd.read_html(str(table))[0]\n",
      "/var/folders/7z/7q00pypj1_sf2clps66cxc9r0000gn/T/ipykernel_2964/2765107248.py:32: FutureWarning: Passing literal html to 'read_html' is deprecated and will be removed in a future version. To read from a literal string, wrap it in a 'StringIO' object.\n",
      "  df = pd.read_html(str(table))[0]\n",
      "/var/folders/7z/7q00pypj1_sf2clps66cxc9r0000gn/T/ipykernel_2964/2765107248.py:32: FutureWarning: Passing literal html to 'read_html' is deprecated and will be removed in a future version. To read from a literal string, wrap it in a 'StringIO' object.\n",
      "  df = pd.read_html(str(table))[0]\n",
      "/var/folders/7z/7q00pypj1_sf2clps66cxc9r0000gn/T/ipykernel_2964/2765107248.py:32: FutureWarning: Passing literal html to 'read_html' is deprecated and will be removed in a future version. To read from a literal string, wrap it in a 'StringIO' object.\n",
      "  df = pd.read_html(str(table))[0]\n",
      "/var/folders/7z/7q00pypj1_sf2clps66cxc9r0000gn/T/ipykernel_2964/2765107248.py:32: FutureWarning: Passing literal html to 'read_html' is deprecated and will be removed in a future version. To read from a literal string, wrap it in a 'StringIO' object.\n",
      "  df = pd.read_html(str(table))[0]\n",
      "/var/folders/7z/7q00pypj1_sf2clps66cxc9r0000gn/T/ipykernel_2964/2765107248.py:32: FutureWarning: Passing literal html to 'read_html' is deprecated and will be removed in a future version. To read from a literal string, wrap it in a 'StringIO' object.\n",
      "  df = pd.read_html(str(table))[0]\n",
      "/var/folders/7z/7q00pypj1_sf2clps66cxc9r0000gn/T/ipykernel_2964/2765107248.py:32: FutureWarning: Passing literal html to 'read_html' is deprecated and will be removed in a future version. To read from a literal string, wrap it in a 'StringIO' object.\n",
      "  df = pd.read_html(str(table))[0]\n",
      "/var/folders/7z/7q00pypj1_sf2clps66cxc9r0000gn/T/ipykernel_2964/2765107248.py:32: FutureWarning: Passing literal html to 'read_html' is deprecated and will be removed in a future version. To read from a literal string, wrap it in a 'StringIO' object.\n",
      "  df = pd.read_html(str(table))[0]\n",
      "/var/folders/7z/7q00pypj1_sf2clps66cxc9r0000gn/T/ipykernel_2964/2765107248.py:32: FutureWarning: Passing literal html to 'read_html' is deprecated and will be removed in a future version. To read from a literal string, wrap it in a 'StringIO' object.\n",
      "  df = pd.read_html(str(table))[0]\n",
      "/var/folders/7z/7q00pypj1_sf2clps66cxc9r0000gn/T/ipykernel_2964/2765107248.py:32: FutureWarning: Passing literal html to 'read_html' is deprecated and will be removed in a future version. To read from a literal string, wrap it in a 'StringIO' object.\n",
      "  df = pd.read_html(str(table))[0]\n",
      "/var/folders/7z/7q00pypj1_sf2clps66cxc9r0000gn/T/ipykernel_2964/2765107248.py:32: FutureWarning: Passing literal html to 'read_html' is deprecated and will be removed in a future version. To read from a literal string, wrap it in a 'StringIO' object.\n",
      "  df = pd.read_html(str(table))[0]\n",
      "/var/folders/7z/7q00pypj1_sf2clps66cxc9r0000gn/T/ipykernel_2964/2765107248.py:32: FutureWarning: Passing literal html to 'read_html' is deprecated and will be removed in a future version. To read from a literal string, wrap it in a 'StringIO' object.\n",
      "  df = pd.read_html(str(table))[0]\n",
      "/var/folders/7z/7q00pypj1_sf2clps66cxc9r0000gn/T/ipykernel_2964/2765107248.py:32: FutureWarning: Passing literal html to 'read_html' is deprecated and will be removed in a future version. To read from a literal string, wrap it in a 'StringIO' object.\n",
      "  df = pd.read_html(str(table))[0]\n",
      "/var/folders/7z/7q00pypj1_sf2clps66cxc9r0000gn/T/ipykernel_2964/2765107248.py:32: FutureWarning: Passing literal html to 'read_html' is deprecated and will be removed in a future version. To read from a literal string, wrap it in a 'StringIO' object.\n",
      "  df = pd.read_html(str(table))[0]\n",
      "/var/folders/7z/7q00pypj1_sf2clps66cxc9r0000gn/T/ipykernel_2964/2765107248.py:32: FutureWarning: Passing literal html to 'read_html' is deprecated and will be removed in a future version. To read from a literal string, wrap it in a 'StringIO' object.\n",
      "  df = pd.read_html(str(table))[0]\n",
      "/var/folders/7z/7q00pypj1_sf2clps66cxc9r0000gn/T/ipykernel_2964/2765107248.py:32: FutureWarning: Passing literal html to 'read_html' is deprecated and will be removed in a future version. To read from a literal string, wrap it in a 'StringIO' object.\n",
      "  df = pd.read_html(str(table))[0]\n",
      "/var/folders/7z/7q00pypj1_sf2clps66cxc9r0000gn/T/ipykernel_2964/2765107248.py:32: FutureWarning: Passing literal html to 'read_html' is deprecated and will be removed in a future version. To read from a literal string, wrap it in a 'StringIO' object.\n",
      "  df = pd.read_html(str(table))[0]\n",
      "/var/folders/7z/7q00pypj1_sf2clps66cxc9r0000gn/T/ipykernel_2964/2765107248.py:32: FutureWarning: Passing literal html to 'read_html' is deprecated and will be removed in a future version. To read from a literal string, wrap it in a 'StringIO' object.\n",
      "  df = pd.read_html(str(table))[0]\n",
      "/var/folders/7z/7q00pypj1_sf2clps66cxc9r0000gn/T/ipykernel_2964/2765107248.py:32: FutureWarning: Passing literal html to 'read_html' is deprecated and will be removed in a future version. To read from a literal string, wrap it in a 'StringIO' object.\n",
      "  df = pd.read_html(str(table))[0]\n",
      "/var/folders/7z/7q00pypj1_sf2clps66cxc9r0000gn/T/ipykernel_2964/2765107248.py:32: FutureWarning: Passing literal html to 'read_html' is deprecated and will be removed in a future version. To read from a literal string, wrap it in a 'StringIO' object.\n",
      "  df = pd.read_html(str(table))[0]\n",
      "/var/folders/7z/7q00pypj1_sf2clps66cxc9r0000gn/T/ipykernel_2964/2765107248.py:32: FutureWarning: Passing literal html to 'read_html' is deprecated and will be removed in a future version. To read from a literal string, wrap it in a 'StringIO' object.\n",
      "  df = pd.read_html(str(table))[0]\n",
      "/var/folders/7z/7q00pypj1_sf2clps66cxc9r0000gn/T/ipykernel_2964/2765107248.py:32: FutureWarning: Passing literal html to 'read_html' is deprecated and will be removed in a future version. To read from a literal string, wrap it in a 'StringIO' object.\n",
      "  df = pd.read_html(str(table))[0]\n",
      "/var/folders/7z/7q00pypj1_sf2clps66cxc9r0000gn/T/ipykernel_2964/2765107248.py:32: FutureWarning: Passing literal html to 'read_html' is deprecated and will be removed in a future version. To read from a literal string, wrap it in a 'StringIO' object.\n",
      "  df = pd.read_html(str(table))[0]\n",
      "/var/folders/7z/7q00pypj1_sf2clps66cxc9r0000gn/T/ipykernel_2964/2765107248.py:32: FutureWarning: Passing literal html to 'read_html' is deprecated and will be removed in a future version. To read from a literal string, wrap it in a 'StringIO' object.\n",
      "  df = pd.read_html(str(table))[0]\n",
      "/var/folders/7z/7q00pypj1_sf2clps66cxc9r0000gn/T/ipykernel_2964/2765107248.py:32: FutureWarning: Passing literal html to 'read_html' is deprecated and will be removed in a future version. To read from a literal string, wrap it in a 'StringIO' object.\n",
      "  df = pd.read_html(str(table))[0]\n",
      "/var/folders/7z/7q00pypj1_sf2clps66cxc9r0000gn/T/ipykernel_2964/2765107248.py:32: FutureWarning: Passing literal html to 'read_html' is deprecated and will be removed in a future version. To read from a literal string, wrap it in a 'StringIO' object.\n",
      "  df = pd.read_html(str(table))[0]\n",
      "/var/folders/7z/7q00pypj1_sf2clps66cxc9r0000gn/T/ipykernel_2964/2765107248.py:32: FutureWarning: Passing literal html to 'read_html' is deprecated and will be removed in a future version. To read from a literal string, wrap it in a 'StringIO' object.\n",
      "  df = pd.read_html(str(table))[0]\n",
      "/var/folders/7z/7q00pypj1_sf2clps66cxc9r0000gn/T/ipykernel_2964/2765107248.py:32: FutureWarning: Passing literal html to 'read_html' is deprecated and will be removed in a future version. To read from a literal string, wrap it in a 'StringIO' object.\n",
      "  df = pd.read_html(str(table))[0]\n",
      "/var/folders/7z/7q00pypj1_sf2clps66cxc9r0000gn/T/ipykernel_2964/2765107248.py:32: FutureWarning: Passing literal html to 'read_html' is deprecated and will be removed in a future version. To read from a literal string, wrap it in a 'StringIO' object.\n",
      "  df = pd.read_html(str(table))[0]\n",
      "/var/folders/7z/7q00pypj1_sf2clps66cxc9r0000gn/T/ipykernel_2964/2765107248.py:32: FutureWarning: Passing literal html to 'read_html' is deprecated and will be removed in a future version. To read from a literal string, wrap it in a 'StringIO' object.\n",
      "  df = pd.read_html(str(table))[0]\n",
      "/var/folders/7z/7q00pypj1_sf2clps66cxc9r0000gn/T/ipykernel_2964/2765107248.py:32: FutureWarning: Passing literal html to 'read_html' is deprecated and will be removed in a future version. To read from a literal string, wrap it in a 'StringIO' object.\n",
      "  df = pd.read_html(str(table))[0]\n",
      "/var/folders/7z/7q00pypj1_sf2clps66cxc9r0000gn/T/ipykernel_2964/2765107248.py:32: FutureWarning: Passing literal html to 'read_html' is deprecated and will be removed in a future version. To read from a literal string, wrap it in a 'StringIO' object.\n",
      "  df = pd.read_html(str(table))[0]\n",
      "/var/folders/7z/7q00pypj1_sf2clps66cxc9r0000gn/T/ipykernel_2964/2765107248.py:32: FutureWarning: Passing literal html to 'read_html' is deprecated and will be removed in a future version. To read from a literal string, wrap it in a 'StringIO' object.\n",
      "  df = pd.read_html(str(table))[0]\n",
      "/var/folders/7z/7q00pypj1_sf2clps66cxc9r0000gn/T/ipykernel_2964/2765107248.py:32: FutureWarning: Passing literal html to 'read_html' is deprecated and will be removed in a future version. To read from a literal string, wrap it in a 'StringIO' object.\n",
      "  df = pd.read_html(str(table))[0]\n",
      "/var/folders/7z/7q00pypj1_sf2clps66cxc9r0000gn/T/ipykernel_2964/2765107248.py:32: FutureWarning: Passing literal html to 'read_html' is deprecated and will be removed in a future version. To read from a literal string, wrap it in a 'StringIO' object.\n",
      "  df = pd.read_html(str(table))[0]\n",
      "/var/folders/7z/7q00pypj1_sf2clps66cxc9r0000gn/T/ipykernel_2964/2765107248.py:32: FutureWarning: Passing literal html to 'read_html' is deprecated and will be removed in a future version. To read from a literal string, wrap it in a 'StringIO' object.\n",
      "  df = pd.read_html(str(table))[0]\n",
      "/var/folders/7z/7q00pypj1_sf2clps66cxc9r0000gn/T/ipykernel_2964/2765107248.py:32: FutureWarning: Passing literal html to 'read_html' is deprecated and will be removed in a future version. To read from a literal string, wrap it in a 'StringIO' object.\n",
      "  df = pd.read_html(str(table))[0]\n",
      "/var/folders/7z/7q00pypj1_sf2clps66cxc9r0000gn/T/ipykernel_2964/2765107248.py:32: FutureWarning: Passing literal html to 'read_html' is deprecated and will be removed in a future version. To read from a literal string, wrap it in a 'StringIO' object.\n",
      "  df = pd.read_html(str(table))[0]\n",
      "/var/folders/7z/7q00pypj1_sf2clps66cxc9r0000gn/T/ipykernel_2964/2765107248.py:32: FutureWarning: Passing literal html to 'read_html' is deprecated and will be removed in a future version. To read from a literal string, wrap it in a 'StringIO' object.\n",
      "  df = pd.read_html(str(table))[0]\n",
      "/var/folders/7z/7q00pypj1_sf2clps66cxc9r0000gn/T/ipykernel_2964/2765107248.py:32: FutureWarning: Passing literal html to 'read_html' is deprecated and will be removed in a future version. To read from a literal string, wrap it in a 'StringIO' object.\n",
      "  df = pd.read_html(str(table))[0]\n",
      "/var/folders/7z/7q00pypj1_sf2clps66cxc9r0000gn/T/ipykernel_2964/2765107248.py:32: FutureWarning: Passing literal html to 'read_html' is deprecated and will be removed in a future version. To read from a literal string, wrap it in a 'StringIO' object.\n",
      "  df = pd.read_html(str(table))[0]\n",
      "/var/folders/7z/7q00pypj1_sf2clps66cxc9r0000gn/T/ipykernel_2964/2765107248.py:32: FutureWarning: Passing literal html to 'read_html' is deprecated and will be removed in a future version. To read from a literal string, wrap it in a 'StringIO' object.\n",
      "  df = pd.read_html(str(table))[0]\n",
      "/var/folders/7z/7q00pypj1_sf2clps66cxc9r0000gn/T/ipykernel_2964/2765107248.py:32: FutureWarning: Passing literal html to 'read_html' is deprecated and will be removed in a future version. To read from a literal string, wrap it in a 'StringIO' object.\n",
      "  df = pd.read_html(str(table))[0]\n",
      "/var/folders/7z/7q00pypj1_sf2clps66cxc9r0000gn/T/ipykernel_2964/2765107248.py:32: FutureWarning: Passing literal html to 'read_html' is deprecated and will be removed in a future version. To read from a literal string, wrap it in a 'StringIO' object.\n",
      "  df = pd.read_html(str(table))[0]\n",
      "/var/folders/7z/7q00pypj1_sf2clps66cxc9r0000gn/T/ipykernel_2964/2765107248.py:32: FutureWarning: Passing literal html to 'read_html' is deprecated and will be removed in a future version. To read from a literal string, wrap it in a 'StringIO' object.\n",
      "  df = pd.read_html(str(table))[0]\n",
      "/var/folders/7z/7q00pypj1_sf2clps66cxc9r0000gn/T/ipykernel_2964/2765107248.py:32: FutureWarning: Passing literal html to 'read_html' is deprecated and will be removed in a future version. To read from a literal string, wrap it in a 'StringIO' object.\n",
      "  df = pd.read_html(str(table))[0]\n",
      "/var/folders/7z/7q00pypj1_sf2clps66cxc9r0000gn/T/ipykernel_2964/2765107248.py:32: FutureWarning: Passing literal html to 'read_html' is deprecated and will be removed in a future version. To read from a literal string, wrap it in a 'StringIO' object.\n",
      "  df = pd.read_html(str(table))[0]\n",
      "/var/folders/7z/7q00pypj1_sf2clps66cxc9r0000gn/T/ipykernel_2964/2765107248.py:32: FutureWarning: Passing literal html to 'read_html' is deprecated and will be removed in a future version. To read from a literal string, wrap it in a 'StringIO' object.\n",
      "  df = pd.read_html(str(table))[0]\n",
      "/var/folders/7z/7q00pypj1_sf2clps66cxc9r0000gn/T/ipykernel_2964/2765107248.py:32: FutureWarning: Passing literal html to 'read_html' is deprecated and will be removed in a future version. To read from a literal string, wrap it in a 'StringIO' object.\n",
      "  df = pd.read_html(str(table))[0]\n",
      "/var/folders/7z/7q00pypj1_sf2clps66cxc9r0000gn/T/ipykernel_2964/2765107248.py:32: FutureWarning: Passing literal html to 'read_html' is deprecated and will be removed in a future version. To read from a literal string, wrap it in a 'StringIO' object.\n",
      "  df = pd.read_html(str(table))[0]\n",
      "/var/folders/7z/7q00pypj1_sf2clps66cxc9r0000gn/T/ipykernel_2964/2765107248.py:32: FutureWarning: Passing literal html to 'read_html' is deprecated and will be removed in a future version. To read from a literal string, wrap it in a 'StringIO' object.\n",
      "  df = pd.read_html(str(table))[0]\n",
      "/var/folders/7z/7q00pypj1_sf2clps66cxc9r0000gn/T/ipykernel_2964/2765107248.py:32: FutureWarning: Passing literal html to 'read_html' is deprecated and will be removed in a future version. To read from a literal string, wrap it in a 'StringIO' object.\n",
      "  df = pd.read_html(str(table))[0]\n",
      "/var/folders/7z/7q00pypj1_sf2clps66cxc9r0000gn/T/ipykernel_2964/2765107248.py:32: FutureWarning: Passing literal html to 'read_html' is deprecated and will be removed in a future version. To read from a literal string, wrap it in a 'StringIO' object.\n",
      "  df = pd.read_html(str(table))[0]\n",
      "/var/folders/7z/7q00pypj1_sf2clps66cxc9r0000gn/T/ipykernel_2964/2765107248.py:32: FutureWarning: Passing literal html to 'read_html' is deprecated and will be removed in a future version. To read from a literal string, wrap it in a 'StringIO' object.\n",
      "  df = pd.read_html(str(table))[0]\n",
      "/var/folders/7z/7q00pypj1_sf2clps66cxc9r0000gn/T/ipykernel_2964/2765107248.py:32: FutureWarning: Passing literal html to 'read_html' is deprecated and will be removed in a future version. To read from a literal string, wrap it in a 'StringIO' object.\n",
      "  df = pd.read_html(str(table))[0]\n",
      "/var/folders/7z/7q00pypj1_sf2clps66cxc9r0000gn/T/ipykernel_2964/2765107248.py:32: FutureWarning: Passing literal html to 'read_html' is deprecated and will be removed in a future version. To read from a literal string, wrap it in a 'StringIO' object.\n",
      "  df = pd.read_html(str(table))[0]\n",
      "/var/folders/7z/7q00pypj1_sf2clps66cxc9r0000gn/T/ipykernel_2964/2765107248.py:32: FutureWarning: Passing literal html to 'read_html' is deprecated and will be removed in a future version. To read from a literal string, wrap it in a 'StringIO' object.\n",
      "  df = pd.read_html(str(table))[0]\n",
      "/var/folders/7z/7q00pypj1_sf2clps66cxc9r0000gn/T/ipykernel_2964/2765107248.py:32: FutureWarning: Passing literal html to 'read_html' is deprecated and will be removed in a future version. To read from a literal string, wrap it in a 'StringIO' object.\n",
      "  df = pd.read_html(str(table))[0]\n",
      "/var/folders/7z/7q00pypj1_sf2clps66cxc9r0000gn/T/ipykernel_2964/2765107248.py:32: FutureWarning: Passing literal html to 'read_html' is deprecated and will be removed in a future version. To read from a literal string, wrap it in a 'StringIO' object.\n",
      "  df = pd.read_html(str(table))[0]\n",
      "/var/folders/7z/7q00pypj1_sf2clps66cxc9r0000gn/T/ipykernel_2964/2765107248.py:32: FutureWarning: Passing literal html to 'read_html' is deprecated and will be removed in a future version. To read from a literal string, wrap it in a 'StringIO' object.\n",
      "  df = pd.read_html(str(table))[0]\n",
      "/var/folders/7z/7q00pypj1_sf2clps66cxc9r0000gn/T/ipykernel_2964/2765107248.py:32: FutureWarning: Passing literal html to 'read_html' is deprecated and will be removed in a future version. To read from a literal string, wrap it in a 'StringIO' object.\n",
      "  df = pd.read_html(str(table))[0]\n",
      "/var/folders/7z/7q00pypj1_sf2clps66cxc9r0000gn/T/ipykernel_2964/2765107248.py:32: FutureWarning: Passing literal html to 'read_html' is deprecated and will be removed in a future version. To read from a literal string, wrap it in a 'StringIO' object.\n",
      "  df = pd.read_html(str(table))[0]\n",
      "/var/folders/7z/7q00pypj1_sf2clps66cxc9r0000gn/T/ipykernel_2964/2765107248.py:32: FutureWarning: Passing literal html to 'read_html' is deprecated and will be removed in a future version. To read from a literal string, wrap it in a 'StringIO' object.\n",
      "  df = pd.read_html(str(table))[0]\n",
      "/var/folders/7z/7q00pypj1_sf2clps66cxc9r0000gn/T/ipykernel_2964/2765107248.py:32: FutureWarning: Passing literal html to 'read_html' is deprecated and will be removed in a future version. To read from a literal string, wrap it in a 'StringIO' object.\n",
      "  df = pd.read_html(str(table))[0]\n",
      "/var/folders/7z/7q00pypj1_sf2clps66cxc9r0000gn/T/ipykernel_2964/2765107248.py:32: FutureWarning: Passing literal html to 'read_html' is deprecated and will be removed in a future version. To read from a literal string, wrap it in a 'StringIO' object.\n",
      "  df = pd.read_html(str(table))[0]\n",
      "/var/folders/7z/7q00pypj1_sf2clps66cxc9r0000gn/T/ipykernel_2964/2765107248.py:32: FutureWarning: Passing literal html to 'read_html' is deprecated and will be removed in a future version. To read from a literal string, wrap it in a 'StringIO' object.\n",
      "  df = pd.read_html(str(table))[0]\n",
      "/var/folders/7z/7q00pypj1_sf2clps66cxc9r0000gn/T/ipykernel_2964/2765107248.py:32: FutureWarning: Passing literal html to 'read_html' is deprecated and will be removed in a future version. To read from a literal string, wrap it in a 'StringIO' object.\n",
      "  df = pd.read_html(str(table))[0]\n",
      "/var/folders/7z/7q00pypj1_sf2clps66cxc9r0000gn/T/ipykernel_2964/2765107248.py:32: FutureWarning: Passing literal html to 'read_html' is deprecated and will be removed in a future version. To read from a literal string, wrap it in a 'StringIO' object.\n",
      "  df = pd.read_html(str(table))[0]\n",
      "/var/folders/7z/7q00pypj1_sf2clps66cxc9r0000gn/T/ipykernel_2964/2765107248.py:32: FutureWarning: Passing literal html to 'read_html' is deprecated and will be removed in a future version. To read from a literal string, wrap it in a 'StringIO' object.\n",
      "  df = pd.read_html(str(table))[0]\n",
      "/var/folders/7z/7q00pypj1_sf2clps66cxc9r0000gn/T/ipykernel_2964/2765107248.py:32: FutureWarning: Passing literal html to 'read_html' is deprecated and will be removed in a future version. To read from a literal string, wrap it in a 'StringIO' object.\n",
      "  df = pd.read_html(str(table))[0]\n",
      "/var/folders/7z/7q00pypj1_sf2clps66cxc9r0000gn/T/ipykernel_2964/2765107248.py:32: FutureWarning: Passing literal html to 'read_html' is deprecated and will be removed in a future version. To read from a literal string, wrap it in a 'StringIO' object.\n",
      "  df = pd.read_html(str(table))[0]\n",
      "/var/folders/7z/7q00pypj1_sf2clps66cxc9r0000gn/T/ipykernel_2964/2765107248.py:32: FutureWarning: Passing literal html to 'read_html' is deprecated and will be removed in a future version. To read from a literal string, wrap it in a 'StringIO' object.\n",
      "  df = pd.read_html(str(table))[0]\n",
      "/var/folders/7z/7q00pypj1_sf2clps66cxc9r0000gn/T/ipykernel_2964/2765107248.py:32: FutureWarning: Passing literal html to 'read_html' is deprecated and will be removed in a future version. To read from a literal string, wrap it in a 'StringIO' object.\n",
      "  df = pd.read_html(str(table))[0]\n",
      "/var/folders/7z/7q00pypj1_sf2clps66cxc9r0000gn/T/ipykernel_2964/2765107248.py:32: FutureWarning: Passing literal html to 'read_html' is deprecated and will be removed in a future version. To read from a literal string, wrap it in a 'StringIO' object.\n",
      "  df = pd.read_html(str(table))[0]\n",
      "/var/folders/7z/7q00pypj1_sf2clps66cxc9r0000gn/T/ipykernel_2964/2765107248.py:32: FutureWarning: Passing literal html to 'read_html' is deprecated and will be removed in a future version. To read from a literal string, wrap it in a 'StringIO' object.\n",
      "  df = pd.read_html(str(table))[0]\n",
      "/var/folders/7z/7q00pypj1_sf2clps66cxc9r0000gn/T/ipykernel_2964/2765107248.py:32: FutureWarning: Passing literal html to 'read_html' is deprecated and will be removed in a future version. To read from a literal string, wrap it in a 'StringIO' object.\n",
      "  df = pd.read_html(str(table))[0]\n",
      "/var/folders/7z/7q00pypj1_sf2clps66cxc9r0000gn/T/ipykernel_2964/2765107248.py:32: FutureWarning: Passing literal html to 'read_html' is deprecated and will be removed in a future version. To read from a literal string, wrap it in a 'StringIO' object.\n",
      "  df = pd.read_html(str(table))[0]\n",
      "/var/folders/7z/7q00pypj1_sf2clps66cxc9r0000gn/T/ipykernel_2964/2765107248.py:32: FutureWarning: Passing literal html to 'read_html' is deprecated and will be removed in a future version. To read from a literal string, wrap it in a 'StringIO' object.\n",
      "  df = pd.read_html(str(table))[0]\n",
      "/var/folders/7z/7q00pypj1_sf2clps66cxc9r0000gn/T/ipykernel_2964/2765107248.py:32: FutureWarning: Passing literal html to 'read_html' is deprecated and will be removed in a future version. To read from a literal string, wrap it in a 'StringIO' object.\n",
      "  df = pd.read_html(str(table))[0]\n",
      "/var/folders/7z/7q00pypj1_sf2clps66cxc9r0000gn/T/ipykernel_2964/2765107248.py:32: FutureWarning: Passing literal html to 'read_html' is deprecated and will be removed in a future version. To read from a literal string, wrap it in a 'StringIO' object.\n",
      "  df = pd.read_html(str(table))[0]\n",
      "/var/folders/7z/7q00pypj1_sf2clps66cxc9r0000gn/T/ipykernel_2964/2765107248.py:32: FutureWarning: Passing literal html to 'read_html' is deprecated and will be removed in a future version. To read from a literal string, wrap it in a 'StringIO' object.\n",
      "  df = pd.read_html(str(table))[0]\n",
      "/var/folders/7z/7q00pypj1_sf2clps66cxc9r0000gn/T/ipykernel_2964/2765107248.py:32: FutureWarning: Passing literal html to 'read_html' is deprecated and will be removed in a future version. To read from a literal string, wrap it in a 'StringIO' object.\n",
      "  df = pd.read_html(str(table))[0]\n",
      "/var/folders/7z/7q00pypj1_sf2clps66cxc9r0000gn/T/ipykernel_2964/2765107248.py:32: FutureWarning: Passing literal html to 'read_html' is deprecated and will be removed in a future version. To read from a literal string, wrap it in a 'StringIO' object.\n",
      "  df = pd.read_html(str(table))[0]\n",
      "/var/folders/7z/7q00pypj1_sf2clps66cxc9r0000gn/T/ipykernel_2964/2765107248.py:32: FutureWarning: Passing literal html to 'read_html' is deprecated and will be removed in a future version. To read from a literal string, wrap it in a 'StringIO' object.\n",
      "  df = pd.read_html(str(table))[0]\n",
      "/var/folders/7z/7q00pypj1_sf2clps66cxc9r0000gn/T/ipykernel_2964/2765107248.py:32: FutureWarning: Passing literal html to 'read_html' is deprecated and will be removed in a future version. To read from a literal string, wrap it in a 'StringIO' object.\n",
      "  df = pd.read_html(str(table))[0]\n",
      "/var/folders/7z/7q00pypj1_sf2clps66cxc9r0000gn/T/ipykernel_2964/2765107248.py:32: FutureWarning: Passing literal html to 'read_html' is deprecated and will be removed in a future version. To read from a literal string, wrap it in a 'StringIO' object.\n",
      "  df = pd.read_html(str(table))[0]\n",
      "/var/folders/7z/7q00pypj1_sf2clps66cxc9r0000gn/T/ipykernel_2964/2765107248.py:32: FutureWarning: Passing literal html to 'read_html' is deprecated and will be removed in a future version. To read from a literal string, wrap it in a 'StringIO' object.\n",
      "  df = pd.read_html(str(table))[0]\n",
      "/var/folders/7z/7q00pypj1_sf2clps66cxc9r0000gn/T/ipykernel_2964/2765107248.py:32: FutureWarning: Passing literal html to 'read_html' is deprecated and will be removed in a future version. To read from a literal string, wrap it in a 'StringIO' object.\n",
      "  df = pd.read_html(str(table))[0]\n",
      "/var/folders/7z/7q00pypj1_sf2clps66cxc9r0000gn/T/ipykernel_2964/2765107248.py:32: FutureWarning: Passing literal html to 'read_html' is deprecated and will be removed in a future version. To read from a literal string, wrap it in a 'StringIO' object.\n",
      "  df = pd.read_html(str(table))[0]\n",
      "/var/folders/7z/7q00pypj1_sf2clps66cxc9r0000gn/T/ipykernel_2964/2765107248.py:32: FutureWarning: Passing literal html to 'read_html' is deprecated and will be removed in a future version. To read from a literal string, wrap it in a 'StringIO' object.\n",
      "  df = pd.read_html(str(table))[0]\n",
      "/var/folders/7z/7q00pypj1_sf2clps66cxc9r0000gn/T/ipykernel_2964/2765107248.py:32: FutureWarning: Passing literal html to 'read_html' is deprecated and will be removed in a future version. To read from a literal string, wrap it in a 'StringIO' object.\n",
      "  df = pd.read_html(str(table))[0]\n",
      "/var/folders/7z/7q00pypj1_sf2clps66cxc9r0000gn/T/ipykernel_2964/2765107248.py:32: FutureWarning: Passing literal html to 'read_html' is deprecated and will be removed in a future version. To read from a literal string, wrap it in a 'StringIO' object.\n",
      "  df = pd.read_html(str(table))[0]\n",
      "/var/folders/7z/7q00pypj1_sf2clps66cxc9r0000gn/T/ipykernel_2964/2765107248.py:32: FutureWarning: Passing literal html to 'read_html' is deprecated and will be removed in a future version. To read from a literal string, wrap it in a 'StringIO' object.\n",
      "  df = pd.read_html(str(table))[0]\n",
      "/var/folders/7z/7q00pypj1_sf2clps66cxc9r0000gn/T/ipykernel_2964/2765107248.py:32: FutureWarning: Passing literal html to 'read_html' is deprecated and will be removed in a future version. To read from a literal string, wrap it in a 'StringIO' object.\n",
      "  df = pd.read_html(str(table))[0]\n",
      "/var/folders/7z/7q00pypj1_sf2clps66cxc9r0000gn/T/ipykernel_2964/2765107248.py:32: FutureWarning: Passing literal html to 'read_html' is deprecated and will be removed in a future version. To read from a literal string, wrap it in a 'StringIO' object.\n",
      "  df = pd.read_html(str(table))[0]\n",
      "/var/folders/7z/7q00pypj1_sf2clps66cxc9r0000gn/T/ipykernel_2964/2765107248.py:32: FutureWarning: Passing literal html to 'read_html' is deprecated and will be removed in a future version. To read from a literal string, wrap it in a 'StringIO' object.\n",
      "  df = pd.read_html(str(table))[0]\n",
      "/var/folders/7z/7q00pypj1_sf2clps66cxc9r0000gn/T/ipykernel_2964/2765107248.py:32: FutureWarning: Passing literal html to 'read_html' is deprecated and will be removed in a future version. To read from a literal string, wrap it in a 'StringIO' object.\n",
      "  df = pd.read_html(str(table))[0]\n",
      "/var/folders/7z/7q00pypj1_sf2clps66cxc9r0000gn/T/ipykernel_2964/2765107248.py:32: FutureWarning: Passing literal html to 'read_html' is deprecated and will be removed in a future version. To read from a literal string, wrap it in a 'StringIO' object.\n",
      "  df = pd.read_html(str(table))[0]\n",
      "/var/folders/7z/7q00pypj1_sf2clps66cxc9r0000gn/T/ipykernel_2964/2765107248.py:32: FutureWarning: Passing literal html to 'read_html' is deprecated and will be removed in a future version. To read from a literal string, wrap it in a 'StringIO' object.\n",
      "  df = pd.read_html(str(table))[0]\n",
      "/var/folders/7z/7q00pypj1_sf2clps66cxc9r0000gn/T/ipykernel_2964/2765107248.py:32: FutureWarning: Passing literal html to 'read_html' is deprecated and will be removed in a future version. To read from a literal string, wrap it in a 'StringIO' object.\n",
      "  df = pd.read_html(str(table))[0]\n",
      "/var/folders/7z/7q00pypj1_sf2clps66cxc9r0000gn/T/ipykernel_2964/2765107248.py:32: FutureWarning: Passing literal html to 'read_html' is deprecated and will be removed in a future version. To read from a literal string, wrap it in a 'StringIO' object.\n",
      "  df = pd.read_html(str(table))[0]\n"
     ]
    }
   ],
   "source": [
    "import requests\n",
    "from bs4 import BeautifulSoup\n",
    "import pandas as pd\n",
    "from datetime import datetime\n",
    "\n",
    "def nba_injuries(start_date=\"2020-01-01\", end_date=\"2023-01-01\", player=\"\", team=\"\"):\n",
    "    try:\n",
    "        player = player.replace(\" \", \"+\")\n",
    "        base_url = \"https://www.prosportstransactions.com/basketball/Search/SearchResults.php\"\n",
    "        css_selector = \".datatable\"\n",
    "        start = 0\n",
    "        all_pages_data = []\n",
    "\n",
    "        while True:\n",
    "            params = {\n",
    "                \"Player\": player,\n",
    "                \"Team\": team,\n",
    "                \"BeginDate\": start_date,\n",
    "                \"EndDate\": end_date,\n",
    "                \"ILChkBx\": \"yes\",\n",
    "                \"InjuriesChkBx\": \"yes\",\n",
    "                \"PersonalChkBx\": \"yes\",\n",
    "                \"Submit\": \"Search\",\n",
    "                \"start\": start\n",
    "            }\n",
    "\n",
    "            response = requests.get(base_url, params=params)\n",
    "            soup = BeautifulSoup(response.content, 'html.parser')\n",
    "            table = soup.select_one(css_selector)\n",
    "\n",
    "            if table:\n",
    "                df = pd.read_html(str(table))[0]\n",
    "                df.columns = df.iloc[0]  # Set the first row as column names\n",
    "                df = df[1:]  # Remove the first row\n",
    "                all_pages_data.append(df)\n",
    "\n",
    "                # Check for the 'Next' link - if it doesn't exist, break the loop\n",
    "                if not soup.find('a', text='Next'):\n",
    "                    break\n",
    "                \n",
    "                start += 25  # Update start for next page\n",
    "            else:\n",
    "                break\n",
    "\n",
    "        # Combine all pages data into one DataFrame\n",
    "        if all_pages_data:\n",
    "            final_df = pd.concat(all_pages_data, ignore_index=True)\n",
    "            final_df['Date'] = pd.to_datetime(final_df['Date'])\n",
    "            final_df['Acquired'] = final_df['Acquired'].str.replace(\"… \", \"\")\n",
    "            final_df['Relinquished'] = final_df['Relinquished'].str.replace(\"… \", \"\")\n",
    "            return final_df\n",
    "        else:\n",
    "            print(\"No data found for the given parameters.\")\n",
    "            return pd.DataFrame()  # Return empty DataFrame if no data found\n",
    "\n",
    "    except Exception as e:\n",
    "        print(f\"An error occurred: {e}\")\n",
    "        return pd.DataFrame()  # Return empty DataFrame in case of error\n",
    "\n",
    "# Example usage\n",
    "df = nba_injuries()\n"
   ]
  },
  {
   "cell_type": "code",
   "execution_count": null,
   "metadata": {},
   "outputs": [],
   "source": []
  },
  {
   "cell_type": "code",
   "execution_count": 199,
   "metadata": {},
   "outputs": [],
   "source": [
    "df.to_csv('out.csv', index=False) "
   ]
  },
  {
   "cell_type": "code",
   "execution_count": 200,
   "metadata": {},
   "outputs": [
    {
     "data": {
      "text/html": [
       "<div>\n",
       "<style scoped>\n",
       "    .dataframe tbody tr th:only-of-type {\n",
       "        vertical-align: middle;\n",
       "    }\n",
       "\n",
       "    .dataframe tbody tr th {\n",
       "        vertical-align: top;\n",
       "    }\n",
       "\n",
       "    .dataframe thead th {\n",
       "        text-align: right;\n",
       "    }\n",
       "</style>\n",
       "<table border=\"1\" class=\"dataframe\">\n",
       "  <thead>\n",
       "    <tr style=\"text-align: right;\">\n",
       "      <th></th>\n",
       "      <th>Player</th>\n",
       "      <th>Days Since Last Injury</th>\n",
       "      <th>List of Past Injuries</th>\n",
       "      <th>Got Injured</th>\n",
       "    </tr>\n",
       "  </thead>\n",
       "  <tbody>\n",
       "    <tr>\n",
       "      <th>0</th>\n",
       "      <td>• (James) Mike Scott</td>\n",
       "      <td>615</td>\n",
       "      <td>[placed on IL with sore right knee, placed on ...</td>\n",
       "      <td>0</td>\n",
       "    </tr>\n",
       "    <tr>\n",
       "      <th>1</th>\n",
       "      <td>• (Sean) Chris Smith</td>\n",
       "      <td>284</td>\n",
       "      <td>[surgery on left knee (out indefinitely), spra...</td>\n",
       "      <td>0</td>\n",
       "    </tr>\n",
       "    <tr>\n",
       "      <th>2</th>\n",
       "      <td>• A.J. Green</td>\n",
       "      <td>64</td>\n",
       "      <td>[placed on IL with fractured nose]</td>\n",
       "      <td>0</td>\n",
       "    </tr>\n",
       "    <tr>\n",
       "      <th>3</th>\n",
       "      <td>• Aaron Gordon</td>\n",
       "      <td>5</td>\n",
       "      <td>[placed on IL with right calf injury, placed o...</td>\n",
       "      <td>0</td>\n",
       "    </tr>\n",
       "    <tr>\n",
       "      <th>4</th>\n",
       "      <td>• Aaron Henry</td>\n",
       "      <td>367</td>\n",
       "      <td>[placed on IL, placed on IL, placed on IL, pla...</td>\n",
       "      <td>0</td>\n",
       "    </tr>\n",
       "    <tr>\n",
       "      <th>...</th>\n",
       "      <td>...</td>\n",
       "      <td>...</td>\n",
       "      <td>...</td>\n",
       "      <td>...</td>\n",
       "    </tr>\n",
       "    <tr>\n",
       "      <th>703</th>\n",
       "      <td>• Zhaire Smith</td>\n",
       "      <td>1057</td>\n",
       "      <td>[placed on IL with left knee injury (out for s...</td>\n",
       "      <td>1</td>\n",
       "    </tr>\n",
       "    <tr>\n",
       "      <th>704</th>\n",
       "      <td>• Ziaire Williams</td>\n",
       "      <td>74</td>\n",
       "      <td>[sore right wrist (DTD), placed on IL with sor...</td>\n",
       "      <td>1</td>\n",
       "    </tr>\n",
       "    <tr>\n",
       "      <th>705</th>\n",
       "      <td>• Zion Williamson</td>\n",
       "      <td>10</td>\n",
       "      <td>[sprained left ankle (DTD), placed on IL, plac...</td>\n",
       "      <td>0</td>\n",
       "    </tr>\n",
       "    <tr>\n",
       "      <th>706</th>\n",
       "      <td>• Zylan Cheatham</td>\n",
       "      <td>368</td>\n",
       "      <td>[placed on IL with NBA health and safety proto...</td>\n",
       "      <td>0</td>\n",
       "    </tr>\n",
       "    <tr>\n",
       "      <th>707</th>\n",
       "      <td>• left wrist injury (DTD)</td>\n",
       "      <td>735</td>\n",
       "      <td>[placed on IL with left wrist injury (DTD)]</td>\n",
       "      <td>1</td>\n",
       "    </tr>\n",
       "  </tbody>\n",
       "</table>\n",
       "<p>708 rows × 4 columns</p>\n",
       "</div>"
      ],
      "text/plain": [
       "                        Player  Days Since Last Injury  \\\n",
       "0         • (James) Mike Scott                     615   \n",
       "1         • (Sean) Chris Smith                     284   \n",
       "2                 • A.J. Green                      64   \n",
       "3               • Aaron Gordon                       5   \n",
       "4                • Aaron Henry                     367   \n",
       "..                         ...                     ...   \n",
       "703             • Zhaire Smith                    1057   \n",
       "704          • Ziaire Williams                      74   \n",
       "705          • Zion Williamson                      10   \n",
       "706           • Zylan Cheatham                     368   \n",
       "707  • left wrist injury (DTD)                     735   \n",
       "\n",
       "                                 List of Past Injuries  Got Injured  \n",
       "0    [placed on IL with sore right knee, placed on ...            0  \n",
       "1    [surgery on left knee (out indefinitely), spra...            0  \n",
       "2                   [placed on IL with fractured nose]            0  \n",
       "3    [placed on IL with right calf injury, placed o...            0  \n",
       "4    [placed on IL, placed on IL, placed on IL, pla...            0  \n",
       "..                                                 ...          ...  \n",
       "703  [placed on IL with left knee injury (out for s...            1  \n",
       "704  [sore right wrist (DTD), placed on IL with sor...            1  \n",
       "705  [sprained left ankle (DTD), placed on IL, plac...            0  \n",
       "706  [placed on IL with NBA health and safety proto...            0  \n",
       "707        [placed on IL with left wrist injury (DTD)]            1  \n",
       "\n",
       "[708 rows x 4 columns]"
      ]
     },
     "execution_count": 200,
     "metadata": {},
     "output_type": "execute_result"
    }
   ],
   "source": [
    "# Convert 'Date' column to datetime\n",
    "df['Date'] = pd.to_datetime(df['Date'])\n",
    "current_date = pd.to_datetime('2023-01-01')\n",
    "\n",
    "# Melt the DataFrame to unify 'Relinquished' and 'Acquired' under a single 'Player' column\n",
    "latest_dates = df.melt(id_vars='Date', value_vars=['Relinquished', 'Acquired'], var_name='Status', value_name='Player')\n",
    "latest_dates = latest_dates.dropna(subset=['Player']).sort_values(by='Date', ascending=False)\n",
    "latest_dates = latest_dates.drop_duplicates(subset=['Player'], keep='first')\n",
    "\n",
    "# Create a 'Got Injured' column: 1 if 'Relinquished', 0 if 'Acquired'\n",
    "latest_dates['Got Injured'] = (latest_dates['Status'] == 'Relinquished').astype(int)\n",
    "\n",
    "# Aggregate original data for players listed in 'Relinquished'\n",
    "grouped_df = df.dropna(subset=['Relinquished']).groupby('Relinquished').agg({\n",
    "    'Date': lambda x: (current_date - max(x)).days,\n",
    "    'Notes': lambda x: list(x.dropna())\n",
    "}).reset_index()\n",
    "\n",
    "# Merge the aggregated data with the latest_dates to include the 'Got Injured' status\n",
    "grouped_df = grouped_df.merge(latest_dates[['Player', 'Got Injured']], left_on='Relinquished', right_on='Player', how='left')\n",
    "\n",
    "# Rename columns for clarity and avoid deleting necessary columns\n",
    "grouped_df = grouped_df.rename(columns={'Relinquished': 'Player', 'Date': 'Days Since Last Injury', 'Notes': 'List of Past Injuries','Player':'DROP'})\n",
    "grouped_df.drop(columns = [\"DROP\"],inplace = True)\n",
    "grouped_df"
   ]
  },
  {
   "cell_type": "code",
   "execution_count": 201,
   "metadata": {},
   "outputs": [
    {
     "name": "stdout",
     "output_type": "stream",
     "text": [
      "                        Player  Days Since Last Injury  Got Injured  core  \\\n",
      "0         • (James) Mike Scott                     615            0     0   \n",
      "1         • (Sean) Chris Smith                     284            0     0   \n",
      "2                 • A.J. Green                      64            0     0   \n",
      "3               • Aaron Gordon                       5            0     0   \n",
      "4                • Aaron Henry                     367            0     0   \n",
      "..                         ...                     ...          ...   ...   \n",
      "703             • Zhaire Smith                    1057            1     0   \n",
      "704          • Ziaire Williams                      74            1     0   \n",
      "705          • Zion Williamson                      10            0     0   \n",
      "706           • Zylan Cheatham                     368            0     0   \n",
      "707  • left wrist injury (DTD)                     735            1     0   \n",
      "\n",
      "     upper body  ligament  foot  back  \n",
      "0             0         0     0     0  \n",
      "1             0         0     0     0  \n",
      "2             0         0     0     0  \n",
      "3             0         0     1     0  \n",
      "4             0         0     0     0  \n",
      "..          ...       ...   ...   ...  \n",
      "703           0         0     0     0  \n",
      "704           0         0     0     0  \n",
      "705           0         0     2     1  \n",
      "706           0         0     0     0  \n",
      "707           0         0     0     0  \n",
      "\n",
      "[708 rows x 8 columns]\n"
     ]
    }
   ],
   "source": [
    "injury_types = [\"core\", \"upper body\", \"ligament\", \"foot\", \"back\"]\n",
    "\n",
    "def filter_injury_types(injuries_list):\n",
    "    \"\"\"Filters a list of injuries to include only predefined injury types.\"\"\"\n",
    "    filtered_types = []\n",
    "    for injury in injuries_list:\n",
    "        for injury_type in injury_types:\n",
    "            if injury_type in injury.lower():\n",
    "                filtered_types.append(injury_type)\n",
    "    return filtered_types\n",
    "\n",
    "#grouped_df['Injury Types'] = grouped_df['List of Past Injuries'].apply(has_injury_type)\n",
    "\n",
    "# Apply the function to filter and extract relevant injury types\n",
    "grouped_df['Filtered Injuries'] = grouped_df['List of Past Injuries'].apply(filter_injury_types)\n",
    "\n",
    "# Explode the list of filtered injuries into separate rows\n",
    "exploded_df = grouped_df.explode('Filtered Injuries')\n",
    "\n",
    "# Create dummy variables for each injury type\n",
    "injury_dummies = pd.get_dummies(exploded_df['Filtered Injuries'])\n",
    "grouped_df = grouped_df.join(injury_dummies.groupby(level=0).sum())\n",
    "\n",
    "# Ensure all injury types are represented in the DataFrame\n",
    "for injury_type in injury_types:\n",
    "    if injury_type not in grouped_df.columns:\n",
    "        grouped_df[injury_type] = 0\n",
    "\n",
    "# Optionally, select only the injury type columns\n",
    "grouped_df = grouped_df[['Player', 'Days Since Last Injury',\"Got Injured\"] + injury_types]\n",
    "\n",
    "\n",
    "# Display the updated DataFrame\n",
    "print(grouped_df)"
   ]
  },
  {
   "cell_type": "code",
   "execution_count": 202,
   "metadata": {},
   "outputs": [
    {
     "data": {
      "text/html": [
       "<div>\n",
       "<style scoped>\n",
       "    .dataframe tbody tr th:only-of-type {\n",
       "        vertical-align: middle;\n",
       "    }\n",
       "\n",
       "    .dataframe tbody tr th {\n",
       "        vertical-align: top;\n",
       "    }\n",
       "\n",
       "    .dataframe thead th {\n",
       "        text-align: right;\n",
       "    }\n",
       "</style>\n",
       "<table border=\"1\" class=\"dataframe\">\n",
       "  <thead>\n",
       "    <tr style=\"text-align: right;\">\n",
       "      <th></th>\n",
       "      <th>Player</th>\n",
       "      <th>Days Since Last Injury</th>\n",
       "      <th>Got Injured</th>\n",
       "      <th>core</th>\n",
       "      <th>upper body</th>\n",
       "      <th>ligament</th>\n",
       "      <th>foot</th>\n",
       "      <th>back</th>\n",
       "    </tr>\n",
       "  </thead>\n",
       "  <tbody>\n",
       "    <tr>\n",
       "      <th>0</th>\n",
       "      <td>(James) Mike Scott</td>\n",
       "      <td>615</td>\n",
       "      <td>0</td>\n",
       "      <td>0</td>\n",
       "      <td>0</td>\n",
       "      <td>0</td>\n",
       "      <td>0</td>\n",
       "      <td>0</td>\n",
       "    </tr>\n",
       "    <tr>\n",
       "      <th>1</th>\n",
       "      <td>(Sean) Chris Smith</td>\n",
       "      <td>284</td>\n",
       "      <td>0</td>\n",
       "      <td>0</td>\n",
       "      <td>0</td>\n",
       "      <td>0</td>\n",
       "      <td>0</td>\n",
       "      <td>0</td>\n",
       "    </tr>\n",
       "    <tr>\n",
       "      <th>2</th>\n",
       "      <td>A.J. Green</td>\n",
       "      <td>64</td>\n",
       "      <td>0</td>\n",
       "      <td>0</td>\n",
       "      <td>0</td>\n",
       "      <td>0</td>\n",
       "      <td>0</td>\n",
       "      <td>0</td>\n",
       "    </tr>\n",
       "    <tr>\n",
       "      <th>3</th>\n",
       "      <td>Aaron Gordon</td>\n",
       "      <td>5</td>\n",
       "      <td>0</td>\n",
       "      <td>0</td>\n",
       "      <td>0</td>\n",
       "      <td>0</td>\n",
       "      <td>1</td>\n",
       "      <td>0</td>\n",
       "    </tr>\n",
       "    <tr>\n",
       "      <th>4</th>\n",
       "      <td>Aaron Henry</td>\n",
       "      <td>367</td>\n",
       "      <td>0</td>\n",
       "      <td>0</td>\n",
       "      <td>0</td>\n",
       "      <td>0</td>\n",
       "      <td>0</td>\n",
       "      <td>0</td>\n",
       "    </tr>\n",
       "  </tbody>\n",
       "</table>\n",
       "</div>"
      ],
      "text/plain": [
       "                Player  Days Since Last Injury  Got Injured  core  upper body  \\\n",
       "0   (James) Mike Scott                     615            0     0           0   \n",
       "1   (Sean) Chris Smith                     284            0     0           0   \n",
       "2           A.J. Green                      64            0     0           0   \n",
       "3         Aaron Gordon                       5            0     0           0   \n",
       "4          Aaron Henry                     367            0     0           0   \n",
       "\n",
       "   ligament  foot  back  \n",
       "0         0     0     0  \n",
       "1         0     0     0  \n",
       "2         0     0     0  \n",
       "3         0     1     0  \n",
       "4         0     0     0  "
      ]
     },
     "execution_count": 202,
     "metadata": {},
     "output_type": "execute_result"
    }
   ],
   "source": [
    "grouped_df['Player'] = grouped_df['Player'].str.replace('•', '')\n",
    "#grouped_df[\"Got Injured\"] = grouped_df['Days Since Last Injury'] <= 3\n",
    "#grouped_df[\"Got Injured\"] = grouped_df[\"Got Injured\"].astype(int)\n",
    "grouped_df.head()"
   ]
  },
  {
   "cell_type": "code",
   "execution_count": 210,
   "metadata": {},
   "outputs": [
    {
     "name": "stdout",
     "output_type": "stream",
     "text": [
      "Failed to retrieve the web page. Status code: 429\n",
      "Rate limit reached, retrying after 2039 seconds\n"
     ]
    },
    {
     "ename": "KeyboardInterrupt",
     "evalue": "",
     "output_type": "error",
     "traceback": [
      "\u001b[0;31m---------------------------------------------------------------------------\u001b[0m",
      "\u001b[0;31mKeyboardInterrupt\u001b[0m                         Traceback (most recent call last)",
      "\u001b[0;32m/var/folders/7z/7q00pypj1_sf2clps66cxc9r0000gn/T/ipykernel_2964/1753532913.py\u001b[0m in \u001b[0;36m<module>\u001b[0;34m\u001b[0m\n\u001b[1;32m     50\u001b[0m \u001b[0;31m# Example usage\u001b[0m\u001b[0;34m\u001b[0m\u001b[0;34m\u001b[0m\u001b[0m\n\u001b[1;32m     51\u001b[0m \u001b[0mplayer_url\u001b[0m \u001b[0;34m=\u001b[0m \u001b[0;34m\"https://www.basketball-reference.com/players/g/greenje02.html\"\u001b[0m\u001b[0;34m\u001b[0m\u001b[0;34m\u001b[0m\u001b[0m\n\u001b[0;32m---> 52\u001b[0;31m \u001b[0mlast_5_games_df\u001b[0m \u001b[0;34m=\u001b[0m \u001b[0mfetch_last_5_games_data\u001b[0m\u001b[0;34m(\u001b[0m\u001b[0mplayer_url\u001b[0m\u001b[0;34m)\u001b[0m\u001b[0;34m\u001b[0m\u001b[0;34m\u001b[0m\u001b[0m\n\u001b[0m\u001b[1;32m     53\u001b[0m \u001b[0mprint\u001b[0m\u001b[0;34m(\u001b[0m\u001b[0mlast_5_games_df\u001b[0m\u001b[0;34m)\u001b[0m\u001b[0;34m\u001b[0m\u001b[0;34m\u001b[0m\u001b[0m\n\u001b[1;32m     54\u001b[0m \u001b[0;34m\u001b[0m\u001b[0m\n",
      "\u001b[0;32m/var/folders/7z/7q00pypj1_sf2clps66cxc9r0000gn/T/ipykernel_2964/1753532913.py\u001b[0m in \u001b[0;36mfetch_last_5_games_data\u001b[0;34m(player_url)\u001b[0m\n\u001b[1;32m     11\u001b[0m             \u001b[0mretry_after\u001b[0m \u001b[0;34m=\u001b[0m \u001b[0mint\u001b[0m\u001b[0;34m(\u001b[0m\u001b[0mresponse\u001b[0m\u001b[0;34m.\u001b[0m\u001b[0mheaders\u001b[0m\u001b[0;34m.\u001b[0m\u001b[0mget\u001b[0m\u001b[0;34m(\u001b[0m\u001b[0;34m\"Retry-After\"\u001b[0m\u001b[0;34m,\u001b[0m \u001b[0;36m10\u001b[0m\u001b[0;34m)\u001b[0m\u001b[0;34m)\u001b[0m  \u001b[0;31m# Default to 30 seconds if header is missing\u001b[0m\u001b[0;34m\u001b[0m\u001b[0;34m\u001b[0m\u001b[0m\n\u001b[1;32m     12\u001b[0m             \u001b[0mprint\u001b[0m\u001b[0;34m(\u001b[0m\u001b[0;34mf\"Rate limit reached, retrying after {retry_after} seconds\"\u001b[0m\u001b[0;34m)\u001b[0m\u001b[0;34m\u001b[0m\u001b[0;34m\u001b[0m\u001b[0m\n\u001b[0;32m---> 13\u001b[0;31m             \u001b[0mtime\u001b[0m\u001b[0;34m.\u001b[0m\u001b[0msleep\u001b[0m\u001b[0;34m(\u001b[0m\u001b[0mretry_after\u001b[0m\u001b[0;34m)\u001b[0m\u001b[0;34m\u001b[0m\u001b[0;34m\u001b[0m\u001b[0m\n\u001b[0m\u001b[1;32m     14\u001b[0m             \u001b[0mprint\u001b[0m\u001b[0;34m(\u001b[0m\u001b[0;34m\"Timer:\"\u001b[0m\u001b[0;34m,\u001b[0m \u001b[0mretry_after\u001b[0m\u001b[0;34m)\u001b[0m\u001b[0;34m\u001b[0m\u001b[0;34m\u001b[0m\u001b[0m\n\u001b[1;32m     15\u001b[0m         \u001b[0;32mreturn\u001b[0m \u001b[0;32mNone\u001b[0m\u001b[0;34m\u001b[0m\u001b[0;34m\u001b[0m\u001b[0m\n",
      "\u001b[0;31mKeyboardInterrupt\u001b[0m: "
     ]
    }
   ],
   "source": [
    "import requests\n",
    "from bs4 import BeautifulSoup\n",
    "import pandas as pd\n",
    "import time\n",
    "\n",
    "def fetch_last_5_games_data(player_url):\n",
    "    response = requests.get(player_url)\n",
    "    if response.status_code != 200:\n",
    "        print(f\"Failed to retrieve the web page. Status code: {response.status_code}\")\n",
    "        return None\n",
    "    if response.status_code == 429:\n",
    "            retry_after = int(response.headers.get(\"Retry-After\", 10))  # Default to 30 seconds if header is missing\n",
    "            print(f\"Rate limit reached, retrying after {retry_after} seconds\")\n",
    "            print(\"Timer:\", retry_after)\n",
    "            time.sleep(retry_after)\n",
    "            \n",
    "\n",
    "    # Parse the HTML content\n",
    "    soup = BeautifulSoup(response.content, 'html.parser')\n",
    "\n",
    "    # Find the div containing the last 5 games data\n",
    "    last5_div = soup.find('div', id='all_last5')\n",
    "    if not last5_div:\n",
    "        print(\"Last 5 games div not found.\")\n",
    "        return None\n",
    "\n",
    "    # The table might be directly inside the div\n",
    "    table = last5_div.find('table')\n",
    "    if not table:\n",
    "        print(\"Last 5 games table not found.\")\n",
    "        return None\n",
    "\n",
    "    # Parse the table with pandas\n",
    "    df = pd.read_html(str(table))[0]\n",
    "    \n",
    "    # Clean and process the DataFrame to have the desired columns\n",
    "    \n",
    "    df['GameLocation'] = df.apply(lambda row: row['Opp'].replace('@', '').strip() \n",
    "                                  if '@' in row['Opp'] else row['Team'], axis=1)\n",
    "\n",
    "    # Clean the 'MP' column, which represents minutes played\n",
    "    df['MP'] = df['MP']\n",
    "\n",
    "    # Select and rename the relevant columns\n",
    "    relevant_data = df[['Date', 'MP', 'GameLocation']].rename(columns={\n",
    "        'MP': 'TimePlayed'\n",
    "    })\n",
    "\n",
    "    return relevant_data\n",
    "\n",
    "# Example usage\n",
    "player_url = \"https://www.basketball-reference.com/players/g/greenje02.html\"\n",
    "last_5_games_df = fetch_last_5_games_data(player_url)\n",
    "print(last_5_games_df)\n",
    "\n"
   ]
  },
  {
   "cell_type": "code",
   "execution_count": 204,
   "metadata": {},
   "outputs": [
    {
     "name": "stdout",
     "output_type": "stream",
     "text": [
      "Player page URL: https://www.basketball-reference.com/players/j/jamesle01.html\n"
     ]
    }
   ],
   "source": [
    "import requests\n",
    "from bs4 import BeautifulSoup\n",
    "\n",
    "def search_for_player_page(player_name):\n",
    "    # Encode the player's name for use in a URL\n",
    "    query = player_name.replace(' ', '+')\n",
    "\n",
    "    # The base URL for the basketball-reference search\n",
    "    search_url = f'https://www.basketball-reference.com/search/search.fcgi?search={query}'\n",
    "    \n",
    "    # Perform the search request\n",
    "    response = requests.get(search_url)\n",
    "    \n",
    "    # If the response URL is a player page, return it directly\n",
    "    if 'players' in response.url:\n",
    "        return response.url\n",
    "    \n",
    "    if response.status_code != 200:\n",
    "        print(f\"Failed to retrieve the search page. Status code: {response.status_code}\")\n",
    "        return None\n",
    "\n",
    "    # Parse the search results page to find links\n",
    "    soup = BeautifulSoup(response.content, 'html.parser')\n",
    "    \n",
    "    # Look for the div that contains the search results\n",
    "    search_results = soup.find('div', id='players')\n",
    "    \n",
    "    if search_results:\n",
    "        # Attempt to find an anchor element within the search results\n",
    "        player_link = search_results.find('a')\n",
    "        \n",
    "        if player_link and 'href' in player_link.attrs:\n",
    "            # Construct the full URL to the player's page\n",
    "            player_page_url = 'https://www.basketball-reference.com' + player_link['href']\n",
    "            return player_page_url\n",
    "        else:\n",
    "            print(\"No player link found in the search results.\")\n",
    "            return None\n",
    "    else:\n",
    "        print(\"No search results found for the player.\")\n",
    "        return None\n",
    "\n",
    "# Example usage\n",
    "player_name = \"LeBron James\"\n",
    "player_page_url = search_for_player_page(player_name)\n",
    "print(f\"Player page URL: {player_page_url}\")"
   ]
  },
  {
   "cell_type": "code",
   "execution_count": 205,
   "metadata": {},
   "outputs": [
    {
     "name": "stdout",
     "output_type": "stream",
     "text": [
      "{'Name': 'LeBron James', 'Position': 'Small Forward', 'Height': 206, 'Weight': 250, 'Age': 39, 'Experience': 20}\n",
      "<class 'dict'>\n"
     ]
    }
   ],
   "source": [
    "import requests\n",
    "from bs4 import BeautifulSoup\n",
    "from datetime import datetime\n",
    "import re\n",
    "\n",
    "def fetch_player_info(player_url):\n",
    "    response = requests.get(player_url)\n",
    "    if response.status_code != 200:\n",
    "        return f\"Failed to retrieve the web page. Status code: {response.status_code}\"\n",
    "\n",
    "    # Parse the HTML content\n",
    "    soup = BeautifulSoup(response.content, 'html.parser')\n",
    "\n",
    "    # Extracting the player's name from the <h1> tag\n",
    "    player_name = soup.select_one('.players h1').text.strip() if soup.select_one('.players h1') else \"Unknown\"\n",
    "\n",
    "    # Extracting the position, height, weight, and birth date from the player's meta information\n",
    "    meta_info = soup.find('div', id='meta')\n",
    "\n",
    "    # Position\n",
    "    # Position\n",
    "    position_tag = meta_info.find('strong', text=lambda x: x and 'Position:' in x)\n",
    "    position = position_tag.next_sibling.strip() if position_tag and position_tag.next_sibling else \"Unknown\"\n",
    "\n",
    "\n",
    "    # Height and Weight\n",
    "    \n",
    "    height_weight_text = meta_info.find('span', text=lambda x: x and 'lb' in x)\n",
    "    height = height_weight_text.next_sibling.strip() if height_weight_text else \"Unknown\"\n",
    "    weight = height_weight_text.text.strip() if height_weight_text else \"Unknown\"\n",
    "    \n",
    "    # Birth date for age calculation\n",
    "    birth_date_tag = meta_info.find('span', id='necro-birth')\n",
    "    birth_date_str = birth_date_tag['data-birth'] if birth_date_tag else \"Unknown\"\n",
    "\n",
    "    if birth_date_str != \"Unknown\":\n",
    "        birth_date = datetime.strptime(birth_date_str, '%Y-%m-%d').date()\n",
    "        today = datetime.now().date()\n",
    "        age = today.year - birth_date.year - ((today.month, today.day) < (birth_date.month, birth_date.day))\n",
    "    else:\n",
    "        age = \"Unknown\"\n",
    "\n",
    "    # Weight\n",
    "    weight_match = re.search(r\"\\d+\", weight)\n",
    "    weight = int(weight_match.group()) if weight_match else \"Unknown\"\n",
    "\n",
    "    # Experience\n",
    "    experience = meta_info.find('strong', text='Experience:').next_sibling.strip() if meta_info.find('strong', text='Experience:') else \"Unknown\"\n",
    "    experience_match = re.search(r\"\\d+\", experience)\n",
    "    experience = int(experience_match.group()) if experience_match else \"Unknown\"\n",
    "\n",
    "    player_data = {\n",
    "        'Name': player_name,\n",
    "        'Position': position.split(\",\")[0],\n",
    "        'Height': int(re.search(r\"(\\d+)cm\", height).group(1)),\n",
    "        'Weight': weight,\n",
    "        'Age': age,\n",
    "        'Experience': experience\n",
    "    }\n",
    "\n",
    "    return player_data\n",
    "\n",
    "# Example usage\n",
    "player_url = \"https://www.basketball-reference.com/players/j/jamesle01.html\"\n",
    "player_info = fetch_player_info(player_url)\n",
    "print(player_info)\n",
    "print(type(player_info))\n"
   ]
  },
  {
   "cell_type": "markdown",
   "metadata": {},
   "source": []
  },
  {
   "cell_type": "code",
   "execution_count": 212,
   "metadata": {},
   "outputs": [
    {
     "name": "stdout",
     "output_type": "stream",
     "text": [
      "Processing  (James) Mike Scott\n",
      "No search results found for the player.\n",
      "Processing  (Sean) Chris Smith\n",
      "No search results found for the player.\n",
      "Processing  A.J. Green\n"
     ]
    },
    {
     "name": "stderr",
     "output_type": "stream",
     "text": [
      "/var/folders/7z/7q00pypj1_sf2clps66cxc9r0000gn/T/ipykernel_2964/1753532913.py:33: FutureWarning: Passing literal html to 'read_html' is deprecated and will be removed in a future version. To read from a literal string, wrap it in a 'StringIO' object.\n",
      "  df = pd.read_html(str(table))[0]\n"
     ]
    },
    {
     "name": "stdout",
     "output_type": "stream",
     "text": [
      "Processing  Aaron Gordon\n"
     ]
    },
    {
     "name": "stderr",
     "output_type": "stream",
     "text": [
      "/var/folders/7z/7q00pypj1_sf2clps66cxc9r0000gn/T/ipykernel_2964/1753532913.py:33: FutureWarning: Passing literal html to 'read_html' is deprecated and will be removed in a future version. To read from a literal string, wrap it in a 'StringIO' object.\n",
      "  df = pd.read_html(str(table))[0]\n"
     ]
    },
    {
     "name": "stdout",
     "output_type": "stream",
     "text": [
      "Processing  Aaron Henry\n",
      "Last 5 games div not found.\n",
      "Processing  Aaron Holiday\n"
     ]
    },
    {
     "name": "stderr",
     "output_type": "stream",
     "text": [
      "/var/folders/7z/7q00pypj1_sf2clps66cxc9r0000gn/T/ipykernel_2964/1753532913.py:33: FutureWarning: Passing literal html to 'read_html' is deprecated and will be removed in a future version. To read from a literal string, wrap it in a 'StringIO' object.\n",
      "  df = pd.read_html(str(table))[0]\n"
     ]
    },
    {
     "name": "stdout",
     "output_type": "stream",
     "text": [
      "Processing  Aaron Nesmith\n"
     ]
    },
    {
     "name": "stderr",
     "output_type": "stream",
     "text": [
      "/var/folders/7z/7q00pypj1_sf2clps66cxc9r0000gn/T/ipykernel_2964/1753532913.py:33: FutureWarning: Passing literal html to 'read_html' is deprecated and will be removed in a future version. To read from a literal string, wrap it in a 'StringIO' object.\n",
      "  df = pd.read_html(str(table))[0]\n"
     ]
    },
    {
     "name": "stdout",
     "output_type": "stream",
     "text": [
      "Processing  Aaron Wiggins\n"
     ]
    },
    {
     "name": "stderr",
     "output_type": "stream",
     "text": [
      "/var/folders/7z/7q00pypj1_sf2clps66cxc9r0000gn/T/ipykernel_2964/1753532913.py:33: FutureWarning: Passing literal html to 'read_html' is deprecated and will be removed in a future version. To read from a literal string, wrap it in a 'StringIO' object.\n",
      "  df = pd.read_html(str(table))[0]\n"
     ]
    },
    {
     "name": "stdout",
     "output_type": "stream",
     "text": [
      "Processing  Abdel Nader\n",
      "Last 5 games div not found.\n",
      "Processing  Adam Mokoka\n",
      "Last 5 games div not found.\n",
      "Processing  Admiral Schofield\n"
     ]
    },
    {
     "name": "stderr",
     "output_type": "stream",
     "text": [
      "/var/folders/7z/7q00pypj1_sf2clps66cxc9r0000gn/T/ipykernel_2964/1753532913.py:33: FutureWarning: Passing literal html to 'read_html' is deprecated and will be removed in a future version. To read from a literal string, wrap it in a 'StringIO' object.\n",
      "  df = pd.read_html(str(table))[0]\n"
     ]
    },
    {
     "name": "stdout",
     "output_type": "stream",
     "text": [
      "Processing  Al Horford\n"
     ]
    },
    {
     "name": "stderr",
     "output_type": "stream",
     "text": [
      "/var/folders/7z/7q00pypj1_sf2clps66cxc9r0000gn/T/ipykernel_2964/1753532913.py:33: FutureWarning: Passing literal html to 'read_html' is deprecated and will be removed in a future version. To read from a literal string, wrap it in a 'StringIO' object.\n",
      "  df = pd.read_html(str(table))[0]\n"
     ]
    },
    {
     "name": "stdout",
     "output_type": "stream",
     "text": [
      "Processing  Al-Farouq Aminu\n",
      "Last 5 games div not found.\n",
      "Processing  Alec Burks\n"
     ]
    },
    {
     "name": "stderr",
     "output_type": "stream",
     "text": [
      "/var/folders/7z/7q00pypj1_sf2clps66cxc9r0000gn/T/ipykernel_2964/1753532913.py:33: FutureWarning: Passing literal html to 'read_html' is deprecated and will be removed in a future version. To read from a literal string, wrap it in a 'StringIO' object.\n",
      "  df = pd.read_html(str(table))[0]\n"
     ]
    },
    {
     "name": "stdout",
     "output_type": "stream",
     "text": [
      "Processing  Aleksej Pokusevski\n"
     ]
    },
    {
     "name": "stderr",
     "output_type": "stream",
     "text": [
      "/var/folders/7z/7q00pypj1_sf2clps66cxc9r0000gn/T/ipykernel_2964/1753532913.py:33: FutureWarning: Passing literal html to 'read_html' is deprecated and will be removed in a future version. To read from a literal string, wrap it in a 'StringIO' object.\n",
      "  df = pd.read_html(str(table))[0]\n"
     ]
    },
    {
     "name": "stdout",
     "output_type": "stream",
     "text": [
      "Processing  Alen Smailagic\n",
      "Last 5 games div not found.\n",
      "Processing  Alex Caruso\n"
     ]
    },
    {
     "name": "stderr",
     "output_type": "stream",
     "text": [
      "/var/folders/7z/7q00pypj1_sf2clps66cxc9r0000gn/T/ipykernel_2964/1753532913.py:33: FutureWarning: Passing literal html to 'read_html' is deprecated and will be removed in a future version. To read from a literal string, wrap it in a 'StringIO' object.\n",
      "  df = pd.read_html(str(table))[0]\n"
     ]
    },
    {
     "name": "stdout",
     "output_type": "stream",
     "text": [
      "Processing  Alex Len\n"
     ]
    },
    {
     "name": "stderr",
     "output_type": "stream",
     "text": [
      "/var/folders/7z/7q00pypj1_sf2clps66cxc9r0000gn/T/ipykernel_2964/1753532913.py:33: FutureWarning: Passing literal html to 'read_html' is deprecated and will be removed in a future version. To read from a literal string, wrap it in a 'StringIO' object.\n",
      "  df = pd.read_html(str(table))[0]\n"
     ]
    },
    {
     "name": "stdout",
     "output_type": "stream",
     "text": [
      "Processing  Alfonzo McKinnie\n",
      "Last 5 games div not found.\n",
      "Processing  Alize Johnson\n",
      "Last 5 games div not found.\n",
      "Processing  Allen Crabbe\n",
      "Last 5 games div not found.\n",
      "Processing  Allonzo Trier\n",
      "Last 5 games div not found.\n",
      "Processing  Alondes Williams\n"
     ]
    },
    {
     "name": "stderr",
     "output_type": "stream",
     "text": [
      "/var/folders/7z/7q00pypj1_sf2clps66cxc9r0000gn/T/ipykernel_2964/1753532913.py:33: FutureWarning: Passing literal html to 'read_html' is deprecated and will be removed in a future version. To read from a literal string, wrap it in a 'StringIO' object.\n",
      "  df = pd.read_html(str(table))[0]\n"
     ]
    },
    {
     "name": "stdout",
     "output_type": "stream",
     "text": [
      "Processing  Alperen Sengun\n"
     ]
    },
    {
     "name": "stderr",
     "output_type": "stream",
     "text": [
      "/var/folders/7z/7q00pypj1_sf2clps66cxc9r0000gn/T/ipykernel_2964/1753532913.py:33: FutureWarning: Passing literal html to 'read_html' is deprecated and will be removed in a future version. To read from a literal string, wrap it in a 'StringIO' object.\n",
      "  df = pd.read_html(str(table))[0]\n"
     ]
    },
    {
     "name": "stdout",
     "output_type": "stream",
     "text": [
      "Processing  Amir Coffey\n"
     ]
    },
    {
     "name": "stderr",
     "output_type": "stream",
     "text": [
      "/var/folders/7z/7q00pypj1_sf2clps66cxc9r0000gn/T/ipykernel_2964/1753532913.py:33: FutureWarning: Passing literal html to 'read_html' is deprecated and will be removed in a future version. To read from a literal string, wrap it in a 'StringIO' object.\n",
      "  df = pd.read_html(str(table))[0]\n"
     ]
    },
    {
     "name": "stdout",
     "output_type": "stream",
     "text": [
      "Processing  Andre Drummond\n"
     ]
    },
    {
     "name": "stderr",
     "output_type": "stream",
     "text": [
      "/var/folders/7z/7q00pypj1_sf2clps66cxc9r0000gn/T/ipykernel_2964/1753532913.py:33: FutureWarning: Passing literal html to 'read_html' is deprecated and will be removed in a future version. To read from a literal string, wrap it in a 'StringIO' object.\n",
      "  df = pd.read_html(str(table))[0]\n"
     ]
    },
    {
     "name": "stdout",
     "output_type": "stream",
     "text": [
      "Processing  Andre Iguodala\n",
      "Last 5 games div not found.\n",
      "Processing  Andre Roberson\n",
      "Last 5 games div not found.\n",
      "Processing  Andrew Nembhard\n"
     ]
    },
    {
     "name": "stderr",
     "output_type": "stream",
     "text": [
      "/var/folders/7z/7q00pypj1_sf2clps66cxc9r0000gn/T/ipykernel_2964/1753532913.py:33: FutureWarning: Passing literal html to 'read_html' is deprecated and will be removed in a future version. To read from a literal string, wrap it in a 'StringIO' object.\n",
      "  df = pd.read_html(str(table))[0]\n"
     ]
    },
    {
     "name": "stdout",
     "output_type": "stream",
     "text": [
      "Processing  Andrew Wiggins\n"
     ]
    },
    {
     "name": "stderr",
     "output_type": "stream",
     "text": [
      "/var/folders/7z/7q00pypj1_sf2clps66cxc9r0000gn/T/ipykernel_2964/1753532913.py:33: FutureWarning: Passing literal html to 'read_html' is deprecated and will be removed in a future version. To read from a literal string, wrap it in a 'StringIO' object.\n",
      "  df = pd.read_html(str(table))[0]\n"
     ]
    },
    {
     "name": "stdout",
     "output_type": "stream",
     "text": [
      "Processing  Anfernee Simons\n"
     ]
    },
    {
     "name": "stderr",
     "output_type": "stream",
     "text": [
      "/var/folders/7z/7q00pypj1_sf2clps66cxc9r0000gn/T/ipykernel_2964/1753532913.py:33: FutureWarning: Passing literal html to 'read_html' is deprecated and will be removed in a future version. To read from a literal string, wrap it in a 'StringIO' object.\n",
      "  df = pd.read_html(str(table))[0]\n"
     ]
    },
    {
     "name": "stdout",
     "output_type": "stream",
     "text": [
      "Processing  Ante Zizic\n",
      "Last 5 games div not found.\n",
      "Processing  Anthony Davis\n"
     ]
    },
    {
     "name": "stderr",
     "output_type": "stream",
     "text": [
      "/var/folders/7z/7q00pypj1_sf2clps66cxc9r0000gn/T/ipykernel_2964/1753532913.py:33: FutureWarning: Passing literal html to 'read_html' is deprecated and will be removed in a future version. To read from a literal string, wrap it in a 'StringIO' object.\n",
      "  df = pd.read_html(str(table))[0]\n"
     ]
    },
    {
     "name": "stdout",
     "output_type": "stream",
     "text": [
      "Processing  Anthony Edwards\n"
     ]
    },
    {
     "name": "stderr",
     "output_type": "stream",
     "text": [
      "/var/folders/7z/7q00pypj1_sf2clps66cxc9r0000gn/T/ipykernel_2964/1753532913.py:33: FutureWarning: Passing literal html to 'read_html' is deprecated and will be removed in a future version. To read from a literal string, wrap it in a 'StringIO' object.\n",
      "  df = pd.read_html(str(table))[0]\n"
     ]
    },
    {
     "name": "stdout",
     "output_type": "stream",
     "text": [
      "Processing  Anthony Gill\n"
     ]
    },
    {
     "name": "stderr",
     "output_type": "stream",
     "text": [
      "/var/folders/7z/7q00pypj1_sf2clps66cxc9r0000gn/T/ipykernel_2964/1753532913.py:33: FutureWarning: Passing literal html to 'read_html' is deprecated and will be removed in a future version. To read from a literal string, wrap it in a 'StringIO' object.\n",
      "  df = pd.read_html(str(table))[0]\n"
     ]
    },
    {
     "name": "stdout",
     "output_type": "stream",
     "text": [
      "Processing  Anthony Lamb\n",
      "Last 5 games div not found.\n",
      "Processing  Anthony Tolliver\n",
      "Last 5 games div not found.\n",
      "Processing  Anzejs Pasecniks\n",
      "Last 5 games div not found.\n",
      "Processing  Armoni Brooks\n"
     ]
    },
    {
     "name": "stderr",
     "output_type": "stream",
     "text": [
      "/var/folders/7z/7q00pypj1_sf2clps66cxc9r0000gn/T/ipykernel_2964/1753532913.py:33: FutureWarning: Passing literal html to 'read_html' is deprecated and will be removed in a future version. To read from a literal string, wrap it in a 'StringIO' object.\n",
      "  df = pd.read_html(str(table))[0]\n"
     ]
    },
    {
     "name": "stdout",
     "output_type": "stream",
     "text": [
      "Processing  Aron Baynes\n",
      "Last 5 games div not found.\n",
      "Processing  Austin Reaves\n"
     ]
    },
    {
     "name": "stderr",
     "output_type": "stream",
     "text": [
      "/var/folders/7z/7q00pypj1_sf2clps66cxc9r0000gn/T/ipykernel_2964/1753532913.py:33: FutureWarning: Passing literal html to 'read_html' is deprecated and will be removed in a future version. To read from a literal string, wrap it in a 'StringIO' object.\n",
      "  df = pd.read_html(str(table))[0]\n"
     ]
    },
    {
     "name": "stdout",
     "output_type": "stream",
     "text": [
      "Processing  Austin Rivers\n",
      "Last 5 games div not found.\n",
      "Processing  Avery Bradley\n",
      "Last 5 games div not found.\n",
      "Processing  Axel Toupane\n",
      "Last 5 games div not found.\n",
      "Processing  Ayo Dosunmu\n"
     ]
    },
    {
     "name": "stderr",
     "output_type": "stream",
     "text": [
      "/var/folders/7z/7q00pypj1_sf2clps66cxc9r0000gn/T/ipykernel_2964/1753532913.py:33: FutureWarning: Passing literal html to 'read_html' is deprecated and will be removed in a future version. To read from a literal string, wrap it in a 'StringIO' object.\n",
      "  df = pd.read_html(str(table))[0]\n"
     ]
    },
    {
     "name": "stdout",
     "output_type": "stream",
     "text": [
      "Processing  B.J. Johnson\n",
      "Last 5 games div not found.\n",
      "Processing  Ben McLemore\n",
      "Last 5 games div not found.\n",
      "Processing  Ben Simmons\n"
     ]
    },
    {
     "name": "stderr",
     "output_type": "stream",
     "text": [
      "/var/folders/7z/7q00pypj1_sf2clps66cxc9r0000gn/T/ipykernel_2964/1753532913.py:33: FutureWarning: Passing literal html to 'read_html' is deprecated and will be removed in a future version. To read from a literal string, wrap it in a 'StringIO' object.\n",
      "  df = pd.read_html(str(table))[0]\n"
     ]
    },
    {
     "name": "stdout",
     "output_type": "stream",
     "text": [
      "Processing  Blake Griffin\n",
      "Last 5 games div not found.\n",
      "Processing  Blake Wesley\n"
     ]
    },
    {
     "name": "stderr",
     "output_type": "stream",
     "text": [
      "/var/folders/7z/7q00pypj1_sf2clps66cxc9r0000gn/T/ipykernel_2964/1753532913.py:33: FutureWarning: Passing literal html to 'read_html' is deprecated and will be removed in a future version. To read from a literal string, wrap it in a 'StringIO' object.\n",
      "  df = pd.read_html(str(table))[0]\n"
     ]
    },
    {
     "name": "stdout",
     "output_type": "stream",
     "text": [
      "Processing  Boban Marjanovic\n"
     ]
    },
    {
     "name": "stderr",
     "output_type": "stream",
     "text": [
      "/var/folders/7z/7q00pypj1_sf2clps66cxc9r0000gn/T/ipykernel_2964/1753532913.py:33: FutureWarning: Passing literal html to 'read_html' is deprecated and will be removed in a future version. To read from a literal string, wrap it in a 'StringIO' object.\n",
      "  df = pd.read_html(str(table))[0]\n"
     ]
    },
    {
     "name": "stdout",
     "output_type": "stream",
     "text": [
      "Processing  Bobby Portis\n"
     ]
    },
    {
     "name": "stderr",
     "output_type": "stream",
     "text": [
      "/var/folders/7z/7q00pypj1_sf2clps66cxc9r0000gn/T/ipykernel_2964/1753532913.py:33: FutureWarning: Passing literal html to 'read_html' is deprecated and will be removed in a future version. To read from a literal string, wrap it in a 'StringIO' object.\n",
      "  df = pd.read_html(str(table))[0]\n"
     ]
    },
    {
     "name": "stdout",
     "output_type": "stream",
     "text": [
      "Processing  Bogdan Bogdanovic\n"
     ]
    },
    {
     "name": "stderr",
     "output_type": "stream",
     "text": [
      "/var/folders/7z/7q00pypj1_sf2clps66cxc9r0000gn/T/ipykernel_2964/1753532913.py:33: FutureWarning: Passing literal html to 'read_html' is deprecated and will be removed in a future version. To read from a literal string, wrap it in a 'StringIO' object.\n",
      "  df = pd.read_html(str(table))[0]\n"
     ]
    },
    {
     "name": "stdout",
     "output_type": "stream",
     "text": [
      "Processing  Bojan Bogdanovic\n"
     ]
    },
    {
     "name": "stderr",
     "output_type": "stream",
     "text": [
      "/var/folders/7z/7q00pypj1_sf2clps66cxc9r0000gn/T/ipykernel_2964/1753532913.py:33: FutureWarning: Passing literal html to 'read_html' is deprecated and will be removed in a future version. To read from a literal string, wrap it in a 'StringIO' object.\n",
      "  df = pd.read_html(str(table))[0]\n"
     ]
    },
    {
     "name": "stdout",
     "output_type": "stream",
     "text": [
      "Processing  Bol Bol\n",
      "Last 5 games div not found.\n",
      "Processing  Brad Wanamaker\n",
      "Last 5 games div not found.\n",
      "Processing  Bradley Beal\n"
     ]
    },
    {
     "name": "stderr",
     "output_type": "stream",
     "text": [
      "/var/folders/7z/7q00pypj1_sf2clps66cxc9r0000gn/T/ipykernel_2964/1753532913.py:33: FutureWarning: Passing literal html to 'read_html' is deprecated and will be removed in a future version. To read from a literal string, wrap it in a 'StringIO' object.\n",
      "  df = pd.read_html(str(table))[0]\n"
     ]
    },
    {
     "name": "stdout",
     "output_type": "stream",
     "text": [
      "Processing  Brandon Boston Jr. / B.J. Boston Jr.\n"
     ]
    },
    {
     "name": "stderr",
     "output_type": "stream",
     "text": [
      "/var/folders/7z/7q00pypj1_sf2clps66cxc9r0000gn/T/ipykernel_2964/1753532913.py:33: FutureWarning: Passing literal html to 'read_html' is deprecated and will be removed in a future version. To read from a literal string, wrap it in a 'StringIO' object.\n",
      "  df = pd.read_html(str(table))[0]\n"
     ]
    },
    {
     "name": "stdout",
     "output_type": "stream",
     "text": [
      "Processing  Brandon Clarke\n"
     ]
    },
    {
     "name": "stderr",
     "output_type": "stream",
     "text": [
      "/var/folders/7z/7q00pypj1_sf2clps66cxc9r0000gn/T/ipykernel_2964/1753532913.py:33: FutureWarning: Passing literal html to 'read_html' is deprecated and will be removed in a future version. To read from a literal string, wrap it in a 'StringIO' object.\n",
      "  df = pd.read_html(str(table))[0]\n"
     ]
    },
    {
     "name": "stdout",
     "output_type": "stream",
     "text": [
      "Processing  Brandon Goodwin\n",
      "Last 5 games div not found.\n",
      "Processing  Brandon Ingram\n"
     ]
    },
    {
     "name": "stderr",
     "output_type": "stream",
     "text": [
      "/var/folders/7z/7q00pypj1_sf2clps66cxc9r0000gn/T/ipykernel_2964/1753532913.py:33: FutureWarning: Passing literal html to 'read_html' is deprecated and will be removed in a future version. To read from a literal string, wrap it in a 'StringIO' object.\n",
      "  df = pd.read_html(str(table))[0]\n"
     ]
    },
    {
     "name": "stdout",
     "output_type": "stream",
     "text": [
      "Processing  Brandon Knight\n",
      "Last 5 games div not found.\n",
      "Processing  Brandon Williams (b. 1975-02-27)\n",
      "No search results found for the player.\n",
      "Processing  Brian Bowen II\n",
      "Last 5 games div not found.\n",
      "Processing  Brodric Thomas\n",
      "Last 5 games div not found.\n",
      "Processing  Brook Lopez\n"
     ]
    },
    {
     "name": "stderr",
     "output_type": "stream",
     "text": [
      "/var/folders/7z/7q00pypj1_sf2clps66cxc9r0000gn/T/ipykernel_2964/1753532913.py:33: FutureWarning: Passing literal html to 'read_html' is deprecated and will be removed in a future version. To read from a literal string, wrap it in a 'StringIO' object.\n",
      "  df = pd.read_html(str(table))[0]\n"
     ]
    },
    {
     "name": "stdout",
     "output_type": "stream",
     "text": [
      "Processing  Bruce Brown\n"
     ]
    },
    {
     "name": "stderr",
     "output_type": "stream",
     "text": [
      "/var/folders/7z/7q00pypj1_sf2clps66cxc9r0000gn/T/ipykernel_2964/1753532913.py:33: FutureWarning: Passing literal html to 'read_html' is deprecated and will be removed in a future version. To read from a literal string, wrap it in a 'StringIO' object.\n",
      "  df = pd.read_html(str(table))[0]\n"
     ]
    },
    {
     "name": "stdout",
     "output_type": "stream",
     "text": [
      "Processing  Bruno Caboclo\n",
      "Last 5 games div not found.\n",
      "Processing  Bruno Fernando\n"
     ]
    },
    {
     "name": "stderr",
     "output_type": "stream",
     "text": [
      "/var/folders/7z/7q00pypj1_sf2clps66cxc9r0000gn/T/ipykernel_2964/1753532913.py:33: FutureWarning: Passing literal html to 'read_html' is deprecated and will be removed in a future version. To read from a literal string, wrap it in a 'StringIO' object.\n",
      "  df = pd.read_html(str(table))[0]\n"
     ]
    },
    {
     "name": "stdout",
     "output_type": "stream",
     "text": [
      "Processing  Bryn Forbes\n",
      "Last 5 games div not found.\n",
      "Processing  Buddy Hield\n"
     ]
    },
    {
     "name": "stderr",
     "output_type": "stream",
     "text": [
      "/var/folders/7z/7q00pypj1_sf2clps66cxc9r0000gn/T/ipykernel_2964/1753532913.py:33: FutureWarning: Passing literal html to 'read_html' is deprecated and will be removed in a future version. To read from a literal string, wrap it in a 'StringIO' object.\n",
      "  df = pd.read_html(str(table))[0]\n"
     ]
    },
    {
     "name": "stdout",
     "output_type": "stream",
     "text": [
      "Processing  C.J. Elleby\n",
      "No search results found for the player.\n",
      "Processing  C.J. McCollum\n",
      "Last 5 games div not found.\n",
      "Processing  C.J. Miles\n",
      "Last 5 games div not found.\n",
      "Processing  Cade Cunningham\n"
     ]
    },
    {
     "name": "stderr",
     "output_type": "stream",
     "text": [
      "/var/folders/7z/7q00pypj1_sf2clps66cxc9r0000gn/T/ipykernel_2964/1753532913.py:33: FutureWarning: Passing literal html to 'read_html' is deprecated and will be removed in a future version. To read from a literal string, wrap it in a 'StringIO' object.\n",
      "  df = pd.read_html(str(table))[0]\n"
     ]
    },
    {
     "name": "stdout",
     "output_type": "stream",
     "text": [
      "Processing  Caleb Martin\n"
     ]
    },
    {
     "name": "stderr",
     "output_type": "stream",
     "text": [
      "/var/folders/7z/7q00pypj1_sf2clps66cxc9r0000gn/T/ipykernel_2964/1753532913.py:33: FutureWarning: Passing literal html to 'read_html' is deprecated and will be removed in a future version. To read from a literal string, wrap it in a 'StringIO' object.\n",
      "  df = pd.read_html(str(table))[0]\n"
     ]
    },
    {
     "name": "stdout",
     "output_type": "stream",
     "text": [
      "Processing  Cam Reddish\n"
     ]
    },
    {
     "name": "stderr",
     "output_type": "stream",
     "text": [
      "/var/folders/7z/7q00pypj1_sf2clps66cxc9r0000gn/T/ipykernel_2964/1753532913.py:33: FutureWarning: Passing literal html to 'read_html' is deprecated and will be removed in a future version. To read from a literal string, wrap it in a 'StringIO' object.\n",
      "  df = pd.read_html(str(table))[0]\n"
     ]
    },
    {
     "name": "stdout",
     "output_type": "stream",
     "text": [
      "Processing  Cameron Johnson\n"
     ]
    },
    {
     "name": "stderr",
     "output_type": "stream",
     "text": [
      "/var/folders/7z/7q00pypj1_sf2clps66cxc9r0000gn/T/ipykernel_2964/1753532913.py:33: FutureWarning: Passing literal html to 'read_html' is deprecated and will be removed in a future version. To read from a literal string, wrap it in a 'StringIO' object.\n",
      "  df = pd.read_html(str(table))[0]\n"
     ]
    },
    {
     "name": "stdout",
     "output_type": "stream",
     "text": [
      "Processing  Cameron McGriff\n",
      "Last 5 games div not found.\n",
      "Processing  Cameron Oliver\n",
      "Last 5 games div not found.\n",
      "Processing  Cameron Payne\n"
     ]
    },
    {
     "name": "stderr",
     "output_type": "stream",
     "text": [
      "/var/folders/7z/7q00pypj1_sf2clps66cxc9r0000gn/T/ipykernel_2964/1753532913.py:33: FutureWarning: Passing literal html to 'read_html' is deprecated and will be removed in a future version. To read from a literal string, wrap it in a 'StringIO' object.\n",
      "  df = pd.read_html(str(table))[0]\n"
     ]
    },
    {
     "name": "stdout",
     "output_type": "stream",
     "text": [
      "Processing  Cameron Thomas / Cam Thomas\n",
      "No search results found for the player.\n",
      "Processing  Caris LeVert\n"
     ]
    },
    {
     "name": "stderr",
     "output_type": "stream",
     "text": [
      "/var/folders/7z/7q00pypj1_sf2clps66cxc9r0000gn/T/ipykernel_2964/1753532913.py:33: FutureWarning: Passing literal html to 'read_html' is deprecated and will be removed in a future version. To read from a literal string, wrap it in a 'StringIO' object.\n",
      "  df = pd.read_html(str(table))[0]\n"
     ]
    },
    {
     "name": "stdout",
     "output_type": "stream",
     "text": [
      "Processing  Carmelo Anthony\n",
      "Last 5 games div not found.\n",
      "Processing  Carsen Edwards\n",
      "Last 5 games div not found.\n",
      "Processing  Cassius Winston\n",
      "Last 5 games div not found.\n",
      "Processing  Cedi Osman\n"
     ]
    },
    {
     "name": "stderr",
     "output_type": "stream",
     "text": [
      "/var/folders/7z/7q00pypj1_sf2clps66cxc9r0000gn/T/ipykernel_2964/1753532913.py:33: FutureWarning: Passing literal html to 'read_html' is deprecated and will be removed in a future version. To read from a literal string, wrap it in a 'StringIO' object.\n",
      "  df = pd.read_html(str(table))[0]\n"
     ]
    },
    {
     "name": "stdout",
     "output_type": "stream",
     "text": [
      "Processing  Chandler Hutchison\n",
      "Last 5 games div not found.\n",
      "Processing  Chandler Parsons\n",
      "Last 5 games div not found.\n",
      "Processing  Charles Bassey\n"
     ]
    },
    {
     "name": "stderr",
     "output_type": "stream",
     "text": [
      "/var/folders/7z/7q00pypj1_sf2clps66cxc9r0000gn/T/ipykernel_2964/1753532913.py:33: FutureWarning: Passing literal html to 'read_html' is deprecated and will be removed in a future version. To read from a literal string, wrap it in a 'StringIO' object.\n",
      "  df = pd.read_html(str(table))[0]\n"
     ]
    },
    {
     "name": "stdout",
     "output_type": "stream",
     "text": [
      "Processing  Chasson Randle\n",
      "Last 5 games div not found.\n",
      "Processing  Chaundee Brown Jr.\n",
      "Last 5 games div not found.\n",
      "Processing  Chet Holmgren\n"
     ]
    },
    {
     "name": "stderr",
     "output_type": "stream",
     "text": [
      "/var/folders/7z/7q00pypj1_sf2clps66cxc9r0000gn/T/ipykernel_2964/1753532913.py:33: FutureWarning: Passing literal html to 'read_html' is deprecated and will be removed in a future version. To read from a literal string, wrap it in a 'StringIO' object.\n",
      "  df = pd.read_html(str(table))[0]\n"
     ]
    },
    {
     "name": "stdout",
     "output_type": "stream",
     "text": [
      "Processing  Chima Moneke\n",
      "Last 5 games div not found.\n",
      "Processing  Chimezie Metu\n"
     ]
    },
    {
     "name": "stderr",
     "output_type": "stream",
     "text": [
      "/var/folders/7z/7q00pypj1_sf2clps66cxc9r0000gn/T/ipykernel_2964/1753532913.py:33: FutureWarning: Passing literal html to 'read_html' is deprecated and will be removed in a future version. To read from a literal string, wrap it in a 'StringIO' object.\n",
      "  df = pd.read_html(str(table))[0]\n"
     ]
    },
    {
     "name": "stdout",
     "output_type": "stream",
     "text": [
      "Processing  Chris Boucher\n"
     ]
    },
    {
     "name": "stderr",
     "output_type": "stream",
     "text": [
      "/var/folders/7z/7q00pypj1_sf2clps66cxc9r0000gn/T/ipykernel_2964/1753532913.py:33: FutureWarning: Passing literal html to 'read_html' is deprecated and will be removed in a future version. To read from a literal string, wrap it in a 'StringIO' object.\n",
      "  df = pd.read_html(str(table))[0]\n"
     ]
    },
    {
     "name": "stdout",
     "output_type": "stream",
     "text": [
      "Processing  Chris Chiozza\n",
      "Last 5 games div not found.\n",
      "Processing  Chris Clemons\n",
      "Last 5 games div not found.\n",
      "Processing  Chris Duarte\n"
     ]
    },
    {
     "name": "stderr",
     "output_type": "stream",
     "text": [
      "/var/folders/7z/7q00pypj1_sf2clps66cxc9r0000gn/T/ipykernel_2964/1753532913.py:33: FutureWarning: Passing literal html to 'read_html' is deprecated and will be removed in a future version. To read from a literal string, wrap it in a 'StringIO' object.\n",
      "  df = pd.read_html(str(table))[0]\n"
     ]
    },
    {
     "name": "stdout",
     "output_type": "stream",
     "text": [
      "Processing  Chris Paul\n"
     ]
    },
    {
     "name": "stderr",
     "output_type": "stream",
     "text": [
      "/var/folders/7z/7q00pypj1_sf2clps66cxc9r0000gn/T/ipykernel_2964/1753532913.py:33: FutureWarning: Passing literal html to 'read_html' is deprecated and will be removed in a future version. To read from a literal string, wrap it in a 'StringIO' object.\n",
      "  df = pd.read_html(str(table))[0]\n"
     ]
    },
    {
     "name": "stdout",
     "output_type": "stream",
     "text": [
      "Processing  Chris Silva\n",
      "Last 5 games div not found.\n",
      "Processing  Christian Wood\n"
     ]
    },
    {
     "name": "stderr",
     "output_type": "stream",
     "text": [
      "/var/folders/7z/7q00pypj1_sf2clps66cxc9r0000gn/T/ipykernel_2964/1753532913.py:33: FutureWarning: Passing literal html to 'read_html' is deprecated and will be removed in a future version. To read from a literal string, wrap it in a 'StringIO' object.\n",
      "  df = pd.read_html(str(table))[0]\n"
     ]
    },
    {
     "name": "stdout",
     "output_type": "stream",
     "text": [
      "Processing  Chuma Okeke\n"
     ]
    },
    {
     "name": "stderr",
     "output_type": "stream",
     "text": [
      "/var/folders/7z/7q00pypj1_sf2clps66cxc9r0000gn/T/ipykernel_2964/1753532913.py:33: FutureWarning: Passing literal html to 'read_html' is deprecated and will be removed in a future version. To read from a literal string, wrap it in a 'StringIO' object.\n",
      "  df = pd.read_html(str(table))[0]\n"
     ]
    },
    {
     "name": "stdout",
     "output_type": "stream",
     "text": [
      "Processing  Clint Capela\n"
     ]
    },
    {
     "name": "stderr",
     "output_type": "stream",
     "text": [
      "/var/folders/7z/7q00pypj1_sf2clps66cxc9r0000gn/T/ipykernel_2964/1753532913.py:33: FutureWarning: Passing literal html to 'read_html' is deprecated and will be removed in a future version. To read from a literal string, wrap it in a 'StringIO' object.\n",
      "  df = pd.read_html(str(table))[0]\n"
     ]
    },
    {
     "name": "stdout",
     "output_type": "stream",
     "text": [
      "Processing  Coby White\n"
     ]
    },
    {
     "name": "stderr",
     "output_type": "stream",
     "text": [
      "/var/folders/7z/7q00pypj1_sf2clps66cxc9r0000gn/T/ipykernel_2964/1753532913.py:33: FutureWarning: Passing literal html to 'read_html' is deprecated and will be removed in a future version. To read from a literal string, wrap it in a 'StringIO' object.\n",
      "  df = pd.read_html(str(table))[0]\n"
     ]
    },
    {
     "name": "stdout",
     "output_type": "stream",
     "text": [
      "Processing  Cody Martin\n"
     ]
    },
    {
     "name": "stderr",
     "output_type": "stream",
     "text": [
      "/var/folders/7z/7q00pypj1_sf2clps66cxc9r0000gn/T/ipykernel_2964/1753532913.py:33: FutureWarning: Passing literal html to 'read_html' is deprecated and will be removed in a future version. To read from a literal string, wrap it in a 'StringIO' object.\n",
      "  df = pd.read_html(str(table))[0]\n"
     ]
    },
    {
     "name": "stdout",
     "output_type": "stream",
     "text": [
      "Processing  Cody Zeller\n"
     ]
    },
    {
     "name": "stderr",
     "output_type": "stream",
     "text": [
      "/var/folders/7z/7q00pypj1_sf2clps66cxc9r0000gn/T/ipykernel_2964/1753532913.py:33: FutureWarning: Passing literal html to 'read_html' is deprecated and will be removed in a future version. To read from a literal string, wrap it in a 'StringIO' object.\n",
      "  df = pd.read_html(str(table))[0]\n"
     ]
    },
    {
     "name": "stdout",
     "output_type": "stream",
     "text": [
      "Processing  Cole Anthony\n"
     ]
    },
    {
     "name": "stderr",
     "output_type": "stream",
     "text": [
      "/var/folders/7z/7q00pypj1_sf2clps66cxc9r0000gn/T/ipykernel_2964/1753532913.py:33: FutureWarning: Passing literal html to 'read_html' is deprecated and will be removed in a future version. To read from a literal string, wrap it in a 'StringIO' object.\n",
      "  df = pd.read_html(str(table))[0]\n"
     ]
    },
    {
     "name": "stdout",
     "output_type": "stream",
     "text": [
      "Processing  Cole Swider\n"
     ]
    },
    {
     "name": "stderr",
     "output_type": "stream",
     "text": [
      "/var/folders/7z/7q00pypj1_sf2clps66cxc9r0000gn/T/ipykernel_2964/1753532913.py:33: FutureWarning: Passing literal html to 'read_html' is deprecated and will be removed in a future version. To read from a literal string, wrap it in a 'StringIO' object.\n",
      "  df = pd.read_html(str(table))[0]\n"
     ]
    },
    {
     "name": "stdout",
     "output_type": "stream",
     "text": [
      "Processing  Collin Gillespie\n"
     ]
    },
    {
     "name": "stderr",
     "output_type": "stream",
     "text": [
      "/var/folders/7z/7q00pypj1_sf2clps66cxc9r0000gn/T/ipykernel_2964/1753532913.py:33: FutureWarning: Passing literal html to 'read_html' is deprecated and will be removed in a future version. To read from a literal string, wrap it in a 'StringIO' object.\n",
      "  df = pd.read_html(str(table))[0]\n"
     ]
    },
    {
     "name": "stdout",
     "output_type": "stream",
     "text": [
      "Processing  Collin Sexton\n"
     ]
    },
    {
     "name": "stderr",
     "output_type": "stream",
     "text": [
      "/var/folders/7z/7q00pypj1_sf2clps66cxc9r0000gn/T/ipykernel_2964/1753532913.py:33: FutureWarning: Passing literal html to 'read_html' is deprecated and will be removed in a future version. To read from a literal string, wrap it in a 'StringIO' object.\n",
      "  df = pd.read_html(str(table))[0]\n"
     ]
    },
    {
     "name": "stdout",
     "output_type": "stream",
     "text": [
      "Processing  Corey Kispert\n"
     ]
    },
    {
     "name": "stderr",
     "output_type": "stream",
     "text": [
      "/var/folders/7z/7q00pypj1_sf2clps66cxc9r0000gn/T/ipykernel_2964/1753532913.py:33: FutureWarning: Passing literal html to 'read_html' is deprecated and will be removed in a future version. To read from a literal string, wrap it in a 'StringIO' object.\n",
      "  df = pd.read_html(str(table))[0]\n"
     ]
    },
    {
     "name": "stdout",
     "output_type": "stream",
     "text": [
      "Processing  Cory Joseph\n"
     ]
    },
    {
     "name": "stderr",
     "output_type": "stream",
     "text": [
      "/var/folders/7z/7q00pypj1_sf2clps66cxc9r0000gn/T/ipykernel_2964/1753532913.py:33: FutureWarning: Passing literal html to 'read_html' is deprecated and will be removed in a future version. To read from a literal string, wrap it in a 'StringIO' object.\n",
      "  df = pd.read_html(str(table))[0]\n"
     ]
    },
    {
     "name": "stdout",
     "output_type": "stream",
     "text": [
      "Processing  Courtney Lee\n",
      "Last 5 games div not found.\n",
      "Processing  Cristiano Felicio\n",
      "Last 5 games div not found.\n",
      "Processing  D'Angelo Russell\n"
     ]
    },
    {
     "name": "stderr",
     "output_type": "stream",
     "text": [
      "/var/folders/7z/7q00pypj1_sf2clps66cxc9r0000gn/T/ipykernel_2964/1753532913.py:33: FutureWarning: Passing literal html to 'read_html' is deprecated and will be removed in a future version. To read from a literal string, wrap it in a 'StringIO' object.\n",
      "  df = pd.read_html(str(table))[0]\n"
     ]
    },
    {
     "name": "stdout",
     "output_type": "stream",
     "text": [
      "Processing  D.J. Augustine\n",
      "No search results found for the player.\n",
      "Processing  D.J. Wilson\n",
      "Last 5 games div not found.\n",
      "Processing  DaQuan Jeffries\n"
     ]
    },
    {
     "name": "stderr",
     "output_type": "stream",
     "text": [
      "/var/folders/7z/7q00pypj1_sf2clps66cxc9r0000gn/T/ipykernel_2964/1753532913.py:33: FutureWarning: Passing literal html to 'read_html' is deprecated and will be removed in a future version. To read from a literal string, wrap it in a 'StringIO' object.\n",
      "  df = pd.read_html(str(table))[0]\n"
     ]
    },
    {
     "name": "stdout",
     "output_type": "stream",
     "text": [
      "Processing  Daishen Nix\n"
     ]
    },
    {
     "name": "stderr",
     "output_type": "stream",
     "text": [
      "/var/folders/7z/7q00pypj1_sf2clps66cxc9r0000gn/T/ipykernel_2964/1753532913.py:33: FutureWarning: Passing literal html to 'read_html' is deprecated and will be removed in a future version. To read from a literal string, wrap it in a 'StringIO' object.\n",
      "  df = pd.read_html(str(table))[0]\n"
     ]
    },
    {
     "name": "stdout",
     "output_type": "stream",
     "text": [
      "Processing  Dalano Banton\n"
     ]
    },
    {
     "name": "stderr",
     "output_type": "stream",
     "text": [
      "/var/folders/7z/7q00pypj1_sf2clps66cxc9r0000gn/T/ipykernel_2964/1753532913.py:33: FutureWarning: Passing literal html to 'read_html' is deprecated and will be removed in a future version. To read from a literal string, wrap it in a 'StringIO' object.\n",
      "  df = pd.read_html(str(table))[0]\n"
     ]
    },
    {
     "name": "stdout",
     "output_type": "stream",
     "text": [
      "Processing  Damian Jones\n"
     ]
    },
    {
     "name": "stderr",
     "output_type": "stream",
     "text": [
      "/var/folders/7z/7q00pypj1_sf2clps66cxc9r0000gn/T/ipykernel_2964/1753532913.py:33: FutureWarning: Passing literal html to 'read_html' is deprecated and will be removed in a future version. To read from a literal string, wrap it in a 'StringIO' object.\n",
      "  df = pd.read_html(str(table))[0]\n"
     ]
    },
    {
     "name": "stdout",
     "output_type": "stream",
     "text": [
      "Processing  Damian Lillard\n"
     ]
    },
    {
     "name": "stderr",
     "output_type": "stream",
     "text": [
      "/var/folders/7z/7q00pypj1_sf2clps66cxc9r0000gn/T/ipykernel_2964/1753532913.py:33: FutureWarning: Passing literal html to 'read_html' is deprecated and will be removed in a future version. To read from a literal string, wrap it in a 'StringIO' object.\n",
      "  df = pd.read_html(str(table))[0]\n"
     ]
    },
    {
     "name": "stdout",
     "output_type": "stream",
     "text": [
      "Processing  Damion Lee\n",
      "Last 5 games div not found.\n",
      "Processing  Damyean Dotson\n",
      "Last 5 games div not found.\n",
      "Processing  Daniel Gafford\n"
     ]
    },
    {
     "name": "stderr",
     "output_type": "stream",
     "text": [
      "/var/folders/7z/7q00pypj1_sf2clps66cxc9r0000gn/T/ipykernel_2964/1753532913.py:33: FutureWarning: Passing literal html to 'read_html' is deprecated and will be removed in a future version. To read from a literal string, wrap it in a 'StringIO' object.\n",
      "  df = pd.read_html(str(table))[0]\n"
     ]
    },
    {
     "name": "stdout",
     "output_type": "stream",
     "text": [
      "Processing  Daniel Oturu\n",
      "Last 5 games div not found.\n",
      "Processing  Daniel Theis\n"
     ]
    },
    {
     "name": "stderr",
     "output_type": "stream",
     "text": [
      "/var/folders/7z/7q00pypj1_sf2clps66cxc9r0000gn/T/ipykernel_2964/1753532913.py:33: FutureWarning: Passing literal html to 'read_html' is deprecated and will be removed in a future version. To read from a literal string, wrap it in a 'StringIO' object.\n",
      "  df = pd.read_html(str(table))[0]\n"
     ]
    },
    {
     "name": "stdout",
     "output_type": "stream",
     "text": [
      "Processing  Danilo Gallinari\n"
     ]
    },
    {
     "name": "stderr",
     "output_type": "stream",
     "text": [
      "/var/folders/7z/7q00pypj1_sf2clps66cxc9r0000gn/T/ipykernel_2964/1753532913.py:33: FutureWarning: Passing literal html to 'read_html' is deprecated and will be removed in a future version. To read from a literal string, wrap it in a 'StringIO' object.\n",
      "  df = pd.read_html(str(table))[0]\n"
     ]
    },
    {
     "name": "stdout",
     "output_type": "stream",
     "text": [
      "Processing  Danny Green\n",
      "Last 5 games div not found.\n",
      "Processing  Dante Exum\n"
     ]
    },
    {
     "name": "stderr",
     "output_type": "stream",
     "text": [
      "/var/folders/7z/7q00pypj1_sf2clps66cxc9r0000gn/T/ipykernel_2964/1753532913.py:33: FutureWarning: Passing literal html to 'read_html' is deprecated and will be removed in a future version. To read from a literal string, wrap it in a 'StringIO' object.\n",
      "  df = pd.read_html(str(table))[0]\n"
     ]
    },
    {
     "name": "stdout",
     "output_type": "stream",
     "text": [
      "Processing  Danuel House Jr.\n"
     ]
    },
    {
     "name": "stderr",
     "output_type": "stream",
     "text": [
      "/var/folders/7z/7q00pypj1_sf2clps66cxc9r0000gn/T/ipykernel_2964/1753532913.py:33: FutureWarning: Passing literal html to 'read_html' is deprecated and will be removed in a future version. To read from a literal string, wrap it in a 'StringIO' object.\n",
      "  df = pd.read_html(str(table))[0]\n"
     ]
    },
    {
     "name": "stdout",
     "output_type": "stream",
     "text": [
      "Processing  Dario Saric\n"
     ]
    },
    {
     "name": "stderr",
     "output_type": "stream",
     "text": [
      "/var/folders/7z/7q00pypj1_sf2clps66cxc9r0000gn/T/ipykernel_2964/1753532913.py:33: FutureWarning: Passing literal html to 'read_html' is deprecated and will be removed in a future version. To read from a literal string, wrap it in a 'StringIO' object.\n",
      "  df = pd.read_html(str(table))[0]\n"
     ]
    },
    {
     "name": "stdout",
     "output_type": "stream",
     "text": [
      "Processing  Darius Bazley\n"
     ]
    },
    {
     "name": "stderr",
     "output_type": "stream",
     "text": [
      "/var/folders/7z/7q00pypj1_sf2clps66cxc9r0000gn/T/ipykernel_2964/1753532913.py:33: FutureWarning: Passing literal html to 'read_html' is deprecated and will be removed in a future version. To read from a literal string, wrap it in a 'StringIO' object.\n",
      "  df = pd.read_html(str(table))[0]\n"
     ]
    },
    {
     "name": "stdout",
     "output_type": "stream",
     "text": [
      "Processing  Darius Garland\n"
     ]
    },
    {
     "name": "stderr",
     "output_type": "stream",
     "text": [
      "/var/folders/7z/7q00pypj1_sf2clps66cxc9r0000gn/T/ipykernel_2964/1753532913.py:33: FutureWarning: Passing literal html to 'read_html' is deprecated and will be removed in a future version. To read from a literal string, wrap it in a 'StringIO' object.\n",
      "  df = pd.read_html(str(table))[0]\n"
     ]
    },
    {
     "name": "stdout",
     "output_type": "stream",
     "text": [
      "Processing  Darius Miller\n",
      "Last 5 games div not found.\n",
      "Processing  Daulton Hommes\n",
      "Last 5 games div not found.\n",
      "Processing  David Duke Jr.\n",
      "Last 5 games div not found.\n",
      "Processing  David Johnson (Ricardo)\n",
      "No search results found for the player.\n",
      "Processing  David Nwaba\n",
      "Last 5 games div not found.\n",
      "Processing  Davion Mitchell\n"
     ]
    },
    {
     "name": "stderr",
     "output_type": "stream",
     "text": [
      "/var/folders/7z/7q00pypj1_sf2clps66cxc9r0000gn/T/ipykernel_2964/1753532913.py:33: FutureWarning: Passing literal html to 'read_html' is deprecated and will be removed in a future version. To read from a literal string, wrap it in a 'StringIO' object.\n",
      "  df = pd.read_html(str(table))[0]\n"
     ]
    },
    {
     "name": "stdout",
     "output_type": "stream",
     "text": [
      "Processing  Davis Bertans\n"
     ]
    },
    {
     "name": "stderr",
     "output_type": "stream",
     "text": [
      "/var/folders/7z/7q00pypj1_sf2clps66cxc9r0000gn/T/ipykernel_2964/1753532913.py:33: FutureWarning: Passing literal html to 'read_html' is deprecated and will be removed in a future version. To read from a literal string, wrap it in a 'StringIO' object.\n",
      "  df = pd.read_html(str(table))[0]\n"
     ]
    },
    {
     "name": "stdout",
     "output_type": "stream",
     "text": [
      "Processing  Davon Reed\n",
      "Last 5 games div not found.\n",
      "Processing  Day'Ron Sharpe\n"
     ]
    },
    {
     "name": "stderr",
     "output_type": "stream",
     "text": [
      "/var/folders/7z/7q00pypj1_sf2clps66cxc9r0000gn/T/ipykernel_2964/1753532913.py:33: FutureWarning: Passing literal html to 'read_html' is deprecated and will be removed in a future version. To read from a literal string, wrap it in a 'StringIO' object.\n",
      "  df = pd.read_html(str(table))[0]\n"
     ]
    },
    {
     "name": "stdout",
     "output_type": "stream",
     "text": [
      "Processing  De'Aaron Fox\n"
     ]
    },
    {
     "name": "stderr",
     "output_type": "stream",
     "text": [
      "/var/folders/7z/7q00pypj1_sf2clps66cxc9r0000gn/T/ipykernel_2964/1753532913.py:33: FutureWarning: Passing literal html to 'read_html' is deprecated and will be removed in a future version. To read from a literal string, wrap it in a 'StringIO' object.\n",
      "  df = pd.read_html(str(table))[0]\n"
     ]
    },
    {
     "name": "stdout",
     "output_type": "stream",
     "text": [
      "Processing  De'Andre Hunter\n"
     ]
    },
    {
     "name": "stderr",
     "output_type": "stream",
     "text": [
      "/var/folders/7z/7q00pypj1_sf2clps66cxc9r0000gn/T/ipykernel_2964/1753532913.py:33: FutureWarning: Passing literal html to 'read_html' is deprecated and will be removed in a future version. To read from a literal string, wrap it in a 'StringIO' object.\n",
      "  df = pd.read_html(str(table))[0]\n"
     ]
    },
    {
     "name": "stdout",
     "output_type": "stream",
     "text": [
      "Processing  De'Anthony Melton\n"
     ]
    },
    {
     "name": "stderr",
     "output_type": "stream",
     "text": [
      "/var/folders/7z/7q00pypj1_sf2clps66cxc9r0000gn/T/ipykernel_2964/1753532913.py:33: FutureWarning: Passing literal html to 'read_html' is deprecated and will be removed in a future version. To read from a literal string, wrap it in a 'StringIO' object.\n",
      "  df = pd.read_html(str(table))[0]\n"
     ]
    },
    {
     "name": "stdout",
     "output_type": "stream",
     "text": [
      "Processing  DeAndre Jordan\n"
     ]
    },
    {
     "name": "stderr",
     "output_type": "stream",
     "text": [
      "/var/folders/7z/7q00pypj1_sf2clps66cxc9r0000gn/T/ipykernel_2964/1753532913.py:33: FutureWarning: Passing literal html to 'read_html' is deprecated and will be removed in a future version. To read from a literal string, wrap it in a 'StringIO' object.\n",
      "  df = pd.read_html(str(table))[0]\n"
     ]
    },
    {
     "name": "stdout",
     "output_type": "stream",
     "text": [
      "Processing  DeAndre' Bembry\n",
      "Last 5 games div not found.\n",
      "Processing  DeJon Jarreau\n"
     ]
    },
    {
     "name": "stderr",
     "output_type": "stream",
     "text": [
      "/var/folders/7z/7q00pypj1_sf2clps66cxc9r0000gn/T/ipykernel_2964/1753532913.py:33: FutureWarning: Passing literal html to 'read_html' is deprecated and will be removed in a future version. To read from a literal string, wrap it in a 'StringIO' object.\n",
      "  df = pd.read_html(str(table))[0]\n"
     ]
    },
    {
     "name": "stdout",
     "output_type": "stream",
     "text": [
      "Processing  DeMar DeRozan\n"
     ]
    },
    {
     "name": "stderr",
     "output_type": "stream",
     "text": [
      "/var/folders/7z/7q00pypj1_sf2clps66cxc9r0000gn/T/ipykernel_2964/1753532913.py:33: FutureWarning: Passing literal html to 'read_html' is deprecated and will be removed in a future version. To read from a literal string, wrap it in a 'StringIO' object.\n",
      "  df = pd.read_html(str(table))[0]\n"
     ]
    },
    {
     "name": "stdout",
     "output_type": "stream",
     "text": [
      "Processing  DeMarcus Cousins\n",
      "Last 5 games div not found.\n",
      "Processing  DeMarre Carroll\n",
      "Last 5 games div not found.\n",
      "Processing  Dean Wade\n"
     ]
    },
    {
     "name": "stderr",
     "output_type": "stream",
     "text": [
      "/var/folders/7z/7q00pypj1_sf2clps66cxc9r0000gn/T/ipykernel_2964/1753532913.py:33: FutureWarning: Passing literal html to 'read_html' is deprecated and will be removed in a future version. To read from a literal string, wrap it in a 'StringIO' object.\n",
      "  df = pd.read_html(str(table))[0]\n"
     ]
    },
    {
     "name": "stdout",
     "output_type": "stream",
     "text": [
      "Processing  Deandre Ayton\n"
     ]
    },
    {
     "name": "stderr",
     "output_type": "stream",
     "text": [
      "/var/folders/7z/7q00pypj1_sf2clps66cxc9r0000gn/T/ipykernel_2964/1753532913.py:33: FutureWarning: Passing literal html to 'read_html' is deprecated and will be removed in a future version. To read from a literal string, wrap it in a 'StringIO' object.\n",
      "  df = pd.read_html(str(table))[0]\n"
     ]
    },
    {
     "name": "stdout",
     "output_type": "stream",
     "text": [
      "Processing  Deividas Sirvydis\n",
      "Last 5 games div not found.\n",
      "Processing  Dejounte Murray\n"
     ]
    },
    {
     "name": "stderr",
     "output_type": "stream",
     "text": [
      "/var/folders/7z/7q00pypj1_sf2clps66cxc9r0000gn/T/ipykernel_2964/1753532913.py:33: FutureWarning: Passing literal html to 'read_html' is deprecated and will be removed in a future version. To read from a literal string, wrap it in a 'StringIO' object.\n",
      "  df = pd.read_html(str(table))[0]\n"
     ]
    },
    {
     "name": "stdout",
     "output_type": "stream",
     "text": [
      "Processing  Delon Wright\n"
     ]
    },
    {
     "name": "stderr",
     "output_type": "stream",
     "text": [
      "/var/folders/7z/7q00pypj1_sf2clps66cxc9r0000gn/T/ipykernel_2964/1753532913.py:33: FutureWarning: Passing literal html to 'read_html' is deprecated and will be removed in a future version. To read from a literal string, wrap it in a 'StringIO' object.\n",
      "  df = pd.read_html(str(table))[0]\n"
     ]
    },
    {
     "name": "stdout",
     "output_type": "stream",
     "text": [
      "Processing  Deni Avdija\n"
     ]
    },
    {
     "name": "stderr",
     "output_type": "stream",
     "text": [
      "/var/folders/7z/7q00pypj1_sf2clps66cxc9r0000gn/T/ipykernel_2964/1753532913.py:33: FutureWarning: Passing literal html to 'read_html' is deprecated and will be removed in a future version. To read from a literal string, wrap it in a 'StringIO' object.\n",
      "  df = pd.read_html(str(table))[0]\n"
     ]
    },
    {
     "name": "stdout",
     "output_type": "stream",
     "text": [
      "Processing  Dennis Schröder\n"
     ]
    },
    {
     "name": "stderr",
     "output_type": "stream",
     "text": [
      "/var/folders/7z/7q00pypj1_sf2clps66cxc9r0000gn/T/ipykernel_2964/1753532913.py:33: FutureWarning: Passing literal html to 'read_html' is deprecated and will be removed in a future version. To read from a literal string, wrap it in a 'StringIO' object.\n",
      "  df = pd.read_html(str(table))[0]\n"
     ]
    },
    {
     "name": "stdout",
     "output_type": "stream",
     "text": [
      "Processing  Dennis Smith Jr.\n"
     ]
    },
    {
     "name": "stderr",
     "output_type": "stream",
     "text": [
      "/var/folders/7z/7q00pypj1_sf2clps66cxc9r0000gn/T/ipykernel_2964/1753532913.py:33: FutureWarning: Passing literal html to 'read_html' is deprecated and will be removed in a future version. To read from a literal string, wrap it in a 'StringIO' object.\n",
      "  df = pd.read_html(str(table))[0]\n"
     ]
    },
    {
     "name": "stdout",
     "output_type": "stream",
     "text": [
      "Processing  Denzel Valentine\n",
      "Last 5 games div not found.\n",
      "Processing  Deonte Burton\n",
      "Last 5 games div not found.\n",
      "Processing  Derrick Favors\n",
      "Last 5 games div not found.\n",
      "Processing  Derrick Jones Jr.\n"
     ]
    },
    {
     "name": "stderr",
     "output_type": "stream",
     "text": [
      "/var/folders/7z/7q00pypj1_sf2clps66cxc9r0000gn/T/ipykernel_2964/1753532913.py:33: FutureWarning: Passing literal html to 'read_html' is deprecated and will be removed in a future version. To read from a literal string, wrap it in a 'StringIO' object.\n",
      "  df = pd.read_html(str(table))[0]\n"
     ]
    },
    {
     "name": "stdout",
     "output_type": "stream",
     "text": [
      "Processing  Derrick Rose\n"
     ]
    },
    {
     "name": "stderr",
     "output_type": "stream",
     "text": [
      "/var/folders/7z/7q00pypj1_sf2clps66cxc9r0000gn/T/ipykernel_2964/1753532913.py:33: FutureWarning: Passing literal html to 'read_html' is deprecated and will be removed in a future version. To read from a literal string, wrap it in a 'StringIO' object.\n",
      "  df = pd.read_html(str(table))[0]\n"
     ]
    },
    {
     "name": "stdout",
     "output_type": "stream",
     "text": [
      "Processing  Derrick Walton Jr.\n",
      "Last 5 games div not found.\n",
      "Processing  Derrick White\n"
     ]
    },
    {
     "name": "stderr",
     "output_type": "stream",
     "text": [
      "/var/folders/7z/7q00pypj1_sf2clps66cxc9r0000gn/T/ipykernel_2964/1753532913.py:33: FutureWarning: Passing literal html to 'read_html' is deprecated and will be removed in a future version. To read from a literal string, wrap it in a 'StringIO' object.\n",
      "  df = pd.read_html(str(table))[0]\n"
     ]
    },
    {
     "name": "stdout",
     "output_type": "stream",
     "text": [
      "Processing  Desmond Bane\n"
     ]
    },
    {
     "name": "stderr",
     "output_type": "stream",
     "text": [
      "/var/folders/7z/7q00pypj1_sf2clps66cxc9r0000gn/T/ipykernel_2964/1753532913.py:33: FutureWarning: Passing literal html to 'read_html' is deprecated and will be removed in a future version. To read from a literal string, wrap it in a 'StringIO' object.\n",
      "  df = pd.read_html(str(table))[0]\n"
     ]
    },
    {
     "name": "stdout",
     "output_type": "stream",
     "text": [
      "Processing  Devin Booker\n"
     ]
    },
    {
     "name": "stderr",
     "output_type": "stream",
     "text": [
      "/var/folders/7z/7q00pypj1_sf2clps66cxc9r0000gn/T/ipykernel_2964/1753532913.py:33: FutureWarning: Passing literal html to 'read_html' is deprecated and will be removed in a future version. To read from a literal string, wrap it in a 'StringIO' object.\n",
      "  df = pd.read_html(str(table))[0]\n"
     ]
    },
    {
     "name": "stdout",
     "output_type": "stream",
     "text": [
      "Processing  Devin Cannady\n",
      "Last 5 games div not found.\n",
      "Processing  Devin Vassell\n"
     ]
    },
    {
     "name": "stderr",
     "output_type": "stream",
     "text": [
      "/var/folders/7z/7q00pypj1_sf2clps66cxc9r0000gn/T/ipykernel_2964/1753532913.py:33: FutureWarning: Passing literal html to 'read_html' is deprecated and will be removed in a future version. To read from a literal string, wrap it in a 'StringIO' object.\n",
      "  df = pd.read_html(str(table))[0]\n"
     ]
    },
    {
     "name": "stdout",
     "output_type": "stream",
     "text": [
      "Processing  Devon Dotson\n",
      "Last 5 games div not found.\n",
      "Processing  Devontae Cacok\n",
      "Last 5 games div not found.\n",
      "Processing  Devonte' Graham\n"
     ]
    },
    {
     "name": "stderr",
     "output_type": "stream",
     "text": [
      "/var/folders/7z/7q00pypj1_sf2clps66cxc9r0000gn/T/ipykernel_2964/1753532913.py:33: FutureWarning: Passing literal html to 'read_html' is deprecated and will be removed in a future version. To read from a literal string, wrap it in a 'StringIO' object.\n",
      "  df = pd.read_html(str(table))[0]\n"
     ]
    },
    {
     "name": "stdout",
     "output_type": "stream",
     "text": [
      "Processing  Dewan Hernandez\n",
      "Last 5 games div not found.\n",
      "Processing  Dewayne Dedmon\n",
      "Last 5 games div not found.\n",
      "Processing  Dillon Brooks\n"
     ]
    },
    {
     "name": "stderr",
     "output_type": "stream",
     "text": [
      "/var/folders/7z/7q00pypj1_sf2clps66cxc9r0000gn/T/ipykernel_2964/1753532913.py:33: FutureWarning: Passing literal html to 'read_html' is deprecated and will be removed in a future version. To read from a literal string, wrap it in a 'StringIO' object.\n",
      "  df = pd.read_html(str(table))[0]\n"
     ]
    },
    {
     "name": "stdout",
     "output_type": "stream",
     "text": [
      "Processing  Dion Waiters\n",
      "Last 5 games div not found.\n",
      "Processing  Domantas Sabonis\n"
     ]
    },
    {
     "name": "stderr",
     "output_type": "stream",
     "text": [
      "/var/folders/7z/7q00pypj1_sf2clps66cxc9r0000gn/T/ipykernel_2964/1753532913.py:33: FutureWarning: Passing literal html to 'read_html' is deprecated and will be removed in a future version. To read from a literal string, wrap it in a 'StringIO' object.\n",
      "  df = pd.read_html(str(table))[0]\n"
     ]
    },
    {
     "name": "stdout",
     "output_type": "stream",
     "text": [
      "Processing  Donovan Mitchell\n"
     ]
    },
    {
     "name": "stderr",
     "output_type": "stream",
     "text": [
      "/var/folders/7z/7q00pypj1_sf2clps66cxc9r0000gn/T/ipykernel_2964/1753532913.py:33: FutureWarning: Passing literal html to 'read_html' is deprecated and will be removed in a future version. To read from a literal string, wrap it in a 'StringIO' object.\n",
      "  df = pd.read_html(str(table))[0]\n"
     ]
    },
    {
     "name": "stdout",
     "output_type": "stream",
     "text": [
      "Processing  Donta Hall\n",
      "Last 5 games div not found.\n",
      "Processing  Donte DiVincenzo\n"
     ]
    },
    {
     "name": "stderr",
     "output_type": "stream",
     "text": [
      "/var/folders/7z/7q00pypj1_sf2clps66cxc9r0000gn/T/ipykernel_2964/1753532913.py:33: FutureWarning: Passing literal html to 'read_html' is deprecated and will be removed in a future version. To read from a literal string, wrap it in a 'StringIO' object.\n",
      "  df = pd.read_html(str(table))[0]\n"
     ]
    },
    {
     "name": "stdout",
     "output_type": "stream",
     "text": [
      "Processing  Dorian Finney-Smith\n"
     ]
    },
    {
     "name": "stderr",
     "output_type": "stream",
     "text": [
      "/var/folders/7z/7q00pypj1_sf2clps66cxc9r0000gn/T/ipykernel_2964/1753532913.py:33: FutureWarning: Passing literal html to 'read_html' is deprecated and will be removed in a future version. To read from a literal string, wrap it in a 'StringIO' object.\n",
      "  df = pd.read_html(str(table))[0]\n"
     ]
    },
    {
     "name": "stdout",
     "output_type": "stream",
     "text": [
      "Processing  Doug McDermott\n"
     ]
    },
    {
     "name": "stderr",
     "output_type": "stream",
     "text": [
      "/var/folders/7z/7q00pypj1_sf2clps66cxc9r0000gn/T/ipykernel_2964/1753532913.py:33: FutureWarning: Passing literal html to 'read_html' is deprecated and will be removed in a future version. To read from a literal string, wrap it in a 'StringIO' object.\n",
      "  df = pd.read_html(str(table))[0]\n"
     ]
    },
    {
     "name": "stdout",
     "output_type": "stream",
     "text": [
      "Processing  Draymond Green\n"
     ]
    },
    {
     "name": "stderr",
     "output_type": "stream",
     "text": [
      "/var/folders/7z/7q00pypj1_sf2clps66cxc9r0000gn/T/ipykernel_2964/1753532913.py:33: FutureWarning: Passing literal html to 'read_html' is deprecated and will be removed in a future version. To read from a literal string, wrap it in a 'StringIO' object.\n",
      "  df = pd.read_html(str(table))[0]\n"
     ]
    },
    {
     "name": "stdout",
     "output_type": "stream",
     "text": [
      "Processing  Drew Eubanks\n"
     ]
    },
    {
     "name": "stderr",
     "output_type": "stream",
     "text": [
      "/var/folders/7z/7q00pypj1_sf2clps66cxc9r0000gn/T/ipykernel_2964/1753532913.py:33: FutureWarning: Passing literal html to 'read_html' is deprecated and will be removed in a future version. To read from a literal string, wrap it in a 'StringIO' object.\n",
      "  df = pd.read_html(str(table))[0]\n"
     ]
    },
    {
     "name": "stdout",
     "output_type": "stream",
     "text": [
      "Processing  Duane Washington Jr.\n",
      "Last 5 games div not found.\n",
      "Processing  Duncan Robinson\n"
     ]
    },
    {
     "name": "stderr",
     "output_type": "stream",
     "text": [
      "/var/folders/7z/7q00pypj1_sf2clps66cxc9r0000gn/T/ipykernel_2964/1753532913.py:33: FutureWarning: Passing literal html to 'read_html' is deprecated and will be removed in a future version. To read from a literal string, wrap it in a 'StringIO' object.\n",
      "  df = pd.read_html(str(table))[0]\n"
     ]
    },
    {
     "name": "stdout",
     "output_type": "stream",
     "text": [
      "Processing  Dwight Howard\n",
      "Last 5 games div not found.\n",
      "Processing  Dwight Powell\n"
     ]
    },
    {
     "name": "stderr",
     "output_type": "stream",
     "text": [
      "/var/folders/7z/7q00pypj1_sf2clps66cxc9r0000gn/T/ipykernel_2964/1753532913.py:33: FutureWarning: Passing literal html to 'read_html' is deprecated and will be removed in a future version. To read from a literal string, wrap it in a 'StringIO' object.\n",
      "  df = pd.read_html(str(table))[0]\n"
     ]
    },
    {
     "name": "stdout",
     "output_type": "stream",
     "text": [
      "Processing  Dylan Windler\n"
     ]
    },
    {
     "name": "stderr",
     "output_type": "stream",
     "text": [
      "/var/folders/7z/7q00pypj1_sf2clps66cxc9r0000gn/T/ipykernel_2964/1753532913.py:33: FutureWarning: Passing literal html to 'read_html' is deprecated and will be removed in a future version. To read from a literal string, wrap it in a 'StringIO' object.\n",
      "  df = pd.read_html(str(table))[0]\n"
     ]
    },
    {
     "name": "stdout",
     "output_type": "stream",
     "text": [
      "Processing  E'Twaun Moore\n",
      "Last 5 games div not found.\n",
      "Processing  E.J. Liddell\n"
     ]
    },
    {
     "name": "stderr",
     "output_type": "stream",
     "text": [
      "/var/folders/7z/7q00pypj1_sf2clps66cxc9r0000gn/T/ipykernel_2964/1753532913.py:33: FutureWarning: Passing literal html to 'read_html' is deprecated and will be removed in a future version. To read from a literal string, wrap it in a 'StringIO' object.\n",
      "  df = pd.read_html(str(table))[0]\n"
     ]
    },
    {
     "name": "stdout",
     "output_type": "stream",
     "text": [
      "Processing  Ed Davis (Adam)\n",
      "No search results found for the player.\n",
      "Processing  Edmond Sumner\n",
      "Last 5 games div not found.\n",
      "Processing  Edrice Adebayo / Bam Adebayo\n",
      "No search results found for the player.\n",
      "Processing  Elfrid Payton\n",
      "Last 5 games div not found.\n",
      "Processing  Elie Okobo\n",
      "Last 5 games div not found.\n",
      "Processing  Elijah Hughes\n",
      "Last 5 games div not found.\n",
      "Processing  Emmanuel Mudiay\n",
      "Last 5 games div not found.\n",
      "Processing  Enes Freedom / Enes Kanter\n",
      "No search results found for the player.\n",
      "Processing  Enes Kanter / Enes Freedom\n",
      "No search results found for the player.\n",
      "Processing  Eric Bledsoe\n",
      "Last 5 games div not found.\n",
      "Processing  Eric Gordon\n"
     ]
    },
    {
     "name": "stderr",
     "output_type": "stream",
     "text": [
      "/var/folders/7z/7q00pypj1_sf2clps66cxc9r0000gn/T/ipykernel_2964/1753532913.py:33: FutureWarning: Passing literal html to 'read_html' is deprecated and will be removed in a future version. To read from a literal string, wrap it in a 'StringIO' object.\n",
      "  df = pd.read_html(str(table))[0]\n"
     ]
    },
    {
     "name": "stdout",
     "output_type": "stream",
     "text": [
      "Processing  Eric Paschall\n",
      "Last 5 games div not found.\n",
      "Processing  Ersan Ilyasova\n",
      "Last 5 games div not found.\n",
      "Processing  Eugene Omoruyi\n"
     ]
    },
    {
     "name": "stderr",
     "output_type": "stream",
     "text": [
      "/var/folders/7z/7q00pypj1_sf2clps66cxc9r0000gn/T/ipykernel_2964/1753532913.py:33: FutureWarning: Passing literal html to 'read_html' is deprecated and will be removed in a future version. To read from a literal string, wrap it in a 'StringIO' object.\n",
      "  df = pd.read_html(str(table))[0]\n"
     ]
    },
    {
     "name": "stdout",
     "output_type": "stream",
     "text": [
      "Processing  Evan Fournier\n"
     ]
    },
    {
     "name": "stderr",
     "output_type": "stream",
     "text": [
      "/var/folders/7z/7q00pypj1_sf2clps66cxc9r0000gn/T/ipykernel_2964/1753532913.py:33: FutureWarning: Passing literal html to 'read_html' is deprecated and will be removed in a future version. To read from a literal string, wrap it in a 'StringIO' object.\n",
      "  df = pd.read_html(str(table))[0]\n"
     ]
    },
    {
     "name": "stdout",
     "output_type": "stream",
     "text": [
      "Processing  Evan Mobley\n"
     ]
    },
    {
     "name": "stderr",
     "output_type": "stream",
     "text": [
      "/var/folders/7z/7q00pypj1_sf2clps66cxc9r0000gn/T/ipykernel_2964/1753532913.py:33: FutureWarning: Passing literal html to 'read_html' is deprecated and will be removed in a future version. To read from a literal string, wrap it in a 'StringIO' object.\n",
      "  df = pd.read_html(str(table))[0]\n"
     ]
    },
    {
     "name": "stdout",
     "output_type": "stream",
     "text": [
      "Processing  Evan Turner\n",
      "Last 5 games div not found.\n",
      "Processing  Facundo Campazzo\n",
      "Last 5 games div not found.\n",
      "Processing  Frank Jackson\n",
      "Last 5 games div not found.\n",
      "Processing  Frank Kaminsky\n",
      "Last 5 games div not found.\n",
      "Processing  Frank Mason\n",
      "Last 5 games div not found.\n",
      "Processing  Frank Ntilikina\n"
     ]
    },
    {
     "name": "stderr",
     "output_type": "stream",
     "text": [
      "/var/folders/7z/7q00pypj1_sf2clps66cxc9r0000gn/T/ipykernel_2964/1753532913.py:33: FutureWarning: Passing literal html to 'read_html' is deprecated and will be removed in a future version. To read from a literal string, wrap it in a 'StringIO' object.\n",
      "  df = pd.read_html(str(table))[0]\n"
     ]
    },
    {
     "name": "stdout",
     "output_type": "stream",
     "text": [
      "Processing  Franz Wagner\n"
     ]
    },
    {
     "name": "stderr",
     "output_type": "stream",
     "text": [
      "/var/folders/7z/7q00pypj1_sf2clps66cxc9r0000gn/T/ipykernel_2964/1753532913.py:33: FutureWarning: Passing literal html to 'read_html' is deprecated and will be removed in a future version. To read from a literal string, wrap it in a 'StringIO' object.\n",
      "  df = pd.read_html(str(table))[0]\n"
     ]
    },
    {
     "name": "stdout",
     "output_type": "stream",
     "text": [
      "Processing  Fred VanVleet\n"
     ]
    },
    {
     "name": "stderr",
     "output_type": "stream",
     "text": [
      "/var/folders/7z/7q00pypj1_sf2clps66cxc9r0000gn/T/ipykernel_2964/1753532913.py:33: FutureWarning: Passing literal html to 'read_html' is deprecated and will be removed in a future version. To read from a literal string, wrap it in a 'StringIO' object.\n",
      "  df = pd.read_html(str(table))[0]\n"
     ]
    },
    {
     "name": "stdout",
     "output_type": "stream",
     "text": [
      "Processing  Furkan Korkmaz\n"
     ]
    },
    {
     "name": "stderr",
     "output_type": "stream",
     "text": [
      "/var/folders/7z/7q00pypj1_sf2clps66cxc9r0000gn/T/ipykernel_2964/1753532913.py:33: FutureWarning: Passing literal html to 'read_html' is deprecated and will be removed in a future version. To read from a literal string, wrap it in a 'StringIO' object.\n",
      "  df = pd.read_html(str(table))[0]\n"
     ]
    },
    {
     "name": "stdout",
     "output_type": "stream",
     "text": [
      "Processing  Gabe Vincent\n"
     ]
    },
    {
     "name": "stderr",
     "output_type": "stream",
     "text": [
      "/var/folders/7z/7q00pypj1_sf2clps66cxc9r0000gn/T/ipykernel_2964/1753532913.py:33: FutureWarning: Passing literal html to 'read_html' is deprecated and will be removed in a future version. To read from a literal string, wrap it in a 'StringIO' object.\n",
      "  df = pd.read_html(str(table))[0]\n"
     ]
    },
    {
     "name": "stdout",
     "output_type": "stream",
     "text": [
      "Processing  Gabriel Deck\n",
      "Last 5 games div not found.\n",
      "Processing  Garrett Temple\n"
     ]
    },
    {
     "name": "stderr",
     "output_type": "stream",
     "text": [
      "/var/folders/7z/7q00pypj1_sf2clps66cxc9r0000gn/T/ipykernel_2964/1753532913.py:33: FutureWarning: Passing literal html to 'read_html' is deprecated and will be removed in a future version. To read from a literal string, wrap it in a 'StringIO' object.\n",
      "  df = pd.read_html(str(table))[0]\n"
     ]
    },
    {
     "name": "stdout",
     "output_type": "stream",
     "text": [
      "Processing  Garrison Mathews\n"
     ]
    },
    {
     "name": "stderr",
     "output_type": "stream",
     "text": [
      "/var/folders/7z/7q00pypj1_sf2clps66cxc9r0000gn/T/ipykernel_2964/1753532913.py:33: FutureWarning: Passing literal html to 'read_html' is deprecated and will be removed in a future version. To read from a literal string, wrap it in a 'StringIO' object.\n",
      "  df = pd.read_html(str(table))[0]\n"
     ]
    },
    {
     "name": "stdout",
     "output_type": "stream",
     "text": [
      "Processing  Gary Clark Jr.\n",
      "No search results found for the player.\n",
      "Processing  Gary Harris\n"
     ]
    },
    {
     "name": "stderr",
     "output_type": "stream",
     "text": [
      "/var/folders/7z/7q00pypj1_sf2clps66cxc9r0000gn/T/ipykernel_2964/1753532913.py:33: FutureWarning: Passing literal html to 'read_html' is deprecated and will be removed in a future version. To read from a literal string, wrap it in a 'StringIO' object.\n",
      "  df = pd.read_html(str(table))[0]\n"
     ]
    },
    {
     "name": "stdout",
     "output_type": "stream",
     "text": [
      "Processing  Gary Payton II\n"
     ]
    },
    {
     "name": "stderr",
     "output_type": "stream",
     "text": [
      "/var/folders/7z/7q00pypj1_sf2clps66cxc9r0000gn/T/ipykernel_2964/1753532913.py:33: FutureWarning: Passing literal html to 'read_html' is deprecated and will be removed in a future version. To read from a literal string, wrap it in a 'StringIO' object.\n",
      "  df = pd.read_html(str(table))[0]\n"
     ]
    },
    {
     "name": "stdout",
     "output_type": "stream",
     "text": [
      "Processing  Gary Trent Jr.\n"
     ]
    },
    {
     "name": "stderr",
     "output_type": "stream",
     "text": [
      "/var/folders/7z/7q00pypj1_sf2clps66cxc9r0000gn/T/ipykernel_2964/1753532913.py:33: FutureWarning: Passing literal html to 'read_html' is deprecated and will be removed in a future version. To read from a literal string, wrap it in a 'StringIO' object.\n",
      "  df = pd.read_html(str(table))[0]\n"
     ]
    },
    {
     "name": "stdout",
     "output_type": "stream",
     "text": [
      "Processing  George Hill\n",
      "Last 5 games div not found.\n",
      "Processing  Georges Niang\n"
     ]
    },
    {
     "name": "stderr",
     "output_type": "stream",
     "text": [
      "/var/folders/7z/7q00pypj1_sf2clps66cxc9r0000gn/T/ipykernel_2964/1753532913.py:33: FutureWarning: Passing literal html to 'read_html' is deprecated and will be removed in a future version. To read from a literal string, wrap it in a 'StringIO' object.\n",
      "  df = pd.read_html(str(table))[0]\n"
     ]
    },
    {
     "name": "stdout",
     "output_type": "stream",
     "text": [
      "Processing  Giannis Antetokounmpo\n"
     ]
    },
    {
     "name": "stderr",
     "output_type": "stream",
     "text": [
      "/var/folders/7z/7q00pypj1_sf2clps66cxc9r0000gn/T/ipykernel_2964/1753532913.py:33: FutureWarning: Passing literal html to 'read_html' is deprecated and will be removed in a future version. To read from a literal string, wrap it in a 'StringIO' object.\n",
      "  df = pd.read_html(str(table))[0]\n"
     ]
    },
    {
     "name": "stdout",
     "output_type": "stream",
     "text": [
      "Processing  Glenn Robinson III\n",
      "Last 5 games div not found.\n",
      "Processing  Goga Bitadze\n"
     ]
    },
    {
     "name": "stderr",
     "output_type": "stream",
     "text": [
      "/var/folders/7z/7q00pypj1_sf2clps66cxc9r0000gn/T/ipykernel_2964/1753532913.py:33: FutureWarning: Passing literal html to 'read_html' is deprecated and will be removed in a future version. To read from a literal string, wrap it in a 'StringIO' object.\n",
      "  df = pd.read_html(str(table))[0]\n"
     ]
    },
    {
     "name": "stdout",
     "output_type": "stream",
     "text": [
      "Processing  Goran Dragic\n",
      "Last 5 games div not found.\n",
      "Processing  Gordon Hayward\n"
     ]
    },
    {
     "name": "stderr",
     "output_type": "stream",
     "text": [
      "/var/folders/7z/7q00pypj1_sf2clps66cxc9r0000gn/T/ipykernel_2964/1753532913.py:33: FutureWarning: Passing literal html to 'read_html' is deprecated and will be removed in a future version. To read from a literal string, wrap it in a 'StringIO' object.\n",
      "  df = pd.read_html(str(table))[0]\n"
     ]
    },
    {
     "name": "stdout",
     "output_type": "stream",
     "text": [
      "Processing  Gorgui Dieng\n",
      "Last 5 games div not found.\n",
      "Processing  Grant Riller\n",
      "Last 5 games div not found.\n",
      "Processing  Grant Williams\n"
     ]
    },
    {
     "name": "stderr",
     "output_type": "stream",
     "text": [
      "/var/folders/7z/7q00pypj1_sf2clps66cxc9r0000gn/T/ipykernel_2964/1753532913.py:33: FutureWarning: Passing literal html to 'read_html' is deprecated and will be removed in a future version. To read from a literal string, wrap it in a 'StringIO' object.\n",
      "  df = pd.read_html(str(table))[0]\n"
     ]
    },
    {
     "name": "stdout",
     "output_type": "stream",
     "text": [
      "Processing  Grayson Allen\n"
     ]
    },
    {
     "name": "stderr",
     "output_type": "stream",
     "text": [
      "/var/folders/7z/7q00pypj1_sf2clps66cxc9r0000gn/T/ipykernel_2964/1753532913.py:33: FutureWarning: Passing literal html to 'read_html' is deprecated and will be removed in a future version. To read from a literal string, wrap it in a 'StringIO' object.\n",
      "  df = pd.read_html(str(table))[0]\n"
     ]
    },
    {
     "name": "stdout",
     "output_type": "stream",
     "text": [
      "Processing  Greg Brown III\n"
     ]
    },
    {
     "name": "stderr",
     "output_type": "stream",
     "text": [
      "/var/folders/7z/7q00pypj1_sf2clps66cxc9r0000gn/T/ipykernel_2964/1753532913.py:33: FutureWarning: Passing literal html to 'read_html' is deprecated and will be removed in a future version. To read from a literal string, wrap it in a 'StringIO' object.\n",
      "  df = pd.read_html(str(table))[0]\n"
     ]
    },
    {
     "name": "stdout",
     "output_type": "stream",
     "text": [
      "Processing  Greg Monroe\n",
      "Last 5 games div not found.\n",
      "Processing  Greg Whittington\n",
      "Last 5 games div not found.\n",
      "Processing  Guillermo Hernangomez / Willy Hernangomez\n",
      "No search results found for the player.\n",
      "Processing  Hamidou Diallo\n",
      "Last 5 games div not found.\n",
      "Processing  Harrison Barnes\n"
     ]
    },
    {
     "name": "stderr",
     "output_type": "stream",
     "text": [
      "/var/folders/7z/7q00pypj1_sf2clps66cxc9r0000gn/T/ipykernel_2964/1753532913.py:33: FutureWarning: Passing literal html to 'read_html' is deprecated and will be removed in a future version. To read from a literal string, wrap it in a 'StringIO' object.\n",
      "  df = pd.read_html(str(table))[0]\n"
     ]
    },
    {
     "name": "stdout",
     "output_type": "stream",
     "text": [
      "Processing  Harry Giles III\n",
      "No search results found for the player.\n",
      "Processing  Hassan Whiteside\n",
      "Last 5 games div not found.\n",
      "Processing  Hassani Gravett\n",
      "Last 5 games div not found.\n",
      "Processing  Heat\n",
      "Last 5 games div not found.\n",
      "Processing  Herbert Jones / Herb Jones (Keyshawn)\n",
      "No search results found for the player.\n",
      "Processing  Ignas Brazdeikis / Iggy Brazdeikis\n",
      "No search results found for the player.\n",
      "Processing  Iman Shumpert\n",
      "Last 5 games div not found.\n",
      "Processing  Immanuel Quickley\n"
     ]
    },
    {
     "name": "stderr",
     "output_type": "stream",
     "text": [
      "/var/folders/7z/7q00pypj1_sf2clps66cxc9r0000gn/T/ipykernel_2964/1753532913.py:33: FutureWarning: Passing literal html to 'read_html' is deprecated and will be removed in a future version. To read from a literal string, wrap it in a 'StringIO' object.\n",
      "  df = pd.read_html(str(table))[0]\n"
     ]
    },
    {
     "name": "stdout",
     "output_type": "stream",
     "text": [
      "Processing  Isaac Bonga\n",
      "Last 5 games div not found.\n",
      "Processing  Isaac Okoro\n"
     ]
    },
    {
     "name": "stderr",
     "output_type": "stream",
     "text": [
      "/var/folders/7z/7q00pypj1_sf2clps66cxc9r0000gn/T/ipykernel_2964/1753532913.py:33: FutureWarning: Passing literal html to 'read_html' is deprecated and will be removed in a future version. To read from a literal string, wrap it in a 'StringIO' object.\n",
      "  df = pd.read_html(str(table))[0]\n"
     ]
    },
    {
     "name": "stdout",
     "output_type": "stream",
     "text": [
      "Processing  Isaiah Hartenstein\n"
     ]
    },
    {
     "name": "stderr",
     "output_type": "stream",
     "text": [
      "/var/folders/7z/7q00pypj1_sf2clps66cxc9r0000gn/T/ipykernel_2964/1753532913.py:33: FutureWarning: Passing literal html to 'read_html' is deprecated and will be removed in a future version. To read from a literal string, wrap it in a 'StringIO' object.\n",
      "  df = pd.read_html(str(table))[0]\n"
     ]
    },
    {
     "name": "stdout",
     "output_type": "stream",
     "text": [
      "Processing  Isaiah Jackson\n"
     ]
    },
    {
     "name": "stderr",
     "output_type": "stream",
     "text": [
      "/var/folders/7z/7q00pypj1_sf2clps66cxc9r0000gn/T/ipykernel_2964/1753532913.py:33: FutureWarning: Passing literal html to 'read_html' is deprecated and will be removed in a future version. To read from a literal string, wrap it in a 'StringIO' object.\n",
      "  df = pd.read_html(str(table))[0]\n"
     ]
    },
    {
     "name": "stdout",
     "output_type": "stream",
     "text": [
      "Processing  Isaiah Joe\n"
     ]
    },
    {
     "name": "stderr",
     "output_type": "stream",
     "text": [
      "/var/folders/7z/7q00pypj1_sf2clps66cxc9r0000gn/T/ipykernel_2964/1753532913.py:33: FutureWarning: Passing literal html to 'read_html' is deprecated and will be removed in a future version. To read from a literal string, wrap it in a 'StringIO' object.\n",
      "  df = pd.read_html(str(table))[0]\n"
     ]
    },
    {
     "name": "stdout",
     "output_type": "stream",
     "text": [
      "Processing  Isaiah Livers\n"
     ]
    },
    {
     "name": "stderr",
     "output_type": "stream",
     "text": [
      "/var/folders/7z/7q00pypj1_sf2clps66cxc9r0000gn/T/ipykernel_2964/1753532913.py:33: FutureWarning: Passing literal html to 'read_html' is deprecated and will be removed in a future version. To read from a literal string, wrap it in a 'StringIO' object.\n",
      "  df = pd.read_html(str(table))[0]\n"
     ]
    },
    {
     "name": "stdout",
     "output_type": "stream",
     "text": [
      "Processing  Isaiah Roby\n",
      "Last 5 games div not found.\n",
      "Processing  Isaiah Stewart\n"
     ]
    },
    {
     "name": "stderr",
     "output_type": "stream",
     "text": [
      "/var/folders/7z/7q00pypj1_sf2clps66cxc9r0000gn/T/ipykernel_2964/1753532913.py:33: FutureWarning: Passing literal html to 'read_html' is deprecated and will be removed in a future version. To read from a literal string, wrap it in a 'StringIO' object.\n",
      "  df = pd.read_html(str(table))[0]\n"
     ]
    },
    {
     "name": "stdout",
     "output_type": "stream",
     "text": [
      "Processing  Isaiah Thomas\n"
     ]
    },
    {
     "name": "stderr",
     "output_type": "stream",
     "text": [
      "/var/folders/7z/7q00pypj1_sf2clps66cxc9r0000gn/T/ipykernel_2964/1753532913.py:33: FutureWarning: Passing literal html to 'read_html' is deprecated and will be removed in a future version. To read from a literal string, wrap it in a 'StringIO' object.\n",
      "  df = pd.read_html(str(table))[0]\n"
     ]
    },
    {
     "name": "stdout",
     "output_type": "stream",
     "text": [
      "Processing  Isaiah Todd\n",
      "Last 5 games div not found.\n",
      "Processing  Ishmael Smith / Ish Smith\n",
      "No search results found for the player.\n",
      "Processing  Ishmail Wainright / Ish Wainright\n",
      "No search results found for the player.\n",
      "Processing  Ivica Zubac\n"
     ]
    },
    {
     "name": "stderr",
     "output_type": "stream",
     "text": [
      "/var/folders/7z/7q00pypj1_sf2clps66cxc9r0000gn/T/ipykernel_2964/1753532913.py:33: FutureWarning: Passing literal html to 'read_html' is deprecated and will be removed in a future version. To read from a literal string, wrap it in a 'StringIO' object.\n",
      "  df = pd.read_html(str(table))[0]\n"
     ]
    },
    {
     "name": "stdout",
     "output_type": "stream",
     "text": [
      "Processing  J.D. Davison\n",
      "No search results found for the player.\n",
      "Processing  J.J. Redick\n",
      "No search results found for the player.\n",
      "Processing  J.T. Thor\n",
      "No search results found for the player.\n",
      "Processing  Ja Morant\n"
     ]
    },
    {
     "name": "stderr",
     "output_type": "stream",
     "text": [
      "/var/folders/7z/7q00pypj1_sf2clps66cxc9r0000gn/T/ipykernel_2964/1753532913.py:33: FutureWarning: Passing literal html to 'read_html' is deprecated and will be removed in a future version. To read from a literal string, wrap it in a 'StringIO' object.\n",
      "  df = pd.read_html(str(table))[0]\n"
     ]
    },
    {
     "name": "stdout",
     "output_type": "stream",
     "text": [
      "Processing  JaKarr Sampson\n",
      "Last 5 games div not found.\n",
      "Processing  JaMychal Green\n",
      "Last 5 games div not found.\n",
      "Processing  JaQuori McLaughlin\n",
      "Last 5 games div not found.\n",
      "Processing  JaVale McGee\n"
     ]
    },
    {
     "name": "stderr",
     "output_type": "stream",
     "text": [
      "/var/folders/7z/7q00pypj1_sf2clps66cxc9r0000gn/T/ipykernel_2964/1753532913.py:33: FutureWarning: Passing literal html to 'read_html' is deprecated and will be removed in a future version. To read from a literal string, wrap it in a 'StringIO' object.\n",
      "  df = pd.read_html(str(table))[0]\n"
     ]
    },
    {
     "name": "stdout",
     "output_type": "stream",
     "text": [
      "Processing  Jabari Parker\n",
      "Last 5 games div not found.\n",
      "Processing  Jacob Evans\n",
      "Last 5 games div not found.\n",
      "Processing  Jaden Ivey\n"
     ]
    },
    {
     "name": "stderr",
     "output_type": "stream",
     "text": [
      "/var/folders/7z/7q00pypj1_sf2clps66cxc9r0000gn/T/ipykernel_2964/1753532913.py:33: FutureWarning: Passing literal html to 'read_html' is deprecated and will be removed in a future version. To read from a literal string, wrap it in a 'StringIO' object.\n",
      "  df = pd.read_html(str(table))[0]\n"
     ]
    },
    {
     "name": "stdout",
     "output_type": "stream",
     "text": [
      "Processing  Jaden McDaniels\n"
     ]
    },
    {
     "name": "stderr",
     "output_type": "stream",
     "text": [
      "/var/folders/7z/7q00pypj1_sf2clps66cxc9r0000gn/T/ipykernel_2964/1753532913.py:33: FutureWarning: Passing literal html to 'read_html' is deprecated and will be removed in a future version. To read from a literal string, wrap it in a 'StringIO' object.\n",
      "  df = pd.read_html(str(table))[0]\n"
     ]
    },
    {
     "name": "stdout",
     "output_type": "stream",
     "text": [
      "Processing  Jaden Springer\n"
     ]
    },
    {
     "name": "stderr",
     "output_type": "stream",
     "text": [
      "/var/folders/7z/7q00pypj1_sf2clps66cxc9r0000gn/T/ipykernel_2964/1753532913.py:33: FutureWarning: Passing literal html to 'read_html' is deprecated and will be removed in a future version. To read from a literal string, wrap it in a 'StringIO' object.\n",
      "  df = pd.read_html(str(table))[0]\n"
     ]
    },
    {
     "name": "stdout",
     "output_type": "stream",
     "text": [
      "Processing  Jae Crowder\n"
     ]
    },
    {
     "name": "stderr",
     "output_type": "stream",
     "text": [
      "/var/folders/7z/7q00pypj1_sf2clps66cxc9r0000gn/T/ipykernel_2964/1753532913.py:33: FutureWarning: Passing literal html to 'read_html' is deprecated and will be removed in a future version. To read from a literal string, wrap it in a 'StringIO' object.\n",
      "  df = pd.read_html(str(table))[0]\n"
     ]
    },
    {
     "name": "stdout",
     "output_type": "stream",
     "text": [
      "Processing  Jae'Sean Tate\n"
     ]
    },
    {
     "name": "stderr",
     "output_type": "stream",
     "text": [
      "/var/folders/7z/7q00pypj1_sf2clps66cxc9r0000gn/T/ipykernel_2964/1753532913.py:33: FutureWarning: Passing literal html to 'read_html' is deprecated and will be removed in a future version. To read from a literal string, wrap it in a 'StringIO' object.\n",
      "  df = pd.read_html(str(table))[0]\n"
     ]
    },
    {
     "name": "stdout",
     "output_type": "stream",
     "text": [
      "Processing  Jahlil Okafor\n",
      "Last 5 games div not found.\n",
      "Processing  Jahmi'us Ramsey\n"
     ]
    },
    {
     "name": "stderr",
     "output_type": "stream",
     "text": [
      "/var/folders/7z/7q00pypj1_sf2clps66cxc9r0000gn/T/ipykernel_2964/1753532913.py:33: FutureWarning: Passing literal html to 'read_html' is deprecated and will be removed in a future version. To read from a literal string, wrap it in a 'StringIO' object.\n",
      "  df = pd.read_html(str(table))[0]\n"
     ]
    },
    {
     "name": "stdout",
     "output_type": "stream",
     "text": [
      "Processing  Jake LaRavia\n"
     ]
    },
    {
     "name": "stderr",
     "output_type": "stream",
     "text": [
      "/var/folders/7z/7q00pypj1_sf2clps66cxc9r0000gn/T/ipykernel_2964/1753532913.py:33: FutureWarning: Passing literal html to 'read_html' is deprecated and will be removed in a future version. To read from a literal string, wrap it in a 'StringIO' object.\n",
      "  df = pd.read_html(str(table))[0]\n"
     ]
    },
    {
     "name": "stdout",
     "output_type": "stream",
     "text": [
      "Processing  Jake Layman\n",
      "Last 5 games div not found.\n",
      "Processing  Jakob Poeltl\n"
     ]
    },
    {
     "name": "stderr",
     "output_type": "stream",
     "text": [
      "/var/folders/7z/7q00pypj1_sf2clps66cxc9r0000gn/T/ipykernel_2964/1753532913.py:33: FutureWarning: Passing literal html to 'read_html' is deprecated and will be removed in a future version. To read from a literal string, wrap it in a 'StringIO' object.\n",
      "  df = pd.read_html(str(table))[0]\n"
     ]
    },
    {
     "name": "stdout",
     "output_type": "stream",
     "text": [
      "Processing  Jalen Brunson\n"
     ]
    },
    {
     "name": "stderr",
     "output_type": "stream",
     "text": [
      "/var/folders/7z/7q00pypj1_sf2clps66cxc9r0000gn/T/ipykernel_2964/1753532913.py:33: FutureWarning: Passing literal html to 'read_html' is deprecated and will be removed in a future version. To read from a literal string, wrap it in a 'StringIO' object.\n",
      "  df = pd.read_html(str(table))[0]\n"
     ]
    },
    {
     "name": "stdout",
     "output_type": "stream",
     "text": [
      "Processing  Jalen Duren\n"
     ]
    },
    {
     "name": "stderr",
     "output_type": "stream",
     "text": [
      "/var/folders/7z/7q00pypj1_sf2clps66cxc9r0000gn/T/ipykernel_2964/1753532913.py:33: FutureWarning: Passing literal html to 'read_html' is deprecated and will be removed in a future version. To read from a literal string, wrap it in a 'StringIO' object.\n",
      "  df = pd.read_html(str(table))[0]\n"
     ]
    },
    {
     "name": "stdout",
     "output_type": "stream",
     "text": [
      "Processing  Jalen Green\n"
     ]
    },
    {
     "name": "stderr",
     "output_type": "stream",
     "text": [
      "/var/folders/7z/7q00pypj1_sf2clps66cxc9r0000gn/T/ipykernel_2964/1753532913.py:33: FutureWarning: Passing literal html to 'read_html' is deprecated and will be removed in a future version. To read from a literal string, wrap it in a 'StringIO' object.\n",
      "  df = pd.read_html(str(table))[0]\n"
     ]
    },
    {
     "name": "stdout",
     "output_type": "stream",
     "text": [
      "Processing  Jalen Harris\n",
      "Last 5 games div not found.\n",
      "Processing  Jalen Johnson\n"
     ]
    },
    {
     "name": "stderr",
     "output_type": "stream",
     "text": [
      "/var/folders/7z/7q00pypj1_sf2clps66cxc9r0000gn/T/ipykernel_2964/1753532913.py:33: FutureWarning: Passing literal html to 'read_html' is deprecated and will be removed in a future version. To read from a literal string, wrap it in a 'StringIO' object.\n",
      "  df = pd.read_html(str(table))[0]\n"
     ]
    },
    {
     "name": "stdout",
     "output_type": "stream",
     "text": [
      "Processing  Jalen Lecque\n",
      "Last 5 games div not found.\n",
      "Processing  Jalen McDaniels\n"
     ]
    },
    {
     "name": "stderr",
     "output_type": "stream",
     "text": [
      "/var/folders/7z/7q00pypj1_sf2clps66cxc9r0000gn/T/ipykernel_2964/1753532913.py:33: FutureWarning: Passing literal html to 'read_html' is deprecated and will be removed in a future version. To read from a literal string, wrap it in a 'StringIO' object.\n",
      "  df = pd.read_html(str(table))[0]\n"
     ]
    },
    {
     "name": "stdout",
     "output_type": "stream",
     "text": [
      "Processing  Jalen Smith\n"
     ]
    },
    {
     "name": "stderr",
     "output_type": "stream",
     "text": [
      "/var/folders/7z/7q00pypj1_sf2clps66cxc9r0000gn/T/ipykernel_2964/1753532913.py:33: FutureWarning: Passing literal html to 'read_html' is deprecated and will be removed in a future version. To read from a literal string, wrap it in a 'StringIO' object.\n",
      "  df = pd.read_html(str(table))[0]\n"
     ]
    },
    {
     "name": "stdout",
     "output_type": "stream",
     "text": [
      "Processing  Jalen Suggs\n"
     ]
    },
    {
     "name": "stderr",
     "output_type": "stream",
     "text": [
      "/var/folders/7z/7q00pypj1_sf2clps66cxc9r0000gn/T/ipykernel_2964/1753532913.py:33: FutureWarning: Passing literal html to 'read_html' is deprecated and will be removed in a future version. To read from a literal string, wrap it in a 'StringIO' object.\n",
      "  df = pd.read_html(str(table))[0]\n"
     ]
    },
    {
     "name": "stdout",
     "output_type": "stream",
     "text": [
      "Processing  Jamal Crawford\n",
      "Last 5 games div not found.\n",
      "Processing  Jamal Murray\n"
     ]
    },
    {
     "name": "stderr",
     "output_type": "stream",
     "text": [
      "/var/folders/7z/7q00pypj1_sf2clps66cxc9r0000gn/T/ipykernel_2964/1753532913.py:33: FutureWarning: Passing literal html to 'read_html' is deprecated and will be removed in a future version. To read from a literal string, wrap it in a 'StringIO' object.\n",
      "  df = pd.read_html(str(table))[0]\n"
     ]
    },
    {
     "name": "stdout",
     "output_type": "stream",
     "text": [
      "Processing  James Bouknight\n"
     ]
    },
    {
     "name": "stderr",
     "output_type": "stream",
     "text": [
      "/var/folders/7z/7q00pypj1_sf2clps66cxc9r0000gn/T/ipykernel_2964/1753532913.py:33: FutureWarning: Passing literal html to 'read_html' is deprecated and will be removed in a future version. To read from a literal string, wrap it in a 'StringIO' object.\n",
      "  df = pd.read_html(str(table))[0]\n"
     ]
    },
    {
     "name": "stdout",
     "output_type": "stream",
     "text": [
      "Processing  James Ennis III\n",
      "Last 5 games div not found.\n",
      "Processing  James Harden\n"
     ]
    },
    {
     "name": "stderr",
     "output_type": "stream",
     "text": [
      "/var/folders/7z/7q00pypj1_sf2clps66cxc9r0000gn/T/ipykernel_2964/1753532913.py:33: FutureWarning: Passing literal html to 'read_html' is deprecated and will be removed in a future version. To read from a literal string, wrap it in a 'StringIO' object.\n",
      "  df = pd.read_html(str(table))[0]\n"
     ]
    },
    {
     "name": "stdout",
     "output_type": "stream",
     "text": [
      "Processing  James Johnson\n"
     ]
    },
    {
     "name": "stderr",
     "output_type": "stream",
     "text": [
      "/var/folders/7z/7q00pypj1_sf2clps66cxc9r0000gn/T/ipykernel_2964/1753532913.py:33: FutureWarning: Passing literal html to 'read_html' is deprecated and will be removed in a future version. To read from a literal string, wrap it in a 'StringIO' object.\n",
      "  df = pd.read_html(str(table))[0]\n"
     ]
    },
    {
     "name": "stdout",
     "output_type": "stream",
     "text": [
      "Processing  James Wiseman\n"
     ]
    },
    {
     "name": "stderr",
     "output_type": "stream",
     "text": [
      "/var/folders/7z/7q00pypj1_sf2clps66cxc9r0000gn/T/ipykernel_2964/1753532913.py:33: FutureWarning: Passing literal html to 'read_html' is deprecated and will be removed in a future version. To read from a literal string, wrap it in a 'StringIO' object.\n",
      "  df = pd.read_html(str(table))[0]\n"
     ]
    },
    {
     "name": "stdout",
     "output_type": "stream",
     "text": [
      "Processing  Jamorko Pickett\n",
      "Last 5 games div not found.\n",
      "Processing  Jared Butler\n"
     ]
    },
    {
     "name": "stderr",
     "output_type": "stream",
     "text": [
      "/var/folders/7z/7q00pypj1_sf2clps66cxc9r0000gn/T/ipykernel_2964/1753532913.py:33: FutureWarning: Passing literal html to 'read_html' is deprecated and will be removed in a future version. To read from a literal string, wrap it in a 'StringIO' object.\n",
      "  df = pd.read_html(str(table))[0]\n"
     ]
    },
    {
     "name": "stdout",
     "output_type": "stream",
     "text": [
      "Processing  Jared Dudley\n",
      "Last 5 games div not found.\n",
      "Processing  Jared Harper\n",
      "Last 5 games div not found.\n",
      "Processing  Jaren Jackson Jr.\n"
     ]
    },
    {
     "name": "stderr",
     "output_type": "stream",
     "text": [
      "/var/folders/7z/7q00pypj1_sf2clps66cxc9r0000gn/T/ipykernel_2964/1753532913.py:33: FutureWarning: Passing literal html to 'read_html' is deprecated and will be removed in a future version. To read from a literal string, wrap it in a 'StringIO' object.\n",
      "  df = pd.read_html(str(table))[0]\n"
     ]
    },
    {
     "name": "stdout",
     "output_type": "stream",
     "text": [
      "Processing  Jarred Vanderbilt\n"
     ]
    },
    {
     "name": "stderr",
     "output_type": "stream",
     "text": [
      "/var/folders/7z/7q00pypj1_sf2clps66cxc9r0000gn/T/ipykernel_2964/1753532913.py:33: FutureWarning: Passing literal html to 'read_html' is deprecated and will be removed in a future version. To read from a literal string, wrap it in a 'StringIO' object.\n",
      "  df = pd.read_html(str(table))[0]\n"
     ]
    },
    {
     "name": "stdout",
     "output_type": "stream",
     "text": [
      "Processing  Jarrell Brantley\n",
      "Last 5 games div not found.\n",
      "Processing  Jarrett Allen\n"
     ]
    },
    {
     "name": "stderr",
     "output_type": "stream",
     "text": [
      "/var/folders/7z/7q00pypj1_sf2clps66cxc9r0000gn/T/ipykernel_2964/1753532913.py:33: FutureWarning: Passing literal html to 'read_html' is deprecated and will be removed in a future version. To read from a literal string, wrap it in a 'StringIO' object.\n",
      "  df = pd.read_html(str(table))[0]\n"
     ]
    },
    {
     "name": "stdout",
     "output_type": "stream",
     "text": [
      "Processing  Jarrett Culver\n",
      "Last 5 games div not found.\n",
      "Processing  Jason Preston\n"
     ]
    },
    {
     "name": "stderr",
     "output_type": "stream",
     "text": [
      "/var/folders/7z/7q00pypj1_sf2clps66cxc9r0000gn/T/ipykernel_2964/1753532913.py:33: FutureWarning: Passing literal html to 'read_html' is deprecated and will be removed in a future version. To read from a literal string, wrap it in a 'StringIO' object.\n",
      "  df = pd.read_html(str(table))[0]\n"
     ]
    },
    {
     "name": "stdout",
     "output_type": "stream",
     "text": [
      "Processing  Javonte Green\n"
     ]
    },
    {
     "name": "stderr",
     "output_type": "stream",
     "text": [
      "/var/folders/7z/7q00pypj1_sf2clps66cxc9r0000gn/T/ipykernel_2964/1753532913.py:33: FutureWarning: Passing literal html to 'read_html' is deprecated and will be removed in a future version. To read from a literal string, wrap it in a 'StringIO' object.\n",
      "  df = pd.read_html(str(table))[0]\n"
     ]
    },
    {
     "name": "stdout",
     "output_type": "stream",
     "text": [
      "Processing  Javonte Smart\n",
      "Last 5 games div not found.\n",
      "Processing  Jaxson Hayes\n"
     ]
    },
    {
     "name": "stderr",
     "output_type": "stream",
     "text": [
      "/var/folders/7z/7q00pypj1_sf2clps66cxc9r0000gn/T/ipykernel_2964/1753532913.py:33: FutureWarning: Passing literal html to 'read_html' is deprecated and will be removed in a future version. To read from a literal string, wrap it in a 'StringIO' object.\n",
      "  df = pd.read_html(str(table))[0]\n"
     ]
    },
    {
     "name": "stdout",
     "output_type": "stream",
     "text": [
      "Processing  Jay Scrubb\n",
      "Last 5 games div not found.\n",
      "Processing  Jaylen Adams\n",
      "Last 5 games div not found.\n",
      "Processing  Jaylen Brown\n"
     ]
    },
    {
     "name": "stderr",
     "output_type": "stream",
     "text": [
      "/var/folders/7z/7q00pypj1_sf2clps66cxc9r0000gn/T/ipykernel_2964/1753532913.py:33: FutureWarning: Passing literal html to 'read_html' is deprecated and will be removed in a future version. To read from a literal string, wrap it in a 'StringIO' object.\n",
      "  df = pd.read_html(str(table))[0]\n"
     ]
    },
    {
     "name": "stdout",
     "output_type": "stream",
     "text": [
      "Processing  Jaylen Hoard\n",
      "Last 5 games div not found.\n",
      "Processing  Jaylen Nowell\n"
     ]
    },
    {
     "name": "stderr",
     "output_type": "stream",
     "text": [
      "/var/folders/7z/7q00pypj1_sf2clps66cxc9r0000gn/T/ipykernel_2964/1753532913.py:33: FutureWarning: Passing literal html to 'read_html' is deprecated and will be removed in a future version. To read from a literal string, wrap it in a 'StringIO' object.\n",
      "  df = pd.read_html(str(table))[0]\n"
     ]
    },
    {
     "name": "stdout",
     "output_type": "stream",
     "text": [
      "Processing  Jayson Tatum\n"
     ]
    },
    {
     "name": "stderr",
     "output_type": "stream",
     "text": [
      "/var/folders/7z/7q00pypj1_sf2clps66cxc9r0000gn/T/ipykernel_2964/1753532913.py:33: FutureWarning: Passing literal html to 'read_html' is deprecated and will be removed in a future version. To read from a literal string, wrap it in a 'StringIO' object.\n",
      "  df = pd.read_html(str(table))[0]\n"
     ]
    },
    {
     "name": "stdout",
     "output_type": "stream",
     "text": [
      "Processing  Jeff Dowtin Jr.\n",
      "No search results found for the player.\n",
      "Processing  Jeff Green\n"
     ]
    },
    {
     "name": "stderr",
     "output_type": "stream",
     "text": [
      "/var/folders/7z/7q00pypj1_sf2clps66cxc9r0000gn/T/ipykernel_2964/1753532913.py:33: FutureWarning: Passing literal html to 'read_html' is deprecated and will be removed in a future version. To read from a literal string, wrap it in a 'StringIO' object.\n",
      "  df = pd.read_html(str(table))[0]\n"
     ]
    },
    {
     "name": "stdout",
     "output_type": "stream",
     "text": [
      "Processing  Jeff Teague\n",
      "Last 5 games div not found.\n",
      "Processing  Jerami Grant\n"
     ]
    },
    {
     "name": "stderr",
     "output_type": "stream",
     "text": [
      "/var/folders/7z/7q00pypj1_sf2clps66cxc9r0000gn/T/ipykernel_2964/1753532913.py:33: FutureWarning: Passing literal html to 'read_html' is deprecated and will be removed in a future version. To read from a literal string, wrap it in a 'StringIO' object.\n",
      "  df = pd.read_html(str(table))[0]\n"
     ]
    },
    {
     "name": "stdout",
     "output_type": "stream",
     "text": [
      "Processing  Jeremiah Robinson-Earl\n"
     ]
    },
    {
     "name": "stderr",
     "output_type": "stream",
     "text": [
      "/var/folders/7z/7q00pypj1_sf2clps66cxc9r0000gn/T/ipykernel_2964/1753532913.py:33: FutureWarning: Passing literal html to 'read_html' is deprecated and will be removed in a future version. To read from a literal string, wrap it in a 'StringIO' object.\n",
      "  df = pd.read_html(str(table))[0]\n"
     ]
    },
    {
     "name": "stdout",
     "output_type": "stream",
     "text": [
      "Processing  Jeremy Lamb\n",
      "Last 5 games div not found.\n",
      "Processing  Jeremy Sochan\n"
     ]
    },
    {
     "name": "stderr",
     "output_type": "stream",
     "text": [
      "/var/folders/7z/7q00pypj1_sf2clps66cxc9r0000gn/T/ipykernel_2964/1753532913.py:33: FutureWarning: Passing literal html to 'read_html' is deprecated and will be removed in a future version. To read from a literal string, wrap it in a 'StringIO' object.\n",
      "  df = pd.read_html(str(table))[0]\n"
     ]
    },
    {
     "name": "stdout",
     "output_type": "stream",
     "text": [
      "Processing  Jericho Sims\n"
     ]
    },
    {
     "name": "stderr",
     "output_type": "stream",
     "text": [
      "/var/folders/7z/7q00pypj1_sf2clps66cxc9r0000gn/T/ipykernel_2964/1753532913.py:33: FutureWarning: Passing literal html to 'read_html' is deprecated and will be removed in a future version. To read from a literal string, wrap it in a 'StringIO' object.\n",
      "  df = pd.read_html(str(table))[0]\n"
     ]
    },
    {
     "name": "stdout",
     "output_type": "stream",
     "text": [
      "Processing  Jerome Robinson\n"
     ]
    },
    {
     "name": "stderr",
     "output_type": "stream",
     "text": [
      "/var/folders/7z/7q00pypj1_sf2clps66cxc9r0000gn/T/ipykernel_2964/1753532913.py:33: FutureWarning: Passing literal html to 'read_html' is deprecated and will be removed in a future version. To read from a literal string, wrap it in a 'StringIO' object.\n",
      "  df = pd.read_html(str(table))[0]\n"
     ]
    },
    {
     "name": "stdout",
     "output_type": "stream",
     "text": [
      "Processing  Jevon Carter\n"
     ]
    },
    {
     "name": "stderr",
     "output_type": "stream",
     "text": [
      "/var/folders/7z/7q00pypj1_sf2clps66cxc9r0000gn/T/ipykernel_2964/1753532913.py:33: FutureWarning: Passing literal html to 'read_html' is deprecated and will be removed in a future version. To read from a literal string, wrap it in a 'StringIO' object.\n",
      "  df = pd.read_html(str(table))[0]\n"
     ]
    },
    {
     "name": "stdout",
     "output_type": "stream",
     "text": [
      "Processing  Jimmy Butler\n"
     ]
    },
    {
     "name": "stderr",
     "output_type": "stream",
     "text": [
      "/var/folders/7z/7q00pypj1_sf2clps66cxc9r0000gn/T/ipykernel_2964/1753532913.py:33: FutureWarning: Passing literal html to 'read_html' is deprecated and will be removed in a future version. To read from a literal string, wrap it in a 'StringIO' object.\n",
      "  df = pd.read_html(str(table))[0]\n"
     ]
    },
    {
     "name": "stdout",
     "output_type": "stream",
     "text": [
      "Processing  Jock Landale\n"
     ]
    },
    {
     "name": "stderr",
     "output_type": "stream",
     "text": [
      "/var/folders/7z/7q00pypj1_sf2clps66cxc9r0000gn/T/ipykernel_2964/1753532913.py:33: FutureWarning: Passing literal html to 'read_html' is deprecated and will be removed in a future version. To read from a literal string, wrap it in a 'StringIO' object.\n",
      "  df = pd.read_html(str(table))[0]\n"
     ]
    },
    {
     "name": "stdout",
     "output_type": "stream",
     "text": [
      "Processing  Joe Harris\n"
     ]
    },
    {
     "name": "stderr",
     "output_type": "stream",
     "text": [
      "/var/folders/7z/7q00pypj1_sf2clps66cxc9r0000gn/T/ipykernel_2964/1753532913.py:33: FutureWarning: Passing literal html to 'read_html' is deprecated and will be removed in a future version. To read from a literal string, wrap it in a 'StringIO' object.\n",
      "  df = pd.read_html(str(table))[0]\n"
     ]
    },
    {
     "name": "stdout",
     "output_type": "stream",
     "text": [
      "Processing  Joe Ingles\n"
     ]
    },
    {
     "name": "stderr",
     "output_type": "stream",
     "text": [
      "/var/folders/7z/7q00pypj1_sf2clps66cxc9r0000gn/T/ipykernel_2964/1753532913.py:33: FutureWarning: Passing literal html to 'read_html' is deprecated and will be removed in a future version. To read from a literal string, wrap it in a 'StringIO' object.\n",
      "  df = pd.read_html(str(table))[0]\n"
     ]
    },
    {
     "name": "stdout",
     "output_type": "stream",
     "text": [
      "Processing  Joe Wieskamp\n",
      "Last 5 games div not found.\n",
      "Processing  Joel Embiid\n"
     ]
    },
    {
     "name": "stderr",
     "output_type": "stream",
     "text": [
      "/var/folders/7z/7q00pypj1_sf2clps66cxc9r0000gn/T/ipykernel_2964/1753532913.py:33: FutureWarning: Passing literal html to 'read_html' is deprecated and will be removed in a future version. To read from a literal string, wrap it in a 'StringIO' object.\n",
      "  df = pd.read_html(str(table))[0]\n"
     ]
    },
    {
     "name": "stdout",
     "output_type": "stream",
     "text": [
      "Processing  John Butler Jr.\n",
      "No search results found for the player.\n",
      "Processing  John Collins (Martin)\n",
      "No search results found for the player.\n",
      "Processing  John Henson\n",
      "Last 5 games div not found.\n",
      "Processing  John Konchar\n"
     ]
    },
    {
     "name": "stderr",
     "output_type": "stream",
     "text": [
      "/var/folders/7z/7q00pypj1_sf2clps66cxc9r0000gn/T/ipykernel_2964/1753532913.py:33: FutureWarning: Passing literal html to 'read_html' is deprecated and will be removed in a future version. To read from a literal string, wrap it in a 'StringIO' object.\n",
      "  df = pd.read_html(str(table))[0]\n"
     ]
    },
    {
     "name": "stdout",
     "output_type": "stream",
     "text": [
      "Processing  John Wall (Hildred)\n",
      "No search results found for the player.\n",
      "Processing  Johnny Davis (Christian)\n",
      "No search results found for the player.\n",
      "Processing  Johnny Juzang\n"
     ]
    },
    {
     "name": "stderr",
     "output_type": "stream",
     "text": [
      "/var/folders/7z/7q00pypj1_sf2clps66cxc9r0000gn/T/ipykernel_2964/1753532913.py:33: FutureWarning: Passing literal html to 'read_html' is deprecated and will be removed in a future version. To read from a literal string, wrap it in a 'StringIO' object.\n",
      "  df = pd.read_html(str(table))[0]\n"
     ]
    },
    {
     "name": "stdout",
     "output_type": "stream",
     "text": [
      "Processing  Jonas Valanciunas\n"
     ]
    },
    {
     "name": "stderr",
     "output_type": "stream",
     "text": [
      "/var/folders/7z/7q00pypj1_sf2clps66cxc9r0000gn/T/ipykernel_2964/1753532913.py:33: FutureWarning: Passing literal html to 'read_html' is deprecated and will be removed in a future version. To read from a literal string, wrap it in a 'StringIO' object.\n",
      "  df = pd.read_html(str(table))[0]\n"
     ]
    },
    {
     "name": "stdout",
     "output_type": "stream",
     "text": [
      "Processing  Jonathan Isaac\n"
     ]
    },
    {
     "name": "stderr",
     "output_type": "stream",
     "text": [
      "/var/folders/7z/7q00pypj1_sf2clps66cxc9r0000gn/T/ipykernel_2964/1753532913.py:33: FutureWarning: Passing literal html to 'read_html' is deprecated and will be removed in a future version. To read from a literal string, wrap it in a 'StringIO' object.\n",
      "  df = pd.read_html(str(table))[0]\n"
     ]
    },
    {
     "name": "stdout",
     "output_type": "stream",
     "text": [
      "Processing  Jonathan Kuminga\n"
     ]
    },
    {
     "name": "stderr",
     "output_type": "stream",
     "text": [
      "/var/folders/7z/7q00pypj1_sf2clps66cxc9r0000gn/T/ipykernel_2964/1753532913.py:33: FutureWarning: Passing literal html to 'read_html' is deprecated and will be removed in a future version. To read from a literal string, wrap it in a 'StringIO' object.\n",
      "  df = pd.read_html(str(table))[0]\n"
     ]
    },
    {
     "name": "stdout",
     "output_type": "stream",
     "text": [
      "Processing  Jontay Porter\n"
     ]
    },
    {
     "name": "stderr",
     "output_type": "stream",
     "text": [
      "/var/folders/7z/7q00pypj1_sf2clps66cxc9r0000gn/T/ipykernel_2964/1753532913.py:33: FutureWarning: Passing literal html to 'read_html' is deprecated and will be removed in a future version. To read from a literal string, wrap it in a 'StringIO' object.\n",
      "  df = pd.read_html(str(table))[0]\n"
     ]
    },
    {
     "name": "stdout",
     "output_type": "stream",
     "text": [
      "Processing  Jordan Clarkson\n"
     ]
    },
    {
     "name": "stderr",
     "output_type": "stream",
     "text": [
      "/var/folders/7z/7q00pypj1_sf2clps66cxc9r0000gn/T/ipykernel_2964/1753532913.py:33: FutureWarning: Passing literal html to 'read_html' is deprecated and will be removed in a future version. To read from a literal string, wrap it in a 'StringIO' object.\n",
      "  df = pd.read_html(str(table))[0]\n"
     ]
    },
    {
     "name": "stdout",
     "output_type": "stream",
     "text": [
      "Processing  Jordan McLaughlin\n"
     ]
    },
    {
     "name": "stderr",
     "output_type": "stream",
     "text": [
      "/var/folders/7z/7q00pypj1_sf2clps66cxc9r0000gn/T/ipykernel_2964/1753532913.py:33: FutureWarning: Passing literal html to 'read_html' is deprecated and will be removed in a future version. To read from a literal string, wrap it in a 'StringIO' object.\n",
      "  df = pd.read_html(str(table))[0]\n"
     ]
    },
    {
     "name": "stdout",
     "output_type": "stream",
     "text": [
      "Processing  Jordan McRae\n",
      "Last 5 games div not found.\n",
      "Processing  Jordan Nwora\n"
     ]
    },
    {
     "name": "stderr",
     "output_type": "stream",
     "text": [
      "/var/folders/7z/7q00pypj1_sf2clps66cxc9r0000gn/T/ipykernel_2964/1753532913.py:33: FutureWarning: Passing literal html to 'read_html' is deprecated and will be removed in a future version. To read from a literal string, wrap it in a 'StringIO' object.\n",
      "  df = pd.read_html(str(table))[0]\n"
     ]
    },
    {
     "name": "stdout",
     "output_type": "stream",
     "text": [
      "Processing  Jordan Poole\n"
     ]
    },
    {
     "name": "stderr",
     "output_type": "stream",
     "text": [
      "/var/folders/7z/7q00pypj1_sf2clps66cxc9r0000gn/T/ipykernel_2964/1753532913.py:33: FutureWarning: Passing literal html to 'read_html' is deprecated and will be removed in a future version. To read from a literal string, wrap it in a 'StringIO' object.\n",
      "  df = pd.read_html(str(table))[0]\n"
     ]
    },
    {
     "name": "stdout",
     "output_type": "stream",
     "text": [
      "Processing  Jose Alvarado\n"
     ]
    },
    {
     "name": "stderr",
     "output_type": "stream",
     "text": [
      "/var/folders/7z/7q00pypj1_sf2clps66cxc9r0000gn/T/ipykernel_2964/1753532913.py:33: FutureWarning: Passing literal html to 'read_html' is deprecated and will be removed in a future version. To read from a literal string, wrap it in a 'StringIO' object.\n",
      "  df = pd.read_html(str(table))[0]\n"
     ]
    },
    {
     "name": "stdout",
     "output_type": "stream",
     "text": [
      "Processing  Jose Juan Barea / Jose Barea / J.J. Barea\n",
      "No search results found for the player.\n",
      "Processing  Josh Giddey\n"
     ]
    },
    {
     "name": "stderr",
     "output_type": "stream",
     "text": [
      "/var/folders/7z/7q00pypj1_sf2clps66cxc9r0000gn/T/ipykernel_2964/1753532913.py:33: FutureWarning: Passing literal html to 'read_html' is deprecated and will be removed in a future version. To read from a literal string, wrap it in a 'StringIO' object.\n",
      "  df = pd.read_html(str(table))[0]\n"
     ]
    },
    {
     "name": "stdout",
     "output_type": "stream",
     "text": [
      "Processing  Josh Green\n"
     ]
    },
    {
     "name": "stderr",
     "output_type": "stream",
     "text": [
      "/var/folders/7z/7q00pypj1_sf2clps66cxc9r0000gn/T/ipykernel_2964/1753532913.py:33: FutureWarning: Passing literal html to 'read_html' is deprecated and will be removed in a future version. To read from a literal string, wrap it in a 'StringIO' object.\n",
      "  df = pd.read_html(str(table))[0]\n"
     ]
    },
    {
     "name": "stdout",
     "output_type": "stream",
     "text": [
      "Processing  Josh Hall\n",
      "Last 5 games div not found.\n",
      "Processing  Josh Hart\n"
     ]
    },
    {
     "name": "stderr",
     "output_type": "stream",
     "text": [
      "/var/folders/7z/7q00pypj1_sf2clps66cxc9r0000gn/T/ipykernel_2964/1753532913.py:33: FutureWarning: Passing literal html to 'read_html' is deprecated and will be removed in a future version. To read from a literal string, wrap it in a 'StringIO' object.\n",
      "  df = pd.read_html(str(table))[0]\n"
     ]
    },
    {
     "name": "stdout",
     "output_type": "stream",
     "text": [
      "Processing  Josh Jackson\n",
      "Last 5 games div not found.\n",
      "Processing  Josh Okogie\n"
     ]
    },
    {
     "name": "stderr",
     "output_type": "stream",
     "text": [
      "/var/folders/7z/7q00pypj1_sf2clps66cxc9r0000gn/T/ipykernel_2964/1753532913.py:33: FutureWarning: Passing literal html to 'read_html' is deprecated and will be removed in a future version. To read from a literal string, wrap it in a 'StringIO' object.\n",
      "  df = pd.read_html(str(table))[0]\n"
     ]
    },
    {
     "name": "stdout",
     "output_type": "stream",
     "text": [
      "Processing  Josh Richardson\n"
     ]
    },
    {
     "name": "stderr",
     "output_type": "stream",
     "text": [
      "/var/folders/7z/7q00pypj1_sf2clps66cxc9r0000gn/T/ipykernel_2964/1753532913.py:33: FutureWarning: Passing literal html to 'read_html' is deprecated and will be removed in a future version. To read from a literal string, wrap it in a 'StringIO' object.\n",
      "  df = pd.read_html(str(table))[0]\n"
     ]
    },
    {
     "name": "stdout",
     "output_type": "stream",
     "text": [
      "Processing  Joshua Primo\n",
      "Last 5 games div not found.\n",
      "Processing  Jrue Holiday\n"
     ]
    },
    {
     "name": "stderr",
     "output_type": "stream",
     "text": [
      "/var/folders/7z/7q00pypj1_sf2clps66cxc9r0000gn/T/ipykernel_2964/1753532913.py:33: FutureWarning: Passing literal html to 'read_html' is deprecated and will be removed in a future version. To read from a literal string, wrap it in a 'StringIO' object.\n",
      "  df = pd.read_html(str(table))[0]\n"
     ]
    },
    {
     "name": "stdout",
     "output_type": "stream",
     "text": [
      "Processing  Juan Toscano-Anderson\n"
     ]
    },
    {
     "name": "stderr",
     "output_type": "stream",
     "text": [
      "/var/folders/7z/7q00pypj1_sf2clps66cxc9r0000gn/T/ipykernel_2964/1753532913.py:33: FutureWarning: Passing literal html to 'read_html' is deprecated and will be removed in a future version. To read from a literal string, wrap it in a 'StringIO' object.\n",
      "  df = pd.read_html(str(table))[0]\n"
     ]
    },
    {
     "name": "stdout",
     "output_type": "stream",
     "text": [
      "Processing  Juancho Hernangomez / Juan Hernangomez\n",
      "No search results found for the player.\n",
      "Processing  Julius Randle\n"
     ]
    },
    {
     "name": "stderr",
     "output_type": "stream",
     "text": [
      "/var/folders/7z/7q00pypj1_sf2clps66cxc9r0000gn/T/ipykernel_2964/1753532913.py:33: FutureWarning: Passing literal html to 'read_html' is deprecated and will be removed in a future version. To read from a literal string, wrap it in a 'StringIO' object.\n",
      "  df = pd.read_html(str(table))[0]\n"
     ]
    },
    {
     "name": "stdout",
     "output_type": "stream",
     "text": [
      "Processing  Justin Anderson\n",
      "Last 5 games div not found.\n",
      "Processing  Justin Champagnie\n"
     ]
    },
    {
     "name": "stderr",
     "output_type": "stream",
     "text": [
      "/var/folders/7z/7q00pypj1_sf2clps66cxc9r0000gn/T/ipykernel_2964/1753532913.py:33: FutureWarning: Passing literal html to 'read_html' is deprecated and will be removed in a future version. To read from a literal string, wrap it in a 'StringIO' object.\n",
      "  df = pd.read_html(str(table))[0]\n"
     ]
    },
    {
     "name": "stdout",
     "output_type": "stream",
     "text": [
      "Processing  Justin Holiday\n"
     ]
    },
    {
     "name": "stderr",
     "output_type": "stream",
     "text": [
      "/var/folders/7z/7q00pypj1_sf2clps66cxc9r0000gn/T/ipykernel_2964/1753532913.py:33: FutureWarning: Passing literal html to 'read_html' is deprecated and will be removed in a future version. To read from a literal string, wrap it in a 'StringIO' object.\n",
      "  df = pd.read_html(str(table))[0]\n"
     ]
    },
    {
     "name": "stdout",
     "output_type": "stream",
     "text": [
      "Processing  Justin Jackson (Aaron)\n",
      "No search results found for the player.\n",
      "Processing  Justin James\n",
      "Last 5 games div not found.\n",
      "Processing  Justin Patton\n",
      "Last 5 games div not found.\n",
      "Processing  Justise Winslow\n",
      "Last 5 games div not found.\n",
      "Processing  Jusuf Nurkic\n"
     ]
    },
    {
     "name": "stderr",
     "output_type": "stream",
     "text": [
      "/var/folders/7z/7q00pypj1_sf2clps66cxc9r0000gn/T/ipykernel_2964/1753532913.py:33: FutureWarning: Passing literal html to 'read_html' is deprecated and will be removed in a future version. To read from a literal string, wrap it in a 'StringIO' object.\n",
      "  df = pd.read_html(str(table))[0]\n"
     ]
    },
    {
     "name": "stdout",
     "output_type": "stream",
     "text": [
      "Processing  Juwan Morgan\n",
      "Last 5 games div not found.\n",
      "Processing  K.Z. Okpala\n",
      "No search results found for the player.\n",
      "Processing  Kai Jones\n",
      "Last 5 games div not found.\n",
      "Processing  Karim Mane\n",
      "Last 5 games div not found.\n",
      "Processing  Karl-Anthony Towns\n"
     ]
    },
    {
     "name": "stderr",
     "output_type": "stream",
     "text": [
      "/var/folders/7z/7q00pypj1_sf2clps66cxc9r0000gn/T/ipykernel_2964/1753532913.py:33: FutureWarning: Passing literal html to 'read_html' is deprecated and will be removed in a future version. To read from a literal string, wrap it in a 'StringIO' object.\n",
      "  df = pd.read_html(str(table))[0]\n"
     ]
    },
    {
     "name": "stdout",
     "output_type": "stream",
     "text": [
      "Processing  Kawhi Leonard\n"
     ]
    },
    {
     "name": "stderr",
     "output_type": "stream",
     "text": [
      "/var/folders/7z/7q00pypj1_sf2clps66cxc9r0000gn/T/ipykernel_2964/1753532913.py:33: FutureWarning: Passing literal html to 'read_html' is deprecated and will be removed in a future version. To read from a literal string, wrap it in a 'StringIO' object.\n",
      "  df = pd.read_html(str(table))[0]\n"
     ]
    },
    {
     "name": "stdout",
     "output_type": "stream",
     "text": [
      "Processing  Keegan Murray\n"
     ]
    },
    {
     "name": "stderr",
     "output_type": "stream",
     "text": [
      "/var/folders/7z/7q00pypj1_sf2clps66cxc9r0000gn/T/ipykernel_2964/1753532913.py:33: FutureWarning: Passing literal html to 'read_html' is deprecated and will be removed in a future version. To read from a literal string, wrap it in a 'StringIO' object.\n",
      "  df = pd.read_html(str(table))[0]\n"
     ]
    },
    {
     "name": "stdout",
     "output_type": "stream",
     "text": [
      "Processing  Keita Bates-Diop\n"
     ]
    },
    {
     "name": "stderr",
     "output_type": "stream",
     "text": [
      "/var/folders/7z/7q00pypj1_sf2clps66cxc9r0000gn/T/ipykernel_2964/1753532913.py:33: FutureWarning: Passing literal html to 'read_html' is deprecated and will be removed in a future version. To read from a literal string, wrap it in a 'StringIO' object.\n",
      "  df = pd.read_html(str(table))[0]\n"
     ]
    },
    {
     "name": "stdout",
     "output_type": "stream",
     "text": [
      "Processing  Kelan Martin\n",
      "Last 5 games div not found.\n",
      "Processing  Keldon Johnson\n"
     ]
    },
    {
     "name": "stderr",
     "output_type": "stream",
     "text": [
      "/var/folders/7z/7q00pypj1_sf2clps66cxc9r0000gn/T/ipykernel_2964/1753532913.py:33: FutureWarning: Passing literal html to 'read_html' is deprecated and will be removed in a future version. To read from a literal string, wrap it in a 'StringIO' object.\n",
      "  df = pd.read_html(str(table))[0]\n"
     ]
    },
    {
     "name": "stdout",
     "output_type": "stream",
     "text": [
      "Processing  Keljin Blevins\n",
      "Last 5 games div not found.\n",
      "Processing  Kelly Olynyk\n"
     ]
    },
    {
     "name": "stderr",
     "output_type": "stream",
     "text": [
      "/var/folders/7z/7q00pypj1_sf2clps66cxc9r0000gn/T/ipykernel_2964/1753532913.py:33: FutureWarning: Passing literal html to 'read_html' is deprecated and will be removed in a future version. To read from a literal string, wrap it in a 'StringIO' object.\n",
      "  df = pd.read_html(str(table))[0]\n"
     ]
    },
    {
     "name": "stdout",
     "output_type": "stream",
     "text": [
      "Processing  Kelly Oubre Jr.\n"
     ]
    },
    {
     "name": "stderr",
     "output_type": "stream",
     "text": [
      "/var/folders/7z/7q00pypj1_sf2clps66cxc9r0000gn/T/ipykernel_2964/1753532913.py:33: FutureWarning: Passing literal html to 'read_html' is deprecated and will be removed in a future version. To read from a literal string, wrap it in a 'StringIO' object.\n",
      "  df = pd.read_html(str(table))[0]\n"
     ]
    },
    {
     "name": "stdout",
     "output_type": "stream",
     "text": [
      "Processing  Kemba Walker\n",
      "Last 5 games div not found.\n",
      "Processing  Kendall Brown\n"
     ]
    },
    {
     "name": "stderr",
     "output_type": "stream",
     "text": [
      "/var/folders/7z/7q00pypj1_sf2clps66cxc9r0000gn/T/ipykernel_2964/1753532913.py:33: FutureWarning: Passing literal html to 'read_html' is deprecated and will be removed in a future version. To read from a literal string, wrap it in a 'StringIO' object.\n",
      "  df = pd.read_html(str(table))[0]\n"
     ]
    },
    {
     "name": "stdout",
     "output_type": "stream",
     "text": [
      "Processing  Kendrick Nunn\n",
      "Last 5 games div not found.\n",
      "Processing  Kenny Wooten\n",
      "Last 5 games div not found.\n",
      "Processing  Kenrich Williams\n"
     ]
    },
    {
     "name": "stderr",
     "output_type": "stream",
     "text": [
      "/var/folders/7z/7q00pypj1_sf2clps66cxc9r0000gn/T/ipykernel_2964/1753532913.py:33: FutureWarning: Passing literal html to 'read_html' is deprecated and will be removed in a future version. To read from a literal string, wrap it in a 'StringIO' object.\n",
      "  df = pd.read_html(str(table))[0]\n"
     ]
    },
    {
     "name": "stdout",
     "output_type": "stream",
     "text": [
      "Processing  Kent Bazemore\n",
      "Last 5 games div not found.\n",
      "Processing  Kentavious Caldwell-Pope\n"
     ]
    },
    {
     "name": "stderr",
     "output_type": "stream",
     "text": [
      "/var/folders/7z/7q00pypj1_sf2clps66cxc9r0000gn/T/ipykernel_2964/1753532913.py:33: FutureWarning: Passing literal html to 'read_html' is deprecated and will be removed in a future version. To read from a literal string, wrap it in a 'StringIO' object.\n",
      "  df = pd.read_html(str(table))[0]\n"
     ]
    },
    {
     "name": "stdout",
     "output_type": "stream",
     "text": [
      "Processing  Kenyon Martin Jr. / K.J. Martin\n",
      "Last 5 games div not found.\n",
      "Processing  Keon Johnson\n"
     ]
    },
    {
     "name": "stderr",
     "output_type": "stream",
     "text": [
      "/var/folders/7z/7q00pypj1_sf2clps66cxc9r0000gn/T/ipykernel_2964/1753532913.py:33: FutureWarning: Passing literal html to 'read_html' is deprecated and will be removed in a future version. To read from a literal string, wrap it in a 'StringIO' object.\n",
      "  df = pd.read_html(str(table))[0]\n"
     ]
    },
    {
     "name": "stdout",
     "output_type": "stream",
     "text": [
      "Processing  Kessler Edwards\n"
     ]
    },
    {
     "name": "stderr",
     "output_type": "stream",
     "text": [
      "/var/folders/7z/7q00pypj1_sf2clps66cxc9r0000gn/T/ipykernel_2964/1753532913.py:33: FutureWarning: Passing literal html to 'read_html' is deprecated and will be removed in a future version. To read from a literal string, wrap it in a 'StringIO' object.\n",
      "  df = pd.read_html(str(table))[0]\n"
     ]
    },
    {
     "name": "stdout",
     "output_type": "stream",
     "text": [
      "Processing  Kevin Durant\n"
     ]
    },
    {
     "name": "stderr",
     "output_type": "stream",
     "text": [
      "/var/folders/7z/7q00pypj1_sf2clps66cxc9r0000gn/T/ipykernel_2964/1753532913.py:33: FutureWarning: Passing literal html to 'read_html' is deprecated and will be removed in a future version. To read from a literal string, wrap it in a 'StringIO' object.\n",
      "  df = pd.read_html(str(table))[0]\n"
     ]
    },
    {
     "name": "stdout",
     "output_type": "stream",
     "text": [
      "Processing  Kevin Huerter\n"
     ]
    },
    {
     "name": "stderr",
     "output_type": "stream",
     "text": [
      "/var/folders/7z/7q00pypj1_sf2clps66cxc9r0000gn/T/ipykernel_2964/1753532913.py:33: FutureWarning: Passing literal html to 'read_html' is deprecated and will be removed in a future version. To read from a literal string, wrap it in a 'StringIO' object.\n",
      "  df = pd.read_html(str(table))[0]\n"
     ]
    },
    {
     "name": "stdout",
     "output_type": "stream",
     "text": [
      "Processing  Kevin Knox II\n",
      "No search results found for the player.\n",
      "Processing  Kevin Love\n"
     ]
    },
    {
     "name": "stderr",
     "output_type": "stream",
     "text": [
      "/var/folders/7z/7q00pypj1_sf2clps66cxc9r0000gn/T/ipykernel_2964/1753532913.py:33: FutureWarning: Passing literal html to 'read_html' is deprecated and will be removed in a future version. To read from a literal string, wrap it in a 'StringIO' object.\n",
      "  df = pd.read_html(str(table))[0]\n"
     ]
    },
    {
     "name": "stdout",
     "output_type": "stream",
     "text": [
      "Processing  Kevin Pangos\n",
      "Last 5 games div not found.\n",
      "Processing  Kevin Porter Jr.\n",
      "Last 5 games div not found.\n",
      "Processing  Kevon Looney\n"
     ]
    },
    {
     "name": "stderr",
     "output_type": "stream",
     "text": [
      "/var/folders/7z/7q00pypj1_sf2clps66cxc9r0000gn/T/ipykernel_2964/1753532913.py:33: FutureWarning: Passing literal html to 'read_html' is deprecated and will be removed in a future version. To read from a literal string, wrap it in a 'StringIO' object.\n",
      "  df = pd.read_html(str(table))[0]\n"
     ]
    },
    {
     "name": "stdout",
     "output_type": "stream",
     "text": [
      "Processing  Khem Birch\n",
      "Last 5 games div not found.\n",
      "Processing  Khris Middleton\n"
     ]
    },
    {
     "name": "stderr",
     "output_type": "stream",
     "text": [
      "/var/folders/7z/7q00pypj1_sf2clps66cxc9r0000gn/T/ipykernel_2964/1753532913.py:33: FutureWarning: Passing literal html to 'read_html' is deprecated and will be removed in a future version. To read from a literal string, wrap it in a 'StringIO' object.\n",
      "  df = pd.read_html(str(table))[0]\n"
     ]
    },
    {
     "name": "stdout",
     "output_type": "stream",
     "text": [
      "Processing  Khyri Thomas\n",
      "Last 5 games div not found.\n",
      "Processing  Killian Hayes\n"
     ]
    },
    {
     "name": "stderr",
     "output_type": "stream",
     "text": [
      "/var/folders/7z/7q00pypj1_sf2clps66cxc9r0000gn/T/ipykernel_2964/1753532913.py:33: FutureWarning: Passing literal html to 'read_html' is deprecated and will be removed in a future version. To read from a literal string, wrap it in a 'StringIO' object.\n",
      "  df = pd.read_html(str(table))[0]\n"
     ]
    },
    {
     "name": "stdout",
     "output_type": "stream",
     "text": [
      "Processing  Killian Tillie\n",
      "Last 5 games div not found.\n",
      "Processing  Kira Lewis Jr.\n"
     ]
    },
    {
     "name": "stderr",
     "output_type": "stream",
     "text": [
      "/var/folders/7z/7q00pypj1_sf2clps66cxc9r0000gn/T/ipykernel_2964/1753532913.py:33: FutureWarning: Passing literal html to 'read_html' is deprecated and will be removed in a future version. To read from a literal string, wrap it in a 'StringIO' object.\n",
      "  df = pd.read_html(str(table))[0]\n"
     ]
    },
    {
     "name": "stdout",
     "output_type": "stream",
     "text": [
      "Processing  Klay Thompson\n"
     ]
    },
    {
     "name": "stderr",
     "output_type": "stream",
     "text": [
      "/var/folders/7z/7q00pypj1_sf2clps66cxc9r0000gn/T/ipykernel_2964/1753532913.py:33: FutureWarning: Passing literal html to 'read_html' is deprecated and will be removed in a future version. To read from a literal string, wrap it in a 'StringIO' object.\n",
      "  df = pd.read_html(str(table))[0]\n"
     ]
    },
    {
     "name": "stdout",
     "output_type": "stream",
     "text": [
      "Processing  Kobi Simmons\n",
      "Last 5 games div not found.\n",
      "Processing  Kostas Antetokounmpo\n",
      "Last 5 games div not found.\n",
      "Processing  Kris Dunn\n"
     ]
    },
    {
     "name": "stderr",
     "output_type": "stream",
     "text": [
      "/var/folders/7z/7q00pypj1_sf2clps66cxc9r0000gn/T/ipykernel_2964/1753532913.py:33: FutureWarning: Passing literal html to 'read_html' is deprecated and will be removed in a future version. To read from a literal string, wrap it in a 'StringIO' object.\n",
      "  df = pd.read_html(str(table))[0]\n"
     ]
    },
    {
     "name": "stdout",
     "output_type": "stream",
     "text": [
      "Processing  Kristaps Porzingis\n"
     ]
    },
    {
     "name": "stderr",
     "output_type": "stream",
     "text": [
      "/var/folders/7z/7q00pypj1_sf2clps66cxc9r0000gn/T/ipykernel_2964/1753532913.py:33: FutureWarning: Passing literal html to 'read_html' is deprecated and will be removed in a future version. To read from a literal string, wrap it in a 'StringIO' object.\n",
      "  df = pd.read_html(str(table))[0]\n"
     ]
    },
    {
     "name": "stdout",
     "output_type": "stream",
     "text": [
      "Processing  Ky Bowman\n",
      "Last 5 games div not found.\n",
      "Processing  Kyle Alexander\n"
     ]
    },
    {
     "name": "stderr",
     "output_type": "stream",
     "text": [
      "/var/folders/7z/7q00pypj1_sf2clps66cxc9r0000gn/T/ipykernel_2964/1753532913.py:33: FutureWarning: Passing literal html to 'read_html' is deprecated and will be removed in a future version. To read from a literal string, wrap it in a 'StringIO' object.\n",
      "  df = pd.read_html(str(table))[0]\n"
     ]
    },
    {
     "name": "stdout",
     "output_type": "stream",
     "text": [
      "Processing  Kyle Anderson\n"
     ]
    },
    {
     "name": "stderr",
     "output_type": "stream",
     "text": [
      "/var/folders/7z/7q00pypj1_sf2clps66cxc9r0000gn/T/ipykernel_2964/1753532913.py:33: FutureWarning: Passing literal html to 'read_html' is deprecated and will be removed in a future version. To read from a literal string, wrap it in a 'StringIO' object.\n",
      "  df = pd.read_html(str(table))[0]\n"
     ]
    },
    {
     "name": "stdout",
     "output_type": "stream",
     "text": [
      "Processing  Kyle Korver\n",
      "Last 5 games div not found.\n",
      "Processing  Kyle Kuzma\n"
     ]
    },
    {
     "name": "stderr",
     "output_type": "stream",
     "text": [
      "/var/folders/7z/7q00pypj1_sf2clps66cxc9r0000gn/T/ipykernel_2964/1753532913.py:33: FutureWarning: Passing literal html to 'read_html' is deprecated and will be removed in a future version. To read from a literal string, wrap it in a 'StringIO' object.\n",
      "  df = pd.read_html(str(table))[0]\n"
     ]
    },
    {
     "name": "stdout",
     "output_type": "stream",
     "text": [
      "Processing  Kyle Lowry\n"
     ]
    },
    {
     "name": "stderr",
     "output_type": "stream",
     "text": [
      "/var/folders/7z/7q00pypj1_sf2clps66cxc9r0000gn/T/ipykernel_2964/1753532913.py:33: FutureWarning: Passing literal html to 'read_html' is deprecated and will be removed in a future version. To read from a literal string, wrap it in a 'StringIO' object.\n",
      "  df = pd.read_html(str(table))[0]\n"
     ]
    },
    {
     "name": "stdout",
     "output_type": "stream",
     "text": [
      "Processing  Kyle O'Quinn\n",
      "Last 5 games div not found.\n",
      "Processing  Kyrie Irving\n"
     ]
    },
    {
     "name": "stderr",
     "output_type": "stream",
     "text": [
      "/var/folders/7z/7q00pypj1_sf2clps66cxc9r0000gn/T/ipykernel_2964/1753532913.py:33: FutureWarning: Passing literal html to 'read_html' is deprecated and will be removed in a future version. To read from a literal string, wrap it in a 'StringIO' object.\n",
      "  df = pd.read_html(str(table))[0]\n"
     ]
    },
    {
     "name": "stdout",
     "output_type": "stream",
     "text": [
      "Processing  LaMarcus Aldridge\n",
      "Last 5 games div not found.\n",
      "Processing  LaMelo Ball\n"
     ]
    },
    {
     "name": "stderr",
     "output_type": "stream",
     "text": [
      "/var/folders/7z/7q00pypj1_sf2clps66cxc9r0000gn/T/ipykernel_2964/1753532913.py:33: FutureWarning: Passing literal html to 'read_html' is deprecated and will be removed in a future version. To read from a literal string, wrap it in a 'StringIO' object.\n",
      "  df = pd.read_html(str(table))[0]\n"
     ]
    },
    {
     "name": "stdout",
     "output_type": "stream",
     "text": [
      "Processing  Lamar Stevens\n"
     ]
    },
    {
     "name": "stderr",
     "output_type": "stream",
     "text": [
      "/var/folders/7z/7q00pypj1_sf2clps66cxc9r0000gn/T/ipykernel_2964/1753532913.py:33: FutureWarning: Passing literal html to 'read_html' is deprecated and will be removed in a future version. To read from a literal string, wrap it in a 'StringIO' object.\n",
      "  df = pd.read_html(str(table))[0]\n"
     ]
    },
    {
     "name": "stdout",
     "output_type": "stream",
     "text": [
      "Processing  Lance Stephenson\n",
      "Last 5 games div not found.\n",
      "Processing  Landry Shamet\n"
     ]
    },
    {
     "name": "stderr",
     "output_type": "stream",
     "text": [
      "/var/folders/7z/7q00pypj1_sf2clps66cxc9r0000gn/T/ipykernel_2964/1753532913.py:33: FutureWarning: Passing literal html to 'read_html' is deprecated and will be removed in a future version. To read from a literal string, wrap it in a 'StringIO' object.\n",
      "  df = pd.read_html(str(table))[0]\n"
     ]
    },
    {
     "name": "stdout",
     "output_type": "stream",
     "text": [
      "Processing  Langston Galloway\n",
      "Last 5 games div not found.\n",
      "Processing  Larry Nance Jr.\n"
     ]
    },
    {
     "name": "stderr",
     "output_type": "stream",
     "text": [
      "/var/folders/7z/7q00pypj1_sf2clps66cxc9r0000gn/T/ipykernel_2964/1753532913.py:33: FutureWarning: Passing literal html to 'read_html' is deprecated and will be removed in a future version. To read from a literal string, wrap it in a 'StringIO' object.\n",
      "  df = pd.read_html(str(table))[0]\n"
     ]
    },
    {
     "name": "stdout",
     "output_type": "stream",
     "text": [
      "Processing  Lauri Markkanen\n"
     ]
    },
    {
     "name": "stderr",
     "output_type": "stream",
     "text": [
      "/var/folders/7z/7q00pypj1_sf2clps66cxc9r0000gn/T/ipykernel_2964/1753532913.py:33: FutureWarning: Passing literal html to 'read_html' is deprecated and will be removed in a future version. To read from a literal string, wrap it in a 'StringIO' object.\n",
      "  df = pd.read_html(str(table))[0]\n"
     ]
    },
    {
     "name": "stdout",
     "output_type": "stream",
     "text": [
      "Processing  LeBron James\n"
     ]
    },
    {
     "name": "stderr",
     "output_type": "stream",
     "text": [
      "/var/folders/7z/7q00pypj1_sf2clps66cxc9r0000gn/T/ipykernel_2964/1753532913.py:33: FutureWarning: Passing literal html to 'read_html' is deprecated and will be removed in a future version. To read from a literal string, wrap it in a 'StringIO' object.\n",
      "  df = pd.read_html(str(table))[0]\n"
     ]
    },
    {
     "name": "stdout",
     "output_type": "stream",
     "text": [
      "Processing  Leandro Bolmaro\n",
      "Last 5 games div not found.\n",
      "Processing  Lindell Wigginton\n",
      "Last 5 games div not found.\n",
      "Processing  Lonnie Walker IV\n"
     ]
    },
    {
     "name": "stderr",
     "output_type": "stream",
     "text": [
      "/var/folders/7z/7q00pypj1_sf2clps66cxc9r0000gn/T/ipykernel_2964/1753532913.py:33: FutureWarning: Passing literal html to 'read_html' is deprecated and will be removed in a future version. To read from a literal string, wrap it in a 'StringIO' object.\n",
      "  df = pd.read_html(str(table))[0]\n"
     ]
    },
    {
     "name": "stdout",
     "output_type": "stream",
     "text": [
      "Processing  Lonzo Ball\n",
      "Last 5 games div not found.\n",
      "Processing  Louis King\n",
      "Last 5 games div not found.\n",
      "Processing  Louis Williams / Lou Williams\n",
      "No search results found for the player.\n",
      "Processing  Luc Richard Mbah a Moute / Luc Mbah a Moute\n",
      "Last 5 games div not found.\n",
      "Processing  Luca Vildoza\n",
      "Last 5 games div not found.\n",
      "Processing  Luguentz Dort\n"
     ]
    },
    {
     "name": "stderr",
     "output_type": "stream",
     "text": [
      "/var/folders/7z/7q00pypj1_sf2clps66cxc9r0000gn/T/ipykernel_2964/1753532913.py:33: FutureWarning: Passing literal html to 'read_html' is deprecated and will be removed in a future version. To read from a literal string, wrap it in a 'StringIO' object.\n",
      "  df = pd.read_html(str(table))[0]\n"
     ]
    },
    {
     "name": "stdout",
     "output_type": "stream",
     "text": [
      "Processing  Luka Doncic\n"
     ]
    },
    {
     "name": "stderr",
     "output_type": "stream",
     "text": [
      "/var/folders/7z/7q00pypj1_sf2clps66cxc9r0000gn/T/ipykernel_2964/1753532913.py:33: FutureWarning: Passing literal html to 'read_html' is deprecated and will be removed in a future version. To read from a literal string, wrap it in a 'StringIO' object.\n",
      "  df = pd.read_html(str(table))[0]\n"
     ]
    },
    {
     "name": "stdout",
     "output_type": "stream",
     "text": [
      "Processing  Luka Garza\n"
     ]
    },
    {
     "name": "stderr",
     "output_type": "stream",
     "text": [
      "/var/folders/7z/7q00pypj1_sf2clps66cxc9r0000gn/T/ipykernel_2964/1753532913.py:33: FutureWarning: Passing literal html to 'read_html' is deprecated and will be removed in a future version. To read from a literal string, wrap it in a 'StringIO' object.\n",
      "  df = pd.read_html(str(table))[0]\n"
     ]
    },
    {
     "name": "stdout",
     "output_type": "stream",
     "text": [
      "Processing  Luka Samanic\n"
     ]
    },
    {
     "name": "stderr",
     "output_type": "stream",
     "text": [
      "/var/folders/7z/7q00pypj1_sf2clps66cxc9r0000gn/T/ipykernel_2964/1753532913.py:33: FutureWarning: Passing literal html to 'read_html' is deprecated and will be removed in a future version. To read from a literal string, wrap it in a 'StringIO' object.\n",
      "  df = pd.read_html(str(table))[0]\n"
     ]
    },
    {
     "name": "stdout",
     "output_type": "stream",
     "text": [
      "Processing  Luke Kennard\n"
     ]
    },
    {
     "name": "stderr",
     "output_type": "stream",
     "text": [
      "/var/folders/7z/7q00pypj1_sf2clps66cxc9r0000gn/T/ipykernel_2964/1753532913.py:33: FutureWarning: Passing literal html to 'read_html' is deprecated and will be removed in a future version. To read from a literal string, wrap it in a 'StringIO' object.\n",
      "  df = pd.read_html(str(table))[0]\n"
     ]
    },
    {
     "name": "stdout",
     "output_type": "stream",
     "text": [
      "Processing  Luke Kornet\n"
     ]
    },
    {
     "name": "stderr",
     "output_type": "stream",
     "text": [
      "/var/folders/7z/7q00pypj1_sf2clps66cxc9r0000gn/T/ipykernel_2964/1753532913.py:33: FutureWarning: Passing literal html to 'read_html' is deprecated and will be removed in a future version. To read from a literal string, wrap it in a 'StringIO' object.\n",
      "  df = pd.read_html(str(table))[0]\n"
     ]
    },
    {
     "name": "stdout",
     "output_type": "stream",
     "text": [
      "Processing  Malachi Flynn\n"
     ]
    },
    {
     "name": "stderr",
     "output_type": "stream",
     "text": [
      "/var/folders/7z/7q00pypj1_sf2clps66cxc9r0000gn/T/ipykernel_2964/1753532913.py:33: FutureWarning: Passing literal html to 'read_html' is deprecated and will be removed in a future version. To read from a literal string, wrap it in a 'StringIO' object.\n",
      "  df = pd.read_html(str(table))[0]\n"
     ]
    },
    {
     "name": "stdout",
     "output_type": "stream",
     "text": [
      "Processing  Malaki Branham\n"
     ]
    },
    {
     "name": "stderr",
     "output_type": "stream",
     "text": [
      "/var/folders/7z/7q00pypj1_sf2clps66cxc9r0000gn/T/ipykernel_2964/1753532913.py:33: FutureWarning: Passing literal html to 'read_html' is deprecated and will be removed in a future version. To read from a literal string, wrap it in a 'StringIO' object.\n",
      "  df = pd.read_html(str(table))[0]\n"
     ]
    },
    {
     "name": "stdout",
     "output_type": "stream",
     "text": [
      "Processing  Malcolm Brogdon\n"
     ]
    },
    {
     "name": "stderr",
     "output_type": "stream",
     "text": [
      "/var/folders/7z/7q00pypj1_sf2clps66cxc9r0000gn/T/ipykernel_2964/1753532913.py:33: FutureWarning: Passing literal html to 'read_html' is deprecated and will be removed in a future version. To read from a literal string, wrap it in a 'StringIO' object.\n",
      "  df = pd.read_html(str(table))[0]\n"
     ]
    },
    {
     "name": "stdout",
     "output_type": "stream",
     "text": [
      "Processing  Malcolm Hill\n",
      "Last 5 games div not found.\n",
      "Processing  Malcolm Miller\n",
      "Last 5 games div not found.\n",
      "Processing  Malik Beasley\n"
     ]
    },
    {
     "name": "stderr",
     "output_type": "stream",
     "text": [
      "/var/folders/7z/7q00pypj1_sf2clps66cxc9r0000gn/T/ipykernel_2964/1753532913.py:33: FutureWarning: Passing literal html to 'read_html' is deprecated and will be removed in a future version. To read from a literal string, wrap it in a 'StringIO' object.\n",
      "  df = pd.read_html(str(table))[0]\n"
     ]
    },
    {
     "name": "stdout",
     "output_type": "stream",
     "text": [
      "Processing  Malik Ellison\n",
      "Last 5 games div not found.\n",
      "Processing  Malik Fitts\n",
      "Last 5 games div not found.\n",
      "Processing  Malik Monk\n"
     ]
    },
    {
     "name": "stderr",
     "output_type": "stream",
     "text": [
      "/var/folders/7z/7q00pypj1_sf2clps66cxc9r0000gn/T/ipykernel_2964/1753532913.py:33: FutureWarning: Passing literal html to 'read_html' is deprecated and will be removed in a future version. To read from a literal string, wrap it in a 'StringIO' object.\n",
      "  df = pd.read_html(str(table))[0]\n"
     ]
    },
    {
     "name": "stdout",
     "output_type": "stream",
     "text": [
      "Processing  Mamadi Diakite\n"
     ]
    },
    {
     "name": "stderr",
     "output_type": "stream",
     "text": [
      "/var/folders/7z/7q00pypj1_sf2clps66cxc9r0000gn/T/ipykernel_2964/1753532913.py:33: FutureWarning: Passing literal html to 'read_html' is deprecated and will be removed in a future version. To read from a literal string, wrap it in a 'StringIO' object.\n",
      "  df = pd.read_html(str(table))[0]\n"
     ]
    },
    {
     "name": "stdout",
     "output_type": "stream",
     "text": [
      "Processing  MarJon Beauchamp\n"
     ]
    },
    {
     "name": "stderr",
     "output_type": "stream",
     "text": [
      "/var/folders/7z/7q00pypj1_sf2clps66cxc9r0000gn/T/ipykernel_2964/1753532913.py:33: FutureWarning: Passing literal html to 'read_html' is deprecated and will be removed in a future version. To read from a literal string, wrap it in a 'StringIO' object.\n",
      "  df = pd.read_html(str(table))[0]\n"
     ]
    },
    {
     "name": "stdout",
     "output_type": "stream",
     "text": [
      "Processing  Marc Gasol\n",
      "Last 5 games div not found.\n",
      "Processing  Marco Belinelli\n",
      "Last 5 games div not found.\n",
      "Processing  Marcos Louzada Silva / Didi Louzada Silva / Didi Louzada\n",
      "No search results found for the player.\n",
      "Processing  Marcus Garrett\n",
      "Last 5 games div not found.\n",
      "Processing  Marcus Morris\n"
     ]
    },
    {
     "name": "stderr",
     "output_type": "stream",
     "text": [
      "/var/folders/7z/7q00pypj1_sf2clps66cxc9r0000gn/T/ipykernel_2964/1753532913.py:33: FutureWarning: Passing literal html to 'read_html' is deprecated and will be removed in a future version. To read from a literal string, wrap it in a 'StringIO' object.\n",
      "  df = pd.read_html(str(table))[0]\n"
     ]
    },
    {
     "name": "stdout",
     "output_type": "stream",
     "text": [
      "Processing  Marcus Smart\n"
     ]
    },
    {
     "name": "stderr",
     "output_type": "stream",
     "text": [
      "/var/folders/7z/7q00pypj1_sf2clps66cxc9r0000gn/T/ipykernel_2964/1753532913.py:33: FutureWarning: Passing literal html to 'read_html' is deprecated and will be removed in a future version. To read from a literal string, wrap it in a 'StringIO' object.\n",
      "  df = pd.read_html(str(table))[0]\n"
     ]
    },
    {
     "name": "stdout",
     "output_type": "stream",
     "text": [
      "Processing  Mario Hezonja\n",
      "Last 5 games div not found.\n",
      "Processing  Mark Williams\n"
     ]
    },
    {
     "name": "stderr",
     "output_type": "stream",
     "text": [
      "/var/folders/7z/7q00pypj1_sf2clps66cxc9r0000gn/T/ipykernel_2964/1753532913.py:33: FutureWarning: Passing literal html to 'read_html' is deprecated and will be removed in a future version. To read from a literal string, wrap it in a 'StringIO' object.\n",
      "  df = pd.read_html(str(table))[0]\n"
     ]
    },
    {
     "name": "stdout",
     "output_type": "stream",
     "text": [
      "Processing  Markelle Fultz\n"
     ]
    },
    {
     "name": "stderr",
     "output_type": "stream",
     "text": [
      "/var/folders/7z/7q00pypj1_sf2clps66cxc9r0000gn/T/ipykernel_2964/1753532913.py:33: FutureWarning: Passing literal html to 'read_html' is deprecated and will be removed in a future version. To read from a literal string, wrap it in a 'StringIO' object.\n",
      "  df = pd.read_html(str(table))[0]\n"
     ]
    },
    {
     "name": "stdout",
     "output_type": "stream",
     "text": [
      "Processing  Markieff Morris\n"
     ]
    },
    {
     "name": "stderr",
     "output_type": "stream",
     "text": [
      "/var/folders/7z/7q00pypj1_sf2clps66cxc9r0000gn/T/ipykernel_2964/1753532913.py:33: FutureWarning: Passing literal html to 'read_html' is deprecated and will be removed in a future version. To read from a literal string, wrap it in a 'StringIO' object.\n",
      "  df = pd.read_html(str(table))[0]\n"
     ]
    },
    {
     "name": "stdout",
     "output_type": "stream",
     "text": [
      "Processing  Marko Guduric\n",
      "Last 5 games div not found.\n",
      "Processing  Marko Simonovic\n",
      "Last 5 games div not found.\n",
      "Processing  Markus Howard\n",
      "Last 5 games div not found.\n",
      "Processing  Marquese Chriss\n",
      "Last 5 games div not found.\n",
      "Processing  Marvin Bagley III\n"
     ]
    },
    {
     "name": "stderr",
     "output_type": "stream",
     "text": [
      "/var/folders/7z/7q00pypj1_sf2clps66cxc9r0000gn/T/ipykernel_2964/1753532913.py:33: FutureWarning: Passing literal html to 'read_html' is deprecated and will be removed in a future version. To read from a literal string, wrap it in a 'StringIO' object.\n",
      "  df = pd.read_html(str(table))[0]\n"
     ]
    },
    {
     "name": "stdout",
     "output_type": "stream",
     "text": [
      "Processing  Marvin Williams\n",
      "Last 5 games div not found.\n",
      "Processing  Mason Jones\n"
     ]
    },
    {
     "name": "stderr",
     "output_type": "stream",
     "text": [
      "/var/folders/7z/7q00pypj1_sf2clps66cxc9r0000gn/T/ipykernel_2964/1753532913.py:33: FutureWarning: Passing literal html to 'read_html' is deprecated and will be removed in a future version. To read from a literal string, wrap it in a 'StringIO' object.\n",
      "  df = pd.read_html(str(table))[0]\n"
     ]
    },
    {
     "name": "stdout",
     "output_type": "stream",
     "text": [
      "Processing  Mason Plumlee\n"
     ]
    },
    {
     "name": "stderr",
     "output_type": "stream",
     "text": [
      "/var/folders/7z/7q00pypj1_sf2clps66cxc9r0000gn/T/ipykernel_2964/1753532913.py:33: FutureWarning: Passing literal html to 'read_html' is deprecated and will be removed in a future version. To read from a literal string, wrap it in a 'StringIO' object.\n",
      "  df = pd.read_html(str(table))[0]\n"
     ]
    },
    {
     "name": "stdout",
     "output_type": "stream",
     "text": [
      "Processing  Matisse Thybulle\n"
     ]
    },
    {
     "name": "stderr",
     "output_type": "stream",
     "text": [
      "/var/folders/7z/7q00pypj1_sf2clps66cxc9r0000gn/T/ipykernel_2964/1753532913.py:33: FutureWarning: Passing literal html to 'read_html' is deprecated and will be removed in a future version. To read from a literal string, wrap it in a 'StringIO' object.\n",
      "  df = pd.read_html(str(table))[0]\n"
     ]
    },
    {
     "name": "stdout",
     "output_type": "stream",
     "text": [
      "Processing  Matt Mooney\n",
      "Last 5 games div not found.\n",
      "Processing  Matt Thomas\n",
      "Last 5 games div not found.\n",
      "Processing  Matthew Dellavedova\n",
      "Last 5 games div not found.\n",
      "Processing  Maurice Harkless / Moe Harkless\n",
      "No search results found for the player.\n",
      "Processing  Max Christie\n"
     ]
    },
    {
     "name": "stderr",
     "output_type": "stream",
     "text": [
      "/var/folders/7z/7q00pypj1_sf2clps66cxc9r0000gn/T/ipykernel_2964/1753532913.py:33: FutureWarning: Passing literal html to 'read_html' is deprecated and will be removed in a future version. To read from a literal string, wrap it in a 'StringIO' object.\n",
      "  df = pd.read_html(str(table))[0]\n"
     ]
    },
    {
     "name": "stdout",
     "output_type": "stream",
     "text": [
      "Processing  Max Strus\n"
     ]
    },
    {
     "name": "stderr",
     "output_type": "stream",
     "text": [
      "/var/folders/7z/7q00pypj1_sf2clps66cxc9r0000gn/T/ipykernel_2964/1753532913.py:33: FutureWarning: Passing literal html to 'read_html' is deprecated and will be removed in a future version. To read from a literal string, wrap it in a 'StringIO' object.\n",
      "  df = pd.read_html(str(table))[0]\n"
     ]
    },
    {
     "name": "stdout",
     "output_type": "stream",
     "text": [
      "Processing  Maximilian Kleber / Maxi Kleber\n",
      "No search results found for the player.\n",
      "Processing  McKinley Wright IV\n",
      "Last 5 games div not found.\n",
      "Processing  Melvin Frazier Jr.\n",
      "Last 5 games div not found.\n",
      "Processing  Meyers Leonard\n",
      "Last 5 games div not found.\n",
      "Processing  Mfiondu Kabengele\n",
      "Last 5 games div not found.\n",
      "Processing  Michael Carter-Williams\n",
      "Last 5 games div not found.\n",
      "Processing  Michael Frazier II\n",
      "No search results found for the player.\n",
      "Processing  Michael Kidd-Gilchrist\n",
      "Last 5 games div not found.\n",
      "Processing  Michael Porter Jr.\n"
     ]
    },
    {
     "name": "stderr",
     "output_type": "stream",
     "text": [
      "/var/folders/7z/7q00pypj1_sf2clps66cxc9r0000gn/T/ipykernel_2964/1753532913.py:33: FutureWarning: Passing literal html to 'read_html' is deprecated and will be removed in a future version. To read from a literal string, wrap it in a 'StringIO' object.\n",
      "  df = pd.read_html(str(table))[0]\n"
     ]
    },
    {
     "name": "stdout",
     "output_type": "stream",
     "text": [
      "Processing  Mike Conley Jr.\n",
      "No search results found for the player.\n",
      "Processing  Mike Muscala\n"
     ]
    },
    {
     "name": "stderr",
     "output_type": "stream",
     "text": [
      "/var/folders/7z/7q00pypj1_sf2clps66cxc9r0000gn/T/ipykernel_2964/1753532913.py:33: FutureWarning: Passing literal html to 'read_html' is deprecated and will be removed in a future version. To read from a literal string, wrap it in a 'StringIO' object.\n",
      "  df = pd.read_html(str(table))[0]\n"
     ]
    },
    {
     "name": "stdout",
     "output_type": "stream",
     "text": [
      "Processing  Miles Bridges\n"
     ]
    },
    {
     "name": "stderr",
     "output_type": "stream",
     "text": [
      "/var/folders/7z/7q00pypj1_sf2clps66cxc9r0000gn/T/ipykernel_2964/1753532913.py:33: FutureWarning: Passing literal html to 'read_html' is deprecated and will be removed in a future version. To read from a literal string, wrap it in a 'StringIO' object.\n",
      "  df = pd.read_html(str(table))[0]\n"
     ]
    },
    {
     "name": "stdout",
     "output_type": "stream",
     "text": [
      "Processing  Miles McBride\n"
     ]
    },
    {
     "name": "stderr",
     "output_type": "stream",
     "text": [
      "/var/folders/7z/7q00pypj1_sf2clps66cxc9r0000gn/T/ipykernel_2964/1753532913.py:33: FutureWarning: Passing literal html to 'read_html' is deprecated and will be removed in a future version. To read from a literal string, wrap it in a 'StringIO' object.\n",
      "  df = pd.read_html(str(table))[0]\n"
     ]
    },
    {
     "name": "stdout",
     "output_type": "stream",
     "text": [
      "Processing  Mitchell Robinson\n"
     ]
    },
    {
     "name": "stderr",
     "output_type": "stream",
     "text": [
      "/var/folders/7z/7q00pypj1_sf2clps66cxc9r0000gn/T/ipykernel_2964/1753532913.py:33: FutureWarning: Passing literal html to 'read_html' is deprecated and will be removed in a future version. To read from a literal string, wrap it in a 'StringIO' object.\n",
      "  df = pd.read_html(str(table))[0]\n"
     ]
    },
    {
     "name": "stdout",
     "output_type": "stream",
     "text": [
      "Processing  Miye Oni\n",
      "Last 5 games div not found.\n",
      "Processing  Mohamed Bamba / Mo Bamba\n",
      "No search results found for the player.\n",
      "Processing  Monte Morris\n"
     ]
    },
    {
     "name": "stderr",
     "output_type": "stream",
     "text": [
      "/var/folders/7z/7q00pypj1_sf2clps66cxc9r0000gn/T/ipykernel_2964/1753532913.py:33: FutureWarning: Passing literal html to 'read_html' is deprecated and will be removed in a future version. To read from a literal string, wrap it in a 'StringIO' object.\n",
      "  df = pd.read_html(str(table))[0]\n"
     ]
    },
    {
     "name": "stdout",
     "output_type": "stream",
     "text": [
      "Processing  Montrezl Harrell\n",
      "Last 5 games div not found.\n",
      "Processing  Moritz Wagner / Moe Wagner\n",
      "No search results found for the player.\n",
      "Processing  Moses Moody\n"
     ]
    },
    {
     "name": "stderr",
     "output_type": "stream",
     "text": [
      "/var/folders/7z/7q00pypj1_sf2clps66cxc9r0000gn/T/ipykernel_2964/1753532913.py:33: FutureWarning: Passing literal html to 'read_html' is deprecated and will be removed in a future version. To read from a literal string, wrap it in a 'StringIO' object.\n",
      "  df = pd.read_html(str(table))[0]\n"
     ]
    },
    {
     "name": "stdout",
     "output_type": "stream",
     "text": [
      "Processing  Moses Wright\n",
      "Last 5 games div not found.\n",
      "Processing  Moussa Diabate\n"
     ]
    },
    {
     "name": "stderr",
     "output_type": "stream",
     "text": [
      "/var/folders/7z/7q00pypj1_sf2clps66cxc9r0000gn/T/ipykernel_2964/1753532913.py:33: FutureWarning: Passing literal html to 'read_html' is deprecated and will be removed in a future version. To read from a literal string, wrap it in a 'StringIO' object.\n",
      "  df = pd.read_html(str(table))[0]\n"
     ]
    },
    {
     "name": "stdout",
     "output_type": "stream",
     "text": [
      "Processing  Mychal Mulder\n",
      "Last 5 games div not found.\n",
      "Processing  Myles Powell\n",
      "Last 5 games div not found.\n",
      "Processing  Myles Turner\n"
     ]
    },
    {
     "name": "stderr",
     "output_type": "stream",
     "text": [
      "/var/folders/7z/7q00pypj1_sf2clps66cxc9r0000gn/T/ipykernel_2964/1753532913.py:33: FutureWarning: Passing literal html to 'read_html' is deprecated and will be removed in a future version. To read from a literal string, wrap it in a 'StringIO' object.\n",
      "  df = pd.read_html(str(table))[0]\n"
     ]
    },
    {
     "name": "stdout",
     "output_type": "stream",
     "text": [
      "Processing  NBA health and safety protocols (DTD)\n",
      "No search results found for the player.\n",
      "Processing  Nah'Shon Hyland / Bones Hyland\n",
      "No search results found for the player.\n",
      "Processing  Naji Marshall\n"
     ]
    },
    {
     "name": "stderr",
     "output_type": "stream",
     "text": [
      "/var/folders/7z/7q00pypj1_sf2clps66cxc9r0000gn/T/ipykernel_2964/1753532913.py:33: FutureWarning: Passing literal html to 'read_html' is deprecated and will be removed in a future version. To read from a literal string, wrap it in a 'StringIO' object.\n",
      "  df = pd.read_html(str(table))[0]\n"
     ]
    },
    {
     "name": "stdout",
     "output_type": "stream",
     "text": [
      "Processing  Nassir Little\n"
     ]
    },
    {
     "name": "stderr",
     "output_type": "stream",
     "text": [
      "/var/folders/7z/7q00pypj1_sf2clps66cxc9r0000gn/T/ipykernel_2964/1753532913.py:33: FutureWarning: Passing literal html to 'read_html' is deprecated and will be removed in a future version. To read from a literal string, wrap it in a 'StringIO' object.\n",
      "  df = pd.read_html(str(table))[0]\n"
     ]
    },
    {
     "name": "stdout",
     "output_type": "stream",
     "text": [
      "Processing  Nate Darling\n",
      "Last 5 games div not found.\n",
      "Processing  Nate Hinton\n"
     ]
    },
    {
     "name": "stderr",
     "output_type": "stream",
     "text": [
      "/var/folders/7z/7q00pypj1_sf2clps66cxc9r0000gn/T/ipykernel_2964/1753532913.py:33: FutureWarning: Passing literal html to 'read_html' is deprecated and will be removed in a future version. To read from a literal string, wrap it in a 'StringIO' object.\n",
      "  df = pd.read_html(str(table))[0]\n"
     ]
    },
    {
     "name": "stdout",
     "output_type": "stream",
     "text": [
      "Processing  Nathan Knight\n",
      "Last 5 games div not found.\n",
      "Processing  Naz Reid\n"
     ]
    },
    {
     "name": "stderr",
     "output_type": "stream",
     "text": [
      "/var/folders/7z/7q00pypj1_sf2clps66cxc9r0000gn/T/ipykernel_2964/1753532913.py:33: FutureWarning: Passing literal html to 'read_html' is deprecated and will be removed in a future version. To read from a literal string, wrap it in a 'StringIO' object.\n",
      "  df = pd.read_html(str(table))[0]\n"
     ]
    },
    {
     "name": "stdout",
     "output_type": "stream",
     "text": [
      "Processing  Nazareth Mitrou-Long / Naz Mitrou-Long / Naz Long\n",
      "No search results found for the player.\n",
      "Processing  Neemias Queta\n"
     ]
    },
    {
     "name": "stderr",
     "output_type": "stream",
     "text": [
      "/var/folders/7z/7q00pypj1_sf2clps66cxc9r0000gn/T/ipykernel_2964/1753532913.py:33: FutureWarning: Passing literal html to 'read_html' is deprecated and will be removed in a future version. To read from a literal string, wrap it in a 'StringIO' object.\n",
      "  df = pd.read_html(str(table))[0]\n"
     ]
    },
    {
     "name": "stdout",
     "output_type": "stream",
     "text": [
      "Processing  Nemanja Bjelica\n",
      "Last 5 games div not found.\n",
      "Processing  Nerlens Noel\n",
      "Last 5 games div not found.\n",
      "Processing  Nick Nurse\n",
      "No search results found for the player.\n",
      "Processing  Nick Richards\n"
     ]
    },
    {
     "name": "stderr",
     "output_type": "stream",
     "text": [
      "/var/folders/7z/7q00pypj1_sf2clps66cxc9r0000gn/T/ipykernel_2964/1753532913.py:33: FutureWarning: Passing literal html to 'read_html' is deprecated and will be removed in a future version. To read from a literal string, wrap it in a 'StringIO' object.\n",
      "  df = pd.read_html(str(table))[0]\n"
     ]
    },
    {
     "name": "stdout",
     "output_type": "stream",
     "text": [
      "Processing  Nickeil Alexander-Walker\n"
     ]
    },
    {
     "name": "stderr",
     "output_type": "stream",
     "text": [
      "/var/folders/7z/7q00pypj1_sf2clps66cxc9r0000gn/T/ipykernel_2964/1753532913.py:33: FutureWarning: Passing literal html to 'read_html' is deprecated and will be removed in a future version. To read from a literal string, wrap it in a 'StringIO' object.\n",
      "  df = pd.read_html(str(table))[0]\n"
     ]
    },
    {
     "name": "stdout",
     "output_type": "stream",
     "text": [
      "Processing  Nicolas Batum\n"
     ]
    },
    {
     "name": "stderr",
     "output_type": "stream",
     "text": [
      "/var/folders/7z/7q00pypj1_sf2clps66cxc9r0000gn/T/ipykernel_2964/1753532913.py:33: FutureWarning: Passing literal html to 'read_html' is deprecated and will be removed in a future version. To read from a literal string, wrap it in a 'StringIO' object.\n",
      "  df = pd.read_html(str(table))[0]\n"
     ]
    },
    {
     "name": "stdout",
     "output_type": "stream",
     "text": [
      "Processing  Nicolas Claxton / Nic Claxton\n",
      "No search results found for the player.\n",
      "Processing  Nicolo Melli\n",
      "Last 5 games div not found.\n",
      "Processing  Nigel Williams-Goss\n",
      "Last 5 games div not found.\n",
      "Processing  Nik Stauskas\n",
      "Last 5 games div not found.\n",
      "Processing  Nikola Jokic\n"
     ]
    },
    {
     "name": "stderr",
     "output_type": "stream",
     "text": [
      "/var/folders/7z/7q00pypj1_sf2clps66cxc9r0000gn/T/ipykernel_2964/1753532913.py:33: FutureWarning: Passing literal html to 'read_html' is deprecated and will be removed in a future version. To read from a literal string, wrap it in a 'StringIO' object.\n",
      "  df = pd.read_html(str(table))[0]\n"
     ]
    },
    {
     "name": "stdout",
     "output_type": "stream",
     "text": [
      "Processing  Nikola Vucevic\n"
     ]
    },
    {
     "name": "stderr",
     "output_type": "stream",
     "text": [
      "/var/folders/7z/7q00pypj1_sf2clps66cxc9r0000gn/T/ipykernel_2964/1753532913.py:33: FutureWarning: Passing literal html to 'read_html' is deprecated and will be removed in a future version. To read from a literal string, wrap it in a 'StringIO' object.\n",
      "  df = pd.read_html(str(table))[0]\n"
     ]
    },
    {
     "name": "stdout",
     "output_type": "stream",
     "text": [
      "Processing  Noah Vonleh\n",
      "Last 5 games div not found.\n",
      "Processing  Norman Powell\n"
     ]
    },
    {
     "name": "stderr",
     "output_type": "stream",
     "text": [
      "/var/folders/7z/7q00pypj1_sf2clps66cxc9r0000gn/T/ipykernel_2964/1753532913.py:33: FutureWarning: Passing literal html to 'read_html' is deprecated and will be removed in a future version. To read from a literal string, wrap it in a 'StringIO' object.\n",
      "  df = pd.read_html(str(table))[0]\n"
     ]
    },
    {
     "name": "stdout",
     "output_type": "stream",
     "text": [
      "Processing  Norvel Pelle\n",
      "Last 5 games div not found.\n",
      "Processing  Obi Toppin\n"
     ]
    },
    {
     "name": "stderr",
     "output_type": "stream",
     "text": [
      "/var/folders/7z/7q00pypj1_sf2clps66cxc9r0000gn/T/ipykernel_2964/1753532913.py:33: FutureWarning: Passing literal html to 'read_html' is deprecated and will be removed in a future version. To read from a literal string, wrap it in a 'StringIO' object.\n",
      "  df = pd.read_html(str(table))[0]\n"
     ]
    },
    {
     "name": "stdout",
     "output_type": "stream",
     "text": [
      "Processing  Ogugua Anunoby / O.G. Anunoby\n",
      "No search results found for the player.\n",
      "Processing  Olivier Sarr\n"
     ]
    },
    {
     "name": "stderr",
     "output_type": "stream",
     "text": [
      "/var/folders/7z/7q00pypj1_sf2clps66cxc9r0000gn/T/ipykernel_2964/1753532913.py:33: FutureWarning: Passing literal html to 'read_html' is deprecated and will be removed in a future version. To read from a literal string, wrap it in a 'StringIO' object.\n",
      "  df = pd.read_html(str(table))[0]\n"
     ]
    },
    {
     "name": "stdout",
     "output_type": "stream",
     "text": [
      "Processing  Omari Spellman\n",
      "Last 5 games div not found.\n",
      "Processing  Omer Yurtseven\n"
     ]
    },
    {
     "name": "stderr",
     "output_type": "stream",
     "text": [
      "/var/folders/7z/7q00pypj1_sf2clps66cxc9r0000gn/T/ipykernel_2964/1753532913.py:33: FutureWarning: Passing literal html to 'read_html' is deprecated and will be removed in a future version. To read from a literal string, wrap it in a 'StringIO' object.\n",
      "  df = pd.read_html(str(table))[0]\n"
     ]
    },
    {
     "name": "stdout",
     "output_type": "stream",
     "text": [
      "Processing  Onyeka Okongwu\n"
     ]
    },
    {
     "name": "stderr",
     "output_type": "stream",
     "text": [
      "/var/folders/7z/7q00pypj1_sf2clps66cxc9r0000gn/T/ipykernel_2964/1753532913.py:33: FutureWarning: Passing literal html to 'read_html' is deprecated and will be removed in a future version. To read from a literal string, wrap it in a 'StringIO' object.\n",
      "  df = pd.read_html(str(table))[0]\n"
     ]
    },
    {
     "name": "stdout",
     "output_type": "stream",
     "text": [
      "Processing  Oshae Brissett\n"
     ]
    },
    {
     "name": "stderr",
     "output_type": "stream",
     "text": [
      "/var/folders/7z/7q00pypj1_sf2clps66cxc9r0000gn/T/ipykernel_2964/1753532913.py:33: FutureWarning: Passing literal html to 'read_html' is deprecated and will be removed in a future version. To read from a literal string, wrap it in a 'StringIO' object.\n",
      "  df = pd.read_html(str(table))[0]\n"
     ]
    },
    {
     "name": "stdout",
     "output_type": "stream",
     "text": [
      "Processing  Otto Porter Jr.\n"
     ]
    },
    {
     "name": "stderr",
     "output_type": "stream",
     "text": [
      "/var/folders/7z/7q00pypj1_sf2clps66cxc9r0000gn/T/ipykernel_2964/1753532913.py:33: FutureWarning: Passing literal html to 'read_html' is deprecated and will be removed in a future version. To read from a literal string, wrap it in a 'StringIO' object.\n",
      "  df = pd.read_html(str(table))[0]\n"
     ]
    },
    {
     "name": "stdout",
     "output_type": "stream",
     "text": [
      "Processing  Ousmane Dieng\n"
     ]
    },
    {
     "name": "stderr",
     "output_type": "stream",
     "text": [
      "/var/folders/7z/7q00pypj1_sf2clps66cxc9r0000gn/T/ipykernel_2964/1753532913.py:33: FutureWarning: Passing literal html to 'read_html' is deprecated and will be removed in a future version. To read from a literal string, wrap it in a 'StringIO' object.\n",
      "  df = pd.read_html(str(table))[0]\n"
     ]
    },
    {
     "name": "stdout",
     "output_type": "stream",
     "text": [
      "Processing  P.J. Dozier\n",
      "No search results found for the player.\n",
      "Processing  P.J. Tucker\n"
     ]
    },
    {
     "name": "stderr",
     "output_type": "stream",
     "text": [
      "/var/folders/7z/7q00pypj1_sf2clps66cxc9r0000gn/T/ipykernel_2964/1753532913.py:33: FutureWarning: Passing literal html to 'read_html' is deprecated and will be removed in a future version. To read from a literal string, wrap it in a 'StringIO' object.\n",
      "  df = pd.read_html(str(table))[0]\n"
     ]
    },
    {
     "name": "stdout",
     "output_type": "stream",
     "text": [
      "Processing  P.J. Washington\n"
     ]
    },
    {
     "name": "stderr",
     "output_type": "stream",
     "text": [
      "/var/folders/7z/7q00pypj1_sf2clps66cxc9r0000gn/T/ipykernel_2964/1753532913.py:33: FutureWarning: Passing literal html to 'read_html' is deprecated and will be removed in a future version. To read from a literal string, wrap it in a 'StringIO' object.\n",
      "  df = pd.read_html(str(table))[0]\n"
     ]
    },
    {
     "name": "stdout",
     "output_type": "stream",
     "text": [
      "Processing  Paolo Banchero\n"
     ]
    },
    {
     "name": "stderr",
     "output_type": "stream",
     "text": [
      "/var/folders/7z/7q00pypj1_sf2clps66cxc9r0000gn/T/ipykernel_2964/1753532913.py:33: FutureWarning: Passing literal html to 'read_html' is deprecated and will be removed in a future version. To read from a literal string, wrap it in a 'StringIO' object.\n",
      "  df = pd.read_html(str(table))[0]\n"
     ]
    },
    {
     "name": "stdout",
     "output_type": "stream",
     "text": [
      "Processing  Pascal Siakam\n"
     ]
    },
    {
     "name": "stderr",
     "output_type": "stream",
     "text": [
      "/var/folders/7z/7q00pypj1_sf2clps66cxc9r0000gn/T/ipykernel_2964/1753532913.py:33: FutureWarning: Passing literal html to 'read_html' is deprecated and will be removed in a future version. To read from a literal string, wrap it in a 'StringIO' object.\n",
      "  df = pd.read_html(str(table))[0]\n"
     ]
    },
    {
     "name": "stdout",
     "output_type": "stream",
     "text": [
      "Processing  Pat Connaughton\n"
     ]
    },
    {
     "name": "stderr",
     "output_type": "stream",
     "text": [
      "/var/folders/7z/7q00pypj1_sf2clps66cxc9r0000gn/T/ipykernel_2964/1753532913.py:33: FutureWarning: Passing literal html to 'read_html' is deprecated and will be removed in a future version. To read from a literal string, wrap it in a 'StringIO' object.\n",
      "  df = pd.read_html(str(table))[0]\n"
     ]
    },
    {
     "name": "stdout",
     "output_type": "stream",
     "text": [
      "Processing  Patrick Baldwin Jr.\n"
     ]
    },
    {
     "name": "stderr",
     "output_type": "stream",
     "text": [
      "/var/folders/7z/7q00pypj1_sf2clps66cxc9r0000gn/T/ipykernel_2964/1753532913.py:33: FutureWarning: Passing literal html to 'read_html' is deprecated and will be removed in a future version. To read from a literal string, wrap it in a 'StringIO' object.\n",
      "  df = pd.read_html(str(table))[0]\n"
     ]
    },
    {
     "name": "stdout",
     "output_type": "stream",
     "text": [
      "Processing  Patrick Beverley\n"
     ]
    },
    {
     "name": "stderr",
     "output_type": "stream",
     "text": [
      "/var/folders/7z/7q00pypj1_sf2clps66cxc9r0000gn/T/ipykernel_2964/1753532913.py:33: FutureWarning: Passing literal html to 'read_html' is deprecated and will be removed in a future version. To read from a literal string, wrap it in a 'StringIO' object.\n",
      "  df = pd.read_html(str(table))[0]\n"
     ]
    },
    {
     "name": "stdout",
     "output_type": "stream",
     "text": [
      "Processing  Patrick McCaw\n",
      "Last 5 games div not found.\n",
      "Processing  Patrick Mills / Patty Mills\n",
      "No search results found for the player.\n",
      "Processing  Patrick Patterson\n",
      "Last 5 games div not found.\n",
      "Processing  Patrick Williams\n"
     ]
    },
    {
     "name": "stderr",
     "output_type": "stream",
     "text": [
      "/var/folders/7z/7q00pypj1_sf2clps66cxc9r0000gn/T/ipykernel_2964/1753532913.py:33: FutureWarning: Passing literal html to 'read_html' is deprecated and will be removed in a future version. To read from a literal string, wrap it in a 'StringIO' object.\n",
      "  df = pd.read_html(str(table))[0]\n"
     ]
    },
    {
     "name": "stdout",
     "output_type": "stream",
     "text": [
      "Processing  Paul George\n"
     ]
    },
    {
     "name": "stderr",
     "output_type": "stream",
     "text": [
      "/var/folders/7z/7q00pypj1_sf2clps66cxc9r0000gn/T/ipykernel_2964/1753532913.py:33: FutureWarning: Passing literal html to 'read_html' is deprecated and will be removed in a future version. To read from a literal string, wrap it in a 'StringIO' object.\n",
      "  df = pd.read_html(str(table))[0]\n"
     ]
    },
    {
     "name": "stdout",
     "output_type": "stream",
     "text": [
      "Processing  Paul Millsap\n",
      "Last 5 games div not found.\n",
      "Processing  Paul Reed\n"
     ]
    },
    {
     "name": "stderr",
     "output_type": "stream",
     "text": [
      "/var/folders/7z/7q00pypj1_sf2clps66cxc9r0000gn/T/ipykernel_2964/1753532913.py:33: FutureWarning: Passing literal html to 'read_html' is deprecated and will be removed in a future version. To read from a literal string, wrap it in a 'StringIO' object.\n",
      "  df = pd.read_html(str(table))[0]\n"
     ]
    },
    {
     "name": "stdout",
     "output_type": "stream",
     "text": [
      "Processing  Paul Watson\n",
      "Last 5 games div not found.\n",
      "Processing  Payton Pritchard\n"
     ]
    },
    {
     "name": "stderr",
     "output_type": "stream",
     "text": [
      "/var/folders/7z/7q00pypj1_sf2clps66cxc9r0000gn/T/ipykernel_2964/1753532913.py:33: FutureWarning: Passing literal html to 'read_html' is deprecated and will be removed in a future version. To read from a literal string, wrap it in a 'StringIO' object.\n",
      "  df = pd.read_html(str(table))[0]\n"
     ]
    },
    {
     "name": "stdout",
     "output_type": "stream",
     "text": [
      "Processing  Petr Cornelie\n",
      "Last 5 games div not found.\n",
      "Processing  Peyton Watson\n"
     ]
    },
    {
     "name": "stderr",
     "output_type": "stream",
     "text": [
      "/var/folders/7z/7q00pypj1_sf2clps66cxc9r0000gn/T/ipykernel_2964/1753532913.py:33: FutureWarning: Passing literal html to 'read_html' is deprecated and will be removed in a future version. To read from a literal string, wrap it in a 'StringIO' object.\n",
      "  df = pd.read_html(str(table))[0]\n"
     ]
    },
    {
     "name": "stdout",
     "output_type": "stream",
     "text": [
      "Processing  Precious Achiuwa\n"
     ]
    },
    {
     "name": "stderr",
     "output_type": "stream",
     "text": [
      "/var/folders/7z/7q00pypj1_sf2clps66cxc9r0000gn/T/ipykernel_2964/1753532913.py:33: FutureWarning: Passing literal html to 'read_html' is deprecated and will be removed in a future version. To read from a literal string, wrap it in a 'StringIO' object.\n",
      "  df = pd.read_html(str(table))[0]\n"
     ]
    },
    {
     "name": "stdout",
     "output_type": "stream",
     "text": [
      "Processing  Quentin Grimes\n"
     ]
    },
    {
     "name": "stderr",
     "output_type": "stream",
     "text": [
      "/var/folders/7z/7q00pypj1_sf2clps66cxc9r0000gn/T/ipykernel_2964/1753532913.py:33: FutureWarning: Passing literal html to 'read_html' is deprecated and will be removed in a future version. To read from a literal string, wrap it in a 'StringIO' object.\n",
      "  df = pd.read_html(str(table))[0]\n"
     ]
    },
    {
     "name": "stdout",
     "output_type": "stream",
     "text": [
      "Processing  Quinn Cook\n",
      "Last 5 games div not found.\n",
      "Processing  Quinndary Weatherspoon\n",
      "Last 5 games div not found.\n",
      "Processing  R.J. Barrett\n",
      "No search results found for the player.\n",
      "Processing  R.J. Hampton\n"
     ]
    },
    {
     "name": "stderr",
     "output_type": "stream",
     "text": [
      "/var/folders/7z/7q00pypj1_sf2clps66cxc9r0000gn/T/ipykernel_2964/1753532913.py:33: FutureWarning: Passing literal html to 'read_html' is deprecated and will be removed in a future version. To read from a literal string, wrap it in a 'StringIO' object.\n",
      "  df = pd.read_html(str(table))[0]\n"
     ]
    },
    {
     "name": "stdout",
     "output_type": "stream",
     "text": [
      "Processing  Rajon Rondo\n",
      "Last 5 games div not found.\n",
      "Processing  Raulzinho Neto / Raul Neto\n",
      "No search results found for the player.\n",
      "Processing  Reggie Bullock\n"
     ]
    },
    {
     "name": "stderr",
     "output_type": "stream",
     "text": [
      "/var/folders/7z/7q00pypj1_sf2clps66cxc9r0000gn/T/ipykernel_2964/1753532913.py:33: FutureWarning: Passing literal html to 'read_html' is deprecated and will be removed in a future version. To read from a literal string, wrap it in a 'StringIO' object.\n",
      "  df = pd.read_html(str(table))[0]\n"
     ]
    },
    {
     "name": "stdout",
     "output_type": "stream",
     "text": [
      "Processing  Reggie Jackson (Shon)\n",
      "No search results found for the player.\n",
      "Processing  Reggie Perry\n",
      "Last 5 games div not found.\n",
      "Processing  Richaun Holmes\n"
     ]
    },
    {
     "name": "stderr",
     "output_type": "stream",
     "text": [
      "/var/folders/7z/7q00pypj1_sf2clps66cxc9r0000gn/T/ipykernel_2964/1753532913.py:33: FutureWarning: Passing literal html to 'read_html' is deprecated and will be removed in a future version. To read from a literal string, wrap it in a 'StringIO' object.\n",
      "  df = pd.read_html(str(table))[0]\n"
     ]
    },
    {
     "name": "stdout",
     "output_type": "stream",
     "text": [
      "Processing  Ricky Rubio\n",
      "Last 5 games div not found.\n",
      "Processing  Rob Edwards\n",
      "Last 5 games div not found.\n",
      "Processing  Robert Covington\n"
     ]
    },
    {
     "name": "stderr",
     "output_type": "stream",
     "text": [
      "/var/folders/7z/7q00pypj1_sf2clps66cxc9r0000gn/T/ipykernel_2964/1753532913.py:33: FutureWarning: Passing literal html to 'read_html' is deprecated and will be removed in a future version. To read from a literal string, wrap it in a 'StringIO' object.\n",
      "  df = pd.read_html(str(table))[0]\n"
     ]
    },
    {
     "name": "stdout",
     "output_type": "stream",
     "text": [
      "Processing  Robert Williams III\n",
      "No search results found for the player.\n",
      "Processing  Robert Woodard II\n",
      "Last 5 games div not found.\n",
      "Processing  Robin Lopez\n"
     ]
    },
    {
     "name": "stderr",
     "output_type": "stream",
     "text": [
      "/var/folders/7z/7q00pypj1_sf2clps66cxc9r0000gn/T/ipykernel_2964/1753532913.py:33: FutureWarning: Passing literal html to 'read_html' is deprecated and will be removed in a future version. To read from a literal string, wrap it in a 'StringIO' object.\n",
      "  df = pd.read_html(str(table))[0]\n"
     ]
    },
    {
     "name": "stdout",
     "output_type": "stream",
     "text": [
      "Processing  Rodions Kurucs\n",
      "Last 5 games div not found.\n",
      "Processing  Rodney Hood\n",
      "Last 5 games div not found.\n",
      "Processing  Rodney McGruder\n",
      "Last 5 games div not found.\n",
      "Processing  Romeo Langford\n",
      "Last 5 games div not found.\n",
      "Processing  Rondae Hollis-Jefferson\n",
      "Last 5 games div not found.\n",
      "Processing  Royce O'Neale\n"
     ]
    },
    {
     "name": "stderr",
     "output_type": "stream",
     "text": [
      "/var/folders/7z/7q00pypj1_sf2clps66cxc9r0000gn/T/ipykernel_2964/1753532913.py:33: FutureWarning: Passing literal html to 'read_html' is deprecated and will be removed in a future version. To read from a literal string, wrap it in a 'StringIO' object.\n",
      "  df = pd.read_html(str(table))[0]\n"
     ]
    },
    {
     "name": "stdout",
     "output_type": "stream",
     "text": [
      "Processing  Ruben Nembhard / R.J. Nembhard Jr.\n",
      "No search results found for the player.\n",
      "Processing  Rudy Gay\n",
      "Last 5 games div not found.\n",
      "Processing  Rudy Gobert\n"
     ]
    },
    {
     "name": "stderr",
     "output_type": "stream",
     "text": [
      "/var/folders/7z/7q00pypj1_sf2clps66cxc9r0000gn/T/ipykernel_2964/1753532913.py:33: FutureWarning: Passing literal html to 'read_html' is deprecated and will be removed in a future version. To read from a literal string, wrap it in a 'StringIO' object.\n",
      "  df = pd.read_html(str(table))[0]\n"
     ]
    },
    {
     "name": "stdout",
     "output_type": "stream",
     "text": [
      "Processing  Rui Hachimura\n"
     ]
    },
    {
     "name": "stderr",
     "output_type": "stream",
     "text": [
      "/var/folders/7z/7q00pypj1_sf2clps66cxc9r0000gn/T/ipykernel_2964/1753532913.py:33: FutureWarning: Passing literal html to 'read_html' is deprecated and will be removed in a future version. To read from a literal string, wrap it in a 'StringIO' object.\n",
      "  df = pd.read_html(str(table))[0]\n"
     ]
    },
    {
     "name": "stdout",
     "output_type": "stream",
     "text": [
      "Processing  Russell Westbrook\n"
     ]
    },
    {
     "name": "stderr",
     "output_type": "stream",
     "text": [
      "/var/folders/7z/7q00pypj1_sf2clps66cxc9r0000gn/T/ipykernel_2964/1753532913.py:33: FutureWarning: Passing literal html to 'read_html' is deprecated and will be removed in a future version. To read from a literal string, wrap it in a 'StringIO' object.\n",
      "  df = pd.read_html(str(table))[0]\n"
     ]
    },
    {
     "name": "stdout",
     "output_type": "stream",
     "text": [
      "Processing  Ryan Arcidiacono\n"
     ]
    },
    {
     "name": "stderr",
     "output_type": "stream",
     "text": [
      "/var/folders/7z/7q00pypj1_sf2clps66cxc9r0000gn/T/ipykernel_2964/1753532913.py:33: FutureWarning: Passing literal html to 'read_html' is deprecated and will be removed in a future version. To read from a literal string, wrap it in a 'StringIO' object.\n",
      "  df = pd.read_html(str(table))[0]\n"
     ]
    },
    {
     "name": "stdout",
     "output_type": "stream",
     "text": [
      "Processing  Saben Lee\n"
     ]
    },
    {
     "name": "stderr",
     "output_type": "stream",
     "text": [
      "/var/folders/7z/7q00pypj1_sf2clps66cxc9r0000gn/T/ipykernel_2964/1753532913.py:33: FutureWarning: Passing literal html to 'read_html' is deprecated and will be removed in a future version. To read from a literal string, wrap it in a 'StringIO' object.\n",
      "  df = pd.read_html(str(table))[0]\n"
     ]
    },
    {
     "name": "stdout",
     "output_type": "stream",
     "text": [
      "Processing  Saddiq Bey\n"
     ]
    },
    {
     "name": "stderr",
     "output_type": "stream",
     "text": [
      "/var/folders/7z/7q00pypj1_sf2clps66cxc9r0000gn/T/ipykernel_2964/1753532913.py:33: FutureWarning: Passing literal html to 'read_html' is deprecated and will be removed in a future version. To read from a literal string, wrap it in a 'StringIO' object.\n",
      "  df = pd.read_html(str(table))[0]\n"
     ]
    },
    {
     "name": "stdout",
     "output_type": "stream",
     "text": [
      "Processing  Sam Hauser\n"
     ]
    },
    {
     "name": "stderr",
     "output_type": "stream",
     "text": [
      "/var/folders/7z/7q00pypj1_sf2clps66cxc9r0000gn/T/ipykernel_2964/1753532913.py:33: FutureWarning: Passing literal html to 'read_html' is deprecated and will be removed in a future version. To read from a literal string, wrap it in a 'StringIO' object.\n",
      "  df = pd.read_html(str(table))[0]\n"
     ]
    },
    {
     "name": "stdout",
     "output_type": "stream",
     "text": [
      "Processing  Sam Merrill\n"
     ]
    },
    {
     "name": "stderr",
     "output_type": "stream",
     "text": [
      "/var/folders/7z/7q00pypj1_sf2clps66cxc9r0000gn/T/ipykernel_2964/1753532913.py:33: FutureWarning: Passing literal html to 'read_html' is deprecated and will be removed in a future version. To read from a literal string, wrap it in a 'StringIO' object.\n",
      "  df = pd.read_html(str(table))[0]\n"
     ]
    },
    {
     "name": "stdout",
     "output_type": "stream",
     "text": [
      "Processing  Sandro Mamukelashvili\n"
     ]
    },
    {
     "name": "stderr",
     "output_type": "stream",
     "text": [
      "/var/folders/7z/7q00pypj1_sf2clps66cxc9r0000gn/T/ipykernel_2964/1753532913.py:33: FutureWarning: Passing literal html to 'read_html' is deprecated and will be removed in a future version. To read from a literal string, wrap it in a 'StringIO' object.\n",
      "  df = pd.read_html(str(table))[0]\n"
     ]
    },
    {
     "name": "stdout",
     "output_type": "stream",
     "text": [
      "Processing  Santi Aldama\n"
     ]
    },
    {
     "name": "stderr",
     "output_type": "stream",
     "text": [
      "/var/folders/7z/7q00pypj1_sf2clps66cxc9r0000gn/T/ipykernel_2964/1753532913.py:33: FutureWarning: Passing literal html to 'read_html' is deprecated and will be removed in a future version. To read from a literal string, wrap it in a 'StringIO' object.\n",
      "  df = pd.read_html(str(table))[0]\n"
     ]
    },
    {
     "name": "stdout",
     "output_type": "stream",
     "text": [
      "Processing  Scottie Barnes\n"
     ]
    },
    {
     "name": "stderr",
     "output_type": "stream",
     "text": [
      "/var/folders/7z/7q00pypj1_sf2clps66cxc9r0000gn/T/ipykernel_2964/1753532913.py:33: FutureWarning: Passing literal html to 'read_html' is deprecated and will be removed in a future version. To read from a literal string, wrap it in a 'StringIO' object.\n",
      "  df = pd.read_html(str(table))[0]\n"
     ]
    },
    {
     "name": "stdout",
     "output_type": "stream",
     "text": [
      "Processing  Scottie Lewis\n",
      "Last 5 games div not found.\n",
      "Processing  Scotty Hopson\n",
      "Last 5 games div not found.\n",
      "Processing  Sean McDermott\n",
      "Last 5 games div not found.\n",
      "Processing  Sekou Doumbouya\n",
      "Last 5 games div not found.\n",
      "Processing  Semi Ojeleye\n",
      "Last 5 games div not found.\n",
      "Processing  Serge Ibaka\n",
      "Last 5 games div not found.\n",
      "Processing  Seth Curry\n"
     ]
    },
    {
     "name": "stderr",
     "output_type": "stream",
     "text": [
      "/var/folders/7z/7q00pypj1_sf2clps66cxc9r0000gn/T/ipykernel_2964/1753532913.py:33: FutureWarning: Passing literal html to 'read_html' is deprecated and will be removed in a future version. To read from a literal string, wrap it in a 'StringIO' object.\n",
      "  df = pd.read_html(str(table))[0]\n"
     ]
    },
    {
     "name": "stdout",
     "output_type": "stream",
     "text": [
      "Processing  Shabazz Napier\n",
      "Last 5 games div not found.\n",
      "Processing  Shai Gilgeous-Alexander\n"
     ]
    },
    {
     "name": "stderr",
     "output_type": "stream",
     "text": [
      "/var/folders/7z/7q00pypj1_sf2clps66cxc9r0000gn/T/ipykernel_2964/1753532913.py:33: FutureWarning: Passing literal html to 'read_html' is deprecated and will be removed in a future version. To read from a literal string, wrap it in a 'StringIO' object.\n",
      "  df = pd.read_html(str(table))[0]\n"
     ]
    },
    {
     "name": "stdout",
     "output_type": "stream",
     "text": [
      "Processing  Shake Milton\n"
     ]
    },
    {
     "name": "stderr",
     "output_type": "stream",
     "text": [
      "/var/folders/7z/7q00pypj1_sf2clps66cxc9r0000gn/T/ipykernel_2964/1753532913.py:33: FutureWarning: Passing literal html to 'read_html' is deprecated and will be removed in a future version. To read from a literal string, wrap it in a 'StringIO' object.\n",
      "  df = pd.read_html(str(table))[0]\n"
     ]
    },
    {
     "name": "stdout",
     "output_type": "stream",
     "text": [
      "Processing  Shaq Buchanan\n",
      "Last 5 games div not found.\n",
      "Processing  Shaquille Harrison\n",
      "Last 5 games div not found.\n",
      "Processing  Sharife Cooper\n",
      "Last 5 games div not found.\n",
      "Processing  Sindarius Thornwell\n",
      "Last 5 games div not found.\n",
      "Processing  Skal Labissiere\n",
      "Last 5 games div not found.\n",
      "Processing  Skylar Mays\n"
     ]
    },
    {
     "name": "stderr",
     "output_type": "stream",
     "text": [
      "/var/folders/7z/7q00pypj1_sf2clps66cxc9r0000gn/T/ipykernel_2964/1753532913.py:33: FutureWarning: Passing literal html to 'read_html' is deprecated and will be removed in a future version. To read from a literal string, wrap it in a 'StringIO' object.\n",
      "  df = pd.read_html(str(table))[0]\n"
     ]
    },
    {
     "name": "stdout",
     "output_type": "stream",
     "text": [
      "Processing  Solomon Hill\n",
      "Last 5 games div not found.\n",
      "Processing  Spencer Dinwiddie\n"
     ]
    },
    {
     "name": "stderr",
     "output_type": "stream",
     "text": [
      "/var/folders/7z/7q00pypj1_sf2clps66cxc9r0000gn/T/ipykernel_2964/1753532913.py:33: FutureWarning: Passing literal html to 'read_html' is deprecated and will be removed in a future version. To read from a literal string, wrap it in a 'StringIO' object.\n",
      "  df = pd.read_html(str(table))[0]\n"
     ]
    },
    {
     "name": "stdout",
     "output_type": "stream",
     "text": [
      "Processing  Stanley Johnson\n",
      "Last 5 games div not found.\n",
      "Processing  Stephen Curry\n"
     ]
    },
    {
     "name": "stderr",
     "output_type": "stream",
     "text": [
      "/var/folders/7z/7q00pypj1_sf2clps66cxc9r0000gn/T/ipykernel_2964/1753532913.py:33: FutureWarning: Passing literal html to 'read_html' is deprecated and will be removed in a future version. To read from a literal string, wrap it in a 'StringIO' object.\n",
      "  df = pd.read_html(str(table))[0]\n"
     ]
    },
    {
     "name": "stdout",
     "output_type": "stream",
     "text": [
      "Processing  Sterling Brown\n",
      "Last 5 games div not found.\n",
      "Processing  Steven Adams\n",
      "Last 5 games div not found.\n",
      "Processing  Sviatoslav Mykhailiuk / Svi Mykhailiuk\n",
      "No search results found for the player.\n",
      "Processing  T.J. Leaf\n",
      "Last 5 games div not found.\n",
      "Processing  T.J. McConnell\n"
     ]
    },
    {
     "name": "stderr",
     "output_type": "stream",
     "text": [
      "/var/folders/7z/7q00pypj1_sf2clps66cxc9r0000gn/T/ipykernel_2964/1753532913.py:33: FutureWarning: Passing literal html to 'read_html' is deprecated and will be removed in a future version. To read from a literal string, wrap it in a 'StringIO' object.\n",
      "  df = pd.read_html(str(table))[0]\n"
     ]
    },
    {
     "name": "stdout",
     "output_type": "stream",
     "text": [
      "Processing  T.J. Warren\n"
     ]
    },
    {
     "name": "stderr",
     "output_type": "stream",
     "text": [
      "/var/folders/7z/7q00pypj1_sf2clps66cxc9r0000gn/T/ipykernel_2964/1753532913.py:33: FutureWarning: Passing literal html to 'read_html' is deprecated and will be removed in a future version. To read from a literal string, wrap it in a 'StringIO' object.\n",
      "  df = pd.read_html(str(table))[0]\n"
     ]
    },
    {
     "name": "stdout",
     "output_type": "stream",
     "text": [
      "Processing  Tacko Fall\n",
      "Last 5 games div not found.\n",
      "Processing  Taj Gibson\n"
     ]
    },
    {
     "name": "stderr",
     "output_type": "stream",
     "text": [
      "/var/folders/7z/7q00pypj1_sf2clps66cxc9r0000gn/T/ipykernel_2964/1753532913.py:33: FutureWarning: Passing literal html to 'read_html' is deprecated and will be removed in a future version. To read from a literal string, wrap it in a 'StringIO' object.\n",
      "  df = pd.read_html(str(table))[0]\n"
     ]
    },
    {
     "name": "stdout",
     "output_type": "stream",
     "text": [
      "Processing  Talen Horton-Tucker\n"
     ]
    },
    {
     "name": "stderr",
     "output_type": "stream",
     "text": [
      "/var/folders/7z/7q00pypj1_sf2clps66cxc9r0000gn/T/ipykernel_2964/1753532913.py:33: FutureWarning: Passing literal html to 'read_html' is deprecated and will be removed in a future version. To read from a literal string, wrap it in a 'StringIO' object.\n",
      "  df = pd.read_html(str(table))[0]\n"
     ]
    },
    {
     "name": "stdout",
     "output_type": "stream",
     "text": [
      "Processing  Taurean Prince\n"
     ]
    },
    {
     "name": "stderr",
     "output_type": "stream",
     "text": [
      "/var/folders/7z/7q00pypj1_sf2clps66cxc9r0000gn/T/ipykernel_2964/1753532913.py:33: FutureWarning: Passing literal html to 'read_html' is deprecated and will be removed in a future version. To read from a literal string, wrap it in a 'StringIO' object.\n",
      "  df = pd.read_html(str(table))[0]\n"
     ]
    },
    {
     "name": "stdout",
     "output_type": "stream",
     "text": [
      "Processing  Terance Mann\n"
     ]
    },
    {
     "name": "stderr",
     "output_type": "stream",
     "text": [
      "/var/folders/7z/7q00pypj1_sf2clps66cxc9r0000gn/T/ipykernel_2964/1753532913.py:33: FutureWarning: Passing literal html to 'read_html' is deprecated and will be removed in a future version. To read from a literal string, wrap it in a 'StringIO' object.\n",
      "  df = pd.read_html(str(table))[0]\n"
     ]
    },
    {
     "name": "stdout",
     "output_type": "stream",
     "text": [
      "Processing  Terence Davis\n",
      "Last 5 games div not found.\n",
      "Processing  Terrance Ferguson\n",
      "Last 5 games div not found.\n",
      "Processing  Terrence Ross\n",
      "Last 5 games div not found.\n",
      "Processing  Terry Rozier\n"
     ]
    },
    {
     "name": "stderr",
     "output_type": "stream",
     "text": [
      "/var/folders/7z/7q00pypj1_sf2clps66cxc9r0000gn/T/ipykernel_2964/1753532913.py:33: FutureWarning: Passing literal html to 'read_html' is deprecated and will be removed in a future version. To read from a literal string, wrap it in a 'StringIO' object.\n",
      "  df = pd.read_html(str(table))[0]\n"
     ]
    },
    {
     "name": "stdout",
     "output_type": "stream",
     "text": [
      "Processing  Terry Taylor\n"
     ]
    },
    {
     "name": "stderr",
     "output_type": "stream",
     "text": [
      "/var/folders/7z/7q00pypj1_sf2clps66cxc9r0000gn/T/ipykernel_2964/1753532913.py:33: FutureWarning: Passing literal html to 'read_html' is deprecated and will be removed in a future version. To read from a literal string, wrap it in a 'StringIO' object.\n",
      "  df = pd.read_html(str(table))[0]\n"
     ]
    },
    {
     "name": "stdout",
     "output_type": "stream",
     "text": [
      "Processing  Thabo Sefolosha\n",
      "Last 5 games div not found.\n",
      "Processing  Thaddeus Young\n"
     ]
    },
    {
     "name": "stderr",
     "output_type": "stream",
     "text": [
      "/var/folders/7z/7q00pypj1_sf2clps66cxc9r0000gn/T/ipykernel_2964/1753532913.py:33: FutureWarning: Passing literal html to 'read_html' is deprecated and will be removed in a future version. To read from a literal string, wrap it in a 'StringIO' object.\n",
      "  df = pd.read_html(str(table))[0]\n"
     ]
    },
    {
     "name": "stdout",
     "output_type": "stream",
     "text": [
      "Processing  Thanasis Antetokounmpo\n"
     ]
    },
    {
     "name": "stderr",
     "output_type": "stream",
     "text": [
      "/var/folders/7z/7q00pypj1_sf2clps66cxc9r0000gn/T/ipykernel_2964/1753532913.py:33: FutureWarning: Passing literal html to 'read_html' is deprecated and will be removed in a future version. To read from a literal string, wrap it in a 'StringIO' object.\n",
      "  df = pd.read_html(str(table))[0]\n"
     ]
    },
    {
     "name": "stdout",
     "output_type": "stream",
     "text": [
      "Processing  Theo Maledon\n"
     ]
    },
    {
     "name": "stderr",
     "output_type": "stream",
     "text": [
      "/var/folders/7z/7q00pypj1_sf2clps66cxc9r0000gn/T/ipykernel_2964/1753532913.py:33: FutureWarning: Passing literal html to 'read_html' is deprecated and will be removed in a future version. To read from a literal string, wrap it in a 'StringIO' object.\n",
      "  df = pd.read_html(str(table))[0]\n"
     ]
    },
    {
     "name": "stdout",
     "output_type": "stream",
     "text": [
      "Processing  Theo Pinson\n",
      "Last 5 games div not found.\n",
      "Processing  Thomas Bryant\n"
     ]
    },
    {
     "name": "stderr",
     "output_type": "stream",
     "text": [
      "/var/folders/7z/7q00pypj1_sf2clps66cxc9r0000gn/T/ipykernel_2964/1753532913.py:33: FutureWarning: Passing literal html to 'read_html' is deprecated and will be removed in a future version. To read from a literal string, wrap it in a 'StringIO' object.\n",
      "  df = pd.read_html(str(table))[0]\n"
     ]
    },
    {
     "name": "stdout",
     "output_type": "stream",
     "text": [
      "Processing  Thon Maker\n",
      "Last 5 games div not found.\n",
      "Processing  Tim Frazier\n",
      "Last 5 games div not found.\n",
      "Processing  Tim Hardaway Jr.\n"
     ]
    },
    {
     "name": "stderr",
     "output_type": "stream",
     "text": [
      "/var/folders/7z/7q00pypj1_sf2clps66cxc9r0000gn/T/ipykernel_2964/1753532913.py:33: FutureWarning: Passing literal html to 'read_html' is deprecated and will be removed in a future version. To read from a literal string, wrap it in a 'StringIO' object.\n",
      "  df = pd.read_html(str(table))[0]\n"
     ]
    },
    {
     "name": "stdout",
     "output_type": "stream",
     "text": [
      "Processing  Timothe Luwawu-Cabarrot\n",
      "Last 5 games div not found.\n",
      "Processing  Tobias Harris\n"
     ]
    },
    {
     "name": "stderr",
     "output_type": "stream",
     "text": [
      "/var/folders/7z/7q00pypj1_sf2clps66cxc9r0000gn/T/ipykernel_2964/1753532913.py:33: FutureWarning: Passing literal html to 'read_html' is deprecated and will be removed in a future version. To read from a literal string, wrap it in a 'StringIO' object.\n",
      "  df = pd.read_html(str(table))[0]\n"
     ]
    },
    {
     "name": "stdout",
     "output_type": "stream",
     "text": [
      "Processing  Tomas Satoransky\n",
      "Last 5 games div not found.\n",
      "Processing  Tony Bradley\n",
      "Last 5 games div not found.\n",
      "Processing  Tony Snell\n",
      "Last 5 games div not found.\n",
      "Processing  Torrey Craig\n"
     ]
    },
    {
     "name": "stderr",
     "output_type": "stream",
     "text": [
      "/var/folders/7z/7q00pypj1_sf2clps66cxc9r0000gn/T/ipykernel_2964/1753532913.py:33: FutureWarning: Passing literal html to 'read_html' is deprecated and will be removed in a future version. To read from a literal string, wrap it in a 'StringIO' object.\n",
      "  df = pd.read_html(str(table))[0]\n"
     ]
    },
    {
     "name": "stdout",
     "output_type": "stream",
     "text": [
      "Processing  Trae Young\n"
     ]
    },
    {
     "name": "stderr",
     "output_type": "stream",
     "text": [
      "/var/folders/7z/7q00pypj1_sf2clps66cxc9r0000gn/T/ipykernel_2964/1753532913.py:33: FutureWarning: Passing literal html to 'read_html' is deprecated and will be removed in a future version. To read from a literal string, wrap it in a 'StringIO' object.\n",
      "  df = pd.read_html(str(table))[0]\n"
     ]
    },
    {
     "name": "stdout",
     "output_type": "stream",
     "text": [
      "Processing  Tre Jones\n"
     ]
    },
    {
     "name": "stderr",
     "output_type": "stream",
     "text": [
      "/var/folders/7z/7q00pypj1_sf2clps66cxc9r0000gn/T/ipykernel_2964/1753532913.py:33: FutureWarning: Passing literal html to 'read_html' is deprecated and will be removed in a future version. To read from a literal string, wrap it in a 'StringIO' object.\n",
      "  df = pd.read_html(str(table))[0]\n"
     ]
    },
    {
     "name": "stdout",
     "output_type": "stream",
     "text": [
      "Processing  Tre Mann\n"
     ]
    },
    {
     "name": "stderr",
     "output_type": "stream",
     "text": [
      "/var/folders/7z/7q00pypj1_sf2clps66cxc9r0000gn/T/ipykernel_2964/1753532913.py:33: FutureWarning: Passing literal html to 'read_html' is deprecated and will be removed in a future version. To read from a literal string, wrap it in a 'StringIO' object.\n",
      "  df = pd.read_html(str(table))[0]\n"
     ]
    },
    {
     "name": "stdout",
     "output_type": "stream",
     "text": [
      "Processing  Tremont Waters\n",
      "Last 5 games div not found.\n",
      "Processing  Trendon Watford\n"
     ]
    },
    {
     "name": "stderr",
     "output_type": "stream",
     "text": [
      "/var/folders/7z/7q00pypj1_sf2clps66cxc9r0000gn/T/ipykernel_2964/1753532913.py:33: FutureWarning: Passing literal html to 'read_html' is deprecated and will be removed in a future version. To read from a literal string, wrap it in a 'StringIO' object.\n",
      "  df = pd.read_html(str(table))[0]\n"
     ]
    },
    {
     "name": "stdout",
     "output_type": "stream",
     "text": [
      "Processing  Trent Forrest\n"
     ]
    },
    {
     "name": "stderr",
     "output_type": "stream",
     "text": [
      "/var/folders/7z/7q00pypj1_sf2clps66cxc9r0000gn/T/ipykernel_2964/1753532913.py:33: FutureWarning: Passing literal html to 'read_html' is deprecated and will be removed in a future version. To read from a literal string, wrap it in a 'StringIO' object.\n",
      "  df = pd.read_html(str(table))[0]\n"
     ]
    },
    {
     "name": "stdout",
     "output_type": "stream",
     "text": [
      "Processing  Trevelin Queen\n"
     ]
    },
    {
     "name": "stderr",
     "output_type": "stream",
     "text": [
      "/var/folders/7z/7q00pypj1_sf2clps66cxc9r0000gn/T/ipykernel_2964/1753532913.py:33: FutureWarning: Passing literal html to 'read_html' is deprecated and will be removed in a future version. To read from a literal string, wrap it in a 'StringIO' object.\n",
      "  df = pd.read_html(str(table))[0]\n"
     ]
    },
    {
     "name": "stdout",
     "output_type": "stream",
     "text": [
      "Processing  Treveon Graham\n",
      "Last 5 games div not found.\n",
      "Processing  Trevor Ariza\n",
      "Last 5 games div not found.\n",
      "Processing  Trey Burke\n",
      "Last 5 games div not found.\n",
      "Processing  Trey Lyles\n"
     ]
    },
    {
     "name": "stderr",
     "output_type": "stream",
     "text": [
      "/var/folders/7z/7q00pypj1_sf2clps66cxc9r0000gn/T/ipykernel_2964/1753532913.py:33: FutureWarning: Passing literal html to 'read_html' is deprecated and will be removed in a future version. To read from a literal string, wrap it in a 'StringIO' object.\n",
      "  df = pd.read_html(str(table))[0]\n"
     ]
    },
    {
     "name": "stdout",
     "output_type": "stream",
     "text": [
      "Processing  Trey Murphy III\n"
     ]
    },
    {
     "name": "stderr",
     "output_type": "stream",
     "text": [
      "/var/folders/7z/7q00pypj1_sf2clps66cxc9r0000gn/T/ipykernel_2964/1753532913.py:33: FutureWarning: Passing literal html to 'read_html' is deprecated and will be removed in a future version. To read from a literal string, wrap it in a 'StringIO' object.\n",
      "  df = pd.read_html(str(table))[0]\n"
     ]
    },
    {
     "name": "stdout",
     "output_type": "stream",
     "text": [
      "Processing  Tristan Thompson\n"
     ]
    },
    {
     "name": "stderr",
     "output_type": "stream",
     "text": [
      "/var/folders/7z/7q00pypj1_sf2clps66cxc9r0000gn/T/ipykernel_2964/1753532913.py:33: FutureWarning: Passing literal html to 'read_html' is deprecated and will be removed in a future version. To read from a literal string, wrap it in a 'StringIO' object.\n",
      "  df = pd.read_html(str(table))[0]\n"
     ]
    },
    {
     "name": "stdout",
     "output_type": "stream",
     "text": [
      "Processing  Troy Brown Jr.\n"
     ]
    },
    {
     "name": "stderr",
     "output_type": "stream",
     "text": [
      "/var/folders/7z/7q00pypj1_sf2clps66cxc9r0000gn/T/ipykernel_2964/1753532913.py:33: FutureWarning: Passing literal html to 'read_html' is deprecated and will be removed in a future version. To read from a literal string, wrap it in a 'StringIO' object.\n",
      "  df = pd.read_html(str(table))[0]\n"
     ]
    },
    {
     "name": "stdout",
     "output_type": "stream",
     "text": [
      "Processing  Troy Daniels\n",
      "Last 5 games div not found.\n",
      "Processing  Ty Jerome\n",
      "Last 5 games div not found.\n",
      "Processing  Ty-Shon Alexander\n",
      "Last 5 games div not found.\n",
      "Processing  TyTy Washington Jr.\n"
     ]
    },
    {
     "name": "stderr",
     "output_type": "stream",
     "text": [
      "/var/folders/7z/7q00pypj1_sf2clps66cxc9r0000gn/T/ipykernel_2964/1753532913.py:33: FutureWarning: Passing literal html to 'read_html' is deprecated and will be removed in a future version. To read from a literal string, wrap it in a 'StringIO' object.\n",
      "  df = pd.read_html(str(table))[0]\n"
     ]
    },
    {
     "name": "stdout",
     "output_type": "stream",
     "text": [
      "Processing  Tyler Cook\n",
      "Last 5 games div not found.\n",
      "Processing  Tyler Herro\n"
     ]
    },
    {
     "name": "stderr",
     "output_type": "stream",
     "text": [
      "/var/folders/7z/7q00pypj1_sf2clps66cxc9r0000gn/T/ipykernel_2964/1753532913.py:33: FutureWarning: Passing literal html to 'read_html' is deprecated and will be removed in a future version. To read from a literal string, wrap it in a 'StringIO' object.\n",
      "  df = pd.read_html(str(table))[0]\n"
     ]
    },
    {
     "name": "stdout",
     "output_type": "stream",
     "text": [
      "Processing  Tyler Johnson\n",
      "Last 5 games div not found.\n",
      "Processing  Tyler Zeller\n",
      "Last 5 games div not found.\n",
      "Processing  Tyrell Terry\n",
      "Last 5 games div not found.\n",
      "Processing  Tyrese Haliburton\n"
     ]
    },
    {
     "name": "stderr",
     "output_type": "stream",
     "text": [
      "/var/folders/7z/7q00pypj1_sf2clps66cxc9r0000gn/T/ipykernel_2964/1753532913.py:33: FutureWarning: Passing literal html to 'read_html' is deprecated and will be removed in a future version. To read from a literal string, wrap it in a 'StringIO' object.\n",
      "  df = pd.read_html(str(table))[0]\n"
     ]
    },
    {
     "name": "stdout",
     "output_type": "stream",
     "text": [
      "Processing  Tyrese Maxey\n"
     ]
    },
    {
     "name": "stderr",
     "output_type": "stream",
     "text": [
      "/var/folders/7z/7q00pypj1_sf2clps66cxc9r0000gn/T/ipykernel_2964/1753532913.py:33: FutureWarning: Passing literal html to 'read_html' is deprecated and will be removed in a future version. To read from a literal string, wrap it in a 'StringIO' object.\n",
      "  df = pd.read_html(str(table))[0]\n"
     ]
    },
    {
     "name": "stdout",
     "output_type": "stream",
     "text": [
      "Processing  Tyson Chandler\n",
      "Last 5 games div not found.\n",
      "Processing  Tyus Jones\n"
     ]
    },
    {
     "name": "stderr",
     "output_type": "stream",
     "text": [
      "/var/folders/7z/7q00pypj1_sf2clps66cxc9r0000gn/T/ipykernel_2964/1753532913.py:33: FutureWarning: Passing literal html to 'read_html' is deprecated and will be removed in a future version. To read from a literal string, wrap it in a 'StringIO' object.\n",
      "  df = pd.read_html(str(table))[0]\n"
     ]
    },
    {
     "name": "stdout",
     "output_type": "stream",
     "text": [
      "Processing  Udoka Azubuike\n"
     ]
    },
    {
     "name": "stderr",
     "output_type": "stream",
     "text": [
      "/var/folders/7z/7q00pypj1_sf2clps66cxc9r0000gn/T/ipykernel_2964/1753532913.py:33: FutureWarning: Passing literal html to 'read_html' is deprecated and will be removed in a future version. To read from a literal string, wrap it in a 'StringIO' object.\n",
      "  df = pd.read_html(str(table))[0]\n"
     ]
    },
    {
     "name": "stdout",
     "output_type": "stream",
     "text": [
      "Processing  Udonis Haslem\n",
      "Last 5 games div not found.\n",
      "Processing  Usman Garuba\n"
     ]
    },
    {
     "name": "stderr",
     "output_type": "stream",
     "text": [
      "/var/folders/7z/7q00pypj1_sf2clps66cxc9r0000gn/T/ipykernel_2964/1753532913.py:33: FutureWarning: Passing literal html to 'read_html' is deprecated and will be removed in a future version. To read from a literal string, wrap it in a 'StringIO' object.\n",
      "  df = pd.read_html(str(table))[0]\n"
     ]
    },
    {
     "name": "stdout",
     "output_type": "stream",
     "text": [
      "Processing  Vernon Carey Jr.\n",
      "Last 5 games div not found.\n",
      "Processing  Vic Law\n",
      "Last 5 games div not found.\n",
      "Processing  Victor Oladipo\n",
      "Last 5 games div not found.\n",
      "Processing  Vince Williams Jr.\n"
     ]
    },
    {
     "name": "stderr",
     "output_type": "stream",
     "text": [
      "/var/folders/7z/7q00pypj1_sf2clps66cxc9r0000gn/T/ipykernel_2964/1753532913.py:33: FutureWarning: Passing literal html to 'read_html' is deprecated and will be removed in a future version. To read from a literal string, wrap it in a 'StringIO' object.\n",
      "  df = pd.read_html(str(table))[0]\n"
     ]
    },
    {
     "name": "stdout",
     "output_type": "stream",
     "text": [
      "Processing  Vincent Poirier\n",
      "Last 5 games div not found.\n",
      "Processing  Vit Krejci\n"
     ]
    },
    {
     "name": "stderr",
     "output_type": "stream",
     "text": [
      "/var/folders/7z/7q00pypj1_sf2clps66cxc9r0000gn/T/ipykernel_2964/1753532913.py:33: FutureWarning: Passing literal html to 'read_html' is deprecated and will be removed in a future version. To read from a literal string, wrap it in a 'StringIO' object.\n",
      "  df = pd.read_html(str(table))[0]\n"
     ]
    },
    {
     "name": "stdout",
     "output_type": "stream",
     "text": [
      "Processing  Vlatko Cancar\n",
      "Last 5 games div not found.\n",
      "Processing  Walker Kessler\n"
     ]
    },
    {
     "name": "stderr",
     "output_type": "stream",
     "text": [
      "/var/folders/7z/7q00pypj1_sf2clps66cxc9r0000gn/T/ipykernel_2964/1753532913.py:33: FutureWarning: Passing literal html to 'read_html' is deprecated and will be removed in a future version. To read from a literal string, wrap it in a 'StringIO' object.\n",
      "  df = pd.read_html(str(table))[0]\n"
     ]
    },
    {
     "name": "stdout",
     "output_type": "stream",
     "text": [
      "Processing  Wayne Ellington\n",
      "Last 5 games div not found.\n",
      "Processing  Wayne Selden Jr.\n",
      "No search results found for the player.\n",
      "Processing  Wendell Carter Jr.\n"
     ]
    },
    {
     "name": "stderr",
     "output_type": "stream",
     "text": [
      "/var/folders/7z/7q00pypj1_sf2clps66cxc9r0000gn/T/ipykernel_2964/1753532913.py:33: FutureWarning: Passing literal html to 'read_html' is deprecated and will be removed in a future version. To read from a literal string, wrap it in a 'StringIO' object.\n",
      "  df = pd.read_html(str(table))[0]\n"
     ]
    },
    {
     "name": "stdout",
     "output_type": "stream",
     "text": [
      "Processing  Wenyen Gabriel\n"
     ]
    },
    {
     "name": "stderr",
     "output_type": "stream",
     "text": [
      "/var/folders/7z/7q00pypj1_sf2clps66cxc9r0000gn/T/ipykernel_2964/1753532913.py:33: FutureWarning: Passing literal html to 'read_html' is deprecated and will be removed in a future version. To read from a literal string, wrap it in a 'StringIO' object.\n",
      "  df = pd.read_html(str(table))[0]\n"
     ]
    },
    {
     "name": "stdout",
     "output_type": "stream",
     "text": [
      "Processing  Wesley Iwundu / Wes Iwundu\n",
      "No search results found for the player.\n",
      "Processing  Wesley Matthews / Wes Matthews Jr.\n",
      "No search results found for the player.\n",
      "Processing  Will Barton\n",
      "Last 5 games div not found.\n",
      "Processing  Will Magnay\n",
      "Last 5 games div not found.\n",
      "Processing  Willie Cauley-Stein\n",
      "Last 5 games div not found.\n",
      "Processing  Wilson Chandler\n",
      "Last 5 games div not found.\n",
      "Processing  Xavier Moon\n"
     ]
    },
    {
     "name": "stderr",
     "output_type": "stream",
     "text": [
      "/var/folders/7z/7q00pypj1_sf2clps66cxc9r0000gn/T/ipykernel_2964/1753532913.py:33: FutureWarning: Passing literal html to 'read_html' is deprecated and will be removed in a future version. To read from a literal string, wrap it in a 'StringIO' object.\n",
      "  df = pd.read_html(str(table))[0]\n"
     ]
    },
    {
     "name": "stdout",
     "output_type": "stream",
     "text": [
      "Processing  Xavier Tillman\n"
     ]
    },
    {
     "name": "stderr",
     "output_type": "stream",
     "text": [
      "/var/folders/7z/7q00pypj1_sf2clps66cxc9r0000gn/T/ipykernel_2964/1753532913.py:33: FutureWarning: Passing literal html to 'read_html' is deprecated and will be removed in a future version. To read from a literal string, wrap it in a 'StringIO' object.\n",
      "  df = pd.read_html(str(table))[0]\n"
     ]
    },
    {
     "name": "stdout",
     "output_type": "stream",
     "text": [
      "Processing  Yuta Watanabe\n"
     ]
    },
    {
     "name": "stderr",
     "output_type": "stream",
     "text": [
      "/var/folders/7z/7q00pypj1_sf2clps66cxc9r0000gn/T/ipykernel_2964/1753532913.py:33: FutureWarning: Passing literal html to 'read_html' is deprecated and will be removed in a future version. To read from a literal string, wrap it in a 'StringIO' object.\n",
      "  df = pd.read_html(str(table))[0]\n"
     ]
    },
    {
     "name": "stdout",
     "output_type": "stream",
     "text": [
      "Processing  Yves Pons\n",
      "Last 5 games div not found.\n",
      "Processing  Zach Collins\n"
     ]
    },
    {
     "name": "stderr",
     "output_type": "stream",
     "text": [
      "/var/folders/7z/7q00pypj1_sf2clps66cxc9r0000gn/T/ipykernel_2964/1753532913.py:33: FutureWarning: Passing literal html to 'read_html' is deprecated and will be removed in a future version. To read from a literal string, wrap it in a 'StringIO' object.\n",
      "  df = pd.read_html(str(table))[0]\n"
     ]
    },
    {
     "name": "stdout",
     "output_type": "stream",
     "text": [
      "Processing  Zach LaVine\n"
     ]
    },
    {
     "name": "stderr",
     "output_type": "stream",
     "text": [
      "/var/folders/7z/7q00pypj1_sf2clps66cxc9r0000gn/T/ipykernel_2964/1753532913.py:33: FutureWarning: Passing literal html to 'read_html' is deprecated and will be removed in a future version. To read from a literal string, wrap it in a 'StringIO' object.\n",
      "  df = pd.read_html(str(table))[0]\n"
     ]
    },
    {
     "name": "stdout",
     "output_type": "stream",
     "text": [
      "Processing  Zeke Nnaji\n"
     ]
    },
    {
     "name": "stderr",
     "output_type": "stream",
     "text": [
      "/var/folders/7z/7q00pypj1_sf2clps66cxc9r0000gn/T/ipykernel_2964/1753532913.py:33: FutureWarning: Passing literal html to 'read_html' is deprecated and will be removed in a future version. To read from a literal string, wrap it in a 'StringIO' object.\n",
      "  df = pd.read_html(str(table))[0]\n"
     ]
    },
    {
     "name": "stdout",
     "output_type": "stream",
     "text": [
      "Processing  Zhaire Smith\n",
      "Last 5 games div not found.\n",
      "Processing  Ziaire Williams\n"
     ]
    },
    {
     "name": "stderr",
     "output_type": "stream",
     "text": [
      "/var/folders/7z/7q00pypj1_sf2clps66cxc9r0000gn/T/ipykernel_2964/1753532913.py:33: FutureWarning: Passing literal html to 'read_html' is deprecated and will be removed in a future version. To read from a literal string, wrap it in a 'StringIO' object.\n",
      "  df = pd.read_html(str(table))[0]\n"
     ]
    },
    {
     "name": "stdout",
     "output_type": "stream",
     "text": [
      "Processing  Zion Williamson\n"
     ]
    },
    {
     "name": "stderr",
     "output_type": "stream",
     "text": [
      "/var/folders/7z/7q00pypj1_sf2clps66cxc9r0000gn/T/ipykernel_2964/1753532913.py:33: FutureWarning: Passing literal html to 'read_html' is deprecated and will be removed in a future version. To read from a literal string, wrap it in a 'StringIO' object.\n",
      "  df = pd.read_html(str(table))[0]\n"
     ]
    },
    {
     "name": "stdout",
     "output_type": "stream",
     "text": [
      "Processing  Zylan Cheatham\n",
      "Last 5 games div not found.\n",
      "Processing  left wrist injury (DTD)\n",
      "No search results found for the player.\n"
     ]
    }
   ],
   "source": [
    "import time\n",
    "import pandas as pd\n",
    "\n",
    "basic_info = pd.DataFrame(columns=['Name', 'Position', 'Height', 'Weight', 'Age', 'Experience'])\n",
    "last_five_games = pd.DataFrame(columns=['Name', 'Last_5_Games'])\n",
    "\n",
    "# Default values for last 5 games, assuming you expect 5 entries\n",
    "default_game_data = [None] * 5  # Replace None with a more appropriate default if needed\n",
    "\n",
    "for name in grouped_df[\"Player\"]:\n",
    "    time.sleep(10)  \n",
    "    print(f\"Processing {name}\")\n",
    "    my_url = search_for_player_page(name)\n",
    "    if not my_url:\n",
    "        continue\n",
    "    my_basic_info = fetch_player_info(my_url)\n",
    "    my_five_games = fetch_last_5_games_data(my_url)\n",
    "\n",
    "    # If data is fetched, use it, otherwise stick with defaults\n",
    "    actual_game_data = list(my_five_games[\"TimePlayed\"]) if my_five_games is not None else default_game_data\n",
    "\n",
    "    # Ensure the list is always of length 5\n",
    "    actual_game_data = actual_game_data[:5] + [None] * (5 - len(actual_game_data))\n",
    "\n",
    "    # Dictionary for DataFrame\n",
    "    # Proposed addendum: five_games_df = {\"Name\": [name], \"Last_5_Games\": [actual_game_data], \"Location of Games\": [my_five_games[\"Location\"]]}\n",
    "    five_games_df = {\"Name\": [name], \"Last_5_Games\": [actual_game_data]}\n",
    "    my_basic_info = {key: [value] for key, value in my_basic_info.items()}\n",
    "    \n",
    "    # Create and append to DataFrame as before\n",
    "    basic_info = pd.concat([basic_info, pd.DataFrame(my_basic_info)], ignore_index=True)\n",
    "    last_five_games = pd.concat([last_five_games, pd.DataFrame(five_games_df)], ignore_index=True)\n",
    "\n",
    "# Save DataFrames to CSV\n",
    "basic_info.to_csv(\"basic_info.csv\", encoding='utf-8', index=False)\n",
    "last_five_games.to_csv(\"last_five_games.csv\", encoding='utf-8', index=False)\n"
   ]
  },
  {
   "cell_type": "code",
   "execution_count": null,
   "metadata": {},
   "outputs": [],
   "source": []
  },
  {
   "cell_type": "code",
   "execution_count": 259,
   "metadata": {},
   "outputs": [
    {
     "data": {
      "text/html": [
       "<div>\n",
       "<style scoped>\n",
       "    .dataframe tbody tr th:only-of-type {\n",
       "        vertical-align: middle;\n",
       "    }\n",
       "\n",
       "    .dataframe tbody tr th {\n",
       "        vertical-align: top;\n",
       "    }\n",
       "\n",
       "    .dataframe thead th {\n",
       "        text-align: right;\n",
       "    }\n",
       "</style>\n",
       "<table border=\"1\" class=\"dataframe\">\n",
       "  <thead>\n",
       "    <tr style=\"text-align: right;\">\n",
       "      <th></th>\n",
       "      <th>Name</th>\n",
       "      <th>Position</th>\n",
       "      <th>Height</th>\n",
       "      <th>Weight</th>\n",
       "      <th>Age</th>\n",
       "      <th>Experience</th>\n",
       "    </tr>\n",
       "  </thead>\n",
       "  <tbody>\n",
       "    <tr>\n",
       "      <th>0</th>\n",
       "      <td>A.J. Green</td>\n",
       "      <td>Shooting Guard\\n\\n\\n  \\n  ▪</td>\n",
       "      <td>193</td>\n",
       "      <td>200</td>\n",
       "      <td>24</td>\n",
       "      <td>1</td>\n",
       "    </tr>\n",
       "    <tr>\n",
       "      <th>1</th>\n",
       "      <td>Aaron Gordon</td>\n",
       "      <td>Power Forward and Small Forward\\n\\n\\n  \\n  ▪</td>\n",
       "      <td>203</td>\n",
       "      <td>235</td>\n",
       "      <td>28</td>\n",
       "      <td>9</td>\n",
       "    </tr>\n",
       "    <tr>\n",
       "      <th>2</th>\n",
       "      <td>Aaron Henry</td>\n",
       "      <td>Small Forward\\n\\n\\n  \\n  ▪</td>\n",
       "      <td>198</td>\n",
       "      <td>210</td>\n",
       "      <td>24</td>\n",
       "      <td>Unknown</td>\n",
       "    </tr>\n",
       "    <tr>\n",
       "      <th>3</th>\n",
       "      <td>Aaron Holiday</td>\n",
       "      <td>Point Guard\\n\\n\\n  \\n  ▪</td>\n",
       "      <td>183</td>\n",
       "      <td>185</td>\n",
       "      <td>27</td>\n",
       "      <td>5</td>\n",
       "    </tr>\n",
       "    <tr>\n",
       "      <th>4</th>\n",
       "      <td>Aaron Nesmith</td>\n",
       "      <td>Small Forward\\n\\n\\n  \\n  ▪</td>\n",
       "      <td>196</td>\n",
       "      <td>215</td>\n",
       "      <td>24</td>\n",
       "      <td>3</td>\n",
       "    </tr>\n",
       "    <tr>\n",
       "      <th>...</th>\n",
       "      <td>...</td>\n",
       "      <td>...</td>\n",
       "      <td>...</td>\n",
       "      <td>...</td>\n",
       "      <td>...</td>\n",
       "      <td>...</td>\n",
       "    </tr>\n",
       "    <tr>\n",
       "      <th>646</th>\n",
       "      <td>Zeke Nnaji</td>\n",
       "      <td>Power Forward\\n\\n\\n  \\n  ▪</td>\n",
       "      <td>206</td>\n",
       "      <td>240</td>\n",
       "      <td>23</td>\n",
       "      <td>3</td>\n",
       "    </tr>\n",
       "    <tr>\n",
       "      <th>647</th>\n",
       "      <td>Zhaire Smith</td>\n",
       "      <td>Shooting Guard and Small Forward\\n\\n\\n  \\n  ▪</td>\n",
       "      <td>190</td>\n",
       "      <td>205</td>\n",
       "      <td>24</td>\n",
       "      <td>2</td>\n",
       "    </tr>\n",
       "    <tr>\n",
       "      <th>648</th>\n",
       "      <td>Ziaire Williams</td>\n",
       "      <td>Small Forward\\n\\n\\n  \\n  ▪</td>\n",
       "      <td>206</td>\n",
       "      <td>215</td>\n",
       "      <td>22</td>\n",
       "      <td>2</td>\n",
       "    </tr>\n",
       "    <tr>\n",
       "      <th>649</th>\n",
       "      <td>Zion Williamson</td>\n",
       "      <td>Power Forward\\n\\n\\n  \\n  ▪</td>\n",
       "      <td>198</td>\n",
       "      <td>284</td>\n",
       "      <td>23</td>\n",
       "      <td>3</td>\n",
       "    </tr>\n",
       "    <tr>\n",
       "      <th>650</th>\n",
       "      <td>Zylan Cheatham</td>\n",
       "      <td>Small Forward and Power Forward\\n\\n\\n  \\n  ▪</td>\n",
       "      <td>196</td>\n",
       "      <td>220</td>\n",
       "      <td>28</td>\n",
       "      <td>2</td>\n",
       "    </tr>\n",
       "  </tbody>\n",
       "</table>\n",
       "<p>651 rows × 6 columns</p>\n",
       "</div>"
      ],
      "text/plain": [
       "                Name                                       Position  Height  \\\n",
       "0         A.J. Green                    Shooting Guard\\n\\n\\n  \\n  ▪     193   \n",
       "1       Aaron Gordon   Power Forward and Small Forward\\n\\n\\n  \\n  ▪     203   \n",
       "2        Aaron Henry                     Small Forward\\n\\n\\n  \\n  ▪     198   \n",
       "3      Aaron Holiday                       Point Guard\\n\\n\\n  \\n  ▪     183   \n",
       "4      Aaron Nesmith                     Small Forward\\n\\n\\n  \\n  ▪     196   \n",
       "..               ...                                            ...     ...   \n",
       "646       Zeke Nnaji                     Power Forward\\n\\n\\n  \\n  ▪     206   \n",
       "647     Zhaire Smith  Shooting Guard and Small Forward\\n\\n\\n  \\n  ▪     190   \n",
       "648  Ziaire Williams                     Small Forward\\n\\n\\n  \\n  ▪     206   \n",
       "649  Zion Williamson                     Power Forward\\n\\n\\n  \\n  ▪     198   \n",
       "650   Zylan Cheatham   Small Forward and Power Forward\\n\\n\\n  \\n  ▪     196   \n",
       "\n",
       "     Weight Age Experience  \n",
       "0       200  24          1  \n",
       "1       235  28          9  \n",
       "2       210  24    Unknown  \n",
       "3       185  27          5  \n",
       "4       215  24          3  \n",
       "..      ...  ..        ...  \n",
       "646     240  23          3  \n",
       "647     205  24          2  \n",
       "648     215  22          2  \n",
       "649     284  23          3  \n",
       "650     220  28          2  \n",
       "\n",
       "[651 rows x 6 columns]"
      ]
     },
     "execution_count": 259,
     "metadata": {},
     "output_type": "execute_result"
    }
   ],
   "source": [
    "basic_info = pd.read_csv(\"basic_info.csv\") # run if you accidentally  closed the editor lol\n",
    "last_5_games_df = pd.read_csv(\"last_five_games.csv\")\n",
    "basic_info"
   ]
  },
  {
   "cell_type": "code",
   "execution_count": 262,
   "metadata": {},
   "outputs": [
    {
     "name": "stdout",
     "output_type": "stream",
     "text": [
      "            Name                         Position  Height  Weight Age  \\\n",
      "0     A.J. Green                   Shooting Guard     193     200  24   \n",
      "1   Aaron Gordon  Power Forward and Small Forward     203     235  28   \n",
      "2    Aaron Henry                    Small Forward     198     210  24   \n",
      "3  Aaron Holiday                      Point Guard     183     185  27   \n",
      "4  Aaron Nesmith                    Small Forward     196     215  24   \n",
      "\n",
      "  Experience  Point Guard  Shooting Guard  Power Forward  Small Forward  \\\n",
      "0          1            0               1              0              0   \n",
      "1          9            0               0              1              1   \n",
      "2    Unknown            0               0              0              1   \n",
      "3          5            1               0              0              0   \n",
      "4          3            0               0              0              1   \n",
      "\n",
      "   Center  \n",
      "0       0  \n",
      "1       0  \n",
      "2       0  \n",
      "3       0  \n",
      "4       0  \n"
     ]
    }
   ],
   "source": [
    "\n",
    "# Normalize and clean the position strings if they are not lists yet\n",
    "basic_info['Position'] = basic_info['Position'].apply(lambda x: ' '.join(x) if isinstance(x, list) else x)\n",
    "\n",
    "# Specify the positions you are interested in\n",
    "positions = ['Point Guard', 'Shooting Guard', 'Power Forward', 'Small Forward', 'Center']\n",
    "\n",
    "# Create dummy variables for each position\n",
    "for position in positions:\n",
    "    basic_info[position] = basic_info['Position'].apply(lambda x: 1 if position in x else 0)\n",
    "\n",
    "# Display the result to verify\n",
    "print(basic_info.head())\n"
   ]
  },
  {
   "cell_type": "code",
   "execution_count": 263,
   "metadata": {},
   "outputs": [
    {
     "data": {
      "text/html": [
       "<div>\n",
       "<style scoped>\n",
       "    .dataframe tbody tr th:only-of-type {\n",
       "        vertical-align: middle;\n",
       "    }\n",
       "\n",
       "    .dataframe tbody tr th {\n",
       "        vertical-align: top;\n",
       "    }\n",
       "\n",
       "    .dataframe thead th {\n",
       "        text-align: right;\n",
       "    }\n",
       "</style>\n",
       "<table border=\"1\" class=\"dataframe\">\n",
       "  <thead>\n",
       "    <tr style=\"text-align: right;\">\n",
       "      <th></th>\n",
       "      <th>Name</th>\n",
       "      <th>Position</th>\n",
       "      <th>Height</th>\n",
       "      <th>Weight</th>\n",
       "      <th>Age</th>\n",
       "      <th>Experience</th>\n",
       "      <th>Point Guard</th>\n",
       "      <th>Shooting Guard</th>\n",
       "      <th>Power Forward</th>\n",
       "      <th>Small Forward</th>\n",
       "      <th>Center</th>\n",
       "    </tr>\n",
       "  </thead>\n",
       "  <tbody>\n",
       "    <tr>\n",
       "      <th>0</th>\n",
       "      <td>A.J. Green</td>\n",
       "      <td>Shooting Guard</td>\n",
       "      <td>193</td>\n",
       "      <td>200</td>\n",
       "      <td>24</td>\n",
       "      <td>1</td>\n",
       "      <td>0</td>\n",
       "      <td>1</td>\n",
       "      <td>0</td>\n",
       "      <td>0</td>\n",
       "      <td>0</td>\n",
       "    </tr>\n",
       "    <tr>\n",
       "      <th>1</th>\n",
       "      <td>Aaron Gordon</td>\n",
       "      <td>Power Forward and Small Forward</td>\n",
       "      <td>203</td>\n",
       "      <td>235</td>\n",
       "      <td>28</td>\n",
       "      <td>9</td>\n",
       "      <td>0</td>\n",
       "      <td>0</td>\n",
       "      <td>1</td>\n",
       "      <td>1</td>\n",
       "      <td>0</td>\n",
       "    </tr>\n",
       "    <tr>\n",
       "      <th>2</th>\n",
       "      <td>Aaron Henry</td>\n",
       "      <td>Small Forward</td>\n",
       "      <td>198</td>\n",
       "      <td>210</td>\n",
       "      <td>24</td>\n",
       "      <td>Unknown</td>\n",
       "      <td>0</td>\n",
       "      <td>0</td>\n",
       "      <td>0</td>\n",
       "      <td>1</td>\n",
       "      <td>0</td>\n",
       "    </tr>\n",
       "    <tr>\n",
       "      <th>3</th>\n",
       "      <td>Aaron Holiday</td>\n",
       "      <td>Point Guard</td>\n",
       "      <td>183</td>\n",
       "      <td>185</td>\n",
       "      <td>27</td>\n",
       "      <td>5</td>\n",
       "      <td>1</td>\n",
       "      <td>0</td>\n",
       "      <td>0</td>\n",
       "      <td>0</td>\n",
       "      <td>0</td>\n",
       "    </tr>\n",
       "    <tr>\n",
       "      <th>4</th>\n",
       "      <td>Aaron Nesmith</td>\n",
       "      <td>Small Forward</td>\n",
       "      <td>196</td>\n",
       "      <td>215</td>\n",
       "      <td>24</td>\n",
       "      <td>3</td>\n",
       "      <td>0</td>\n",
       "      <td>0</td>\n",
       "      <td>0</td>\n",
       "      <td>1</td>\n",
       "      <td>0</td>\n",
       "    </tr>\n",
       "    <tr>\n",
       "      <th>...</th>\n",
       "      <td>...</td>\n",
       "      <td>...</td>\n",
       "      <td>...</td>\n",
       "      <td>...</td>\n",
       "      <td>...</td>\n",
       "      <td>...</td>\n",
       "      <td>...</td>\n",
       "      <td>...</td>\n",
       "      <td>...</td>\n",
       "      <td>...</td>\n",
       "      <td>...</td>\n",
       "    </tr>\n",
       "    <tr>\n",
       "      <th>646</th>\n",
       "      <td>Zeke Nnaji</td>\n",
       "      <td>Power Forward</td>\n",
       "      <td>206</td>\n",
       "      <td>240</td>\n",
       "      <td>23</td>\n",
       "      <td>3</td>\n",
       "      <td>0</td>\n",
       "      <td>0</td>\n",
       "      <td>1</td>\n",
       "      <td>0</td>\n",
       "      <td>0</td>\n",
       "    </tr>\n",
       "    <tr>\n",
       "      <th>647</th>\n",
       "      <td>Zhaire Smith</td>\n",
       "      <td>Shooting Guard and Small Forward</td>\n",
       "      <td>190</td>\n",
       "      <td>205</td>\n",
       "      <td>24</td>\n",
       "      <td>2</td>\n",
       "      <td>0</td>\n",
       "      <td>1</td>\n",
       "      <td>0</td>\n",
       "      <td>1</td>\n",
       "      <td>0</td>\n",
       "    </tr>\n",
       "    <tr>\n",
       "      <th>648</th>\n",
       "      <td>Ziaire Williams</td>\n",
       "      <td>Small Forward</td>\n",
       "      <td>206</td>\n",
       "      <td>215</td>\n",
       "      <td>22</td>\n",
       "      <td>2</td>\n",
       "      <td>0</td>\n",
       "      <td>0</td>\n",
       "      <td>0</td>\n",
       "      <td>1</td>\n",
       "      <td>0</td>\n",
       "    </tr>\n",
       "    <tr>\n",
       "      <th>649</th>\n",
       "      <td>Zion Williamson</td>\n",
       "      <td>Power Forward</td>\n",
       "      <td>198</td>\n",
       "      <td>284</td>\n",
       "      <td>23</td>\n",
       "      <td>3</td>\n",
       "      <td>0</td>\n",
       "      <td>0</td>\n",
       "      <td>1</td>\n",
       "      <td>0</td>\n",
       "      <td>0</td>\n",
       "    </tr>\n",
       "    <tr>\n",
       "      <th>650</th>\n",
       "      <td>Zylan Cheatham</td>\n",
       "      <td>Small Forward and Power Forward</td>\n",
       "      <td>196</td>\n",
       "      <td>220</td>\n",
       "      <td>28</td>\n",
       "      <td>2</td>\n",
       "      <td>0</td>\n",
       "      <td>0</td>\n",
       "      <td>1</td>\n",
       "      <td>1</td>\n",
       "      <td>0</td>\n",
       "    </tr>\n",
       "  </tbody>\n",
       "</table>\n",
       "<p>651 rows × 11 columns</p>\n",
       "</div>"
      ],
      "text/plain": [
       "                Name                          Position  Height  Weight Age  \\\n",
       "0         A.J. Green                    Shooting Guard     193     200  24   \n",
       "1       Aaron Gordon   Power Forward and Small Forward     203     235  28   \n",
       "2        Aaron Henry                     Small Forward     198     210  24   \n",
       "3      Aaron Holiday                       Point Guard     183     185  27   \n",
       "4      Aaron Nesmith                     Small Forward     196     215  24   \n",
       "..               ...                               ...     ...     ...  ..   \n",
       "646       Zeke Nnaji                     Power Forward     206     240  23   \n",
       "647     Zhaire Smith  Shooting Guard and Small Forward     190     205  24   \n",
       "648  Ziaire Williams                     Small Forward     206     215  22   \n",
       "649  Zion Williamson                     Power Forward     198     284  23   \n",
       "650   Zylan Cheatham   Small Forward and Power Forward     196     220  28   \n",
       "\n",
       "    Experience  Point Guard  Shooting Guard  Power Forward  Small Forward  \\\n",
       "0            1            0               1              0              0   \n",
       "1            9            0               0              1              1   \n",
       "2      Unknown            0               0              0              1   \n",
       "3            5            1               0              0              0   \n",
       "4            3            0               0              0              1   \n",
       "..         ...          ...             ...            ...            ...   \n",
       "646          3            0               0              1              0   \n",
       "647          2            0               1              0              1   \n",
       "648          2            0               0              0              1   \n",
       "649          3            0               0              1              0   \n",
       "650          2            0               0              1              1   \n",
       "\n",
       "     Center  \n",
       "0         0  \n",
       "1         0  \n",
       "2         0  \n",
       "3         0  \n",
       "4         0  \n",
       "..      ...  \n",
       "646       0  \n",
       "647       0  \n",
       "648       0  \n",
       "649       0  \n",
       "650       0  \n",
       "\n",
       "[651 rows x 11 columns]"
      ]
     },
     "execution_count": 263,
     "metadata": {},
     "output_type": "execute_result"
    }
   ],
   "source": [
    "basic_info"
   ]
  },
  {
   "cell_type": "code",
   "execution_count": 218,
   "metadata": {},
   "outputs": [
    {
     "data": {
      "text/html": [
       "<div>\n",
       "<style scoped>\n",
       "    .dataframe tbody tr th:only-of-type {\n",
       "        vertical-align: middle;\n",
       "    }\n",
       "\n",
       "    .dataframe tbody tr th {\n",
       "        vertical-align: top;\n",
       "    }\n",
       "\n",
       "    .dataframe thead th {\n",
       "        text-align: right;\n",
       "    }\n",
       "</style>\n",
       "<table border=\"1\" class=\"dataframe\">\n",
       "  <thead>\n",
       "    <tr style=\"text-align: right;\">\n",
       "      <th></th>\n",
       "      <th>Player</th>\n",
       "      <th>Days Since Last Injury</th>\n",
       "      <th>Got Injured</th>\n",
       "      <th>core</th>\n",
       "      <th>upper body</th>\n",
       "      <th>ligament</th>\n",
       "      <th>foot</th>\n",
       "      <th>back</th>\n",
       "    </tr>\n",
       "  </thead>\n",
       "  <tbody>\n",
       "    <tr>\n",
       "      <th>0</th>\n",
       "      <td>(JAMES) MIKE SCOTT</td>\n",
       "      <td>615</td>\n",
       "      <td>0</td>\n",
       "      <td>0</td>\n",
       "      <td>0</td>\n",
       "      <td>0</td>\n",
       "      <td>0</td>\n",
       "      <td>0</td>\n",
       "    </tr>\n",
       "    <tr>\n",
       "      <th>1</th>\n",
       "      <td>(SEAN) CHRIS SMITH</td>\n",
       "      <td>284</td>\n",
       "      <td>0</td>\n",
       "      <td>0</td>\n",
       "      <td>0</td>\n",
       "      <td>0</td>\n",
       "      <td>0</td>\n",
       "      <td>0</td>\n",
       "    </tr>\n",
       "    <tr>\n",
       "      <th>2</th>\n",
       "      <td>A.J. GREEN</td>\n",
       "      <td>64</td>\n",
       "      <td>0</td>\n",
       "      <td>0</td>\n",
       "      <td>0</td>\n",
       "      <td>0</td>\n",
       "      <td>0</td>\n",
       "      <td>0</td>\n",
       "    </tr>\n",
       "    <tr>\n",
       "      <th>3</th>\n",
       "      <td>AARON GORDON</td>\n",
       "      <td>5</td>\n",
       "      <td>0</td>\n",
       "      <td>0</td>\n",
       "      <td>0</td>\n",
       "      <td>0</td>\n",
       "      <td>1</td>\n",
       "      <td>0</td>\n",
       "    </tr>\n",
       "    <tr>\n",
       "      <th>4</th>\n",
       "      <td>AARON HENRY</td>\n",
       "      <td>367</td>\n",
       "      <td>0</td>\n",
       "      <td>0</td>\n",
       "      <td>0</td>\n",
       "      <td>0</td>\n",
       "      <td>0</td>\n",
       "      <td>0</td>\n",
       "    </tr>\n",
       "    <tr>\n",
       "      <th>...</th>\n",
       "      <td>...</td>\n",
       "      <td>...</td>\n",
       "      <td>...</td>\n",
       "      <td>...</td>\n",
       "      <td>...</td>\n",
       "      <td>...</td>\n",
       "      <td>...</td>\n",
       "      <td>...</td>\n",
       "    </tr>\n",
       "    <tr>\n",
       "      <th>703</th>\n",
       "      <td>ZHAIRE SMITH</td>\n",
       "      <td>1057</td>\n",
       "      <td>1</td>\n",
       "      <td>0</td>\n",
       "      <td>0</td>\n",
       "      <td>0</td>\n",
       "      <td>0</td>\n",
       "      <td>0</td>\n",
       "    </tr>\n",
       "    <tr>\n",
       "      <th>704</th>\n",
       "      <td>ZIAIRE WILLIAMS</td>\n",
       "      <td>74</td>\n",
       "      <td>1</td>\n",
       "      <td>0</td>\n",
       "      <td>0</td>\n",
       "      <td>0</td>\n",
       "      <td>0</td>\n",
       "      <td>0</td>\n",
       "    </tr>\n",
       "    <tr>\n",
       "      <th>705</th>\n",
       "      <td>ZION WILLIAMSON</td>\n",
       "      <td>10</td>\n",
       "      <td>0</td>\n",
       "      <td>0</td>\n",
       "      <td>0</td>\n",
       "      <td>0</td>\n",
       "      <td>2</td>\n",
       "      <td>1</td>\n",
       "    </tr>\n",
       "    <tr>\n",
       "      <th>706</th>\n",
       "      <td>ZYLAN CHEATHAM</td>\n",
       "      <td>368</td>\n",
       "      <td>0</td>\n",
       "      <td>0</td>\n",
       "      <td>0</td>\n",
       "      <td>0</td>\n",
       "      <td>0</td>\n",
       "      <td>0</td>\n",
       "    </tr>\n",
       "    <tr>\n",
       "      <th>707</th>\n",
       "      <td>LEFT WRIST INJURY (DTD)</td>\n",
       "      <td>735</td>\n",
       "      <td>1</td>\n",
       "      <td>0</td>\n",
       "      <td>0</td>\n",
       "      <td>0</td>\n",
       "      <td>0</td>\n",
       "      <td>0</td>\n",
       "    </tr>\n",
       "  </tbody>\n",
       "</table>\n",
       "<p>708 rows × 8 columns</p>\n",
       "</div>"
      ],
      "text/plain": [
       "                      Player  Days Since Last Injury  Got Injured  core  \\\n",
       "0         (JAMES) MIKE SCOTT                     615            0     0   \n",
       "1         (SEAN) CHRIS SMITH                     284            0     0   \n",
       "2                 A.J. GREEN                      64            0     0   \n",
       "3               AARON GORDON                       5            0     0   \n",
       "4                AARON HENRY                     367            0     0   \n",
       "..                       ...                     ...          ...   ...   \n",
       "703             ZHAIRE SMITH                    1057            1     0   \n",
       "704          ZIAIRE WILLIAMS                      74            1     0   \n",
       "705          ZION WILLIAMSON                      10            0     0   \n",
       "706           ZYLAN CHEATHAM                     368            0     0   \n",
       "707  LEFT WRIST INJURY (DTD)                     735            1     0   \n",
       "\n",
       "     upper body  ligament  foot  back  \n",
       "0             0         0     0     0  \n",
       "1             0         0     0     0  \n",
       "2             0         0     0     0  \n",
       "3             0         0     1     0  \n",
       "4             0         0     0     0  \n",
       "..          ...       ...   ...   ...  \n",
       "703           0         0     0     0  \n",
       "704           0         0     0     0  \n",
       "705           0         0     2     1  \n",
       "706           0         0     0     0  \n",
       "707           0         0     0     0  \n",
       "\n",
       "[708 rows x 8 columns]"
      ]
     },
     "execution_count": 218,
     "metadata": {},
     "output_type": "execute_result"
    }
   ],
   "source": [
    "grouped_df"
   ]
  },
  {
   "cell_type": "code",
   "execution_count": 264,
   "metadata": {},
   "outputs": [],
   "source": [
    "# Run this if you are importing from the csv\n",
    "import ast\n",
    "past_games_data_temp = last_5_games_df.copy()\n",
    "\n",
    "past_games_data_temp['Last_5_Games'] = past_games_data_temp['Last_5_Games'].apply(ast.literal_eval)\n",
    "\n",
    "# Expand the lists into separate columns\n",
    "past_games_data_temp[['Game_1', 'Game_2', 'Game_3', 'Game_4', 'Game_5']] = pd.DataFrame(past_games_data_temp['Last_5_Games'].tolist(), index=past_games_data_temp.index)\n",
    "\n",
    "# Optionally drop the original 'Last_5_Games' column\n",
    "past_games_data_temp.drop('Last_5_Games', axis=1, inplace=True)"
   ]
  },
  {
   "cell_type": "code",
   "execution_count": 265,
   "metadata": {},
   "outputs": [
    {
     "data": {
      "text/html": [
       "<div>\n",
       "<style scoped>\n",
       "    .dataframe tbody tr th:only-of-type {\n",
       "        vertical-align: middle;\n",
       "    }\n",
       "\n",
       "    .dataframe tbody tr th {\n",
       "        vertical-align: top;\n",
       "    }\n",
       "\n",
       "    .dataframe thead th {\n",
       "        text-align: right;\n",
       "    }\n",
       "</style>\n",
       "<table border=\"1\" class=\"dataframe\">\n",
       "  <thead>\n",
       "    <tr style=\"text-align: right;\">\n",
       "      <th></th>\n",
       "      <th>Name</th>\n",
       "      <th>Position</th>\n",
       "      <th>Height</th>\n",
       "      <th>Weight</th>\n",
       "      <th>Age</th>\n",
       "      <th>Experience</th>\n",
       "      <th>Point Guard</th>\n",
       "      <th>Shooting Guard</th>\n",
       "      <th>Power Forward</th>\n",
       "      <th>Small Forward</th>\n",
       "      <th>Center</th>\n",
       "    </tr>\n",
       "  </thead>\n",
       "  <tbody>\n",
       "    <tr>\n",
       "      <th>0</th>\n",
       "      <td>A.J. Green</td>\n",
       "      <td>Shooting Guard</td>\n",
       "      <td>193</td>\n",
       "      <td>200</td>\n",
       "      <td>24</td>\n",
       "      <td>1</td>\n",
       "      <td>0</td>\n",
       "      <td>1</td>\n",
       "      <td>0</td>\n",
       "      <td>0</td>\n",
       "      <td>0</td>\n",
       "    </tr>\n",
       "    <tr>\n",
       "      <th>1</th>\n",
       "      <td>Aaron Gordon</td>\n",
       "      <td>Power Forward and Small Forward</td>\n",
       "      <td>203</td>\n",
       "      <td>235</td>\n",
       "      <td>28</td>\n",
       "      <td>9</td>\n",
       "      <td>0</td>\n",
       "      <td>0</td>\n",
       "      <td>1</td>\n",
       "      <td>1</td>\n",
       "      <td>0</td>\n",
       "    </tr>\n",
       "    <tr>\n",
       "      <th>2</th>\n",
       "      <td>Aaron Henry</td>\n",
       "      <td>Small Forward</td>\n",
       "      <td>198</td>\n",
       "      <td>210</td>\n",
       "      <td>24</td>\n",
       "      <td>Unknown</td>\n",
       "      <td>0</td>\n",
       "      <td>0</td>\n",
       "      <td>0</td>\n",
       "      <td>1</td>\n",
       "      <td>0</td>\n",
       "    </tr>\n",
       "    <tr>\n",
       "      <th>3</th>\n",
       "      <td>Aaron Holiday</td>\n",
       "      <td>Point Guard</td>\n",
       "      <td>183</td>\n",
       "      <td>185</td>\n",
       "      <td>27</td>\n",
       "      <td>5</td>\n",
       "      <td>1</td>\n",
       "      <td>0</td>\n",
       "      <td>0</td>\n",
       "      <td>0</td>\n",
       "      <td>0</td>\n",
       "    </tr>\n",
       "    <tr>\n",
       "      <th>4</th>\n",
       "      <td>Aaron Nesmith</td>\n",
       "      <td>Small Forward</td>\n",
       "      <td>196</td>\n",
       "      <td>215</td>\n",
       "      <td>24</td>\n",
       "      <td>3</td>\n",
       "      <td>0</td>\n",
       "      <td>0</td>\n",
       "      <td>0</td>\n",
       "      <td>1</td>\n",
       "      <td>0</td>\n",
       "    </tr>\n",
       "    <tr>\n",
       "      <th>...</th>\n",
       "      <td>...</td>\n",
       "      <td>...</td>\n",
       "      <td>...</td>\n",
       "      <td>...</td>\n",
       "      <td>...</td>\n",
       "      <td>...</td>\n",
       "      <td>...</td>\n",
       "      <td>...</td>\n",
       "      <td>...</td>\n",
       "      <td>...</td>\n",
       "      <td>...</td>\n",
       "    </tr>\n",
       "    <tr>\n",
       "      <th>646</th>\n",
       "      <td>Zeke Nnaji</td>\n",
       "      <td>Power Forward</td>\n",
       "      <td>206</td>\n",
       "      <td>240</td>\n",
       "      <td>23</td>\n",
       "      <td>3</td>\n",
       "      <td>0</td>\n",
       "      <td>0</td>\n",
       "      <td>1</td>\n",
       "      <td>0</td>\n",
       "      <td>0</td>\n",
       "    </tr>\n",
       "    <tr>\n",
       "      <th>647</th>\n",
       "      <td>Zhaire Smith</td>\n",
       "      <td>Shooting Guard and Small Forward</td>\n",
       "      <td>190</td>\n",
       "      <td>205</td>\n",
       "      <td>24</td>\n",
       "      <td>2</td>\n",
       "      <td>0</td>\n",
       "      <td>1</td>\n",
       "      <td>0</td>\n",
       "      <td>1</td>\n",
       "      <td>0</td>\n",
       "    </tr>\n",
       "    <tr>\n",
       "      <th>648</th>\n",
       "      <td>Ziaire Williams</td>\n",
       "      <td>Small Forward</td>\n",
       "      <td>206</td>\n",
       "      <td>215</td>\n",
       "      <td>22</td>\n",
       "      <td>2</td>\n",
       "      <td>0</td>\n",
       "      <td>0</td>\n",
       "      <td>0</td>\n",
       "      <td>1</td>\n",
       "      <td>0</td>\n",
       "    </tr>\n",
       "    <tr>\n",
       "      <th>649</th>\n",
       "      <td>Zion Williamson</td>\n",
       "      <td>Power Forward</td>\n",
       "      <td>198</td>\n",
       "      <td>284</td>\n",
       "      <td>23</td>\n",
       "      <td>3</td>\n",
       "      <td>0</td>\n",
       "      <td>0</td>\n",
       "      <td>1</td>\n",
       "      <td>0</td>\n",
       "      <td>0</td>\n",
       "    </tr>\n",
       "    <tr>\n",
       "      <th>650</th>\n",
       "      <td>Zylan Cheatham</td>\n",
       "      <td>Small Forward and Power Forward</td>\n",
       "      <td>196</td>\n",
       "      <td>220</td>\n",
       "      <td>28</td>\n",
       "      <td>2</td>\n",
       "      <td>0</td>\n",
       "      <td>0</td>\n",
       "      <td>1</td>\n",
       "      <td>1</td>\n",
       "      <td>0</td>\n",
       "    </tr>\n",
       "  </tbody>\n",
       "</table>\n",
       "<p>651 rows × 11 columns</p>\n",
       "</div>"
      ],
      "text/plain": [
       "                Name                          Position  Height  Weight Age  \\\n",
       "0         A.J. Green                    Shooting Guard     193     200  24   \n",
       "1       Aaron Gordon   Power Forward and Small Forward     203     235  28   \n",
       "2        Aaron Henry                     Small Forward     198     210  24   \n",
       "3      Aaron Holiday                       Point Guard     183     185  27   \n",
       "4      Aaron Nesmith                     Small Forward     196     215  24   \n",
       "..               ...                               ...     ...     ...  ..   \n",
       "646       Zeke Nnaji                     Power Forward     206     240  23   \n",
       "647     Zhaire Smith  Shooting Guard and Small Forward     190     205  24   \n",
       "648  Ziaire Williams                     Small Forward     206     215  22   \n",
       "649  Zion Williamson                     Power Forward     198     284  23   \n",
       "650   Zylan Cheatham   Small Forward and Power Forward     196     220  28   \n",
       "\n",
       "    Experience  Point Guard  Shooting Guard  Power Forward  Small Forward  \\\n",
       "0            1            0               1              0              0   \n",
       "1            9            0               0              1              1   \n",
       "2      Unknown            0               0              0              1   \n",
       "3            5            1               0              0              0   \n",
       "4            3            0               0              0              1   \n",
       "..         ...          ...             ...            ...            ...   \n",
       "646          3            0               0              1              0   \n",
       "647          2            0               1              0              1   \n",
       "648          2            0               0              0              1   \n",
       "649          3            0               0              1              0   \n",
       "650          2            0               0              1              1   \n",
       "\n",
       "     Center  \n",
       "0         0  \n",
       "1         0  \n",
       "2         0  \n",
       "3         0  \n",
       "4         0  \n",
       "..      ...  \n",
       "646       0  \n",
       "647       0  \n",
       "648       0  \n",
       "649       0  \n",
       "650       0  \n",
       "\n",
       "[651 rows x 11 columns]"
      ]
     },
     "execution_count": 265,
     "metadata": {},
     "output_type": "execute_result"
    }
   ],
   "source": [
    "basic_info"
   ]
  },
  {
   "cell_type": "code",
   "execution_count": 266,
   "metadata": {},
   "outputs": [
    {
     "name": "stderr",
     "output_type": "stream",
     "text": [
      "/var/folders/7z/7q00pypj1_sf2clps66cxc9r0000gn/T/ipykernel_2964/3511381683.py:48: FutureWarning: A value is trying to be set on a copy of a DataFrame or Series through chained assignment using an inplace method.\n",
      "The behavior will change in pandas 3.0. This inplace method will never work because the intermediate object on which we are setting values always behaves as a copy.\n",
      "\n",
      "For example, when doing 'df[col].method(value, inplace=True)', try using 'df.method({col: value}, inplace=True)' or df[col] = df[col].method(value) instead, to perform the operation inplace on the original object.\n",
      "\n",
      "\n",
      "  current_game_player_data['Age'].fillna(0, inplace=True)\n",
      "/var/folders/7z/7q00pypj1_sf2clps66cxc9r0000gn/T/ipykernel_2964/3511381683.py:49: FutureWarning: A value is trying to be set on a copy of a DataFrame or Series through chained assignment using an inplace method.\n",
      "The behavior will change in pandas 3.0. This inplace method will never work because the intermediate object on which we are setting values always behaves as a copy.\n",
      "\n",
      "For example, when doing 'df[col].method(value, inplace=True)', try using 'df.method({col: value}, inplace=True)' or df[col] = df[col].method(value) instead, to perform the operation inplace on the original object.\n",
      "\n",
      "\n",
      "  current_game_player_data['Experience'].fillna(0, inplace=True)\n"
     ]
    }
   ],
   "source": [
    "# Preprocessing data\n",
    "import torch\n",
    "import ast\n",
    "from torch import nn\n",
    "import numpy as np\n",
    "from torch.utils.data import DataLoader, TensorDataset\n",
    "import torch\n",
    "from sklearn.model_selection import train_test_split\n",
    "from sklearn.utils.class_weight import compute_class_weight\n",
    "from imblearn.over_sampling import ADASYN\n",
    "\n",
    "\n",
    "\n",
    "\n",
    "grouped_df['Player'] = grouped_df['Player'].str.upper().str.strip()\n",
    "basic_info['Name'] = basic_info['Name'].str.upper().str.strip()\n",
    "\n",
    "filtered_grouped_df = grouped_df[grouped_df['Player'].isin(basic_info['Name'])]\n",
    "current_game_player_data = basic_info.copy()\n",
    "past_injuries_data_temp = filtered_grouped_df.copy()\n",
    "past_games_data_temp = last_5_games_df.copy()\n",
    "\n",
    "past_games_data_temp['Last_5_Games'] = past_games_data_temp['Last_5_Games'].apply(ast.literal_eval)\n",
    "\n",
    "# Expand the lists into separate columns\n",
    "past_games_data_temp[['Game_1', 'Game_2', 'Game_3', 'Game_4', 'Game_5']] = pd.DataFrame(past_games_data_temp['Last_5_Games'].tolist(), index=past_games_data_temp.index)\n",
    "\n",
    "# Optionally drop the original 'Last_5_Games' column\n",
    "past_games_data_temp.drop('Last_5_Games', axis=1, inplace=True)\n",
    "\n",
    "past_games_data = past_games_data_temp\n",
    "past_injuries_data = past_injuries_data_temp.drop('Got Injured', axis=1)  # Drop the label column to create features\n",
    "#past_injuries_data.drop('List of Past Injuries', axis = 1, inplace= True)\n",
    "labels = past_injuries_data_temp['Got Injured']  # Isolate the label column\n",
    "\n",
    "past_games_data.drop('Name', axis =1, inplace=True)\n",
    "if past_games_data_temp.isnull().any().any():\n",
    "    past_games_data_temp.fillna(0, inplace=True)  # Or another appropriate fill value\n",
    "\n",
    "past_injuries_data.drop('Player', axis =1, inplace = True)\n",
    "current_game_player_data.drop('Name', axis =1, inplace =True)\n",
    "current_game_player_data.drop('Position', axis =1, inplace =True)\n",
    "# Convert 'Age' and 'Experience' to numeric types, coercing errors to NaN (or a default value)\n",
    "current_game_player_data['Age'] = pd.to_numeric(current_game_player_data['Age'], errors='coerce')\n",
    "current_game_player_data['Experience'] = pd.to_numeric(current_game_player_data['Experience'], errors='coerce')\n",
    "\n",
    "# Optionally fill NaNs with a default value, such as 0 or the mean/median of the column\n",
    "current_game_player_data['Age'].fillna(0, inplace=True)\n",
    "current_game_player_data['Experience'].fillna(0, inplace=True)\n",
    "\n",
    "# Convert to integer if that is more appropriate\n",
    "current_game_player_data['Age'] = current_game_player_data['Age'].astype(int)\n",
    "current_game_player_data['Experience'] = current_game_player_data['Experience'].astype(int)\n",
    "\n",
    "\n",
    "# Convert DataFrames/Series to tensors\n",
    "past_injuries_tensor = torch.tensor(past_injuries_data.values, dtype=torch.float32)\n",
    "past_games_tensor = torch.tensor(past_games_data.values, dtype=torch.float32)\n",
    "current_game_player_tensor = torch.tensor(current_game_player_data.values, dtype=torch.float32)\n",
    "labels_tensor = torch.tensor(labels.values, dtype=torch.long)  # Assuming labels are categorical for CrossEntropyLoss\n",
    "\n",
    "# Split the data into training and testing sets\n",
    "train_idx, test_idx = train_test_split(\n",
    "    range(len(labels_tensor)),\n",
    "    test_size=0.2,\n",
    "    stratify=labels_tensor\n",
    ")\n",
    "\n",
    "# Creating training and testing datasets using indices\n",
    "train_dataset = TensorDataset(\n",
    "    past_injuries_tensor[train_idx],\n",
    "    past_games_tensor[train_idx],\n",
    "    current_game_player_tensor[train_idx],\n",
    "    labels_tensor[train_idx]\n",
    ")\n",
    "\n",
    "test_dataset = TensorDataset(\n",
    "    past_injuries_tensor[test_idx],\n",
    "    past_games_tensor[test_idx],\n",
    "    current_game_player_tensor[test_idx],\n",
    "    labels_tensor[test_idx]\n",
    ")\n",
    "\n",
    "def manual_oversample(features_tensors, labels_tensor):\n",
    "    # Convert tensors to numpy arrays for easier manipulation\n",
    "    features_np = [tensor.numpy() for tensor in features_tensors]\n",
    "    labels_np = labels_tensor.numpy()\n",
    "    \n",
    "    # Find the unique classes and their counts\n",
    "    classes, counts = np.unique(labels_np, return_counts=True)\n",
    "    max_count = np.max(counts)\n",
    "    \n",
    "    # Determine the indices to replicate for each class to balance the dataset\n",
    "    resampled_features = [list() for _ in features_tensors]  # Use lists to collect arrays\n",
    "    resampled_labels = []\n",
    "\n",
    "    for cls in classes:\n",
    "        cls_indices = np.where(labels_np == cls)[0]\n",
    "        oversample_indices = np.random.choice(cls_indices, size=max_count, replace=True)\n",
    "        resampled_labels.extend(labels_np[oversample_indices])\n",
    "        for i, feature_set in enumerate(features_np):\n",
    "            resampled_features[i].extend(feature_set[oversample_indices])\n",
    "\n",
    "    # Convert list of arrays into correctly shaped numpy arrays and then to tensors\n",
    "    resampled_features_tensors = [torch.tensor(np.array(feature), dtype=torch.float32) for feature in resampled_features]\n",
    "    resampled_labels_tensor = torch.tensor(resampled_labels, dtype=torch.long)\n",
    "    \n",
    "    return resampled_features_tensors, resampled_labels_tensor\n",
    "\n",
    "# Apply manual oversampling to the training data\n",
    "resampled_features_tensors, resampled_labels_tensor = manual_oversample(\n",
    "    [past_injuries_tensor[train_idx], past_games_tensor[train_idx], current_game_player_tensor[train_idx]],\n",
    "    labels_tensor[train_idx]\n",
    ")\n",
    "\n",
    "# Create the new balanced training dataset\n",
    "balanced_train_dataset = TensorDataset(\n",
    "    *resampled_features_tensors,  # Unpack the list of tensors\n",
    "    resampled_labels_tensor\n",
    ")\n"
   ]
  },
  {
   "cell_type": "code",
   "execution_count": 229,
   "metadata": {},
   "outputs": [
    {
     "name": "stdout",
     "output_type": "stream",
     "text": [
      "Channels:\n",
      " - defaults\n",
      "Platform: osx-64\n",
      "Collecting package metadata (repodata.json): done\n",
      "Solving environment: done\n",
      "\n",
      "## Package Plan ##\n",
      "\n",
      "  environment location: /Users/michaeldelarosa/opt/anaconda3\n",
      "\n",
      "  added / updated specs:\n",
      "    - threadpoolctl\n",
      "\n",
      "\n",
      "The following NEW packages will be INSTALLED:\n",
      "\n",
      "  threadpoolctl      pkgs/main/noarch::threadpoolctl-2.2.0-pyh0d69192_0 \n",
      "\n",
      "\n",
      "Proceed ([y]/n)? ^C\n",
      "\n",
      "CondaSystemExit: \n",
      "Operation aborted.  Exiting.\n",
      "\n"
     ]
    }
   ],
   "source": [
    "!conda install threadpoolctl"
   ]
  },
  {
   "cell_type": "code",
   "execution_count": 257,
   "metadata": {},
   "outputs": [
    {
     "data": {
      "text/plain": [
       "torch.Size([651, 21])"
      ]
     },
     "execution_count": 257,
     "metadata": {},
     "output_type": "execute_result"
    }
   ],
   "source": [
    "current_game_player_tensor.shape"
   ]
  },
  {
   "cell_type": "code",
   "execution_count": 267,
   "metadata": {},
   "outputs": [
    {
     "name": "stdout",
     "output_type": "stream",
     "text": [
      "Sample shape: (9,)\n",
      "here\n",
      "66\n",
      "Sample shape: (9,)\n",
      "here\n",
      "41\n",
      "Sample shape: (9,)\n",
      "here\n",
      "21\n",
      "Sample shape: (9,)\n",
      "here\n",
      "109\n",
      "Sample shape: (9,)\n",
      "here\n",
      "115\n",
      "Sample shape: (9,)\n",
      "here\n",
      "85\n",
      "Sample shape: (9,)\n",
      "here\n",
      "35\n",
      "Sample shape: (9,)\n",
      "here\n",
      "54\n",
      "Sample shape: (9,)\n",
      "here\n",
      "12\n",
      "Sample shape: (9,)\n",
      "here\n",
      "35\n",
      "Sample shape: (9,)\n",
      "here\n",
      "46\n",
      "Sample shape: (9,)\n",
      "here\n",
      "111\n",
      "Sample shape: (9,)\n",
      "here\n",
      "90\n",
      "Sample shape: (9,)\n",
      "here\n",
      "116\n",
      "Sample shape: (9,)\n",
      "here\n",
      "38\n",
      "Sample shape: (9,)\n",
      "here\n",
      "120\n",
      "Sample shape: (9,)\n",
      "here\n",
      "67\n",
      "Sample shape: (9,)\n",
      "here\n",
      "29\n",
      "Sample shape: (9,)\n",
      "here\n",
      "18\n",
      "Sample shape: (9,)\n",
      "here\n",
      "71\n",
      "Sample shape: (9,)\n",
      "here\n",
      "58\n",
      "Sample shape: (9,)\n",
      "here\n",
      "91\n",
      "Sample shape: (9,)\n",
      "here\n",
      "25\n",
      "Sample shape: (9,)\n",
      "here\n",
      "19\n",
      "Sample shape: (9,)\n",
      "here\n",
      "48\n",
      "Sample shape: (9,)\n",
      "here\n",
      "89\n",
      "Sample shape: (9,)\n",
      "here\n",
      "132\n",
      "Sample shape: (9,)\n",
      "here\n",
      "136\n",
      "Sample shape: (9,)\n",
      "here\n",
      "9\n",
      "Sample shape: (9,)\n",
      "here\n",
      "91\n",
      "Sample shape: (9,)\n",
      "here\n",
      "87\n",
      "Sample shape: (9,)\n",
      "here\n",
      "91\n",
      "Sample shape: (9,)\n",
      "here\n",
      "20\n",
      "Sample shape: (9,)\n",
      "here\n",
      "19\n",
      "Sample shape: (9,)\n",
      "here\n",
      "142\n",
      "Sample shape: (9,)\n",
      "here\n",
      "19\n",
      "Sample shape: (9,)\n",
      "here\n",
      "92\n",
      "Sample shape: (9,)\n",
      "here\n",
      "94\n",
      "Sample shape: (9,)\n",
      "here\n",
      "114\n",
      "Sample shape: (9,)\n",
      "here\n",
      "71\n",
      "Sample shape: (9,)\n",
      "here\n",
      "139\n",
      "Sample shape: (9,)\n",
      "here\n",
      "91\n",
      "Sample shape: (9,)\n",
      "here\n",
      "65\n",
      "Sample shape: (9,)\n",
      "here\n",
      "127\n",
      "Sample shape: (9,)\n",
      "here\n",
      "117\n",
      "Sample shape: (9,)\n",
      "here\n",
      "14\n",
      "Sample shape: (9,)\n",
      "here\n",
      "45\n",
      "Sample shape: (9,)\n",
      "here\n",
      "126\n",
      "Sample shape: (9,)\n",
      "here\n",
      "43\n",
      "Sample shape: (9,)\n",
      "here\n",
      "118\n",
      "Sample shape: (9,)\n",
      "here\n",
      "77\n",
      "Sample shape: (9,)\n",
      "here\n",
      "47\n",
      "Sample shape: (9,)\n",
      "here\n",
      "81\n",
      "Sample shape: (9,)\n",
      "here\n",
      "137\n",
      "Sample shape: (9,)\n",
      "here\n",
      "111\n",
      "Sample shape: (9,)\n",
      "here\n",
      "32\n",
      "Sample shape: (9,)\n",
      "here\n",
      "1\n",
      "Sample shape: (9,)\n",
      "here\n",
      "23\n",
      "Sample shape: (9,)\n",
      "here\n",
      "43\n",
      "Sample shape: (9,)\n",
      "here\n",
      "64\n",
      "Sample shape: (9,)\n",
      "here\n",
      "137\n",
      "Sample shape: (9,)\n",
      "here\n",
      "28\n",
      "Sample shape: (9,)\n",
      "here\n",
      "109\n",
      "Sample shape: (9,)\n",
      "here\n",
      "84\n",
      "Sample shape: (9,)\n",
      "here\n",
      "136\n",
      "Sample shape: (9,)\n",
      "here\n",
      "9\n",
      "Sample shape: (9,)\n",
      "here\n",
      "138\n",
      "Sample shape: (9,)\n",
      "here\n",
      "104\n",
      "Sample shape: (9,)\n",
      "here\n",
      "48\n",
      "Sample shape: (9,)\n",
      "here\n",
      "123\n",
      "Sample shape: (9,)\n",
      "here\n",
      "80\n",
      "Sample shape: (9,)\n",
      "here\n",
      "82\n",
      "Sample shape: (9,)\n",
      "here\n",
      "87\n",
      "Sample shape: (9,)\n",
      "here\n",
      "53\n",
      "Sample shape: (9,)\n",
      "here\n",
      "9\n",
      "Sample shape: (9,)\n",
      "here\n",
      "46\n",
      "Sample shape: (9,)\n",
      "here\n",
      "12\n",
      "Sample shape: (9,)\n",
      "here\n",
      "29\n",
      "Sample shape: (9,)\n",
      "here\n",
      "95\n",
      "Sample shape: (9,)\n",
      "here\n",
      "134\n",
      "Sample shape: (9,)\n",
      "here\n",
      "35\n",
      "Sample shape: (9,)\n",
      "here\n",
      "123\n",
      "Sample shape: (9,)\n",
      "here\n",
      "132\n",
      "Sample shape: (9,)\n",
      "here\n",
      "81\n",
      "Sample shape: (9,)\n",
      "here\n",
      "33\n",
      "Sample shape: (9,)\n",
      "here\n",
      "70\n",
      "Sample shape: (9,)\n",
      "here\n",
      "93\n",
      "Sample shape: (9,)\n",
      "here\n",
      "5\n",
      "Sample shape: (9,)\n",
      "here\n",
      "28\n",
      "Sample shape: (9,)\n",
      "here\n",
      "125\n",
      "Sample shape: (9,)\n",
      "here\n",
      "98\n",
      "Sample shape: (9,)\n",
      "here\n",
      "18\n",
      "Sample shape: (9,)\n",
      "here\n",
      "134\n",
      "Sample shape: (9,)\n",
      "here\n",
      "131\n",
      "Sample shape: (9,)\n",
      "here\n",
      "14\n",
      "Sample shape: (9,)\n",
      "here\n",
      "109\n",
      "Sample shape: (9,)\n",
      "here\n",
      "18\n",
      "Sample shape: (9,)\n",
      "here\n",
      "6\n",
      "Sample shape: (9,)\n",
      "here\n",
      "39\n",
      "Sample shape: (9,)\n",
      "here\n",
      "129\n"
     ]
    }
   ],
   "source": [
    "# Trying and implementing SMOTE\n",
    "import torch\n",
    "\n",
    "# Count class occurrences\n",
    "unique, counts = labels_tensor.unique(return_counts=True)\n",
    "class_distribution = dict(zip(unique.tolist(), counts.tolist()))\n",
    "\n",
    "# Identify the minority class\n",
    "minority_class = min(class_distribution, key=class_distribution.get)\n",
    "\n",
    "minority_indices = (labels_tensor == minority_class).nonzero(as_tuple=True)[0]\n",
    "\n",
    "# Tensors of the minority class\n",
    "minority_injuries = past_injuries_tensor[minority_indices]\n",
    "minority_games = past_games_tensor[minority_indices]\n",
    "minority_players = current_game_player_tensor[minority_indices]\n",
    "\n",
    "from sklearn.neighbors import NearestNeighbors\n",
    "import numpy as np\n",
    "def smote(data, n_samples, k=5):\n",
    "    n_minority_samples, n_features = data.shape\n",
    "    synthetic_samples = np.zeros((n_samples, n_features))\n",
    "\n",
    "    neigh = NearestNeighbors(n_neighbors=k)\n",
    "    neigh.fit(data)\n",
    "    \n",
    "    for i in range(n_samples):\n",
    "        idx = np.random.randint(0, n_minority_samples)\n",
    "        sample = data[idx]\n",
    "       \n",
    "        print(\"Sample shape:\", sample.shape)  \n",
    "        # Ensure that the sample is properly shaped\n",
    "        sample = sample.reshape(1, -1)\n",
    "        _, nn_indices = neigh.kneighbors(sample)\n",
    "        print('here')\n",
    "        nn_idx = np.random.choice(nn_indices[0])\n",
    "        print(nn_idx)\n",
    "        # Create the synthetic sample\n",
    "        diff = data[nn_idx] - data[idx]\n",
    "        synthetic_samples[i] = data[idx] + np.random.rand() * diff\n",
    "    \n",
    "    return synthetic_samples\n",
    "\n",
    "# Number of samples to generate\n",
    "n_samples = 100  # adjust based on your requirement\n",
    "\n",
    "# Convert tensors to numpy arrays for SMOTE\n",
    "minority_injuries_np = minority_injuries.numpy()\n",
    "minority_games_np = minority_games.numpy()\n",
    "minority_players_np = minority_players.numpy()\n",
    "\n",
    "\n",
    "#synthetic_injuries = smote(minority_injuries_np, n_samples)\n",
    "#synthetic_games = smote(minority_games_np, n_samples)\n",
    "synthetic_players = smote(minority_players_np, n_samples)\n",
    "\n",
    "synthetic_injuries_tensor = torch.tensor(synthetic_injuries, dtype=torch.float32)\n",
    "synthetic_games_tensor = torch.tensor(synthetic_games, dtype=torch.float32)\n",
    "synthetic_players_tensor = torch.tensor(synthetic_players, dtype=torch.float32)\n",
    "synthetic_labels_tensor = torch.tensor([minority_class] * n_samples, dtype=torch.long)\n",
    "\n",
    "# Combine the original and synthetic data\n",
    "combined_injuries_tensor = torch.cat((past_injuries_tensor, synthetic_injuries_tensor), 0)\n",
    "combined_games_tensor = torch.cat((past_games_tensor, synthetic_games_tensor), 0)\n",
    "combined_players_tensor = torch.cat((current_game_player_tensor, synthetic_players_tensor), 0)\n",
    "combined_labels_tensor = torch.cat((labels_tensor, synthetic_labels_tensor), 0)\n",
    "\n",
    "# Shuffle the dataset\n",
    "shuffled_indices = torch.randperm(combined_labels_tensor.size(0))\n",
    "\n",
    "# Re-assign the shuffled data\n",
    "shuffled_injuries = combined_injuries_tensor[shuffled_indices]\n",
    "shuffled_games = combined_games_tensor[shuffled_indices]\n",
    "shuffled_players = combined_players_tensor[shuffled_indices]\n",
    "shuffled_labels = combined_labels_tensor[shuffled_indices]\n",
    "\n",
    "# Split the shuffled data into training and testing sets\n",
    "train_idx, test_idx = train_test_split(\n",
    "    range(len(shuffled_labels)),\n",
    "    test_size=0.2,\n",
    "    stratify=shuffled_labels.numpy()  # Convert tensor to numpy for stratify compatibility\n",
    ")\n",
    "\n",
    "# Convert indices to torch tensors\n",
    "train_idx = torch.tensor(train_idx, dtype=torch.long)\n",
    "test_idx = torch.tensor(test_idx, dtype=torch.long)\n",
    "\n",
    "# Create the training and testing datasets using the new indices\n",
    "train_dataset_smote = TensorDataset(\n",
    "    shuffled_injuries[train_idx],\n",
    "    shuffled_games[train_idx],\n",
    "    shuffled_players[train_idx],\n",
    "    shuffled_labels[train_idx]\n",
    ")\n",
    "\n",
    "test_dataset_smote = TensorDataset(\n",
    "    shuffled_injuries[test_idx],\n",
    "    shuffled_games[test_idx],\n",
    "    shuffled_players[test_idx],\n",
    "    shuffled_labels[test_idx]\n",
    ")\n"
   ]
  },
  {
   "cell_type": "code",
   "execution_count": 293,
   "metadata": {},
   "outputs": [
    {
     "name": "stdout",
     "output_type": "stream",
     "text": [
      "Requirement already satisfied: matplotlib in /Users/michaeldelarosa/opt/anaconda3/lib/python3.9/site-packages (3.8.4)\n",
      "Requirement already satisfied: cycler>=0.10 in /Users/michaeldelarosa/opt/anaconda3/lib/python3.9/site-packages (from matplotlib) (0.12.1)\n",
      "Requirement already satisfied: numpy>=1.21 in /Users/michaeldelarosa/opt/anaconda3/lib/python3.9/site-packages (from matplotlib) (1.24.3)\n",
      "Requirement already satisfied: python-dateutil>=2.7 in /Users/michaeldelarosa/opt/anaconda3/lib/python3.9/site-packages (from matplotlib) (2.8.2)\n",
      "Requirement already satisfied: importlib-resources>=3.2.0 in /Users/michaeldelarosa/opt/anaconda3/lib/python3.9/site-packages (from matplotlib) (6.4.0)\n",
      "Requirement already satisfied: packaging>=20.0 in /Users/michaeldelarosa/opt/anaconda3/lib/python3.9/site-packages (from matplotlib) (23.1)\n",
      "Requirement already satisfied: kiwisolver>=1.3.1 in /Users/michaeldelarosa/opt/anaconda3/lib/python3.9/site-packages (from matplotlib) (1.4.5)\n",
      "Requirement already satisfied: contourpy>=1.0.1 in /Users/michaeldelarosa/opt/anaconda3/lib/python3.9/site-packages (from matplotlib) (1.2.1)\n",
      "Requirement already satisfied: pyparsing>=2.3.1 in /Users/michaeldelarosa/opt/anaconda3/lib/python3.9/site-packages (from matplotlib) (3.1.2)\n",
      "Requirement already satisfied: pillow>=8 in /Users/michaeldelarosa/opt/anaconda3/lib/python3.9/site-packages (from matplotlib) (10.2.0)\n",
      "Requirement already satisfied: fonttools>=4.22.0 in /Users/michaeldelarosa/opt/anaconda3/lib/python3.9/site-packages (from matplotlib) (4.51.0)\n",
      "Requirement already satisfied: zipp>=3.1.0 in /Users/michaeldelarosa/opt/anaconda3/lib/python3.9/site-packages (from importlib-resources>=3.2.0->matplotlib) (3.6.0)\n",
      "Requirement already satisfied: six>=1.5 in /Users/michaeldelarosa/opt/anaconda3/lib/python3.9/site-packages (from python-dateutil>=2.7->matplotlib) (1.16.0)\n"
     ]
    }
   ],
   "source": [
    "!pip install matplotlib"
   ]
  },
  {
   "cell_type": "code",
   "execution_count": 302,
   "metadata": {},
   "outputs": [],
   "source": [
    "# Defining models and helper functions\n",
    "# Define DataLoader\n",
    "batch_size = 64\n",
    "train_loader = DataLoader(train_dataset_smote, batch_size=batch_size, shuffle=True)\n",
    "test_loader = DataLoader(test_dataset_smote, batch_size=batch_size, shuffle=True)\n",
    "\n",
    "class TransformerModel_PI(nn.Module):\n",
    "    def __init__(self):\n",
    "        super(TransformerModel_PI, self).__init__()\n",
    "        self.encoder_layer = nn.TransformerEncoderLayer(d_model=6, nhead=3,dropout = 0.1)\n",
    "        self.transformer_encoder = nn.TransformerEncoder(self.encoder_layer, num_layers=6)\n",
    "        self.init_weights()\n",
    "\n",
    "    def forward(self, src):\n",
    "        src = self.encoder_layer(src)\n",
    "        if torch.isnan(src).any():\n",
    "            print(\"NaNs detected after encoder layer\")\n",
    "        encoded = self.transformer_encoder(src)\n",
    "        if torch.isnan(encoded).any():\n",
    "            print(\"NaNs detected after transformer encoder\")\n",
    "        output = encoded.mean(dim=1, keepdim=True)\n",
    "        if torch.isnan(output).any():\n",
    "            print(\"NaNs detected after mean pooling\")\n",
    "        return output\n",
    "        #encoded = self.transformer_encoder(src)\n",
    "        #return encoded.mean(dim=1, keepdim=True)  # average pooling\n",
    "\n",
    "    def init_weights(self):\n",
    "        for m in self.modules():\n",
    "            if isinstance(m, nn.Linear):\n",
    "                nn.init.xavier_uniform_(m.weight)\n",
    "                if m.bias is not None:\n",
    "                    nn.init.constant_(m.bias, 0)\n",
    "\n",
    "class TransformerModel_PG(nn.Module):\n",
    "    def __init__(self):\n",
    "        super(TransformerModel_PG, self).__init__()\n",
    "        self.encoder_layer = nn.TransformerEncoderLayer(d_model=5, nhead=5,dropout = 0.1)\n",
    "        self.transformer_encoder = nn.TransformerEncoder(self.encoder_layer, num_layers=6)\n",
    "        self.init_weights()\n",
    "\n",
    "    def forward(self, src):\n",
    "        src = self.encoder_layer(src)\n",
    "        if torch.isnan(src).any():\n",
    "            print(\"NaNs detected after encoder layer\")\n",
    "        encoded = self.transformer_encoder(src)\n",
    "        if torch.isnan(encoded).any():\n",
    "            print(\"NaNs detected after transformer encoder\")\n",
    "        output = encoded.mean(dim=1, keepdim=True)\n",
    "        if torch.isnan(output).any():\n",
    "            print(\"NaNs detected after mean pooling\")\n",
    "        return output\n",
    "        #encoded = self.transformer_encoder(src)\n",
    "        #return encoded.mean(dim=1, keepdim=True)  # average pooling\n",
    "\n",
    "    def init_weights(self):\n",
    "        for m in self.modules():\n",
    "            if isinstance(m, nn.Linear):\n",
    "                nn.init.xavier_uniform_(m.weight)\n",
    "                if m.bias is not None:\n",
    "                    nn.init.constant_(m.bias, 0)\n",
    "\n",
    "class MultilayerPerceptron(nn.Module):\n",
    "    def __init__(self, input_dim):\n",
    "        super(MultilayerPerceptron, self).__init__()\n",
    "        self.fc1 = nn.Linear(input_dim, 256)\n",
    "        self.relu = nn.ReLU()\n",
    "        self.fc2 = nn.Linear(256, 128)\n",
    "        self.fc3 = nn.Linear(128, 2)  # Binary classification\n",
    "        self.init_weights()\n",
    "\n",
    "    def forward(self, x):\n",
    "        x = self.relu(self.fc1(x))\n",
    "        x = self.relu(self.fc2(x))\n",
    "        return self.fc3(x)\n",
    "\n",
    "    def init_weights(self):\n",
    "        for m in self.modules():\n",
    "            if isinstance(m, nn.Linear):\n",
    "                nn.init.xavier_uniform_(m.weight)\n",
    "                if m.bias is not None:\n",
    "                    nn.init.constant_(m.bias, 0)\n",
    "\n",
    "def ensure_2d(tensor):\n",
    "    \"\"\" Ensure tensor is 2D, adding a batch dimension if necessary. \"\"\"\n",
    "    if tensor.dim() == 1:\n",
    "        tensor = tensor.unsqueeze(0)  # Add a batch dimension if missing\n",
    "    return tensor"
   ]
  },
  {
   "cell_type": "code",
   "execution_count": 304,
   "metadata": {},
   "outputs": [
    {
     "name": "stderr",
     "output_type": "stream",
     "text": [
      "/Users/michaeldelarosa/opt/anaconda3/lib/python3.9/site-packages/torch/nn/modules/transformer.py:286: UserWarning: enable_nested_tensor is True, but self.use_nested_tensor is False because encoder_layer.self_attn.batch_first was not True(use batch_first for better inference performance)\n",
      "  warnings.warn(f\"enable_nested_tensor is True, but self.use_nested_tensor is False because {why_not_sparsity_fast_path}\")\n"
     ]
    },
    {
     "name": "stdout",
     "output_type": "stream",
     "text": [
      "Epoch [1/15], Loss: 1.2850, Test Accuracy: 34.97%\n",
      "Epoch [2/15], Loss: 2.8538, Test Accuracy: 34.27%\n",
      "Epoch [3/15], Loss: 1.9388, Test Accuracy: 34.27%\n",
      "Epoch [4/15], Loss: 1.1336, Test Accuracy: 65.73%\n",
      "Epoch [5/15], Loss: 1.0624, Test Accuracy: 65.73%\n",
      "Epoch [6/15], Loss: 0.7563, Test Accuracy: 34.27%\n",
      "Epoch [7/15], Loss: 1.4365, Test Accuracy: 65.73%\n",
      "Epoch [8/15], Loss: 0.5688, Test Accuracy: 64.34%\n",
      "Epoch [9/15], Loss: 0.6920, Test Accuracy: 63.64%\n",
      "Epoch [10/15], Loss: 0.6068, Test Accuracy: 64.34%\n",
      "Epoch [11/15], Loss: 0.8038, Test Accuracy: 65.73%\n",
      "Epoch [12/15], Loss: 1.0038, Test Accuracy: 65.73%\n",
      "Epoch [13/15], Loss: 0.9398, Test Accuracy: 40.56%\n",
      "Epoch [14/15], Loss: 0.6451, Test Accuracy: 60.84%\n",
      "Epoch [15/15], Loss: 0.6520, Test Accuracy: 56.64%\n"
     ]
    }
   ],
   "source": [
    "# Training and testing loop\n",
    "import matplotlib.pyplot as plt\n",
    "\n",
    "train_losses = []\n",
    "test_losses = []\n",
    "test_accuracies = []\n",
    "\n",
    "# Important for unbalanced data\n",
    "classes = np.unique(labels)\n",
    "class_weights = compute_class_weight('balanced', classes=np.unique(labels), y=labels)\n",
    "class_weights_tensor = torch.tensor(class_weights, dtype=torch.float)\n",
    "\n",
    "# Initialize the loss function with these weights\n",
    "#criterion = nn.CrossEntropyLoss(weight=class_weights_tensor)\n",
    "criterion = nn.CrossEntropyLoss()\n",
    "past_injuries_transformer = TransformerModel_PI()\n",
    "past_games_transformer = TransformerModel_PG()\n",
    "mlp = MultilayerPerceptron(input_dim= 11)\n",
    "\n",
    "parameters = list(past_injuries_transformer.parameters()) + list(past_games_transformer.parameters()) + list(mlp.parameters())\n",
    "optimizer = torch.optim.Adam(parameters, lr=0.001)\n",
    "\n",
    "num_epochs = 15  # Define number of epochs\n",
    "for epoch in range(num_epochs):\n",
    "    past_injuries_transformer.train()\n",
    "    past_games_transformer.train()\n",
    "    mlp.train()\n",
    "    total_loss = 0\n",
    "    num_batches = 0\n",
    "\n",
    "    \n",
    "    for past_injuries, past_games, current_game_player, label in train_loader:\n",
    "        past_injuries = ensure_2d(past_injuries)\n",
    "        past_games = ensure_2d(past_games)\n",
    "        current_game_player = ensure_2d(current_game_player)\n",
    "        optimizer.zero_grad()\n",
    "        past_injuries_encoded = past_injuries_transformer(past_injuries)\n",
    "        past_games_encoded = past_games_transformer(past_games)\n",
    "\n",
    "        combined_features = torch.cat((past_injuries_encoded, past_games_encoded, current_game_player), dim=1)\n",
    "        outputs = mlp(combined_features)\n",
    "        loss = criterion(outputs, label)\n",
    "        if torch.isnan(loss):\n",
    "            print(\"NaN detected in loss, stopping training\")\n",
    "            break\n",
    "        loss.backward()\n",
    "        #torch.nn.utils.clip_grad_norm_(parameters, max_norm=1.0)\n",
    "        optimizer.step()\n",
    "\n",
    "        total_loss += loss.item()\n",
    "        num_batches += 1\n",
    "    train_losses.append(total_loss / num_batches)\n",
    "\n",
    "    if torch.isnan(loss):\n",
    "        print(f\"Stopped at Epoch {epoch+1} due to NaN in loss\")\n",
    "        break\n",
    "    # Testing phase\n",
    "    past_injuries_transformer.eval()\n",
    "    past_games_transformer.eval()\n",
    "    mlp.eval()\n",
    "    test_loss = 0\n",
    "    correct = 0\n",
    "    total = 0\n",
    "    with torch.no_grad():\n",
    "        for past_injuries, past_games, current_game_player, label in test_loader:\n",
    "            past_injuries = ensure_2d(past_injuries)\n",
    "            past_games = ensure_2d(past_games)\n",
    "            current_game_player = ensure_2d(current_game_player)\n",
    "            past_injuries_encoded = past_injuries_transformer(past_injuries)\n",
    "            past_games_encoded = past_games_transformer(past_games)\n",
    "\n",
    "            combined_features = torch.cat((past_injuries_encoded, past_games_encoded, current_game_player), dim=1)\n",
    "            outputs = mlp(combined_features)\n",
    "            _, predicted = torch.max(outputs.data, 1)\n",
    "            total += label.size(0)\n",
    "            correct += (predicted == label).sum().item()\n",
    "            loss = criterion(outputs, label)\n",
    "            test_loss += loss.item()\n",
    "\n",
    "    test_losses.append(test_loss / len(test_loader))\n",
    "    accuracy = 100 * correct / total\n",
    "    test_accuracies.append(accuracy)\n",
    "    print(f'Epoch [{epoch+1}/{num_epochs}], Loss: {loss.item():.4f}, Test Accuracy: {accuracy:.2f}%')"
   ]
  },
  {
   "cell_type": "code",
   "execution_count": 305,
   "metadata": {},
   "outputs": [
    {
     "data": {
      "image/png": "[encoded data removed]",
      "text/plain": [
       "<Figure size 864x432 with 2 Axes>"
      ]
     },
     "metadata": {
      "needs_background": "light"
     },
     "output_type": "display_data"
    }
   ],
   "source": [
    "plt.figure(figsize=(12, 6))\n",
    "\n",
    "# Plot training and test loss\n",
    "plt.subplot(1, 2, 1)\n",
    "plt.plot(train_losses, label='Train Loss')\n",
    "plt.plot(test_losses, label='Test Loss')\n",
    "plt.title('Training and Test Loss')\n",
    "plt.xlabel('Epoch')\n",
    "plt.ylabel('Loss')\n",
    "plt.legend()\n",
    "\n",
    "# Plot test accuracy\n",
    "plt.subplot(1, 2, 2)\n",
    "plt.plot(test_accuracies, label='Test Accuracy')\n",
    "plt.title('Test Accuracy')\n",
    "plt.xlabel('Epoch')\n",
    "plt.ylabel('Accuracy (%)')\n",
    "plt.legend()\n",
    "\n",
    "plt.show()"
   ]
  },
  {
   "cell_type": "code",
   "execution_count": 301,
   "metadata": {},
   "outputs": [
    {
     "name": "stdout",
     "output_type": "stream",
     "text": [
      "tensor([0, 0, 0, 0, 0, 0, 0, 0, 0, 0, 0, 0, 0, 0, 0])\n",
      "tensor([0, 1, 1, 0, 0, 0, 1, 0, 0, 0, 0, 0, 1, 0, 0])\n"
     ]
    }
   ],
   "source": [
    "print(predicted)\n",
    "print(label)"
   ]
  }
 ],
 "metadata": {
  "kernelspec": {
   "display_name": "base",
   "language": "python",
   "name": "python3"
  },
  "language_info": {
   "codemirror_mode": {
    "name": "ipython",
    "version": 3
   },
   "file_extension": ".py",
   "mimetype": "text/x-python",
   "name": "python",
   "nbconvert_exporter": "python",
   "pygments_lexer": "ipython3",
   "version": "3.9.18"
  },
  "orig_nbformat": 4,
  "vscode": {
   "interpreter": {
    "hash": "2401b4f7c25fe93339ad283a786b6ff44449ccf233186430dc9dbdcb5ce85e72"
   }
  }
 },
 "nbformat": 4,
 "nbformat_minor": 2
}
